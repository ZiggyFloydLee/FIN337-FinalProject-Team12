{
 "cells": [
  {
   "cell_type": "markdown",
   "metadata": {},
   "source": [
    "Modeling Notebook"
   ]
  },
  {
   "cell_type": "code",
   "execution_count": 2,
   "metadata": {},
   "outputs": [
    {
     "name": "stderr",
     "output_type": "stream",
     "text": [
      "c:\\Users\\ziggy\\anaconda3\\Lib\\site-packages\\pandas\\core\\arrays\\masked.py:60: UserWarning: Pandas requires version '1.3.6' or newer of 'bottleneck' (version '1.3.5' currently installed).\n",
      "  from pandas.core import (\n"
     ]
    }
   ],
   "source": [
    "import pandas as pd\n",
    "import numpy as np"
   ]
  },
  {
   "cell_type": "code",
   "execution_count": 17,
   "metadata": {},
   "outputs": [
    {
     "data": {
      "text/html": [
       "<div>\n",
       "<style scoped>\n",
       "    .dataframe tbody tr th:only-of-type {\n",
       "        vertical-align: middle;\n",
       "    }\n",
       "\n",
       "    .dataframe tbody tr th {\n",
       "        vertical-align: top;\n",
       "    }\n",
       "\n",
       "    .dataframe thead th {\n",
       "        text-align: right;\n",
       "    }\n",
       "</style>\n",
       "<table border=\"1\" class=\"dataframe\">\n",
       "  <thead>\n",
       "    <tr style=\"text-align: right;\">\n",
       "      <th></th>\n",
       "      <th>SPAC IPO</th>\n",
       "      <th>Date of IPO</th>\n",
       "      <th>CUSIP</th>\n",
       "      <th>MergeKey</th>\n",
       "      <th>ClosestMatch</th>\n",
       "    </tr>\n",
       "  </thead>\n",
       "  <tbody>\n",
       "    <tr>\n",
       "      <th>0</th>\n",
       "      <td>Aetherium Acquisition Corp.</td>\n",
       "      <td>12/29/2021</td>\n",
       "      <td>00809J200</td>\n",
       "      <td>Aetherium Acq</td>\n",
       "      <td>('Aetherium Acq', 90, 15110)</td>\n",
       "    </tr>\n",
       "    <tr>\n",
       "      <th>1</th>\n",
       "      <td>Welsbach Technology Metals Acquisition Corp.</td>\n",
       "      <td>12/27/2021</td>\n",
       "      <td>950415208</td>\n",
       "      <td>Metals Acquisition Corp</td>\n",
       "      <td>('Metals Acquisition Corp', 90, 14740)</td>\n",
       "    </tr>\n",
       "    <tr>\n",
       "      <th>2</th>\n",
       "      <td>Arogo Capital Acquisition Corp.</td>\n",
       "      <td>12/23/2021</td>\n",
       "      <td>42644203</td>\n",
       "      <td>AR Capital Acquisition Corp</td>\n",
       "      <td>('AR Capital Acquisition Corp', 95, 12564)</td>\n",
       "    </tr>\n",
       "    <tr>\n",
       "      <th>3</th>\n",
       "      <td>Gardiner Healthcare Acquisitions Corp.</td>\n",
       "      <td>12/21/2021</td>\n",
       "      <td>365506203</td>\n",
       "      <td>Healthcare Acquisition</td>\n",
       "      <td>('Healthcare Acquisition', 90, 7056)</td>\n",
       "    </tr>\n",
       "    <tr>\n",
       "      <th>4</th>\n",
       "      <td>Larkspur Health Acquisition Corp.</td>\n",
       "      <td>12/20/2021</td>\n",
       "      <td>51724W206</td>\n",
       "      <td>Larkspur Health Acquisition Co</td>\n",
       "      <td>('Larkspur Health Acquisition Co', 97, 15104)</td>\n",
       "    </tr>\n",
       "    <tr>\n",
       "      <th>...</th>\n",
       "      <td>...</td>\n",
       "      <td>...</td>\n",
       "      <td>...</td>\n",
       "      <td>...</td>\n",
       "      <td>...</td>\n",
       "    </tr>\n",
       "    <tr>\n",
       "      <th>876</th>\n",
       "      <td>M III Acquisition Corp.</td>\n",
       "      <td>7/7/2016</td>\n",
       "      <td>55378T203</td>\n",
       "      <td>M III Acquisition Corp</td>\n",
       "      <td>('M III Acquisition Corp', 100, 12872)</td>\n",
       "    </tr>\n",
       "    <tr>\n",
       "      <th>877</th>\n",
       "      <td>Landcadia Holdings, Inc.</td>\n",
       "      <td>6/1/2016</td>\n",
       "      <td>51476W206</td>\n",
       "      <td>NaN</td>\n",
       "      <td>NaN</td>\n",
       "    </tr>\n",
       "    <tr>\n",
       "      <th>878</th>\n",
       "      <td>KLR Energy Acquisition Corp.</td>\n",
       "      <td>3/16/2016</td>\n",
       "      <td>777385204</td>\n",
       "      <td>NaN</td>\n",
       "      <td>NaN</td>\n",
       "    </tr>\n",
       "    <tr>\n",
       "      <th>879</th>\n",
       "      <td>Jensyn Acquisition Corp.</td>\n",
       "      <td>3/7/2016</td>\n",
       "      <td>47632B201</td>\n",
       "      <td>Jensyn Acquisition Corp</td>\n",
       "      <td>('Jensyn Acquisition Corp', 100, 12832)</td>\n",
       "    </tr>\n",
       "    <tr>\n",
       "      <th>880</th>\n",
       "      <td>Silver Run Acquisition Corp.</td>\n",
       "      <td>2/29/2016</td>\n",
       "      <td>82811P200</td>\n",
       "      <td>NaN</td>\n",
       "      <td>NaN</td>\n",
       "    </tr>\n",
       "  </tbody>\n",
       "</table>\n",
       "<p>881 rows × 5 columns</p>\n",
       "</div>"
      ],
      "text/plain": [
       "                                        SPAC IPO  Date of IPO      CUSIP  \\\n",
       "0                     Aetherium Acquisition Corp.  12/29/2021  00809J200   \n",
       "1    Welsbach Technology Metals Acquisition Corp.  12/27/2021  950415208   \n",
       "2                 Arogo Capital Acquisition Corp.  12/23/2021   42644203   \n",
       "3          Gardiner Healthcare Acquisitions Corp.  12/21/2021  365506203   \n",
       "4               Larkspur Health Acquisition Corp.  12/20/2021  51724W206   \n",
       "..                                            ...         ...        ...   \n",
       "876                       M III Acquisition Corp.    7/7/2016  55378T203   \n",
       "877                      Landcadia Holdings, Inc.    6/1/2016  51476W206   \n",
       "878                  KLR Energy Acquisition Corp.   3/16/2016  777385204   \n",
       "879                      Jensyn Acquisition Corp.    3/7/2016  47632B201   \n",
       "880                  Silver Run Acquisition Corp.   2/29/2016  82811P200   \n",
       "\n",
       "                           MergeKey  \\\n",
       "0                     Aetherium Acq   \n",
       "1           Metals Acquisition Corp   \n",
       "2       AR Capital Acquisition Corp   \n",
       "3            Healthcare Acquisition   \n",
       "4    Larkspur Health Acquisition Co   \n",
       "..                              ...   \n",
       "876          M III Acquisition Corp   \n",
       "877                             NaN   \n",
       "878                             NaN   \n",
       "879         Jensyn Acquisition Corp   \n",
       "880                             NaN   \n",
       "\n",
       "                                      ClosestMatch  \n",
       "0                     ('Aetherium Acq', 90, 15110)  \n",
       "1           ('Metals Acquisition Corp', 90, 14740)  \n",
       "2       ('AR Capital Acquisition Corp', 95, 12564)  \n",
       "3             ('Healthcare Acquisition', 90, 7056)  \n",
       "4    ('Larkspur Health Acquisition Co', 97, 15104)  \n",
       "..                                             ...  \n",
       "876         ('M III Acquisition Corp', 100, 12872)  \n",
       "877                                            NaN  \n",
       "878                                            NaN  \n",
       "879        ('Jensyn Acquisition Corp', 100, 12832)  \n",
       "880                                            NaN  \n",
       "\n",
       "[881 rows x 5 columns]"
      ]
     },
     "execution_count": 17,
     "metadata": {},
     "output_type": "execute_result"
    }
   ],
   "source": [
    "ccm_data = pd.read_csv('inputs/cleaned_ccm.csv')\n",
    "ccm_data\n",
    "\n",
    "SPACreadyForMerge = pd.read_csv('inputs/SPACReadyForMerge.csv')\n",
    "SPACreadyForMerge.dropna()\n",
    "SPACreadyForMerge"
   ]
  },
  {
   "cell_type": "code",
   "execution_count": 13,
   "metadata": {},
   "outputs": [
    {
     "data": {
      "text/plain": [
       "\"('Aetherium Acq', 90, 15110)\""
      ]
     },
     "execution_count": 13,
     "metadata": {},
     "output_type": "execute_result"
    }
   ],
   "source": [
    "test = SPACreadyForMerge['ClosestMatch'][0]\n",
    "test"
   ]
  },
  {
   "cell_type": "code",
   "execution_count": null,
   "metadata": {},
   "outputs": [],
   "source": []
  }
 ],
 "metadata": {
  "kernelspec": {
   "display_name": "base",
   "language": "python",
   "name": "python3"
  },
  "language_info": {
   "codemirror_mode": {
    "name": "ipython",
    "version": 3
   },
   "file_extension": ".py",
   "mimetype": "text/x-python",
   "name": "python",
   "nbconvert_exporter": "python",
   "pygments_lexer": "ipython3",
   "version": "3.11.5"
  }
 },
 "nbformat": 4,
 "nbformat_minor": 2
}
