{
 "cells": [
  {
   "cell_type": "code",
   "execution_count": 1,
   "id": "8f1e7da6-2a8c-495a-96f5-412a5fb3dbc7",
   "metadata": {
    "tags": []
   },
   "outputs": [
    {
     "name": "stderr",
     "output_type": "stream",
     "text": [
      "C:\\Users\\chenm\\AppData\\Local\\Temp\\ipykernel_22756\\3464919961.py:5: DtypeWarning: Columns (30,34,953,954,955,956,963,964,965,966,967) have mixed types. Specify dtype option on import or set low_memory=False.\n",
      "  data = pd.read_csv(data_path)\n"
     ]
    },
    {
     "name": "stdout",
     "output_type": "stream",
     "text": [
      "<class 'pandas.core.frame.DataFrame'>\n",
      "RangeIndex: 27790 entries, 0 to 27789\n",
      "Columns: 969 entries, Unnamed: 0.1 to IS_SPAC\n",
      "dtypes: float64(926), int64(9), object(34)\n",
      "memory usage: 205.4+ MB\n"
     ]
    },
    {
     "data": {
      "text/plain": [
       "(   Unnamed: 0.1  Unnamed: 0  lpermno  lpermco  gvkey    datadate  fyear  \\\n",
       " 0             0           0  85073.0  32010.0   2731  2000-12-31   2000   \n",
       " 1             1           1  85073.0  32010.0   2731  2001-12-31   2001   \n",
       " 2             2           2  85073.0  32010.0   2731  2002-12-31   2002   \n",
       " 3             3           3  85073.0  32010.0   2731  2003-12-31   2003   \n",
       " 4             4           4  14055.0  54485.0   3169  2013-12-31   2013   \n",
       " \n",
       "   indfmt consol popsrc  ... Internet Post-issue shares CRSP perm Founding  \\\n",
       " 0   INDL      C      D  ...      NaN               NaN       NaN      NaN   \n",
       " 1   INDL      C      D  ...      NaN               NaN       NaN      NaN   \n",
       " 2   INDL      C      D  ...      NaN               NaN       NaN      NaN   \n",
       " 3   INDL      C      D  ...      NaN               NaN       NaN      NaN   \n",
       " 4   INDL      C      D  ...      NaN               NaN       NaN      NaN   \n",
       " \n",
       "   Comapny Name Date of IPO Cusip  CCM_Cusip  IPO_age_Cusip  IS_SPAC  \n",
       " 0          NaN         NaN   NaN        NaN            NaN      NaN  \n",
       " 1          NaN         NaN   NaN        NaN            NaN      NaN  \n",
       " 2          NaN         NaN   NaN        NaN            NaN      NaN  \n",
       " 3          NaN         NaN   NaN        NaN            NaN      NaN  \n",
       " 4          NaN         NaN   NaN        NaN            NaN      NaN  \n",
       " \n",
       " [5 rows x 969 columns],\n",
       " None,\n",
       "        Unnamed: 0.1    Unnamed: 0       lpermno       lpermco          gvkey  \\\n",
       " count  27790.000000  27790.000000  27790.000000  27790.000000   27790.000000   \n",
       " mean   13894.500000  13892.875027  68243.898884  42200.963296  121059.078014   \n",
       " std     8022.426327   8021.898574  33322.635638  14188.052880   65380.353570   \n",
       " min        0.000000      0.000000  10158.000000    377.000000    2731.000000   \n",
       " 25%     6947.250000   6945.250000  16681.000000  36608.000000   63606.000000   \n",
       " 50%    13894.500000  13892.500000  87492.000000  46110.000000  138707.000000   \n",
       " 75%    20841.750000  20839.750000  90373.750000  53648.000000  170761.000000   \n",
       " max    27789.000000  27787.000000  93436.000000  58620.000000  328795.000000   \n",
       " \n",
       "               fyear         adrr          ajex           ajp        currtr  \\\n",
       " count  27790.000000  2338.000000  2.779000e+04  2.779000e+04  27790.000000   \n",
       " mean    2007.629039    35.786704  1.020005e+00  1.018008e+00      0.974419   \n",
       " std        5.784371   303.082361  1.314372e+00  1.312461e+00      0.170206   \n",
       " min     2000.000000     0.000200  5.000000e-08  5.000000e-08      0.000102   \n",
       " 25%     2002.000000     1.000000  1.000000e+00  1.000000e+00      1.000000   \n",
       " 50%     2007.000000     2.000000  1.000000e+00  1.000000e+00      1.000000   \n",
       " 75%     2013.000000     8.000000  1.000000e+00  1.000000e+00      1.000000   \n",
       " max     2018.000000  5000.000000  5.000000e+01  5.000000e+01      1.985500   \n",
       " \n",
       "        ...          auop        auopic    offer date         VC  Dual  \\\n",
       " count  ...  23067.000000  16192.000000  9.900000e+01  99.000000  99.0   \n",
       " mean   ...      1.807431      0.499938  2.017058e+07   0.030303   1.0   \n",
       " std    ...      1.332071      0.564312  7.905097e+03   0.172292   0.0   \n",
       " min    ...      0.000000      0.000000  2.016022e+07   0.000000   1.0   \n",
       " 25%    ...      1.000000      0.000000  2.016096e+07   0.000000   1.0   \n",
       " 50%    ...      1.000000      0.000000  2.017062e+07   0.000000   1.0   \n",
       " 75%    ...      4.000000      1.000000  2.018036e+07   0.000000   1.0   \n",
       " max    ...      5.000000      3.000000  2.018112e+07   1.000000   1.0   \n",
       " \n",
       "        Internet  Post-issue shares     CRSP perm     Founding  IS_SPAC  \n",
       " count      99.0       9.900000e+01     99.000000    99.000000     99.0  \n",
       " mean        0.0       2.761852e+07  17034.232323  1567.484848      1.0  \n",
       " std         0.0       2.294696e+07    723.003441   869.099104      0.0  \n",
       " min         0.0      -9.000000e+00  15970.000000   -99.000000      1.0  \n",
       " 25%         0.0       9.470000e+06  16467.500000  2014.000000      1.0  \n",
       " 50%         0.0       2.335000e+07  16864.000000  2016.000000      1.0  \n",
       " 75%         0.0       3.806250e+07  17800.000000  2017.000000      1.0  \n",
       " max         0.0       1.125000e+08  18361.000000  2018.000000      1.0  \n",
       " \n",
       " [8 rows x 935 columns])"
      ]
     },
     "execution_count": 1,
     "metadata": {},
     "output_type": "execute_result"
    }
   ],
   "source": [
    "import pandas as pd\n",
    "\n",
    "# Load the dataset\n",
    "data_path = 'inputs/masterMerge.csv'\n",
    "data = pd.read_csv(data_path)\n",
    "\n",
    "# Display the first few rows of the dataset and its summary\n",
    "data.head(), data.info(), data.describe()"
   ]
  },
  {
   "cell_type": "code",
   "execution_count": 2,
   "id": "e5df0d9d-155a-4e75-ad90-4748e0e64846",
   "metadata": {
    "tags": []
   },
   "outputs": [
    {
     "ename": "KeyError",
     "evalue": "\"None of [Index(['feature1', 'feature2', 'feature3'], dtype='object')] are in the [columns]\"",
     "output_type": "error",
     "traceback": [
      "\u001b[1;31m---------------------------------------------------------------------------\u001b[0m",
      "\u001b[1;31mKeyError\u001b[0m                                  Traceback (most recent call last)",
      "Cell \u001b[1;32mIn[2], line 4\u001b[0m\n\u001b[0;32m      1\u001b[0m \u001b[38;5;28;01mfrom\u001b[39;00m \u001b[38;5;21;01msklearn\u001b[39;00m\u001b[38;5;21;01m.\u001b[39;00m\u001b[38;5;21;01mpreprocessing\u001b[39;00m \u001b[38;5;28;01mimport\u001b[39;00m StandardScaler\n\u001b[0;32m      3\u001b[0m scaler \u001b[38;5;241m=\u001b[39m StandardScaler()\n\u001b[1;32m----> 4\u001b[0m features \u001b[38;5;241m=\u001b[39m scaler\u001b[38;5;241m.\u001b[39mfit_transform(data[[\u001b[38;5;124m'\u001b[39m\u001b[38;5;124mfeature1\u001b[39m\u001b[38;5;124m'\u001b[39m, \u001b[38;5;124m'\u001b[39m\u001b[38;5;124mfeature2\u001b[39m\u001b[38;5;124m'\u001b[39m, \u001b[38;5;124m'\u001b[39m\u001b[38;5;124mfeature3\u001b[39m\u001b[38;5;124m'\u001b[39m]])\n",
      "File \u001b[1;32m~\\anaconda3\\Lib\\site-packages\\pandas\\core\\frame.py:3899\u001b[0m, in \u001b[0;36mDataFrame.__getitem__\u001b[1;34m(self, key)\u001b[0m\n\u001b[0;32m   3897\u001b[0m     \u001b[38;5;28;01mif\u001b[39;00m is_iterator(key):\n\u001b[0;32m   3898\u001b[0m         key \u001b[38;5;241m=\u001b[39m \u001b[38;5;28mlist\u001b[39m(key)\n\u001b[1;32m-> 3899\u001b[0m     indexer \u001b[38;5;241m=\u001b[39m \u001b[38;5;28mself\u001b[39m\u001b[38;5;241m.\u001b[39mcolumns\u001b[38;5;241m.\u001b[39m_get_indexer_strict(key, \u001b[38;5;124m\"\u001b[39m\u001b[38;5;124mcolumns\u001b[39m\u001b[38;5;124m\"\u001b[39m)[\u001b[38;5;241m1\u001b[39m]\n\u001b[0;32m   3901\u001b[0m \u001b[38;5;66;03m# take() does not accept boolean indexers\u001b[39;00m\n\u001b[0;32m   3902\u001b[0m \u001b[38;5;28;01mif\u001b[39;00m \u001b[38;5;28mgetattr\u001b[39m(indexer, \u001b[38;5;124m\"\u001b[39m\u001b[38;5;124mdtype\u001b[39m\u001b[38;5;124m\"\u001b[39m, \u001b[38;5;28;01mNone\u001b[39;00m) \u001b[38;5;241m==\u001b[39m \u001b[38;5;28mbool\u001b[39m:\n",
      "File \u001b[1;32m~\\anaconda3\\Lib\\site-packages\\pandas\\core\\indexes\\base.py:6115\u001b[0m, in \u001b[0;36mIndex._get_indexer_strict\u001b[1;34m(self, key, axis_name)\u001b[0m\n\u001b[0;32m   6112\u001b[0m \u001b[38;5;28;01melse\u001b[39;00m:\n\u001b[0;32m   6113\u001b[0m     keyarr, indexer, new_indexer \u001b[38;5;241m=\u001b[39m \u001b[38;5;28mself\u001b[39m\u001b[38;5;241m.\u001b[39m_reindex_non_unique(keyarr)\n\u001b[1;32m-> 6115\u001b[0m \u001b[38;5;28mself\u001b[39m\u001b[38;5;241m.\u001b[39m_raise_if_missing(keyarr, indexer, axis_name)\n\u001b[0;32m   6117\u001b[0m keyarr \u001b[38;5;241m=\u001b[39m \u001b[38;5;28mself\u001b[39m\u001b[38;5;241m.\u001b[39mtake(indexer)\n\u001b[0;32m   6118\u001b[0m \u001b[38;5;28;01mif\u001b[39;00m \u001b[38;5;28misinstance\u001b[39m(key, Index):\n\u001b[0;32m   6119\u001b[0m     \u001b[38;5;66;03m# GH 42790 - Preserve name from an Index\u001b[39;00m\n",
      "File \u001b[1;32m~\\anaconda3\\Lib\\site-packages\\pandas\\core\\indexes\\base.py:6176\u001b[0m, in \u001b[0;36mIndex._raise_if_missing\u001b[1;34m(self, key, indexer, axis_name)\u001b[0m\n\u001b[0;32m   6174\u001b[0m     \u001b[38;5;28;01mif\u001b[39;00m use_interval_msg:\n\u001b[0;32m   6175\u001b[0m         key \u001b[38;5;241m=\u001b[39m \u001b[38;5;28mlist\u001b[39m(key)\n\u001b[1;32m-> 6176\u001b[0m     \u001b[38;5;28;01mraise\u001b[39;00m \u001b[38;5;167;01mKeyError\u001b[39;00m(\u001b[38;5;124mf\u001b[39m\u001b[38;5;124m\"\u001b[39m\u001b[38;5;124mNone of [\u001b[39m\u001b[38;5;132;01m{\u001b[39;00mkey\u001b[38;5;132;01m}\u001b[39;00m\u001b[38;5;124m] are in the [\u001b[39m\u001b[38;5;132;01m{\u001b[39;00maxis_name\u001b[38;5;132;01m}\u001b[39;00m\u001b[38;5;124m]\u001b[39m\u001b[38;5;124m\"\u001b[39m)\n\u001b[0;32m   6178\u001b[0m not_found \u001b[38;5;241m=\u001b[39m \u001b[38;5;28mlist\u001b[39m(ensure_index(key)[missing_mask\u001b[38;5;241m.\u001b[39mnonzero()[\u001b[38;5;241m0\u001b[39m]]\u001b[38;5;241m.\u001b[39munique())\n\u001b[0;32m   6179\u001b[0m \u001b[38;5;28;01mraise\u001b[39;00m \u001b[38;5;167;01mKeyError\u001b[39;00m(\u001b[38;5;124mf\u001b[39m\u001b[38;5;124m\"\u001b[39m\u001b[38;5;132;01m{\u001b[39;00mnot_found\u001b[38;5;132;01m}\u001b[39;00m\u001b[38;5;124m not in index\u001b[39m\u001b[38;5;124m\"\u001b[39m)\n",
      "\u001b[1;31mKeyError\u001b[0m: \"None of [Index(['feature1', 'feature2', 'feature3'], dtype='object')] are in the [columns]\""
     ]
    }
   ],
   "source": [
    "from sklearn.preprocessing import StandardScaler\n",
    "\n",
    "scaler = StandardScaler()\n",
    "features = scaler.fit_transform(data[['', 'feature2', 'feature3']])\n"
   ]
  },
  {
   "cell_type": "code",
   "execution_count": 3,
   "id": "7d5ab1d1-dc14-4d2e-bb1a-66d66769ee36",
   "metadata": {
    "tags": []
   },
   "outputs": [
    {
     "ename": "NameError",
     "evalue": "name 'features' is not defined",
     "output_type": "error",
     "traceback": [
      "\u001b[1;31m---------------------------------------------------------------------------\u001b[0m",
      "\u001b[1;31mNameError\u001b[0m                                 Traceback (most recent call last)",
      "Cell \u001b[1;32mIn[3], line 4\u001b[0m\n\u001b[0;32m      1\u001b[0m \u001b[38;5;28;01mfrom\u001b[39;00m \u001b[38;5;21;01msklearn\u001b[39;00m\u001b[38;5;21;01m.\u001b[39;00m\u001b[38;5;21;01mneighbors\u001b[39;00m \u001b[38;5;28;01mimport\u001b[39;00m KNeighborsClassifier\n\u001b[0;32m      3\u001b[0m knn \u001b[38;5;241m=\u001b[39m KNeighborsClassifier(n_neighbors\u001b[38;5;241m=\u001b[39m\u001b[38;5;241m5\u001b[39m)\n\u001b[1;32m----> 4\u001b[0m knn\u001b[38;5;241m.\u001b[39mfit(features, data[\u001b[38;5;124m'\u001b[39m\u001b[38;5;124mtarget\u001b[39m\u001b[38;5;124m'\u001b[39m])\n",
      "\u001b[1;31mNameError\u001b[0m: name 'features' is not defined"
     ]
    }
   ],
   "source": [
    "from sklearn.neighbors import KNeighborsClassifier\n",
    "\n",
    "knn = KNeighborsClassifier(n_neighbors=5)\n",
    "knn.fit(features, data['target'])\n"
   ]
  },
  {
   "cell_type": "code",
   "execution_count": null,
   "id": "8a58c050-2d3f-4a4d-bd3f-a8607784dda9",
   "metadata": {},
   "outputs": [],
   "source": []
  }
 ],
 "metadata": {
  "kernelspec": {
   "display_name": "Python 3 (ipykernel)",
   "language": "python",
   "name": "python3"
  },
  "language_info": {
   "codemirror_mode": {
    "name": "ipython",
    "version": 3
   },
   "file_extension": ".py",
   "mimetype": "text/x-python",
   "name": "python",
   "nbconvert_exporter": "python",
   "pygments_lexer": "ipython3",
   "version": "3.11.5"
  }
 },
 "nbformat": 4,
 "nbformat_minor": 5
}
