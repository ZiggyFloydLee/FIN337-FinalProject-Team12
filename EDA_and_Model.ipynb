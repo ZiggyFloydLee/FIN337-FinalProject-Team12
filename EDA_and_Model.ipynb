{
 "cells": [
  {
   "cell_type": "markdown",
   "metadata": {},
   "source": [
    "# Any and all pacakges used for cleaning and modeling"
   ]
  },
  {
   "cell_type": "code",
   "execution_count": null,
   "metadata": {},
   "outputs": [],
   "source": [
    "import pandas as pd\n",
    "# !pip install wrds\n",
    "import wrds\n",
    "import os\n",
    "import zipfile"
   ]
  },
  {
   "cell_type": "markdown",
   "metadata": {},
   "source": [
    "## Part 1: Merging SPAC and IPO data\n",
    "- Key Points: Self cleaned excel files with offering dates and firm names\n",
    "- Both read in seperately and merged on the date variabe"
   ]
  },
  {
   "cell_type": "code",
   "execution_count": null,
   "metadata": {},
   "outputs": [],
   "source": [
    "spac_data = pd.read_csv(\"inputs/SPACs2016-2021.csv\", header=0)\n",
    "IPO_data = pd.read_csv(\"inputs/IPO_data.csv\", header=0)\n"
   ]
  },
  {
   "cell_type": "code",
   "execution_count": null,
   "metadata": {},
   "outputs": [],
   "source": [
    "IPO_data['CUSIP'] = IPO_data['CUSIP'].apply(lambda x: str(x).zfill(9))\n",
    "IPO_data"
   ]
  },
  {
   "cell_type": "code",
   "execution_count": null,
   "metadata": {},
   "outputs": [],
   "source": [
    "IPO_data = IPO_data[IPO_data['CUSIP'] != '000000nan']\n",
    "IPO_data"
   ]
  },
  {
   "cell_type": "code",
   "execution_count": null,
   "metadata": {},
   "outputs": [],
   "source": [
    "spac_data['CUSIP'] = spac_data['CUSIP'].apply(lambda x: str(x).zfill(9))\n",
    "spac_data"
   ]
  },
  {
   "cell_type": "code",
   "execution_count": null,
   "metadata": {},
   "outputs": [],
   "source": [
    "spac_data = spac_data[spac_data['CUSIP'] != '000000nan']\n",
    "spac_data"
   ]
  },
  {
   "cell_type": "code",
   "execution_count": null,
   "metadata": {},
   "outputs": [],
   "source": [
    "merged_IPOnSPAC = pd.merge(left=IPO_data, right=spac_data, how='left', on='CUSIP')\n",
    "merged_IPOnSPAC['SPAC IPO '] = merged_IPOnSPAC['SPAC IPO '].notna().astype(int)\n",
    "merged_IPOnSPAC = merged_IPOnSPAC.drop(merged_IPOnSPAC.columns[-1], axis=1)\n",
    "merged_IPOnSPAC.to_csv('inputs/MergedIPO&SPAC.csv')\n",
    "\n"
   ]
  },
  {
   "cell_type": "code",
   "execution_count": null,
   "metadata": {},
   "outputs": [],
   "source": [
    "# # Convert 'offer date' from 'YYYYMMDD' to 'MM/DD/YYYY'\n",
    "# IPO_data['offer date'] = pd.to_datetime(IPO_data['offer date'],format='%Y%m%d')\n",
    "# IPO_data['offer date'] = IPO_data['offer date'].dt.strftime('%m/%d/%Y')\n",
    "\n",
    "# IPO_data.to_csv(\"inputs/IPO_data.csv\")\n",
    "\n"
   ]
  },
  {
   "cell_type": "code",
   "execution_count": null,
   "metadata": {},
   "outputs": [],
   "source": [
    "IPO_data.rename(columns={'offer date' : 'Date of IPO'}, inplace=True)"
   ]
  },
  {
   "cell_type": "code",
   "execution_count": null,
   "metadata": {},
   "outputs": [],
   "source": [
    "merged_dates_df = pd.merge(spac_data ,IPO_data, on='Date of IPO', how='inner')\n",
    "\n",
    "#merged_dates_df.to_csv('inputs/merged_dates.csv')\n",
    "merged_dates_df"
   ]
  },
  {
   "cell_type": "code",
   "execution_count": null,
   "metadata": {},
   "outputs": [],
   "source": [
    "#Reading in ccm data\n",
    "ccm_youngfirms = \"inputs/ccm_youngfirms_2000_2018.dta/ccm_youngfirms_2000_2018.dta\"\n",
    "\n",
    "if not os.path.exists(ccm_youngfirms):\n",
    "    zip_path = \"inputs/ccm_youngfirms_2000_2018.zip\"\n",
    "\n",
    "    with zipfile.ZipFile(zip_path,'r') as zip_ref:\n",
    "        zip_ref.extractall(\"inputs/ccm_youngfirms_2000_2018.dta\")\n",
    "        \n",
    "ccm_data = data = pd.read_stata(ccm_youngfirms)"
   ]
  },
  {
   "cell_type": "code",
   "execution_count": null,
   "metadata": {},
   "outputs": [],
   "source": [
    "ipo_data = pd.read_csv(\"inputs/IPO-age(9).csv\")\n",
    "\n",
    "merged_dates_df.rename(columns={'CUSIP' : 'cusip'}, inplace=True)\n",
    "merge_df_ccm = pd.merge(merged_dates_df, ccm_data, on='cusip', how='inner')\n",
    "\n"
   ]
  }
 ],
 "metadata": {
  "kernelspec": {
   "display_name": "base",
   "language": "python",
   "name": "python3"
  },
  "language_info": {
   "codemirror_mode": {
    "name": "ipython",
    "version": 3
   },
   "file_extension": ".py",
   "mimetype": "text/x-python",
   "name": "python",
   "nbconvert_exporter": "python",
   "pygments_lexer": "ipython3",
   "version": "3.11.5"
  }
 },
 "nbformat": 4,
 "nbformat_minor": 2
}
