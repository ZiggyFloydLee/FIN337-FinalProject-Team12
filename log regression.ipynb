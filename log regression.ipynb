{
 "cells": [
  {
   "cell_type": "code",
   "execution_count": 29,
   "id": "03dec441-4ab6-40a5-816d-93ca088b0b45",
   "metadata": {
    "tags": []
   },
   "outputs": [
    {
     "name": "stderr",
     "output_type": "stream",
     "text": [
      "/var/folders/x7/56zwk80s1dl703mqbltv_bq00000gn/T/ipykernel_45889/3609681319.py:6: DtypeWarning: Columns (30,34,953,954,955,956,963,964,965,966,967) have mixed types. Specify dtype option on import or set low_memory=False.\n",
      "  df = pd.read_csv(file_path)\n"
     ]
    },
    {
     "name": "stdout",
     "output_type": "stream",
     "text": [
      "[[27689     2]\n",
      " [   95     4]]\n",
      "Precision: 0.6666666666666666\n",
      "F1 Score: 0.0761904761904762\n",
      "Accuracy: 0.9965095358042462\n",
      "Recall: 0.04040404040404041\n"
     ]
    },
    {
     "name": "stderr",
     "output_type": "stream",
     "text": [
      "/Users/xujinyi/anaconda3/lib/python3.11/site-packages/sklearn/linear_model/_logistic.py:460: ConvergenceWarning: lbfgs failed to converge (status=1):\n",
      "STOP: TOTAL NO. of ITERATIONS REACHED LIMIT.\n",
      "\n",
      "Increase the number of iterations (max_iter) or scale the data as shown in:\n",
      "    https://scikit-learn.org/stable/modules/preprocessing.html\n",
      "Please also refer to the documentation for alternative solver options:\n",
      "    https://scikit-learn.org/stable/modules/linear_model.html#logistic-regression\n",
      "  n_iter_i = _check_optimize_result(\n"
     ]
    }
   ],
   "source": [
    "import pandas as pd\n",
    "from sklearn.metrics import confusion_matrix\n",
    "\n",
    "# Load the dataset\n",
    "file_path = 'inputs/masterMerge.csv'\n",
    "df = pd.read_csv(file_path)\n",
    "\n",
    "# Drop duplicates\n",
    "df.drop_duplicates(inplace=True)\n",
    "\n",
    "# Get the total number of instances in the dataset\n",
    "total_instances = len(df)\n",
    "\n",
    "# Define your features and the target variable\n",
    "features = ['adrr', 'curuscn', 'scf', 'src', 'acominc',\n",
    "                 'acox', 'at', 'am', 'ao', 'aoloch', 'aox', 'ap', 'at', 'caps', 'capx', 'cb',\n",
    "                 'ch', 'che', 'clg', 'cogs', 'csho', 'cshrt', 'cstk', 'dd', 'dlc',\n",
    "                 'dn', 'do', 'dt', 'ebit', 'ebitda', 'epspi', 'fca', 'ffo', 'gdwl',\n",
    "                 'gp', 'ib', 'intan', 'invt', 'lt', 'lct', 'ni', 'niadj', 'np', 'pi', 'ppegt',\n",
    "                 'pnrsho', 'ppent', 're', 'revt', 'sale', 'seq', 'tdc', 'teq', 'tstk', 'txt',\n",
    "                 'wcap', 'naicsh', 'mkvalt', 'acchg', 'accrt', 'amc', 'ano', 'arce', 'cshi',\n",
    "                 'depc', 'derhedgl']\n",
    "target = 'IS_SPAC'\n",
    "\n",
    "# Ensure the target column exists\n",
    "if target not in df.columns:\n",
    "    raise ValueError(f\"Target column '{target}' not found in the dataset.\")\n",
    "\n",
    "# Fill NaN values in 'IS_SPAC' with 0 to indicate non-SPAC companies\n",
    "df[target] = df[target].fillna(0)\n",
    "\n",
    "# Convert the target column to an integer type\n",
    "df[target] = df[target].astype(int)\n",
    "\n",
    "# Convert categorical variables to numeric using one-hot encoding\n",
    "df_clean = pd.get_dummies(df)\n",
    "\n",
    "# Separate the features (X) and the target (y)\n",
    "X = df_clean[features]\n",
    "y = df_clean[target]\n",
    "\n",
    "# Handle missing values in features by imputing with the mean of each column\n",
    "from sklearn.impute import SimpleImputer\n",
    "imputer = SimpleImputer(strategy='mean')\n",
    "X = imputer.fit_transform(X)\n",
    "\n",
    "# Train a logistic regression model\n",
    "from sklearn.linear_model import LogisticRegression\n",
    "model = LogisticRegression(max_iter=1000)\n",
    "\n",
    "# Train the model\n",
    "model.fit(X, y)\n",
    "\n",
    "# Make predictions on the entire dataset\n",
    "y_pred = model.predict(X)\n",
    "\n",
    "# Evaluate the model using a confusion matrix\n",
    "conf_matrix = confusion_matrix(y, y_pred)\n",
    "\n",
    "print(conf_matrix)\n",
    "\n",
    "from sklearn.metrics import precision_score, f1_score, accuracy_score, recall_score\n",
    "\n",
    "# Calculate precision\n",
    "precision = precision_score(y, y_pred)\n",
    "\n",
    "# Calculate F1 score\n",
    "f1 = f1_score(y, y_pred)\n",
    "\n",
    "# Calculate accuracy\n",
    "accuracy = accuracy_score(y, y_pred)\n",
    "\n",
    "# Calculate recall\n",
    "recall = recall_score(y, y_pred)\n",
    "\n",
    "print(\"Precision:\", precision)\n",
    "print(\"F1 Score:\", f1)\n",
    "print(\"Accuracy:\", accuracy)\n",
    "print(\"Recall:\", recall)\n"
   ]
  },
  {
   "cell_type": "code",
   "execution_count": null,
   "id": "7a271336-6c7f-4768-9ddd-5a4d0e6ca75e",
   "metadata": {},
   "outputs": [],
   "source": []
  }
 ],
 "metadata": {
  "kernelspec": {
   "display_name": "Python 3 (ipykernel)",
   "language": "python",
   "name": "python3"
  },
  "language_info": {
   "codemirror_mode": {
    "name": "ipython",
    "version": 3
   },
   "file_extension": ".py",
   "mimetype": "text/x-python",
   "name": "python",
   "nbconvert_exporter": "python",
   "pygments_lexer": "ipython3",
   "version": "3.11.5"
  }
 },
 "nbformat": 4,
 "nbformat_minor": 5
}
