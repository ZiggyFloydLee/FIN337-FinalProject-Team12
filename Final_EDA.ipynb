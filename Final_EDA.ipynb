{
 "cells": [
  {
   "cell_type": "code",
   "execution_count": 1,
   "metadata": {},
   "outputs": [
    {
     "name": "stderr",
     "output_type": "stream",
     "text": [
      "c:\\Users\\ziggy\\anaconda3\\Lib\\site-packages\\pandas\\core\\arrays\\masked.py:60: UserWarning: Pandas requires version '1.3.6' or newer of 'bottleneck' (version '1.3.5' currently installed).\n",
      "  from pandas.core import (\n",
      "c:\\Users\\ziggy\\anaconda3\\Lib\\site-packages\\fuzzywuzzy\\fuzz.py:11: UserWarning: Using slow pure-python SequenceMatcher. Install python-Levenshtein to remove this warning\n",
      "  warnings.warn('Using slow pure-python SequenceMatcher. Install python-Levenshtein to remove this warning')\n"
     ]
    }
   ],
   "source": [
    "import pandas as pd\n",
    "# !pip install wrds\n",
    "import wrds\n",
    "import os\n",
    "import zipfile\n",
    "from sklearn.model_selection import train_test_split\n",
    "from sklearn.preprocessing import StandardScaler\n",
    "from sklearn.neighbors import KNeighborsClassifier\n",
    "from sklearn.metrics import classification_report, accuracy_score\n",
    "# !pip install fuzzywuzzy\n",
    "from fuzzywuzzy import fuzz, process"
   ]
  },
  {
   "cell_type": "code",
   "execution_count": 2,
   "metadata": {},
   "outputs": [],
   "source": [
    "ipo_data = pd.read_csv('inputs/IPO-age(9).csv')\n",
    "spac_data = pd.read_csv('inputs/SPACs2016-2021.csv')"
   ]
  },
  {
   "cell_type": "code",
   "execution_count": 3,
   "metadata": {},
   "outputs": [
    {
     "name": "stdout",
     "output_type": "stream",
     "text": [
      "Unique CUSIP in IPO dataset: False\n",
      "Unique CUSIP in SPAC dataset: False\n"
     ]
    }
   ],
   "source": [
    "ipo_unique_cusips = ipo_data['CUSIP'].is_unique\n",
    "spac_unique_cusips = spac_data['CUSIP'].is_unique\n",
    "\n",
    "\n",
    "print(\"Unique CUSIP in IPO dataset:\", ipo_unique_cusips)\n",
    "print(\"Unique CUSIP in SPAC dataset:\", spac_unique_cusips)"
   ]
  },
  {
   "cell_type": "code",
   "execution_count": 4,
   "metadata": {},
   "outputs": [],
   "source": [
    "ipo_data_clean = ipo_data.drop_duplicates(subset='CUSIP', keep='last')\n",
    "spac_data_clean = spac_data.drop_duplicates(subset='CUSIP', keep='last')"
   ]
  },
  {
   "cell_type": "code",
   "execution_count": 5,
   "metadata": {},
   "outputs": [],
   "source": [
    "merged_clean_data = pd.merge(ipo_data_clean, spac_data_clean, on=['CUSIP'], how='left', suffixes=('_IPO', '_SPAC'))\n",
    "merged_clean_data['IS_SPAC'] = merged_clean_data['SPAC IPO '].notna()"
   ]
  },
  {
   "cell_type": "code",
   "execution_count": 6,
   "metadata": {},
   "outputs": [
    {
     "name": "stdout",
     "output_type": "stream",
     "text": [
      "SPACs Identified:\n",
      "       offer date                        IPO name ticker      CUSIP Rollup VC  \\\n",
      "12695    20160224     Silver Run Acquisition Corp  SRAQU  82811P200      0  0   \n",
      "12696    20160303         Jensyn Acquisition Corp  JSYNU  47632B201      0  0   \n",
      "12724    20160526       Landcadia Holdings II Inc  LCAHU  51476W206      0  0   \n",
      "12736    20160707          M III Acquisition Corp  MIIIU  55378T203      0  0   \n",
      "12758    20160916  Saban Capital Acquisition Corp  SCACU  78516C205      0  0   \n",
      "\n",
      "      Dual Internet Post-issue shares CRSP perm  Founding  Unnamed: 11  \\\n",
      "12695    1        0          45000000     16021       -99          NaN   \n",
      "12696    1        0           5213400     16012      2014          NaN   \n",
      "12724    1        0          30000000     16173      2008          NaN   \n",
      "12736    1        0                -9     16261       -99          NaN   \n",
      "12758    1        0          28500000     16470      2016          NaN   \n",
      "\n",
      "      Unnamed: 12 Unnamed: 13                        SPAC IPO  Date of IPO  \\\n",
      "12695         NaN         NaN     Silver Run Acquisition Corp.   2/29/2016   \n",
      "12696         NaN         NaN         Jensyn Acquisition Corp.    3/7/2016   \n",
      "12724         NaN         NaN         Landcadia Holdings, Inc.    6/1/2016   \n",
      "12736         NaN         NaN          M III Acquisition Corp.    7/7/2016   \n",
      "12758         NaN         NaN  Saban Capital Acquisition Corp.   9/21/2016   \n",
      "\n",
      "       IS_SPAC  \n",
      "12695     True  \n",
      "12696     True  \n",
      "12724     True  \n",
      "12736     True  \n",
      "12758     True  \n",
      "\n",
      "IPOs Not SPACs:\n",
      "   offer date             IPO name ticker     CUSIP Rollup VC Dual Internet  \\\n",
      "0    19750130              ROYSTER    NaN  78088610      .  0    0        0   \n",
      "1    19750609                VARCO    VRC  92212610      .  0    0        0   \n",
      "2    19750610         COORS ADOLPH    TAP  21701610      .  0    1        0   \n",
      "3    19750715  KEYSTONE FOODS CORP    NaN  49348410      .  0    0        0   \n",
      "4    19750826          C. F. BRAUN    NaN  10564710      .  0    0        0   \n",
      "\n",
      "  Post-issue shares CRSP perm  Founding  Unnamed: 11  \\\n",
      "0                 .     67898      1901          NaN   \n",
      "1                 .     63044      1908          NaN   \n",
      "2          35418915     59248      1901          NaN   \n",
      "3                 .     61989      1965          NaN   \n",
      "4                 .     58579      1909          NaN   \n",
      "\n",
      "                                         Unnamed: 12 Unnamed: 13 SPAC IPO   \\\n",
      "0          N=15,447 U.S. IPOs from Jan 1975-Dec 2022         NaN       NaN   \n",
      "1                                                NaN         NaN       NaN   \n",
      "2  Rollup is a 0-1 dummy variable for whether the...         NaN       NaN   \n",
      "3  VC is a dummy with 1 for VC and 2 for a subset...         NaN       NaN   \n",
      "4  Dual is a dummy for multiple share class IPOs ...         NaN       NaN   \n",
      "\n",
      "  Date of IPO  IS_SPAC  \n",
      "0         NaN    False  \n",
      "1         NaN    False  \n",
      "2         NaN    False  \n",
      "3         NaN    False  \n",
      "4         NaN    False  \n"
     ]
    }
   ],
   "source": [
    "spacs_only = merged_clean_data[merged_clean_data['IS_SPAC']]\n",
    "ipos_not_spacs = merged_clean_data[~merged_clean_data['IS_SPAC']]\n",
    "\n",
    "# Display some entries from each dataset\n",
    "print(\"SPACs Identified:\")\n",
    "print(spacs_only.head())\n",
    "\n",
    "print(\"\\nIPOs Not SPACs:\")\n",
    "print(ipos_not_spacs.head())\n",
    "\n",
    "spacs_only.to_csv('inputs/spacs_identified.csv', index=False)\n",
    "ipos_not_spacs.to_csv('inputs/ipos_not_spacs.csv', index=False)"
   ]
  },
  {
   "cell_type": "code",
   "execution_count": 7,
   "metadata": {},
   "outputs": [],
   "source": [
    "spacs_identified = pd.read_csv('inputs/spacs_identified.csv')\n",
    "ipos_identified = pd.read_csv('inputs/ipos_not_spacs.csv')"
   ]
  },
  {
   "cell_type": "code",
   "execution_count": 8,
   "metadata": {},
   "outputs": [],
   "source": [
    "combined_ipo_spacs = pd.concat([spacs_identified, ipos_not_spacs])\n",
    "combined_ipo_spacs = combined_ipo_spacs.drop_duplicates(subset='CUSIP')\n",
    "combined_ipo_spacs.to_csv('inputs/combined_ipo_spacs.csv')"
   ]
  },
  {
   "cell_type": "code",
   "execution_count": 9,
   "metadata": {},
   "outputs": [],
   "source": [
    "selected_columns = combined_ipo_spacs[['IPO name', 'ticker', 'CUSIP', 'Date of IPO', 'IS_SPAC']]\n",
    "selected_columns.to_csv('inputs/filtered_data.csv')"
   ]
  },
  {
   "cell_type": "code",
   "execution_count": 10,
   "metadata": {},
   "outputs": [],
   "source": [
    "ccm_youngfirms = \"inputs/ccm_youngfirms_2000_2018.dta/ccm_youngfirms_2000_2018.dta\"\n",
    "\n",
    "if not os.path.exists(ccm_youngfirms):\n",
    "    zip_path = \"inputs/ccm_youngfirms_2000_2018.zip\"\n",
    "\n",
    "    with zipfile.ZipFile(zip_path,'r') as zip_ref:\n",
    "        zip_ref.extractall(\"inputs/ccm_youngfirms_2000_2018.dta\")"
   ]
  },
  {
   "cell_type": "code",
   "execution_count": 11,
   "metadata": {},
   "outputs": [],
   "source": [
    "ccm_data = pd.read_stata(ccm_youngfirms)\n",
    "ccm_data.to_csv('inputs/all_ccm_data.csv')"
   ]
  },
  {
   "cell_type": "code",
   "execution_count": 12,
   "metadata": {},
   "outputs": [],
   "source": [
    "relevant_vars = ['tic','adrr', 'curuscn', 'scf', 'src', 'apdedate', 'fdate', 'pdate', 'acominc',\n",
    "                 'acox', 'at', 'am', 'ao', 'aoloch', 'aox', 'ap', 'at', 'caps', 'capx', 'cb',\n",
    "                 'ch', 'che', 'clg', 'cogs', 'csho', 'cusip', 'cshrt', 'cstk', 'dd', 'dlc',\n",
    "                 'dn', 'do', 'datadate', 'dt', 'ebit', 'ebitda', 'epspi', 'fca', 'ffo', 'gdwl',\n",
    "                 'gp', 'ib', 'intan', 'invt', 'lt', 'lct', 'ni', 'niadj', 'np', 'pi', 'ppegt',\n",
    "                 'pnrsho', 'ppent', 're', 'revt', 'sale', 'seq', 'tdc', 'teq', 'tstk', 'txt',\n",
    "                 'wcap', 'naicsh', 'mkvalt', 'acchg', 'accrt', 'amc', 'ano', 'arce', 'cshi',\n",
    "                 'depc', 'derhedgl']"
   ]
  },
  {
   "cell_type": "code",
   "execution_count": 13,
   "metadata": {},
   "outputs": [],
   "source": [
    "ccm_data_filtered =ccm_data[relevant_vars]\n",
    "ccm_data_filtered.to_csv('inputs/ccm_data_filtered.csv')"
   ]
  },
  {
   "cell_type": "code",
   "execution_count": 14,
   "metadata": {},
   "outputs": [
    {
     "data": {
      "text/html": [
       "<div>\n",
       "<style scoped>\n",
       "    .dataframe tbody tr th:only-of-type {\n",
       "        vertical-align: middle;\n",
       "    }\n",
       "\n",
       "    .dataframe tbody tr th {\n",
       "        vertical-align: top;\n",
       "    }\n",
       "\n",
       "    .dataframe thead th {\n",
       "        text-align: right;\n",
       "    }\n",
       "</style>\n",
       "<table border=\"1\" class=\"dataframe\">\n",
       "  <thead>\n",
       "    <tr style=\"text-align: right;\">\n",
       "      <th></th>\n",
       "      <th>Unnamed: 0</th>\n",
       "      <th>conm</th>\n",
       "      <th>tic</th>\n",
       "      <th>CUSIP</th>\n",
       "      <th>Date of IPO</th>\n",
       "      <th>IS_SPAC</th>\n",
       "    </tr>\n",
       "  </thead>\n",
       "  <tbody>\n",
       "    <tr>\n",
       "      <th>0</th>\n",
       "      <td>0</td>\n",
       "      <td>Silver Run Acquisition Corp</td>\n",
       "      <td>SRAQU</td>\n",
       "      <td>82811P200</td>\n",
       "      <td>2/29/2016</td>\n",
       "      <td>True</td>\n",
       "    </tr>\n",
       "    <tr>\n",
       "      <th>1</th>\n",
       "      <td>1</td>\n",
       "      <td>Jensyn Acquisition Corp</td>\n",
       "      <td>JSYNU</td>\n",
       "      <td>47632B201</td>\n",
       "      <td>3/7/2016</td>\n",
       "      <td>True</td>\n",
       "    </tr>\n",
       "    <tr>\n",
       "      <th>2</th>\n",
       "      <td>2</td>\n",
       "      <td>Landcadia Holdings II Inc</td>\n",
       "      <td>LCAHU</td>\n",
       "      <td>51476W206</td>\n",
       "      <td>6/1/2016</td>\n",
       "      <td>True</td>\n",
       "    </tr>\n",
       "    <tr>\n",
       "      <th>3</th>\n",
       "      <td>3</td>\n",
       "      <td>M III Acquisition Corp</td>\n",
       "      <td>MIIIU</td>\n",
       "      <td>55378T203</td>\n",
       "      <td>7/7/2016</td>\n",
       "      <td>True</td>\n",
       "    </tr>\n",
       "    <tr>\n",
       "      <th>4</th>\n",
       "      <td>4</td>\n",
       "      <td>Saban Capital Acquisition Corp</td>\n",
       "      <td>SCACU</td>\n",
       "      <td>78516C205</td>\n",
       "      <td>9/21/2016</td>\n",
       "      <td>True</td>\n",
       "    </tr>\n",
       "    <tr>\n",
       "      <th>...</th>\n",
       "      <td>...</td>\n",
       "      <td>...</td>\n",
       "      <td>...</td>\n",
       "      <td>...</td>\n",
       "      <td>...</td>\n",
       "      <td>...</td>\n",
       "    </tr>\n",
       "    <tr>\n",
       "      <th>15297</th>\n",
       "      <td>15297</td>\n",
       "      <td>Aimei Health Technology Co.</td>\n",
       "      <td>AFJKU</td>\n",
       "      <td>G01341117</td>\n",
       "      <td>NaN</td>\n",
       "      <td>False</td>\n",
       "    </tr>\n",
       "    <tr>\n",
       "      <th>15298</th>\n",
       "      <td>15298</td>\n",
       "      <td>INNO HOLDINGS INC.</td>\n",
       "      <td>INHD</td>\n",
       "      <td>4576JP109</td>\n",
       "      <td>NaN</td>\n",
       "      <td>False</td>\n",
       "    </tr>\n",
       "    <tr>\n",
       "      <th>15299</th>\n",
       "      <td>15299</td>\n",
       "      <td>ZKH GROUP LTD</td>\n",
       "      <td>ZKH</td>\n",
       "      <td>98877R104</td>\n",
       "      <td>NaN</td>\n",
       "      <td>False</td>\n",
       "    </tr>\n",
       "    <tr>\n",
       "      <th>15300</th>\n",
       "      <td>15300</td>\n",
       "      <td>Linkage Global Inc</td>\n",
       "      <td>LGCB</td>\n",
       "      <td>G5500B102</td>\n",
       "      <td>NaN</td>\n",
       "      <td>False</td>\n",
       "    </tr>\n",
       "    <tr>\n",
       "      <th>15301</th>\n",
       "      <td>15301</td>\n",
       "      <td>Iron Horse Acquisition</td>\n",
       "      <td>IROHU</td>\n",
       "      <td>NaN</td>\n",
       "      <td>NaN</td>\n",
       "      <td>False</td>\n",
       "    </tr>\n",
       "  </tbody>\n",
       "</table>\n",
       "<p>15302 rows × 6 columns</p>\n",
       "</div>"
      ],
      "text/plain": [
       "       Unnamed: 0                            conm    tic      CUSIP  \\\n",
       "0               0     Silver Run Acquisition Corp  SRAQU  82811P200   \n",
       "1               1         Jensyn Acquisition Corp  JSYNU  47632B201   \n",
       "2               2       Landcadia Holdings II Inc  LCAHU  51476W206   \n",
       "3               3          M III Acquisition Corp  MIIIU  55378T203   \n",
       "4               4  Saban Capital Acquisition Corp  SCACU  78516C205   \n",
       "...           ...                             ...    ...        ...   \n",
       "15297       15297     Aimei Health Technology Co.  AFJKU  G01341117   \n",
       "15298       15298              INNO HOLDINGS INC.   INHD  4576JP109   \n",
       "15299       15299                   ZKH GROUP LTD    ZKH  98877R104   \n",
       "15300       15300              Linkage Global Inc   LGCB  G5500B102   \n",
       "15301       15301          Iron Horse Acquisition  IROHU        NaN   \n",
       "\n",
       "      Date of IPO  IS_SPAC  \n",
       "0       2/29/2016     True  \n",
       "1        3/7/2016     True  \n",
       "2        6/1/2016     True  \n",
       "3        7/7/2016     True  \n",
       "4       9/21/2016     True  \n",
       "...           ...      ...  \n",
       "15297         NaN    False  \n",
       "15298         NaN    False  \n",
       "15299         NaN    False  \n",
       "15300         NaN    False  \n",
       "15301         NaN    False  \n",
       "\n",
       "[15302 rows x 6 columns]"
      ]
     },
     "execution_count": 14,
     "metadata": {},
     "output_type": "execute_result"
    }
   ],
   "source": [
    "combined_data = pd.read_csv('inputs/filtered_data.csv')\n",
    "combined_data.rename(columns={'ticker' : 'tic'}, inplace=True)\n",
    "combined_data.rename(columns={'IPO name' : 'conm'}, inplace=True)\n",
    "combined_data"
   ]
  },
  {
   "cell_type": "code",
   "execution_count": 15,
   "metadata": {},
   "outputs": [],
   "source": [
    "ccm_ipo_spac_merge = pd.merge(combined_data, ccm_data_filtered, on='tic', how='left')\n",
    "ccm_ipo_spac_merge.to_csv('inputs/ccm_ipo_spac.csv')"
   ]
  },
  {
   "cell_type": "code",
   "execution_count": 16,
   "metadata": {},
   "outputs": [],
   "source": [
    "def get_matches(query, choices, limit=1):\n",
    "    return process.extract(query, choices, limit=limit)"
   ]
  },
  {
   "cell_type": "code",
   "execution_count": 17,
   "metadata": {},
   "outputs": [],
   "source": [
    "# # Prepare a list of choices from the CCM dataset\n",
    "# choices = ccm_data['conm'].unique()\n",
    "\n",
    "# # Apply fuzzy matching to each company name in the SPAC and IPO data\n",
    "# combined_data['matched_name'] = combined_data['conm'].apply(lambda x: get_matches(x, choices)[0])"
   ]
  },
  {
   "cell_type": "code",
   "execution_count": 18,
   "metadata": {},
   "outputs": [
    {
     "name": "stderr",
     "output_type": "stream",
     "text": [
      "C:\\Users\\ziggy\\AppData\\Local\\Temp\\ipykernel_28176\\22611733.py:2: DtypeWarning: Columns (29,33) have mixed types. Specify dtype option on import or set low_memory=False.\n",
      "  ccm_data=pd.read_csv('inputs/all_ccm_data.csv')\n"
     ]
    }
   ],
   "source": [
    "ritter_data = pd.read_csv('inputs/filtered_data.csv')\n",
    "ccm_data=pd.read_csv('inputs/all_ccm_data.csv')"
   ]
  },
  {
   "cell_type": "code",
   "execution_count": 19,
   "metadata": {},
   "outputs": [],
   "source": [
    "ritter_data['cusip_truncated'] = ritter_data['CUSIP'].str[:6]\n",
    "ccm_data['cusip_truncated'] = ccm_data['cusip'].str[:6]\n"
   ]
  },
  {
   "cell_type": "code",
   "execution_count": 20,
   "metadata": {},
   "outputs": [],
   "source": [
    "merged_data = pd.merge(ritter_data, ccm_data, on='cusip_truncated', how='left')\n",
    "merged_data.to_csv('inputs/ritter_ccm.csv')"
   ]
  },
  {
   "cell_type": "code",
   "execution_count": 21,
   "metadata": {},
   "outputs": [
    {
     "name": "stdout",
     "output_type": "stream",
     "text": [
      "  offer date formatted offer date\n",
      "0 1975-01-30           01/30/1975\n",
      "1 1975-06-09           06/09/1975\n",
      "2 1975-06-10           06/10/1975\n",
      "3 1975-07-15           07/15/1975\n",
      "4 1975-08-26           08/26/1975\n",
      "      offer date                     IPO name ticker      CUSIP Rollup VC  \\\n",
      "12940 2017-01-12        Gores Holdings II Inc  GSHTU  382867208      0  0   \n",
      "12941 2017-01-20  Fintech Acquisition Corp II  FNTEU  31810G208      0  0   \n",
      "12942 2017-01-20              Keane Group Inc   FRAC  48669A108      0  0   \n",
      "12943 2017-01-26               AnaptysBio Inc   ANAB  032724106      0  1   \n",
      "12944 2017-01-26                    Obseva SA   OBSV  H5861P103      0  1   \n",
      "\n",
      "      Dual Internet Post-issue shares CRSP perm  Founding  Unnamed: 11  \\\n",
      "12940    1        0          46875000     16631      2016          NaN   \n",
      "12941    1        0          20960000     16630       -99          NaN   \n",
      "12942    0        0                 .     16557      1973          NaN   \n",
      "12943    0        0                 .     16562      2005          NaN   \n",
      "12944    0        0                 .     16573      2012          NaN   \n",
      "\n",
      "      Unnamed: 12 Unnamed: 13 formatted offer date  \n",
      "12940         NaN         NaN           01/12/2017  \n",
      "12941         NaN         NaN           01/20/2017  \n",
      "12942         NaN         NaN           01/20/2017  \n",
      "12943         NaN         NaN           01/26/2017  \n",
      "12944         NaN         NaN           01/26/2017  \n"
     ]
    }
   ],
   "source": [
    "ipo_data['offer date'] = pd.to_datetime(ipo_data['offer date'], format='%Y%m%d')\n",
    "\n",
    "ipo_data['formatted offer date'] = ipo_data['offer date'].dt.strftime('%m/%d/%Y')\n",
    "\n",
    "print(ipo_data[['offer date', 'formatted offer date']].head())\n",
    "\n",
    "ipo_data = ipo_data[ipo_data['offer date'].dt.year >= 2017]\n",
    "\n",
    "print(ipo_data.head())\n",
    "\n",
    "ipo_data.to_csv('inputs/cleaned_ipo_years.csv')"
   ]
  },
  {
   "cell_type": "code",
   "execution_count": 22,
   "metadata": {},
   "outputs": [],
   "source": [
    "ipo_data.rename(columns={'CUSIP' : 'cusip'}, inplace=True)\n",
    "merged_ccm_ipo = pd.merge(ipo_data, ccm_data, on='cusip', how='left')\n",
    "merged_ccm_ipo.drop_duplicates()\n",
    "merged_ccm_ipo.to_csv('inputs/merged_ccm_ipo.csv')"
   ]
  },
  {
   "cell_type": "code",
   "execution_count": 23,
   "metadata": {},
   "outputs": [
    {
     "name": "stderr",
     "output_type": "stream",
     "text": [
      "C:\\Users\\ziggy\\AppData\\Local\\Temp\\ipykernel_28176\\3141681762.py:2: DtypeWarning: Columns (29,33) have mixed types. Specify dtype option on import or set low_memory=False.\n",
      "  df2 = pd.read_csv('inputs/all_ccm_data.csv')\n"
     ]
    }
   ],
   "source": [
    "df1 = pd.read_csv('inputs/IPO-age(9).csv')\n",
    "df2 = pd.read_csv('inputs/all_ccm_data.csv')"
   ]
  },
  {
   "cell_type": "code",
   "execution_count": 24,
   "metadata": {},
   "outputs": [
    {
     "name": "stdout",
     "output_type": "stream",
     "text": [
      "Number of exact CUSIP matches: 3101\n"
     ]
    }
   ],
   "source": [
    "matches = df1['CUSIP'].isin(df2['cusip'])\n",
    "exact_match_count = matches.sum()\n",
    "print(f\"Number of exact CUSIP matches: {exact_match_count}\")\n"
   ]
  },
  {
   "cell_type": "code",
   "execution_count": 25,
   "metadata": {},
   "outputs": [
    {
     "name": "stdout",
     "output_type": "stream",
     "text": [
      "       offer date                        IPO name ticker      CUSIP Rollup VC  \\\n",
      "2089     19860605                         Genzyme   GENZ  372917104      0  1   \n",
      "4619     19920616         Columbia Banking System   COLB  197236102      0  0   \n",
      "4989     19930219     Nuveen Prem Inc Muni Fund 4    NPT  6706K4105      0  0   \n",
      "5106     19930422          TCW/DW Term Trust 2003    TMT  87234U108      0  0   \n",
      "5158     19930520    Nuveen CT Prem Inc Muni Fund    NTC  67060D107      0  0   \n",
      "...           ...                             ...    ...        ...    ... ..   \n",
      "13382    20181214             Legacy Housing Corp   LEGH  52472M101      0  0   \n",
      "13678    20200603         Warner Music Group Corp    WMG  934550203      0  0   \n",
      "14514    20210423                     Agiliti Inc   AGTI  00848J104      1  0   \n",
      "14663    20210701                Krispy Kreme Inc   DNUT  50101L106      0  0   \n",
      "14676    20210713  NorthEast Community Bancorp, I   NECB  664121100      0  0   \n",
      "\n",
      "      Dual Internet Post-issue shares CRSP perm  Founding  Unnamed: 11  \\\n",
      "2089     0        0                 .     10324      1981          NaN   \n",
      "4619     0        0                 .     77679      1988          NaN   \n",
      "4989     0        0                 .     78942       -99          NaN   \n",
      "5106     1        0         100010640     79136       -99          NaN   \n",
      "5158     0        0                 .     79225       -99          NaN   \n",
      "...    ...      ...               ...       ...       ...          ...   \n",
      "13382    0        0                 .     18311      2005          NaN   \n",
      "13678    1        0         510000000     19403      1967          NaN   \n",
      "14514    0        0                 .     20901      1939          NaN   \n",
      "14663    0        0                 .     21594      1937          NaN   \n",
      "14676    0        0                 .     21746      1934          NaN   \n",
      "\n",
      "      Unnamed: 12 Unnamed: 13  \n",
      "2089          NaN         NaN  \n",
      "4619          NaN         NaN  \n",
      "4989          NaN         NaN  \n",
      "5106          NaN         NaN  \n",
      "5158          NaN         NaN  \n",
      "...           ...         ...  \n",
      "13382         NaN         NaN  \n",
      "13678         NaN         NaN  \n",
      "14514         NaN         NaN  \n",
      "14663         NaN         NaN  \n",
      "14676         NaN         NaN  \n",
      "\n",
      "[3101 rows x 14 columns]\n"
     ]
    }
   ],
   "source": [
    "matching_entries =df1[matches]\n",
    "print(matching_entries)\n",
    "matching_entries.to_csv('inputs/matching_entries.csv')"
   ]
  },
  {
   "cell_type": "code",
   "execution_count": 26,
   "metadata": {},
   "outputs": [
    {
     "data": {
      "text/html": [
       "<div>\n",
       "<style scoped>\n",
       "    .dataframe tbody tr th:only-of-type {\n",
       "        vertical-align: middle;\n",
       "    }\n",
       "\n",
       "    .dataframe tbody tr th {\n",
       "        vertical-align: top;\n",
       "    }\n",
       "\n",
       "    .dataframe thead th {\n",
       "        text-align: right;\n",
       "    }\n",
       "</style>\n",
       "<table border=\"1\" class=\"dataframe\">\n",
       "  <thead>\n",
       "    <tr style=\"text-align: right;\">\n",
       "      <th></th>\n",
       "      <th>SPAC IPO</th>\n",
       "      <th>Date of IPO</th>\n",
       "      <th>CUSIP</th>\n",
       "      <th>IS_SPAC</th>\n",
       "    </tr>\n",
       "  </thead>\n",
       "  <tbody>\n",
       "    <tr>\n",
       "      <th>0</th>\n",
       "      <td>Aetherium Acquisition Corp.</td>\n",
       "      <td>12/29/2021</td>\n",
       "      <td>00809J200</td>\n",
       "      <td>1</td>\n",
       "    </tr>\n",
       "    <tr>\n",
       "      <th>1</th>\n",
       "      <td>Welsbach Technology Metals Acquisition Corp.</td>\n",
       "      <td>12/27/2021</td>\n",
       "      <td>950415208</td>\n",
       "      <td>1</td>\n",
       "    </tr>\n",
       "    <tr>\n",
       "      <th>2</th>\n",
       "      <td>Arogo Capital Acquisition Corp.</td>\n",
       "      <td>12/23/2021</td>\n",
       "      <td>042644203</td>\n",
       "      <td>1</td>\n",
       "    </tr>\n",
       "    <tr>\n",
       "      <th>3</th>\n",
       "      <td>Gardiner Healthcare Acquisitions Corp.</td>\n",
       "      <td>12/21/2021</td>\n",
       "      <td>365506203</td>\n",
       "      <td>1</td>\n",
       "    </tr>\n",
       "    <tr>\n",
       "      <th>4</th>\n",
       "      <td>Larkspur Health Acquisition Corp.</td>\n",
       "      <td>12/20/2021</td>\n",
       "      <td>51724W206</td>\n",
       "      <td>1</td>\n",
       "    </tr>\n",
       "    <tr>\n",
       "      <th>...</th>\n",
       "      <td>...</td>\n",
       "      <td>...</td>\n",
       "      <td>...</td>\n",
       "      <td>...</td>\n",
       "    </tr>\n",
       "    <tr>\n",
       "      <th>1009</th>\n",
       "      <td>CF Corp.</td>\n",
       "      <td>5/25/2016</td>\n",
       "      <td>NaN</td>\n",
       "      <td>1</td>\n",
       "    </tr>\n",
       "    <tr>\n",
       "      <th>1010</th>\n",
       "      <td>KLR Energy Acquisition Corp.</td>\n",
       "      <td>3/16/2016</td>\n",
       "      <td>777385204</td>\n",
       "      <td>1</td>\n",
       "    </tr>\n",
       "    <tr>\n",
       "      <th>1011</th>\n",
       "      <td>Jensyn Acquisition Corp.</td>\n",
       "      <td>3/7/2016</td>\n",
       "      <td>47632B201</td>\n",
       "      <td>1</td>\n",
       "    </tr>\n",
       "    <tr>\n",
       "      <th>1012</th>\n",
       "      <td>Silver Run Acquisition Corp.</td>\n",
       "      <td>2/29/2016</td>\n",
       "      <td>82811P200</td>\n",
       "      <td>1</td>\n",
       "    </tr>\n",
       "    <tr>\n",
       "      <th>1013</th>\n",
       "      <td>NaN</td>\n",
       "      <td>NaN</td>\n",
       "      <td>NaN</td>\n",
       "      <td>1</td>\n",
       "    </tr>\n",
       "  </tbody>\n",
       "</table>\n",
       "<p>1014 rows × 4 columns</p>\n",
       "</div>"
      ],
      "text/plain": [
       "                                         SPAC IPO  Date of IPO      CUSIP  \\\n",
       "0                      Aetherium Acquisition Corp.  12/29/2021  00809J200   \n",
       "1     Welsbach Technology Metals Acquisition Corp.  12/27/2021  950415208   \n",
       "2                  Arogo Capital Acquisition Corp.  12/23/2021  042644203   \n",
       "3           Gardiner Healthcare Acquisitions Corp.  12/21/2021  365506203   \n",
       "4                Larkspur Health Acquisition Corp.  12/20/2021  51724W206   \n",
       "...                                            ...         ...        ...   \n",
       "1009                                      CF Corp.   5/25/2016        NaN   \n",
       "1010                  KLR Energy Acquisition Corp.   3/16/2016  777385204   \n",
       "1011                      Jensyn Acquisition Corp.    3/7/2016  47632B201   \n",
       "1012                  Silver Run Acquisition Corp.   2/29/2016  82811P200   \n",
       "1013                                           NaN         NaN        NaN   \n",
       "\n",
       "      IS_SPAC  \n",
       "0           1  \n",
       "1           1  \n",
       "2           1  \n",
       "3           1  \n",
       "4           1  \n",
       "...       ...  \n",
       "1009        1  \n",
       "1010        1  \n",
       "1011        1  \n",
       "1012        1  \n",
       "1013        1  \n",
       "\n",
       "[1014 rows x 4 columns]"
      ]
     },
     "execution_count": 26,
     "metadata": {},
     "output_type": "execute_result"
    }
   ],
   "source": [
    "df3 = pd.read_csv('inputs/matching_entries.csv')\n",
    "df4 = pd.read_csv('inputs/SPACs2016-2021.csv')\n",
    "df4['IS_SPAC'] = 1\n",
    "df4"
   ]
  },
  {
   "cell_type": "code",
   "execution_count": 27,
   "metadata": {},
   "outputs": [],
   "source": [
    "df3['cusip_trunc'] = df3['CUSIP'].astype(str).str[:4]\n",
    "df4['cusip_trunc'] = df4['CUSIP'].astype(str).str[:4]\n"
   ]
  },
  {
   "cell_type": "code",
   "execution_count": 28,
   "metadata": {},
   "outputs": [
    {
     "name": "stdout",
     "output_type": "stream",
     "text": [
      "Number of partial CUSIP matches: 455\n"
     ]
    }
   ],
   "source": [
    "partial_matches = df3['cusip_trunc'].isin(df4['cusip_trunc'])\n",
    "print(f\"Number of partial CUSIP matches: {partial_matches.sum()}\")"
   ]
  },
  {
   "cell_type": "code",
   "execution_count": 45,
   "metadata": {},
   "outputs": [
    {
     "name": "stdout",
     "output_type": "stream",
     "text": [
      "      Unnamed: 0  offer date                       IPO name ticker      CUSIP  \\\n",
      "15          6084    19940616         Liberty Property Trust    LRY  531172104   \n",
      "19          6156    19940728    Home Properties of New York    HME  437306103   \n",
      "29          6344    19941205    Apollo Group (U of Phoenix)  APOLA  037604105   \n",
      "31          6376    19950110                         Diasys   DIYS  252838107   \n",
      "35          6416    19950214  Globalstar Telecommunications  GSTRF  G3930H104   \n",
      "...          ...         ...                            ...    ...        ...   \n",
      "3070       13327    20180926            Sutro Biopharma Inc   STRO  869367102   \n",
      "3083       13352    20181019      Logicbio Therapeutics Inc   LOGC  54142F102   \n",
      "3088       13361    20181031    Axonics Modulation Tech Inc   AXNX  05465P101   \n",
      "3089       13364    20181107         CNFinance Holdings Ltd    CNF  18979T105   \n",
      "3096       13382    20181214            Legacy Housing Corp   LEGH  52472M101   \n",
      "\n",
      "     Rollup  VC Dual Internet Post-issue shares  CRSP perm  Founding  \\\n",
      "15        .   0    1        0          18355548      80691      1972   \n",
      "19        .   0    0        0                 .      80723       -99   \n",
      "29        0   0    1        0          10109239      81138      1981   \n",
      "31        0   0    0        0                 .      81201      1992   \n",
      "35        0   0    0        0                 .      81249      1994   \n",
      "...     ...  ..  ...      ...               ...        ...       ...   \n",
      "3070      0   1    0        0                 .      18128      2003   \n",
      "3083      0   1    0        0                 .      18205      2014   \n",
      "3088      0   1    0        0                 .      18190      2012   \n",
      "3089      0   0    1        0        1360434040      18223      2006   \n",
      "3096      0   0    0        0                 .      18311      2005   \n",
      "\n",
      "      Unnamed: 11  Unnamed: 12  Unnamed: 13 cusip_trunc  IS_SPAC  \n",
      "15            NaN          NaN          NaN        5311        1  \n",
      "19            NaN          NaN          NaN        4373        1  \n",
      "29            NaN          NaN          NaN        0376        1  \n",
      "31            NaN          NaN          NaN        2528        1  \n",
      "35            NaN          NaN          NaN        G393        1  \n",
      "...           ...          ...          ...         ...      ...  \n",
      "3070          NaN          NaN          NaN        8693        1  \n",
      "3083          NaN          NaN          NaN        5414        1  \n",
      "3088          NaN          NaN          NaN        0546        1  \n",
      "3089          NaN          NaN          NaN        1897        1  \n",
      "3096          NaN          NaN          NaN        5247        1  \n",
      "\n",
      "[455 rows x 17 columns]\n"
     ]
    },
    {
     "name": "stderr",
     "output_type": "stream",
     "text": [
      "C:\\Users\\ziggy\\AppData\\Local\\Temp\\ipykernel_28176\\3881764832.py:2: SettingWithCopyWarning: \n",
      "A value is trying to be set on a copy of a slice from a DataFrame.\n",
      "Try using .loc[row_indexer,col_indexer] = value instead\n",
      "\n",
      "See the caveats in the documentation: https://pandas.pydata.org/pandas-docs/stable/user_guide/indexing.html#returning-a-view-versus-a-copy\n",
      "  partial_matching['IS_SPAC'] = 1\n"
     ]
    }
   ],
   "source": [
    "partial_matching = df3[partial_matches]\n",
    "partial_matching['IS_SPAC'] = 0\n",
    "print(partial_matching)\n",
    "partial_matching.to_csv('inputs/partial_matching.csv')\n"
   ]
  },
  {
   "cell_type": "code",
   "execution_count": 46,
   "metadata": {},
   "outputs": [
    {
     "name": "stderr",
     "output_type": "stream",
     "text": [
      "C:\\Users\\ziggy\\AppData\\Local\\Temp\\ipykernel_28176\\703254770.py:1: SettingWithCopyWarning: \n",
      "A value is trying to be set on a copy of a slice from a DataFrame\n",
      "\n",
      "See the caveats in the documentation: https://pandas.pydata.org/pandas-docs/stable/user_guide/indexing.html#returning-a-view-versus-a-copy\n",
      "  partial_matching.rename(columns={'CUSIP' : 'cusip'}, inplace=True)\n"
     ]
    }
   ],
   "source": [
    "partial_matching.rename(columns={'CUSIP' : 'cusip'}, inplace=True)\n",
    "\n",
    "partial_matches_merge = pd.merge(partial_matching, ccm_data, on='cusip', how='left')\n",
    "\n",
    "partial_matches_merge.to_csv('inputs/merged_ccm_matches.csv')"
   ]
  },
  {
   "cell_type": "code",
   "execution_count": 59,
   "metadata": {},
   "outputs": [
    {
     "name": "stderr",
     "output_type": "stream",
     "text": [
      "[*********************100%%**********************]  1 of 1 completed\n",
      "\n",
      "1 Failed download:\n",
      "['00809J200']: Exception('%ticker%: No timezone found, symbol may be delisted')\n",
      "[*********************100%%**********************]  1 of 1 completed\n",
      "\n",
      "1 Failed download:\n",
      "['950415208']: Exception('%ticker%: No timezone found, symbol may be delisted')\n",
      "[*********************100%%**********************]  1 of 1 completed\n",
      "\n",
      "1 Failed download:\n",
      "['042644203']: Exception('%ticker%: No timezone found, symbol may be delisted')\n",
      "[*********************100%%**********************]  1 of 1 completed\n",
      "\n",
      "1 Failed download:\n",
      "['365506203']: Exception('%ticker%: No timezone found, symbol may be delisted')\n",
      "[*********************100%%**********************]  1 of 1 completed\n",
      "\n",
      "1 Failed download:\n",
      "['51724W206']: Exception('%ticker%: No timezone found, symbol may be delisted')\n",
      "[*********************100%%**********************]  1 of 1 completed\n",
      "\n",
      "1 Failed download:\n",
      "['78661R205']: Exception('%ticker%: No timezone found, symbol may be delisted')\n",
      "[*********************100%%**********************]  1 of 1 completed\n",
      "\n",
      "1 Failed download:\n",
      "['66718N202']: Exception('%ticker%: No timezone found, symbol may be delisted')\n",
      "[*********************100%%**********************]  1 of 1 completed\n",
      "\n",
      "1 Failed download:\n",
      "['76137R205']: Exception('%ticker%: No timezone found, symbol may be delisted')\n",
      "[*********************100%%**********************]  1 of 1 completed\n",
      "\n",
      "1 Failed download:\n",
      "['G04058122']: Exception('%ticker%: No timezone found, symbol may be delisted')\n",
      "[*********************100%%**********************]  1 of 1 completed\n",
      "\n",
      "1 Failed download:\n",
      "['12521H206']: Exception('%ticker%: No timezone found, symbol may be delisted')\n",
      "[*********************100%%**********************]  1 of 1 completed\n",
      "\n",
      "1 Failed download:\n",
      "['05150A203']: Exception('%ticker%: No timezone found, symbol may be delisted')\n",
      "[*********************100%%**********************]  1 of 1 completed\n",
      "\n",
      "1 Failed download:\n",
      "['29103K209']: Exception('%ticker%: No timezone found, symbol may be delisted')\n",
      "[*********************100%%**********************]  1 of 1 completed\n",
      "\n",
      "1 Failed download:\n",
      "['G83745110']: Exception('%ticker%: No timezone found, symbol may be delisted')\n"
     ]
    },
    {
     "name": "stdout",
     "output_type": "stream",
     "text": [
      "Empty DataFrame\n",
      "Columns: [Open, High, Low, Close, Adj Close, Volume]\n",
      "Index: []\n",
      "Empty DataFrame\n",
      "Columns: [Open, High, Low, Close, Adj Close, Volume]\n",
      "Index: []\n",
      "Empty DataFrame\n",
      "Columns: [Open, High, Low, Close, Adj Close, Volume]\n",
      "Index: []\n",
      "Empty DataFrame\n",
      "Columns: [Open, High, Low, Close, Adj Close, Volume]\n",
      "Index: []\n",
      "Empty DataFrame\n",
      "Columns: [Open, High, Low, Close, Adj Close, Volume]\n",
      "Index: []\n",
      "Empty DataFrame\n",
      "Columns: [Open, High, Low, Close, Adj Close, Volume]\n",
      "Index: []\n",
      "Empty DataFrame\n",
      "Columns: [Open, High, Low, Close, Adj Close, Volume]\n",
      "Index: []\n",
      "Empty DataFrame\n",
      "Columns: [Open, High, Low, Close, Adj Close, Volume]\n",
      "Index: []\n",
      "Empty DataFrame\n",
      "Columns: [Open, High, Low, Close, Adj Close, Volume]\n",
      "Index: []\n",
      "Empty DataFrame\n",
      "Columns: [Open, High, Low, Close, Adj Close, Volume]\n",
      "Index: []\n",
      "Empty DataFrame\n",
      "Columns: [Open, High, Low, Close, Adj Close, Volume]\n",
      "Index: []\n",
      "Empty DataFrame\n",
      "Columns: [Open, High, Low, Close, Adj Close, Volume]\n",
      "Index: []\n",
      "Empty DataFrame\n",
      "Columns: [Open, High, Low, Close, Adj Close, Volume]\n",
      "Index: []\n"
     ]
    },
    {
     "name": "stderr",
     "output_type": "stream",
     "text": [
      "[*********************100%%**********************]  1 of 1 completed\n",
      "\n",
      "1 Failed download:\n",
      "['G63836129']: Exception('%ticker%: No timezone found, symbol may be delisted')\n",
      "[*********************100%%**********************]  1 of 1 completed\n",
      "\n",
      "1 Failed download:\n",
      "['G3218G125']: Exception('%ticker%: No timezone found, symbol may be delisted')\n",
      "[*********************100%%**********************]  1 of 1 completed\n",
      "\n",
      "1 Failed download:\n",
      "['G44525122']: Exception('%ticker%: No timezone found, symbol may be delisted')\n",
      "[*********************100%%**********************]  1 of 1 completed\n",
      "\n",
      "1 Failed download:\n",
      "['G4923T121']: Exception('%ticker%: No timezone found, symbol may be delisted')\n",
      "[*********************100%%**********************]  1 of 1 completed\n",
      "\n",
      "1 Failed download:\n",
      "['G01322117']: Exception('%ticker%: No timezone found, symbol may be delisted')\n",
      "[*********************100%%**********************]  1 of 1 completed\n",
      "\n",
      "1 Failed download:\n",
      "['G0888J116']: Exception('%ticker%: No timezone found, symbol may be delisted')\n"
     ]
    },
    {
     "name": "stdout",
     "output_type": "stream",
     "text": [
      "Empty DataFrame\n",
      "Columns: [Open, High, Low, Close, Adj Close, Volume]\n",
      "Index: []\n",
      "Empty DataFrame\n",
      "Columns: [Open, High, Low, Close, Adj Close, Volume]\n",
      "Index: []\n",
      "Empty DataFrame\n",
      "Columns: [Open, High, Low, Close, Adj Close, Volume]\n",
      "Index: []\n",
      "Empty DataFrame\n",
      "Columns: [Open, High, Low, Close, Adj Close, Volume]\n",
      "Index: []\n",
      "Empty DataFrame\n",
      "Columns: [Open, High, Low, Close, Adj Close, Volume]\n",
      "Index: []\n",
      "Empty DataFrame\n",
      "Columns: [Open, High, Low, Close, Adj Close, Volume]\n",
      "Index: []\n"
     ]
    },
    {
     "name": "stderr",
     "output_type": "stream",
     "text": [
      "c:\\Users\\ziggy\\anaconda3\\Lib\\site-packages\\yfinance\\utils.py:775: FutureWarning: The 'unit' keyword in TimedeltaIndex construction is deprecated and will be removed in a future version. Use pd.to_timedelta instead.\n",
      "  df.index += _pd.TimedeltaIndex(dst_error_hours, 'h')\n",
      "[*********************100%%**********************]  1 of 1 completed\n"
     ]
    },
    {
     "name": "stdout",
     "output_type": "stream",
     "text": [
      "             Open   High    Low  Close  Adj Close  Volume\n",
      "Date                                                     \n",
      "2021-12-13  14.71  14.75  14.47  14.55  12.949329   43000\n",
      "2021-12-14  14.50  14.70  14.39  14.39  12.850208   33600\n",
      "2021-12-15  14.49  14.57  14.42  14.57  13.010946   39200\n",
      "2021-12-16  14.62  14.62  14.44  14.54  12.984156   14800\n",
      "2021-12-17  14.54  14.61  14.54  14.61  13.046664   24600\n",
      "...           ...    ...    ...    ...        ...     ...\n",
      "2022-12-06  10.86  10.92  10.79  10.83  10.115234  216700\n",
      "2022-12-07  10.84  10.92  10.84  10.86  10.143254  106300\n",
      "2022-12-08  10.92  10.92  10.78  10.87  10.152596  146500\n",
      "2022-12-09  10.87  10.88  10.77  10.81  10.096556   82700\n",
      "2022-12-12  10.85  10.99  10.80  10.87  10.152596  107900\n",
      "\n",
      "[252 rows x 6 columns]\n"
     ]
    },
    {
     "name": "stderr",
     "output_type": "stream",
     "text": [
      "[*********************100%%**********************]  1 of 1 completed\n",
      "\n",
      "1 Failed download:\n",
      "['G52131102']: Exception('%ticker%: No timezone found, symbol may be delisted')\n"
     ]
    },
    {
     "name": "stdout",
     "output_type": "stream",
     "text": [
      "Empty DataFrame\n",
      "Columns: [Open, High, Low, Close, Adj Close, Volume]\n",
      "Index: []\n"
     ]
    },
    {
     "name": "stderr",
     "output_type": "stream",
     "text": [
      "[*********************100%%**********************]  1 of 1 completed\n",
      "\n",
      "1 Failed download:\n",
      "['123013203']: Exception('%ticker%: No timezone found, symbol may be delisted')\n"
     ]
    },
    {
     "name": "stdout",
     "output_type": "stream",
     "text": [
      "Empty DataFrame\n",
      "Columns: [Open, High, Low, Close, Adj Close, Volume]\n",
      "Index: []\n"
     ]
    },
    {
     "name": "stderr",
     "output_type": "stream",
     "text": [
      "[*********************100%%**********************]  1 of 1 completed\n",
      "\n",
      "1 Failed download:\n",
      "['89301B203']: Exception('%ticker%: No timezone found, symbol may be delisted')\n"
     ]
    },
    {
     "name": "stdout",
     "output_type": "stream",
     "text": [
      "Empty DataFrame\n",
      "Columns: [Open, High, Low, Close, Adj Close, Volume]\n",
      "Index: []\n"
     ]
    },
    {
     "name": "stderr",
     "output_type": "stream",
     "text": [
      "[*********************100%%**********************]  1 of 1 completed\n",
      "\n",
      "1 Failed download:\n",
      "['31772T206']: Exception('%ticker%: No timezone found, symbol may be delisted')\n"
     ]
    },
    {
     "name": "stdout",
     "output_type": "stream",
     "text": [
      "Empty DataFrame\n",
      "Columns: [Open, High, Low, Close, Adj Close, Volume]\n",
      "Index: []\n"
     ]
    },
    {
     "name": "stderr",
     "output_type": "stream",
     "text": [
      "[*********************100%%**********************]  1 of 1 completed\n",
      "\n",
      "1 Failed download:\n",
      "['73919C209']: Exception('%ticker%: No timezone found, symbol may be delisted')\n"
     ]
    },
    {
     "name": "stdout",
     "output_type": "stream",
     "text": [
      "Empty DataFrame\n",
      "Columns: [Open, High, Low, Close, Adj Close, Volume]\n",
      "Index: []\n"
     ]
    },
    {
     "name": "stderr",
     "output_type": "stream",
     "text": [
      "[*********************100%%**********************]  1 of 1 completed\n",
      "\n",
      "1 Failed download:\n",
      "['G4373K125']: Exception('%ticker%: No timezone found, symbol may be delisted')\n"
     ]
    },
    {
     "name": "stdout",
     "output_type": "stream",
     "text": [
      "Empty DataFrame\n",
      "Columns: [Open, High, Low, Close, Adj Close, Volume]\n",
      "Index: []\n"
     ]
    },
    {
     "name": "stderr",
     "output_type": "stream",
     "text": [
      "[*********************100%%**********************]  1 of 1 completed\n",
      "\n",
      "1 Failed download:\n",
      "['04687C204']: Exception('%ticker%: No timezone found, symbol may be delisted')\n"
     ]
    },
    {
     "name": "stdout",
     "output_type": "stream",
     "text": [
      "Empty DataFrame\n",
      "Columns: [Open, High, Low, Close, Adj Close, Volume]\n",
      "Index: []\n"
     ]
    },
    {
     "name": "stderr",
     "output_type": "stream",
     "text": [
      "[*********************100%%**********************]  1 of 1 completed\n",
      "\n",
      "1 Failed download:\n",
      "['G3619H128']: Exception('%ticker%: No timezone found, symbol may be delisted')\n"
     ]
    },
    {
     "name": "stdout",
     "output_type": "stream",
     "text": [
      "Empty DataFrame\n",
      "Columns: [Open, High, Low, Close, Adj Close, Volume]\n",
      "Index: []\n"
     ]
    },
    {
     "name": "stderr",
     "output_type": "stream",
     "text": [
      "[*********************100%%**********************]  1 of 1 completed\n",
      "\n",
      "1 Failed download:\n",
      "['84465L204']: Exception('%ticker%: No timezone found, symbol may be delisted')\n"
     ]
    },
    {
     "name": "stdout",
     "output_type": "stream",
     "text": [
      "Empty DataFrame\n",
      "Columns: [Open, High, Low, Close, Adj Close, Volume]\n",
      "Index: []\n"
     ]
    },
    {
     "name": "stderr",
     "output_type": "stream",
     "text": [
      "[*********************100%%**********************]  1 of 1 completed\n",
      "\n",
      "1 Failed download:\n",
      "['G41522122']: Exception('%ticker%: No timezone found, symbol may be delisted')\n"
     ]
    },
    {
     "name": "stdout",
     "output_type": "stream",
     "text": [
      "Empty DataFrame\n",
      "Columns: [Open, High, Low, Close, Adj Close, Volume]\n",
      "Index: []\n"
     ]
    },
    {
     "name": "stderr",
     "output_type": "stream",
     "text": [
      "[*********************100%%**********************]  1 of 1 completed\n",
      "\n",
      "1 Failed download:\n",
      "['G8675N117']: Exception('%ticker%: No timezone found, symbol may be delisted')\n"
     ]
    },
    {
     "name": "stdout",
     "output_type": "stream",
     "text": [
      "Empty DataFrame\n",
      "Columns: [Open, High, Low, Close, Adj Close, Volume]\n",
      "Index: []\n"
     ]
    },
    {
     "name": "stderr",
     "output_type": "stream",
     "text": [
      "[*********************100%%**********************]  1 of 1 completed\n",
      "\n",
      "1 Failed download:\n",
      "['46653C205']: Exception('%ticker%: No timezone found, symbol may be delisted')\n"
     ]
    },
    {
     "name": "stdout",
     "output_type": "stream",
     "text": [
      "Empty DataFrame\n",
      "Columns: [Open, High, Low, Close, Adj Close, Volume]\n",
      "Index: []\n"
     ]
    },
    {
     "name": "stderr",
     "output_type": "stream",
     "text": [
      "[*********************100%%**********************]  1 of 1 completed\n",
      "\n",
      "1 Failed download:\n",
      "['45333D203']: Exception('%ticker%: No timezone found, symbol may be delisted')\n"
     ]
    },
    {
     "name": "stdout",
     "output_type": "stream",
     "text": [
      "Empty DataFrame\n",
      "Columns: [Open, High, Low, Close, Adj Close, Volume]\n",
      "Index: []\n"
     ]
    },
    {
     "name": "stderr",
     "output_type": "stream",
     "text": [
      "[*********************100%%**********************]  1 of 1 completed\n",
      "\n",
      "1 Failed download:\n",
      "['G3033X113']: Exception('%ticker%: No timezone found, symbol may be delisted')\n"
     ]
    },
    {
     "name": "stdout",
     "output_type": "stream",
     "text": [
      "Empty DataFrame\n",
      "Columns: [Open, High, Low, Close, Adj Close, Volume]\n",
      "Index: []\n"
     ]
    },
    {
     "name": "stderr",
     "output_type": "stream",
     "text": [
      "[*********************100%%**********************]  1 of 1 completed\n",
      "\n",
      "1 Failed download:\n",
      "['G7T983129']: Exception('%ticker%: No timezone found, symbol may be delisted')\n"
     ]
    },
    {
     "name": "stdout",
     "output_type": "stream",
     "text": [
      "Empty DataFrame\n",
      "Columns: [Open, High, Low, Close, Adj Close, Volume]\n",
      "Index: []\n"
     ]
    },
    {
     "name": "stderr",
     "output_type": "stream",
     "text": [
      "[*********************100%%**********************]  1 of 1 completed\n",
      "\n",
      "1 Failed download:\n",
      "['G4828B126']: Exception('%ticker%: No timezone found, symbol may be delisted')\n"
     ]
    },
    {
     "name": "stdout",
     "output_type": "stream",
     "text": [
      "Empty DataFrame\n",
      "Columns: [Open, High, Low, Close, Adj Close, Volume]\n",
      "Index: []\n"
     ]
    },
    {
     "name": "stderr",
     "output_type": "stream",
     "text": [
      "[*********************100%%**********************]  1 of 1 completed\n",
      "\n",
      "1 Failed download:\n",
      "['G3R23D110']: Exception('%ticker%: No timezone found, symbol may be delisted')\n"
     ]
    },
    {
     "name": "stdout",
     "output_type": "stream",
     "text": [
      "Empty DataFrame\n",
      "Columns: [Open, High, Low, Close, Adj Close, Volume]\n",
      "Index: []\n"
     ]
    },
    {
     "name": "stderr",
     "output_type": "stream",
     "text": [
      "[*********************100%%**********************]  1 of 1 completed\n",
      "\n",
      "1 Failed download:\n",
      "['G3168A128']: Exception('%ticker%: No timezone found, symbol may be delisted')\n"
     ]
    },
    {
     "name": "stdout",
     "output_type": "stream",
     "text": [
      "Empty DataFrame\n",
      "Columns: [Open, High, Low, Close, Adj Close, Volume]\n",
      "Index: []\n"
     ]
    },
    {
     "name": "stderr",
     "output_type": "stream",
     "text": [
      "[*********************100%%**********************]  1 of 1 completed\n",
      "\n",
      "1 Failed download:\n",
      "['48208E207']: Exception('%ticker%: No timezone found, symbol may be delisted')\n"
     ]
    },
    {
     "name": "stdout",
     "output_type": "stream",
     "text": [
      "Empty DataFrame\n",
      "Columns: [Open, High, Low, Close, Adj Close, Volume]\n",
      "Index: []\n"
     ]
    },
    {
     "name": "stderr",
     "output_type": "stream",
     "text": [
      "[*********************100%%**********************]  1 of 1 completed\n",
      "\n",
      "1 Failed download:\n",
      "['G6293R122']: Exception('%ticker%: No timezone found, symbol may be delisted')\n"
     ]
    },
    {
     "name": "stdout",
     "output_type": "stream",
     "text": [
      "Empty DataFrame\n",
      "Columns: [Open, High, Low, Close, Adj Close, Volume]\n",
      "Index: []\n"
     ]
    },
    {
     "name": "stderr",
     "output_type": "stream",
     "text": [
      "[*********************100%%**********************]  1 of 1 completed\n",
      "\n",
      "1 Failed download:\n",
      "['G0440J117']: Exception('%ticker%: No timezone found, symbol may be delisted')\n"
     ]
    },
    {
     "name": "stdout",
     "output_type": "stream",
     "text": [
      "Empty DataFrame\n",
      "Columns: [Open, High, Low, Close, Adj Close, Volume]\n",
      "Index: []\n"
     ]
    },
    {
     "name": "stderr",
     "output_type": "stream",
     "text": [
      "[*********************100%%**********************]  1 of 1 completed\n",
      "\n",
      "1 Failed download:\n",
      "['37892F208']: Exception('%ticker%: No timezone found, symbol may be delisted')\n"
     ]
    },
    {
     "name": "stdout",
     "output_type": "stream",
     "text": [
      "Empty DataFrame\n",
      "Columns: [Open, High, Low, Close, Adj Close, Volume]\n",
      "Index: []\n"
     ]
    },
    {
     "name": "stderr",
     "output_type": "stream",
     "text": [
      "[*********************100%%**********************]  1 of 1 completed\n",
      "\n",
      "1 Failed download:\n",
      "['G11217109']: Exception('%ticker%: No timezone found, symbol may be delisted')\n"
     ]
    },
    {
     "name": "stdout",
     "output_type": "stream",
     "text": [
      "Empty DataFrame\n",
      "Columns: [Open, High, Low, Close, Adj Close, Volume]\n",
      "Index: []\n"
     ]
    },
    {
     "name": "stderr",
     "output_type": "stream",
     "text": [
      "[*********************100%%**********************]  1 of 1 completed\n",
      "\n",
      "1 Failed download:\n",
      "['G1330L113']: Exception('%ticker%: No timezone found, symbol may be delisted')\n"
     ]
    },
    {
     "name": "stdout",
     "output_type": "stream",
     "text": [
      "Empty DataFrame\n",
      "Columns: [Open, High, Low, Close, Adj Close, Volume]\n",
      "Index: []\n"
     ]
    },
    {
     "name": "stderr",
     "output_type": "stream",
     "text": [
      "[*********************100%%**********************]  1 of 1 completed\n",
      "\n",
      "1 Failed download:\n",
      "['G8465L123']: Exception('%ticker%: No timezone found, symbol may be delisted')\n"
     ]
    },
    {
     "name": "stdout",
     "output_type": "stream",
     "text": [
      "Empty DataFrame\n",
      "Columns: [Open, High, Low, Close, Adj Close, Volume]\n",
      "Index: []\n"
     ]
    },
    {
     "name": "stderr",
     "output_type": "stream",
     "text": [
      "[*********************100%%**********************]  1 of 1 completed\n",
      "\n",
      "1 Failed download:\n",
      "['G1792A126']: Exception('%ticker%: No timezone found, symbol may be delisted')\n"
     ]
    },
    {
     "name": "stdout",
     "output_type": "stream",
     "text": [
      "Empty DataFrame\n",
      "Columns: [Open, High, Low, Close, Adj Close, Volume]\n",
      "Index: []\n"
     ]
    },
    {
     "name": "stderr",
     "output_type": "stream",
     "text": [
      "[*********************100%%**********************]  1 of 1 completed\n",
      "\n",
      "1 Failed download:\n",
      "['G3731J101']: Exception('%ticker%: No timezone found, symbol may be delisted')\n"
     ]
    },
    {
     "name": "stdout",
     "output_type": "stream",
     "text": [
      "Empty DataFrame\n",
      "Columns: [Open, High, Low, Close, Adj Close, Volume]\n",
      "Index: []\n"
     ]
    },
    {
     "name": "stderr",
     "output_type": "stream",
     "text": [
      "[*********************100%%**********************]  1 of 1 completed\n",
      "\n",
      "1 Failed download:\n",
      "['77118V207']: Exception('%ticker%: No timezone found, symbol may be delisted')\n"
     ]
    },
    {
     "name": "stdout",
     "output_type": "stream",
     "text": [
      "Empty DataFrame\n",
      "Columns: [Open, High, Low, Close, Adj Close, Volume]\n",
      "Index: []\n"
     ]
    },
    {
     "name": "stderr",
     "output_type": "stream",
     "text": [
      "[*********************100%%**********************]  1 of 1 completed\n",
      "\n",
      "1 Failed download:\n",
      "['G9473A125']: Exception('%ticker%: No timezone found, symbol may be delisted')\n"
     ]
    },
    {
     "name": "stdout",
     "output_type": "stream",
     "text": [
      "Empty DataFrame\n",
      "Columns: [Open, High, Low, Close, Adj Close, Volume]\n",
      "Index: []\n"
     ]
    },
    {
     "name": "stderr",
     "output_type": "stream",
     "text": [
      "[*********************100%%**********************]  1 of 1 completed\n",
      "\n",
      "1 Failed download:\n",
      "['G8656T117']: Exception('%ticker%: No timezone found, symbol may be delisted')\n"
     ]
    },
    {
     "name": "stdout",
     "output_type": "stream",
     "text": [
      "Empty DataFrame\n",
      "Columns: [Open, High, Low, Close, Adj Close, Volume]\n",
      "Index: []\n"
     ]
    },
    {
     "name": "stderr",
     "output_type": "stream",
     "text": [
      "[*********************100%%**********************]  1 of 1 completed\n",
      "\n",
      "1 Failed download:\n",
      "['G1889L118']: Exception('%ticker%: No timezone found, symbol may be delisted')\n"
     ]
    },
    {
     "name": "stdout",
     "output_type": "stream",
     "text": [
      "Empty DataFrame\n",
      "Columns: [Open, High, Low, Close, Adj Close, Volume]\n",
      "Index: []\n"
     ]
    },
    {
     "name": "stderr",
     "output_type": "stream",
     "text": [
      "[*********************100%%**********************]  1 of 1 completed\n",
      "\n",
      "1 Failed download:\n",
      "['77867R209']: Exception('%ticker%: No timezone found, symbol may be delisted')\n"
     ]
    },
    {
     "name": "stdout",
     "output_type": "stream",
     "text": [
      "Empty DataFrame\n",
      "Columns: [Open, High, Low, Close, Adj Close, Volume]\n",
      "Index: []\n"
     ]
    },
    {
     "name": "stderr",
     "output_type": "stream",
     "text": [
      "[*********************100%%**********************]  1 of 1 completed\n",
      "\n",
      "1 Failed download:\n",
      "['74349W203']: Exception('%ticker%: No timezone found, symbol may be delisted')\n"
     ]
    },
    {
     "name": "stdout",
     "output_type": "stream",
     "text": [
      "Empty DataFrame\n",
      "Columns: [Open, High, Low, Close, Adj Close, Volume]\n",
      "Index: []\n"
     ]
    },
    {
     "name": "stderr",
     "output_type": "stream",
     "text": [
      "[*********************100%%**********************]  1 of 1 completed\n",
      "\n",
      "1 Failed download:\n",
      "['13767K200']: Exception('%ticker%: No timezone found, symbol may be delisted')\n"
     ]
    },
    {
     "name": "stdout",
     "output_type": "stream",
     "text": [
      "Empty DataFrame\n",
      "Columns: [Open, High, Low, Close, Adj Close, Volume]\n",
      "Index: []\n"
     ]
    },
    {
     "name": "stderr",
     "output_type": "stream",
     "text": [
      "[*********************100%%**********************]  1 of 1 completed\n",
      "\n",
      "1 Failed download:\n",
      "['07402Q200']: Exception('%ticker%: No timezone found, symbol may be delisted')\n"
     ]
    },
    {
     "name": "stdout",
     "output_type": "stream",
     "text": [
      "Empty DataFrame\n",
      "Columns: [Open, High, Low, Close, Adj Close, Volume]\n",
      "Index: []\n"
     ]
    },
    {
     "name": "stderr",
     "output_type": "stream",
     "text": [
      "[*********************100%%**********************]  1 of 1 completed\n",
      "\n",
      "1 Failed download:\n",
      "['29978K201']: Exception('%ticker%: No timezone found, symbol may be delisted')\n"
     ]
    },
    {
     "name": "stdout",
     "output_type": "stream",
     "text": [
      "Empty DataFrame\n",
      "Columns: [Open, High, Low, Close, Adj Close, Volume]\n",
      "Index: []\n"
     ]
    },
    {
     "name": "stderr",
     "output_type": "stream",
     "text": [
      "[*********************100%%**********************]  1 of 1 completed\n",
      "\n",
      "1 Failed download:\n",
      "['G9320Z125']: Exception('%ticker%: No timezone found, symbol may be delisted')\n"
     ]
    },
    {
     "name": "stdout",
     "output_type": "stream",
     "text": [
      "Empty DataFrame\n",
      "Columns: [Open, High, Low, Close, Adj Close, Volume]\n",
      "Index: []\n"
     ]
    },
    {
     "name": "stderr",
     "output_type": "stream",
     "text": [
      "[*********************100%%**********************]  1 of 1 completed\n",
      "\n",
      "1 Failed download:\n",
      "['G2956R111']: Exception('%ticker%: No timezone found, symbol may be delisted')\n"
     ]
    },
    {
     "name": "stdout",
     "output_type": "stream",
     "text": [
      "Empty DataFrame\n",
      "Columns: [Open, High, Low, Close, Adj Close, Volume]\n",
      "Index: []\n"
     ]
    },
    {
     "name": "stderr",
     "output_type": "stream",
     "text": [
      "[*********************100%%**********************]  1 of 1 completed\n",
      "\n",
      "1 Failed download:\n",
      "['56168P203']: Exception('%ticker%: No timezone found, symbol may be delisted')\n"
     ]
    },
    {
     "name": "stdout",
     "output_type": "stream",
     "text": [
      "Empty DataFrame\n",
      "Columns: [Open, High, Low, Close, Adj Close, Volume]\n",
      "Index: []\n"
     ]
    },
    {
     "name": "stderr",
     "output_type": "stream",
     "text": [
      "[*********************100%%**********************]  1 of 1 completed\n",
      "\n",
      "1 Failed download:\n",
      "['52473Y203']: Exception('%ticker%: No timezone found, symbol may be delisted')\n"
     ]
    },
    {
     "name": "stdout",
     "output_type": "stream",
     "text": [
      "Empty DataFrame\n",
      "Columns: [Open, High, Low, Close, Adj Close, Volume]\n",
      "Index: []\n"
     ]
    },
    {
     "name": "stderr",
     "output_type": "stream",
     "text": [
      "[*********************100%%**********************]  1 of 1 completed\n",
      "\n",
      "1 Failed download:\n",
      "['30320F205']: Exception('%ticker%: No timezone found, symbol may be delisted')\n"
     ]
    },
    {
     "name": "stdout",
     "output_type": "stream",
     "text": [
      "Empty DataFrame\n",
      "Columns: [Open, High, Low, Close, Adj Close, Volume]\n",
      "Index: []\n"
     ]
    },
    {
     "name": "stderr",
     "output_type": "stream",
     "text": [
      "[*********************100%%**********************]  1 of 1 completed\n",
      "\n",
      "1 Failed download:\n",
      "['G26507122']: Exception('%ticker%: No timezone found, symbol may be delisted')\n"
     ]
    },
    {
     "name": "stdout",
     "output_type": "stream",
     "text": [
      "Empty DataFrame\n",
      "Columns: [Open, High, Low, Close, Adj Close, Volume]\n",
      "Index: []\n"
     ]
    },
    {
     "name": "stderr",
     "output_type": "stream",
     "text": [
      "[*********************100%%**********************]  1 of 1 completed\n",
      "\n",
      "1 Failed download:\n",
      "['G47862118']: Exception('%ticker%: No timezone found, symbol may be delisted')\n"
     ]
    },
    {
     "name": "stdout",
     "output_type": "stream",
     "text": [
      "Empty DataFrame\n",
      "Columns: [Open, High, Low, Close, Adj Close, Volume]\n",
      "Index: []\n"
     ]
    },
    {
     "name": "stderr",
     "output_type": "stream",
     "text": [
      "[*********************100%%**********************]  1 of 1 completed\n",
      "\n",
      "1 Failed download:\n",
      "['G48028115']: Exception('%ticker%: No timezone found, symbol may be delisted')\n"
     ]
    },
    {
     "name": "stdout",
     "output_type": "stream",
     "text": [
      "Empty DataFrame\n",
      "Columns: [Open, High, Low, Close, Adj Close, Volume]\n",
      "Index: []\n"
     ]
    },
    {
     "name": "stderr",
     "output_type": "stream",
     "text": [
      "[*********************100%%**********************]  1 of 1 completed\n",
      "\n",
      "1 Failed download:\n",
      "['G0231L115']: Exception('%ticker%: No timezone found, symbol may be delisted')\n"
     ]
    },
    {
     "name": "stdout",
     "output_type": "stream",
     "text": [
      "Empty DataFrame\n",
      "Columns: [Open, High, Low, Close, Adj Close, Volume]\n",
      "Index: []\n"
     ]
    },
    {
     "name": "stderr",
     "output_type": "stream",
     "text": [
      "[*********************100%%**********************]  1 of 1 completed\n",
      "\n",
      "1 Failed download:\n",
      "['G11728121']: Exception('%ticker%: No timezone found, symbol may be delisted')\n"
     ]
    },
    {
     "name": "stdout",
     "output_type": "stream",
     "text": [
      "Empty DataFrame\n",
      "Columns: [Open, High, Low, Close, Adj Close, Volume]\n",
      "Index: []\n"
     ]
    },
    {
     "name": "stderr",
     "output_type": "stream",
     "text": [
      "[*********************100%%**********************]  1 of 1 completed\n",
      "\n",
      "1 Failed download:\n",
      "['81221H204']: Exception('%ticker%: No timezone found, symbol may be delisted')\n"
     ]
    },
    {
     "name": "stdout",
     "output_type": "stream",
     "text": [
      "Empty DataFrame\n",
      "Columns: [Open, High, Low, Close, Adj Close, Volume]\n",
      "Index: []\n"
     ]
    },
    {
     "name": "stderr",
     "output_type": "stream",
     "text": [
      "[*********************100%%**********************]  1 of 1 completed\n",
      "\n",
      "1 Failed download:\n",
      "['040450207']: Exception('%ticker%: No timezone found, symbol may be delisted')\n"
     ]
    },
    {
     "name": "stdout",
     "output_type": "stream",
     "text": [
      "Empty DataFrame\n",
      "Columns: [Open, High, Low, Close, Adj Close, Volume]\n",
      "Index: []\n"
     ]
    },
    {
     "name": "stderr",
     "output_type": "stream",
     "text": [
      "[*********************100%%**********************]  1 of 1 completed\n",
      "\n",
      "1 Failed download:\n",
      "['629567207']: Exception('%ticker%: No timezone found, symbol may be delisted')\n"
     ]
    },
    {
     "name": "stdout",
     "output_type": "stream",
     "text": [
      "Empty DataFrame\n",
      "Columns: [Open, High, Low, Close, Adj Close, Volume]\n",
      "Index: []\n"
     ]
    },
    {
     "name": "stderr",
     "output_type": "stream",
     "text": [
      "[*********************100%%**********************]  1 of 1 completed\n",
      "\n",
      "1 Failed download:\n",
      "['82537G203']: Exception('%ticker%: No timezone found, symbol may be delisted')\n"
     ]
    },
    {
     "name": "stdout",
     "output_type": "stream",
     "text": [
      "Empty DataFrame\n",
      "Columns: [Open, High, Low, Close, Adj Close, Volume]\n",
      "Index: []\n"
     ]
    },
    {
     "name": "stderr",
     "output_type": "stream",
     "text": [
      "[*********************100%%**********************]  1 of 1 completed\n",
      "\n",
      "1 Failed download:\n",
      "['50202D201']: Exception('%ticker%: No timezone found, symbol may be delisted')\n"
     ]
    },
    {
     "name": "stdout",
     "output_type": "stream",
     "text": [
      "Empty DataFrame\n",
      "Columns: [Open, High, Low, Close, Adj Close, Volume]\n",
      "Index: []\n"
     ]
    },
    {
     "name": "stderr",
     "output_type": "stream",
     "text": [
      "[*********************100%%**********************]  1 of 1 completed\n",
      "\n",
      "1 Failed download:\n",
      "['G30449113']: Exception('%ticker%: No timezone found, symbol may be delisted')\n"
     ]
    },
    {
     "name": "stdout",
     "output_type": "stream",
     "text": [
      "Empty DataFrame\n",
      "Columns: [Open, High, Low, Close, Adj Close, Volume]\n",
      "Index: []\n"
     ]
    },
    {
     "name": "stderr",
     "output_type": "stream",
     "text": [
      "[*********************100%%**********************]  1 of 1 completed\n",
      "\n",
      "1 Failed download:\n",
      "['45827R205']: Exception('%ticker%: No timezone found, symbol may be delisted')\n"
     ]
    },
    {
     "name": "stdout",
     "output_type": "stream",
     "text": [
      "Empty DataFrame\n",
      "Columns: [Open, High, Low, Close, Adj Close, Volume]\n",
      "Index: []\n"
     ]
    },
    {
     "name": "stderr",
     "output_type": "stream",
     "text": [
      "[*********************100%%**********************]  1 of 1 completed\n",
      "\n",
      "1 Failed download:\n",
      "['62404B206']: Exception('%ticker%: No timezone found, symbol may be delisted')\n"
     ]
    },
    {
     "name": "stdout",
     "output_type": "stream",
     "text": [
      "Empty DataFrame\n",
      "Columns: [Open, High, Low, Close, Adj Close, Volume]\n",
      "Index: []\n"
     ]
    },
    {
     "name": "stderr",
     "output_type": "stream",
     "text": [
      "[*********************100%%**********************]  1 of 1 completed\n",
      "\n",
      "1 Failed download:\n",
      "['G5338L116']: Exception('%ticker%: No timezone found, symbol may be delisted')\n"
     ]
    },
    {
     "name": "stdout",
     "output_type": "stream",
     "text": [
      "Empty DataFrame\n",
      "Columns: [Open, High, Low, Close, Adj Close, Volume]\n",
      "Index: []\n"
     ]
    },
    {
     "name": "stderr",
     "output_type": "stream",
     "text": [
      "[*********************100%%**********************]  1 of 1 completed\n",
      "\n",
      "1 Failed download:\n",
      "['91842V201']: Exception('%ticker%: No timezone found, symbol may be delisted')\n"
     ]
    },
    {
     "name": "stdout",
     "output_type": "stream",
     "text": [
      "Empty DataFrame\n",
      "Columns: [Open, High, Low, Close, Adj Close, Volume]\n",
      "Index: []\n"
     ]
    },
    {
     "name": "stderr",
     "output_type": "stream",
     "text": [
      "[*********************100%%**********************]  1 of 1 completed\n",
      "\n",
      "1 Failed download:\n",
      "['G2061X128']: Exception('%ticker%: No timezone found, symbol may be delisted')\n"
     ]
    },
    {
     "name": "stdout",
     "output_type": "stream",
     "text": [
      "Empty DataFrame\n",
      "Columns: [Open, High, Low, Close, Adj Close, Volume]\n",
      "Index: []\n"
     ]
    },
    {
     "name": "stderr",
     "output_type": "stream",
     "text": [
      "[*********************100%%**********************]  1 of 1 completed\n",
      "\n",
      "1 Failed download:\n",
      "['04005A203']: Exception('%ticker%: No timezone found, symbol may be delisted')\n"
     ]
    },
    {
     "name": "stdout",
     "output_type": "stream",
     "text": [
      "Empty DataFrame\n",
      "Columns: [Open, High, Low, Close, Adj Close, Volume]\n",
      "Index: []\n"
     ]
    },
    {
     "name": "stderr",
     "output_type": "stream",
     "text": [
      "[*********************100%%**********************]  1 of 1 completed\n",
      "\n",
      "1 Failed download:\n",
      "['G05157121']: Exception('%ticker%: No timezone found, symbol may be delisted')\n"
     ]
    },
    {
     "name": "stdout",
     "output_type": "stream",
     "text": [
      "Empty DataFrame\n",
      "Columns: [Open, High, Low, Close, Adj Close, Volume]\n",
      "Index: []\n"
     ]
    },
    {
     "name": "stderr",
     "output_type": "stream",
     "text": [
      "[*********************100%%**********************]  1 of 1 completed\n",
      "\n",
      "1 Failed download:\n",
      "['G11765123']: Exception('%ticker%: No timezone found, symbol may be delisted')\n"
     ]
    },
    {
     "name": "stdout",
     "output_type": "stream",
     "text": [
      "Empty DataFrame\n",
      "Columns: [Open, High, Low, Close, Adj Close, Volume]\n",
      "Index: []\n"
     ]
    },
    {
     "name": "stderr",
     "output_type": "stream",
     "text": [
      "[*********************100%%**********************]  1 of 1 completed\n",
      "\n",
      "1 Failed download:\n",
      "['G7330C128']: Exception('%ticker%: No timezone found, symbol may be delisted')\n"
     ]
    },
    {
     "name": "stdout",
     "output_type": "stream",
     "text": [
      "Empty DataFrame\n",
      "Columns: [Open, High, Low, Close, Adj Close, Volume]\n",
      "Index: []\n"
     ]
    },
    {
     "name": "stderr",
     "output_type": "stream",
     "text": [
      "[*********************100%%**********************]  1 of 1 completed\n",
      "\n",
      "1 Failed download:\n",
      "['G46482116']: Exception('%ticker%: No timezone found, symbol may be delisted')\n"
     ]
    },
    {
     "name": "stdout",
     "output_type": "stream",
     "text": [
      "Empty DataFrame\n",
      "Columns: [Open, High, Low, Close, Adj Close, Volume]\n",
      "Index: []\n"
     ]
    },
    {
     "name": "stderr",
     "output_type": "stream",
     "text": [
      "[*********************100%%**********************]  1 of 1 completed\n",
      "\n",
      "1 Failed download:\n",
      "['03752A200']: Exception('%ticker%: No timezone found, symbol may be delisted')\n"
     ]
    },
    {
     "name": "stdout",
     "output_type": "stream",
     "text": [
      "Empty DataFrame\n",
      "Columns: [Open, High, Low, Close, Adj Close, Volume]\n",
      "Index: []\n"
     ]
    },
    {
     "name": "stderr",
     "output_type": "stream",
     "text": [
      "[*********************100%%**********************]  1 of 1 completed\n",
      "\n",
      "1 Failed download:\n",
      "['68218C207']: Exception('%ticker%: No timezone found, symbol may be delisted')\n"
     ]
    },
    {
     "name": "stdout",
     "output_type": "stream",
     "text": [
      "Empty DataFrame\n",
      "Columns: [Open, High, Low, Close, Adj Close, Volume]\n",
      "Index: []\n"
     ]
    },
    {
     "name": "stderr",
     "output_type": "stream",
     "text": [
      "[*********************100%%**********************]  1 of 1 completed\n",
      "\n",
      "1 Failed download:\n",
      "['G4166K118']: Exception('%ticker%: No timezone found, symbol may be delisted')\n"
     ]
    },
    {
     "name": "stdout",
     "output_type": "stream",
     "text": [
      "Empty DataFrame\n",
      "Columns: [Open, High, Low, Close, Adj Close, Volume]\n",
      "Index: []\n"
     ]
    },
    {
     "name": "stderr",
     "output_type": "stream",
     "text": [
      "[*********************100%%**********************]  1 of 1 completed\n",
      "\n",
      "1 Failed download:\n",
      "['G2R05B118']: Exception('%ticker%: No timezone found, symbol may be delisted')\n"
     ]
    },
    {
     "name": "stdout",
     "output_type": "stream",
     "text": [
      "Empty DataFrame\n",
      "Columns: [Open, High, Low, Close, Adj Close, Volume]\n",
      "Index: []\n"
     ]
    },
    {
     "name": "stderr",
     "output_type": "stream",
     "text": [
      "[*********************100%%**********************]  1 of 1 completed\n",
      "\n",
      "1 Failed download:\n",
      "['64823D201']: Exception('%ticker%: No timezone found, symbol may be delisted')\n"
     ]
    },
    {
     "name": "stdout",
     "output_type": "stream",
     "text": [
      "Empty DataFrame\n",
      "Columns: [Open, High, Low, Close, Adj Close, Volume]\n",
      "Index: []\n"
     ]
    },
    {
     "name": "stderr",
     "output_type": "stream",
     "text": [
      "[*********************100%%**********************]  1 of 1 completed\n",
      "\n",
      "1 Failed download:\n",
      "['G6301J120']: Exception('%ticker%: No timezone found, symbol may be delisted')\n"
     ]
    },
    {
     "name": "stdout",
     "output_type": "stream",
     "text": [
      "Empty DataFrame\n",
      "Columns: [Open, High, Low, Close, Adj Close, Volume]\n",
      "Index: []\n"
     ]
    },
    {
     "name": "stderr",
     "output_type": "stream",
     "text": [
      "[*********************100%%**********************]  1 of 1 completed\n",
      "\n",
      "1 Failed download:\n",
      "['58759A207']: Exception('%ticker%: No timezone found, symbol may be delisted')\n"
     ]
    },
    {
     "name": "stdout",
     "output_type": "stream",
     "text": [
      "Empty DataFrame\n",
      "Columns: [Open, High, Low, Close, Adj Close, Volume]\n",
      "Index: []\n"
     ]
    },
    {
     "name": "stderr",
     "output_type": "stream",
     "text": [
      "[*********************100%%**********************]  1 of 1 completed\n",
      "\n",
      "1 Failed download:\n",
      "['45828D205']: Exception('%ticker%: No timezone found, symbol may be delisted')\n"
     ]
    },
    {
     "name": "stdout",
     "output_type": "stream",
     "text": [
      "Empty DataFrame\n",
      "Columns: [Open, High, Low, Close, Adj Close, Volume]\n",
      "Index: []\n"
     ]
    },
    {
     "name": "stderr",
     "output_type": "stream",
     "text": [
      "[*********************100%%**********************]  1 of 1 completed\n",
      "\n",
      "1 Failed download:\n",
      "['G7573M122']: Exception('%ticker%: No timezone found, symbol may be delisted')\n"
     ]
    },
    {
     "name": "stdout",
     "output_type": "stream",
     "text": [
      "Empty DataFrame\n",
      "Columns: [Open, High, Low, Close, Adj Close, Volume]\n",
      "Index: []\n"
     ]
    },
    {
     "name": "stderr",
     "output_type": "stream",
     "text": [
      "[*********************100%%**********************]  1 of 1 completed\n",
      "\n",
      "1 Failed download:\n",
      "['G80694121']: Exception('%ticker%: No timezone found, symbol may be delisted')\n"
     ]
    },
    {
     "name": "stdout",
     "output_type": "stream",
     "text": [
      "Empty DataFrame\n",
      "Columns: [Open, High, Low, Close, Adj Close, Volume]\n",
      "Index: []\n"
     ]
    },
    {
     "name": "stderr",
     "output_type": "stream",
     "text": [
      "[*********************100%%**********************]  1 of 1 completed\n",
      "\n",
      "1 Failed download:\n",
      "['83014E208']: Exception('%ticker%: No timezone found, symbol may be delisted')\n"
     ]
    },
    {
     "name": "stdout",
     "output_type": "stream",
     "text": [
      "Empty DataFrame\n",
      "Columns: [Open, High, Low, Close, Adj Close, Volume]\n",
      "Index: []\n"
     ]
    },
    {
     "name": "stderr",
     "output_type": "stream",
     "text": [
      "[*********************100%%**********************]  1 of 1 completed\n",
      "\n",
      "1 Failed download:\n",
      "['536262207']: Exception('%ticker%: No timezone found, symbol may be delisted')\n"
     ]
    },
    {
     "name": "stdout",
     "output_type": "stream",
     "text": [
      "Empty DataFrame\n",
      "Columns: [Open, High, Low, Close, Adj Close, Volume]\n",
      "Index: []\n"
     ]
    },
    {
     "name": "stderr",
     "output_type": "stream",
     "text": [
      "[*********************100%%**********************]  1 of 1 completed\n",
      "\n",
      "1 Failed download:\n",
      "['84854Q202']: Exception('%ticker%: No timezone found, symbol may be delisted')\n"
     ]
    },
    {
     "name": "stdout",
     "output_type": "stream",
     "text": [
      "Empty DataFrame\n",
      "Columns: [Open, High, Low, Close, Adj Close, Volume]\n",
      "Index: []\n"
     ]
    },
    {
     "name": "stderr",
     "output_type": "stream",
     "text": [
      "[*********************100%%**********************]  1 of 1 completed\n",
      "\n",
      "1 Failed download:\n",
      "['20607V205']: Exception('%ticker%: No timezone found, symbol may be delisted')\n"
     ]
    },
    {
     "name": "stdout",
     "output_type": "stream",
     "text": [
      "Empty DataFrame\n",
      "Columns: [Open, High, Low, Close, Adj Close, Volume]\n",
      "Index: []\n"
     ]
    },
    {
     "name": "stderr",
     "output_type": "stream",
     "text": [
      "[*********************100%%**********************]  1 of 1 completed\n",
      "\n",
      "1 Failed download:\n",
      "['48203N202']: Exception('%ticker%: No timezone found, symbol may be delisted')\n"
     ]
    },
    {
     "name": "stdout",
     "output_type": "stream",
     "text": [
      "Empty DataFrame\n",
      "Columns: [Open, High, Low, Close, Adj Close, Volume]\n",
      "Index: []\n"
     ]
    },
    {
     "name": "stderr",
     "output_type": "stream",
     "text": [
      "[*********************100%%**********************]  1 of 1 completed\n",
      "\n",
      "1 Failed download:\n",
      "['53118A204']: Exception('%ticker%: No timezone found, symbol may be delisted')\n"
     ]
    },
    {
     "name": "stdout",
     "output_type": "stream",
     "text": [
      "Empty DataFrame\n",
      "Columns: [Open, High, Low, Close, Adj Close, Volume]\n",
      "Index: []\n"
     ]
    },
    {
     "name": "stderr",
     "output_type": "stream",
     "text": [
      "[*********************100%%**********************]  1 of 1 completed\n",
      "\n",
      "1 Failed download:\n",
      "['G8028L123']: Exception('%ticker%: No timezone found, symbol may be delisted')\n"
     ]
    },
    {
     "name": "stdout",
     "output_type": "stream",
     "text": [
      "Empty DataFrame\n",
      "Columns: [Open, High, Low, Close, Adj Close, Volume]\n",
      "Index: []\n"
     ]
    },
    {
     "name": "stderr",
     "output_type": "stream",
     "text": [
      "[*********************100%%**********************]  1 of 1 completed\n",
      "\n",
      "1 Failed download:\n",
      "['253893200']: Exception('%ticker%: No timezone found, symbol may be delisted')\n"
     ]
    },
    {
     "name": "stdout",
     "output_type": "stream",
     "text": [
      "Empty DataFrame\n",
      "Columns: [Open, High, Low, Close, Adj Close, Volume]\n",
      "Index: []\n"
     ]
    },
    {
     "name": "stderr",
     "output_type": "stream",
     "text": [
      "[*********************100%%**********************]  1 of 1 completed\n",
      "\n",
      "1 Failed download:\n",
      "['G3R34K129']: Exception('%ticker%: No timezone found, symbol may be delisted')\n"
     ]
    },
    {
     "name": "stdout",
     "output_type": "stream",
     "text": [
      "Empty DataFrame\n",
      "Columns: [Open, High, Low, Close, Adj Close, Volume]\n",
      "Index: []\n"
     ]
    },
    {
     "name": "stderr",
     "output_type": "stream",
     "text": [
      "[*********************100%%**********************]  1 of 1 completed\n",
      "\n",
      "1 Failed download:\n",
      "['G86656124']: Exception('%ticker%: No timezone found, symbol may be delisted')\n"
     ]
    },
    {
     "name": "stdout",
     "output_type": "stream",
     "text": [
      "Empty DataFrame\n",
      "Columns: [Open, High, Low, Close, Adj Close, Volume]\n",
      "Index: []\n"
     ]
    },
    {
     "name": "stderr",
     "output_type": "stream",
     "text": [
      "[*********************100%%**********************]  1 of 1 completed\n",
      "\n",
      "1 Failed download:\n",
      "['G9059F126']: Exception('%ticker%: No timezone found, symbol may be delisted')\n"
     ]
    },
    {
     "name": "stdout",
     "output_type": "stream",
     "text": [
      "Empty DataFrame\n",
      "Columns: [Open, High, Low, Close, Adj Close, Volume]\n",
      "Index: []\n"
     ]
    },
    {
     "name": "stderr",
     "output_type": "stream",
     "text": [
      "[*********************100%%**********************]  1 of 1 completed\n",
      "\n",
      "1 Failed download:\n",
      "['34969G201']: Exception('%ticker%: No timezone found, symbol may be delisted')\n"
     ]
    },
    {
     "name": "stdout",
     "output_type": "stream",
     "text": [
      "Empty DataFrame\n",
      "Columns: [Open, High, Low, Close, Adj Close, Volume]\n",
      "Index: []\n"
     ]
    },
    {
     "name": "stderr",
     "output_type": "stream",
     "text": [
      "[*********************100%%**********************]  1 of 1 completed\n",
      "\n",
      "1 Failed download:\n",
      "['45827K200']: Exception('%ticker%: No timezone found, symbol may be delisted')\n"
     ]
    },
    {
     "name": "stdout",
     "output_type": "stream",
     "text": [
      "Empty DataFrame\n",
      "Columns: [Open, High, Low, Close, Adj Close, Volume]\n",
      "Index: []\n"
     ]
    },
    {
     "name": "stderr",
     "output_type": "stream",
     "text": [
      "[*********************100%%**********************]  1 of 1 completed\n",
      "\n",
      "1 Failed download:\n",
      "['87251T208']: Exception('%ticker%: No timezone found, symbol may be delisted')\n"
     ]
    },
    {
     "name": "stdout",
     "output_type": "stream",
     "text": [
      "Empty DataFrame\n",
      "Columns: [Open, High, Low, Close, Adj Close, Volume]\n",
      "Index: []\n"
     ]
    },
    {
     "name": "stderr",
     "output_type": "stream",
     "text": [
      "[*********************100%%**********************]  1 of 1 completed\n",
      "\n",
      "1 Failed download:\n",
      "['58176U208']: Exception('%ticker%: No timezone found, symbol may be delisted')\n"
     ]
    },
    {
     "name": "stdout",
     "output_type": "stream",
     "text": [
      "Empty DataFrame\n",
      "Columns: [Open, High, Low, Close, Adj Close, Volume]\n",
      "Index: []\n"
     ]
    },
    {
     "name": "stderr",
     "output_type": "stream",
     "text": [
      "[*********************100%%**********************]  1 of 1 completed\n",
      "\n",
      "1 Failed download:\n",
      "['G6755Q125']: Exception('%ticker%: No timezone found, symbol may be delisted')\n"
     ]
    },
    {
     "name": "stdout",
     "output_type": "stream",
     "text": [
      "Empty DataFrame\n",
      "Columns: [Open, High, Low, Close, Adj Close, Volume]\n",
      "Index: []\n"
     ]
    },
    {
     "name": "stderr",
     "output_type": "stream",
     "text": [
      "[*********************100%%**********************]  1 of 1 completed\n",
      "\n",
      "1 Failed download:\n",
      "['92838J202']: Exception('%ticker%: No timezone found, symbol may be delisted')\n"
     ]
    },
    {
     "name": "stdout",
     "output_type": "stream",
     "text": [
      "Empty DataFrame\n",
      "Columns: [Open, High, Low, Close, Adj Close, Volume]\n",
      "Index: []\n"
     ]
    },
    {
     "name": "stderr",
     "output_type": "stream",
     "text": [
      "[*********************100%%**********************]  1 of 1 completed\n",
      "\n",
      "1 Failed download:\n",
      "['G79471119']: Exception('%ticker%: No timezone found, symbol may be delisted')\n"
     ]
    },
    {
     "name": "stdout",
     "output_type": "stream",
     "text": [
      "Empty DataFrame\n",
      "Columns: [Open, High, Low, Close, Adj Close, Volume]\n",
      "Index: []\n"
     ]
    },
    {
     "name": "stderr",
     "output_type": "stream",
     "text": [
      "[*********************100%%**********************]  1 of 1 completed\n",
      "\n",
      "1 Failed download:\n",
      "['G72556122']: Exception('%ticker%: No timezone found, symbol may be delisted')\n"
     ]
    },
    {
     "name": "stdout",
     "output_type": "stream",
     "text": [
      "Empty DataFrame\n",
      "Columns: [Open, High, Low, Close, Adj Close, Volume]\n",
      "Index: []\n"
     ]
    },
    {
     "name": "stderr",
     "output_type": "stream",
     "text": [
      "[*********************100%%**********************]  1 of 1 completed\n",
      "\n",
      "1 Failed download:\n",
      "['G1745A116']: Exception('%ticker%: No timezone found, symbol may be delisted')\n"
     ]
    },
    {
     "name": "stdout",
     "output_type": "stream",
     "text": [
      "Empty DataFrame\n",
      "Columns: [Open, High, Low, Close, Adj Close, Volume]\n",
      "Index: []\n"
     ]
    },
    {
     "name": "stderr",
     "output_type": "stream",
     "text": [
      "[*********************100%%**********************]  1 of 1 completed\n",
      "\n",
      "1 Failed download:\n",
      "['02157M207']: Exception('%ticker%: No timezone found, symbol may be delisted')\n"
     ]
    },
    {
     "name": "stdout",
     "output_type": "stream",
     "text": [
      "Empty DataFrame\n",
      "Columns: [Open, High, Low, Close, Adj Close, Volume]\n",
      "Index: []\n"
     ]
    },
    {
     "name": "stderr",
     "output_type": "stream",
     "text": [
      "[*********************100%%**********************]  1 of 1 completed\n",
      "\n",
      "1 Failed download:\n",
      "['03881F203']: Exception('%ticker%: No timezone found, symbol may be delisted')\n"
     ]
    },
    {
     "name": "stdout",
     "output_type": "stream",
     "text": [
      "Empty DataFrame\n",
      "Columns: [Open, High, Low, Close, Adj Close, Volume]\n",
      "Index: []\n"
     ]
    },
    {
     "name": "stderr",
     "output_type": "stream",
     "text": [
      "[*********************100%%**********************]  1 of 1 completed\n",
      "\n",
      "1 Failed download:\n",
      "['G7007D128']: Exception('%ticker%: No timezone found, symbol may be delisted')\n"
     ]
    },
    {
     "name": "stdout",
     "output_type": "stream",
     "text": [
      "Empty DataFrame\n",
      "Columns: [Open, High, Low, Close, Adj Close, Volume]\n",
      "Index: []\n"
     ]
    },
    {
     "name": "stderr",
     "output_type": "stream",
     "text": [
      "[*********************100%%**********************]  1 of 1 completed\n",
      "\n",
      "1 Failed download:\n",
      "['34417L208']: Exception('%ticker%: No timezone found, symbol may be delisted')\n"
     ]
    },
    {
     "name": "stdout",
     "output_type": "stream",
     "text": [
      "Empty DataFrame\n",
      "Columns: [Open, High, Low, Close, Adj Close, Volume]\n",
      "Index: []\n"
     ]
    },
    {
     "name": "stderr",
     "output_type": "stream",
     "text": [
      "[*********************100%%**********************]  1 of 1 completed\n",
      "\n",
      "1 Failed download:\n",
      "['812204204']: Exception('%ticker%: No timezone found, symbol may be delisted')\n"
     ]
    },
    {
     "name": "stdout",
     "output_type": "stream",
     "text": [
      "Empty DataFrame\n",
      "Columns: [Open, High, Low, Close, Adj Close, Volume]\n",
      "Index: []\n"
     ]
    },
    {
     "name": "stderr",
     "output_type": "stream",
     "text": [
      "[*********************100%%**********************]  1 of 1 completed\n",
      "\n",
      "1 Failed download:\n",
      "['G03959122']: Exception('%ticker%: No timezone found, symbol may be delisted')\n"
     ]
    },
    {
     "name": "stdout",
     "output_type": "stream",
     "text": [
      "Empty DataFrame\n",
      "Columns: [Open, High, Low, Close, Adj Close, Volume]\n",
      "Index: []\n"
     ]
    },
    {
     "name": "stderr",
     "output_type": "stream",
     "text": [
      "[*********************100%%**********************]  1 of 1 completed\n",
      "\n",
      "1 Failed download:\n",
      "['243733201']: Exception('%ticker%: No timezone found, symbol may be delisted')\n"
     ]
    },
    {
     "name": "stdout",
     "output_type": "stream",
     "text": [
      "Empty DataFrame\n",
      "Columns: [Open, High, Low, Close, Adj Close, Volume]\n",
      "Index: []\n"
     ]
    },
    {
     "name": "stderr",
     "output_type": "stream",
     "text": [
      "[*********************100%%**********************]  1 of 1 completed\n",
      "\n",
      "1 Failed download:\n",
      "['519345201']: Exception('%ticker%: No timezone found, symbol may be delisted')\n"
     ]
    },
    {
     "name": "stdout",
     "output_type": "stream",
     "text": [
      "Empty DataFrame\n",
      "Columns: [Open, High, Low, Close, Adj Close, Volume]\n",
      "Index: []\n"
     ]
    },
    {
     "name": "stderr",
     "output_type": "stream",
     "text": [
      "[*********************100%%**********************]  1 of 1 completed\n",
      "\n",
      "1 Failed download:\n",
      "['G7308P119']: Exception('%ticker%: No timezone found, symbol may be delisted')\n"
     ]
    },
    {
     "name": "stdout",
     "output_type": "stream",
     "text": [
      "Empty DataFrame\n",
      "Columns: [Open, High, Low, Close, Adj Close, Volume]\n",
      "Index: []\n"
     ]
    },
    {
     "name": "stderr",
     "output_type": "stream",
     "text": [
      "[*********************100%%**********************]  1 of 1 completed\n",
      "\n",
      "1 Failed download:\n",
      "['G4809M117']: Exception('%ticker%: No timezone found, symbol may be delisted')\n"
     ]
    },
    {
     "name": "stdout",
     "output_type": "stream",
     "text": [
      "Empty DataFrame\n",
      "Columns: [Open, High, Low, Close, Adj Close, Volume]\n",
      "Index: []\n"
     ]
    },
    {
     "name": "stderr",
     "output_type": "stream",
     "text": [
      "[*********************100%%**********************]  1 of 1 completed\n",
      "\n",
      "1 Failed download:\n",
      "['671005205']: Exception('%ticker%: No timezone found, symbol may be delisted')\n"
     ]
    },
    {
     "name": "stdout",
     "output_type": "stream",
     "text": [
      "Empty DataFrame\n",
      "Columns: [Open, High, Low, Close, Adj Close, Volume]\n",
      "Index: []\n"
     ]
    },
    {
     "name": "stderr",
     "output_type": "stream",
     "text": [
      "[*********************100%%**********************]  1 of 1 completed\n",
      "\n",
      "1 Failed download:\n",
      "['G88935104']: Exception('%ticker%: No timezone found, symbol may be delisted')\n"
     ]
    },
    {
     "name": "stdout",
     "output_type": "stream",
     "text": [
      "Empty DataFrame\n",
      "Columns: [Open, High, Low, Close, Adj Close, Volume]\n",
      "Index: []\n"
     ]
    },
    {
     "name": "stderr",
     "output_type": "stream",
     "text": [
      "[*********************100%%**********************]  1 of 1 completed\n",
      "\n",
      "1 Failed download:\n",
      "['55407R202']: Exception('%ticker%: No timezone found, symbol may be delisted')\n"
     ]
    },
    {
     "name": "stdout",
     "output_type": "stream",
     "text": [
      "Empty DataFrame\n",
      "Columns: [Open, High, Low, Close, Adj Close, Volume]\n",
      "Index: []\n"
     ]
    },
    {
     "name": "stderr",
     "output_type": "stream",
     "text": [
      "[*********************100%%**********************]  1 of 1 completed\n",
      "\n",
      "1 Failed download:\n",
      "['G69768128']: Exception('%ticker%: No timezone found, symbol may be delisted')\n"
     ]
    },
    {
     "name": "stdout",
     "output_type": "stream",
     "text": [
      "Empty DataFrame\n",
      "Columns: [Open, High, Low, Close, Adj Close, Volume]\n",
      "Index: []\n"
     ]
    },
    {
     "name": "stderr",
     "output_type": "stream",
     "text": [
      "[*********************100%%**********************]  1 of 1 completed\n",
      "\n",
      "1 Failed download:\n",
      "['G4712C123']: Exception('%ticker%: No timezone found, symbol may be delisted')\n"
     ]
    },
    {
     "name": "stdout",
     "output_type": "stream",
     "text": [
      "Empty DataFrame\n",
      "Columns: [Open, High, Low, Close, Adj Close, Volume]\n",
      "Index: []\n"
     ]
    },
    {
     "name": "stderr",
     "output_type": "stream",
     "text": [
      "[*********************100%%**********************]  1 of 1 completed\n",
      "\n",
      "1 Failed download:\n",
      "['651450207']: Exception('%ticker%: No timezone found, symbol may be delisted')\n"
     ]
    },
    {
     "name": "stdout",
     "output_type": "stream",
     "text": [
      "Empty DataFrame\n",
      "Columns: [Open, High, Low, Close, Adj Close, Volume]\n",
      "Index: []\n"
     ]
    },
    {
     "name": "stderr",
     "output_type": "stream",
     "text": [
      "[*********************100%%**********************]  1 of 1 completed\n",
      "\n",
      "1 Failed download:\n",
      "['G9461B127']: Exception('%ticker%: No timezone found, symbol may be delisted')\n"
     ]
    },
    {
     "name": "stdout",
     "output_type": "stream",
     "text": [
      "Empty DataFrame\n",
      "Columns: [Open, High, Low, Close, Adj Close, Volume]\n",
      "Index: []\n"
     ]
    },
    {
     "name": "stderr",
     "output_type": "stream",
     "text": [
      "[*********************100%%**********************]  1 of 1 completed\n",
      "\n",
      "1 Failed download:\n",
      "['G3934N123']: Exception('%ticker%: No timezone found, symbol may be delisted')\n"
     ]
    },
    {
     "name": "stdout",
     "output_type": "stream",
     "text": [
      "Empty DataFrame\n",
      "Columns: [Open, High, Low, Close, Adj Close, Volume]\n",
      "Index: []\n"
     ]
    },
    {
     "name": "stderr",
     "output_type": "stream",
     "text": [
      "[*********************100%%**********************]  1 of 1 completed\n",
      "\n",
      "1 Failed download:\n",
      "['00438Y206']: Exception('%ticker%: No timezone found, symbol may be delisted')\n"
     ]
    },
    {
     "name": "stdout",
     "output_type": "stream",
     "text": [
      "Empty DataFrame\n",
      "Columns: [Open, High, Low, Close, Adj Close, Volume]\n",
      "Index: []\n"
     ]
    },
    {
     "name": "stderr",
     "output_type": "stream",
     "text": [
      "[*********************100%%**********************]  1 of 1 completed\n",
      "\n",
      "1 Failed download:\n",
      "['G7158C127']: Exception('%ticker%: No timezone found, symbol may be delisted')\n"
     ]
    },
    {
     "name": "stdout",
     "output_type": "stream",
     "text": [
      "Empty DataFrame\n",
      "Columns: [Open, High, Low, Close, Adj Close, Volume]\n",
      "Index: []\n"
     ]
    },
    {
     "name": "stderr",
     "output_type": "stream",
     "text": [
      "[*********************100%%**********************]  1 of 1 completed\n",
      "\n",
      "1 Failed download:\n",
      "['30069X201']: Exception('%ticker%: No timezone found, symbol may be delisted')\n"
     ]
    },
    {
     "name": "stdout",
     "output_type": "stream",
     "text": [
      "Empty DataFrame\n",
      "Columns: [Open, High, Low, Close, Adj Close, Volume]\n",
      "Index: []\n"
     ]
    },
    {
     "name": "stderr",
     "output_type": "stream",
     "text": [
      "[*********************100%%**********************]  1 of 1 completed\n",
      "\n",
      "1 Failed download:\n",
      "['G6448C111']: Exception('%ticker%: No timezone found, symbol may be delisted')\n"
     ]
    },
    {
     "name": "stdout",
     "output_type": "stream",
     "text": [
      "Empty DataFrame\n",
      "Columns: [Open, High, Low, Close, Adj Close, Volume]\n",
      "Index: []\n"
     ]
    },
    {
     "name": "stderr",
     "output_type": "stream",
     "text": [
      "[*********************100%%**********************]  1 of 1 completed\n",
      "\n",
      "1 Failed download:\n",
      "['45617P203']: Exception('%ticker%: No timezone found, symbol may be delisted')\n"
     ]
    },
    {
     "name": "stdout",
     "output_type": "stream",
     "text": [
      "Empty DataFrame\n",
      "Columns: [Open, High, Low, Close, Adj Close, Volume]\n",
      "Index: []\n"
     ]
    },
    {
     "name": "stderr",
     "output_type": "stream",
     "text": [
      "[*********************100%%**********************]  1 of 1 completed\n",
      "\n",
      "1 Failed download:\n",
      "['04684M205']: Exception('%ticker%: No timezone found, symbol may be delisted')\n"
     ]
    },
    {
     "name": "stdout",
     "output_type": "stream",
     "text": [
      "Empty DataFrame\n",
      "Columns: [Open, High, Low, Close, Adj Close, Volume]\n",
      "Index: []\n"
     ]
    },
    {
     "name": "stderr",
     "output_type": "stream",
     "text": [
      "[*********************100%%**********************]  1 of 1 completed\n",
      "\n",
      "1 Failed download:\n",
      "['G3137C122']: Exception('%ticker%: No timezone found, symbol may be delisted')\n"
     ]
    },
    {
     "name": "stdout",
     "output_type": "stream",
     "text": [
      "Empty DataFrame\n",
      "Columns: [Open, High, Low, Close, Adj Close, Volume]\n",
      "Index: []\n"
     ]
    },
    {
     "name": "stderr",
     "output_type": "stream",
     "text": [
      "[*********************100%%**********************]  1 of 1 completed\n",
      "\n",
      "1 Failed download:\n",
      "['G97775129']: Exception('%ticker%: No timezone found, symbol may be delisted')\n"
     ]
    },
    {
     "name": "stdout",
     "output_type": "stream",
     "text": [
      "Empty DataFrame\n",
      "Columns: [Open, High, Low, Close, Adj Close, Volume]\n",
      "Index: []\n"
     ]
    },
    {
     "name": "stderr",
     "output_type": "stream",
     "text": [
      "[*********************100%%**********************]  1 of 1 completed\n",
      "\n",
      "1 Failed download:\n",
      "['G3R95N129']: Exception('%ticker%: No timezone found, symbol may be delisted')\n"
     ]
    },
    {
     "name": "stdout",
     "output_type": "stream",
     "text": [
      "Empty DataFrame\n",
      "Columns: [Open, High, Low, Close, Adj Close, Volume]\n",
      "Index: []\n"
     ]
    },
    {
     "name": "stderr",
     "output_type": "stream",
     "text": [
      "[*********************100%%**********************]  1 of 1 completed\n",
      "\n",
      "1 Failed download:\n",
      "['318136207']: Exception('%ticker%: No timezone found, symbol may be delisted')\n"
     ]
    },
    {
     "name": "stdout",
     "output_type": "stream",
     "text": [
      "Empty DataFrame\n",
      "Columns: [Open, High, Low, Close, Adj Close, Volume]\n",
      "Index: []\n"
     ]
    },
    {
     "name": "stderr",
     "output_type": "stream",
     "text": [
      "[*********************100%%**********************]  1 of 1 completed\n",
      "\n",
      "1 Failed download:\n",
      "['09370F208']: Exception('%ticker%: No timezone found, symbol may be delisted')\n"
     ]
    },
    {
     "name": "stdout",
     "output_type": "stream",
     "text": [
      "Empty DataFrame\n",
      "Columns: [Open, High, Low, Close, Adj Close, Volume]\n",
      "Index: []\n"
     ]
    },
    {
     "name": "stderr",
     "output_type": "stream",
     "text": [
      "[*********************100%%**********************]  1 of 1 completed\n",
      "\n",
      "1 Failed download:\n",
      "['84921J207']: Exception('%ticker%: No timezone found, symbol may be delisted')\n"
     ]
    },
    {
     "name": "stdout",
     "output_type": "stream",
     "text": [
      "Empty DataFrame\n",
      "Columns: [Open, High, Low, Close, Adj Close, Volume]\n",
      "Index: []\n"
     ]
    },
    {
     "name": "stderr",
     "output_type": "stream",
     "text": [
      "[*********************100%%**********************]  1 of 1 completed\n",
      "\n",
      "1 Failed download:\n",
      "['00444X200']: Exception('%ticker%: No timezone found, symbol may be delisted')\n"
     ]
    },
    {
     "name": "stdout",
     "output_type": "stream",
     "text": [
      "Empty DataFrame\n",
      "Columns: [Open, High, Low, Close, Adj Close, Volume]\n",
      "Index: []\n"
     ]
    },
    {
     "name": "stderr",
     "output_type": "stream",
     "text": [
      "[*********************100%%**********************]  1 of 1 completed\n",
      "\n",
      "1 Failed download:\n",
      "['G2476C115']: Exception('%ticker%: No timezone found, symbol may be delisted')\n"
     ]
    },
    {
     "name": "stdout",
     "output_type": "stream",
     "text": [
      "Empty DataFrame\n",
      "Columns: [Open, High, Low, Close, Adj Close, Volume]\n",
      "Index: []\n"
     ]
    },
    {
     "name": "stderr",
     "output_type": "stream",
     "text": [
      "[*********************100%%**********************]  1 of 1 completed\n",
      "\n",
      "1 Failed download:\n",
      "['G3661E122']: Exception('%ticker%: No timezone found, symbol may be delisted')\n"
     ]
    },
    {
     "name": "stdout",
     "output_type": "stream",
     "text": [
      "Empty DataFrame\n",
      "Columns: [Open, High, Low, Close, Adj Close, Volume]\n",
      "Index: []\n"
     ]
    },
    {
     "name": "stderr",
     "output_type": "stream",
     "text": [
      "[*********************100%%**********************]  1 of 1 completed\n",
      "\n",
      "1 Failed download:\n",
      "['79956P201']: Exception('%ticker%: No timezone found, symbol may be delisted')\n"
     ]
    },
    {
     "name": "stdout",
     "output_type": "stream",
     "text": [
      "Empty DataFrame\n",
      "Columns: [Open, High, Low, Close, Adj Close, Volume]\n",
      "Index: []\n"
     ]
    },
    {
     "name": "stderr",
     "output_type": "stream",
     "text": [
      "[*********************100%%**********************]  1 of 1 completed\n",
      "\n",
      "1 Failed download:\n",
      "['G70021129']: Exception('%ticker%: No timezone found, symbol may be delisted')\n"
     ]
    },
    {
     "name": "stdout",
     "output_type": "stream",
     "text": [
      "Empty DataFrame\n",
      "Columns: [Open, High, Low, Close, Adj Close, Volume]\n",
      "Index: []\n"
     ]
    },
    {
     "name": "stderr",
     "output_type": "stream",
     "text": [
      "[*********************100%%**********************]  1 of 1 completed\n",
      "\n",
      "1 Failed download:\n",
      "['G9074V122']: Exception('%ticker%: No timezone found, symbol may be delisted')\n"
     ]
    },
    {
     "name": "stdout",
     "output_type": "stream",
     "text": [
      "Empty DataFrame\n",
      "Columns: [Open, High, Low, Close, Adj Close, Volume]\n",
      "Index: []\n"
     ]
    },
    {
     "name": "stderr",
     "output_type": "stream",
     "text": [
      "[*********************100%%**********************]  1 of 1 completed\n",
      "\n",
      "1 Failed download:\n",
      "['09216A207']: Exception('%ticker%: No timezone found, symbol may be delisted')\n"
     ]
    },
    {
     "name": "stdout",
     "output_type": "stream",
     "text": [
      "Empty DataFrame\n",
      "Columns: [Open, High, Low, Close, Adj Close, Volume]\n",
      "Index: []\n"
     ]
    },
    {
     "name": "stderr",
     "output_type": "stream",
     "text": [
      "[*********************100%%**********************]  1 of 1 completed\n",
      "\n",
      "1 Failed download:\n",
      "['G7637J115']: Exception('%ticker%: No timezone found, symbol may be delisted')\n"
     ]
    },
    {
     "name": "stdout",
     "output_type": "stream",
     "text": [
      "Empty DataFrame\n",
      "Columns: [Open, High, Low, Close, Adj Close, Volume]\n",
      "Index: []\n"
     ]
    },
    {
     "name": "stderr",
     "output_type": "stream",
     "text": [
      "[*********************100%%**********************]  1 of 1 completed\n",
      "\n",
      "1 Failed download:\n",
      "['G3400W128']: Exception('%ticker%: No timezone found, symbol may be delisted')\n"
     ]
    },
    {
     "name": "stdout",
     "output_type": "stream",
     "text": [
      "Empty DataFrame\n",
      "Columns: [Open, High, Low, Close, Adj Close, Volume]\n",
      "Index: []\n"
     ]
    },
    {
     "name": "stderr",
     "output_type": "stream",
     "text": [
      "[*********************100%%**********************]  1 of 1 completed\n",
      "\n",
      "1 Failed download:\n",
      "['G38537117']: Exception('%ticker%: No timezone found, symbol may be delisted')\n"
     ]
    },
    {
     "name": "stdout",
     "output_type": "stream",
     "text": [
      "Empty DataFrame\n",
      "Columns: [Open, High, Low, Close, Adj Close, Volume]\n",
      "Index: []\n"
     ]
    },
    {
     "name": "stderr",
     "output_type": "stream",
     "text": [
      "[*********************100%%**********************]  1 of 1 completed\n",
      "\n",
      "1 Failed download:\n",
      "['G54157121']: Exception('%ticker%: No timezone found, symbol may be delisted')\n"
     ]
    },
    {
     "name": "stdout",
     "output_type": "stream",
     "text": [
      "Empty DataFrame\n",
      "Columns: [Open, High, Low, Close, Adj Close, Volume]\n",
      "Index: []\n"
     ]
    },
    {
     "name": "stderr",
     "output_type": "stream",
     "text": [
      "[*********************100%%**********************]  1 of 1 completed\n",
      "\n",
      "1 Failed download:\n",
      "['808212203']: Exception('%ticker%: No timezone found, symbol may be delisted')\n"
     ]
    },
    {
     "name": "stdout",
     "output_type": "stream",
     "text": [
      "Empty DataFrame\n",
      "Columns: [Open, High, Low, Close, Adj Close, Volume]\n",
      "Index: []\n"
     ]
    },
    {
     "name": "stderr",
     "output_type": "stream",
     "text": [
      "[*********************100%%**********************]  1 of 1 completed\n",
      "\n",
      "1 Failed download:\n",
      "['57778T205']: Exception('%ticker%: No timezone found, symbol may be delisted')\n"
     ]
    },
    {
     "name": "stdout",
     "output_type": "stream",
     "text": [
      "Empty DataFrame\n",
      "Columns: [Open, High, Low, Close, Adj Close, Volume]\n",
      "Index: []\n"
     ]
    },
    {
     "name": "stderr",
     "output_type": "stream",
     "text": [
      "[*********************100%%**********************]  1 of 1 completed\n",
      "\n",
      "1 Failed download:\n",
      "['42032P207']: Exception('%ticker%: No timezone found, symbol may be delisted')\n"
     ]
    },
    {
     "name": "stdout",
     "output_type": "stream",
     "text": [
      "Empty DataFrame\n",
      "Columns: [Open, High, Low, Close, Adj Close, Volume]\n",
      "Index: []\n"
     ]
    },
    {
     "name": "stderr",
     "output_type": "stream",
     "text": [
      "[*********************100%%**********************]  1 of 1 completed\n",
      "\n",
      "1 Failed download:\n",
      "['G5000D129']: Exception('%ticker%: No timezone found, symbol may be delisted')\n"
     ]
    },
    {
     "name": "stdout",
     "output_type": "stream",
     "text": [
      "Empty DataFrame\n",
      "Columns: [Open, High, Low, Close, Adj Close, Volume]\n",
      "Index: []\n"
     ]
    },
    {
     "name": "stderr",
     "output_type": "stream",
     "text": [
      "[*********************100%%**********************]  1 of 1 completed\n",
      "\n",
      "1 Failed download:\n",
      "['05338E200']: Exception('%ticker%: No timezone found, symbol may be delisted')\n"
     ]
    },
    {
     "name": "stdout",
     "output_type": "stream",
     "text": [
      "Empty DataFrame\n",
      "Columns: [Open, High, Low, Close, Adj Close, Volume]\n",
      "Index: []\n"
     ]
    },
    {
     "name": "stderr",
     "output_type": "stream",
     "text": [
      "[*********************100%%**********************]  1 of 1 completed\n",
      "\n",
      "1 Failed download:\n",
      "['70184A207']: Exception('%ticker%: No timezone found, symbol may be delisted')\n"
     ]
    },
    {
     "name": "stdout",
     "output_type": "stream",
     "text": [
      "Empty DataFrame\n",
      "Columns: [Open, High, Low, Close, Adj Close, Volume]\n",
      "Index: []\n"
     ]
    },
    {
     "name": "stderr",
     "output_type": "stream",
     "text": [
      "[*********************100%%**********************]  1 of 1 completed\n",
      "\n",
      "1 Failed download:\n",
      "['G3167L125']: Exception('%ticker%: No timezone found, symbol may be delisted')\n"
     ]
    },
    {
     "name": "stdout",
     "output_type": "stream",
     "text": [
      "Empty DataFrame\n",
      "Columns: [Open, High, Low, Close, Adj Close, Volume]\n",
      "Index: []\n"
     ]
    },
    {
     "name": "stderr",
     "output_type": "stream",
     "text": [
      "[*********************100%%**********************]  1 of 1 completed\n",
      "\n",
      "1 Failed download:\n",
      "['71902K204']: Exception('%ticker%: No timezone found, symbol may be delisted')\n"
     ]
    },
    {
     "name": "stdout",
     "output_type": "stream",
     "text": [
      "Empty DataFrame\n",
      "Columns: [Open, High, Low, Close, Adj Close, Volume]\n",
      "Index: []\n"
     ]
    },
    {
     "name": "stderr",
     "output_type": "stream",
     "text": [
      "[*********************100%%**********************]  1 of 1 completed\n",
      "\n",
      "1 Failed download:\n",
      "['623006202']: Exception('%ticker%: No timezone found, symbol may be delisted')\n"
     ]
    },
    {
     "name": "stdout",
     "output_type": "stream",
     "text": [
      "Empty DataFrame\n",
      "Columns: [Open, High, Low, Close, Adj Close, Volume]\n",
      "Index: []\n"
     ]
    },
    {
     "name": "stderr",
     "output_type": "stream",
     "text": [
      "[*********************100%%**********************]  1 of 1 completed\n",
      "\n",
      "1 Failed download:\n",
      "['22677T201']: Exception('%ticker%: No timezone found, symbol may be delisted')\n"
     ]
    },
    {
     "name": "stdout",
     "output_type": "stream",
     "text": [
      "Empty DataFrame\n",
      "Columns: [Open, High, Low, Close, Adj Close, Volume]\n",
      "Index: []\n"
     ]
    },
    {
     "name": "stderr",
     "output_type": "stream",
     "text": [
      "[*********************100%%**********************]  1 of 1 completed\n",
      "\n",
      "1 Failed download:\n",
      "['233247204']: Exception('%ticker%: No timezone found, symbol may be delisted')\n"
     ]
    },
    {
     "name": "stdout",
     "output_type": "stream",
     "text": [
      "Empty DataFrame\n",
      "Columns: [Open, High, Low, Close, Adj Close, Volume]\n",
      "Index: []\n"
     ]
    },
    {
     "name": "stderr",
     "output_type": "stream",
     "text": [
      "[*********************100%%**********************]  1 of 1 completed\n",
      "\n",
      "1 Failed download:\n",
      "['61240F207']: Exception('%ticker%: No timezone found, symbol may be delisted')\n"
     ]
    },
    {
     "name": "stdout",
     "output_type": "stream",
     "text": [
      "Empty DataFrame\n",
      "Columns: [Open, High, Low, Close, Adj Close, Volume]\n",
      "Index: []\n"
     ]
    },
    {
     "name": "stderr",
     "output_type": "stream",
     "text": [
      "[*********************100%%**********************]  1 of 1 completed\n",
      "\n",
      "1 Failed download:\n",
      "['56608A204']: Exception('%ticker%: No timezone found, symbol may be delisted')\n"
     ]
    },
    {
     "name": "stdout",
     "output_type": "stream",
     "text": [
      "Empty DataFrame\n",
      "Columns: [Open, High, Low, Close, Adj Close, Volume]\n",
      "Index: []\n"
     ]
    },
    {
     "name": "stderr",
     "output_type": "stream",
     "text": [
      "[*********************100%%**********************]  1 of 1 completed\n",
      "\n",
      "1 Failed download:\n",
      "['04303A202']: Exception('%ticker%: No timezone found, symbol may be delisted')\n"
     ]
    },
    {
     "name": "stdout",
     "output_type": "stream",
     "text": [
      "Empty DataFrame\n",
      "Columns: [Open, High, Low, Close, Adj Close, Volume]\n",
      "Index: []\n"
     ]
    },
    {
     "name": "stderr",
     "output_type": "stream",
     "text": [
      "[*********************100%%**********************]  1 of 1 completed\n",
      "\n",
      "1 Failed download:\n",
      "['43734R202']: Exception('%ticker%: No timezone found, symbol may be delisted')\n"
     ]
    },
    {
     "name": "stdout",
     "output_type": "stream",
     "text": [
      "Empty DataFrame\n",
      "Columns: [Open, High, Low, Close, Adj Close, Volume]\n",
      "Index: []\n"
     ]
    },
    {
     "name": "stderr",
     "output_type": "stream",
     "text": [
      "[*********************100%%**********************]  1 of 1 completed\n",
      "\n",
      "1 Failed download:\n",
      "['42600H207']: Exception('%ticker%: No timezone found, symbol may be delisted')\n"
     ]
    },
    {
     "name": "stdout",
     "output_type": "stream",
     "text": [
      "Empty DataFrame\n",
      "Columns: [Open, High, Low, Close, Adj Close, Volume]\n",
      "Index: []\n"
     ]
    },
    {
     "name": "stderr",
     "output_type": "stream",
     "text": [
      "[*********************100%%**********************]  1 of 1 completed\n",
      "\n",
      "1 Failed download:\n",
      "['G5S74L106']: Exception('%ticker%: No timezone found, symbol may be delisted')\n"
     ]
    },
    {
     "name": "stdout",
     "output_type": "stream",
     "text": [
      "Empty DataFrame\n",
      "Columns: [Open, High, Low, Close, Adj Close, Volume]\n",
      "Index: []\n"
     ]
    },
    {
     "name": "stderr",
     "output_type": "stream",
     "text": [
      "[*********************100%%**********************]  1 of 1 completed\n",
      "\n",
      "1 Failed download:\n",
      "['69901P208']: Exception('%ticker%: No timezone found, symbol may be delisted')\n"
     ]
    },
    {
     "name": "stdout",
     "output_type": "stream",
     "text": [
      "Empty DataFrame\n",
      "Columns: [Open, High, Low, Close, Adj Close, Volume]\n",
      "Index: []\n"
     ]
    },
    {
     "name": "stderr",
     "output_type": "stream",
     "text": [
      "[*********************100%%**********************]  1 of 1 completed\n",
      "\n",
      "1 Failed download:\n",
      "['083690206']: Exception('%ticker%: No timezone found, symbol may be delisted')\n"
     ]
    },
    {
     "name": "stdout",
     "output_type": "stream",
     "text": [
      "Empty DataFrame\n",
      "Columns: [Open, High, Low, Close, Adj Close, Volume]\n",
      "Index: []\n"
     ]
    },
    {
     "name": "stderr",
     "output_type": "stream",
     "text": [
      "[*********************100%%**********************]  1 of 1 completed\n",
      "\n",
      "1 Failed download:\n",
      "['37519U208']: Exception('%ticker%: No timezone found, symbol may be delisted')\n"
     ]
    },
    {
     "name": "stdout",
     "output_type": "stream",
     "text": [
      "Empty DataFrame\n",
      "Columns: [Open, High, Low, Close, Adj Close, Volume]\n",
      "Index: []\n"
     ]
    },
    {
     "name": "stderr",
     "output_type": "stream",
     "text": [
      "[*********************100%%**********************]  1 of 1 completed\n",
      "\n",
      "1 Failed download:\n",
      "['25460L202']: Exception('%ticker%: No timezone found, symbol may be delisted')\n"
     ]
    },
    {
     "name": "stdout",
     "output_type": "stream",
     "text": [
      "Empty DataFrame\n",
      "Columns: [Open, High, Low, Close, Adj Close, Volume]\n",
      "Index: []\n"
     ]
    },
    {
     "name": "stderr",
     "output_type": "stream",
     "text": [
      "[*********************100%%**********************]  1 of 1 completed\n",
      "\n",
      "1 Failed download:\n",
      "['538086208']: Exception('%ticker%: No timezone found, symbol may be delisted')\n"
     ]
    },
    {
     "name": "stdout",
     "output_type": "stream",
     "text": [
      "Empty DataFrame\n",
      "Columns: [Open, High, Low, Close, Adj Close, Volume]\n",
      "Index: []\n"
     ]
    },
    {
     "name": "stderr",
     "output_type": "stream",
     "text": [
      "[*********************100%%**********************]  1 of 1 completed\n",
      "\n",
      "1 Failed download:\n",
      "['G47874105']: Exception('%ticker%: No timezone found, symbol may be delisted')\n"
     ]
    },
    {
     "name": "stdout",
     "output_type": "stream",
     "text": [
      "Empty DataFrame\n",
      "Columns: [Open, High, Low, Close, Adj Close, Volume]\n",
      "Index: []\n"
     ]
    },
    {
     "name": "stderr",
     "output_type": "stream",
     "text": [
      "[*********************100%%**********************]  1 of 1 completed\n",
      "\n",
      "1 Failed download:\n",
      "['04026L204']: Exception('%ticker%: No timezone found, symbol may be delisted')\n"
     ]
    },
    {
     "name": "stdout",
     "output_type": "stream",
     "text": [
      "Empty DataFrame\n",
      "Columns: [Open, High, Low, Close, Adj Close, Volume]\n",
      "Index: []\n"
     ]
    },
    {
     "name": "stderr",
     "output_type": "stream",
     "text": [
      "[*********************100%%**********************]  1 of 1 completed\n",
      "\n",
      "1 Failed download:\n",
      "['G4R23P137']: Exception('%ticker%: No timezone found, symbol may be delisted')\n"
     ]
    },
    {
     "name": "stdout",
     "output_type": "stream",
     "text": [
      "Empty DataFrame\n",
      "Columns: [Open, High, Low, Close, Adj Close, Volume]\n",
      "Index: []\n"
     ]
    },
    {
     "name": "stderr",
     "output_type": "stream",
     "text": [
      "[*********************100%%**********************]  1 of 1 completed\n",
      "\n",
      "1 Failed download:\n",
      "['G82472104']: Exception('%ticker%: No timezone found, symbol may be delisted')\n"
     ]
    },
    {
     "name": "stdout",
     "output_type": "stream",
     "text": [
      "Empty DataFrame\n",
      "Columns: [Open, High, Low, Close, Adj Close, Volume]\n",
      "Index: []\n"
     ]
    },
    {
     "name": "stderr",
     "output_type": "stream",
     "text": [
      "[*********************100%%**********************]  1 of 1 completed\n",
      "\n",
      "1 Failed download:\n",
      "['826332207']: Exception('%ticker%: No timezone found, symbol may be delisted')\n"
     ]
    },
    {
     "name": "stdout",
     "output_type": "stream",
     "text": [
      "Empty DataFrame\n",
      "Columns: [Open, High, Low, Close, Adj Close, Volume]\n",
      "Index: []\n"
     ]
    },
    {
     "name": "stderr",
     "output_type": "stream",
     "text": [
      "[*********************100%%**********************]  1 of 1 completed\n",
      "\n",
      "1 Failed download:\n",
      "['12561U208']: Exception('%ticker%: No timezone found, symbol may be delisted')\n"
     ]
    },
    {
     "name": "stdout",
     "output_type": "stream",
     "text": [
      "Empty DataFrame\n",
      "Columns: [Open, High, Low, Close, Adj Close, Volume]\n",
      "Index: []\n"
     ]
    },
    {
     "name": "stderr",
     "output_type": "stream",
     "text": [
      "[*********************100%%**********************]  1 of 1 completed\n",
      "\n",
      "1 Failed download:\n",
      "['00809L205']: Exception('%ticker%: No timezone found, symbol may be delisted')\n"
     ]
    },
    {
     "name": "stdout",
     "output_type": "stream",
     "text": [
      "Empty DataFrame\n",
      "Columns: [Open, High, Low, Close, Adj Close, Volume]\n",
      "Index: []\n"
     ]
    },
    {
     "name": "stderr",
     "output_type": "stream",
     "text": [
      "[*********************100%%**********************]  1 of 1 completed\n",
      "\n",
      "1 Failed download:\n",
      "['97655B208']: Exception('%ticker%: No timezone found, symbol may be delisted')\n"
     ]
    },
    {
     "name": "stdout",
     "output_type": "stream",
     "text": [
      "Empty DataFrame\n",
      "Columns: [Open, High, Low, Close, Adj Close, Volume]\n",
      "Index: []\n"
     ]
    },
    {
     "name": "stderr",
     "output_type": "stream",
     "text": [
      "[*********************100%%**********************]  1 of 1 completed\n",
      "\n",
      "1 Failed download:\n",
      "['G3041W123']: Exception('%ticker%: No timezone found, symbol may be delisted')\n"
     ]
    },
    {
     "name": "stdout",
     "output_type": "stream",
     "text": [
      "Empty DataFrame\n",
      "Columns: [Open, High, Low, Close, Adj Close, Volume]\n",
      "Index: []\n"
     ]
    },
    {
     "name": "stderr",
     "output_type": "stream",
     "text": [
      "[*********************100%%**********************]  1 of 1 completed\n",
      "\n",
      "1 Failed download:\n",
      "['69512X202']: Exception('%ticker%: No timezone found, symbol may be delisted')\n"
     ]
    },
    {
     "name": "stdout",
     "output_type": "stream",
     "text": [
      "Empty DataFrame\n",
      "Columns: [Open, High, Low, Close, Adj Close, Volume]\n",
      "Index: []\n"
     ]
    },
    {
     "name": "stderr",
     "output_type": "stream",
     "text": [
      "[*********************100%%**********************]  1 of 1 completed\n",
      "\n",
      "1 Failed download:\n",
      "['G8136V120']: Exception('%ticker%: No timezone found, symbol may be delisted')\n"
     ]
    },
    {
     "name": "stdout",
     "output_type": "stream",
     "text": [
      "Empty DataFrame\n",
      "Columns: [Open, High, Low, Close, Adj Close, Volume]\n",
      "Index: []\n"
     ]
    },
    {
     "name": "stderr",
     "output_type": "stream",
     "text": [
      "[*********************100%%**********************]  1 of 1 completed\n",
      "\n",
      "1 Failed download:\n",
      "['066644204']: Exception('%ticker%: No timezone found, symbol may be delisted')\n"
     ]
    },
    {
     "name": "stdout",
     "output_type": "stream",
     "text": [
      "Empty DataFrame\n",
      "Columns: [Open, High, Low, Close, Adj Close, Volume]\n",
      "Index: []\n"
     ]
    },
    {
     "name": "stderr",
     "output_type": "stream",
     "text": [
      "[*********************100%%**********************]  1 of 1 completed\n",
      "\n",
      "1 Failed download:\n",
      "['320703200']: Exception('%ticker%: No timezone found, symbol may be delisted')\n"
     ]
    },
    {
     "name": "stdout",
     "output_type": "stream",
     "text": [
      "Empty DataFrame\n",
      "Columns: [Open, High, Low, Close, Adj Close, Volume]\n",
      "Index: []\n"
     ]
    },
    {
     "name": "stderr",
     "output_type": "stream",
     "text": [
      "[*********************100%%**********************]  1 of 1 completed\n",
      "\n",
      "1 Failed download:\n",
      "['36118W201']: Exception('%ticker%: No timezone found, symbol may be delisted')\n"
     ]
    },
    {
     "name": "stdout",
     "output_type": "stream",
     "text": [
      "Empty DataFrame\n",
      "Columns: [Open, High, Low, Close, Adj Close, Volume]\n",
      "Index: []\n"
     ]
    },
    {
     "name": "stderr",
     "output_type": "stream",
     "text": [
      "[*********************100%%**********************]  1 of 1 completed\n",
      "\n",
      "1 Failed download:\n",
      "['06654K200']: Exception('%ticker%: No timezone found, symbol may be delisted')\n"
     ]
    },
    {
     "name": "stdout",
     "output_type": "stream",
     "text": [
      "Empty DataFrame\n",
      "Columns: [Open, High, Low, Close, Adj Close, Volume]\n",
      "Index: []\n"
     ]
    },
    {
     "name": "stderr",
     "output_type": "stream",
     "text": [
      "[*********************100%%**********************]  1 of 1 completed\n",
      "\n",
      "1 Failed download:\n",
      "['25400Q204']: Exception('%ticker%: No timezone found, symbol may be delisted')\n"
     ]
    },
    {
     "name": "stdout",
     "output_type": "stream",
     "text": [
      "Empty DataFrame\n",
      "Columns: [Open, High, Low, Close, Adj Close, Volume]\n",
      "Index: []\n"
     ]
    },
    {
     "name": "stderr",
     "output_type": "stream",
     "text": [
      "[*********************100%%**********************]  1 of 1 completed\n",
      "\n",
      "1 Failed download:\n",
      "['G6859L113']: Exception('%ticker%: No timezone found, symbol may be delisted')\n"
     ]
    },
    {
     "name": "stdout",
     "output_type": "stream",
     "text": [
      "Empty DataFrame\n",
      "Columns: [Open, High, Low, Close, Adj Close, Volume]\n",
      "Index: []\n"
     ]
    },
    {
     "name": "stderr",
     "output_type": "stream",
     "text": [
      "[*********************100%%**********************]  1 of 1 completed\n",
      "\n",
      "1 Failed download:\n",
      "['45784L209']: Exception('%ticker%: No timezone found, symbol may be delisted')\n"
     ]
    },
    {
     "name": "stdout",
     "output_type": "stream",
     "text": [
      "Empty DataFrame\n",
      "Columns: [Open, High, Low, Close, Adj Close, Volume]\n",
      "Index: []\n"
     ]
    },
    {
     "name": "stderr",
     "output_type": "stream",
     "text": [
      "[*********************100%%**********************]  1 of 1 completed\n",
      "\n",
      "1 Failed download:\n",
      "['23344T202']: Exception('%ticker%: No timezone found, symbol may be delisted')\n"
     ]
    },
    {
     "name": "stdout",
     "output_type": "stream",
     "text": [
      "Empty DataFrame\n",
      "Columns: [Open, High, Low, Close, Adj Close, Volume]\n",
      "Index: []\n"
     ]
    },
    {
     "name": "stderr",
     "output_type": "stream",
     "text": [
      "[*********************100%%**********************]  1 of 1 completed\n",
      "\n",
      "1 Failed download:\n",
      "['20607U207']: Exception('%ticker%: No timezone found, symbol may be delisted')\n"
     ]
    },
    {
     "name": "stdout",
     "output_type": "stream",
     "text": [
      "Empty DataFrame\n",
      "Columns: [Open, High, Low, Close, Adj Close, Volume]\n",
      "Index: []\n"
     ]
    },
    {
     "name": "stderr",
     "output_type": "stream",
     "text": [
      "[*********************100%%**********************]  1 of 1 completed\n",
      "\n",
      "1 Failed download:\n",
      "['G2254A117']: Exception('%ticker%: No timezone found, symbol may be delisted')\n"
     ]
    },
    {
     "name": "stdout",
     "output_type": "stream",
     "text": [
      "Empty DataFrame\n",
      "Columns: [Open, High, Low, Close, Adj Close, Volume]\n",
      "Index: []\n"
     ]
    },
    {
     "name": "stderr",
     "output_type": "stream",
     "text": [
      "[*********************100%%**********************]  1 of 1 completed\n",
      "\n",
      "1 Failed download:\n",
      "['02083L208']: Exception('%ticker%: No timezone found, symbol may be delisted')\n"
     ]
    },
    {
     "name": "stdout",
     "output_type": "stream",
     "text": [
      "Empty DataFrame\n",
      "Columns: [Open, High, Low, Close, Adj Close, Volume]\n",
      "Index: []\n"
     ]
    },
    {
     "name": "stderr",
     "output_type": "stream",
     "text": [
      "[*********************100%%**********************]  1 of 1 completed\n",
      "\n",
      "1 Failed download:\n",
      "['85205U206']: Exception('%ticker%: No timezone found, symbol may be delisted')\n"
     ]
    },
    {
     "name": "stdout",
     "output_type": "stream",
     "text": [
      "Empty DataFrame\n",
      "Columns: [Open, High, Low, Close, Adj Close, Volume]\n",
      "Index: []\n"
     ]
    },
    {
     "name": "stderr",
     "output_type": "stream",
     "text": [
      "[*********************100%%**********************]  1 of 1 completed\n",
      "\n",
      "1 Failed download:\n",
      "['60436Q209']: Exception('%ticker%: No timezone found, symbol may be delisted')\n"
     ]
    },
    {
     "name": "stdout",
     "output_type": "stream",
     "text": [
      "Empty DataFrame\n",
      "Columns: [Open, High, Low, Close, Adj Close, Volume]\n",
      "Index: []\n"
     ]
    },
    {
     "name": "stderr",
     "output_type": "stream",
     "text": [
      "[*********************100%%**********************]  1 of 1 completed\n",
      "\n",
      "1 Failed download:\n",
      "['14739D209']: Exception('%ticker%: No timezone found, symbol may be delisted')\n"
     ]
    },
    {
     "name": "stdout",
     "output_type": "stream",
     "text": [
      "Empty DataFrame\n",
      "Columns: [Open, High, Low, Close, Adj Close, Volume]\n",
      "Index: []\n"
     ]
    },
    {
     "name": "stderr",
     "output_type": "stream",
     "text": [
      "[*********************100%%**********************]  1 of 1 completed\n",
      "\n",
      "1 Failed download:\n",
      "['G06536125']: Exception('%ticker%: No timezone found, symbol may be delisted')\n"
     ]
    },
    {
     "name": "stdout",
     "output_type": "stream",
     "text": [
      "Empty DataFrame\n",
      "Columns: [Open, High, Low, Close, Adj Close, Volume]\n",
      "Index: []\n"
     ]
    },
    {
     "name": "stderr",
     "output_type": "stream",
     "text": [
      "[*********************100%%**********************]  1 of 1 completed\n",
      "\n",
      "1 Failed download:\n",
      "['482082203']: Exception('%ticker%: No timezone found, symbol may be delisted')\n"
     ]
    },
    {
     "name": "stdout",
     "output_type": "stream",
     "text": [
      "Empty DataFrame\n",
      "Columns: [Open, High, Low, Close, Adj Close, Volume]\n",
      "Index: []\n"
     ]
    },
    {
     "name": "stderr",
     "output_type": "stream",
     "text": [
      "[*********************100%%**********************]  1 of 1 completed\n",
      "\n",
      "1 Failed download:\n",
      "['15130M201']: Exception('%ticker%: No timezone found, symbol may be delisted')\n"
     ]
    },
    {
     "name": "stdout",
     "output_type": "stream",
     "text": [
      "Empty DataFrame\n",
      "Columns: [Open, High, Low, Close, Adj Close, Volume]\n",
      "Index: []\n"
     ]
    },
    {
     "name": "stderr",
     "output_type": "stream",
     "text": [
      "[*********************100%%**********************]  1 of 1 completed\n",
      "\n",
      "1 Failed download:\n",
      "['04208V202']: Exception('%ticker%: No timezone found, symbol may be delisted')\n"
     ]
    },
    {
     "name": "stdout",
     "output_type": "stream",
     "text": [
      "Empty DataFrame\n",
      "Columns: [Open, High, Low, Close, Adj Close, Volume]\n",
      "Index: []\n"
     ]
    },
    {
     "name": "stderr",
     "output_type": "stream",
     "text": [
      "[*********************100%%**********************]  1 of 1 completed\n",
      "\n",
      "1 Failed download:\n",
      "['05467C207']: Exception('%ticker%: No timezone found, symbol may be delisted')\n"
     ]
    },
    {
     "name": "stdout",
     "output_type": "stream",
     "text": [
      "Empty DataFrame\n",
      "Columns: [Open, High, Low, Close, Adj Close, Volume]\n",
      "Index: []\n"
     ]
    },
    {
     "name": "stderr",
     "output_type": "stream",
     "text": [
      "[*********************100%%**********************]  1 of 1 completed\n",
      "\n",
      "1 Failed download:\n",
      "['G5251K111']: Exception('%ticker%: No timezone found, symbol may be delisted')\n"
     ]
    },
    {
     "name": "stdout",
     "output_type": "stream",
     "text": [
      "Empty DataFrame\n",
      "Columns: [Open, High, Low, Close, Adj Close, Volume]\n",
      "Index: []\n"
     ]
    },
    {
     "name": "stderr",
     "output_type": "stream",
     "text": [
      "[*********************100%%**********************]  1 of 1 completed\n",
      "\n",
      "1 Failed download:\n",
      "['69291C205']: Exception('%ticker%: No timezone found, symbol may be delisted')\n"
     ]
    },
    {
     "name": "stdout",
     "output_type": "stream",
     "text": [
      "Empty DataFrame\n",
      "Columns: [Open, High, Low, Close, Adj Close, Volume]\n",
      "Index: []\n"
     ]
    },
    {
     "name": "stderr",
     "output_type": "stream",
     "text": [
      "[*********************100%%**********************]  1 of 1 completed\n",
      "\n",
      "1 Failed download:\n",
      "['G01109118']: Exception('%ticker%: No timezone found, symbol may be delisted')\n"
     ]
    },
    {
     "name": "stdout",
     "output_type": "stream",
     "text": [
      "Empty DataFrame\n",
      "Columns: [Open, High, Low, Close, Adj Close, Volume]\n",
      "Index: []\n"
     ]
    },
    {
     "name": "stderr",
     "output_type": "stream",
     "text": [
      "[*********************100%%**********************]  1 of 1 completed\n",
      "\n",
      "1 Failed download:\n",
      "['G6855L125']: Exception('%ticker%: No timezone found, symbol may be delisted')\n"
     ]
    },
    {
     "name": "stdout",
     "output_type": "stream",
     "text": [
      "Empty DataFrame\n",
      "Columns: [Open, High, Low, Close, Adj Close, Volume]\n",
      "Index: []\n"
     ]
    },
    {
     "name": "stderr",
     "output_type": "stream",
     "text": [
      "[*********************100%%**********************]  1 of 1 completed\n",
      "\n",
      "1 Failed download:\n",
      "['G8990L119']: Exception('%ticker%: No timezone found, symbol may be delisted')\n"
     ]
    },
    {
     "name": "stdout",
     "output_type": "stream",
     "text": [
      "Empty DataFrame\n",
      "Columns: [Open, High, Low, Close, Adj Close, Volume]\n",
      "Index: []\n"
     ]
    },
    {
     "name": "stderr",
     "output_type": "stream",
     "text": [
      "[*********************100%%**********************]  1 of 1 completed\n",
      "\n",
      "1 Failed download:\n",
      "['G87076124']: Exception('%ticker%: No timezone found, symbol may be delisted')\n"
     ]
    },
    {
     "name": "stdout",
     "output_type": "stream",
     "text": [
      "Empty DataFrame\n",
      "Columns: [Open, High, Low, Close, Adj Close, Volume]\n",
      "Index: []\n"
     ]
    },
    {
     "name": "stderr",
     "output_type": "stream",
     "text": [
      "[*********************100%%**********************]  1 of 1 completed\n",
      "\n",
      "1 Failed download:\n",
      "['159561208']: Exception('%ticker%: No timezone found, symbol may be delisted')\n"
     ]
    },
    {
     "name": "stdout",
     "output_type": "stream",
     "text": [
      "Empty DataFrame\n",
      "Columns: [Open, High, Low, Close, Adj Close, Volume]\n",
      "Index: []\n"
     ]
    },
    {
     "name": "stderr",
     "output_type": "stream",
     "text": [
      "[*********************100%%**********************]  1 of 1 completed\n",
      "\n",
      "1 Failed download:\n",
      "['G2773W129']: Exception('%ticker%: No timezone found, symbol may be delisted')\n"
     ]
    },
    {
     "name": "stdout",
     "output_type": "stream",
     "text": [
      "Empty DataFrame\n",
      "Columns: [Open, High, Low, Close, Adj Close, Volume]\n",
      "Index: []\n"
     ]
    },
    {
     "name": "stderr",
     "output_type": "stream",
     "text": [
      "[*********************100%%**********************]  1 of 1 completed\n",
      "\n",
      "1 Failed download:\n",
      "['G5596W119']: Exception('%ticker%: No timezone found, symbol may be delisted')\n"
     ]
    },
    {
     "name": "stdout",
     "output_type": "stream",
     "text": [
      "Empty DataFrame\n",
      "Columns: [Open, High, Low, Close, Adj Close, Volume]\n",
      "Index: []\n"
     ]
    },
    {
     "name": "stderr",
     "output_type": "stream",
     "text": [
      "[*********************100%%**********************]  1 of 1 completed\n",
      "\n",
      "1 Failed download:\n",
      "['732450200']: Exception('%ticker%: No timezone found, symbol may be delisted')\n"
     ]
    },
    {
     "name": "stdout",
     "output_type": "stream",
     "text": [
      "Empty DataFrame\n",
      "Columns: [Open, High, Low, Close, Adj Close, Volume]\n",
      "Index: []\n"
     ]
    },
    {
     "name": "stderr",
     "output_type": "stream",
     "text": [
      "[*********************100%%**********************]  1 of 1 completed\n",
      "\n",
      "1 Failed download:\n",
      "['G07247110']: Exception('%ticker%: No timezone found, symbol may be delisted')\n"
     ]
    },
    {
     "name": "stdout",
     "output_type": "stream",
     "text": [
      "Empty DataFrame\n",
      "Columns: [Open, High, Low, Close, Adj Close, Volume]\n",
      "Index: []\n"
     ]
    },
    {
     "name": "stderr",
     "output_type": "stream",
     "text": [
      "[*********************100%%**********************]  1 of 1 completed\n",
      "\n",
      "1 Failed download:\n",
      "['21289P201']: Exception('%ticker%: No timezone found, symbol may be delisted')\n"
     ]
    },
    {
     "name": "stdout",
     "output_type": "stream",
     "text": [
      "Empty DataFrame\n",
      "Columns: [Open, High, Low, Close, Adj Close, Volume]\n",
      "Index: []\n"
     ]
    },
    {
     "name": "stderr",
     "output_type": "stream",
     "text": [
      "[*********************100%%**********************]  1 of 1 completed\n",
      "\n",
      "1 Failed download:\n",
      "['00085X204']: Exception('%ticker%: No timezone found, symbol may be delisted')\n"
     ]
    },
    {
     "name": "stdout",
     "output_type": "stream",
     "text": [
      "Empty DataFrame\n",
      "Columns: [Open, High, Low, Close, Adj Close, Volume]\n",
      "Index: []\n"
     ]
    },
    {
     "name": "stderr",
     "output_type": "stream",
     "text": [
      "[*********************100%%**********************]  1 of 1 completed\n",
      "\n",
      "1 Failed download:\n",
      "['769395203']: Exception('%ticker%: No timezone found, symbol may be delisted')\n"
     ]
    },
    {
     "name": "stdout",
     "output_type": "stream",
     "text": [
      "Empty DataFrame\n",
      "Columns: [Open, High, Low, Close, Adj Close, Volume]\n",
      "Index: []\n"
     ]
    },
    {
     "name": "stderr",
     "output_type": "stream",
     "text": [
      "[*********************100%%**********************]  1 of 1 completed\n",
      "\n",
      "1 Failed download:\n",
      "['G6759A126']: Exception('%ticker%: No timezone found, symbol may be delisted')\n"
     ]
    },
    {
     "name": "stdout",
     "output_type": "stream",
     "text": [
      "Empty DataFrame\n",
      "Columns: [Open, High, Low, Close, Adj Close, Volume]\n",
      "Index: []\n"
     ]
    },
    {
     "name": "stderr",
     "output_type": "stream",
     "text": [
      "[*********************100%%**********************]  1 of 1 completed\n",
      "\n",
      "1 Failed download:\n",
      "['77867P203']: Exception('%ticker%: No timezone found, symbol may be delisted')\n"
     ]
    },
    {
     "name": "stdout",
     "output_type": "stream",
     "text": [
      "Empty DataFrame\n",
      "Columns: [Open, High, Low, Close, Adj Close, Volume]\n",
      "Index: []\n"
     ]
    },
    {
     "name": "stderr",
     "output_type": "stream",
     "text": [
      "[*********************100%%**********************]  1 of 1 completed\n",
      "\n",
      "1 Failed download:\n",
      "['37653T207']: Exception('%ticker%: No timezone found, symbol may be delisted')\n"
     ]
    },
    {
     "name": "stdout",
     "output_type": "stream",
     "text": [
      "Empty DataFrame\n",
      "Columns: [Open, High, Low, Close, Adj Close, Volume]\n",
      "Index: []\n"
     ]
    },
    {
     "name": "stderr",
     "output_type": "stream",
     "text": [
      "[*********************100%%**********************]  1 of 1 completed\n",
      "\n",
      "1 Failed download:\n",
      "['00166R209']: Exception('%ticker%: No timezone found, symbol may be delisted')\n"
     ]
    },
    {
     "name": "stdout",
     "output_type": "stream",
     "text": [
      "Empty DataFrame\n",
      "Columns: [Open, High, Low, Close, Adj Close, Volume]\n",
      "Index: []\n"
     ]
    },
    {
     "name": "stderr",
     "output_type": "stream",
     "text": [
      "[*********************100%%**********************]  1 of 1 completed\n",
      "\n",
      "1 Failed download:\n",
      "['G1330M111']: Exception('%ticker%: No timezone found, symbol may be delisted')\n"
     ]
    },
    {
     "name": "stdout",
     "output_type": "stream",
     "text": [
      "Empty DataFrame\n",
      "Columns: [Open, High, Low, Close, Adj Close, Volume]\n",
      "Index: []\n"
     ]
    },
    {
     "name": "stderr",
     "output_type": "stream",
     "text": [
      "[*********************100%%**********************]  1 of 1 completed\n",
      "\n",
      "1 Failed download:\n",
      "['42227R208']: Exception('%ticker%: No timezone found, symbol may be delisted')\n"
     ]
    },
    {
     "name": "stdout",
     "output_type": "stream",
     "text": [
      "Empty DataFrame\n",
      "Columns: [Open, High, Low, Close, Adj Close, Volume]\n",
      "Index: []\n"
     ]
    },
    {
     "name": "stderr",
     "output_type": "stream",
     "text": [
      "[*********************100%%**********************]  1 of 1 completed\n",
      "\n",
      "1 Failed download:\n",
      "['G9831X114']: Exception('%ticker%: No timezone found, symbol may be delisted')\n"
     ]
    },
    {
     "name": "stdout",
     "output_type": "stream",
     "text": [
      "Empty DataFrame\n",
      "Columns: [Open, High, Low, Close, Adj Close, Volume]\n",
      "Index: []\n"
     ]
    },
    {
     "name": "stderr",
     "output_type": "stream",
     "text": [
      "[*********************100%%**********************]  1 of 1 completed\n",
      "\n",
      "1 Failed download:\n",
      "['83407J202']: Exception('%ticker%: No timezone found, symbol may be delisted')\n"
     ]
    },
    {
     "name": "stdout",
     "output_type": "stream",
     "text": [
      "Empty DataFrame\n",
      "Columns: [Open, High, Low, Close, Adj Close, Volume]\n",
      "Index: []\n"
     ]
    },
    {
     "name": "stderr",
     "output_type": "stream",
     "text": [
      "[*********************100%%**********************]  1 of 1 completed\n",
      "\n",
      "1 Failed download:\n",
      "['459867206']: Exception('%ticker%: No timezone found, symbol may be delisted')\n"
     ]
    },
    {
     "name": "stdout",
     "output_type": "stream",
     "text": [
      "Empty DataFrame\n",
      "Columns: [Open, High, Low, Close, Adj Close, Volume]\n",
      "Index: []\n"
     ]
    },
    {
     "name": "stderr",
     "output_type": "stream",
     "text": [
      "[*********************100%%**********************]  1 of 1 completed\n",
      "\n",
      "1 Failed download:\n",
      "['G60405118']: Exception('%ticker%: No timezone found, symbol may be delisted')\n"
     ]
    },
    {
     "name": "stdout",
     "output_type": "stream",
     "text": [
      "Empty DataFrame\n",
      "Columns: [Open, High, Low, Close, Adj Close, Volume]\n",
      "Index: []\n"
     ]
    },
    {
     "name": "stderr",
     "output_type": "stream",
     "text": [
      "[*********************100%%**********************]  1 of 1 completed\n",
      "\n",
      "1 Failed download:\n",
      "['G63290129']: Exception('%ticker%: No timezone found, symbol may be delisted')\n"
     ]
    },
    {
     "name": "stdout",
     "output_type": "stream",
     "text": [
      "Empty DataFrame\n",
      "Columns: [Open, High, Low, Close, Adj Close, Volume]\n",
      "Index: []\n"
     ]
    },
    {
     "name": "stderr",
     "output_type": "stream",
     "text": [
      "[*********************100%%**********************]  1 of 1 completed\n",
      "\n",
      "1 Failed download:\n",
      "['589381201']: Exception('%ticker%: No timezone found, symbol may be delisted')\n",
      "c:\\Users\\ziggy\\anaconda3\\Lib\\site-packages\\yfinance\\utils.py:775: FutureWarning: The 'unit' keyword in TimedeltaIndex construction is deprecated and will be removed in a future version. Use pd.to_timedelta instead.\n",
      "  df.index += _pd.TimedeltaIndex(dst_error_hours, 'h')\n",
      "[*********************100%%**********************]  1 of 1 completed\n"
     ]
    },
    {
     "name": "stdout",
     "output_type": "stream",
     "text": [
      "Empty DataFrame\n",
      "Columns: [Open, High, Low, Close, Adj Close, Volume]\n",
      "Index: []\n",
      "             Open   High    Low  Close  Adj Close  Volume\n",
      "Date                                                     \n",
      "2021-07-27  14.89  15.02  14.84  15.00  14.645168   44800\n",
      "2021-07-28  15.06  15.14  14.96  15.14  14.781857   35000\n",
      "2021-07-29  15.15  15.25  15.15  15.21  14.850204   31500\n",
      "2021-07-30  15.27  15.33  15.23  15.28  14.918547   59000\n",
      "2021-08-02  15.53  15.53  15.24  15.44  15.074761   53200\n",
      "...           ...    ...    ...    ...        ...     ...\n",
      "2022-07-20  11.67  11.75  11.64  11.66  11.660000   43900\n",
      "2022-07-21  11.68  11.75  11.67  11.74  11.740000   67900\n",
      "2022-07-22  11.74  11.79  11.73  11.74  11.740000   76100\n",
      "2022-07-25  11.74  11.80  11.69  11.80  11.800000   66800\n",
      "2022-07-26  11.82  11.82  11.74  11.76  11.760000   57000\n",
      "\n",
      "[252 rows x 6 columns]\n"
     ]
    },
    {
     "name": "stderr",
     "output_type": "stream",
     "text": [
      "[*********************100%%**********************]  1 of 1 completed\n",
      "\n",
      "1 Failed download:\n",
      "['02073F203']: Exception('%ticker%: No timezone found, symbol may be delisted')\n"
     ]
    },
    {
     "name": "stdout",
     "output_type": "stream",
     "text": [
      "Empty DataFrame\n",
      "Columns: [Open, High, Low, Close, Adj Close, Volume]\n",
      "Index: []\n"
     ]
    },
    {
     "name": "stderr",
     "output_type": "stream",
     "text": [
      "[*********************100%%**********************]  1 of 1 completed\n",
      "\n",
      "1 Failed download:\n",
      "['96951B201']: Exception('%ticker%: No timezone found, symbol may be delisted')\n"
     ]
    },
    {
     "name": "stdout",
     "output_type": "stream",
     "text": [
      "Empty DataFrame\n",
      "Columns: [Open, High, Low, Close, Adj Close, Volume]\n",
      "Index: []\n"
     ]
    },
    {
     "name": "stderr",
     "output_type": "stream",
     "text": [
      "[*********************100%%**********************]  1 of 1 completed\n",
      "\n",
      "1 Failed download:\n",
      "['08069M201']: Exception('%ticker%: No timezone found, symbol may be delisted')\n"
     ]
    },
    {
     "name": "stdout",
     "output_type": "stream",
     "text": [
      "Empty DataFrame\n",
      "Columns: [Open, High, Low, Close, Adj Close, Volume]\n",
      "Index: []\n"
     ]
    },
    {
     "name": "stderr",
     "output_type": "stream",
     "text": [
      "[*********************100%%**********************]  1 of 1 completed\n",
      "\n",
      "1 Failed download:\n",
      "['G7185D122']: Exception('%ticker%: No timezone found, symbol may be delisted')\n"
     ]
    },
    {
     "name": "stdout",
     "output_type": "stream",
     "text": [
      "Empty DataFrame\n",
      "Columns: [Open, High, Low, Close, Adj Close, Volume]\n",
      "Index: []\n"
     ]
    },
    {
     "name": "stderr",
     "output_type": "stream",
     "text": [
      "[*********************100%%**********************]  1 of 1 completed\n",
      "\n",
      "1 Failed download:\n",
      "['G8956E208']: Exception('%ticker%: No timezone found, symbol may be delisted')\n"
     ]
    },
    {
     "name": "stdout",
     "output_type": "stream",
     "text": [
      "Empty DataFrame\n",
      "Columns: [Open, High, Low, Close, Adj Close, Volume]\n",
      "Index: []\n"
     ]
    },
    {
     "name": "stderr",
     "output_type": "stream",
     "text": [
      "[*********************100%%**********************]  1 of 1 completed\n",
      "\n",
      "1 Failed download:\n",
      "['18915E204']: Exception('%ticker%: No timezone found, symbol may be delisted')\n"
     ]
    },
    {
     "name": "stdout",
     "output_type": "stream",
     "text": [
      "Empty DataFrame\n",
      "Columns: [Open, High, Low, Close, Adj Close, Volume]\n",
      "Index: []\n"
     ]
    },
    {
     "name": "stderr",
     "output_type": "stream",
     "text": [
      "[*********************100%%**********************]  1 of 1 completed\n",
      "\n",
      "1 Failed download:\n",
      "['G2058L129']: Exception('%ticker%: No timezone found, symbol may be delisted')\n"
     ]
    },
    {
     "name": "stdout",
     "output_type": "stream",
     "text": [
      "Empty DataFrame\n",
      "Columns: [Open, High, Low, Close, Adj Close, Volume]\n",
      "Index: []\n"
     ]
    },
    {
     "name": "stderr",
     "output_type": "stream",
     "text": [
      "[*********************100%%**********************]  1 of 1 completed\n",
      "\n",
      "1 Failed download:\n",
      "['09001T205']: Exception('%ticker%: No timezone found, symbol may be delisted')\n"
     ]
    },
    {
     "name": "stdout",
     "output_type": "stream",
     "text": [
      "Empty DataFrame\n",
      "Columns: [Open, High, Low, Close, Adj Close, Volume]\n",
      "Index: []\n"
     ]
    },
    {
     "name": "stderr",
     "output_type": "stream",
     "text": [
      "[*********************100%%**********************]  1 of 1 completed\n",
      "\n",
      "1 Failed download:\n",
      "['G85094111']: Exception('%ticker%: No timezone found, symbol may be delisted')\n"
     ]
    },
    {
     "name": "stdout",
     "output_type": "stream",
     "text": [
      "Empty DataFrame\n",
      "Columns: [Open, High, Low, Close, Adj Close, Volume]\n",
      "Index: []\n"
     ]
    },
    {
     "name": "stderr",
     "output_type": "stream",
     "text": [
      "[*********************100%%**********************]  1 of 1 completed\n",
      "\n",
      "1 Failed download:\n",
      "['G11537126']: Exception('%ticker%: No timezone found, symbol may be delisted')\n"
     ]
    },
    {
     "name": "stdout",
     "output_type": "stream",
     "text": [
      "Empty DataFrame\n",
      "Columns: [Open, High, Low, Close, Adj Close, Volume]\n",
      "Index: []\n"
     ]
    },
    {
     "name": "stderr",
     "output_type": "stream",
     "text": [
      "[*********************100%%**********************]  1 of 1 completed\n",
      "\n",
      "1 Failed download:\n",
      "['89268A206']: Exception('%ticker%: No timezone found, symbol may be delisted')\n"
     ]
    },
    {
     "name": "stdout",
     "output_type": "stream",
     "text": [
      "Empty DataFrame\n",
      "Columns: [Open, High, Low, Close, Adj Close, Volume]\n",
      "Index: []\n"
     ]
    },
    {
     "name": "stderr",
     "output_type": "stream",
     "text": [
      "[*********************100%%**********************]  1 of 1 completed\n",
      "\n",
      "1 Failed download:\n",
      "['G50752115']: Exception('%ticker%: No timezone found, symbol may be delisted')\n"
     ]
    },
    {
     "name": "stdout",
     "output_type": "stream",
     "text": [
      "Empty DataFrame\n",
      "Columns: [Open, High, Low, Close, Adj Close, Volume]\n",
      "Index: []\n"
     ]
    },
    {
     "name": "stderr",
     "output_type": "stream",
     "text": [
      "[*********************100%%**********************]  1 of 1 completed\n",
      "\n",
      "1 Failed download:\n",
      "['18453L206']: Exception('%ticker%: No timezone found, symbol may be delisted')\n"
     ]
    },
    {
     "name": "stdout",
     "output_type": "stream",
     "text": [
      "Empty DataFrame\n",
      "Columns: [Open, High, Low, Close, Adj Close, Volume]\n",
      "Index: []\n"
     ]
    },
    {
     "name": "stderr",
     "output_type": "stream",
     "text": [
      "[*********************100%%**********************]  1 of 1 completed\n",
      "\n",
      "1 Failed download:\n",
      "['38216G203']: Exception('%ticker%: No timezone found, symbol may be delisted')\n",
      "c:\\Users\\ziggy\\anaconda3\\Lib\\site-packages\\yfinance\\utils.py:775: FutureWarning: The 'unit' keyword in TimedeltaIndex construction is deprecated and will be removed in a future version. Use pd.to_timedelta instead.\n",
      "  df.index += _pd.TimedeltaIndex(dst_error_hours, 'h')\n",
      "[*********************100%%**********************]  1 of 1 completed\n"
     ]
    },
    {
     "name": "stdout",
     "output_type": "stream",
     "text": [
      "Empty DataFrame\n",
      "Columns: [Open, High, Low, Close, Adj Close, Volume]\n",
      "Index: []\n",
      "             Open   High    Low  Close  Adj Close  Volume\n",
      "Date                                                     \n",
      "2021-07-12  15.48  15.49  15.31  15.33  14.915990    8700\n",
      "2021-07-13  15.69  15.69  15.15  15.15  14.740851   72600\n",
      "2021-07-14  15.13  15.20  15.04  15.04  14.684223   24500\n",
      "2021-07-15  15.24  15.24  14.94  14.99  14.635407   51300\n",
      "2021-07-16  15.00  15.05  14.94  14.97  14.615879   31100\n",
      "...           ...    ...    ...    ...        ...     ...\n",
      "2022-07-05  11.82  11.96  11.76  11.96  11.960000   88900\n",
      "2022-07-06  12.02  12.06  11.98  12.06  12.060000   67200\n",
      "2022-07-07  12.09  12.09  11.79  11.80  11.800000   67200\n",
      "2022-07-08  11.88  11.98  11.73  11.96  11.960000  135200\n",
      "2022-07-11  12.05  12.05  11.85  11.97  11.970000   69400\n",
      "\n",
      "[252 rows x 6 columns]\n"
     ]
    },
    {
     "name": "stderr",
     "output_type": "stream",
     "text": [
      "[*********************100%%**********************]  1 of 1 completed\n",
      "\n",
      "1 Failed download:\n",
      "['005029202']: Exception('%ticker%: No timezone found, symbol may be delisted')\n"
     ]
    },
    {
     "name": "stdout",
     "output_type": "stream",
     "text": [
      "Empty DataFrame\n",
      "Columns: [Open, High, Low, Close, Adj Close, Volume]\n",
      "Index: []\n"
     ]
    },
    {
     "name": "stderr",
     "output_type": "stream",
     "text": [
      "[*********************100%%**********************]  1 of 1 completed\n",
      "\n",
      "1 Failed download:\n",
      "['G3R23A124']: Exception('%ticker%: No timezone found, symbol may be delisted')\n",
      "c:\\Users\\ziggy\\anaconda3\\Lib\\site-packages\\yfinance\\utils.py:775: FutureWarning: The 'unit' keyword in TimedeltaIndex construction is deprecated and will be removed in a future version. Use pd.to_timedelta instead.\n",
      "  df.index += _pd.TimedeltaIndex(dst_error_hours, 'h')\n",
      "[*********************100%%**********************]  1 of 1 completed\n"
     ]
    },
    {
     "name": "stdout",
     "output_type": "stream",
     "text": [
      "Empty DataFrame\n",
      "Columns: [Open, High, Low, Close, Adj Close, Volume]\n",
      "Index: []\n",
      "             Open   High    Low  Close  Adj Close  Volume\n",
      "Date                                                     \n",
      "2021-07-07  15.11  15.20  15.04  15.11  14.701930   58800\n",
      "2021-07-08  15.11  15.21  15.11  15.20  14.789501   17600\n",
      "2021-07-09  15.25  15.34  15.25  15.25  14.838153   23500\n",
      "2021-07-12  15.48  15.49  15.31  15.33  14.915990    8700\n",
      "2021-07-13  15.69  15.69  15.15  15.15  14.740851   72600\n",
      "...           ...    ...    ...    ...        ...     ...\n",
      "2022-06-29  11.72  11.75  11.68  11.74  11.740000   68700\n",
      "2022-06-30  11.73  11.75  11.70  11.73  11.730000   70800\n",
      "2022-07-01  11.75  11.85  11.74  11.78  11.780000   53600\n",
      "2022-07-05  11.82  11.96  11.76  11.96  11.960000   88900\n",
      "2022-07-06  12.02  12.06  11.98  12.06  12.060000   67200\n",
      "\n",
      "[252 rows x 6 columns]\n"
     ]
    },
    {
     "name": "stderr",
     "output_type": "stream",
     "text": [
      "[*********************100%%**********************]  1 of 1 completed\n",
      "\n",
      "1 Failed download:\n",
      "['G41089122']: Exception('%ticker%: No timezone found, symbol may be delisted')\n"
     ]
    },
    {
     "name": "stdout",
     "output_type": "stream",
     "text": [
      "Empty DataFrame\n",
      "Columns: [Open, High, Low, Close, Adj Close, Volume]\n",
      "Index: []\n"
     ]
    },
    {
     "name": "stderr",
     "output_type": "stream",
     "text": [
      "[*********************100%%**********************]  1 of 1 completed\n",
      "\n",
      "1 Failed download:\n",
      "['G2540H124']: Exception('%ticker%: No timezone found, symbol may be delisted')\n"
     ]
    },
    {
     "name": "stdout",
     "output_type": "stream",
     "text": [
      "Empty DataFrame\n",
      "Columns: [Open, High, Low, Close, Adj Close, Volume]\n",
      "Index: []\n"
     ]
    },
    {
     "name": "stderr",
     "output_type": "stream",
     "text": [
      "[*********************100%%**********************]  1 of 1 completed\n",
      "\n",
      "1 Failed download:\n",
      "['362425209']: Exception('%ticker%: No timezone found, symbol may be delisted')\n",
      "c:\\Users\\ziggy\\anaconda3\\Lib\\site-packages\\yfinance\\utils.py:775: FutureWarning: The 'unit' keyword in TimedeltaIndex construction is deprecated and will be removed in a future version. Use pd.to_timedelta instead.\n",
      "  df.index += _pd.TimedeltaIndex(dst_error_hours, 'h')\n",
      "[*********************100%%**********************]  1 of 1 completed\n",
      "c:\\Users\\ziggy\\anaconda3\\Lib\\site-packages\\yfinance\\utils.py:775: FutureWarning: The 'unit' keyword in TimedeltaIndex construction is deprecated and will be removed in a future version. Use pd.to_timedelta instead.\n",
      "  df.index += _pd.TimedeltaIndex(dst_error_hours, 'h')\n",
      "[*********************100%%**********************]  1 of 1 completed\n",
      "c:\\Users\\ziggy\\anaconda3\\Lib\\site-packages\\yfinance\\utils.py:775: FutureWarning: The 'unit' keyword in TimedeltaIndex construction is deprecated and will be removed in a future version. Use pd.to_timedelta instead.\n",
      "  df.index += _pd.TimedeltaIndex(dst_error_hours, 'h')\n",
      "[*********************100%%**********************]  1 of 1 completed\n",
      "c:\\Users\\ziggy\\anaconda3\\Lib\\site-packages\\yfinance\\utils.py:775: FutureWarning: The 'unit' keyword in TimedeltaIndex construction is deprecated and will be removed in a future version. Use pd.to_timedelta instead.\n",
      "  df.index += _pd.TimedeltaIndex(dst_error_hours, 'h')\n",
      "[*********************100%%**********************]  1 of 1 completed\n"
     ]
    },
    {
     "name": "stdout",
     "output_type": "stream",
     "text": [
      "Empty DataFrame\n",
      "Columns: [Open, High, Low, Close, Adj Close, Volume]\n",
      "Index: []\n",
      "             Open   High    Low  Close  Adj Close  Volume\n",
      "Date                                                     \n",
      "2021-06-30  15.09  15.15  14.91  15.06  14.653282   25300\n",
      "2021-07-01  15.15  15.17  15.10  15.14  14.731121   39500\n",
      "2021-07-02  15.21  15.24  15.04  15.10  14.692204   37700\n",
      "2021-07-06  15.07  15.14  15.07  15.13  14.721394    8200\n",
      "2021-07-07  15.11  15.20  15.04  15.11  14.701930   58800\n",
      "...           ...    ...    ...    ...        ...     ...\n",
      "2022-06-23  11.42  11.70  11.40  11.59  11.590000   71300\n",
      "2022-06-24  11.74  11.74  11.54  11.66  11.660000   41400\n",
      "2022-06-27  11.74  11.75  11.65  11.65  11.650000   45200\n",
      "2022-06-28  11.69  11.72  11.62  11.65  11.650000   67800\n",
      "2022-06-29  11.72  11.75  11.68  11.74  11.740000   68700\n",
      "\n",
      "[252 rows x 6 columns]\n",
      "             Open   High    Low  Close  Adj Close  Volume\n",
      "Date                                                     \n",
      "2021-06-30  15.09  15.15  14.91  15.06  14.653282   25300\n",
      "2021-07-01  15.15  15.17  15.10  15.14  14.731121   39500\n",
      "2021-07-02  15.21  15.24  15.04  15.10  14.692204   37700\n",
      "2021-07-06  15.07  15.14  15.07  15.13  14.721394    8200\n",
      "2021-07-07  15.11  15.20  15.04  15.11  14.701930   58800\n",
      "...           ...    ...    ...    ...        ...     ...\n",
      "2022-06-23  11.42  11.70  11.40  11.59  11.590000   71300\n",
      "2022-06-24  11.74  11.74  11.54  11.66  11.660000   41400\n",
      "2022-06-27  11.74  11.75  11.65  11.65  11.650000   45200\n",
      "2022-06-28  11.69  11.72  11.62  11.65  11.650000   67800\n",
      "2022-06-29  11.72  11.75  11.68  11.74  11.740000   68700\n",
      "\n",
      "[252 rows x 6 columns]\n",
      "             Open   High    Low  Close  Adj Close  Volume\n",
      "Date                                                     \n",
      "2021-06-30  15.09  15.15  14.91  15.06  14.653282   25300\n",
      "2021-07-01  15.15  15.17  15.10  15.14  14.731121   39500\n",
      "2021-07-02  15.21  15.24  15.04  15.10  14.692204   37700\n",
      "2021-07-06  15.07  15.14  15.07  15.13  14.721394    8200\n",
      "2021-07-07  15.11  15.20  15.04  15.11  14.701930   58800\n",
      "...           ...    ...    ...    ...        ...     ...\n",
      "2022-06-23  11.42  11.70  11.40  11.59  11.590000   71300\n",
      "2022-06-24  11.74  11.74  11.54  11.66  11.660000   41400\n",
      "2022-06-27  11.74  11.75  11.65  11.65  11.650000   45200\n",
      "2022-06-28  11.69  11.72  11.62  11.65  11.650000   67800\n",
      "2022-06-29  11.72  11.75  11.68  11.74  11.740000   68700\n",
      "\n",
      "[252 rows x 6 columns]\n",
      "             Open   High    Low  Close  Adj Close  Volume\n",
      "Date                                                     \n",
      "2021-06-30  15.09  15.15  14.91  15.06  14.653282   25300\n",
      "2021-07-01  15.15  15.17  15.10  15.14  14.731121   39500\n",
      "2021-07-02  15.21  15.24  15.04  15.10  14.692204   37700\n",
      "2021-07-06  15.07  15.14  15.07  15.13  14.721394    8200\n",
      "2021-07-07  15.11  15.20  15.04  15.11  14.701930   58800\n",
      "...           ...    ...    ...    ...        ...     ...\n",
      "2022-06-23  11.42  11.70  11.40  11.59  11.590000   71300\n",
      "2022-06-24  11.74  11.74  11.54  11.66  11.660000   41400\n",
      "2022-06-27  11.74  11.75  11.65  11.65  11.650000   45200\n",
      "2022-06-28  11.69  11.72  11.62  11.65  11.650000   67800\n",
      "2022-06-29  11.72  11.75  11.68  11.74  11.740000   68700\n",
      "\n",
      "[252 rows x 6 columns]\n"
     ]
    },
    {
     "name": "stderr",
     "output_type": "stream",
     "text": [
      "[*********************100%%**********************]  1 of 1 completed\n",
      "\n",
      "1 Failed download:\n",
      "['G36816117']: Exception('%ticker%: No timezone found, symbol may be delisted')\n"
     ]
    },
    {
     "name": "stdout",
     "output_type": "stream",
     "text": [
      "Empty DataFrame\n",
      "Columns: [Open, High, Low, Close, Adj Close, Volume]\n",
      "Index: []\n"
     ]
    },
    {
     "name": "stderr",
     "output_type": "stream",
     "text": [
      "[*********************100%%**********************]  1 of 1 completed\n",
      "\n",
      "1 Failed download:\n",
      "['G5853A123']: Exception('%ticker%: No timezone found, symbol may be delisted')\n"
     ]
    },
    {
     "name": "stdout",
     "output_type": "stream",
     "text": [
      "Empty DataFrame\n",
      "Columns: [Open, High, Low, Close, Adj Close, Volume]\n",
      "Index: []\n"
     ]
    },
    {
     "name": "stderr",
     "output_type": "stream",
     "text": [
      "[*********************100%%**********************]  1 of 1 completed\n",
      "\n",
      "1 Failed download:\n",
      "['822821203']: Exception('%ticker%: No timezone found, symbol may be delisted')\n"
     ]
    },
    {
     "name": "stdout",
     "output_type": "stream",
     "text": [
      "Empty DataFrame\n",
      "Columns: [Open, High, Low, Close, Adj Close, Volume]\n",
      "Index: []\n"
     ]
    },
    {
     "name": "stderr",
     "output_type": "stream",
     "text": [
      "[*********************100%%**********************]  1 of 1 completed\n",
      "\n",
      "1 Failed download:\n",
      "['88605L206']: Exception('%ticker%: No timezone found, symbol may be delisted')\n"
     ]
    },
    {
     "name": "stdout",
     "output_type": "stream",
     "text": [
      "Empty DataFrame\n",
      "Columns: [Open, High, Low, Close, Adj Close, Volume]\n",
      "Index: []\n"
     ]
    },
    {
     "name": "stderr",
     "output_type": "stream",
     "text": [
      "[*********************100%%**********************]  1 of 1 completed\n",
      "\n",
      "1 Failed download:\n",
      "['62403K207']: Exception('%ticker%: No timezone found, symbol may be delisted')\n"
     ]
    },
    {
     "name": "stdout",
     "output_type": "stream",
     "text": [
      "Empty DataFrame\n",
      "Columns: [Open, High, Low, Close, Adj Close, Volume]\n",
      "Index: []\n"
     ]
    },
    {
     "name": "stderr",
     "output_type": "stream",
     "text": [
      "[*********************100%%**********************]  1 of 1 completed\n",
      "\n",
      "1 Failed download:\n",
      "['G30092129']: Exception('%ticker%: No timezone found, symbol may be delisted')\n",
      "c:\\Users\\ziggy\\anaconda3\\Lib\\site-packages\\yfinance\\utils.py:775: FutureWarning: The 'unit' keyword in TimedeltaIndex construction is deprecated and will be removed in a future version. Use pd.to_timedelta instead.\n",
      "  df.index += _pd.TimedeltaIndex(dst_error_hours, 'h')\n",
      "[*********************100%%**********************]  1 of 1 completed\n"
     ]
    },
    {
     "name": "stdout",
     "output_type": "stream",
     "text": [
      "Empty DataFrame\n",
      "Columns: [Open, High, Low, Close, Adj Close, Volume]\n",
      "Index: []\n",
      "             Open   High    Low  Close  Adj Close  Volume\n",
      "Date                                                     \n",
      "2021-06-28  15.11  15.11  14.95  15.07  14.663012   41800\n",
      "2021-06-29  15.16  15.18  15.05  15.09  14.682472   31900\n",
      "2021-06-30  15.09  15.15  14.91  15.06  14.653282   25300\n",
      "2021-07-01  15.15  15.17  15.10  15.14  14.731121   39500\n",
      "2021-07-02  15.21  15.24  15.04  15.10  14.692204   37700\n",
      "...           ...    ...    ...    ...        ...     ...\n",
      "2022-06-21  11.27  11.29  11.22  11.25  11.250000   33200\n",
      "2022-06-22  11.42  11.54  11.24  11.38  11.380000  118400\n",
      "2022-06-23  11.42  11.70  11.40  11.59  11.590000   71300\n",
      "2022-06-24  11.74  11.74  11.54  11.66  11.660000   41400\n",
      "2022-06-27  11.74  11.75  11.65  11.65  11.650000   45200\n",
      "\n",
      "[252 rows x 6 columns]\n"
     ]
    },
    {
     "name": "stderr",
     "output_type": "stream",
     "text": [
      "[*********************100%%**********************]  1 of 1 completed\n",
      "\n",
      "1 Failed download:\n",
      "['31811H205']: Exception('%ticker%: No timezone found, symbol may be delisted')\n"
     ]
    },
    {
     "name": "stdout",
     "output_type": "stream",
     "text": [
      "Empty DataFrame\n",
      "Columns: [Open, High, Low, Close, Adj Close, Volume]\n",
      "Index: []\n"
     ]
    },
    {
     "name": "stderr",
     "output_type": "stream",
     "text": [
      "[*********************100%%**********************]  1 of 1 completed\n",
      "\n",
      "1 Failed download:\n",
      "['66538L204']: Exception('%ticker%: No timezone found, symbol may be delisted')\n"
     ]
    },
    {
     "name": "stdout",
     "output_type": "stream",
     "text": [
      "Empty DataFrame\n",
      "Columns: [Open, High, Low, Close, Adj Close, Volume]\n",
      "Index: []\n"
     ]
    },
    {
     "name": "stderr",
     "output_type": "stream",
     "text": [
      "[*********************100%%**********************]  1 of 1 completed\n",
      "\n",
      "1 Failed download:\n",
      "['G2263T115']: Exception('%ticker%: No timezone found, symbol may be delisted')\n"
     ]
    },
    {
     "name": "stdout",
     "output_type": "stream",
     "text": [
      "Empty DataFrame\n",
      "Columns: [Open, High, Low, Close, Adj Close, Volume]\n",
      "Index: []\n"
     ]
    },
    {
     "name": "stderr",
     "output_type": "stream",
     "text": [
      "[*********************100%%**********************]  1 of 1 completed\n",
      "\n",
      "1 Failed download:\n",
      "['G4028H139']: Exception('%ticker%: No timezone found, symbol may be delisted')\n"
     ]
    },
    {
     "name": "stdout",
     "output_type": "stream",
     "text": [
      "Empty DataFrame\n",
      "Columns: [Open, High, Low, Close, Adj Close, Volume]\n",
      "Index: []\n"
     ]
    },
    {
     "name": "stderr",
     "output_type": "stream",
     "text": [
      "[*********************100%%**********************]  1 of 1 completed\n",
      "\n",
      "1 Failed download:\n",
      "['G50735128']: Exception('%ticker%: No timezone found, symbol may be delisted')\n"
     ]
    },
    {
     "name": "stdout",
     "output_type": "stream",
     "text": [
      "Empty DataFrame\n",
      "Columns: [Open, High, Low, Close, Adj Close, Volume]\n",
      "Index: []\n"
     ]
    },
    {
     "name": "stderr",
     "output_type": "stream",
     "text": [
      "[*********************100%%**********************]  1 of 1 completed\n",
      "\n",
      "1 Failed download:\n",
      "['G2426E112']: Exception('%ticker%: No timezone found, symbol may be delisted')\n"
     ]
    },
    {
     "name": "stdout",
     "output_type": "stream",
     "text": [
      "Empty DataFrame\n",
      "Columns: [Open, High, Low, Close, Adj Close, Volume]\n",
      "Index: []\n"
     ]
    },
    {
     "name": "stderr",
     "output_type": "stream",
     "text": [
      "[*********************100%%**********************]  1 of 1 completed\n",
      "\n",
      "1 Failed download:\n",
      "['G75529118']: Exception('%ticker%: No timezone found, symbol may be delisted')\n"
     ]
    },
    {
     "name": "stdout",
     "output_type": "stream",
     "text": [
      "Empty DataFrame\n",
      "Columns: [Open, High, Low, Close, Adj Close, Volume]\n",
      "Index: []\n"
     ]
    },
    {
     "name": "stderr",
     "output_type": "stream",
     "text": [
      "[*********************100%%**********************]  1 of 1 completed\n",
      "\n",
      "1 Failed download:\n",
      "['989570205']: Exception('%ticker%: No timezone found, symbol may be delisted')\n"
     ]
    },
    {
     "name": "stdout",
     "output_type": "stream",
     "text": [
      "Empty DataFrame\n",
      "Columns: [Open, High, Low, Close, Adj Close, Volume]\n",
      "Index: []\n"
     ]
    },
    {
     "name": "stderr",
     "output_type": "stream",
     "text": [
      "[*********************100%%**********************]  1 of 1 completed\n",
      "\n",
      "1 Failed download:\n",
      "['G42041114']: Exception('%ticker%: No timezone found, symbol may be delisted')\n"
     ]
    },
    {
     "name": "stdout",
     "output_type": "stream",
     "text": [
      "Empty DataFrame\n",
      "Columns: [Open, High, Low, Close, Adj Close, Volume]\n",
      "Index: []\n"
     ]
    },
    {
     "name": "stderr",
     "output_type": "stream",
     "text": [
      "[*********************100%%**********************]  1 of 1 completed\n",
      "\n",
      "1 Failed download:\n",
      "['254028202']: Exception('%ticker%: No timezone found, symbol may be delisted')\n"
     ]
    },
    {
     "name": "stdout",
     "output_type": "stream",
     "text": [
      "Empty DataFrame\n",
      "Columns: [Open, High, Low, Close, Adj Close, Volume]\n",
      "Index: []\n"
     ]
    },
    {
     "name": "stderr",
     "output_type": "stream",
     "text": [
      "[*********************100%%**********************]  1 of 1 completed\n",
      "\n",
      "1 Failed download:\n",
      "['47201B202']: Exception('%ticker%: No timezone found, symbol may be delisted')\n"
     ]
    },
    {
     "name": "stdout",
     "output_type": "stream",
     "text": [
      "Empty DataFrame\n",
      "Columns: [Open, High, Low, Close, Adj Close, Volume]\n",
      "Index: []\n"
     ]
    },
    {
     "name": "stderr",
     "output_type": "stream",
     "text": [
      "[*********************100%%**********************]  1 of 1 completed\n",
      "\n",
      "1 Failed download:\n",
      "['54141L209']: Exception('%ticker%: No timezone found, symbol may be delisted')\n"
     ]
    },
    {
     "name": "stdout",
     "output_type": "stream",
     "text": [
      "Empty DataFrame\n",
      "Columns: [Open, High, Low, Close, Adj Close, Volume]\n",
      "Index: []\n"
     ]
    },
    {
     "name": "stderr",
     "output_type": "stream",
     "text": [
      "[*********************100%%**********************]  1 of 1 completed\n",
      "\n",
      "1 Failed download:\n",
      "['G53521129']: Exception('%ticker%: No timezone found, symbol may be delisted')\n",
      "c:\\Users\\ziggy\\anaconda3\\Lib\\site-packages\\yfinance\\utils.py:775: FutureWarning: The 'unit' keyword in TimedeltaIndex construction is deprecated and will be removed in a future version. Use pd.to_timedelta instead.\n",
      "  df.index += _pd.TimedeltaIndex(dst_error_hours, 'h')\n",
      "[*********************100%%**********************]  1 of 1 completed\n"
     ]
    },
    {
     "name": "stdout",
     "output_type": "stream",
     "text": [
      "Empty DataFrame\n",
      "Columns: [Open, High, Low, Close, Adj Close, Volume]\n",
      "Index: []\n",
      "             Open   High    Low  Close  Adj Close  Volume\n",
      "Date                                                     \n",
      "2021-06-09  15.08  15.08  14.89  15.08  14.621398   51000\n",
      "2021-06-10  15.08  15.08  14.99  15.02  14.563222   22000\n",
      "2021-06-11  15.02  15.07  14.83  14.86  14.408088   44600\n",
      "2021-06-14  14.87  14.96  14.83  14.96  14.555984   48800\n",
      "2021-06-15  14.96  15.23  14.90  14.99  14.585175   42800\n",
      "...           ...    ...    ...    ...        ...     ...\n",
      "2022-06-02  12.06  12.10  11.93  12.02  12.020000   92700\n",
      "2022-06-03  12.00  12.04  11.94  12.01  12.010000   67300\n",
      "2022-06-06  11.96  12.00  11.89  11.90  11.900000   26500\n",
      "2022-06-07  11.91  12.02  11.90  11.90  11.900000   39400\n",
      "2022-06-08  11.88  11.98  11.87  11.96  11.960000   84900\n",
      "\n",
      "[253 rows x 6 columns]\n"
     ]
    },
    {
     "name": "stderr",
     "output_type": "stream",
     "text": [
      "[*********************100%%**********************]  1 of 1 completed\n",
      "\n",
      "1 Failed download:\n",
      "['G8566R128']: Exception('%ticker%: No timezone found, symbol may be delisted')\n"
     ]
    },
    {
     "name": "stdout",
     "output_type": "stream",
     "text": [
      "Empty DataFrame\n",
      "Columns: [Open, High, Low, Close, Adj Close, Volume]\n",
      "Index: []\n"
     ]
    },
    {
     "name": "stderr",
     "output_type": "stream",
     "text": [
      "[*********************100%%**********************]  1 of 1 completed\n",
      "\n",
      "1 Failed download:\n",
      "['G1195R122']: Exception('%ticker%: No timezone found, symbol may be delisted')\n"
     ]
    },
    {
     "name": "stdout",
     "output_type": "stream",
     "text": [
      "Empty DataFrame\n",
      "Columns: [Open, High, Low, Close, Adj Close, Volume]\n",
      "Index: []\n"
     ]
    },
    {
     "name": "stderr",
     "output_type": "stream",
     "text": [
      "[*********************100%%**********************]  1 of 1 completed\n",
      "\n",
      "1 Failed download:\n",
      "['37892B207']: Exception('%ticker%: No timezone found, symbol may be delisted')\n"
     ]
    },
    {
     "name": "stdout",
     "output_type": "stream",
     "text": [
      "Empty DataFrame\n",
      "Columns: [Open, High, Low, Close, Adj Close, Volume]\n",
      "Index: []\n"
     ]
    },
    {
     "name": "stderr",
     "output_type": "stream",
     "text": [
      "[*********************100%%**********************]  1 of 1 completed\n",
      "\n",
      "1 Failed download:\n",
      "['19533H207']: Exception('%ticker%: No timezone found, symbol may be delisted')\n"
     ]
    },
    {
     "name": "stdout",
     "output_type": "stream",
     "text": [
      "Empty DataFrame\n",
      "Columns: [Open, High, Low, Close, Adj Close, Volume]\n",
      "Index: []\n"
     ]
    },
    {
     "name": "stderr",
     "output_type": "stream",
     "text": [
      "[*********************100%%**********************]  1 of 1 completed\n",
      "\n",
      "1 Failed download:\n",
      "['848651204']: Exception('%ticker%: No timezone found, symbol may be delisted')\n"
     ]
    },
    {
     "name": "stdout",
     "output_type": "stream",
     "text": [
      "Empty DataFrame\n",
      "Columns: [Open, High, Low, Close, Adj Close, Volume]\n",
      "Index: []\n"
     ]
    },
    {
     "name": "stderr",
     "output_type": "stream",
     "text": [
      "[*********************100%%**********************]  1 of 1 completed\n",
      "\n",
      "1 Failed download:\n",
      "['675507206']: Exception('%ticker%: No timezone found, symbol may be delisted')\n"
     ]
    },
    {
     "name": "stdout",
     "output_type": "stream",
     "text": [
      "Empty DataFrame\n",
      "Columns: [Open, High, Low, Close, Adj Close, Volume]\n",
      "Index: []\n"
     ]
    },
    {
     "name": "stderr",
     "output_type": "stream",
     "text": [
      "[*********************100%%**********************]  1 of 1 completed\n",
      "\n",
      "1 Failed download:\n",
      "['737465203']: Exception('%ticker%: No timezone found, symbol may be delisted')\n"
     ]
    },
    {
     "name": "stdout",
     "output_type": "stream",
     "text": [
      "Empty DataFrame\n",
      "Columns: [Open, High, Low, Close, Adj Close, Volume]\n",
      "Index: []\n"
     ]
    },
    {
     "name": "stderr",
     "output_type": "stream",
     "text": [
      "[*********************100%%**********************]  1 of 1 completed\n",
      "\n",
      "1 Failed download:\n",
      "['26846A209']: Exception('%ticker%: No timezone found, symbol may be delisted')\n",
      "c:\\Users\\ziggy\\anaconda3\\Lib\\site-packages\\yfinance\\utils.py:775: FutureWarning: The 'unit' keyword in TimedeltaIndex construction is deprecated and will be removed in a future version. Use pd.to_timedelta instead.\n",
      "  df.index += _pd.TimedeltaIndex(dst_error_hours, 'h')\n",
      "[*********************100%%**********************]  1 of 1 completed\n"
     ]
    },
    {
     "name": "stdout",
     "output_type": "stream",
     "text": [
      "Empty DataFrame\n",
      "Columns: [Open, High, Low, Close, Adj Close, Volume]\n",
      "Index: []\n",
      "             Open   High    Low  Close  Adj Close  Volume\n",
      "Date                                                     \n",
      "2021-05-25  14.64  14.67  14.62  14.67  14.223865   31800\n",
      "2021-05-26  14.70  14.82  14.60  14.78  14.330521   42500\n",
      "2021-05-27  14.78  14.80  14.66  14.73  14.282042   42600\n",
      "2021-05-28  14.82  14.95  14.65  14.79  14.340216   66000\n",
      "2021-06-01  14.82  14.90  14.78  14.85  14.398392   41800\n",
      "...           ...    ...    ...    ...        ...     ...\n",
      "2022-05-18  11.39  11.44  11.31  11.32  11.320000   40000\n",
      "2022-05-19  11.36  11.39  11.25  11.28  11.280000   64400\n",
      "2022-05-20  11.28  11.44  11.28  11.35  11.350000   39100\n",
      "2022-05-23  11.35  11.43  11.35  11.38  11.380000   17800\n",
      "2022-05-24  11.43  11.52  11.41  11.51  11.510000   67100\n",
      "\n",
      "[253 rows x 6 columns]\n"
     ]
    },
    {
     "name": "stderr",
     "output_type": "stream",
     "text": [
      "c:\\Users\\ziggy\\anaconda3\\Lib\\site-packages\\yfinance\\utils.py:775: FutureWarning: The 'unit' keyword in TimedeltaIndex construction is deprecated and will be removed in a future version. Use pd.to_timedelta instead.\n",
      "  df.index += _pd.TimedeltaIndex(dst_error_hours, 'h')\n",
      "[*********************100%%**********************]  1 of 1 completed\n"
     ]
    },
    {
     "name": "stdout",
     "output_type": "stream",
     "text": [
      "             Open   High    Low  Close  Adj Close  Volume\n",
      "Date                                                     \n",
      "2021-05-24  14.64  14.64  14.52  14.56  14.117212   35200\n",
      "2021-05-25  14.64  14.67  14.62  14.67  14.223865   31800\n",
      "2021-05-26  14.70  14.82  14.60  14.78  14.330521   42500\n",
      "2021-05-27  14.78  14.80  14.66  14.73  14.282042   42600\n",
      "2021-05-28  14.82  14.95  14.65  14.79  14.340216   66000\n",
      "...           ...    ...    ...    ...        ...     ...\n",
      "2022-05-17  11.35  11.47  11.35  11.45  11.450000  119600\n",
      "2022-05-18  11.39  11.44  11.31  11.32  11.320000   40000\n",
      "2022-05-19  11.36  11.39  11.25  11.28  11.280000   64400\n",
      "2022-05-20  11.28  11.44  11.28  11.35  11.350000   39100\n",
      "2022-05-23  11.35  11.43  11.35  11.38  11.380000   17800\n",
      "\n",
      "[253 rows x 6 columns]\n"
     ]
    },
    {
     "name": "stderr",
     "output_type": "stream",
     "text": [
      "[*********************100%%**********************]  1 of 1 completed\n",
      "\n",
      "1 Failed download:\n",
      "['384272209']: Exception('%ticker%: No timezone found, symbol may be delisted')\n"
     ]
    },
    {
     "name": "stdout",
     "output_type": "stream",
     "text": [
      "Empty DataFrame\n",
      "Columns: [Open, High, Low, Close, Adj Close, Volume]\n",
      "Index: []\n"
     ]
    },
    {
     "name": "stderr",
     "output_type": "stream",
     "text": [
      "[*********************100%%**********************]  1 of 1 completed\n",
      "\n",
      "1 Failed download:\n",
      "['G0447J110']: Exception('%ticker%: No timezone found, symbol may be delisted')\n"
     ]
    },
    {
     "name": "stdout",
     "output_type": "stream",
     "text": [
      "Empty DataFrame\n",
      "Columns: [Open, High, Low, Close, Adj Close, Volume]\n",
      "Index: []\n"
     ]
    },
    {
     "name": "stderr",
     "output_type": "stream",
     "text": [
      "[*********************100%%**********************]  1 of 1 completed\n",
      "\n",
      "1 Failed download:\n",
      "['G0542N115']: Exception('%ticker%: No timezone found, symbol may be delisted')\n"
     ]
    },
    {
     "name": "stdout",
     "output_type": "stream",
     "text": [
      "Empty DataFrame\n",
      "Columns: [Open, High, Low, Close, Adj Close, Volume]\n",
      "Index: []\n"
     ]
    },
    {
     "name": "stderr",
     "output_type": "stream",
     "text": [
      "[*********************100%%**********************]  1 of 1 completed\n",
      "\n",
      "1 Failed download:\n",
      "['G19550113']: Exception('%ticker%: No timezone found, symbol may be delisted')\n"
     ]
    },
    {
     "name": "stdout",
     "output_type": "stream",
     "text": [
      "Empty DataFrame\n",
      "Columns: [Open, High, Low, Close, Adj Close, Volume]\n",
      "Index: []\n"
     ]
    },
    {
     "name": "stderr",
     "output_type": "stream",
     "text": [
      "[*********************100%%**********************]  1 of 1 completed\n",
      "\n",
      "1 Failed download:\n",
      "['G82220107']: Exception('%ticker%: No timezone found, symbol may be delisted')\n"
     ]
    },
    {
     "name": "stdout",
     "output_type": "stream",
     "text": [
      "Empty DataFrame\n",
      "Columns: [Open, High, Low, Close, Adj Close, Volume]\n",
      "Index: []\n"
     ]
    },
    {
     "name": "stderr",
     "output_type": "stream",
     "text": [
      "[*********************100%%**********************]  1 of 1 completed\n",
      "\n",
      "1 Failed download:\n",
      "['37518W205']: Exception('%ticker%: No timezone found, symbol may be delisted')\n"
     ]
    },
    {
     "name": "stdout",
     "output_type": "stream",
     "text": [
      "Empty DataFrame\n",
      "Columns: [Open, High, Low, Close, Adj Close, Volume]\n",
      "Index: []\n"
     ]
    },
    {
     "name": "stderr",
     "output_type": "stream",
     "text": [
      "[*********************100%%**********************]  1 of 1 completed\n",
      "\n",
      "1 Failed download:\n",
      "['62402U206']: Exception('%ticker%: No timezone found, symbol may be delisted')\n"
     ]
    },
    {
     "name": "stdout",
     "output_type": "stream",
     "text": [
      "Empty DataFrame\n",
      "Columns: [Open, High, Low, Close, Adj Close, Volume]\n",
      "Index: []\n"
     ]
    },
    {
     "name": "stderr",
     "output_type": "stream",
     "text": [
      "[*********************100%%**********************]  1 of 1 completed\n",
      "\n",
      "1 Failed download:\n",
      "['G0509L110']: Exception('%ticker%: No timezone found, symbol may be delisted')\n"
     ]
    },
    {
     "name": "stdout",
     "output_type": "stream",
     "text": [
      "Empty DataFrame\n",
      "Columns: [Open, High, Low, Close, Adj Close, Volume]\n",
      "Index: []\n"
     ]
    },
    {
     "name": "stderr",
     "output_type": "stream",
     "text": [
      "[*********************100%%**********************]  1 of 1 completed\n",
      "\n",
      "1 Failed download:\n",
      "['68829A202']: Exception('%ticker%: No timezone found, symbol may be delisted')\n"
     ]
    },
    {
     "name": "stdout",
     "output_type": "stream",
     "text": [
      "Empty DataFrame\n",
      "Columns: [Open, High, Low, Close, Adj Close, Volume]\n",
      "Index: []\n"
     ]
    },
    {
     "name": "stderr",
     "output_type": "stream",
     "text": [
      "[*********************100%%**********************]  1 of 1 completed\n",
      "\n",
      "1 Failed download:\n",
      "['G6780C125']: Exception('%ticker%: No timezone found, symbol may be delisted')\n"
     ]
    },
    {
     "name": "stdout",
     "output_type": "stream",
     "text": [
      "Empty DataFrame\n",
      "Columns: [Open, High, Low, Close, Adj Close, Volume]\n",
      "Index: []\n"
     ]
    },
    {
     "name": "stderr",
     "output_type": "stream",
     "text": [
      "[*********************100%%**********************]  1 of 1 completed\n",
      "\n",
      "1 Failed download:\n",
      "['05602L203']: Exception('%ticker%: No timezone found, symbol may be delisted')\n"
     ]
    },
    {
     "name": "stdout",
     "output_type": "stream",
     "text": [
      "Empty DataFrame\n",
      "Columns: [Open, High, Low, Close, Adj Close, Volume]\n",
      "Index: []\n"
     ]
    },
    {
     "name": "stderr",
     "output_type": "stream",
     "text": [
      "[*********************100%%**********************]  1 of 1 completed\n",
      "\n",
      "1 Failed download:\n",
      "['237699202']: Exception('%ticker%: No timezone found, symbol may be delisted')\n"
     ]
    },
    {
     "name": "stdout",
     "output_type": "stream",
     "text": [
      "Empty DataFrame\n",
      "Columns: [Open, High, Low, Close, Adj Close, Volume]\n",
      "Index: []\n"
     ]
    },
    {
     "name": "stderr",
     "output_type": "stream",
     "text": [
      "[*********************100%%**********************]  1 of 1 completed\n",
      "\n",
      "1 Failed download:\n",
      "['56564V200']: Exception('%ticker%: No timezone found, symbol may be delisted')\n"
     ]
    },
    {
     "name": "stdout",
     "output_type": "stream",
     "text": [
      "Empty DataFrame\n",
      "Columns: [Open, High, Low, Close, Adj Close, Volume]\n",
      "Index: []\n"
     ]
    },
    {
     "name": "stderr",
     "output_type": "stream",
     "text": [
      "[*********************100%%**********************]  1 of 1 completed\n",
      "\n",
      "1 Failed download:\n",
      "['G9460N114']: Exception('%ticker%: No timezone found, symbol may be delisted')\n",
      "c:\\Users\\ziggy\\anaconda3\\Lib\\site-packages\\yfinance\\utils.py:775: FutureWarning: The 'unit' keyword in TimedeltaIndex construction is deprecated and will be removed in a future version. Use pd.to_timedelta instead.\n",
      "  df.index += _pd.TimedeltaIndex(dst_error_hours, 'h')\n",
      "[*********************100%%**********************]  1 of 1 completed\n"
     ]
    },
    {
     "name": "stdout",
     "output_type": "stream",
     "text": [
      "Empty DataFrame\n",
      "Columns: [Open, High, Low, Close, Adj Close, Volume]\n",
      "Index: []\n",
      "             Open   High    Low  Close  Adj Close  Volume\n",
      "Date                                                     \n",
      "2021-04-29  14.45  14.52  14.27  14.35  13.863702   65100\n",
      "2021-04-30  14.30  14.40  14.30  14.35  13.863702   32300\n",
      "2021-05-03  14.43  14.48  14.36  14.42  13.931329   42500\n",
      "2021-05-04  14.42  14.58  14.35  14.47  13.979635   79100\n",
      "2021-05-05  14.56  14.60  14.42  14.59  14.095567   79600\n",
      "...           ...    ...    ...    ...        ...     ...\n",
      "2022-04-22  11.62  11.68  11.58  11.65  11.650000  104800\n",
      "2022-04-25  11.59  11.72  11.58  11.72  11.720000   74300\n",
      "2022-04-26  11.68  11.80  11.64  11.74  11.740000  127200\n",
      "2022-04-27  11.68  11.76  11.65  11.69  11.690000   52900\n",
      "2022-04-28  11.63  11.85  11.62  11.72  11.720000   75200\n",
      "\n",
      "[253 rows x 6 columns]\n"
     ]
    },
    {
     "name": "stderr",
     "output_type": "stream",
     "text": [
      "[*********************100%%**********************]  1 of 1 completed\n",
      "\n",
      "1 Failed download:\n",
      "['08954L201']: Exception('%ticker%: No timezone found, symbol may be delisted')\n"
     ]
    },
    {
     "name": "stdout",
     "output_type": "stream",
     "text": [
      "Empty DataFrame\n",
      "Columns: [Open, High, Low, Close, Adj Close, Volume]\n",
      "Index: []\n"
     ]
    },
    {
     "name": "stderr",
     "output_type": "stream",
     "text": [
      "[*********************100%%**********************]  1 of 1 completed\n",
      "\n",
      "1 Failed download:\n",
      "['G89877123']: Exception('%ticker%: No timezone found, symbol may be delisted')\n",
      "c:\\Users\\ziggy\\anaconda3\\Lib\\site-packages\\yfinance\\utils.py:775: FutureWarning: The 'unit' keyword in TimedeltaIndex construction is deprecated and will be removed in a future version. Use pd.to_timedelta instead.\n",
      "  df.index += _pd.TimedeltaIndex(dst_error_hours, 'h')\n",
      "[*********************100%%**********************]  1 of 1 completed\n",
      "c:\\Users\\ziggy\\anaconda3\\Lib\\site-packages\\yfinance\\utils.py:775: FutureWarning: The 'unit' keyword in TimedeltaIndex construction is deprecated and will be removed in a future version. Use pd.to_timedelta instead.\n",
      "  df.index += _pd.TimedeltaIndex(dst_error_hours, 'h')\n",
      "[*********************100%%**********************]  1 of 1 completed\n"
     ]
    },
    {
     "name": "stdout",
     "output_type": "stream",
     "text": [
      "Empty DataFrame\n",
      "Columns: [Open, High, Low, Close, Adj Close, Volume]\n",
      "Index: []\n",
      "             Open   High    Low  Close  Adj Close  Volume\n",
      "Date                                                     \n",
      "2021-04-13  14.49  14.50  14.47  14.50  13.958378   32200\n",
      "2021-04-14  14.50  14.50  14.39  14.48  13.989295   23100\n",
      "2021-04-15  14.50  14.51  14.43  14.50  14.008616   18100\n",
      "2021-04-16  14.52  14.57  14.43  14.44  13.950650   36100\n",
      "2021-04-19  14.47  14.47  14.35  14.36  13.873359   33600\n",
      "...           ...    ...    ...    ...        ...     ...\n",
      "2022-04-06  12.36  12.45  12.29  12.34  12.340000   45600\n",
      "2022-04-07  12.28  12.38  12.16  12.16  12.160000   43500\n",
      "2022-04-08  12.15  12.19  12.10  12.10  12.100000   52900\n",
      "2022-04-11  12.10  12.10  11.88  11.88  11.880000   94700\n",
      "2022-04-12  11.92  12.00  11.90  11.92  11.920000   59400\n",
      "\n",
      "[254 rows x 6 columns]\n",
      "             Open   High    Low  Close  Adj Close  Volume\n",
      "Date                                                     \n",
      "2021-04-13  14.49  14.50  14.47  14.50  13.958378   32200\n",
      "2021-04-14  14.50  14.50  14.39  14.48  13.989295   23100\n",
      "2021-04-15  14.50  14.51  14.43  14.50  14.008616   18100\n",
      "2021-04-16  14.52  14.57  14.43  14.44  13.950650   36100\n",
      "2021-04-19  14.47  14.47  14.35  14.36  13.873359   33600\n",
      "...           ...    ...    ...    ...        ...     ...\n",
      "2022-04-06  12.36  12.45  12.29  12.34  12.340000   45600\n",
      "2022-04-07  12.28  12.38  12.16  12.16  12.160000   43500\n",
      "2022-04-08  12.15  12.19  12.10  12.10  12.100000   52900\n",
      "2022-04-11  12.10  12.10  11.88  11.88  11.880000   94700\n",
      "2022-04-12  11.92  12.00  11.90  11.92  11.920000   59400\n",
      "\n",
      "[254 rows x 6 columns]\n"
     ]
    },
    {
     "name": "stderr",
     "output_type": "stream",
     "text": [
      "[*********************100%%**********************]  1 of 1 completed\n",
      "\n",
      "1 Failed download:\n",
      "['G3934K137']: Exception('%ticker%: No timezone found, symbol may be delisted')\n"
     ]
    },
    {
     "name": "stdout",
     "output_type": "stream",
     "text": [
      "Empty DataFrame\n",
      "Columns: [Open, High, Low, Close, Adj Close, Volume]\n",
      "Index: []\n"
     ]
    },
    {
     "name": "stderr",
     "output_type": "stream",
     "text": [
      "[*********************100%%**********************]  1 of 1 completed\n",
      "\n",
      "1 Failed download:\n",
      "['01407X203']: Exception('%ticker%: No timezone found, symbol may be delisted')\n",
      "c:\\Users\\ziggy\\anaconda3\\Lib\\site-packages\\yfinance\\utils.py:775: FutureWarning: The 'unit' keyword in TimedeltaIndex construction is deprecated and will be removed in a future version. Use pd.to_timedelta instead.\n",
      "  df.index += _pd.TimedeltaIndex(dst_error_hours, 'h')\n",
      "[*********************100%%**********************]  1 of 1 completed\n"
     ]
    },
    {
     "name": "stdout",
     "output_type": "stream",
     "text": [
      "Empty DataFrame\n",
      "Columns: [Open, High, Low, Close, Adj Close, Volume]\n",
      "Index: []\n",
      "             Open   High    Low  Close  Adj Close  Volume\n",
      "Date                                                     \n",
      "2021-04-08  14.45  14.48  14.43  14.47  13.929501   43800\n",
      "2021-04-09  14.49  14.49  14.35  14.38  13.842861   35500\n",
      "2021-04-12  14.37  14.49  14.37  14.47  13.929501   15800\n",
      "2021-04-13  14.49  14.50  14.47  14.50  13.958378   32200\n",
      "2021-04-14  14.50  14.50  14.39  14.48  13.989295   23100\n",
      "...           ...    ...    ...    ...        ...     ...\n",
      "2022-04-01  12.58  12.64  12.53  12.62  12.620000   34900\n",
      "2022-04-04  12.60  12.69  12.58  12.64  12.640000   58600\n",
      "2022-04-05  12.62  12.68  12.48  12.49  12.490000   36300\n",
      "2022-04-06  12.36  12.45  12.29  12.34  12.340000   45600\n",
      "2022-04-07  12.28  12.38  12.16  12.16  12.160000   43500\n",
      "\n",
      "[254 rows x 6 columns]\n"
     ]
    },
    {
     "name": "stderr",
     "output_type": "stream",
     "text": [
      "[*********************100%%**********************]  1 of 1 completed\n",
      "\n",
      "1 Failed download:\n",
      "['G8T10C122']: Exception('%ticker%: No timezone found, symbol may be delisted')\n"
     ]
    },
    {
     "name": "stdout",
     "output_type": "stream",
     "text": [
      "Empty DataFrame\n",
      "Columns: [Open, High, Low, Close, Adj Close, Volume]\n",
      "Index: []\n"
     ]
    },
    {
     "name": "stderr",
     "output_type": "stream",
     "text": [
      "[*********************100%%**********************]  1 of 1 completed\n",
      "\n",
      "1 Failed download:\n",
      "['G6246M113']: Exception('%ticker%: No timezone found, symbol may be delisted')\n"
     ]
    },
    {
     "name": "stdout",
     "output_type": "stream",
     "text": [
      "Empty DataFrame\n",
      "Columns: [Open, High, Low, Close, Adj Close, Volume]\n",
      "Index: []\n"
     ]
    },
    {
     "name": "stderr",
     "output_type": "stream",
     "text": [
      "[*********************100%%**********************]  1 of 1 completed\n",
      "\n",
      "1 Failed download:\n",
      "['125841205']: Exception('%ticker%: No timezone found, symbol may be delisted')\n",
      "c:\\Users\\ziggy\\anaconda3\\Lib\\site-packages\\yfinance\\utils.py:775: FutureWarning: The 'unit' keyword in TimedeltaIndex construction is deprecated and will be removed in a future version. Use pd.to_timedelta instead.\n",
      "  df.index += _pd.TimedeltaIndex(dst_error_hours, 'h')\n",
      "[*********************100%%**********************]  1 of 1 completed\n"
     ]
    },
    {
     "name": "stdout",
     "output_type": "stream",
     "text": [
      "Empty DataFrame\n",
      "Columns: [Open, High, Low, Close, Adj Close, Volume]\n",
      "Index: []\n",
      "             Open   High    Low  Close  Adj Close  Volume\n",
      "Date                                                     \n",
      "2021-04-06  14.41  14.45  14.38  14.39  13.852488   12800\n",
      "2021-04-07  14.44  14.44  14.36  14.38  13.842861   10200\n",
      "2021-04-08  14.45  14.48  14.43  14.47  13.929501   43800\n",
      "2021-04-09  14.49  14.49  14.35  14.38  13.842861   35500\n",
      "2021-04-12  14.37  14.49  14.37  14.47  13.929501   15800\n",
      "...           ...    ...    ...    ...        ...     ...\n",
      "2022-03-30  12.32  12.42  12.32  12.37  12.370000   30200\n",
      "2022-03-31  12.41  12.60  12.41  12.57  12.570000   80500\n",
      "2022-04-01  12.58  12.64  12.53  12.62  12.620000   34900\n",
      "2022-04-04  12.60  12.69  12.58  12.64  12.640000   58600\n",
      "2022-04-05  12.62  12.68  12.48  12.49  12.490000   36300\n",
      "\n",
      "[254 rows x 6 columns]\n"
     ]
    },
    {
     "name": "stderr",
     "output_type": "stream",
     "text": [
      "[*********************100%%**********************]  1 of 1 completed\n",
      "\n",
      "1 Failed download:\n",
      "['G0083E128']: Exception('%ticker%: No timezone found, symbol may be delisted')\n"
     ]
    },
    {
     "name": "stdout",
     "output_type": "stream",
     "text": [
      "Empty DataFrame\n",
      "Columns: [Open, High, Low, Close, Adj Close, Volume]\n",
      "Index: []\n"
     ]
    },
    {
     "name": "stderr",
     "output_type": "stream",
     "text": [
      "[*********************100%%**********************]  1 of 1 completed\n",
      "\n",
      "1 Failed download:\n",
      "['G6580S122']: Exception('%ticker%: No timezone found, symbol may be delisted')\n",
      "c:\\Users\\ziggy\\anaconda3\\Lib\\site-packages\\yfinance\\utils.py:775: FutureWarning: The 'unit' keyword in TimedeltaIndex construction is deprecated and will be removed in a future version. Use pd.to_timedelta instead.\n",
      "  df.index += _pd.TimedeltaIndex(dst_error_hours, 'h')\n",
      "[*********************100%%**********************]  1 of 1 completed\n"
     ]
    },
    {
     "name": "stdout",
     "output_type": "stream",
     "text": [
      "Empty DataFrame\n",
      "Columns: [Open, High, Low, Close, Adj Close, Volume]\n",
      "Index: []\n",
      "             Open   High    Low  Close  Adj Close  Volume\n",
      "Date                                                     \n",
      "2021-03-29  14.15  14.19  14.10  14.11  13.582947   37800\n",
      "2021-03-30  14.10  14.25  14.10  14.22  13.688837   71600\n",
      "2021-03-31  14.19  14.29  14.18  14.25  13.717716   18700\n",
      "2021-04-01  14.39  14.39  14.27  14.30  13.765849   57300\n",
      "2021-04-05  14.30  14.49  14.30  14.38  13.842861   51100\n",
      "...           ...    ...    ...    ...        ...     ...\n",
      "2022-03-22  12.42  12.42  12.35  12.38  12.380000   51200\n",
      "2022-03-23  12.36  12.51  12.36  12.50  12.500000   82600\n",
      "2022-03-24  12.49  12.50  12.40  12.47  12.470000   64400\n",
      "2022-03-25  12.48  12.48  12.30  12.34  12.340000   78200\n",
      "2022-03-28  12.30  12.40  12.18  12.20  12.200000   90400\n",
      "\n",
      "[253 rows x 6 columns]\n"
     ]
    },
    {
     "name": "stderr",
     "output_type": "stream",
     "text": [
      "[*********************100%%**********************]  1 of 1 completed\n",
      "\n",
      "1 Failed download:\n",
      "['51477A203']: Exception('%ticker%: No timezone found, symbol may be delisted')\n"
     ]
    },
    {
     "name": "stdout",
     "output_type": "stream",
     "text": [
      "Empty DataFrame\n",
      "Columns: [Open, High, Low, Close, Adj Close, Volume]\n",
      "Index: []\n"
     ]
    },
    {
     "name": "stderr",
     "output_type": "stream",
     "text": [
      "[*********************100%%**********************]  1 of 1 completed\n",
      "\n",
      "1 Failed download:\n",
      "['66516W206']: Exception('%ticker%: No timezone found, symbol may be delisted')\n"
     ]
    },
    {
     "name": "stdout",
     "output_type": "stream",
     "text": [
      "Empty DataFrame\n",
      "Columns: [Open, High, Low, Close, Adj Close, Volume]\n",
      "Index: []\n"
     ]
    },
    {
     "name": "stderr",
     "output_type": "stream",
     "text": [
      "[*********************100%%**********************]  1 of 1 completed\n",
      "\n",
      "1 Failed download:\n",
      "['G5709C117']: Exception('%ticker%: No timezone found, symbol may be delisted')\n"
     ]
    },
    {
     "name": "stdout",
     "output_type": "stream",
     "text": [
      "Empty DataFrame\n",
      "Columns: [Open, High, Low, Close, Adj Close, Volume]\n",
      "Index: []\n"
     ]
    },
    {
     "name": "stderr",
     "output_type": "stream",
     "text": [
      "[*********************100%%**********************]  1 of 1 completed\n",
      "\n",
      "1 Failed download:\n",
      "['G24237110']: Exception('%ticker%: No timezone found, symbol may be delisted')\n",
      "c:\\Users\\ziggy\\anaconda3\\Lib\\site-packages\\yfinance\\utils.py:775: FutureWarning: The 'unit' keyword in TimedeltaIndex construction is deprecated and will be removed in a future version. Use pd.to_timedelta instead.\n",
      "  df.index += _pd.TimedeltaIndex(dst_error_hours, 'h')\n",
      "[*********************100%%**********************]  1 of 1 completed\n"
     ]
    },
    {
     "name": "stdout",
     "output_type": "stream",
     "text": [
      "Empty DataFrame\n",
      "Columns: [Open, High, Low, Close, Adj Close, Volume]\n",
      "Index: []\n",
      "             Open   High    Low  Close  Adj Close  Volume\n",
      "Date                                                     \n",
      "2021-03-23  14.03  14.04  13.92  13.92  13.400043   43800\n",
      "2021-03-24  13.96  14.12  13.96  14.00  13.477057   28400\n",
      "2021-03-25  14.12  14.14  14.05  14.13  13.602201   21500\n",
      "2021-03-26  14.13  14.16  14.10  14.10  13.573320   14500\n",
      "2021-03-29  14.15  14.19  14.10  14.11  13.582947   37800\n",
      "...           ...    ...    ...    ...        ...     ...\n",
      "2022-03-16  12.57  12.61  12.41  12.45  12.450000   65800\n",
      "2022-03-17  12.45  12.52  12.38  12.43  12.430000   88400\n",
      "2022-03-18  12.43  12.52  12.43  12.48  12.480000  125500\n",
      "2022-03-21  12.45  12.45  12.32  12.39  12.390000   74300\n",
      "2022-03-22  12.42  12.42  12.35  12.38  12.380000   51200\n",
      "\n",
      "[253 rows x 6 columns]\n"
     ]
    },
    {
     "name": "stderr",
     "output_type": "stream",
     "text": [
      "[*********************100%%**********************]  1 of 1 completed\n",
      "\n",
      "1 Failed download:\n",
      "['24279D204']: Exception('%ticker%: No timezone found, symbol may be delisted')\n",
      "c:\\Users\\ziggy\\anaconda3\\Lib\\site-packages\\yfinance\\utils.py:775: FutureWarning: The 'unit' keyword in TimedeltaIndex construction is deprecated and will be removed in a future version. Use pd.to_timedelta instead.\n",
      "  df.index += _pd.TimedeltaIndex(dst_error_hours, 'h')\n",
      "[*********************100%%**********************]  1 of 1 completed\n"
     ]
    },
    {
     "name": "stdout",
     "output_type": "stream",
     "text": [
      "Empty DataFrame\n",
      "Columns: [Open, High, Low, Close, Adj Close, Volume]\n",
      "Index: []\n",
      "             Open   High    Low  Close  Adj Close  Volume\n",
      "Date                                                     \n",
      "2021-03-23  14.03  14.04  13.92  13.92  13.400043   43800\n",
      "2021-03-24  13.96  14.12  13.96  14.00  13.477057   28400\n",
      "2021-03-25  14.12  14.14  14.05  14.13  13.602201   21500\n",
      "2021-03-26  14.13  14.16  14.10  14.10  13.573320   14500\n",
      "2021-03-29  14.15  14.19  14.10  14.11  13.582947   37800\n",
      "...           ...    ...    ...    ...        ...     ...\n",
      "2022-03-16  12.57  12.61  12.41  12.45  12.450000   65800\n",
      "2022-03-17  12.45  12.52  12.38  12.43  12.430000   88400\n",
      "2022-03-18  12.43  12.52  12.43  12.48  12.480000  125500\n",
      "2022-03-21  12.45  12.45  12.32  12.39  12.390000   74300\n",
      "2022-03-22  12.42  12.42  12.35  12.38  12.380000   51200\n",
      "\n",
      "[253 rows x 6 columns]\n"
     ]
    },
    {
     "name": "stderr",
     "output_type": "stream",
     "text": [
      "[*********************100%%**********************]  1 of 1 completed\n",
      "\n",
      "1 Failed download:\n",
      "['G2770Y110']: Exception('%ticker%: No timezone found, symbol may be delisted')\n"
     ]
    },
    {
     "name": "stdout",
     "output_type": "stream",
     "text": [
      "Empty DataFrame\n",
      "Columns: [Open, High, Low, Close, Adj Close, Volume]\n",
      "Index: []\n"
     ]
    },
    {
     "name": "stderr",
     "output_type": "stream",
     "text": [
      "[*********************100%%**********************]  1 of 1 completed\n",
      "\n",
      "1 Failed download:\n",
      "['65101L203']: Exception('%ticker%: No timezone found, symbol may be delisted')\n"
     ]
    },
    {
     "name": "stdout",
     "output_type": "stream",
     "text": [
      "Empty DataFrame\n",
      "Columns: [Open, High, Low, Close, Adj Close, Volume]\n",
      "Index: []\n"
     ]
    },
    {
     "name": "stderr",
     "output_type": "stream",
     "text": [
      "[*********************100%%**********************]  1 of 1 completed\n",
      "\n",
      "1 Failed download:\n",
      "['G0R21B120']: Exception('%ticker%: No timezone found, symbol may be delisted')\n"
     ]
    },
    {
     "name": "stdout",
     "output_type": "stream",
     "text": [
      "Empty DataFrame\n",
      "Columns: [Open, High, Low, Close, Adj Close, Volume]\n",
      "Index: []\n"
     ]
    },
    {
     "name": "stderr",
     "output_type": "stream",
     "text": [
      "[*********************100%%**********************]  1 of 1 completed\n",
      "\n",
      "1 Failed download:\n",
      "['G7613T111']: Exception('%ticker%: No timezone found, symbol may be delisted')\n"
     ]
    },
    {
     "name": "stdout",
     "output_type": "stream",
     "text": [
      "Empty DataFrame\n",
      "Columns: [Open, High, Low, Close, Adj Close, Volume]\n",
      "Index: []\n"
     ]
    },
    {
     "name": "stderr",
     "output_type": "stream",
     "text": [
      "[*********************100%%**********************]  1 of 1 completed\n",
      "\n",
      "1 Failed download:\n",
      "['G8657L113']: Exception('%ticker%: No timezone found, symbol may be delisted')\n"
     ]
    },
    {
     "name": "stdout",
     "output_type": "stream",
     "text": [
      "Empty DataFrame\n",
      "Columns: [Open, High, Low, Close, Adj Close, Volume]\n",
      "Index: []\n"
     ]
    },
    {
     "name": "stderr",
     "output_type": "stream",
     "text": [
      "[*********************100%%**********************]  1 of 1 completed\n",
      "\n",
      "1 Failed download:\n",
      "['G9460K110']: Exception('%ticker%: No timezone found, symbol may be delisted')\n"
     ]
    },
    {
     "name": "stdout",
     "output_type": "stream",
     "text": [
      "Empty DataFrame\n",
      "Columns: [Open, High, Low, Close, Adj Close, Volume]\n",
      "Index: []\n"
     ]
    },
    {
     "name": "stderr",
     "output_type": "stream",
     "text": [
      "[*********************100%%**********************]  1 of 1 completed\n",
      "\n",
      "1 Failed download:\n",
      "['G8T90F110']: Exception('%ticker%: No timezone found, symbol may be delisted')\n"
     ]
    },
    {
     "name": "stdout",
     "output_type": "stream",
     "text": [
      "Empty DataFrame\n",
      "Columns: [Open, High, Low, Close, Adj Close, Volume]\n",
      "Index: []\n"
     ]
    },
    {
     "name": "stderr",
     "output_type": "stream",
     "text": [
      "[*********************100%%**********************]  1 of 1 completed\n",
      "\n",
      "1 Failed download:\n",
      "['38286Q206']: Exception('%ticker%: No timezone found, symbol may be delisted')\n"
     ]
    },
    {
     "name": "stdout",
     "output_type": "stream",
     "text": [
      "Empty DataFrame\n",
      "Columns: [Open, High, Low, Close, Adj Close, Volume]\n",
      "Index: []\n"
     ]
    },
    {
     "name": "stderr",
     "output_type": "stream",
     "text": [
      "[*********************100%%**********************]  1 of 1 completed\n",
      "\n",
      "1 Failed download:\n",
      "['G5S70A120']: Exception('%ticker%: No timezone found, symbol may be delisted')\n",
      "c:\\Users\\ziggy\\anaconda3\\Lib\\site-packages\\yfinance\\utils.py:775: FutureWarning: The 'unit' keyword in TimedeltaIndex construction is deprecated and will be removed in a future version. Use pd.to_timedelta instead.\n",
      "  df.index += _pd.TimedeltaIndex(dst_error_hours, 'h')\n",
      "[*********************100%%**********************]  1 of 1 completed\n"
     ]
    },
    {
     "name": "stdout",
     "output_type": "stream",
     "text": [
      "Empty DataFrame\n",
      "Columns: [Open, High, Low, Close, Adj Close, Volume]\n",
      "Index: []\n",
      "             Open   High    Low  Close  Adj Close  Volume\n",
      "Date                                                     \n",
      "2021-03-22  13.99  14.07  13.99  14.06  13.534815   34100\n",
      "2021-03-23  14.03  14.04  13.92  13.92  13.400043   43800\n",
      "2021-03-24  13.96  14.12  13.96  14.00  13.477057   28400\n",
      "2021-03-25  14.12  14.14  14.05  14.13  13.602201   21500\n",
      "2021-03-26  14.13  14.16  14.10  14.10  13.573320   14500\n",
      "...           ...    ...    ...    ...        ...     ...\n",
      "2022-03-15  12.51  12.64  12.44  12.47  12.470000   64200\n",
      "2022-03-16  12.57  12.61  12.41  12.45  12.450000   65800\n",
      "2022-03-17  12.45  12.52  12.38  12.43  12.430000   88400\n",
      "2022-03-18  12.43  12.52  12.43  12.48  12.480000  125500\n",
      "2022-03-21  12.45  12.45  12.32  12.39  12.390000   74300\n",
      "\n",
      "[253 rows x 6 columns]\n"
     ]
    },
    {
     "name": "stderr",
     "output_type": "stream",
     "text": [
      "[*********************100%%**********************]  1 of 1 completed\n",
      "\n",
      "1 Failed download:\n",
      "['G54085124']: Exception('%ticker%: No timezone found, symbol may be delisted')\n"
     ]
    },
    {
     "name": "stdout",
     "output_type": "stream",
     "text": [
      "Empty DataFrame\n",
      "Columns: [Open, High, Low, Close, Adj Close, Volume]\n",
      "Index: []\n"
     ]
    },
    {
     "name": "stderr",
     "output_type": "stream",
     "text": [
      "[*********************100%%**********************]  1 of 1 completed\n",
      "\n",
      "1 Failed download:\n",
      "['G65317110']: Exception('%ticker%: No timezone found, symbol may be delisted')\n"
     ]
    },
    {
     "name": "stdout",
     "output_type": "stream",
     "text": [
      "Empty DataFrame\n",
      "Columns: [Open, High, Low, Close, Adj Close, Volume]\n",
      "Index: []\n"
     ]
    },
    {
     "name": "stderr",
     "output_type": "stream",
     "text": [
      "[*********************100%%**********************]  1 of 1 completed\n",
      "\n",
      "1 Failed download:\n",
      "['37714P202']: Exception('%ticker%: No timezone found, symbol may be delisted')\n"
     ]
    },
    {
     "name": "stdout",
     "output_type": "stream",
     "text": [
      "Empty DataFrame\n",
      "Columns: [Open, High, Low, Close, Adj Close, Volume]\n",
      "Index: []\n"
     ]
    },
    {
     "name": "stderr",
     "output_type": "stream",
     "text": [
      "[*********************100%%**********************]  1 of 1 completed\n",
      "\n",
      "1 Failed download:\n",
      "['G54094118']: Exception('%ticker%: No timezone found, symbol may be delisted')\n"
     ]
    },
    {
     "name": "stdout",
     "output_type": "stream",
     "text": [
      "Empty DataFrame\n",
      "Columns: [Open, High, Low, Close, Adj Close, Volume]\n",
      "Index: []\n"
     ]
    },
    {
     "name": "stderr",
     "output_type": "stream",
     "text": [
      "[*********************100%%**********************]  1 of 1 completed\n",
      "\n",
      "1 Failed download:\n",
      "['54319Q204']: Exception('%ticker%: No timezone found, symbol may be delisted')\n"
     ]
    },
    {
     "name": "stdout",
     "output_type": "stream",
     "text": [
      "Empty DataFrame\n",
      "Columns: [Open, High, Low, Close, Adj Close, Volume]\n",
      "Index: []\n"
     ]
    },
    {
     "name": "stderr",
     "output_type": "stream",
     "text": [
      "[*********************100%%**********************]  1 of 1 completed\n",
      "\n",
      "1 Failed download:\n",
      "['G5462L114']: Exception('%ticker%: No timezone found, symbol may be delisted')\n"
     ]
    },
    {
     "name": "stdout",
     "output_type": "stream",
     "text": [
      "Empty DataFrame\n",
      "Columns: [Open, High, Low, Close, Adj Close, Volume]\n",
      "Index: []\n"
     ]
    },
    {
     "name": "stderr",
     "output_type": "stream",
     "text": [
      "[*********************100%%**********************]  1 of 1 completed\n",
      "\n",
      "1 Failed download:\n",
      "['378579205']: Exception('%ticker%: No timezone found, symbol may be delisted')\n"
     ]
    },
    {
     "name": "stdout",
     "output_type": "stream",
     "text": [
      "Empty DataFrame\n",
      "Columns: [Open, High, Low, Close, Adj Close, Volume]\n",
      "Index: []\n"
     ]
    },
    {
     "name": "stderr",
     "output_type": "stream",
     "text": [
      "[*********************100%%**********************]  1 of 1 completed\n",
      "\n",
      "1 Failed download:\n",
      "['001040203']: Exception('%ticker%: No timezone found, symbol may be delisted')\n"
     ]
    },
    {
     "name": "stdout",
     "output_type": "stream",
     "text": [
      "Empty DataFrame\n",
      "Columns: [Open, High, Low, Close, Adj Close, Volume]\n",
      "Index: []\n"
     ]
    },
    {
     "name": "stderr",
     "output_type": "stream",
     "text": [
      "[*********************100%%**********************]  1 of 1 completed\n",
      "\n",
      "1 Failed download:\n",
      "['G1R25Q121']: Exception('%ticker%: No timezone found, symbol may be delisted')\n"
     ]
    },
    {
     "name": "stdout",
     "output_type": "stream",
     "text": [
      "Empty DataFrame\n",
      "Columns: [Open, High, Low, Close, Adj Close, Volume]\n",
      "Index: []\n"
     ]
    },
    {
     "name": "stderr",
     "output_type": "stream",
     "text": [
      "[*********************100%%**********************]  1 of 1 completed\n",
      "\n",
      "1 Failed download:\n",
      "['02369M201']: Exception('%ticker%: No timezone found, symbol may be delisted')\n"
     ]
    },
    {
     "name": "stdout",
     "output_type": "stream",
     "text": [
      "Empty DataFrame\n",
      "Columns: [Open, High, Low, Close, Adj Close, Volume]\n",
      "Index: []\n"
     ]
    },
    {
     "name": "stderr",
     "output_type": "stream",
     "text": [
      "[*********************100%%**********************]  1 of 1 completed\n",
      "\n",
      "1 Failed download:\n",
      "['349875203']: Exception('%ticker%: No timezone found, symbol may be delisted')\n"
     ]
    },
    {
     "name": "stdout",
     "output_type": "stream",
     "text": [
      "Empty DataFrame\n",
      "Columns: [Open, High, Low, Close, Adj Close, Volume]\n",
      "Index: []\n"
     ]
    },
    {
     "name": "stderr",
     "output_type": "stream",
     "text": [
      "[*********************100%%**********************]  1 of 1 completed\n",
      "\n",
      "1 Failed download:\n",
      "['36260F204']: Exception('%ticker%: No timezone found, symbol may be delisted')\n"
     ]
    },
    {
     "name": "stdout",
     "output_type": "stream",
     "text": [
      "Empty DataFrame\n",
      "Columns: [Open, High, Low, Close, Adj Close, Volume]\n",
      "Index: []\n"
     ]
    },
    {
     "name": "stderr",
     "output_type": "stream",
     "text": [
      "[*********************100%%**********************]  1 of 1 completed\n",
      "\n",
      "1 Failed download:\n",
      "['76155Y207']: Exception('%ticker%: No timezone found, symbol may be delisted')\n",
      "c:\\Users\\ziggy\\anaconda3\\Lib\\site-packages\\yfinance\\utils.py:775: FutureWarning: The 'unit' keyword in TimedeltaIndex construction is deprecated and will be removed in a future version. Use pd.to_timedelta instead.\n",
      "  df.index += _pd.TimedeltaIndex(dst_error_hours, 'h')\n",
      "[*********************100%%**********************]  1 of 1 completed\n"
     ]
    },
    {
     "name": "stdout",
     "output_type": "stream",
     "text": [
      "Empty DataFrame\n",
      "Columns: [Open, High, Low, Close, Adj Close, Volume]\n",
      "Index: []\n",
      "             Open   High    Low  Close  Adj Close  Volume\n",
      "Date                                                     \n",
      "2021-03-17  14.03  14.05  13.92  14.02  13.496310   30500\n",
      "2021-03-18  13.98  14.03  13.84  13.98  13.457803   52600\n",
      "2021-03-19  13.98  14.10  13.89  14.10  13.573320   53500\n",
      "2021-03-22  13.99  14.07  13.99  14.06  13.534815   34100\n",
      "2021-03-23  14.03  14.04  13.92  13.92  13.400043   43800\n",
      "...           ...    ...    ...    ...        ...     ...\n",
      "2022-03-10  12.84  12.93  12.77  12.81  12.810000   42100\n",
      "2022-03-11  12.74  12.77  12.63  12.64  12.640000   47500\n",
      "2022-03-14  12.60  12.61  12.42  12.51  12.510000   85900\n",
      "2022-03-15  12.51  12.64  12.44  12.47  12.470000   64200\n",
      "2022-03-16  12.57  12.61  12.41  12.45  12.450000   65800\n",
      "\n",
      "[253 rows x 6 columns]\n"
     ]
    },
    {
     "name": "stderr",
     "output_type": "stream",
     "text": [
      "[*********************100%%**********************]  1 of 1 completed\n",
      "\n",
      "1 Failed download:\n",
      "['00439D201']: Exception('%ticker%: No timezone found, symbol may be delisted')\n"
     ]
    },
    {
     "name": "stdout",
     "output_type": "stream",
     "text": [
      "Empty DataFrame\n",
      "Columns: [Open, High, Low, Close, Adj Close, Volume]\n",
      "Index: []\n"
     ]
    },
    {
     "name": "stderr",
     "output_type": "stream",
     "text": [
      "[*********************100%%**********************]  1 of 1 completed\n",
      "\n",
      "1 Failed download:\n",
      "['48253T208']: Exception('%ticker%: No timezone found, symbol may be delisted')\n"
     ]
    },
    {
     "name": "stdout",
     "output_type": "stream",
     "text": [
      "Empty DataFrame\n",
      "Columns: [Open, High, Low, Close, Adj Close, Volume]\n",
      "Index: []\n"
     ]
    },
    {
     "name": "stderr",
     "output_type": "stream",
     "text": [
      "[*********************100%%**********************]  1 of 1 completed\n",
      "\n",
      "1 Failed download:\n",
      "['04687A208']: Exception('%ticker%: No timezone found, symbol may be delisted')\n"
     ]
    },
    {
     "name": "stdout",
     "output_type": "stream",
     "text": [
      "Empty DataFrame\n",
      "Columns: [Open, High, Low, Close, Adj Close, Volume]\n",
      "Index: []\n"
     ]
    },
    {
     "name": "stderr",
     "output_type": "stream",
     "text": [
      "[*********************100%%**********************]  1 of 1 completed\n",
      "\n",
      "1 Failed download:\n",
      "['87823R201']: Exception('%ticker%: No timezone found, symbol may be delisted')\n"
     ]
    },
    {
     "name": "stdout",
     "output_type": "stream",
     "text": [
      "Empty DataFrame\n",
      "Columns: [Open, High, Low, Close, Adj Close, Volume]\n",
      "Index: []\n"
     ]
    },
    {
     "name": "stderr",
     "output_type": "stream",
     "text": [
      "[*********************100%%**********************]  1 of 1 completed\n",
      "\n",
      "1 Failed download:\n",
      "['380799205']: Exception('%ticker%: No timezone found, symbol may be delisted')\n"
     ]
    },
    {
     "name": "stdout",
     "output_type": "stream",
     "text": [
      "Empty DataFrame\n",
      "Columns: [Open, High, Low, Close, Adj Close, Volume]\n",
      "Index: []\n"
     ]
    },
    {
     "name": "stderr",
     "output_type": "stream",
     "text": [
      "[*********************100%%**********************]  1 of 1 completed\n",
      "\n",
      "1 Failed download:\n",
      "['48284E204']: Exception('%ticker%: No timezone found, symbol may be delisted')\n"
     ]
    },
    {
     "name": "stdout",
     "output_type": "stream",
     "text": [
      "Empty DataFrame\n",
      "Columns: [Open, High, Low, Close, Adj Close, Volume]\n",
      "Index: []\n"
     ]
    },
    {
     "name": "stderr",
     "output_type": "stream",
     "text": [
      "[*********************100%%**********************]  1 of 1 completed\n",
      "\n",
      "1 Failed download:\n",
      "['12008J204']: Exception('%ticker%: No timezone found, symbol may be delisted')\n"
     ]
    },
    {
     "name": "stdout",
     "output_type": "stream",
     "text": [
      "Empty DataFrame\n",
      "Columns: [Open, High, Low, Close, Adj Close, Volume]\n",
      "Index: []\n"
     ]
    },
    {
     "name": "stderr",
     "output_type": "stream",
     "text": [
      "[*********************100%%**********************]  1 of 1 completed\n",
      "\n",
      "1 Failed download:\n",
      "['G7484L114']: Exception('%ticker%: No timezone found, symbol may be delisted')\n"
     ]
    },
    {
     "name": "stdout",
     "output_type": "stream",
     "text": [
      "Empty DataFrame\n",
      "Columns: [Open, High, Low, Close, Adj Close, Volume]\n",
      "Index: []\n"
     ]
    },
    {
     "name": "stderr",
     "output_type": "stream",
     "text": [
      "[*********************100%%**********************]  1 of 1 completed\n",
      "\n",
      "1 Failed download:\n",
      "['G3167F110']: Exception('%ticker%: No timezone found, symbol may be delisted')\n"
     ]
    },
    {
     "name": "stdout",
     "output_type": "stream",
     "text": [
      "Empty DataFrame\n",
      "Columns: [Open, High, Low, Close, Adj Close, Volume]\n",
      "Index: []\n"
     ]
    },
    {
     "name": "stderr",
     "output_type": "stream",
     "text": [
      "[*********************100%%**********************]  1 of 1 completed\n",
      "\n",
      "1 Failed download:\n",
      "['34964K207']: Exception('%ticker%: No timezone found, symbol may be delisted')\n"
     ]
    },
    {
     "name": "stdout",
     "output_type": "stream",
     "text": [
      "Empty DataFrame\n",
      "Columns: [Open, High, Low, Close, Adj Close, Volume]\n",
      "Index: []\n"
     ]
    },
    {
     "name": "stderr",
     "output_type": "stream",
     "text": [
      "[*********************100%%**********************]  1 of 1 completed\n",
      "\n",
      "1 Failed download:\n",
      "['G7134L100']: Exception('%ticker%: No timezone found, symbol may be delisted')\n"
     ]
    },
    {
     "name": "stdout",
     "output_type": "stream",
     "text": [
      "Empty DataFrame\n",
      "Columns: [Open, High, Low, Close, Adj Close, Volume]\n",
      "Index: []\n"
     ]
    },
    {
     "name": "stderr",
     "output_type": "stream",
     "text": [
      "[*********************100%%**********************]  1 of 1 completed\n",
      "\n",
      "1 Failed download:\n",
      "['G9460C126']: Exception('%ticker%: No timezone found, symbol may be delisted')\n"
     ]
    },
    {
     "name": "stdout",
     "output_type": "stream",
     "text": [
      "Empty DataFrame\n",
      "Columns: [Open, High, Low, Close, Adj Close, Volume]\n",
      "Index: []\n"
     ]
    },
    {
     "name": "stderr",
     "output_type": "stream",
     "text": [
      "[*********************100%%**********************]  1 of 1 completed\n",
      "\n",
      "1 Failed download:\n",
      "['311874200']: Exception('%ticker%: No timezone found, symbol may be delisted')\n"
     ]
    },
    {
     "name": "stdout",
     "output_type": "stream",
     "text": [
      "Empty DataFrame\n",
      "Columns: [Open, High, Low, Close, Adj Close, Volume]\n",
      "Index: []\n"
     ]
    },
    {
     "name": "stderr",
     "output_type": "stream",
     "text": [
      "[*********************100%%**********************]  1 of 1 completed\n",
      "\n",
      "1 Failed download:\n",
      "['38287L206']: Exception('%ticker%: No timezone found, symbol may be delisted')\n"
     ]
    },
    {
     "name": "stdout",
     "output_type": "stream",
     "text": [
      "Empty DataFrame\n",
      "Columns: [Open, High, Low, Close, Adj Close, Volume]\n",
      "Index: []\n"
     ]
    },
    {
     "name": "stderr",
     "output_type": "stream",
     "text": [
      "[*********************100%%**********************]  1 of 1 completed\n",
      "\n",
      "1 Failed download:\n",
      "['382870202']: Exception('%ticker%: No timezone found, symbol may be delisted')\n"
     ]
    },
    {
     "name": "stdout",
     "output_type": "stream",
     "text": [
      "Empty DataFrame\n",
      "Columns: [Open, High, Low, Close, Adj Close, Volume]\n",
      "Index: []\n"
     ]
    },
    {
     "name": "stderr",
     "output_type": "stream",
     "text": [
      "[*********************100%%**********************]  1 of 1 completed\n",
      "\n",
      "1 Failed download:\n",
      "['G7641C122']: Exception('%ticker%: No timezone found, symbol may be delisted')\n"
     ]
    },
    {
     "name": "stdout",
     "output_type": "stream",
     "text": [
      "Empty DataFrame\n",
      "Columns: [Open, High, Low, Close, Adj Close, Volume]\n",
      "Index: []\n"
     ]
    },
    {
     "name": "stderr",
     "output_type": "stream",
     "text": [
      "[*********************100%%**********************]  1 of 1 completed\n",
      "\n",
      "1 Failed download:\n",
      "['30319B207']: Exception('%ticker%: No timezone found, symbol may be delisted')\n"
     ]
    },
    {
     "name": "stdout",
     "output_type": "stream",
     "text": [
      "Empty DataFrame\n",
      "Columns: [Open, High, Low, Close, Adj Close, Volume]\n",
      "Index: []\n"
     ]
    },
    {
     "name": "stderr",
     "output_type": "stream",
     "text": [
      "[*********************100%%**********************]  1 of 1 completed\n",
      "\n",
      "1 Failed download:\n",
      "['86309R206']: Exception('%ticker%: No timezone found, symbol may be delisted')\n"
     ]
    },
    {
     "name": "stdout",
     "output_type": "stream",
     "text": [
      "Empty DataFrame\n",
      "Columns: [Open, High, Low, Close, Adj Close, Volume]\n",
      "Index: []\n"
     ]
    },
    {
     "name": "stderr",
     "output_type": "stream",
     "text": [
      "[*********************100%%**********************]  1 of 1 completed\n",
      "\n",
      "1 Failed download:\n",
      "['12520C208']: Exception('%ticker%: No timezone found, symbol may be delisted')\n"
     ]
    },
    {
     "name": "stdout",
     "output_type": "stream",
     "text": [
      "Empty DataFrame\n",
      "Columns: [Open, High, Low, Close, Adj Close, Volume]\n",
      "Index: []\n"
     ]
    },
    {
     "name": "stderr",
     "output_type": "stream",
     "text": [
      "[*********************100%%**********************]  1 of 1 completed\n",
      "\n",
      "1 Failed download:\n",
      "['G8201H121']: Exception('%ticker%: No timezone found, symbol may be delisted')\n"
     ]
    },
    {
     "name": "stdout",
     "output_type": "stream",
     "text": [
      "Empty DataFrame\n",
      "Columns: [Open, High, Low, Close, Adj Close, Volume]\n",
      "Index: []\n"
     ]
    },
    {
     "name": "stderr",
     "output_type": "stream",
     "text": [
      "[*********************100%%**********************]  1 of 1 completed\n",
      "\n",
      "1 Failed download:\n",
      "['36146G202']: Exception('%ticker%: No timezone found, symbol may be delisted')\n"
     ]
    },
    {
     "name": "stdout",
     "output_type": "stream",
     "text": [
      "Empty DataFrame\n",
      "Columns: [Open, High, Low, Close, Adj Close, Volume]\n",
      "Index: []\n"
     ]
    },
    {
     "name": "stderr",
     "output_type": "stream",
     "text": [
      "[*********************100%%**********************]  1 of 1 completed\n",
      "\n",
      "1 Failed download:\n",
      "['039562202']: Exception('%ticker%: No timezone found, symbol may be delisted')\n"
     ]
    },
    {
     "name": "stdout",
     "output_type": "stream",
     "text": [
      "Empty DataFrame\n",
      "Columns: [Open, High, Low, Close, Adj Close, Volume]\n",
      "Index: []\n"
     ]
    },
    {
     "name": "stderr",
     "output_type": "stream",
     "text": [
      "[*********************100%%**********************]  1 of 1 completed\n",
      "\n",
      "1 Failed download:\n",
      "['G36826116']: Exception('%ticker%: No timezone found, symbol may be delisted')\n"
     ]
    },
    {
     "name": "stdout",
     "output_type": "stream",
     "text": [
      "Empty DataFrame\n",
      "Columns: [Open, High, Low, Close, Adj Close, Volume]\n",
      "Index: []\n"
     ]
    },
    {
     "name": "stderr",
     "output_type": "stream",
     "text": [
      "[*********************100%%**********************]  1 of 1 completed\n",
      "\n",
      "1 Failed download:\n",
      "['722850203']: Exception('%ticker%: No timezone found, symbol may be delisted')\n"
     ]
    },
    {
     "name": "stdout",
     "output_type": "stream",
     "text": [
      "Empty DataFrame\n",
      "Columns: [Open, High, Low, Close, Adj Close, Volume]\n",
      "Index: []\n"
     ]
    },
    {
     "name": "stderr",
     "output_type": "stream",
     "text": [
      "[*********************100%%**********************]  1 of 1 completed\n",
      "\n",
      "1 Failed download:\n",
      "['G5346G109']: Exception('%ticker%: No timezone found, symbol may be delisted')\n"
     ]
    },
    {
     "name": "stdout",
     "output_type": "stream",
     "text": [
      "Empty DataFrame\n",
      "Columns: [Open, High, Low, Close, Adj Close, Volume]\n",
      "Index: []\n"
     ]
    },
    {
     "name": "stderr",
     "output_type": "stream",
     "text": [
      "[*********************100%%**********************]  1 of 1 completed\n",
      "\n",
      "1 Failed download:\n",
      "['G01202129']: Exception('%ticker%: No timezone found, symbol may be delisted')\n"
     ]
    },
    {
     "name": "stdout",
     "output_type": "stream",
     "text": [
      "Empty DataFrame\n",
      "Columns: [Open, High, Low, Close, Adj Close, Volume]\n",
      "Index: []\n"
     ]
    },
    {
     "name": "stderr",
     "output_type": "stream",
     "text": [
      "[*********************100%%**********************]  1 of 1 completed\n",
      "\n",
      "1 Failed download:\n",
      "['25401K206']: Exception('%ticker%: No timezone found, symbol may be delisted')\n"
     ]
    },
    {
     "name": "stdout",
     "output_type": "stream",
     "text": [
      "Empty DataFrame\n",
      "Columns: [Open, High, Low, Close, Adj Close, Volume]\n",
      "Index: []\n"
     ]
    },
    {
     "name": "stderr",
     "output_type": "stream",
     "text": [
      "[*********************100%%**********************]  1 of 1 completed\n",
      "\n",
      "1 Failed download:\n",
      "['G2284B127']: Exception('%ticker%: No timezone found, symbol may be delisted')\n",
      "c:\\Users\\ziggy\\anaconda3\\Lib\\site-packages\\yfinance\\utils.py:775: FutureWarning: The 'unit' keyword in TimedeltaIndex construction is deprecated and will be removed in a future version. Use pd.to_timedelta instead.\n",
      "  df.index += _pd.TimedeltaIndex(dst_error_hours, 'h')\n",
      "[*********************100%%**********************]  1 of 1 completed\n"
     ]
    },
    {
     "name": "stdout",
     "output_type": "stream",
     "text": [
      "Empty DataFrame\n",
      "Columns: [Open, High, Low, Close, Adj Close, Volume]\n",
      "Index: []\n",
      "             Open   High    Low  Close  Adj Close  Volume\n",
      "Date                                                     \n",
      "2021-03-09  14.01  14.02  13.97  14.01  13.437014   17900\n",
      "2021-03-10  14.02  14.08  13.94  14.05  13.475378   41100\n",
      "2021-03-11  14.04  14.14  14.04  14.12  13.542517   22800\n",
      "2021-03-12  14.06  14.06  13.93  13.98  13.457803   36200\n",
      "2021-03-15  13.99  14.08  13.99  14.02  13.496310   29700\n",
      "...           ...    ...    ...    ...        ...     ...\n",
      "2022-03-02  13.39  13.39  13.20  13.20  13.200000   65800\n",
      "2022-03-03  13.25  13.27  13.14  13.16  13.160000   29100\n",
      "2022-03-04  13.16  13.16  13.07  13.15  13.150000   38000\n",
      "2022-03-07  13.14  13.15  12.94  12.97  12.970000   55300\n",
      "2022-03-08  12.94  12.97  12.78  12.89  12.890000   51200\n",
      "\n",
      "[253 rows x 6 columns]\n"
     ]
    },
    {
     "name": "stderr",
     "output_type": "stream",
     "text": [
      "[*********************100%%**********************]  1 of 1 completed\n",
      "\n",
      "1 Failed download:\n",
      "['799792205']: Exception('%ticker%: No timezone found, symbol may be delisted')\n"
     ]
    },
    {
     "name": "stdout",
     "output_type": "stream",
     "text": [
      "Empty DataFrame\n",
      "Columns: [Open, High, Low, Close, Adj Close, Volume]\n",
      "Index: []\n"
     ]
    },
    {
     "name": "stderr",
     "output_type": "stream",
     "text": [
      "[*********************100%%**********************]  1 of 1 completed\n",
      "\n",
      "1 Failed download:\n",
      "['34619V202']: Exception('%ticker%: No timezone found, symbol may be delisted')\n"
     ]
    },
    {
     "name": "stdout",
     "output_type": "stream",
     "text": [
      "Empty DataFrame\n",
      "Columns: [Open, High, Low, Close, Adj Close, Volume]\n",
      "Index: []\n"
     ]
    },
    {
     "name": "stderr",
     "output_type": "stream",
     "text": [
      "[*********************100%%**********************]  1 of 1 completed\n",
      "\n",
      "1 Failed download:\n",
      "['G3195H120']: Exception('%ticker%: No timezone found, symbol may be delisted')\n"
     ]
    },
    {
     "name": "stdout",
     "output_type": "stream",
     "text": [
      "Empty DataFrame\n",
      "Columns: [Open, High, Low, Close, Adj Close, Volume]\n",
      "Index: []\n"
     ]
    },
    {
     "name": "stderr",
     "output_type": "stream",
     "text": [
      "[*********************100%%**********************]  1 of 1 completed\n",
      "\n",
      "1 Failed download:\n",
      "['74709Q200']: Exception('%ticker%: No timezone found, symbol may be delisted')\n"
     ]
    },
    {
     "name": "stdout",
     "output_type": "stream",
     "text": [
      "Empty DataFrame\n",
      "Columns: [Open, High, Low, Close, Adj Close, Volume]\n",
      "Index: []\n"
     ]
    },
    {
     "name": "stderr",
     "output_type": "stream",
     "text": [
      "[*********************100%%**********************]  1 of 1 completed\n",
      "\n",
      "1 Failed download:\n",
      "['G7008B113']: Exception('%ticker%: No timezone found, symbol may be delisted')\n",
      "c:\\Users\\ziggy\\anaconda3\\Lib\\site-packages\\yfinance\\utils.py:775: FutureWarning: The 'unit' keyword in TimedeltaIndex construction is deprecated and will be removed in a future version. Use pd.to_timedelta instead.\n",
      "  df.index += _pd.TimedeltaIndex(dst_error_hours, 'h')\n",
      "[*********************100%%**********************]  1 of 1 completed\n",
      "c:\\Users\\ziggy\\anaconda3\\Lib\\site-packages\\yfinance\\utils.py:775: FutureWarning: The 'unit' keyword in TimedeltaIndex construction is deprecated and will be removed in a future version. Use pd.to_timedelta instead.\n",
      "  df.index += _pd.TimedeltaIndex(dst_error_hours, 'h')\n",
      "[*********************100%%**********************]  1 of 1 completed\n"
     ]
    },
    {
     "name": "stdout",
     "output_type": "stream",
     "text": [
      "Empty DataFrame\n",
      "Columns: [Open, High, Low, Close, Adj Close, Volume]\n",
      "Index: []\n",
      "             Open   High    Low  Close  Adj Close  Volume\n",
      "Date                                                     \n",
      "2021-03-08  13.93  13.98  13.93  13.96  13.389058   16000\n",
      "2021-03-09  14.01  14.02  13.97  14.01  13.437014   17900\n",
      "2021-03-10  14.02  14.08  13.94  14.05  13.475378   41100\n",
      "2021-03-11  14.04  14.14  14.04  14.12  13.542517   22800\n",
      "2021-03-12  14.06  14.06  13.93  13.98  13.457803   36200\n",
      "...           ...    ...    ...    ...        ...     ...\n",
      "2022-03-01  13.29  13.48  13.29  13.46  13.460000   41300\n",
      "2022-03-02  13.39  13.39  13.20  13.20  13.200000   65800\n",
      "2022-03-03  13.25  13.27  13.14  13.16  13.160000   29100\n",
      "2022-03-04  13.16  13.16  13.07  13.15  13.150000   38000\n",
      "2022-03-07  13.14  13.15  12.94  12.97  12.970000   55300\n",
      "\n",
      "[253 rows x 6 columns]\n",
      "             Open   High    Low  Close  Adj Close  Volume\n",
      "Date                                                     \n",
      "2021-03-08  13.93  13.98  13.93  13.96  13.389058   16000\n",
      "2021-03-09  14.01  14.02  13.97  14.01  13.437014   17900\n",
      "2021-03-10  14.02  14.08  13.94  14.05  13.475378   41100\n",
      "2021-03-11  14.04  14.14  14.04  14.12  13.542517   22800\n",
      "2021-03-12  14.06  14.06  13.93  13.98  13.457803   36200\n",
      "...           ...    ...    ...    ...        ...     ...\n",
      "2022-03-01  13.29  13.48  13.29  13.46  13.460000   41300\n",
      "2022-03-02  13.39  13.39  13.20  13.20  13.200000   65800\n",
      "2022-03-03  13.25  13.27  13.14  13.16  13.160000   29100\n",
      "2022-03-04  13.16  13.16  13.07  13.15  13.150000   38000\n",
      "2022-03-07  13.14  13.15  12.94  12.97  12.970000   55300\n",
      "\n",
      "[253 rows x 6 columns]\n"
     ]
    },
    {
     "name": "stderr",
     "output_type": "stream",
     "text": [
      "[*********************100%%**********************]  1 of 1 completed\n",
      "\n",
      "1 Failed download:\n",
      "['G4761A119']: Exception('%ticker%: No timezone found, symbol may be delisted')\n"
     ]
    },
    {
     "name": "stdout",
     "output_type": "stream",
     "text": [
      "Empty DataFrame\n",
      "Columns: [Open, High, Low, Close, Adj Close, Volume]\n",
      "Index: []\n"
     ]
    },
    {
     "name": "stderr",
     "output_type": "stream",
     "text": [
      "[*********************100%%**********************]  1 of 1 completed\n",
      "\n",
      "1 Failed download:\n",
      "['G9460L100']: Exception('%ticker%: No timezone found, symbol may be delisted')\n"
     ]
    },
    {
     "name": "stdout",
     "output_type": "stream",
     "text": [
      "Empty DataFrame\n",
      "Columns: [Open, High, Low, Close, Adj Close, Volume]\n",
      "Index: []\n"
     ]
    },
    {
     "name": "stderr",
     "output_type": "stream",
     "text": [
      "[*********************100%%**********************]  1 of 1 completed\n",
      "\n",
      "1 Failed download:\n",
      "['89601Y200']: Exception('%ticker%: No timezone found, symbol may be delisted')\n"
     ]
    },
    {
     "name": "stdout",
     "output_type": "stream",
     "text": [
      "Empty DataFrame\n",
      "Columns: [Open, High, Low, Close, Adj Close, Volume]\n",
      "Index: []\n"
     ]
    },
    {
     "name": "stderr",
     "output_type": "stream",
     "text": [
      "[*********************100%%**********************]  1 of 1 completed\n",
      "\n",
      "1 Failed download:\n",
      "['91835J207']: Exception('%ticker%: No timezone found, symbol may be delisted')\n"
     ]
    },
    {
     "name": "stdout",
     "output_type": "stream",
     "text": [
      "Empty DataFrame\n",
      "Columns: [Open, High, Low, Close, Adj Close, Volume]\n",
      "Index: []\n"
     ]
    },
    {
     "name": "stderr",
     "output_type": "stream",
     "text": [
      "[*********************100%%**********************]  1 of 1 completed\n",
      "\n",
      "1 Failed download:\n",
      "['336169206']: Exception('%ticker%: No timezone found, symbol may be delisted')\n"
     ]
    },
    {
     "name": "stdout",
     "output_type": "stream",
     "text": [
      "Empty DataFrame\n",
      "Columns: [Open, High, Low, Close, Adj Close, Volume]\n",
      "Index: []\n"
     ]
    },
    {
     "name": "stderr",
     "output_type": "stream",
     "text": [
      "[*********************100%%**********************]  1 of 1 completed\n",
      "\n",
      "1 Failed download:\n",
      "['74350A207']: Exception('%ticker%: No timezone found, symbol may be delisted')\n",
      "c:\\Users\\ziggy\\anaconda3\\Lib\\site-packages\\yfinance\\utils.py:775: FutureWarning: The 'unit' keyword in TimedeltaIndex construction is deprecated and will be removed in a future version. Use pd.to_timedelta instead.\n",
      "  df.index += _pd.TimedeltaIndex(dst_error_hours, 'h')\n",
      "[*********************100%%**********************]  1 of 1 completed\n"
     ]
    },
    {
     "name": "stdout",
     "output_type": "stream",
     "text": [
      "Empty DataFrame\n",
      "Columns: [Open, High, Low, Close, Adj Close, Volume]\n",
      "Index: []\n",
      "             Open   High    Low  Close  Adj Close  Volume\n",
      "Date                                                     \n",
      "2021-03-04  13.98  14.02  13.90  13.90  13.331514   25800\n",
      "2021-03-05  13.89  13.94  13.83  13.93  13.360287   66600\n",
      "2021-03-08  13.93  13.98  13.93  13.96  13.389058   16000\n",
      "2021-03-09  14.01  14.02  13.97  14.01  13.437014   17900\n",
      "2021-03-10  14.02  14.08  13.94  14.05  13.475378   41100\n",
      "...           ...    ...    ...    ...        ...     ...\n",
      "2022-02-25  13.00  13.04  12.96  13.01  13.010000   49600\n",
      "2022-02-28  13.10  13.21  13.06  13.21  13.210000   27700\n",
      "2022-03-01  13.29  13.48  13.29  13.46  13.460000   41300\n",
      "2022-03-02  13.39  13.39  13.20  13.20  13.200000   65800\n",
      "2022-03-03  13.25  13.27  13.14  13.16  13.160000   29100\n",
      "\n",
      "[253 rows x 6 columns]\n"
     ]
    },
    {
     "name": "stderr",
     "output_type": "stream",
     "text": [
      "[*********************100%%**********************]  1 of 1 completed\n",
      "\n",
      "1 Failed download:\n",
      "['46064Q207']: Exception('%ticker%: No timezone found, symbol may be delisted')\n"
     ]
    },
    {
     "name": "stdout",
     "output_type": "stream",
     "text": [
      "Empty DataFrame\n",
      "Columns: [Open, High, Low, Close, Adj Close, Volume]\n",
      "Index: []\n"
     ]
    },
    {
     "name": "stderr",
     "output_type": "stream",
     "text": [
      "[*********************100%%**********************]  1 of 1 completed\n",
      "\n",
      "1 Failed download:\n",
      "['46064R205']: Exception('%ticker%: No timezone found, symbol may be delisted')\n"
     ]
    },
    {
     "name": "stdout",
     "output_type": "stream",
     "text": [
      "Empty DataFrame\n",
      "Columns: [Open, High, Low, Close, Adj Close, Volume]\n",
      "Index: []\n"
     ]
    },
    {
     "name": "stderr",
     "output_type": "stream",
     "text": [
      "[*********************100%%**********************]  1 of 1 completed\n",
      "\n",
      "1 Failed download:\n",
      "['46064T201']: Exception('%ticker%: No timezone found, symbol may be delisted')\n"
     ]
    },
    {
     "name": "stdout",
     "output_type": "stream",
     "text": [
      "Empty DataFrame\n",
      "Columns: [Open, High, Low, Close, Adj Close, Volume]\n",
      "Index: []\n"
     ]
    },
    {
     "name": "stderr",
     "output_type": "stream",
     "text": [
      "[*********************100%%**********************]  1 of 1 completed\n",
      "\n",
      "1 Failed download:\n",
      "['G9461D123']: Exception('%ticker%: No timezone found, symbol may be delisted')\n"
     ]
    },
    {
     "name": "stdout",
     "output_type": "stream",
     "text": [
      "Empty DataFrame\n",
      "Columns: [Open, High, Low, Close, Adj Close, Volume]\n",
      "Index: []\n"
     ]
    },
    {
     "name": "stderr",
     "output_type": "stream",
     "text": [
      "[*********************100%%**********************]  1 of 1 completed\n",
      "\n",
      "1 Failed download:\n",
      "['G9460M116']: Exception('%ticker%: No timezone found, symbol may be delisted')\n"
     ]
    },
    {
     "name": "stdout",
     "output_type": "stream",
     "text": [
      "Empty DataFrame\n",
      "Columns: [Open, High, Low, Close, Adj Close, Volume]\n",
      "Index: []\n"
     ]
    },
    {
     "name": "stderr",
     "output_type": "stream",
     "text": [
      "[*********************100%%**********************]  1 of 1 completed\n",
      "\n",
      "1 Failed download:\n",
      "['23344K201']: Exception('%ticker%: No timezone found, symbol may be delisted')\n"
     ]
    },
    {
     "name": "stdout",
     "output_type": "stream",
     "text": [
      "Empty DataFrame\n",
      "Columns: [Open, High, Low, Close, Adj Close, Volume]\n",
      "Index: []\n"
     ]
    },
    {
     "name": "stderr",
     "output_type": "stream",
     "text": [
      "[*********************100%%**********************]  1 of 1 completed\n",
      "\n",
      "1 Failed download:\n",
      "['G86613117']: Exception('%ticker%: No timezone found, symbol may be delisted')\n"
     ]
    },
    {
     "name": "stdout",
     "output_type": "stream",
     "text": [
      "Empty DataFrame\n",
      "Columns: [Open, High, Low, Close, Adj Close, Volume]\n",
      "Index: []\n"
     ]
    },
    {
     "name": "stderr",
     "output_type": "stream",
     "text": [
      "[*********************100%%**********************]  1 of 1 completed\n",
      "\n",
      "1 Failed download:\n",
      "['G9151L112']: Exception('%ticker%: No timezone found, symbol may be delisted')\n"
     ]
    },
    {
     "name": "stdout",
     "output_type": "stream",
     "text": [
      "Empty DataFrame\n",
      "Columns: [Open, High, Low, Close, Adj Close, Volume]\n",
      "Index: []\n"
     ]
    },
    {
     "name": "stderr",
     "output_type": "stream",
     "text": [
      "[*********************100%%**********************]  1 of 1 completed\n",
      "\n",
      "1 Failed download:\n",
      "['G0370U124']: Exception('%ticker%: No timezone found, symbol may be delisted')\n"
     ]
    },
    {
     "name": "stdout",
     "output_type": "stream",
     "text": [
      "Empty DataFrame\n",
      "Columns: [Open, High, Low, Close, Adj Close, Volume]\n",
      "Index: []\n"
     ]
    },
    {
     "name": "stderr",
     "output_type": "stream",
     "text": [
      "[*********************100%%**********************]  1 of 1 completed\n",
      "\n",
      "1 Failed download:\n",
      "['G3728Y129']: Exception('%ticker%: No timezone found, symbol may be delisted')\n"
     ]
    },
    {
     "name": "stdout",
     "output_type": "stream",
     "text": [
      "Empty DataFrame\n",
      "Columns: [Open, High, Low, Close, Adj Close, Volume]\n",
      "Index: []\n"
     ]
    },
    {
     "name": "stderr",
     "output_type": "stream",
     "text": [
      "[*********************100%%**********************]  1 of 1 completed\n",
      "\n",
      "1 Failed download:\n",
      "['048453203']: Exception('%ticker%: No timezone found, symbol may be delisted')\n"
     ]
    },
    {
     "name": "stdout",
     "output_type": "stream",
     "text": [
      "Empty DataFrame\n",
      "Columns: [Open, High, Low, Close, Adj Close, Volume]\n",
      "Index: []\n"
     ]
    },
    {
     "name": "stderr",
     "output_type": "stream",
     "text": [
      "[*********************100%%**********************]  1 of 1 completed\n",
      "\n",
      "1 Failed download:\n",
      "['74981W206']: Exception('%ticker%: No timezone found, symbol may be delisted')\n",
      "c:\\Users\\ziggy\\anaconda3\\Lib\\site-packages\\yfinance\\utils.py:775: FutureWarning: The 'unit' keyword in TimedeltaIndex construction is deprecated and will be removed in a future version. Use pd.to_timedelta instead.\n",
      "  df.index += _pd.TimedeltaIndex(dst_error_hours, 'h')\n",
      "[*********************100%%**********************]  1 of 1 completed\n"
     ]
    },
    {
     "name": "stdout",
     "output_type": "stream",
     "text": [
      "Empty DataFrame\n",
      "Columns: [Open, High, Low, Close, Adj Close, Volume]\n",
      "Index: []\n",
      "             Open   High    Low  Close  Adj Close  Volume\n",
      "Date                                                     \n",
      "2021-03-03  14.08  14.10  13.90  13.93  13.360287  177300\n",
      "2021-03-04  13.98  14.02  13.90  13.90  13.331514   25800\n",
      "2021-03-05  13.89  13.94  13.83  13.93  13.360287   66600\n",
      "2021-03-08  13.93  13.98  13.93  13.96  13.389058   16000\n",
      "2021-03-09  14.01  14.02  13.97  14.01  13.437014   17900\n",
      "...           ...    ...    ...    ...        ...     ...\n",
      "2022-02-24  13.07  13.18  12.94  13.00  13.000000   67500\n",
      "2022-02-25  13.00  13.04  12.96  13.01  13.010000   49600\n",
      "2022-02-28  13.10  13.21  13.06  13.21  13.210000   27700\n",
      "2022-03-01  13.29  13.48  13.29  13.46  13.460000   41300\n",
      "2022-03-02  13.39  13.39  13.20  13.20  13.200000   65800\n",
      "\n",
      "[253 rows x 6 columns]\n"
     ]
    },
    {
     "name": "stderr",
     "output_type": "stream",
     "text": [
      "[*********************100%%**********************]  1 of 1 completed\n",
      "\n",
      "1 Failed download:\n",
      "['G0698L111']: Exception('%ticker%: No timezone found, symbol may be delisted')\n"
     ]
    },
    {
     "name": "stdout",
     "output_type": "stream",
     "text": [
      "Empty DataFrame\n",
      "Columns: [Open, High, Low, Close, Adj Close, Volume]\n",
      "Index: []\n"
     ]
    },
    {
     "name": "stderr",
     "output_type": "stream",
     "text": [
      "[*********************100%%**********************]  1 of 1 completed\n",
      "\n",
      "1 Failed download:\n",
      "['553800202']: Exception('%ticker%: No timezone found, symbol may be delisted')\n"
     ]
    },
    {
     "name": "stdout",
     "output_type": "stream",
     "text": [
      "Empty DataFrame\n",
      "Columns: [Open, High, Low, Close, Adj Close, Volume]\n",
      "Index: []\n"
     ]
    },
    {
     "name": "stderr",
     "output_type": "stream",
     "text": [
      "[*********************100%%**********************]  1 of 1 completed\n",
      "\n",
      "1 Failed download:\n",
      "['77867Q201']: Exception('%ticker%: No timezone found, symbol may be delisted')\n"
     ]
    },
    {
     "name": "stdout",
     "output_type": "stream",
     "text": [
      "Empty DataFrame\n",
      "Columns: [Open, High, Low, Close, Adj Close, Volume]\n",
      "Index: []\n"
     ]
    },
    {
     "name": "stderr",
     "output_type": "stream",
     "text": [
      "[*********************100%%**********************]  1 of 1 completed\n",
      "\n",
      "1 Failed download:\n",
      "['G4962C120']: Exception('%ticker%: No timezone found, symbol may be delisted')\n"
     ]
    },
    {
     "name": "stdout",
     "output_type": "stream",
     "text": [
      "Empty DataFrame\n",
      "Columns: [Open, High, Low, Close, Adj Close, Volume]\n",
      "Index: []\n"
     ]
    },
    {
     "name": "stderr",
     "output_type": "stream",
     "text": [
      "[*********************100%%**********************]  1 of 1 completed\n",
      "\n",
      "1 Failed download:\n",
      "['538126202']: Exception('%ticker%: No timezone found, symbol may be delisted')\n"
     ]
    },
    {
     "name": "stdout",
     "output_type": "stream",
     "text": [
      "Empty DataFrame\n",
      "Columns: [Open, High, Low, Close, Adj Close, Volume]\n",
      "Index: []\n"
     ]
    },
    {
     "name": "stderr",
     "output_type": "stream",
     "text": [
      "[*********************100%%**********************]  1 of 1 completed\n",
      "\n",
      "1 Failed download:\n",
      "['60501L200']: Exception('%ticker%: No timezone found, symbol may be delisted')\n"
     ]
    },
    {
     "name": "stdout",
     "output_type": "stream",
     "text": [
      "Empty DataFrame\n",
      "Columns: [Open, High, Low, Close, Adj Close, Volume]\n",
      "Index: []\n"
     ]
    },
    {
     "name": "stderr",
     "output_type": "stream",
     "text": [
      "[*********************100%%**********************]  1 of 1 completed\n",
      "\n",
      "1 Failed download:\n",
      "['04282M201']: Exception('%ticker%: No timezone found, symbol may be delisted')\n"
     ]
    },
    {
     "name": "stdout",
     "output_type": "stream",
     "text": [
      "Empty DataFrame\n",
      "Columns: [Open, High, Low, Close, Adj Close, Volume]\n",
      "Index: []\n"
     ]
    },
    {
     "name": "stderr",
     "output_type": "stream",
     "text": [
      "[*********************100%%**********************]  1 of 1 completed\n",
      "\n",
      "1 Failed download:\n",
      "['G3970D112']: Exception('%ticker%: No timezone found, symbol may be delisted')\n"
     ]
    },
    {
     "name": "stdout",
     "output_type": "stream",
     "text": [
      "Empty DataFrame\n",
      "Columns: [Open, High, Low, Close, Adj Close, Volume]\n",
      "Index: []\n"
     ]
    },
    {
     "name": "stderr",
     "output_type": "stream",
     "text": [
      "[*********************100%%**********************]  1 of 1 completed\n",
      "\n",
      "1 Failed download:\n",
      "['66575B200']: Exception('%ticker%: No timezone found, symbol may be delisted')\n"
     ]
    },
    {
     "name": "stdout",
     "output_type": "stream",
     "text": [
      "Empty DataFrame\n",
      "Columns: [Open, High, Low, Close, Adj Close, Volume]\n",
      "Index: []\n"
     ]
    },
    {
     "name": "stderr",
     "output_type": "stream",
     "text": [
      "[*********************100%%**********************]  1 of 1 completed\n",
      "\n",
      "1 Failed download:\n",
      "['66574L209']: Exception('%ticker%: No timezone found, symbol may be delisted')\n"
     ]
    },
    {
     "name": "stdout",
     "output_type": "stream",
     "text": [
      "Empty DataFrame\n",
      "Columns: [Open, High, Low, Close, Adj Close, Volume]\n",
      "Index: []\n"
     ]
    },
    {
     "name": "stderr",
     "output_type": "stream",
     "text": [
      "[*********************100%%**********************]  1 of 1 completed\n",
      "\n",
      "1 Failed download:\n",
      "['87301L205']: Exception('%ticker%: No timezone found, symbol may be delisted')\n"
     ]
    },
    {
     "name": "stdout",
     "output_type": "stream",
     "text": [
      "Empty DataFrame\n",
      "Columns: [Open, High, Low, Close, Adj Close, Volume]\n",
      "Index: []\n"
     ]
    },
    {
     "name": "stderr",
     "output_type": "stream",
     "text": [
      "[*********************100%%**********************]  1 of 1 completed\n",
      "\n",
      "1 Failed download:\n",
      "['00777J208']: Exception('%ticker%: No timezone found, symbol may be delisted')\n"
     ]
    },
    {
     "name": "stdout",
     "output_type": "stream",
     "text": [
      "Empty DataFrame\n",
      "Columns: [Open, High, Low, Close, Adj Close, Volume]\n",
      "Index: []\n"
     ]
    },
    {
     "name": "stderr",
     "output_type": "stream",
     "text": [
      "[*********************100%%**********************]  1 of 1 completed\n",
      "\n",
      "1 Failed download:\n",
      "['03737A200']: Exception('%ticker%: No timezone found, symbol may be delisted')\n"
     ]
    },
    {
     "name": "stdout",
     "output_type": "stream",
     "text": [
      "Empty DataFrame\n",
      "Columns: [Open, High, Low, Close, Adj Close, Volume]\n",
      "Index: []\n"
     ]
    },
    {
     "name": "stderr",
     "output_type": "stream",
     "text": [
      "[*********************100%%**********************]  1 of 1 completed\n",
      "\n",
      "1 Failed download:\n",
      "['G8T86C113']: Exception('%ticker%: No timezone found, symbol may be delisted')\n"
     ]
    },
    {
     "name": "stdout",
     "output_type": "stream",
     "text": [
      "Empty DataFrame\n",
      "Columns: [Open, High, Low, Close, Adj Close, Volume]\n",
      "Index: []\n"
     ]
    },
    {
     "name": "stderr",
     "output_type": "stream",
     "text": [
      "[*********************100%%**********************]  1 of 1 completed\n",
      "\n",
      "1 Failed download:\n",
      "['65413D204']: Exception('%ticker%: No timezone found, symbol may be delisted')\n"
     ]
    },
    {
     "name": "stdout",
     "output_type": "stream",
     "text": [
      "Empty DataFrame\n",
      "Columns: [Open, High, Low, Close, Adj Close, Volume]\n",
      "Index: []\n"
     ]
    },
    {
     "name": "stderr",
     "output_type": "stream",
     "text": [
      "[*********************100%%**********************]  1 of 1 completed\n",
      "\n",
      "1 Failed download:\n",
      "['G3R19A112']: Exception('%ticker%: No timezone found, symbol may be delisted')\n"
     ]
    },
    {
     "name": "stdout",
     "output_type": "stream",
     "text": [
      "Empty DataFrame\n",
      "Columns: [Open, High, Low, Close, Adj Close, Volume]\n",
      "Index: []\n"
     ]
    },
    {
     "name": "stderr",
     "output_type": "stream",
     "text": [
      "[*********************100%%**********************]  1 of 1 completed\n",
      "\n",
      "1 Failed download:\n",
      "['42087R207']: Exception('%ticker%: No timezone found, symbol may be delisted')\n"
     ]
    },
    {
     "name": "stdout",
     "output_type": "stream",
     "text": [
      "Empty DataFrame\n",
      "Columns: [Open, High, Low, Close, Adj Close, Volume]\n",
      "Index: []\n"
     ]
    },
    {
     "name": "stderr",
     "output_type": "stream",
     "text": [
      "[*********************100%%**********************]  1 of 1 completed\n",
      "\n",
      "1 Failed download:\n",
      "['23291W208']: Exception('%ticker%: No timezone found, symbol may be delisted')\n"
     ]
    },
    {
     "name": "stdout",
     "output_type": "stream",
     "text": [
      "Empty DataFrame\n",
      "Columns: [Open, High, Low, Close, Adj Close, Volume]\n",
      "Index: []\n"
     ]
    },
    {
     "name": "stderr",
     "output_type": "stream",
     "text": [
      "[*********************100%%**********************]  1 of 1 completed\n",
      "\n",
      "1 Failed download:\n",
      "['68626A207']: Exception('%ticker%: No timezone found, symbol may be delisted')\n"
     ]
    },
    {
     "name": "stdout",
     "output_type": "stream",
     "text": [
      "Empty DataFrame\n",
      "Columns: [Open, High, Low, Close, Adj Close, Volume]\n",
      "Index: []\n"
     ]
    },
    {
     "name": "stderr",
     "output_type": "stream",
     "text": [
      "Failed to get ticker 'G2758T125' reason: (\"Connection broken: InvalidChunkLength(got length b'', 0 bytes read)\", InvalidChunkLength(got length b'', 0 bytes read))\n",
      "[*********************100%%**********************]  1 of 1 completed\n",
      "\n",
      "1 Failed download:\n",
      "['G2758T125']: Exception('%ticker%: No timezone found, symbol may be delisted')\n"
     ]
    },
    {
     "name": "stdout",
     "output_type": "stream",
     "text": [
      "Empty DataFrame\n",
      "Columns: [Open, High, Low, Close, Adj Close, Volume]\n",
      "Index: []\n"
     ]
    },
    {
     "name": "stderr",
     "output_type": "stream",
     "text": [
      "[*********************100%%**********************]  1 of 1 completed\n",
      "\n",
      "1 Failed download:\n",
      "['G5463T116']: Exception('%ticker%: No timezone found, symbol may be delisted')\n"
     ]
    },
    {
     "name": "stdout",
     "output_type": "stream",
     "text": [
      "Empty DataFrame\n",
      "Columns: [Open, High, Low, Close, Adj Close, Volume]\n",
      "Index: []\n"
     ]
    },
    {
     "name": "stderr",
     "output_type": "stream",
     "text": [
      "[*********************100%%**********************]  1 of 1 completed\n",
      "\n",
      "1 Failed download:\n",
      "['G46843127']: Exception('%ticker%: No timezone found, symbol may be delisted')\n"
     ]
    },
    {
     "name": "stdout",
     "output_type": "stream",
     "text": [
      "Empty DataFrame\n",
      "Columns: [Open, High, Low, Close, Adj Close, Volume]\n",
      "Index: []\n"
     ]
    },
    {
     "name": "stderr",
     "output_type": "stream",
     "text": [
      "[*********************100%%**********************]  1 of 1 completed\n",
      "\n",
      "1 Failed download:\n",
      "['G0112R116']: Exception('%ticker%: No timezone found, symbol may be delisted')\n"
     ]
    },
    {
     "name": "stdout",
     "output_type": "stream",
     "text": [
      "Empty DataFrame\n",
      "Columns: [Open, High, Low, Close, Adj Close, Volume]\n",
      "Index: []\n"
     ]
    },
    {
     "name": "stderr",
     "output_type": "stream",
     "text": [
      "[*********************100%%**********************]  1 of 1 completed\n",
      "\n",
      "1 Failed download:\n",
      "['49006L203']: Exception('%ticker%: No timezone found, symbol may be delisted')\n"
     ]
    },
    {
     "name": "stdout",
     "output_type": "stream",
     "text": [
      "Empty DataFrame\n",
      "Columns: [Open, High, Low, Close, Adj Close, Volume]\n",
      "Index: []\n"
     ]
    },
    {
     "name": "stderr",
     "output_type": "stream",
     "text": [
      "[*********************100%%**********************]  1 of 1 completed\n",
      "\n",
      "1 Failed download:\n",
      "['36118N201']: Exception('%ticker%: No timezone found, symbol may be delisted')\n"
     ]
    },
    {
     "name": "stdout",
     "output_type": "stream",
     "text": [
      "Empty DataFrame\n",
      "Columns: [Open, High, Low, Close, Adj Close, Volume]\n",
      "Index: []\n"
     ]
    },
    {
     "name": "stderr",
     "output_type": "stream",
     "text": [
      "[*********************100%%**********************]  1 of 1 completed\n",
      "\n",
      "1 Failed download:\n",
      "['55282T208']: Exception('%ticker%: No timezone found, symbol may be delisted')\n"
     ]
    },
    {
     "name": "stdout",
     "output_type": "stream",
     "text": [
      "Empty DataFrame\n",
      "Columns: [Open, High, Low, Close, Adj Close, Volume]\n",
      "Index: []\n"
     ]
    },
    {
     "name": "stderr",
     "output_type": "stream",
     "text": [
      "[*********************100%%**********************]  1 of 1 completed\n",
      "\n",
      "1 Failed download:\n",
      "['90118T205']: Exception('%ticker%: No timezone found, symbol may be delisted')\n"
     ]
    },
    {
     "name": "stdout",
     "output_type": "stream",
     "text": [
      "Empty DataFrame\n",
      "Columns: [Open, High, Low, Close, Adj Close, Volume]\n",
      "Index: []\n"
     ]
    },
    {
     "name": "stderr",
     "output_type": "stream",
     "text": [
      "[*********************100%%**********************]  1 of 1 completed\n",
      "\n",
      "1 Failed download:\n",
      "['82836L200']: Exception('%ticker%: No timezone found, symbol may be delisted')\n"
     ]
    },
    {
     "name": "stdout",
     "output_type": "stream",
     "text": [
      "Empty DataFrame\n",
      "Columns: [Open, High, Low, Close, Adj Close, Volume]\n",
      "Index: []\n"
     ]
    },
    {
     "name": "stderr",
     "output_type": "stream",
     "text": [
      "[*********************100%%**********************]  1 of 1 completed\n",
      "\n",
      "1 Failed download:\n",
      "['936273200']: Exception('%ticker%: No timezone found, symbol may be delisted')\n",
      "c:\\Users\\ziggy\\anaconda3\\Lib\\site-packages\\yfinance\\utils.py:775: FutureWarning: The 'unit' keyword in TimedeltaIndex construction is deprecated and will be removed in a future version. Use pd.to_timedelta instead.\n",
      "  df.index += _pd.TimedeltaIndex(dst_error_hours, 'h')\n",
      "[*********************100%%**********************]  1 of 1 completed\n"
     ]
    },
    {
     "name": "stdout",
     "output_type": "stream",
     "text": [
      "Empty DataFrame\n",
      "Columns: [Open, High, Low, Close, Adj Close, Volume]\n",
      "Index: []\n",
      "             Open   High    Low  Close  Adj Close  Volume\n",
      "Date                                                     \n",
      "2021-02-25  13.97  14.04  13.77  13.88  13.312330   74400\n",
      "2021-02-26  13.92  13.92  13.82  13.92  13.350695   54600\n",
      "2021-03-01  13.97  14.17  13.95  14.05  13.475378   67800\n",
      "2021-03-02  14.08  14.09  14.00  14.00  13.427423  229300\n",
      "2021-03-03  14.08  14.10  13.90  13.93  13.360287  177300\n",
      "...           ...    ...    ...    ...        ...     ...\n",
      "2022-02-17  13.04  13.17  13.04  13.12  13.120000   68100\n",
      "2022-02-18  13.08  13.22  13.08  13.19  13.190000   46500\n",
      "2022-02-22  13.19  13.21  13.10  13.12  13.120000   74300\n",
      "2022-02-23  13.13  13.24  13.02  13.04  13.040000   74300\n",
      "2022-02-24  13.07  13.18  12.94  13.00  13.000000   67500\n",
      "\n",
      "[253 rows x 6 columns]\n"
     ]
    },
    {
     "name": "stderr",
     "output_type": "stream",
     "text": [
      "[*********************100%%**********************]  1 of 1 completed\n",
      "\n",
      "1 Failed download:\n",
      "['G3663X102']: Exception('%ticker%: No timezone found, symbol may be delisted')\n"
     ]
    },
    {
     "name": "stdout",
     "output_type": "stream",
     "text": [
      "Empty DataFrame\n",
      "Columns: [Open, High, Low, Close, Adj Close, Volume]\n",
      "Index: []\n"
     ]
    },
    {
     "name": "stderr",
     "output_type": "stream",
     "text": [
      "[*********************100%%**********************]  1 of 1 completed\n",
      "\n",
      "1 Failed download:\n",
      "['G0633U119']: Exception('%ticker%: No timezone found, symbol may be delisted')\n"
     ]
    },
    {
     "name": "stdout",
     "output_type": "stream",
     "text": [
      "Empty DataFrame\n",
      "Columns: [Open, High, Low, Close, Adj Close, Volume]\n",
      "Index: []\n"
     ]
    },
    {
     "name": "stderr",
     "output_type": "stream",
     "text": [
      "[*********************100%%**********************]  1 of 1 completed\n",
      "\n",
      "1 Failed download:\n",
      "['G0633D117']: Exception('%ticker%: No timezone found, symbol may be delisted')\n"
     ]
    },
    {
     "name": "stdout",
     "output_type": "stream",
     "text": [
      "Empty DataFrame\n",
      "Columns: [Open, High, Low, Close, Adj Close, Volume]\n",
      "Index: []\n"
     ]
    },
    {
     "name": "stderr",
     "output_type": "stream",
     "text": [
      "[*********************100%%**********************]  1 of 1 completed\n",
      "\n",
      "1 Failed download:\n",
      "['46468P201']: Exception('%ticker%: No timezone found, symbol may be delisted')\n"
     ]
    },
    {
     "name": "stdout",
     "output_type": "stream",
     "text": [
      "Empty DataFrame\n",
      "Columns: [Open, High, Low, Close, Adj Close, Volume]\n",
      "Index: []\n"
     ]
    },
    {
     "name": "stderr",
     "output_type": "stream",
     "text": [
      "[*********************100%%**********************]  1 of 1 completed\n",
      "\n",
      "1 Failed download:\n",
      "['382863207']: Exception('%ticker%: No timezone found, symbol may be delisted')\n"
     ]
    },
    {
     "name": "stdout",
     "output_type": "stream",
     "text": [
      "Empty DataFrame\n",
      "Columns: [Open, High, Low, Close, Adj Close, Volume]\n",
      "Index: []\n"
     ]
    },
    {
     "name": "stderr",
     "output_type": "stream",
     "text": [
      "[*********************100%%**********************]  1 of 1 completed\n",
      "\n",
      "1 Failed download:\n",
      "['44376L206']: Exception('%ticker%: No timezone found, symbol may be delisted')\n"
     ]
    },
    {
     "name": "stdout",
     "output_type": "stream",
     "text": [
      "Empty DataFrame\n",
      "Columns: [Open, High, Low, Close, Adj Close, Volume]\n",
      "Index: []\n"
     ]
    },
    {
     "name": "stderr",
     "output_type": "stream",
     "text": [
      "[*********************100%%**********************]  1 of 1 completed\n",
      "\n",
      "1 Failed download:\n",
      "['33850F207']: Exception('%ticker%: No timezone found, symbol may be delisted')\n"
     ]
    },
    {
     "name": "stdout",
     "output_type": "stream",
     "text": [
      "Empty DataFrame\n",
      "Columns: [Open, High, Low, Close, Adj Close, Volume]\n",
      "Index: []\n"
     ]
    },
    {
     "name": "stderr",
     "output_type": "stream",
     "text": [
      "[*********************100%%**********************]  1 of 1 completed\n",
      "\n",
      "1 Failed download:\n",
      "['91748P209']: Exception('%ticker%: No timezone found, symbol may be delisted')\n"
     ]
    },
    {
     "name": "stdout",
     "output_type": "stream",
     "text": [
      "Empty DataFrame\n",
      "Columns: [Open, High, Low, Close, Adj Close, Volume]\n",
      "Index: []\n"
     ]
    },
    {
     "name": "stderr",
     "output_type": "stream",
     "text": [
      "[*********************100%%**********************]  1 of 1 completed\n",
      "\n",
      "1 Failed download:\n",
      "['G2955B117']: Exception('%ticker%: No timezone found, symbol may be delisted')\n"
     ]
    },
    {
     "name": "stdout",
     "output_type": "stream",
     "text": [
      "Empty DataFrame\n",
      "Columns: [Open, High, Low, Close, Adj Close, Volume]\n",
      "Index: []\n"
     ]
    },
    {
     "name": "stderr",
     "output_type": "stream",
     "text": [
      "[*********************100%%**********************]  1 of 1 completed\n",
      "\n",
      "1 Failed download:\n",
      "['G8354H100']: Exception('%ticker%: No timezone found, symbol may be delisted')\n"
     ]
    },
    {
     "name": "stdout",
     "output_type": "stream",
     "text": [
      "Empty DataFrame\n",
      "Columns: [Open, High, Low, Close, Adj Close, Volume]\n",
      "Index: []\n"
     ]
    },
    {
     "name": "stderr",
     "output_type": "stream",
     "text": [
      "[*********************100%%**********************]  1 of 1 completed\n",
      "\n",
      "1 Failed download:\n",
      "['38286T200']: Exception('%ticker%: No timezone found, symbol may be delisted')\n"
     ]
    },
    {
     "name": "stdout",
     "output_type": "stream",
     "text": [
      "Empty DataFrame\n",
      "Columns: [Open, High, Low, Close, Adj Close, Volume]\n",
      "Index: []\n"
     ]
    },
    {
     "name": "stderr",
     "output_type": "stream",
     "text": [
      "[*********************100%%**********************]  1 of 1 completed\n",
      "\n",
      "1 Failed download:\n",
      "['05601A208']: Exception('%ticker%: No timezone found, symbol may be delisted')\n"
     ]
    },
    {
     "name": "stdout",
     "output_type": "stream",
     "text": [
      "Empty DataFrame\n",
      "Columns: [Open, High, Low, Close, Adj Close, Volume]\n",
      "Index: []\n"
     ]
    },
    {
     "name": "stderr",
     "output_type": "stream",
     "text": [
      "[*********************100%%**********************]  1 of 1 completed\n",
      "\n",
      "1 Failed download:\n",
      "['194170205']: Exception('%ticker%: No timezone found, symbol may be delisted')\n"
     ]
    },
    {
     "name": "stdout",
     "output_type": "stream",
     "text": [
      "Empty DataFrame\n",
      "Columns: [Open, High, Low, Close, Adj Close, Volume]\n",
      "Index: []\n"
     ]
    },
    {
     "name": "stderr",
     "output_type": "stream",
     "text": [
      "[*********************100%%**********************]  1 of 1 completed\n",
      "\n",
      "1 Failed download:\n",
      "['G19276123']: Exception('%ticker%: No timezone found, symbol may be delisted')\n"
     ]
    },
    {
     "name": "stdout",
     "output_type": "stream",
     "text": [
      "Empty DataFrame\n",
      "Columns: [Open, High, Low, Close, Adj Close, Volume]\n",
      "Index: []\n"
     ]
    },
    {
     "name": "stderr",
     "output_type": "stream",
     "text": [
      "[*********************100%%**********************]  1 of 1 completed\n",
      "\n",
      "1 Failed download:\n",
      "['G37283127']: Exception('%ticker%: No timezone found, symbol may be delisted')\n"
     ]
    },
    {
     "name": "stdout",
     "output_type": "stream",
     "text": [
      "Empty DataFrame\n",
      "Columns: [Open, High, Low, Close, Adj Close, Volume]\n",
      "Index: []\n"
     ]
    },
    {
     "name": "stderr",
     "output_type": "stream",
     "text": [
      "[*********************100%%**********************]  1 of 1 completed\n",
      "\n",
      "1 Failed download:\n",
      "['125842203']: Exception('%ticker%: No timezone found, symbol may be delisted')\n"
     ]
    },
    {
     "name": "stdout",
     "output_type": "stream",
     "text": [
      "Empty DataFrame\n",
      "Columns: [Open, High, Low, Close, Adj Close, Volume]\n",
      "Index: []\n"
     ]
    },
    {
     "name": "stderr",
     "output_type": "stream",
     "text": [
      "[*********************100%%**********************]  1 of 1 completed\n",
      "\n",
      "1 Failed download:\n",
      "['G8210L113']: Exception('%ticker%: No timezone found, symbol may be delisted')\n"
     ]
    },
    {
     "name": "stdout",
     "output_type": "stream",
     "text": [
      "Empty DataFrame\n",
      "Columns: [Open, High, Low, Close, Adj Close, Volume]\n",
      "Index: []\n"
     ]
    },
    {
     "name": "stderr",
     "output_type": "stream",
     "text": [
      "[*********************100%%**********************]  1 of 1 completed\n",
      "\n",
      "1 Failed download:\n",
      "['92259E203']: Exception('%ticker%: No timezone found, symbol may be delisted')\n"
     ]
    },
    {
     "name": "stdout",
     "output_type": "stream",
     "text": [
      "Empty DataFrame\n",
      "Columns: [Open, High, Low, Close, Adj Close, Volume]\n",
      "Index: []\n"
     ]
    },
    {
     "name": "stderr",
     "output_type": "stream",
     "text": [
      "[*********************100%%**********************]  1 of 1 completed\n",
      "\n",
      "1 Failed download:\n",
      "['G0477L118']: Exception('%ticker%: No timezone found, symbol may be delisted')\n"
     ]
    },
    {
     "name": "stdout",
     "output_type": "stream",
     "text": [
      "Empty DataFrame\n",
      "Columns: [Open, High, Low, Close, Adj Close, Volume]\n",
      "Index: []\n"
     ]
    },
    {
     "name": "stderr",
     "output_type": "stream",
     "text": [
      "[*********************100%%**********************]  1 of 1 completed\n",
      "\n",
      "1 Failed download:\n",
      "['05601V202']: Exception('%ticker%: No timezone found, symbol may be delisted')\n"
     ]
    },
    {
     "name": "stdout",
     "output_type": "stream",
     "text": [
      "Empty DataFrame\n",
      "Columns: [Open, High, Low, Close, Adj Close, Volume]\n",
      "Index: []\n"
     ]
    },
    {
     "name": "stderr",
     "output_type": "stream",
     "text": [
      "[*********************100%%**********************]  1 of 1 completed\n",
      "\n",
      "1 Failed download:\n",
      "['12521J202']: Exception('%ticker%: No timezone found, symbol may be delisted')\n"
     ]
    },
    {
     "name": "stdout",
     "output_type": "stream",
     "text": [
      "Empty DataFrame\n",
      "Columns: [Open, High, Low, Close, Adj Close, Volume]\n",
      "Index: []\n"
     ]
    },
    {
     "name": "stderr",
     "output_type": "stream",
     "text": [
      "[*********************100%%**********************]  1 of 1 completed\n",
      "\n",
      "1 Failed download:\n",
      "['G0316P114']: Exception('%ticker%: No timezone found, symbol may be delisted')\n"
     ]
    },
    {
     "name": "stdout",
     "output_type": "stream",
     "text": [
      "Empty DataFrame\n",
      "Columns: [Open, High, Low, Close, Adj Close, Volume]\n",
      "Index: []\n"
     ]
    },
    {
     "name": "stderr",
     "output_type": "stream",
     "text": [
      "[*********************100%%**********************]  1 of 1 completed\n",
      "\n",
      "1 Failed download:\n",
      "['G8662F127']: Exception('%ticker%: No timezone found, symbol may be delisted')\n"
     ]
    },
    {
     "name": "stdout",
     "output_type": "stream",
     "text": [
      "Empty DataFrame\n",
      "Columns: [Open, High, Low, Close, Adj Close, Volume]\n",
      "Index: []\n"
     ]
    },
    {
     "name": "stderr",
     "output_type": "stream",
     "text": [
      "[*********************100%%**********************]  1 of 1 completed\n",
      "\n",
      "1 Failed download:\n",
      "['82880R202']: Exception('%ticker%: No timezone found, symbol may be delisted')\n"
     ]
    },
    {
     "name": "stdout",
     "output_type": "stream",
     "text": [
      "Empty DataFrame\n",
      "Columns: [Open, High, Low, Close, Adj Close, Volume]\n",
      "Index: []\n"
     ]
    },
    {
     "name": "stderr",
     "output_type": "stream",
     "text": [
      "[*********************100%%**********************]  1 of 1 completed\n",
      "\n",
      "1 Failed download:\n",
      "['302438205']: Exception('%ticker%: No timezone found, symbol may be delisted')\n"
     ]
    },
    {
     "name": "stdout",
     "output_type": "stream",
     "text": [
      "Empty DataFrame\n",
      "Columns: [Open, High, Low, Close, Adj Close, Volume]\n",
      "Index: []\n"
     ]
    },
    {
     "name": "stderr",
     "output_type": "stream",
     "text": [
      "[*********************100%%**********************]  1 of 1 completed\n",
      "\n",
      "1 Failed download:\n",
      "['G5276C128']: Exception('%ticker%: No timezone found, symbol may be delisted')\n"
     ]
    },
    {
     "name": "stdout",
     "output_type": "stream",
     "text": [
      "Empty DataFrame\n",
      "Columns: [Open, High, Low, Close, Adj Close, Volume]\n",
      "Index: []\n"
     ]
    },
    {
     "name": "stderr",
     "output_type": "stream",
     "text": [
      "[*********************100%%**********************]  1 of 1 completed\n",
      "\n",
      "1 Failed download:\n",
      "['G52807123']: Exception('%ticker%: No timezone found, symbol may be delisted')\n"
     ]
    },
    {
     "name": "stdout",
     "output_type": "stream",
     "text": [
      "Empty DataFrame\n",
      "Columns: [Open, High, Low, Close, Adj Close, Volume]\n",
      "Index: []\n"
     ]
    },
    {
     "name": "stderr",
     "output_type": "stream",
     "text": [
      "[*********************100%%**********************]  1 of 1 completed\n",
      "\n",
      "1 Failed download:\n",
      "['849196209']: Exception('%ticker%: No timezone found, symbol may be delisted')\n"
     ]
    },
    {
     "name": "stdout",
     "output_type": "stream",
     "text": [
      "Empty DataFrame\n",
      "Columns: [Open, High, Low, Close, Adj Close, Volume]\n",
      "Index: []\n"
     ]
    },
    {
     "name": "stderr",
     "output_type": "stream",
     "text": [
      "[*********************100%%**********************]  1 of 1 completed\n",
      "\n",
      "1 Failed download:\n",
      "['31809Y202']: Exception('%ticker%: No timezone found, symbol may be delisted')\n"
     ]
    },
    {
     "name": "stdout",
     "output_type": "stream",
     "text": [
      "Empty DataFrame\n",
      "Columns: [Open, High, Low, Close, Adj Close, Volume]\n",
      "Index: []\n"
     ]
    },
    {
     "name": "stderr",
     "output_type": "stream",
     "text": [
      "[*********************100%%**********************]  1 of 1 completed\n",
      "\n",
      "1 Failed download:\n",
      "['G5960S116']: Exception('%ticker%: No timezone found, symbol may be delisted')\n",
      "c:\\Users\\ziggy\\anaconda3\\Lib\\site-packages\\yfinance\\utils.py:775: FutureWarning: The 'unit' keyword in TimedeltaIndex construction is deprecated and will be removed in a future version. Use pd.to_timedelta instead.\n",
      "  df.index += _pd.TimedeltaIndex(dst_error_hours, 'h')\n",
      "[*********************100%%**********************]  1 of 1 completed\n"
     ]
    },
    {
     "name": "stdout",
     "output_type": "stream",
     "text": [
      "Empty DataFrame\n",
      "Columns: [Open, High, Low, Close, Adj Close, Volume]\n",
      "Index: []\n",
      "             Open   High    Low  Close  Adj Close  Volume\n",
      "Date                                                     \n",
      "2021-02-16  14.40  14.45  14.24  14.28  13.695971   43800\n",
      "2021-02-17  14.33  14.33  14.22  14.23  13.648017   38100\n",
      "2021-02-18  14.26  14.26  14.13  14.13  13.552108   38800\n",
      "2021-02-19  14.16  14.16  14.03  14.06  13.484970   29100\n",
      "2021-02-22  14.10  14.10  13.97  14.08  13.504151   71600\n",
      "...           ...    ...    ...    ...        ...     ...\n",
      "2022-02-09  13.35  13.37  13.30  13.33  13.280762   54100\n",
      "2022-02-10  13.32  13.35  13.24  13.25  13.201056   44800\n",
      "2022-02-11  13.24  13.24  13.06  13.13  13.081500   74200\n",
      "2022-02-14  13.06  13.10  13.00  13.04  13.040000   86500\n",
      "2022-02-15  13.11  13.11  12.98  13.04  13.040000   54300\n",
      "\n",
      "[254 rows x 6 columns]\n"
     ]
    },
    {
     "name": "stderr",
     "output_type": "stream",
     "text": [
      "[*********************100%%**********************]  1 of 1 completed\n",
      "\n",
      "1 Failed download:\n",
      "['G04119114']: Exception('%ticker%: No timezone found, symbol may be delisted')\n"
     ]
    },
    {
     "name": "stdout",
     "output_type": "stream",
     "text": [
      "Empty DataFrame\n",
      "Columns: [Open, High, Low, Close, Adj Close, Volume]\n",
      "Index: []\n"
     ]
    },
    {
     "name": "stderr",
     "output_type": "stream",
     "text": [
      "[*********************100%%**********************]  1 of 1 completed\n",
      "\n",
      "1 Failed download:\n",
      "['G6S23K116']: Exception('%ticker%: No timezone found, symbol may be delisted')\n"
     ]
    },
    {
     "name": "stdout",
     "output_type": "stream",
     "text": [
      "Empty DataFrame\n",
      "Columns: [Open, High, Low, Close, Adj Close, Volume]\n",
      "Index: []\n"
     ]
    },
    {
     "name": "stderr",
     "output_type": "stream",
     "text": [
      "[*********************100%%**********************]  1 of 1 completed\n",
      "\n",
      "1 Failed download:\n",
      "['G6529L113']: Exception('%ticker%: No timezone found, symbol may be delisted')\n",
      "c:\\Users\\ziggy\\anaconda3\\Lib\\site-packages\\yfinance\\utils.py:775: FutureWarning: The 'unit' keyword in TimedeltaIndex construction is deprecated and will be removed in a future version. Use pd.to_timedelta instead.\n",
      "  df.index += _pd.TimedeltaIndex(dst_error_hours, 'h')\n",
      "[*********************100%%**********************]  1 of 1 completed\n"
     ]
    },
    {
     "name": "stdout",
     "output_type": "stream",
     "text": [
      "Empty DataFrame\n",
      "Columns: [Open, High, Low, Close, Adj Close, Volume]\n",
      "Index: []\n",
      "             Open   High    Low  Close  Adj Close  Volume\n",
      "Date                                                     \n",
      "2021-02-16  14.40  14.45  14.24  14.28  13.695971   43800\n",
      "2021-02-17  14.33  14.33  14.22  14.23  13.648017   38100\n",
      "2021-02-18  14.26  14.26  14.13  14.13  13.552108   38800\n",
      "2021-02-19  14.16  14.16  14.03  14.06  13.484970   29100\n",
      "2021-02-22  14.10  14.10  13.97  14.08  13.504151   71600\n",
      "...           ...    ...    ...    ...        ...     ...\n",
      "2022-02-09  13.35  13.37  13.30  13.33  13.280762   54100\n",
      "2022-02-10  13.32  13.35  13.24  13.25  13.201056   44800\n",
      "2022-02-11  13.24  13.24  13.06  13.13  13.081500   74200\n",
      "2022-02-14  13.06  13.10  13.00  13.04  13.040000   86500\n",
      "2022-02-15  13.11  13.11  12.98  13.04  13.040000   54300\n",
      "\n",
      "[254 rows x 6 columns]\n"
     ]
    },
    {
     "name": "stderr",
     "output_type": "stream",
     "text": [
      "[*********************100%%**********************]  1 of 1 completed\n",
      "\n",
      "1 Failed download:\n",
      "['17144M201']: Exception('%ticker%: No timezone found, symbol may be delisted')\n"
     ]
    },
    {
     "name": "stdout",
     "output_type": "stream",
     "text": [
      "Empty DataFrame\n",
      "Columns: [Open, High, Low, Close, Adj Close, Volume]\n",
      "Index: []\n"
     ]
    },
    {
     "name": "stderr",
     "output_type": "stream",
     "text": [
      "[*********************100%%**********************]  1 of 1 completed\n",
      "\n",
      "1 Failed download:\n",
      "['17143W200']: Exception('%ticker%: No timezone found, symbol may be delisted')\n"
     ]
    },
    {
     "name": "stdout",
     "output_type": "stream",
     "text": [
      "Empty DataFrame\n",
      "Columns: [Open, High, Low, Close, Adj Close, Volume]\n",
      "Index: []\n"
     ]
    },
    {
     "name": "stderr",
     "output_type": "stream",
     "text": [
      "[*********************100%%**********************]  1 of 1 completed\n",
      "\n",
      "1 Failed download:\n",
      "['88825H209']: Exception('%ticker%: No timezone found, symbol may be delisted')\n"
     ]
    },
    {
     "name": "stdout",
     "output_type": "stream",
     "text": [
      "Empty DataFrame\n",
      "Columns: [Open, High, Low, Close, Adj Close, Volume]\n",
      "Index: []\n"
     ]
    },
    {
     "name": "stderr",
     "output_type": "stream",
     "text": [
      "[*********************100%%**********************]  1 of 1 completed\n",
      "\n",
      "1 Failed download:\n",
      "['09175K204']: Exception('%ticker%: No timezone found, symbol may be delisted')\n"
     ]
    },
    {
     "name": "stdout",
     "output_type": "stream",
     "text": [
      "Empty DataFrame\n",
      "Columns: [Open, High, Low, Close, Adj Close, Volume]\n",
      "Index: []\n"
     ]
    },
    {
     "name": "stderr",
     "output_type": "stream",
     "text": [
      "[*********************100%%**********************]  1 of 1 completed\n",
      "\n",
      "1 Failed download:\n",
      "['83363K201']: Exception('%ticker%: No timezone found, symbol may be delisted')\n"
     ]
    },
    {
     "name": "stdout",
     "output_type": "stream",
     "text": [
      "Empty DataFrame\n",
      "Columns: [Open, High, Low, Close, Adj Close, Volume]\n",
      "Index: []\n"
     ]
    },
    {
     "name": "stderr",
     "output_type": "stream",
     "text": [
      "[*********************100%%**********************]  1 of 1 completed\n",
      "\n",
      "1 Failed download:\n",
      "['G1962Y128']: Exception('%ticker%: No timezone found, symbol may be delisted')\n"
     ]
    },
    {
     "name": "stdout",
     "output_type": "stream",
     "text": [
      "Empty DataFrame\n",
      "Columns: [Open, High, Low, Close, Adj Close, Volume]\n",
      "Index: []\n"
     ]
    },
    {
     "name": "stderr",
     "output_type": "stream",
     "text": [
      "[*********************100%%**********************]  1 of 1 completed\n",
      "\n",
      "1 Failed download:\n",
      "['11134Y200']: Exception('%ticker%: No timezone found, symbol may be delisted')\n"
     ]
    },
    {
     "name": "stdout",
     "output_type": "stream",
     "text": [
      "Empty DataFrame\n",
      "Columns: [Open, High, Low, Close, Adj Close, Volume]\n",
      "Index: []\n"
     ]
    },
    {
     "name": "stderr",
     "output_type": "stream",
     "text": [
      "[*********************100%%**********************]  1 of 1 completed\n",
      "\n",
      "1 Failed download:\n",
      "['G9118J127']: Exception('%ticker%: No timezone found, symbol may be delisted')\n"
     ]
    },
    {
     "name": "stdout",
     "output_type": "stream",
     "text": [
      "Empty DataFrame\n",
      "Columns: [Open, High, Low, Close, Adj Close, Volume]\n",
      "Index: []\n"
     ]
    },
    {
     "name": "stderr",
     "output_type": "stream",
     "text": [
      "[*********************100%%**********************]  1 of 1 completed\n",
      "\n",
      "1 Failed download:\n",
      "['77732R202']: Exception('%ticker%: No timezone found, symbol may be delisted')\n"
     ]
    },
    {
     "name": "stdout",
     "output_type": "stream",
     "text": [
      "Empty DataFrame\n",
      "Columns: [Open, High, Low, Close, Adj Close, Volume]\n",
      "Index: []\n"
     ]
    },
    {
     "name": "stderr",
     "output_type": "stream",
     "text": [
      "[*********************100%%**********************]  1 of 1 completed\n",
      "\n",
      "1 Failed download:\n",
      "['38021H206']: Exception('%ticker%: No timezone found, symbol may be delisted')\n"
     ]
    },
    {
     "name": "stdout",
     "output_type": "stream",
     "text": [
      "Empty DataFrame\n",
      "Columns: [Open, High, Low, Close, Adj Close, Volume]\n",
      "Index: []\n"
     ]
    },
    {
     "name": "stderr",
     "output_type": "stream",
     "text": [
      "[*********************100%%**********************]  1 of 1 completed\n",
      "\n",
      "1 Failed download:\n",
      "['G49393120']: Exception('%ticker%: No timezone found, symbol may be delisted')\n"
     ]
    },
    {
     "name": "stdout",
     "output_type": "stream",
     "text": [
      "Empty DataFrame\n",
      "Columns: [Open, High, Low, Close, Adj Close, Volume]\n",
      "Index: []\n"
     ]
    },
    {
     "name": "stderr",
     "output_type": "stream",
     "text": [
      "[*********************100%%**********************]  1 of 1 completed\n",
      "\n",
      "1 Failed download:\n",
      "['G0412A110']: Exception('%ticker%: No timezone found, symbol may be delisted')\n"
     ]
    },
    {
     "name": "stdout",
     "output_type": "stream",
     "text": [
      "Empty DataFrame\n",
      "Columns: [Open, High, Low, Close, Adj Close, Volume]\n",
      "Index: []\n"
     ]
    },
    {
     "name": "stderr",
     "output_type": "stream",
     "text": [
      "[*********************100%%**********************]  1 of 1 completed\n",
      "\n",
      "1 Failed download:\n",
      "['34552Y205']: Exception('%ticker%: No timezone found, symbol may be delisted')\n"
     ]
    },
    {
     "name": "stdout",
     "output_type": "stream",
     "text": [
      "Empty DataFrame\n",
      "Columns: [Open, High, Low, Close, Adj Close, Volume]\n",
      "Index: []\n"
     ]
    },
    {
     "name": "stderr",
     "output_type": "stream",
     "text": [
      "[*********************100%%**********************]  1 of 1 completed\n",
      "\n",
      "1 Failed download:\n",
      "['G31070124']: Exception('%ticker%: No timezone found, symbol may be delisted')\n"
     ]
    },
    {
     "name": "stdout",
     "output_type": "stream",
     "text": [
      "Empty DataFrame\n",
      "Columns: [Open, High, Low, Close, Adj Close, Volume]\n",
      "Index: []\n"
     ]
    },
    {
     "name": "stderr",
     "output_type": "stream",
     "text": [
      "[*********************100%%**********************]  1 of 1 completed\n",
      "\n",
      "1 Failed download:\n",
      "['739190205']: Exception('%ticker%: No timezone found, symbol may be delisted')\n"
     ]
    },
    {
     "name": "stdout",
     "output_type": "stream",
     "text": [
      "Empty DataFrame\n",
      "Columns: [Open, High, Low, Close, Adj Close, Volume]\n",
      "Index: []\n"
     ]
    },
    {
     "name": "stderr",
     "output_type": "stream",
     "text": [
      "[*********************100%%**********************]  1 of 1 completed\n",
      "\n",
      "1 Failed download:\n",
      "['G54035129']: Exception('%ticker%: No timezone found, symbol may be delisted')\n"
     ]
    },
    {
     "name": "stdout",
     "output_type": "stream",
     "text": [
      "Empty DataFrame\n",
      "Columns: [Open, High, Low, Close, Adj Close, Volume]\n",
      "Index: []\n"
     ]
    },
    {
     "name": "stderr",
     "output_type": "stream",
     "text": [
      "[*********************100%%**********************]  1 of 1 completed\n",
      "\n",
      "1 Failed download:\n",
      "['00653H201']: Exception('%ticker%: No timezone found, symbol may be delisted')\n"
     ]
    },
    {
     "name": "stdout",
     "output_type": "stream",
     "text": [
      "Empty DataFrame\n",
      "Columns: [Open, High, Low, Close, Adj Close, Volume]\n",
      "Index: []\n"
     ]
    },
    {
     "name": "stderr",
     "output_type": "stream",
     "text": [
      "[*********************100%%**********************]  1 of 1 completed\n",
      "\n",
      "1 Failed download:\n",
      "['G9420F136']: Exception('%ticker%: No timezone found, symbol may be delisted')\n"
     ]
    },
    {
     "name": "stdout",
     "output_type": "stream",
     "text": [
      "Empty DataFrame\n",
      "Columns: [Open, High, Low, Close, Adj Close, Volume]\n",
      "Index: []\n"
     ]
    },
    {
     "name": "stderr",
     "output_type": "stream",
     "text": [
      "[*********************100%%**********************]  1 of 1 completed\n",
      "\n",
      "1 Failed download:\n",
      "['72582M205']: Exception('%ticker%: No timezone found, symbol may be delisted')\n"
     ]
    },
    {
     "name": "stdout",
     "output_type": "stream",
     "text": [
      "Empty DataFrame\n",
      "Columns: [Open, High, Low, Close, Adj Close, Volume]\n",
      "Index: []\n"
     ]
    },
    {
     "name": "stderr",
     "output_type": "stream",
     "text": [
      "[*********************100%%**********************]  1 of 1 completed\n",
      "\n",
      "1 Failed download:\n",
      "['26829T209']: Exception('%ticker%: No timezone found, symbol may be delisted')\n"
     ]
    },
    {
     "name": "stdout",
     "output_type": "stream",
     "text": [
      "Empty DataFrame\n",
      "Columns: [Open, High, Low, Close, Adj Close, Volume]\n",
      "Index: []\n"
     ]
    },
    {
     "name": "stderr",
     "output_type": "stream",
     "text": [
      "[*********************100%%**********************]  1 of 1 completed\n",
      "\n",
      "1 Failed download:\n",
      "['84677R205']: Exception('%ticker%: No timezone found, symbol may be delisted')\n"
     ]
    },
    {
     "name": "stdout",
     "output_type": "stream",
     "text": [
      "Empty DataFrame\n",
      "Columns: [Open, High, Low, Close, Adj Close, Volume]\n",
      "Index: []\n"
     ]
    },
    {
     "name": "stderr",
     "output_type": "stream",
     "text": [
      "[*********************100%%**********************]  1 of 1 completed\n",
      "\n",
      "1 Failed download:\n",
      "['30052G207']: Exception('%ticker%: No timezone found, symbol may be delisted')\n"
     ]
    },
    {
     "name": "stdout",
     "output_type": "stream",
     "text": [
      "Empty DataFrame\n",
      "Columns: [Open, High, Low, Close, Adj Close, Volume]\n",
      "Index: []\n"
     ]
    },
    {
     "name": "stderr",
     "output_type": "stream",
     "text": [
      "[*********************100%%**********************]  1 of 1 completed\n",
      "\n",
      "1 Failed download:\n",
      "['37518G200']: Exception('%ticker%: No timezone found, symbol may be delisted')\n"
     ]
    },
    {
     "name": "stdout",
     "output_type": "stream",
     "text": [
      "Empty DataFrame\n",
      "Columns: [Open, High, Low, Close, Adj Close, Volume]\n",
      "Index: []\n"
     ]
    },
    {
     "name": "stderr",
     "output_type": "stream",
     "text": [
      "[*********************100%%**********************]  1 of 1 completed\n",
      "\n",
      "1 Failed download:\n",
      "['74275N201']: Exception('%ticker%: No timezone found, symbol may be delisted')\n"
     ]
    },
    {
     "name": "stdout",
     "output_type": "stream",
     "text": [
      "Empty DataFrame\n",
      "Columns: [Open, High, Low, Close, Adj Close, Volume]\n",
      "Index: []\n"
     ]
    },
    {
     "name": "stderr",
     "output_type": "stream",
     "text": [
      "[*********************100%%**********************]  1 of 1 completed\n",
      "\n",
      "1 Failed download:\n",
      "['G25741128']: Exception('%ticker%: No timezone found, symbol may be delisted')\n"
     ]
    },
    {
     "name": "stdout",
     "output_type": "stream",
     "text": [
      "Empty DataFrame\n",
      "Columns: [Open, High, Low, Close, Adj Close, Volume]\n",
      "Index: []\n"
     ]
    },
    {
     "name": "stderr",
     "output_type": "stream",
     "text": [
      "[*********************100%%**********************]  1 of 1 completed\n",
      "\n",
      "1 Failed download:\n",
      "['66981N202']: Exception('%ticker%: No timezone found, symbol may be delisted')\n"
     ]
    },
    {
     "name": "stdout",
     "output_type": "stream",
     "text": [
      "Empty DataFrame\n",
      "Columns: [Open, High, Low, Close, Adj Close, Volume]\n",
      "Index: []\n"
     ]
    },
    {
     "name": "stderr",
     "output_type": "stream",
     "text": [
      "[*********************100%%**********************]  1 of 1 completed\n",
      "\n",
      "1 Failed download:\n",
      "['74327P204']: Exception('%ticker%: No timezone found, symbol may be delisted')\n"
     ]
    },
    {
     "name": "stdout",
     "output_type": "stream",
     "text": [
      "Empty DataFrame\n",
      "Columns: [Open, High, Low, Close, Adj Close, Volume]\n",
      "Index: []\n"
     ]
    },
    {
     "name": "stderr",
     "output_type": "stream",
     "text": [
      "[*********************100%%**********************]  1 of 1 completed\n",
      "\n",
      "1 Failed download:\n",
      "['G76088114']: Exception('%ticker%: No timezone found, symbol may be delisted')\n"
     ]
    },
    {
     "name": "stdout",
     "output_type": "stream",
     "text": [
      "Empty DataFrame\n",
      "Columns: [Open, High, Low, Close, Adj Close, Volume]\n",
      "Index: []\n"
     ]
    },
    {
     "name": "stderr",
     "output_type": "stream",
     "text": [
      "[*********************100%%**********************]  1 of 1 completed\n",
      "\n",
      "1 Failed download:\n",
      "['88605T209']: Exception('%ticker%: No timezone found, symbol may be delisted')\n"
     ]
    },
    {
     "name": "stdout",
     "output_type": "stream",
     "text": [
      "Empty DataFrame\n",
      "Columns: [Open, High, Low, Close, Adj Close, Volume]\n",
      "Index: []\n"
     ]
    },
    {
     "name": "stderr",
     "output_type": "stream",
     "text": [
      "[*********************100%%**********************]  1 of 1 completed\n",
      "\n",
      "1 Failed download:\n",
      "['86934L202']: Exception('%ticker%: No timezone found, symbol may be delisted')\n"
     ]
    },
    {
     "name": "stdout",
     "output_type": "stream",
     "text": [
      "Empty DataFrame\n",
      "Columns: [Open, High, Low, Close, Adj Close, Volume]\n",
      "Index: []\n"
     ]
    },
    {
     "name": "stderr",
     "output_type": "stream",
     "text": [
      "[*********************100%%**********************]  1 of 1 completed\n",
      "\n",
      "1 Failed download:\n",
      "['204833206']: Exception('%ticker%: No timezone found, symbol may be delisted')\n"
     ]
    },
    {
     "name": "stdout",
     "output_type": "stream",
     "text": [
      "Empty DataFrame\n",
      "Columns: [Open, High, Low, Close, Adj Close, Volume]\n",
      "Index: []\n"
     ]
    },
    {
     "name": "stderr",
     "output_type": "stream",
     "text": [
      "[*********************100%%**********************]  1 of 1 completed\n",
      "\n",
      "1 Failed download:\n",
      "['46592C209']: Exception('%ticker%: No timezone found, symbol may be delisted')\n"
     ]
    },
    {
     "name": "stdout",
     "output_type": "stream",
     "text": [
      "Empty DataFrame\n",
      "Columns: [Open, High, Low, Close, Adj Close, Volume]\n",
      "Index: []\n"
     ]
    },
    {
     "name": "stderr",
     "output_type": "stream",
     "text": [
      "[*********************100%%**********************]  1 of 1 completed\n",
      "\n",
      "1 Failed download:\n",
      "['74767A204']: Exception('%ticker%: No timezone found, symbol may be delisted')\n",
      "c:\\Users\\ziggy\\anaconda3\\Lib\\site-packages\\yfinance\\utils.py:775: FutureWarning: The 'unit' keyword in TimedeltaIndex construction is deprecated and will be removed in a future version. Use pd.to_timedelta instead.\n",
      "  df.index += _pd.TimedeltaIndex(dst_error_hours, 'h')\n",
      "[*********************100%%**********************]  1 of 1 completed\n"
     ]
    },
    {
     "name": "stdout",
     "output_type": "stream",
     "text": [
      "Empty DataFrame\n",
      "Columns: [Open, High, Low, Close, Adj Close, Volume]\n",
      "Index: []\n",
      "             Open   High    Low  Close  Adj Close  Volume\n",
      "Date                                                     \n",
      "2021-02-04  14.58  14.59  14.51  14.53  13.885876   27400\n",
      "2021-02-05  14.46  14.55  14.46  14.53  13.885876   42700\n",
      "2021-02-08  14.51  14.59  14.51  14.55  13.904986   63500\n",
      "2021-02-09  14.59  14.62  14.51  14.54  13.895432   26800\n",
      "2021-02-10  14.58  14.61  14.50  14.53  13.885876   20300\n",
      "...           ...    ...    ...    ...        ...     ...\n",
      "2022-01-28  13.42  13.55  13.37  13.40  13.350502   49500\n",
      "2022-01-31  13.40  13.43  13.34  13.40  13.350502   42000\n",
      "2022-02-01  13.45  13.54  13.38  13.51  13.460096   35400\n",
      "2022-02-02  13.55  13.80  13.55  13.57  13.519875   41900\n",
      "2022-02-03  13.57  13.64  13.44  13.48  13.430207   22200\n",
      "\n",
      "[253 rows x 6 columns]\n"
     ]
    },
    {
     "name": "stderr",
     "output_type": "stream",
     "text": [
      "[*********************100%%**********************]  1 of 1 completed\n",
      "\n",
      "1 Failed download:\n",
      "['G2554Y112']: Exception('%ticker%: No timezone found, symbol may be delisted')\n"
     ]
    },
    {
     "name": "stdout",
     "output_type": "stream",
     "text": [
      "Empty DataFrame\n",
      "Columns: [Open, High, Low, Close, Adj Close, Volume]\n",
      "Index: []\n"
     ]
    },
    {
     "name": "stderr",
     "output_type": "stream",
     "text": [
      "[*********************100%%**********************]  1 of 1 completed\n",
      "\n",
      "1 Failed download:\n",
      "['G4204R125']: Exception('%ticker%: No timezone found, symbol may be delisted')\n"
     ]
    },
    {
     "name": "stdout",
     "output_type": "stream",
     "text": [
      "Empty DataFrame\n",
      "Columns: [Open, High, Low, Close, Adj Close, Volume]\n",
      "Index: []\n"
     ]
    },
    {
     "name": "stderr",
     "output_type": "stream",
     "text": [
      "[*********************100%%**********************]  1 of 1 completed\n",
      "\n",
      "1 Failed download:\n",
      "['G03709113']: Exception('%ticker%: No timezone found, symbol may be delisted')\n"
     ]
    },
    {
     "name": "stdout",
     "output_type": "stream",
     "text": [
      "Empty DataFrame\n",
      "Columns: [Open, High, Low, Close, Adj Close, Volume]\n",
      "Index: []\n"
     ]
    },
    {
     "name": "stderr",
     "output_type": "stream",
     "text": [
      "[*********************100%%**********************]  1 of 1 completed\n",
      "\n",
      "1 Failed download:\n",
      "['G39714111']: Exception('%ticker%: No timezone found, symbol may be delisted')\n"
     ]
    },
    {
     "name": "stdout",
     "output_type": "stream",
     "text": [
      "Empty DataFrame\n",
      "Columns: [Open, High, Low, Close, Adj Close, Volume]\n",
      "Index: []\n"
     ]
    },
    {
     "name": "stderr",
     "output_type": "stream",
     "text": [
      "[*********************100%%**********************]  1 of 1 completed\n",
      "\n",
      "1 Failed download:\n",
      "['G2072Q112']: Exception('%ticker%: No timezone found, symbol may be delisted')\n"
     ]
    },
    {
     "name": "stdout",
     "output_type": "stream",
     "text": [
      "Empty DataFrame\n",
      "Columns: [Open, High, Low, Close, Adj Close, Volume]\n",
      "Index: []\n"
     ]
    },
    {
     "name": "stderr",
     "output_type": "stream",
     "text": [
      "[*********************100%%**********************]  1 of 1 completed\n",
      "\n",
      "1 Failed download:\n",
      "['049287204']: Exception('%ticker%: No timezone found, symbol may be delisted')\n"
     ]
    },
    {
     "name": "stdout",
     "output_type": "stream",
     "text": [
      "Empty DataFrame\n",
      "Columns: [Open, High, Low, Close, Adj Close, Volume]\n",
      "Index: []\n"
     ]
    },
    {
     "name": "stderr",
     "output_type": "stream",
     "text": [
      "[*********************100%%**********************]  1 of 1 completed\n",
      "\n",
      "1 Failed download:\n",
      "['242794204']: Exception('%ticker%: No timezone found, symbol may be delisted')\n"
     ]
    },
    {
     "name": "stdout",
     "output_type": "stream",
     "text": [
      "Empty DataFrame\n",
      "Columns: [Open, High, Low, Close, Adj Close, Volume]\n",
      "Index: []\n"
     ]
    },
    {
     "name": "stderr",
     "output_type": "stream",
     "text": [
      "[*********************100%%**********************]  1 of 1 completed\n",
      "\n",
      "1 Failed download:\n",
      "['04637C205']: Exception('%ticker%: No timezone found, symbol may be delisted')\n"
     ]
    },
    {
     "name": "stdout",
     "output_type": "stream",
     "text": [
      "Empty DataFrame\n",
      "Columns: [Open, High, Low, Close, Adj Close, Volume]\n",
      "Index: []\n"
     ]
    },
    {
     "name": "stderr",
     "output_type": "stream",
     "text": [
      "[*********************100%%**********************]  1 of 1 completed\n",
      "\n",
      "1 Failed download:\n",
      "['67012W203']: Exception('%ticker%: No timezone found, symbol may be delisted')\n"
     ]
    },
    {
     "name": "stdout",
     "output_type": "stream",
     "text": [
      "Empty DataFrame\n",
      "Columns: [Open, High, Low, Close, Adj Close, Volume]\n",
      "Index: []\n"
     ]
    },
    {
     "name": "stderr",
     "output_type": "stream",
     "text": [
      "[*********************100%%**********************]  1 of 1 completed\n",
      "\n",
      "1 Failed download:\n",
      "['G49773123']: Exception('%ticker%: No timezone found, symbol may be delisted')\n"
     ]
    },
    {
     "name": "stdout",
     "output_type": "stream",
     "text": [
      "Empty DataFrame\n",
      "Columns: [Open, High, Low, Close, Adj Close, Volume]\n",
      "Index: []\n"
     ]
    },
    {
     "name": "stderr",
     "output_type": "stream",
     "text": [
      "[*********************100%%**********************]  1 of 1 completed\n",
      "\n",
      "1 Failed download:\n",
      "['G5259L111']: Exception('%ticker%: No timezone found, symbol may be delisted')\n"
     ]
    },
    {
     "name": "stdout",
     "output_type": "stream",
     "text": [
      "Empty DataFrame\n",
      "Columns: [Open, High, Low, Close, Adj Close, Volume]\n",
      "Index: []\n"
     ]
    },
    {
     "name": "stderr",
     "output_type": "stream",
     "text": [
      "[*********************100%%**********************]  1 of 1 completed\n",
      "\n",
      "1 Failed download:\n",
      "['G1992N118']: Exception('%ticker%: No timezone found, symbol may be delisted')\n"
     ]
    },
    {
     "name": "stdout",
     "output_type": "stream",
     "text": [
      "Empty DataFrame\n",
      "Columns: [Open, High, Low, Close, Adj Close, Volume]\n",
      "Index: []\n"
     ]
    },
    {
     "name": "stderr",
     "output_type": "stream",
     "text": [
      "[*********************100%%**********************]  1 of 1 completed\n",
      "\n",
      "1 Failed download:\n",
      "['364681205']: Exception('%ticker%: No timezone found, symbol may be delisted')\n"
     ]
    },
    {
     "name": "stdout",
     "output_type": "stream",
     "text": [
      "Empty DataFrame\n",
      "Columns: [Open, High, Low, Close, Adj Close, Volume]\n",
      "Index: []\n"
     ]
    },
    {
     "name": "stderr",
     "output_type": "stream",
     "text": [
      "[*********************100%%**********************]  1 of 1 completed\n",
      "\n",
      "1 Failed download:\n",
      "['G50737116']: Exception('%ticker%: No timezone found, symbol may be delisted')\n"
     ]
    },
    {
     "name": "stdout",
     "output_type": "stream",
     "text": [
      "Empty DataFrame\n",
      "Columns: [Open, High, Low, Close, Adj Close, Volume]\n",
      "Index: []\n"
     ]
    },
    {
     "name": "stderr",
     "output_type": "stream",
     "text": [
      "[*********************100%%**********************]  1 of 1 completed\n",
      "\n",
      "1 Failed download:\n",
      "['62752R209']: Exception('%ticker%: No timezone found, symbol may be delisted')\n"
     ]
    },
    {
     "name": "stdout",
     "output_type": "stream",
     "text": [
      "Empty DataFrame\n",
      "Columns: [Open, High, Low, Close, Adj Close, Volume]\n",
      "Index: []\n"
     ]
    },
    {
     "name": "stderr",
     "output_type": "stream",
     "text": [
      "[*********************100%%**********************]  1 of 1 completed\n",
      "\n",
      "1 Failed download:\n",
      "['G6546R127']: Exception('%ticker%: No timezone found, symbol may be delisted')\n"
     ]
    },
    {
     "name": "stdout",
     "output_type": "stream",
     "text": [
      "Empty DataFrame\n",
      "Columns: [Open, High, Low, Close, Adj Close, Volume]\n",
      "Index: []\n"
     ]
    },
    {
     "name": "stderr",
     "output_type": "stream",
     "text": [
      "[*********************100%%**********************]  1 of 1 completed\n",
      "\n",
      "1 Failed download:\n",
      "['55283P205']: Exception('%ticker%: No timezone found, symbol may be delisted')\n"
     ]
    },
    {
     "name": "stdout",
     "output_type": "stream",
     "text": [
      "Empty DataFrame\n",
      "Columns: [Open, High, Low, Close, Adj Close, Volume]\n",
      "Index: []\n"
     ]
    },
    {
     "name": "stderr",
     "output_type": "stream",
     "text": [
      "[*********************100%%**********************]  1 of 1 completed\n",
      "\n",
      "1 Failed download:\n",
      "['G33032114']: Exception('%ticker%: No timezone found, symbol may be delisted')\n"
     ]
    },
    {
     "name": "stdout",
     "output_type": "stream",
     "text": [
      "Empty DataFrame\n",
      "Columns: [Open, High, Low, Close, Adj Close, Volume]\n",
      "Index: []\n"
     ]
    },
    {
     "name": "stderr",
     "output_type": "stream",
     "text": [
      "[*********************100%%**********************]  1 of 1 completed\n",
      "\n",
      "1 Failed download:\n",
      "['88408P206']: Exception('%ticker%: No timezone found, symbol may be delisted')\n"
     ]
    },
    {
     "name": "stdout",
     "output_type": "stream",
     "text": [
      "Empty DataFrame\n",
      "Columns: [Open, High, Low, Close, Adj Close, Volume]\n",
      "Index: []\n"
     ]
    },
    {
     "name": "stderr",
     "output_type": "stream",
     "text": [
      "[*********************100%%**********************]  1 of 1 completed\n",
      "\n",
      "1 Failed download:\n",
      "['39986V206']: Exception('%ticker%: No timezone found, symbol may be delisted')\n"
     ]
    },
    {
     "name": "stdout",
     "output_type": "stream",
     "text": [
      "Empty DataFrame\n",
      "Columns: [Open, High, Low, Close, Adj Close, Volume]\n",
      "Index: []\n"
     ]
    },
    {
     "name": "stderr",
     "output_type": "stream",
     "text": [
      "[*********************100%%**********************]  1 of 1 completed\n",
      "\n",
      "1 Failed download:\n",
      "['26886A200']: Exception('%ticker%: No timezone found, symbol may be delisted')\n"
     ]
    },
    {
     "name": "stdout",
     "output_type": "stream",
     "text": [
      "Empty DataFrame\n",
      "Columns: [Open, High, Low, Close, Adj Close, Volume]\n",
      "Index: []\n"
     ]
    },
    {
     "name": "stderr",
     "output_type": "stream",
     "text": [
      "[*********************100%%**********************]  1 of 1 completed\n",
      "\n",
      "1 Failed download:\n",
      "['11374E203']: Exception('%ticker%: No timezone found, symbol may be delisted')\n"
     ]
    },
    {
     "name": "stdout",
     "output_type": "stream",
     "text": [
      "Empty DataFrame\n",
      "Columns: [Open, High, Low, Close, Adj Close, Volume]\n",
      "Index: []\n"
     ]
    },
    {
     "name": "stderr",
     "output_type": "stream",
     "text": [
      "[*********************100%%**********************]  1 of 1 completed\n",
      "\n",
      "1 Failed download:\n",
      "['12520R205']: Exception('%ticker%: No timezone found, symbol may be delisted')\n"
     ]
    },
    {
     "name": "stdout",
     "output_type": "stream",
     "text": [
      "Empty DataFrame\n",
      "Columns: [Open, High, Low, Close, Adj Close, Volume]\n",
      "Index: []\n"
     ]
    },
    {
     "name": "stderr",
     "output_type": "stream",
     "text": [
      "[*********************100%%**********************]  1 of 1 completed\n",
      "\n",
      "1 Failed download:\n",
      "['98880C201']: Exception('%ticker%: No timezone found, symbol may be delisted')\n"
     ]
    },
    {
     "name": "stdout",
     "output_type": "stream",
     "text": [
      "Empty DataFrame\n",
      "Columns: [Open, High, Low, Close, Adj Close, Volume]\n",
      "Index: []\n"
     ]
    },
    {
     "name": "stderr",
     "output_type": "stream",
     "text": [
      "[*********************100%%**********************]  1 of 1 completed\n",
      "\n",
      "1 Failed download:\n",
      "['57520Y205']: Exception('%ticker%: No timezone found, symbol may be delisted')\n"
     ]
    },
    {
     "name": "stdout",
     "output_type": "stream",
     "text": [
      "Empty DataFrame\n",
      "Columns: [Open, High, Low, Close, Adj Close, Volume]\n",
      "Index: []\n"
     ]
    },
    {
     "name": "stderr",
     "output_type": "stream",
     "text": [
      "[*********************100%%**********************]  1 of 1 completed\n",
      "\n",
      "1 Failed download:\n",
      "['G1261Q123']: Exception('%ticker%: No timezone found, symbol may be delisted')\n"
     ]
    },
    {
     "name": "stdout",
     "output_type": "stream",
     "text": [
      "Empty DataFrame\n",
      "Columns: [Open, High, Low, Close, Adj Close, Volume]\n",
      "Index: []\n"
     ]
    },
    {
     "name": "stderr",
     "output_type": "stream",
     "text": [
      "[*********************100%%**********************]  1 of 1 completed\n",
      "\n",
      "1 Failed download:\n",
      "['18049C207']: Exception('%ticker%: No timezone found, symbol may be delisted')\n"
     ]
    },
    {
     "name": "stdout",
     "output_type": "stream",
     "text": [
      "Empty DataFrame\n",
      "Columns: [Open, High, Low, Close, Adj Close, Volume]\n",
      "Index: []\n"
     ]
    },
    {
     "name": "stderr",
     "output_type": "stream",
     "text": [
      "[*********************100%%**********************]  1 of 1 completed\n",
      "\n",
      "1 Failed download:\n",
      "['G49775110']: Exception('%ticker%: No timezone found, symbol may be delisted')\n"
     ]
    },
    {
     "name": "stdout",
     "output_type": "stream",
     "text": [
      "Empty DataFrame\n",
      "Columns: [Open, High, Low, Close, Adj Close, Volume]\n",
      "Index: []\n"
     ]
    },
    {
     "name": "stderr",
     "output_type": "stream",
     "text": [
      "[*********************100%%**********************]  1 of 1 completed\n",
      "\n",
      "1 Failed download:\n",
      "['87257M207']: Exception('%ticker%: No timezone found, symbol may be delisted')\n"
     ]
    },
    {
     "name": "stdout",
     "output_type": "stream",
     "text": [
      "Empty DataFrame\n",
      "Columns: [Open, High, Low, Close, Adj Close, Volume]\n",
      "Index: []\n"
     ]
    },
    {
     "name": "stderr",
     "output_type": "stream",
     "text": [
      "[*********************100%%**********************]  1 of 1 completed\n",
      "\n",
      "1 Failed download:\n",
      "['45175H205']: Exception('%ticker%: No timezone found, symbol may be delisted')\n"
     ]
    },
    {
     "name": "stdout",
     "output_type": "stream",
     "text": [
      "Empty DataFrame\n",
      "Columns: [Open, High, Low, Close, Adj Close, Volume]\n",
      "Index: []\n"
     ]
    },
    {
     "name": "stderr",
     "output_type": "stream",
     "text": [
      "[*********************100%%**********************]  1 of 1 completed\n",
      "\n",
      "1 Failed download:\n",
      "['443760202']: Exception('%ticker%: No timezone found, symbol may be delisted')\n"
     ]
    },
    {
     "name": "stdout",
     "output_type": "stream",
     "text": [
      "Empty DataFrame\n",
      "Columns: [Open, High, Low, Close, Adj Close, Volume]\n",
      "Index: []\n"
     ]
    },
    {
     "name": "stderr",
     "output_type": "stream",
     "text": [
      "[*********************100%%**********************]  1 of 1 completed\n",
      "\n",
      "1 Failed download:\n",
      "['34962M205']: Exception('%ticker%: No timezone found, symbol may be delisted')\n"
     ]
    },
    {
     "name": "stdout",
     "output_type": "stream",
     "text": [
      "Empty DataFrame\n",
      "Columns: [Open, High, Low, Close, Adj Close, Volume]\n",
      "Index: []\n"
     ]
    },
    {
     "name": "stderr",
     "output_type": "stream",
     "text": [
      "[*********************100%%**********************]  1 of 1 completed\n",
      "\n",
      "1 Failed download:\n",
      "['23305Q205']: Exception('%ticker%: No timezone found, symbol may be delisted')\n"
     ]
    },
    {
     "name": "stdout",
     "output_type": "stream",
     "text": [
      "Empty DataFrame\n",
      "Columns: [Open, High, Low, Close, Adj Close, Volume]\n",
      "Index: []\n"
     ]
    },
    {
     "name": "stderr",
     "output_type": "stream",
     "text": [
      "[*********************100%%**********************]  1 of 1 completed\n",
      "\n",
      "1 Failed download:\n",
      "['187171202']: Exception('%ticker%: No timezone found, symbol may be delisted')\n"
     ]
    },
    {
     "name": "stdout",
     "output_type": "stream",
     "text": [
      "Empty DataFrame\n",
      "Columns: [Open, High, Low, Close, Adj Close, Volume]\n",
      "Index: []\n"
     ]
    },
    {
     "name": "stderr",
     "output_type": "stream",
     "text": [
      "[*********************100%%**********************]  1 of 1 completed\n",
      "\n",
      "1 Failed download:\n",
      "['G2R18K121']: Exception('%ticker%: No timezone found, symbol may be delisted')\n"
     ]
    },
    {
     "name": "stdout",
     "output_type": "stream",
     "text": [
      "Empty DataFrame\n",
      "Columns: [Open, High, Low, Close, Adj Close, Volume]\n",
      "Index: []\n"
     ]
    },
    {
     "name": "stderr",
     "output_type": "stream",
     "text": [
      "[*********************100%%**********************]  1 of 1 completed\n",
      "\n",
      "1 Failed download:\n",
      "['12510W206']: Exception('%ticker%: No timezone found, symbol may be delisted')\n",
      "c:\\Users\\ziggy\\anaconda3\\Lib\\site-packages\\yfinance\\utils.py:775: FutureWarning: The 'unit' keyword in TimedeltaIndex construction is deprecated and will be removed in a future version. Use pd.to_timedelta instead.\n",
      "  df.index += _pd.TimedeltaIndex(dst_error_hours, 'h')\n",
      "[*********************100%%**********************]  1 of 1 completed\n"
     ]
    },
    {
     "name": "stdout",
     "output_type": "stream",
     "text": [
      "Empty DataFrame\n",
      "Columns: [Open, High, Low, Close, Adj Close, Volume]\n",
      "Index: []\n",
      "             Open   High    Low  Close  Adj Close  Volume\n",
      "Date                                                     \n",
      "2021-01-26  14.39  14.42  14.18  14.35  13.713855   31600\n",
      "2021-01-27  14.42  14.81  14.35  14.41  13.771195   68800\n",
      "2021-01-28  14.41  14.55  14.41  14.49  13.847648   22700\n",
      "2021-01-29  14.55  14.55  14.42  14.50  13.857203   42700\n",
      "2021-02-01  14.55  14.60  14.50  14.54  13.895432   16800\n",
      "...           ...    ...    ...    ...        ...     ...\n",
      "2022-01-19  13.68  13.77  13.43  13.60  13.549765  113400\n",
      "2022-01-20  13.65  13.75  13.55  13.56  13.509912   57400\n",
      "2022-01-21  13.48  13.58  13.47  13.48  13.430207   51200\n",
      "2022-01-24  13.52  13.64  13.34  13.44  13.390355   80000\n",
      "2022-01-25  13.50  13.74  13.41  13.67  13.619506  100600\n",
      "\n",
      "[253 rows x 6 columns]\n"
     ]
    },
    {
     "name": "stderr",
     "output_type": "stream",
     "text": [
      "[*********************100%%**********************]  1 of 1 completed\n",
      "\n",
      "1 Failed download:\n",
      "['G1125A124']: Exception('%ticker%: No timezone found, symbol may be delisted')\n",
      "c:\\Users\\ziggy\\anaconda3\\Lib\\site-packages\\yfinance\\utils.py:775: FutureWarning: The 'unit' keyword in TimedeltaIndex construction is deprecated and will be removed in a future version. Use pd.to_timedelta instead.\n",
      "  df.index += _pd.TimedeltaIndex(dst_error_hours, 'h')\n",
      "[*********************100%%**********************]  1 of 1 completed\n"
     ]
    },
    {
     "name": "stdout",
     "output_type": "stream",
     "text": [
      "Empty DataFrame\n",
      "Columns: [Open, High, Low, Close, Adj Close, Volume]\n",
      "Index: []\n",
      "             Open   High    Low  Close  Adj Close  Volume\n",
      "Date                                                     \n",
      "2021-01-25  14.48  14.48  14.38  14.43  13.790308   56300\n",
      "2021-01-26  14.39  14.42  14.18  14.35  13.713855   31600\n",
      "2021-01-27  14.42  14.81  14.35  14.41  13.771195   68800\n",
      "2021-01-28  14.41  14.55  14.41  14.49  13.847648   22700\n",
      "2021-01-29  14.55  14.55  14.42  14.50  13.857203   42700\n",
      "...           ...    ...    ...    ...        ...     ...\n",
      "2022-01-18  14.09  14.20  13.62  13.65  13.599579  148500\n",
      "2022-01-19  13.68  13.77  13.43  13.60  13.549765  113400\n",
      "2022-01-20  13.65  13.75  13.55  13.56  13.509912   57400\n",
      "2022-01-21  13.48  13.58  13.47  13.48  13.430207   51200\n",
      "2022-01-24  13.52  13.64  13.34  13.44  13.390355   80000\n",
      "\n",
      "[253 rows x 6 columns]\n"
     ]
    },
    {
     "name": "stderr",
     "output_type": "stream",
     "text": [
      "[*********************100%%**********************]  1 of 1 completed\n",
      "\n",
      "1 Failed download:\n",
      "['66573W206']: Exception('%ticker%: No timezone found, symbol may be delisted')\n"
     ]
    },
    {
     "name": "stdout",
     "output_type": "stream",
     "text": [
      "Empty DataFrame\n",
      "Columns: [Open, High, Low, Close, Adj Close, Volume]\n",
      "Index: []\n"
     ]
    },
    {
     "name": "stderr",
     "output_type": "stream",
     "text": [
      "[*********************100%%**********************]  1 of 1 completed\n",
      "\n",
      "1 Failed download:\n",
      "['808641203']: Exception('%ticker%: No timezone found, symbol may be delisted')\n"
     ]
    },
    {
     "name": "stdout",
     "output_type": "stream",
     "text": [
      "Empty DataFrame\n",
      "Columns: [Open, High, Low, Close, Adj Close, Volume]\n",
      "Index: []\n"
     ]
    },
    {
     "name": "stderr",
     "output_type": "stream",
     "text": [
      "[*********************100%%**********************]  1 of 1 completed\n",
      "\n",
      "1 Failed download:\n",
      "['502015209']: Exception('%ticker%: No timezone found, symbol may be delisted')\n"
     ]
    },
    {
     "name": "stdout",
     "output_type": "stream",
     "text": [
      "Empty DataFrame\n",
      "Columns: [Open, High, Low, Close, Adj Close, Volume]\n",
      "Index: []\n"
     ]
    },
    {
     "name": "stderr",
     "output_type": "stream",
     "text": [
      "[*********************100%%**********************]  1 of 1 completed\n",
      "\n",
      "1 Failed download:\n",
      "['25278L204']: Exception('%ticker%: No timezone found, symbol may be delisted')\n"
     ]
    },
    {
     "name": "stdout",
     "output_type": "stream",
     "text": [
      "Empty DataFrame\n",
      "Columns: [Open, High, Low, Close, Adj Close, Volume]\n",
      "Index: []\n"
     ]
    },
    {
     "name": "stderr",
     "output_type": "stream",
     "text": [
      "[*********************100%%**********************]  1 of 1 completed\n",
      "\n",
      "1 Failed download:\n",
      "['G66139117']: Exception('%ticker%: No timezone found, symbol may be delisted')\n"
     ]
    },
    {
     "name": "stdout",
     "output_type": "stream",
     "text": [
      "Empty DataFrame\n",
      "Columns: [Open, High, Low, Close, Adj Close, Volume]\n",
      "Index: []\n"
     ]
    },
    {
     "name": "stderr",
     "output_type": "stream",
     "text": [
      "[*********************100%%**********************]  1 of 1 completed\n",
      "\n",
      "1 Failed download:\n",
      "['G4989X107']: Exception('%ticker%: No timezone found, symbol may be delisted')\n"
     ]
    },
    {
     "name": "stdout",
     "output_type": "stream",
     "text": [
      "Empty DataFrame\n",
      "Columns: [Open, High, Low, Close, Adj Close, Volume]\n",
      "Index: []\n"
     ]
    },
    {
     "name": "stderr",
     "output_type": "stream",
     "text": [
      "[*********************100%%**********************]  1 of 1 completed\n",
      "\n",
      "1 Failed download:\n",
      "['53073L203']: Exception('%ticker%: No timezone found, symbol may be delisted')\n"
     ]
    },
    {
     "name": "stdout",
     "output_type": "stream",
     "text": [
      "Empty DataFrame\n",
      "Columns: [Open, High, Low, Close, Adj Close, Volume]\n",
      "Index: []\n"
     ]
    },
    {
     "name": "stderr",
     "output_type": "stream",
     "text": [
      "[*********************100%%**********************]  1 of 1 completed\n",
      "\n",
      "1 Failed download:\n",
      "['92837J203']: Exception('%ticker%: No timezone found, symbol may be delisted')\n"
     ]
    },
    {
     "name": "stdout",
     "output_type": "stream",
     "text": [
      "Empty DataFrame\n",
      "Columns: [Open, High, Low, Close, Adj Close, Volume]\n",
      "Index: []\n"
     ]
    },
    {
     "name": "stderr",
     "output_type": "stream",
     "text": [
      "[*********************100%%**********************]  1 of 1 completed\n",
      "\n",
      "1 Failed download:\n",
      "['G3194F125']: Exception('%ticker%: No timezone found, symbol may be delisted')\n"
     ]
    },
    {
     "name": "stdout",
     "output_type": "stream",
     "text": [
      "Empty DataFrame\n",
      "Columns: [Open, High, Low, Close, Adj Close, Volume]\n",
      "Index: []\n"
     ]
    },
    {
     "name": "stderr",
     "output_type": "stream",
     "text": [
      "[*********************100%%**********************]  1 of 1 completed\n",
      "\n",
      "1 Failed download:\n",
      "['68237L204']: Exception('%ticker%: No timezone found, symbol may be delisted')\n"
     ]
    },
    {
     "name": "stdout",
     "output_type": "stream",
     "text": [
      "Empty DataFrame\n",
      "Columns: [Open, High, Low, Close, Adj Close, Volume]\n",
      "Index: []\n"
     ]
    },
    {
     "name": "stderr",
     "output_type": "stream",
     "text": [
      "[*********************100%%**********************]  1 of 1 completed\n",
      "\n",
      "1 Failed download:\n",
      "['G7255E125']: Exception('%ticker%: No timezone found, symbol may be delisted')\n"
     ]
    },
    {
     "name": "stdout",
     "output_type": "stream",
     "text": [
      "Empty DataFrame\n",
      "Columns: [Open, High, Low, Close, Adj Close, Volume]\n",
      "Index: []\n"
     ]
    },
    {
     "name": "stderr",
     "output_type": "stream",
     "text": [
      "[*********************100%%**********************]  1 of 1 completed\n",
      "\n",
      "1 Failed download:\n",
      "['784065203']: Exception('%ticker%: No timezone found, symbol may be delisted')\n"
     ]
    },
    {
     "name": "stdout",
     "output_type": "stream",
     "text": [
      "Empty DataFrame\n",
      "Columns: [Open, High, Low, Close, Adj Close, Volume]\n",
      "Index: []\n"
     ]
    },
    {
     "name": "stderr",
     "output_type": "stream",
     "text": [
      "[*********************100%%**********************]  1 of 1 completed\n",
      "\n",
      "1 Failed download:\n",
      "['52473X205']: Exception('%ticker%: No timezone found, symbol may be delisted')\n"
     ]
    },
    {
     "name": "stdout",
     "output_type": "stream",
     "text": [
      "Empty DataFrame\n",
      "Columns: [Open, High, Low, Close, Adj Close, Volume]\n",
      "Index: []\n"
     ]
    },
    {
     "name": "stderr",
     "output_type": "stream",
     "text": [
      "[*********************100%%**********************]  1 of 1 completed\n",
      "\n",
      "1 Failed download:\n",
      "['35166L208']: Exception('%ticker%: No timezone found, symbol may be delisted')\n"
     ]
    },
    {
     "name": "stdout",
     "output_type": "stream",
     "text": [
      "Empty DataFrame\n",
      "Columns: [Open, High, Low, Close, Adj Close, Volume]\n",
      "Index: []\n"
     ]
    },
    {
     "name": "stderr",
     "output_type": "stream",
     "text": [
      "[*********************100%%**********************]  1 of 1 completed\n",
      "\n",
      "1 Failed download:\n",
      "['382873206']: Exception('%ticker%: No timezone found, symbol may be delisted')\n"
     ]
    },
    {
     "name": "stdout",
     "output_type": "stream",
     "text": [
      "Empty DataFrame\n",
      "Columns: [Open, High, Low, Close, Adj Close, Volume]\n",
      "Index: []\n"
     ]
    },
    {
     "name": "stderr",
     "output_type": "stream",
     "text": [
      "[*********************100%%**********************]  1 of 1 completed\n",
      "\n",
      "1 Failed download:\n",
      "['G91595127']: Exception('%ticker%: No timezone found, symbol may be delisted')\n"
     ]
    },
    {
     "name": "stdout",
     "output_type": "stream",
     "text": [
      "Empty DataFrame\n",
      "Columns: [Open, High, Low, Close, Adj Close, Volume]\n",
      "Index: []\n"
     ]
    },
    {
     "name": "stderr",
     "output_type": "stream",
     "text": [
      "[*********************100%%**********************]  1 of 1 completed\n",
      "\n",
      "1 Failed download:\n",
      "['G7315C127']: Exception('%ticker%: No timezone found, symbol may be delisted')\n"
     ]
    },
    {
     "name": "stdout",
     "output_type": "stream",
     "text": [
      "Empty DataFrame\n",
      "Columns: [Open, High, Low, Close, Adj Close, Volume]\n",
      "Index: []\n"
     ]
    },
    {
     "name": "stderr",
     "output_type": "stream",
     "text": [
      "[*********************100%%**********************]  1 of 1 completed\n",
      "\n",
      "1 Failed download:\n",
      "['69242M203']: Exception('%ticker%: No timezone found, symbol may be delisted')\n"
     ]
    },
    {
     "name": "stdout",
     "output_type": "stream",
     "text": [
      "Empty DataFrame\n",
      "Columns: [Open, High, Low, Close, Adj Close, Volume]\n",
      "Index: []\n"
     ]
    },
    {
     "name": "stderr",
     "output_type": "stream",
     "text": [
      "[*********************100%%**********************]  1 of 1 completed\n",
      "\n",
      "1 Failed download:\n",
      "['39947R203']: Exception('%ticker%: No timezone found, symbol may be delisted')\n"
     ]
    },
    {
     "name": "stdout",
     "output_type": "stream",
     "text": [
      "Empty DataFrame\n",
      "Columns: [Open, High, Low, Close, Adj Close, Volume]\n",
      "Index: []\n"
     ]
    },
    {
     "name": "stderr",
     "output_type": "stream",
     "text": [
      "[*********************100%%**********************]  1 of 1 completed\n",
      "\n",
      "1 Failed download:\n",
      "['77879W204']: Exception('%ticker%: No timezone found, symbol may be delisted')\n"
     ]
    },
    {
     "name": "stdout",
     "output_type": "stream",
     "text": [
      "Empty DataFrame\n",
      "Columns: [Open, High, Low, Close, Adj Close, Volume]\n",
      "Index: []\n"
     ]
    },
    {
     "name": "stderr",
     "output_type": "stream",
     "text": [
      "[*********************100%%**********************]  1 of 1 completed\n",
      "\n",
      "1 Failed download:\n",
      "['42228C200']: Exception('%ticker%: No timezone found, symbol may be delisted')\n"
     ]
    },
    {
     "name": "stdout",
     "output_type": "stream",
     "text": [
      "Empty DataFrame\n",
      "Columns: [Open, High, Low, Close, Adj Close, Volume]\n",
      "Index: []\n"
     ]
    },
    {
     "name": "stderr",
     "output_type": "stream",
     "text": [
      "[*********************100%%**********************]  1 of 1 completed\n",
      "\n",
      "1 Failed download:\n",
      "['G06607116']: Exception('%ticker%: No timezone found, symbol may be delisted')\n"
     ]
    },
    {
     "name": "stdout",
     "output_type": "stream",
     "text": [
      "Empty DataFrame\n",
      "Columns: [Open, High, Low, Close, Adj Close, Volume]\n",
      "Index: []\n"
     ]
    },
    {
     "name": "stderr",
     "output_type": "stream",
     "text": [
      "[*********************100%%**********************]  1 of 1 completed\n",
      "\n",
      "1 Failed download:\n",
      "['90138P209']: Exception('%ticker%: No timezone found, symbol may be delisted')\n"
     ]
    },
    {
     "name": "stdout",
     "output_type": "stream",
     "text": [
      "Empty DataFrame\n",
      "Columns: [Open, High, Low, Close, Adj Close, Volume]\n",
      "Index: []\n"
     ]
    },
    {
     "name": "stderr",
     "output_type": "stream",
     "text": [
      "[*********************100%%**********************]  1 of 1 completed\n",
      "\n",
      "1 Failed download:\n",
      "['61531M200']: Exception('%ticker%: No timezone found, symbol may be delisted')\n"
     ]
    },
    {
     "name": "stdout",
     "output_type": "stream",
     "text": [
      "Empty DataFrame\n",
      "Columns: [Open, High, Low, Close, Adj Close, Volume]\n",
      "Index: []\n"
     ]
    },
    {
     "name": "stderr",
     "output_type": "stream",
     "text": [
      "[*********************100%%**********************]  1 of 1 completed\n",
      "\n",
      "1 Failed download:\n",
      "['670865203']: Exception('%ticker%: No timezone found, symbol may be delisted')\n"
     ]
    },
    {
     "name": "stdout",
     "output_type": "stream",
     "text": [
      "Empty DataFrame\n",
      "Columns: [Open, High, Low, Close, Adj Close, Volume]\n",
      "Index: []\n"
     ]
    },
    {
     "name": "stderr",
     "output_type": "stream",
     "text": [
      "[*********************100%%**********************]  1 of 1 completed\n",
      "\n",
      "1 Failed download:\n",
      "['42589T206']: Exception('%ticker%: No timezone found, symbol may be delisted')\n",
      "c:\\Users\\ziggy\\anaconda3\\Lib\\site-packages\\yfinance\\utils.py:775: FutureWarning: The 'unit' keyword in TimedeltaIndex construction is deprecated and will be removed in a future version. Use pd.to_timedelta instead.\n",
      "  df.index += _pd.TimedeltaIndex(dst_error_hours, 'h')\n",
      "[*********************100%%**********************]  1 of 1 completed\n"
     ]
    },
    {
     "name": "stdout",
     "output_type": "stream",
     "text": [
      "Empty DataFrame\n",
      "Columns: [Open, High, Low, Close, Adj Close, Volume]\n",
      "Index: []\n",
      "             Open   High    Low  Close  Adj Close  Volume\n",
      "Date                                                     \n",
      "2021-01-14  14.09  14.09  13.99  14.03  13.408038   13200\n",
      "2021-01-15  14.11  14.11  14.05  14.06  13.436711   18700\n",
      "2021-01-19  14.08  14.16  14.04  14.05  13.427154   35700\n",
      "2021-01-20  14.07  14.21  14.07  14.21  13.580060   47200\n",
      "2021-01-21  14.28  14.30  14.19  14.26  13.627843   45700\n",
      "...           ...    ...    ...    ...        ...     ...\n",
      "2022-01-07  14.45  14.45  14.37  14.39  14.288290    9900\n",
      "2022-01-10  14.35  14.41  14.30  14.35  14.248572   18800\n",
      "2022-01-11  14.50  14.50  14.30  14.34  14.238643   40500\n",
      "2022-01-12  14.33  14.42  14.27  14.32  14.218783   36200\n",
      "2022-01-13  14.32  14.35  14.13  14.15  14.097733   36300\n",
      "\n",
      "[253 rows x 6 columns]\n"
     ]
    },
    {
     "name": "stderr",
     "output_type": "stream",
     "text": [
      "[*********************100%%**********************]  1 of 1 completed\n",
      "\n",
      "1 Failed download:\n",
      "['28059Q202']: Exception('%ticker%: No timezone found, symbol may be delisted')\n"
     ]
    },
    {
     "name": "stdout",
     "output_type": "stream",
     "text": [
      "Empty DataFrame\n",
      "Columns: [Open, High, Low, Close, Adj Close, Volume]\n",
      "Index: []\n"
     ]
    },
    {
     "name": "stderr",
     "output_type": "stream",
     "text": [
      "[*********************100%%**********************]  1 of 1 completed\n",
      "\n",
      "1 Failed download:\n",
      "['18274B205']: Exception('%ticker%: No timezone found, symbol may be delisted')\n"
     ]
    },
    {
     "name": "stdout",
     "output_type": "stream",
     "text": [
      "Empty DataFrame\n",
      "Columns: [Open, High, Low, Close, Adj Close, Volume]\n",
      "Index: []\n"
     ]
    },
    {
     "name": "stderr",
     "output_type": "stream",
     "text": [
      "[*********************100%%**********************]  1 of 1 completed\n",
      "\n",
      "1 Failed download:\n",
      "['G81355110']: Exception('%ticker%: No timezone found, symbol may be delisted')\n"
     ]
    },
    {
     "name": "stdout",
     "output_type": "stream",
     "text": [
      "Empty DataFrame\n",
      "Columns: [Open, High, Low, Close, Adj Close, Volume]\n",
      "Index: []\n"
     ]
    },
    {
     "name": "stderr",
     "output_type": "stream",
     "text": [
      "[*********************100%%**********************]  1 of 1 completed\n",
      "\n",
      "1 Failed download:\n",
      "['G36427113']: Exception('%ticker%: No timezone found, symbol may be delisted')\n"
     ]
    },
    {
     "name": "stdout",
     "output_type": "stream",
     "text": [
      "Empty DataFrame\n",
      "Columns: [Open, High, Low, Close, Adj Close, Volume]\n",
      "Index: []\n"
     ]
    },
    {
     "name": "stderr",
     "output_type": "stream",
     "text": [
      "[*********************100%%**********************]  1 of 1 completed\n",
      "\n",
      "1 Failed download:\n",
      "['29408N205']: Exception('%ticker%: No timezone found, symbol may be delisted')\n"
     ]
    },
    {
     "name": "stdout",
     "output_type": "stream",
     "text": [
      "Empty DataFrame\n",
      "Columns: [Open, High, Low, Close, Adj Close, Volume]\n",
      "Index: []\n"
     ]
    },
    {
     "name": "stderr",
     "output_type": "stream",
     "text": [
      "[*********************100%%**********************]  1 of 1 completed\n",
      "\n",
      "1 Failed download:\n",
      "['G71707114']: Exception('%ticker%: No timezone found, symbol may be delisted')\n"
     ]
    },
    {
     "name": "stdout",
     "output_type": "stream",
     "text": [
      "Empty DataFrame\n",
      "Columns: [Open, High, Low, Close, Adj Close, Volume]\n",
      "Index: []\n"
     ]
    },
    {
     "name": "stderr",
     "output_type": "stream",
     "text": [
      "[*********************100%%**********************]  1 of 1 completed\n",
      "\n",
      "1 Failed download:\n",
      "['G58411128']: Exception('%ticker%: No timezone found, symbol may be delisted')\n"
     ]
    },
    {
     "name": "stdout",
     "output_type": "stream",
     "text": [
      "Empty DataFrame\n",
      "Columns: [Open, High, Low, Close, Adj Close, Volume]\n",
      "Index: []\n"
     ]
    },
    {
     "name": "stderr",
     "output_type": "stream",
     "text": [
      "[*********************100%%**********************]  1 of 1 completed\n",
      "\n",
      "1 Failed download:\n",
      "['40749M202']: Exception('%ticker%: No timezone found, symbol may be delisted')\n"
     ]
    },
    {
     "name": "stdout",
     "output_type": "stream",
     "text": [
      "Empty DataFrame\n",
      "Columns: [Open, High, Low, Close, Adj Close, Volume]\n",
      "Index: []\n"
     ]
    },
    {
     "name": "stderr",
     "output_type": "stream",
     "text": [
      "[*********************100%%**********************]  1 of 1 completed\n",
      "\n",
      "1 Failed download:\n",
      "['G27029126']: Exception('%ticker%: No timezone found, symbol may be delisted')\n"
     ]
    },
    {
     "name": "stdout",
     "output_type": "stream",
     "text": [
      "Empty DataFrame\n",
      "Columns: [Open, High, Low, Close, Adj Close, Volume]\n",
      "Index: []\n"
     ]
    },
    {
     "name": "stderr",
     "output_type": "stream",
     "text": [
      "[*********************100%%**********************]  1 of 1 completed\n",
      "\n",
      "1 Failed download:\n",
      "['66516U200']: Exception('%ticker%: No timezone found, symbol may be delisted')\n"
     ]
    },
    {
     "name": "stdout",
     "output_type": "stream",
     "text": [
      "Empty DataFrame\n",
      "Columns: [Open, High, Low, Close, Adj Close, Volume]\n",
      "Index: []\n"
     ]
    },
    {
     "name": "stderr",
     "output_type": "stream",
     "text": [
      "[*********************100%%**********************]  1 of 1 completed\n",
      "\n",
      "1 Failed download:\n",
      "['04748A205']: Exception('%ticker%: No timezone found, symbol may be delisted')\n"
     ]
    },
    {
     "name": "stdout",
     "output_type": "stream",
     "text": [
      "Empty DataFrame\n",
      "Columns: [Open, High, Low, Close, Adj Close, Volume]\n",
      "Index: []\n"
     ]
    },
    {
     "name": "stderr",
     "output_type": "stream",
     "text": [
      "[*********************100%%**********************]  1 of 1 completed\n",
      "\n",
      "1 Failed download:\n",
      "['089115208']: Exception('%ticker%: No timezone found, symbol may be delisted')\n"
     ]
    },
    {
     "name": "stdout",
     "output_type": "stream",
     "text": [
      "Empty DataFrame\n",
      "Columns: [Open, High, Low, Close, Adj Close, Volume]\n",
      "Index: []\n"
     ]
    },
    {
     "name": "stderr",
     "output_type": "stream",
     "text": [
      "[*********************100%%**********************]  1 of 1 completed\n",
      "\n",
      "1 Failed download:\n",
      "['49878L208']: Exception('%ticker%: No timezone found, symbol may be delisted')\n"
     ]
    },
    {
     "name": "stdout",
     "output_type": "stream",
     "text": [
      "Empty DataFrame\n",
      "Columns: [Open, High, Low, Close, Adj Close, Volume]\n",
      "Index: []\n"
     ]
    },
    {
     "name": "stderr",
     "output_type": "stream",
     "text": [
      "[*********************100%%**********************]  1 of 1 completed\n",
      "\n",
      "1 Failed download:\n",
      "['G3934P110']: Exception('%ticker%: No timezone found, symbol may be delisted')\n"
     ]
    },
    {
     "name": "stdout",
     "output_type": "stream",
     "text": [
      "Empty DataFrame\n",
      "Columns: [Open, High, Low, Close, Adj Close, Volume]\n",
      "Index: []\n"
     ]
    },
    {
     "name": "stderr",
     "output_type": "stream",
     "text": [
      "[*********************100%%**********************]  1 of 1 completed\n",
      "\n",
      "1 Failed download:\n",
      "['28250A204']: Exception('%ticker%: No timezone found, symbol may be delisted')\n"
     ]
    },
    {
     "name": "stdout",
     "output_type": "stream",
     "text": [
      "Empty DataFrame\n",
      "Columns: [Open, High, Low, Close, Adj Close, Volume]\n",
      "Index: []\n"
     ]
    },
    {
     "name": "stderr",
     "output_type": "stream",
     "text": [
      "[*********************100%%**********************]  1 of 1 completed\n",
      "\n",
      "1 Failed download:\n",
      "['007024201']: Exception('%ticker%: No timezone found, symbol may be delisted')\n"
     ]
    },
    {
     "name": "stdout",
     "output_type": "stream",
     "text": [
      "Empty DataFrame\n",
      "Columns: [Open, High, Low, Close, Adj Close, Volume]\n",
      "Index: []\n"
     ]
    },
    {
     "name": "stderr",
     "output_type": "stream",
     "text": [
      "[*********************100%%**********************]  1 of 1 completed\n",
      "\n",
      "1 Failed download:\n",
      "['876545203']: Exception('%ticker%: No timezone found, symbol may be delisted')\n"
     ]
    },
    {
     "name": "stdout",
     "output_type": "stream",
     "text": [
      "Empty DataFrame\n",
      "Columns: [Open, High, Low, Close, Adj Close, Volume]\n",
      "Index: []\n"
     ]
    },
    {
     "name": "stderr",
     "output_type": "stream",
     "text": [
      "[*********************100%%**********************]  1 of 1 completed\n",
      "\n",
      "1 Failed download:\n",
      "['53228M205']: Exception('%ticker%: No timezone found, symbol may be delisted')\n"
     ]
    },
    {
     "name": "stdout",
     "output_type": "stream",
     "text": [
      "Empty DataFrame\n",
      "Columns: [Open, High, Low, Close, Adj Close, Volume]\n",
      "Index: []\n"
     ]
    },
    {
     "name": "stderr",
     "output_type": "stream",
     "text": [
      "[*********************100%%**********************]  1 of 1 completed\n",
      "\n",
      "1 Failed download:\n",
      "['G5463R110']: Exception('%ticker%: No timezone found, symbol may be delisted')\n"
     ]
    },
    {
     "name": "stdout",
     "output_type": "stream",
     "text": [
      "Empty DataFrame\n",
      "Columns: [Open, High, Low, Close, Adj Close, Volume]\n",
      "Index: []\n"
     ]
    },
    {
     "name": "stderr",
     "output_type": "stream",
     "text": [
      "[*********************100%%**********************]  1 of 1 completed\n",
      "\n",
      "1 Failed download:\n",
      "['29429X208']: Exception('%ticker%: No timezone found, symbol may be delisted')\n"
     ]
    },
    {
     "name": "stdout",
     "output_type": "stream",
     "text": [
      "Empty DataFrame\n",
      "Columns: [Open, High, Low, Close, Adj Close, Volume]\n",
      "Index: []\n"
     ]
    },
    {
     "name": "stderr",
     "output_type": "stream",
     "text": [
      "[*********************100%%**********************]  1 of 1 completed\n",
      "\n",
      "1 Failed download:\n",
      "['29248N209']: Exception('%ticker%: No timezone found, symbol may be delisted')\n"
     ]
    },
    {
     "name": "stdout",
     "output_type": "stream",
     "text": [
      "Empty DataFrame\n",
      "Columns: [Open, High, Low, Close, Adj Close, Volume]\n",
      "Index: []\n"
     ]
    },
    {
     "name": "stderr",
     "output_type": "stream",
     "text": [
      "[*********************100%%**********************]  1 of 1 completed\n",
      "\n",
      "1 Failed download:\n",
      "['49837C208']: Exception('%ticker%: No timezone found, symbol may be delisted')\n"
     ]
    },
    {
     "name": "stdout",
     "output_type": "stream",
     "text": [
      "Empty DataFrame\n",
      "Columns: [Open, High, Low, Close, Adj Close, Volume]\n",
      "Index: []\n"
     ]
    },
    {
     "name": "stderr",
     "output_type": "stream",
     "text": [
      "[*********************100%%**********************]  1 of 1 completed\n",
      "\n",
      "1 Failed download:\n",
      "['G8633T123']: Exception('%ticker%: No timezone found, symbol may be delisted')\n",
      "c:\\Users\\ziggy\\anaconda3\\Lib\\site-packages\\yfinance\\utils.py:775: FutureWarning: The 'unit' keyword in TimedeltaIndex construction is deprecated and will be removed in a future version. Use pd.to_timedelta instead.\n",
      "  df.index += _pd.TimedeltaIndex(dst_error_hours, 'h')\n",
      "[*********************100%%**********************]  1 of 1 completed\n"
     ]
    },
    {
     "name": "stdout",
     "output_type": "stream",
     "text": [
      "Empty DataFrame\n",
      "Columns: [Open, High, Low, Close, Adj Close, Volume]\n",
      "Index: []\n",
      "             Open   High    Low  Close  Adj Close  Volume\n",
      "Date                                                     \n",
      "2021-01-07  14.26  14.27  14.05  14.09  13.415543   54000\n",
      "2021-01-08  14.21  14.21  14.08  14.09  13.415543   22700\n",
      "2021-01-11  14.03  14.10  14.03  14.05  13.377459   30200\n",
      "2021-01-12  14.13  14.13  14.03  14.03  13.358416   14200\n",
      "2021-01-13  14.04  14.08  14.03  14.05  13.377459   18900\n",
      "...           ...    ...    ...    ...        ...     ...\n",
      "2021-12-31  14.98  14.98  14.72  14.79  14.685462   32400\n",
      "2022-01-03  14.74  14.97  14.60  14.62  14.516664   35500\n",
      "2022-01-04  14.60  14.63  14.53  14.56  14.457088   21500\n",
      "2022-01-05  14.59  14.59  14.43  14.44  14.337935   62000\n",
      "2022-01-06  14.48  14.58  14.39  14.39  14.288290   55300\n",
      "\n",
      "[253 rows x 6 columns]\n"
     ]
    },
    {
     "name": "stderr",
     "output_type": "stream",
     "text": [
      "[*********************100%%**********************]  1 of 1 completed\n",
      "\n",
      "1 Failed download:\n",
      "['G3934J114']: Exception('%ticker%: No timezone found, symbol may be delisted')\n"
     ]
    },
    {
     "name": "stdout",
     "output_type": "stream",
     "text": [
      "Empty DataFrame\n",
      "Columns: [Open, High, Low, Close, Adj Close, Volume]\n",
      "Index: []\n"
     ]
    },
    {
     "name": "stderr",
     "output_type": "stream",
     "text": [
      "[*********************100%%**********************]  1 of 1 completed\n",
      "\n",
      "1 Failed download:\n",
      "['54015L301']: Exception('%ticker%: No timezone found, symbol may be delisted')\n"
     ]
    },
    {
     "name": "stdout",
     "output_type": "stream",
     "text": [
      "Empty DataFrame\n",
      "Columns: [Open, High, Low, Close, Adj Close, Volume]\n",
      "Index: []\n"
     ]
    },
    {
     "name": "stderr",
     "output_type": "stream",
     "text": [
      "[*********************100%%**********************]  1 of 1 completed\n",
      "\n",
      "1 Failed download:\n",
      "['G8601L110']: Exception('%ticker%: No timezone found, symbol may be delisted')\n"
     ]
    },
    {
     "name": "stdout",
     "output_type": "stream",
     "text": [
      "Empty DataFrame\n",
      "Columns: [Open, High, Low, Close, Adj Close, Volume]\n",
      "Index: []\n"
     ]
    },
    {
     "name": "stderr",
     "output_type": "stream",
     "text": [
      "[*********************100%%**********************]  1 of 1 completed\n",
      "\n",
      "1 Failed download:\n",
      "['62402D204']: Exception('%ticker%: No timezone found, symbol may be delisted')\n"
     ]
    },
    {
     "name": "stdout",
     "output_type": "stream",
     "text": [
      "Empty DataFrame\n",
      "Columns: [Open, High, Low, Close, Adj Close, Volume]\n",
      "Index: []\n"
     ]
    },
    {
     "name": "stderr",
     "output_type": "stream",
     "text": [
      "[*********************100%%**********************]  1 of 1 completed\n",
      "\n",
      "1 Failed download:\n",
      "['G7S24C129']: Exception('%ticker%: No timezone found, symbol may be delisted')\n"
     ]
    },
    {
     "name": "stdout",
     "output_type": "stream",
     "text": [
      "Empty DataFrame\n",
      "Columns: [Open, High, Low, Close, Adj Close, Volume]\n",
      "Index: []\n"
     ]
    },
    {
     "name": "stderr",
     "output_type": "stream",
     "text": [
      "[*********************100%%**********************]  1 of 1 completed\n",
      "\n",
      "1 Failed download:\n",
      "['G7282L118']: Exception('%ticker%: No timezone found, symbol may be delisted')\n"
     ]
    },
    {
     "name": "stdout",
     "output_type": "stream",
     "text": [
      "Empty DataFrame\n",
      "Columns: [Open, High, Low, Close, Adj Close, Volume]\n",
      "Index: []\n"
     ]
    },
    {
     "name": "stderr",
     "output_type": "stream",
     "text": [
      "[*********************100%%**********************]  1 of 1 completed\n",
      "\n",
      "1 Failed download:\n",
      "['G7273A121']: Exception('%ticker%: No timezone found, symbol may be delisted')\n"
     ]
    },
    {
     "name": "stdout",
     "output_type": "stream",
     "text": [
      "Empty DataFrame\n",
      "Columns: [Open, High, Low, Close, Adj Close, Volume]\n",
      "Index: []\n"
     ]
    },
    {
     "name": "stderr",
     "output_type": "stream",
     "text": [
      "[*********************100%%**********************]  1 of 1 completed\n",
      "\n",
      "1 Failed download:\n",
      "['G7209M124']: Exception('%ticker%: No timezone found, symbol may be delisted')\n"
     ]
    },
    {
     "name": "stdout",
     "output_type": "stream",
     "text": [
      "Empty DataFrame\n",
      "Columns: [Open, High, Low, Close, Adj Close, Volume]\n",
      "Index: []\n"
     ]
    },
    {
     "name": "stderr",
     "output_type": "stream",
     "text": [
      "[*********************100%%**********************]  1 of 1 completed\n",
      "\n",
      "1 Failed download:\n",
      "['G9440B123']: Exception('%ticker%: No timezone found, symbol may be delisted')\n"
     ]
    },
    {
     "name": "stdout",
     "output_type": "stream",
     "text": [
      "Empty DataFrame\n",
      "Columns: [Open, High, Low, Close, Adj Close, Volume]\n",
      "Index: []\n"
     ]
    },
    {
     "name": "stderr",
     "output_type": "stream",
     "text": [
      "[*********************100%%**********************]  1 of 1 completed\n",
      "\n",
      "1 Failed download:\n",
      "['G4R87P122']: Exception('%ticker%: No timezone found, symbol may be delisted')\n"
     ]
    },
    {
     "name": "stdout",
     "output_type": "stream",
     "text": [
      "Empty DataFrame\n",
      "Columns: [Open, High, Low, Close, Adj Close, Volume]\n",
      "Index: []\n"
     ]
    },
    {
     "name": "stderr",
     "output_type": "stream",
     "text": [
      "[*********************100%%**********************]  1 of 1 completed\n",
      "\n",
      "1 Failed download:\n",
      "['G7154B123']: Exception('%ticker%: No timezone found, symbol may be delisted')\n"
     ]
    },
    {
     "name": "stdout",
     "output_type": "stream",
     "text": [
      "Empty DataFrame\n",
      "Columns: [Open, High, Low, Close, Adj Close, Volume]\n",
      "Index: []\n"
     ]
    },
    {
     "name": "stderr",
     "output_type": "stream",
     "text": [
      "[*********************100%%**********************]  1 of 1 completed\n",
      "\n",
      "1 Failed download:\n",
      "['92244F208']: Exception('%ticker%: No timezone found, symbol may be delisted')\n",
      "c:\\Users\\ziggy\\anaconda3\\Lib\\site-packages\\yfinance\\utils.py:775: FutureWarning: The 'unit' keyword in TimedeltaIndex construction is deprecated and will be removed in a future version. Use pd.to_timedelta instead.\n",
      "  df.index += _pd.TimedeltaIndex(dst_error_hours, 'h')\n",
      "[*********************100%%**********************]  1 of 1 completed\n"
     ]
    },
    {
     "name": "stdout",
     "output_type": "stream",
     "text": [
      "Empty DataFrame\n",
      "Columns: [Open, High, Low, Close, Adj Close, Volume]\n",
      "Index: []\n",
      "             Open   High    Low  Close  Adj Close  Volume\n",
      "Date                                                     \n",
      "2021-01-06  14.26  14.28  14.10  14.19  13.510756   26300\n",
      "2021-01-07  14.26  14.27  14.05  14.09  13.415543   54000\n",
      "2021-01-08  14.21  14.21  14.08  14.09  13.415543   22700\n",
      "2021-01-11  14.03  14.10  14.03  14.05  13.377459   30200\n",
      "2021-01-12  14.13  14.13  14.03  14.03  13.358416   14200\n",
      "...           ...    ...    ...    ...        ...     ...\n",
      "2021-12-30  14.88  14.94  14.88  14.90  14.794684   24300\n",
      "2021-12-31  14.98  14.98  14.72  14.79  14.685462   32400\n",
      "2022-01-03  14.74  14.97  14.60  14.62  14.516664   35500\n",
      "2022-01-04  14.60  14.63  14.53  14.56  14.457088   21500\n",
      "2022-01-05  14.59  14.59  14.43  14.44  14.337935   62000\n",
      "\n",
      "[253 rows x 6 columns]\n"
     ]
    },
    {
     "name": "stderr",
     "output_type": "stream",
     "text": [
      "[*********************100%%**********************]  1 of 1 completed\n",
      "\n",
      "1 Failed download:\n",
      "['G8372A111']: Exception('%ticker%: No timezone found, symbol may be delisted')\n"
     ]
    },
    {
     "name": "stdout",
     "output_type": "stream",
     "text": [
      "Empty DataFrame\n",
      "Columns: [Open, High, Low, Close, Adj Close, Volume]\n",
      "Index: []\n"
     ]
    },
    {
     "name": "stderr",
     "output_type": "stream",
     "text": [
      "[*********************100%%**********************]  1 of 1 completed\n",
      "\n",
      "1 Failed download:\n",
      "['855179206']: Exception('%ticker%: No timezone found, symbol may be delisted')\n"
     ]
    },
    {
     "name": "stdout",
     "output_type": "stream",
     "text": [
      "Empty DataFrame\n",
      "Columns: [Open, High, Low, Close, Adj Close, Volume]\n",
      "Index: []\n"
     ]
    },
    {
     "name": "stderr",
     "output_type": "stream",
     "text": [
      "[*********************100%%**********************]  1 of 1 completed\n",
      "\n",
      "1 Failed download:\n",
      "['10920K200']: Exception('%ticker%: No timezone found, symbol may be delisted')\n"
     ]
    },
    {
     "name": "stdout",
     "output_type": "stream",
     "text": [
      "Empty DataFrame\n",
      "Columns: [Open, High, Low, Close, Adj Close, Volume]\n",
      "Index: []\n"
     ]
    },
    {
     "name": "stderr",
     "output_type": "stream",
     "text": [
      "[*********************100%%**********************]  1 of 1 completed\n",
      "\n",
      "1 Failed download:\n",
      "['22877P207']: Exception('%ticker%: No timezone found, symbol may be delisted')\n"
     ]
    },
    {
     "name": "stdout",
     "output_type": "stream",
     "text": [
      "Empty DataFrame\n",
      "Columns: [Open, High, Low, Close, Adj Close, Volume]\n",
      "Index: []\n"
     ]
    },
    {
     "name": "stderr",
     "output_type": "stream",
     "text": [
      "[*********************100%%**********************]  1 of 1 completed\n",
      "\n",
      "1 Failed download:\n",
      "['G52110122']: Exception('%ticker%: No timezone found, symbol may be delisted')\n"
     ]
    },
    {
     "name": "stdout",
     "output_type": "stream",
     "text": [
      "Empty DataFrame\n",
      "Columns: [Open, High, Low, Close, Adj Close, Volume]\n",
      "Index: []\n"
     ]
    },
    {
     "name": "stderr",
     "output_type": "stream",
     "text": [
      "[*********************100%%**********************]  1 of 1 completed\n",
      "\n",
      "1 Failed download:\n",
      "['08179B202']: Exception('%ticker%: No timezone found, symbol may be delisted')\n"
     ]
    },
    {
     "name": "stdout",
     "output_type": "stream",
     "text": [
      "Empty DataFrame\n",
      "Columns: [Open, High, Low, Close, Adj Close, Volume]\n",
      "Index: []\n"
     ]
    },
    {
     "name": "stderr",
     "output_type": "stream",
     "text": [
      "[*********************100%%**********************]  1 of 1 completed\n",
      "\n",
      "1 Failed download:\n",
      "['34964G206']: Exception('%ticker%: No timezone found, symbol may be delisted')\n"
     ]
    },
    {
     "name": "stdout",
     "output_type": "stream",
     "text": [
      "Empty DataFrame\n",
      "Columns: [Open, High, Low, Close, Adj Close, Volume]\n",
      "Index: []\n"
     ]
    },
    {
     "name": "stderr",
     "output_type": "stream",
     "text": [
      "[*********************100%%**********************]  1 of 1 completed\n",
      "\n",
      "1 Failed download:\n",
      "['92280L200']: Exception('%ticker%: No timezone found, symbol may be delisted')\n"
     ]
    },
    {
     "name": "stdout",
     "output_type": "stream",
     "text": [
      "Empty DataFrame\n",
      "Columns: [Open, High, Low, Close, Adj Close, Volume]\n",
      "Index: []\n"
     ]
    },
    {
     "name": "stderr",
     "output_type": "stream",
     "text": [
      "[*********************100%%**********************]  1 of 1 completed\n",
      "\n",
      "1 Failed download:\n",
      "['92853V205']: Exception('%ticker%: No timezone found, symbol may be delisted')\n"
     ]
    },
    {
     "name": "stdout",
     "output_type": "stream",
     "text": [
      "Empty DataFrame\n",
      "Columns: [Open, High, Low, Close, Adj Close, Volume]\n",
      "Index: []\n"
     ]
    },
    {
     "name": "stderr",
     "output_type": "stream",
     "text": [
      "[*********************100%%**********************]  1 of 1 completed\n",
      "\n",
      "1 Failed download:\n",
      "['42227K203']: Exception('%ticker%: No timezone found, symbol may be delisted')\n"
     ]
    },
    {
     "name": "stdout",
     "output_type": "stream",
     "text": [
      "Empty DataFrame\n",
      "Columns: [Open, High, Low, Close, Adj Close, Volume]\n",
      "Index: []\n"
     ]
    },
    {
     "name": "stderr",
     "output_type": "stream",
     "text": [
      "[*********************100%%**********************]  1 of 1 completed\n",
      "\n",
      "1 Failed download:\n",
      "['12520T201']: Exception('%ticker%: No timezone found, symbol may be delisted')\n"
     ]
    },
    {
     "name": "stdout",
     "output_type": "stream",
     "text": [
      "Empty DataFrame\n",
      "Columns: [Open, High, Low, Close, Adj Close, Volume]\n",
      "Index: []\n"
     ]
    },
    {
     "name": "stderr",
     "output_type": "stream",
     "text": [
      "[*********************100%%**********************]  1 of 1 completed\n",
      "\n",
      "1 Failed download:\n",
      "['81786A206']: Exception('%ticker%: No timezone found, symbol may be delisted')\n"
     ]
    },
    {
     "name": "stdout",
     "output_type": "stream",
     "text": [
      "Empty DataFrame\n",
      "Columns: [Open, High, Low, Close, Adj Close, Volume]\n",
      "Index: []\n"
     ]
    },
    {
     "name": "stderr",
     "output_type": "stream",
     "text": [
      "[*********************100%%**********************]  1 of 1 completed\n",
      "\n",
      "1 Failed download:\n",
      "['00461L204']: Exception('%ticker%: No timezone found, symbol may be delisted')\n"
     ]
    },
    {
     "name": "stdout",
     "output_type": "stream",
     "text": [
      "Empty DataFrame\n",
      "Columns: [Open, High, Low, Close, Adj Close, Volume]\n",
      "Index: []\n"
     ]
    },
    {
     "name": "stderr",
     "output_type": "stream",
     "text": [
      "[*********************100%%**********************]  1 of 1 completed\n",
      "\n",
      "1 Failed download:\n",
      "['265334201']: Exception('%ticker%: No timezone found, symbol may be delisted')\n"
     ]
    },
    {
     "name": "stdout",
     "output_type": "stream",
     "text": [
      "Empty DataFrame\n",
      "Columns: [Open, High, Low, Close, Adj Close, Volume]\n",
      "Index: []\n"
     ]
    },
    {
     "name": "stderr",
     "output_type": "stream",
     "text": [
      "[*********************100%%**********************]  1 of 1 completed\n",
      "\n",
      "1 Failed download:\n",
      "['58507N204']: Exception('%ticker%: No timezone found, symbol may be delisted')\n"
     ]
    },
    {
     "name": "stdout",
     "output_type": "stream",
     "text": [
      "Empty DataFrame\n",
      "Columns: [Open, High, Low, Close, Adj Close, Volume]\n",
      "Index: []\n"
     ]
    },
    {
     "name": "stderr",
     "output_type": "stream",
     "text": [
      "[*********************100%%**********************]  1 of 1 completed\n",
      "\n",
      "1 Failed download:\n",
      "['38102H208']: Exception('%ticker%: No timezone found, symbol may be delisted')\n"
     ]
    },
    {
     "name": "stdout",
     "output_type": "stream",
     "text": [
      "Empty DataFrame\n",
      "Columns: [Open, High, Low, Close, Adj Close, Volume]\n",
      "Index: []\n"
     ]
    },
    {
     "name": "stderr",
     "output_type": "stream",
     "text": [
      "[*********************100%%**********************]  1 of 1 completed\n",
      "\n",
      "1 Failed download:\n",
      "['81787X205']: Exception('%ticker%: No timezone found, symbol may be delisted')\n"
     ]
    },
    {
     "name": "stdout",
     "output_type": "stream",
     "text": [
      "Empty DataFrame\n",
      "Columns: [Open, High, Low, Close, Adj Close, Volume]\n",
      "Index: []\n"
     ]
    },
    {
     "name": "stderr",
     "output_type": "stream",
     "text": [
      "[*********************100%%**********************]  1 of 1 completed\n",
      "\n",
      "1 Failed download:\n",
      "['457817302']: Exception('%ticker%: No timezone found, symbol may be delisted')\n"
     ]
    },
    {
     "name": "stdout",
     "output_type": "stream",
     "text": [
      "Empty DataFrame\n",
      "Columns: [Open, High, Low, Close, Adj Close, Volume]\n",
      "Index: []\n"
     ]
    },
    {
     "name": "stderr",
     "output_type": "stream",
     "text": [
      "[*********************100%%**********************]  1 of 1 completed\n",
      "\n",
      "1 Failed download:\n",
      "['G31067120']: Exception('%ticker%: No timezone found, symbol may be delisted')\n"
     ]
    },
    {
     "name": "stdout",
     "output_type": "stream",
     "text": [
      "Empty DataFrame\n",
      "Columns: [Open, High, Low, Close, Adj Close, Volume]\n",
      "Index: []\n"
     ]
    },
    {
     "name": "stderr",
     "output_type": "stream",
     "text": [
      "[*********************100%%**********************]  1 of 1 completed\n",
      "\n",
      "1 Failed download:\n",
      "['G2425N121']: Exception('%ticker%: No timezone found, symbol may be delisted')\n"
     ]
    },
    {
     "name": "stdout",
     "output_type": "stream",
     "text": [
      "Empty DataFrame\n",
      "Columns: [Open, High, Low, Close, Adj Close, Volume]\n",
      "Index: []\n"
     ]
    },
    {
     "name": "stderr",
     "output_type": "stream",
     "text": [
      "[*********************100%%**********************]  1 of 1 completed\n",
      "\n",
      "1 Failed download:\n",
      "['09607T203']: Exception('%ticker%: No timezone found, symbol may be delisted')\n"
     ]
    },
    {
     "name": "stdout",
     "output_type": "stream",
     "text": [
      "Empty DataFrame\n",
      "Columns: [Open, High, Low, Close, Adj Close, Volume]\n",
      "Index: []\n"
     ]
    },
    {
     "name": "stderr",
     "output_type": "stream",
     "text": [
      "[*********************100%%**********************]  1 of 1 completed\n",
      "\n",
      "1 Failed download:\n",
      "['49714K208']: Exception('%ticker%: No timezone found, symbol may be delisted')\n"
     ]
    },
    {
     "name": "stdout",
     "output_type": "stream",
     "text": [
      "Empty DataFrame\n",
      "Columns: [Open, High, Low, Close, Adj Close, Volume]\n",
      "Index: []\n"
     ]
    },
    {
     "name": "stderr",
     "output_type": "stream",
     "text": [
      "[*********************100%%**********************]  1 of 1 completed\n",
      "\n",
      "1 Failed download:\n",
      "['17144T206']: Exception('%ticker%: No timezone found, symbol may be delisted')\n"
     ]
    },
    {
     "name": "stdout",
     "output_type": "stream",
     "text": [
      "Empty DataFrame\n",
      "Columns: [Open, High, Low, Close, Adj Close, Volume]\n",
      "Index: []\n"
     ]
    },
    {
     "name": "stderr",
     "output_type": "stream",
     "text": [
      "[*********************100%%**********************]  1 of 1 completed\n",
      "\n",
      "1 Failed download:\n",
      "['G0404A128']: Exception('%ticker%: No timezone found, symbol may be delisted')\n"
     ]
    },
    {
     "name": "stdout",
     "output_type": "stream",
     "text": [
      "Empty DataFrame\n",
      "Columns: [Open, High, Low, Close, Adj Close, Volume]\n",
      "Index: []\n"
     ]
    },
    {
     "name": "stderr",
     "output_type": "stream",
     "text": [
      "[*********************100%%**********************]  1 of 1 completed\n",
      "\n",
      "1 Failed download:\n",
      "['G58442115']: Exception('%ticker%: No timezone found, symbol may be delisted')\n"
     ]
    },
    {
     "name": "stdout",
     "output_type": "stream",
     "text": [
      "Empty DataFrame\n",
      "Columns: [Open, High, Low, Close, Adj Close, Volume]\n",
      "Index: []\n"
     ]
    },
    {
     "name": "stderr",
     "output_type": "stream",
     "text": [
      "[*********************100%%**********************]  1 of 1 completed\n",
      "\n",
      "1 Failed download:\n",
      "['12510J205']: Exception('%ticker%: No timezone found, symbol may be delisted')\n"
     ]
    },
    {
     "name": "stdout",
     "output_type": "stream",
     "text": [
      "Empty DataFrame\n",
      "Columns: [Open, High, Low, Close, Adj Close, Volume]\n",
      "Index: []\n"
     ]
    },
    {
     "name": "stderr",
     "output_type": "stream",
     "text": [
      "[*********************100%%**********************]  1 of 1 completed\n",
      "\n",
      "1 Failed download:\n",
      "['28139A201']: Exception('%ticker%: No timezone found, symbol may be delisted')\n"
     ]
    },
    {
     "name": "stdout",
     "output_type": "stream",
     "text": [
      "Empty DataFrame\n",
      "Columns: [Open, High, Low, Close, Adj Close, Volume]\n",
      "Index: []\n"
     ]
    },
    {
     "name": "stderr",
     "output_type": "stream",
     "text": [
      "[*********************100%%**********************]  1 of 1 completed\n",
      "\n",
      "1 Failed download:\n",
      "['24803C201']: Exception('%ticker%: No timezone found, symbol may be delisted')\n"
     ]
    },
    {
     "name": "stdout",
     "output_type": "stream",
     "text": [
      "Empty DataFrame\n",
      "Columns: [Open, High, Low, Close, Adj Close, Volume]\n",
      "Index: []\n"
     ]
    },
    {
     "name": "stderr",
     "output_type": "stream",
     "text": [
      "[*********************100%%**********************]  1 of 1 completed\n",
      "\n",
      "1 Failed download:\n",
      "['38286R204']: Exception('%ticker%: No timezone found, symbol may be delisted')\n"
     ]
    },
    {
     "name": "stdout",
     "output_type": "stream",
     "text": [
      "Empty DataFrame\n",
      "Columns: [Open, High, Low, Close, Adj Close, Volume]\n",
      "Index: []\n"
     ]
    },
    {
     "name": "stderr",
     "output_type": "stream",
     "text": [
      "[*********************100%%**********************]  1 of 1 completed\n",
      "\n",
      "1 Failed download:\n",
      "['88332T209']: Exception('%ticker%: No timezone found, symbol may be delisted')\n"
     ]
    },
    {
     "name": "stdout",
     "output_type": "stream",
     "text": [
      "Empty DataFrame\n",
      "Columns: [Open, High, Low, Close, Adj Close, Volume]\n",
      "Index: []\n"
     ]
    },
    {
     "name": "stderr",
     "output_type": "stream",
     "text": [
      "[*********************100%%**********************]  1 of 1 completed\n",
      "\n",
      "1 Failed download:\n",
      "['G76083115']: Exception('%ticker%: No timezone found, symbol may be delisted')\n"
     ]
    },
    {
     "name": "stdout",
     "output_type": "stream",
     "text": [
      "Empty DataFrame\n",
      "Columns: [Open, High, Low, Close, Adj Close, Volume]\n",
      "Index: []\n"
     ]
    },
    {
     "name": "stderr",
     "output_type": "stream",
     "text": [
      "[*********************100%%**********************]  1 of 1 completed\n",
      "\n",
      "1 Failed download:\n",
      "['379582208']: Exception('%ticker%: No timezone found, symbol may be delisted')\n"
     ]
    },
    {
     "name": "stdout",
     "output_type": "stream",
     "text": [
      "Empty DataFrame\n",
      "Columns: [Open, High, Low, Close, Adj Close, Volume]\n",
      "Index: []\n"
     ]
    },
    {
     "name": "stderr",
     "output_type": "stream",
     "text": [
      "[*********************100%%**********************]  1 of 1 completed\n",
      "\n",
      "1 Failed download:\n",
      "['778673202']: Exception('%ticker%: No timezone found, symbol may be delisted')\n"
     ]
    },
    {
     "name": "stdout",
     "output_type": "stream",
     "text": [
      "Empty DataFrame\n",
      "Columns: [Open, High, Low, Close, Adj Close, Volume]\n",
      "Index: []\n"
     ]
    },
    {
     "name": "stderr",
     "output_type": "stream",
     "text": [
      "[*********************100%%**********************]  1 of 1 completed\n",
      "\n",
      "1 Failed download:\n",
      "['81723H207']: Exception('%ticker%: No timezone found, symbol may be delisted')\n"
     ]
    },
    {
     "name": "stdout",
     "output_type": "stream",
     "text": [
      "Empty DataFrame\n",
      "Columns: [Open, High, Low, Close, Adj Close, Volume]\n",
      "Index: []\n"
     ]
    },
    {
     "name": "stderr",
     "output_type": "stream",
     "text": [
      "[*********************100%%**********************]  1 of 1 completed\n",
      "\n",
      "1 Failed download:\n",
      "['G6293A129']: Exception('%ticker%: No timezone found, symbol may be delisted')\n"
     ]
    },
    {
     "name": "stdout",
     "output_type": "stream",
     "text": [
      "Empty DataFrame\n",
      "Columns: [Open, High, Low, Close, Adj Close, Volume]\n",
      "Index: []\n"
     ]
    },
    {
     "name": "stderr",
     "output_type": "stream",
     "text": [
      "[*********************100%%**********************]  1 of 1 completed\n",
      "\n",
      "1 Failed download:\n",
      "['143636207']: Exception('%ticker%: No timezone found, symbol may be delisted')\n"
     ]
    },
    {
     "name": "stdout",
     "output_type": "stream",
     "text": [
      "Empty DataFrame\n",
      "Columns: [Open, High, Low, Close, Adj Close, Volume]\n",
      "Index: []\n"
     ]
    },
    {
     "name": "stderr",
     "output_type": "stream",
     "text": [
      "[*********************100%%**********************]  1 of 1 completed\n",
      "\n",
      "1 Failed download:\n",
      "['713895209']: Exception('%ticker%: No timezone found, symbol may be delisted')\n"
     ]
    },
    {
     "name": "stdout",
     "output_type": "stream",
     "text": [
      "Empty DataFrame\n",
      "Columns: [Open, High, Low, Close, Adj Close, Volume]\n",
      "Index: []\n"
     ]
    },
    {
     "name": "stderr",
     "output_type": "stream",
     "text": [
      "[*********************100%%**********************]  1 of 1 completed\n",
      "\n",
      "1 Failed download:\n",
      "['G3710A121']: Exception('%ticker%: No timezone found, symbol may be delisted')\n"
     ]
    },
    {
     "name": "stdout",
     "output_type": "stream",
     "text": [
      "Empty DataFrame\n",
      "Columns: [Open, High, Low, Close, Adj Close, Volume]\n",
      "Index: []\n"
     ]
    },
    {
     "name": "stderr",
     "output_type": "stream",
     "text": [
      "[*********************100%%**********************]  1 of 1 completed\n",
      "\n",
      "1 Failed download:\n",
      "['02156Y202']: Exception('%ticker%: No timezone found, symbol may be delisted')\n"
     ]
    },
    {
     "name": "stdout",
     "output_type": "stream",
     "text": [
      "Empty DataFrame\n",
      "Columns: [Open, High, Low, Close, Adj Close, Volume]\n",
      "Index: []\n"
     ]
    },
    {
     "name": "stderr",
     "output_type": "stream",
     "text": [
      "[*********************100%%**********************]  1 of 1 completed\n",
      "\n",
      "1 Failed download:\n",
      "['629070202']: Exception('%ticker%: No timezone found, symbol may be delisted')\n"
     ]
    },
    {
     "name": "stdout",
     "output_type": "stream",
     "text": [
      "Empty DataFrame\n",
      "Columns: [Open, High, Low, Close, Adj Close, Volume]\n",
      "Index: []\n"
     ]
    },
    {
     "name": "stderr",
     "output_type": "stream",
     "text": [
      "[*********************100%%**********************]  1 of 1 completed\n",
      "\n",
      "1 Failed download:\n",
      "['44487N208']: Exception('%ticker%: No timezone found, symbol may be delisted')\n"
     ]
    },
    {
     "name": "stdout",
     "output_type": "stream",
     "text": [
      "Empty DataFrame\n",
      "Columns: [Open, High, Low, Close, Adj Close, Volume]\n",
      "Index: []\n"
     ]
    },
    {
     "name": "stderr",
     "output_type": "stream",
     "text": [
      "[*********************100%%**********************]  1 of 1 completed\n",
      "\n",
      "1 Failed download:\n",
      "['62477L206']: Exception('%ticker%: No timezone found, symbol may be delisted')\n"
     ]
    },
    {
     "name": "stdout",
     "output_type": "stream",
     "text": [
      "Empty DataFrame\n",
      "Columns: [Open, High, Low, Close, Adj Close, Volume]\n",
      "Index: []\n"
     ]
    },
    {
     "name": "stderr",
     "output_type": "stream",
     "text": [
      "[*********************100%%**********************]  1 of 1 completed\n",
      "\n",
      "1 Failed download:\n",
      "['206071201']: Exception('%ticker%: No timezone found, symbol may be delisted')\n"
     ]
    },
    {
     "name": "stdout",
     "output_type": "stream",
     "text": [
      "Empty DataFrame\n",
      "Columns: [Open, High, Low, Close, Adj Close, Volume]\n",
      "Index: []\n"
     ]
    },
    {
     "name": "stderr",
     "output_type": "stream",
     "text": [
      "[*********************100%%**********************]  1 of 1 completed\n",
      "\n",
      "1 Failed download:\n",
      "['23318M209']: Exception('%ticker%: No timezone found, symbol may be delisted')\n"
     ]
    },
    {
     "name": "stdout",
     "output_type": "stream",
     "text": [
      "Empty DataFrame\n",
      "Columns: [Open, High, Low, Close, Adj Close, Volume]\n",
      "Index: []\n"
     ]
    },
    {
     "name": "stderr",
     "output_type": "stream",
     "text": [
      "[*********************100%%**********************]  1 of 1 completed\n",
      "\n",
      "1 Failed download:\n",
      "['76156P205']: Exception('%ticker%: No timezone found, symbol may be delisted')\n"
     ]
    },
    {
     "name": "stdout",
     "output_type": "stream",
     "text": [
      "Empty DataFrame\n",
      "Columns: [Open, High, Low, Close, Adj Close, Volume]\n",
      "Index: []\n"
     ]
    },
    {
     "name": "stderr",
     "output_type": "stream",
     "text": [
      "[*********************100%%**********************]  1 of 1 completed\n",
      "\n",
      "1 Failed download:\n",
      "['743497208']: Exception('%ticker%: No timezone found, symbol may be delisted')\n"
     ]
    },
    {
     "name": "stdout",
     "output_type": "stream",
     "text": [
      "Empty DataFrame\n",
      "Columns: [Open, High, Low, Close, Adj Close, Volume]\n",
      "Index: []\n"
     ]
    },
    {
     "name": "stderr",
     "output_type": "stream",
     "text": [
      "[*********************100%%**********************]  1 of 1 completed\n",
      "\n",
      "1 Failed download:\n",
      "['31810Q305']: Exception('%ticker%: No timezone found, symbol may be delisted')\n"
     ]
    },
    {
     "name": "stdout",
     "output_type": "stream",
     "text": [
      "Empty DataFrame\n",
      "Columns: [Open, High, Low, Close, Adj Close, Volume]\n",
      "Index: []\n"
     ]
    },
    {
     "name": "stderr",
     "output_type": "stream",
     "text": [
      "[*********************100%%**********************]  1 of 1 completed\n",
      "\n",
      "1 Failed download:\n",
      "['14064F209']: Exception('%ticker%: No timezone found, symbol may be delisted')\n"
     ]
    },
    {
     "name": "stdout",
     "output_type": "stream",
     "text": [
      "Empty DataFrame\n",
      "Columns: [Open, High, Low, Close, Adj Close, Volume]\n",
      "Index: []\n"
     ]
    },
    {
     "name": "stderr",
     "output_type": "stream",
     "text": [
      "[*********************100%%**********************]  1 of 1 completed\n",
      "\n",
      "1 Failed download:\n",
      "['53804W205']: Exception('%ticker%: No timezone found, symbol may be delisted')\n"
     ]
    },
    {
     "name": "stdout",
     "output_type": "stream",
     "text": [
      "Empty DataFrame\n",
      "Columns: [Open, High, Low, Close, Adj Close, Volume]\n",
      "Index: []\n"
     ]
    },
    {
     "name": "stderr",
     "output_type": "stream",
     "text": [
      "[*********************100%%**********************]  1 of 1 completed\n",
      "\n",
      "1 Failed download:\n",
      "['G44690116']: Exception('%ticker%: No timezone found, symbol may be delisted')\n"
     ]
    },
    {
     "name": "stdout",
     "output_type": "stream",
     "text": [
      "Empty DataFrame\n",
      "Columns: [Open, High, Low, Close, Adj Close, Volume]\n",
      "Index: []\n"
     ]
    },
    {
     "name": "stderr",
     "output_type": "stream",
     "text": [
      "[*********************100%%**********************]  1 of 1 completed\n",
      "\n",
      "1 Failed download:\n",
      "['774873202']: Exception('%ticker%: No timezone found, symbol may be delisted')\n"
     ]
    },
    {
     "name": "stdout",
     "output_type": "stream",
     "text": [
      "Empty DataFrame\n",
      "Columns: [Open, High, Low, Close, Adj Close, Volume]\n",
      "Index: []\n"
     ]
    },
    {
     "name": "stderr",
     "output_type": "stream",
     "text": [
      "[*********************100%%**********************]  1 of 1 completed\n",
      "\n",
      "1 Failed download:\n",
      "['G3312L129']: Exception('%ticker%: No timezone found, symbol may be delisted')\n",
      "[*********************100%%**********************]  1 of 1 completed\n",
      "\n",
      "1 Failed download:\n",
      "['G58442115']: Exception('%ticker%: No timezone found, symbol may be delisted')\n"
     ]
    },
    {
     "name": "stdout",
     "output_type": "stream",
     "text": [
      "Empty DataFrame\n",
      "Columns: [Open, High, Low, Close, Adj Close, Volume]\n",
      "Index: []\n",
      "Empty DataFrame\n",
      "Columns: [Open, High, Low, Close, Adj Close, Volume]\n",
      "Index: []\n"
     ]
    },
    {
     "name": "stderr",
     "output_type": "stream",
     "text": [
      "[*********************100%%**********************]  1 of 1 completed\n",
      "\n",
      "1 Failed download:\n",
      "['G9095M119']: Exception('%ticker%: No timezone found, symbol may be delisted')\n"
     ]
    },
    {
     "name": "stdout",
     "output_type": "stream",
     "text": [
      "Empty DataFrame\n",
      "Columns: [Open, High, Low, Close, Adj Close, Volume]\n",
      "Index: []\n"
     ]
    },
    {
     "name": "stderr",
     "output_type": "stream",
     "text": [
      "[*********************100%%**********************]  1 of 1 completed\n",
      "\n",
      "1 Failed download:\n",
      "['812227205']: Exception('%ticker%: No timezone found, symbol may be delisted')\n"
     ]
    },
    {
     "name": "stdout",
     "output_type": "stream",
     "text": [
      "Empty DataFrame\n",
      "Columns: [Open, High, Low, Close, Adj Close, Volume]\n",
      "Index: []\n"
     ]
    },
    {
     "name": "stderr",
     "output_type": "stream",
     "text": [
      "[*********************100%%**********************]  1 of 1 completed\n",
      "\n",
      "1 Failed download:\n",
      "['88025V206']: Exception('%ticker%: No timezone found, symbol may be delisted')\n"
     ]
    },
    {
     "name": "stdout",
     "output_type": "stream",
     "text": [
      "Empty DataFrame\n",
      "Columns: [Open, High, Low, Close, Adj Close, Volume]\n",
      "Index: []\n"
     ]
    },
    {
     "name": "stderr",
     "output_type": "stream",
     "text": [
      "[*********************100%%**********************]  1 of 1 completed\n",
      "\n",
      "1 Failed download:\n",
      "['34619R201']: Exception('%ticker%: No timezone found, symbol may be delisted')\n"
     ]
    },
    {
     "name": "stdout",
     "output_type": "stream",
     "text": [
      "Empty DataFrame\n",
      "Columns: [Open, High, Low, Close, Adj Close, Volume]\n",
      "Index: []\n"
     ]
    },
    {
     "name": "stderr",
     "output_type": "stream",
     "text": [
      "[*********************100%%**********************]  1 of 1 completed\n",
      "\n",
      "1 Failed download:\n",
      "['846775203']: Exception('%ticker%: No timezone found, symbol may be delisted')\n",
      "c:\\Users\\ziggy\\anaconda3\\Lib\\site-packages\\yfinance\\utils.py:775: FutureWarning: The 'unit' keyword in TimedeltaIndex construction is deprecated and will be removed in a future version. Use pd.to_timedelta instead.\n",
      "  df.index += _pd.TimedeltaIndex(dst_error_hours, 'h')\n",
      "[*********************100%%**********************]  1 of 1 completed\n",
      "c:\\Users\\ziggy\\anaconda3\\Lib\\site-packages\\yfinance\\utils.py:775: FutureWarning: The 'unit' keyword in TimedeltaIndex construction is deprecated and will be removed in a future version. Use pd.to_timedelta instead.\n",
      "  df.index += _pd.TimedeltaIndex(dst_error_hours, 'h')\n",
      "[*********************100%%**********************]  1 of 1 completed\n"
     ]
    },
    {
     "name": "stdout",
     "output_type": "stream",
     "text": [
      "Empty DataFrame\n",
      "Columns: [Open, High, Low, Close, Adj Close, Volume]\n",
      "Index: []\n",
      "             Open   High    Low  Close  Adj Close  Volume\n",
      "Date                                                     \n",
      "2020-11-23  13.58  13.62  13.55  13.62  12.920451   67000\n",
      "2020-11-24  13.69  13.70  13.61  13.65  12.948910   37300\n",
      "2020-11-25  13.79  13.83  13.69  13.78  13.072233   86000\n",
      "2020-11-27  13.83  13.85  13.82  13.85  13.138636   23400\n",
      "2020-11-30  13.85  13.96  13.79  13.93  13.214529  100400\n",
      "...           ...    ...    ...    ...        ...     ...\n",
      "2021-11-16  14.68  14.68  14.43  14.49  14.339624   40300\n",
      "2021-11-17  14.57  14.70  14.50  14.70  14.547444   27600\n",
      "2021-11-18  14.67  14.72  14.66  14.69  14.537548   19400\n",
      "2021-11-19  14.59  14.64  14.54  14.56  14.408897   24400\n",
      "2021-11-22  14.64  14.70  14.53  14.59  14.438586   20700\n",
      "\n",
      "[252 rows x 6 columns]\n",
      "             Open   High    Low  Close  Adj Close  Volume\n",
      "Date                                                     \n",
      "2020-11-23  13.58  13.62  13.55  13.62  12.920451   67000\n",
      "2020-11-24  13.69  13.70  13.61  13.65  12.948910   37300\n",
      "2020-11-25  13.79  13.83  13.69  13.78  13.072233   86000\n",
      "2020-11-27  13.83  13.85  13.82  13.85  13.138636   23400\n",
      "2020-11-30  13.85  13.96  13.79  13.93  13.214529  100400\n",
      "...           ...    ...    ...    ...        ...     ...\n",
      "2021-11-16  14.68  14.68  14.43  14.49  14.339624   40300\n",
      "2021-11-17  14.57  14.70  14.50  14.70  14.547444   27600\n",
      "2021-11-18  14.67  14.72  14.66  14.69  14.537548   19400\n",
      "2021-11-19  14.59  14.64  14.54  14.56  14.408897   24400\n",
      "2021-11-22  14.64  14.70  14.53  14.59  14.438586   20700\n",
      "\n",
      "[252 rows x 6 columns]\n"
     ]
    },
    {
     "name": "stderr",
     "output_type": "stream",
     "text": [
      "[*********************100%%**********************]  1 of 1 completed\n",
      "\n",
      "1 Failed download:\n",
      "['106762206']: Exception('%ticker%: No timezone found, symbol may be delisted')\n"
     ]
    },
    {
     "name": "stdout",
     "output_type": "stream",
     "text": [
      "Empty DataFrame\n",
      "Columns: [Open, High, Low, Close, Adj Close, Volume]\n",
      "Index: []\n"
     ]
    },
    {
     "name": "stderr",
     "output_type": "stream",
     "text": [
      "[*********************100%%**********************]  1 of 1 completed\n",
      "\n",
      "1 Failed download:\n",
      "['G88672129']: Exception('%ticker%: No timezone found, symbol may be delisted')\n",
      "c:\\Users\\ziggy\\anaconda3\\Lib\\site-packages\\yfinance\\utils.py:775: FutureWarning: The 'unit' keyword in TimedeltaIndex construction is deprecated and will be removed in a future version. Use pd.to_timedelta instead.\n",
      "  df.index += _pd.TimedeltaIndex(dst_error_hours, 'h')\n",
      "[*********************100%%**********************]  1 of 1 completed\n"
     ]
    },
    {
     "name": "stdout",
     "output_type": "stream",
     "text": [
      "Empty DataFrame\n",
      "Columns: [Open, High, Low, Close, Adj Close, Volume]\n",
      "Index: []\n",
      "             Open   High    Low  Close  Adj Close  Volume\n",
      "Date                                                     \n",
      "2020-11-20  13.62  13.62  13.55  13.58  12.882505   45800\n",
      "2020-11-23  13.58  13.62  13.55  13.62  12.920451   67000\n",
      "2020-11-24  13.69  13.70  13.61  13.65  12.948910   37300\n",
      "2020-11-25  13.79  13.83  13.69  13.78  13.072233   86000\n",
      "2020-11-27  13.83  13.85  13.82  13.85  13.138636   23400\n",
      "...           ...    ...    ...    ...        ...     ...\n",
      "2021-11-15  14.72  14.72  14.57  14.64  14.488068   16000\n",
      "2021-11-16  14.68  14.68  14.43  14.49  14.339624   40300\n",
      "2021-11-17  14.57  14.70  14.50  14.70  14.547444   27600\n",
      "2021-11-18  14.67  14.72  14.66  14.69  14.537548   19400\n",
      "2021-11-19  14.59  14.64  14.54  14.56  14.408897   24400\n",
      "\n",
      "[252 rows x 6 columns]\n"
     ]
    },
    {
     "name": "stderr",
     "output_type": "stream",
     "text": [
      "[*********************100%%**********************]  1 of 1 completed\n",
      "\n",
      "1 Failed download:\n",
      "['68218L207']: Exception('%ticker%: No timezone found, symbol may be delisted')\n"
     ]
    },
    {
     "name": "stdout",
     "output_type": "stream",
     "text": [
      "Empty DataFrame\n",
      "Columns: [Open, High, Low, Close, Adj Close, Volume]\n",
      "Index: []\n"
     ]
    },
    {
     "name": "stderr",
     "output_type": "stream",
     "text": [
      "[*********************100%%**********************]  1 of 1 completed\n",
      "\n",
      "1 Failed download:\n",
      "['00775W201']: Exception('%ticker%: No timezone found, symbol may be delisted')\n"
     ]
    },
    {
     "name": "stdout",
     "output_type": "stream",
     "text": [
      "Empty DataFrame\n",
      "Columns: [Open, High, Low, Close, Adj Close, Volume]\n",
      "Index: []\n"
     ]
    },
    {
     "name": "stderr",
     "output_type": "stream",
     "text": [
      "[*********************100%%**********************]  1 of 1 completed\n",
      "\n",
      "1 Failed download:\n",
      "['147151203']: Exception('%ticker%: No timezone found, symbol may be delisted')\n"
     ]
    },
    {
     "name": "stdout",
     "output_type": "stream",
     "text": [
      "Empty DataFrame\n",
      "Columns: [Open, High, Low, Close, Adj Close, Volume]\n",
      "Index: []\n"
     ]
    },
    {
     "name": "stderr",
     "output_type": "stream",
     "text": [
      "[*********************100%%**********************]  1 of 1 completed\n",
      "\n",
      "1 Failed download:\n",
      "['496861204']: Exception('%ticker%: No timezone found, symbol may be delisted')\n",
      "c:\\Users\\ziggy\\anaconda3\\Lib\\site-packages\\yfinance\\utils.py:775: FutureWarning: The 'unit' keyword in TimedeltaIndex construction is deprecated and will be removed in a future version. Use pd.to_timedelta instead.\n",
      "  df.index += _pd.TimedeltaIndex(dst_error_hours, 'h')\n",
      "[*********************100%%**********************]  1 of 1 completed\n"
     ]
    },
    {
     "name": "stdout",
     "output_type": "stream",
     "text": [
      "Empty DataFrame\n",
      "Columns: [Open, High, Low, Close, Adj Close, Volume]\n",
      "Index: []\n",
      "             Open   High    Low  Close  Adj Close  Volume\n",
      "Date                                                     \n",
      "2020-11-18  13.51  13.56  13.50  13.53  12.835074   35000\n",
      "2020-11-19  13.57  13.58  13.52  13.54  12.844562   67800\n",
      "2020-11-20  13.62  13.62  13.55  13.58  12.882505   45800\n",
      "2020-11-23  13.58  13.62  13.55  13.62  12.920451   67000\n",
      "2020-11-24  13.69  13.70  13.61  13.65  12.948910   37300\n",
      "...           ...    ...    ...    ...        ...     ...\n",
      "2021-11-11  14.72  14.74  14.59  14.70  14.499448   16300\n",
      "2021-11-12  14.67  14.74  14.67  14.74  14.587029    7300\n",
      "2021-11-15  14.72  14.72  14.57  14.64  14.488068   16000\n",
      "2021-11-16  14.68  14.68  14.43  14.49  14.339624   40300\n",
      "2021-11-17  14.57  14.70  14.50  14.70  14.547444   27600\n",
      "\n",
      "[252 rows x 6 columns]\n"
     ]
    },
    {
     "name": "stderr",
     "output_type": "stream",
     "text": [
      "[*********************100%%**********************]  1 of 1 completed\n",
      "\n",
      "1 Failed download:\n",
      "['G4771L121']: Exception('%ticker%: No timezone found, symbol may be delisted')\n"
     ]
    },
    {
     "name": "stdout",
     "output_type": "stream",
     "text": [
      "Empty DataFrame\n",
      "Columns: [Open, High, Low, Close, Adj Close, Volume]\n",
      "Index: []\n"
     ]
    },
    {
     "name": "stderr",
     "output_type": "stream",
     "text": [
      "[*********************100%%**********************]  1 of 1 completed\n",
      "\n",
      "1 Failed download:\n",
      "['G53702125']: Exception('%ticker%: No timezone found, symbol may be delisted')\n",
      "c:\\Users\\ziggy\\anaconda3\\Lib\\site-packages\\yfinance\\utils.py:775: FutureWarning: The 'unit' keyword in TimedeltaIndex construction is deprecated and will be removed in a future version. Use pd.to_timedelta instead.\n",
      "  df.index += _pd.TimedeltaIndex(dst_error_hours, 'h')\n",
      "[*********************100%%**********************]  1 of 1 completed\n",
      "c:\\Users\\ziggy\\anaconda3\\Lib\\site-packages\\yfinance\\utils.py:775: FutureWarning: The 'unit' keyword in TimedeltaIndex construction is deprecated and will be removed in a future version. Use pd.to_timedelta instead.\n",
      "  df.index += _pd.TimedeltaIndex(dst_error_hours, 'h')\n",
      "[*********************100%%**********************]  1 of 1 completed\n"
     ]
    },
    {
     "name": "stdout",
     "output_type": "stream",
     "text": [
      "Empty DataFrame\n",
      "Columns: [Open, High, Low, Close, Adj Close, Volume]\n",
      "Index: []\n",
      "             Open   High    Low  Close  Adj Close  Volume\n",
      "Date                                                     \n",
      "2020-11-18  13.51  13.56  13.50  13.53  12.835074   35000\n",
      "2020-11-19  13.57  13.58  13.52  13.54  12.844562   67800\n",
      "2020-11-20  13.62  13.62  13.55  13.58  12.882505   45800\n",
      "2020-11-23  13.58  13.62  13.55  13.62  12.920451   67000\n",
      "2020-11-24  13.69  13.70  13.61  13.65  12.948910   37300\n",
      "...           ...    ...    ...    ...        ...     ...\n",
      "2021-11-11  14.72  14.74  14.59  14.70  14.499448   16300\n",
      "2021-11-12  14.67  14.74  14.67  14.74  14.587029    7300\n",
      "2021-11-15  14.72  14.72  14.57  14.64  14.488068   16000\n",
      "2021-11-16  14.68  14.68  14.43  14.49  14.339624   40300\n",
      "2021-11-17  14.57  14.70  14.50  14.70  14.547444   27600\n",
      "\n",
      "[252 rows x 6 columns]\n",
      "             Open   High    Low  Close  Adj Close  Volume\n",
      "Date                                                     \n",
      "2020-11-18  13.51  13.56  13.50  13.53  12.835074   35000\n",
      "2020-11-19  13.57  13.58  13.52  13.54  12.844562   67800\n",
      "2020-11-20  13.62  13.62  13.55  13.58  12.882505   45800\n",
      "2020-11-23  13.58  13.62  13.55  13.62  12.920451   67000\n",
      "2020-11-24  13.69  13.70  13.61  13.65  12.948910   37300\n",
      "...           ...    ...    ...    ...        ...     ...\n",
      "2021-11-11  14.72  14.74  14.59  14.70  14.499448   16300\n",
      "2021-11-12  14.67  14.74  14.67  14.74  14.587029    7300\n",
      "2021-11-15  14.72  14.72  14.57  14.64  14.488068   16000\n",
      "2021-11-16  14.68  14.68  14.43  14.49  14.339624   40300\n",
      "2021-11-17  14.57  14.70  14.50  14.70  14.547444   27600\n",
      "\n",
      "[252 rows x 6 columns]\n"
     ]
    },
    {
     "name": "stderr",
     "output_type": "stream",
     "text": [
      "[*********************100%%**********************]  1 of 1 completed\n",
      "\n",
      "1 Failed download:\n",
      "['G71716123']: Exception('%ticker%: No timezone found, symbol may be delisted')\n"
     ]
    },
    {
     "name": "stdout",
     "output_type": "stream",
     "text": [
      "Empty DataFrame\n",
      "Columns: [Open, High, Low, Close, Adj Close, Volume]\n",
      "Index: []\n"
     ]
    },
    {
     "name": "stderr",
     "output_type": "stream",
     "text": [
      "[*********************100%%**********************]  1 of 1 completed\n",
      "\n",
      "1 Failed download:\n",
      "['67113Q204']: Exception('%ticker%: No timezone found, symbol may be delisted')\n"
     ]
    },
    {
     "name": "stdout",
     "output_type": "stream",
     "text": [
      "Empty DataFrame\n",
      "Columns: [Open, High, Low, Close, Adj Close, Volume]\n",
      "Index: []\n"
     ]
    },
    {
     "name": "stderr",
     "output_type": "stream",
     "text": [
      "[*********************100%%**********************]  1 of 1 completed\n",
      "\n",
      "1 Failed download:\n",
      "['722615200']: Exception('%ticker%: No timezone found, symbol may be delisted')\n"
     ]
    },
    {
     "name": "stdout",
     "output_type": "stream",
     "text": [
      "Empty DataFrame\n",
      "Columns: [Open, High, Low, Close, Adj Close, Volume]\n",
      "Index: []\n"
     ]
    },
    {
     "name": "stderr",
     "output_type": "stream",
     "text": [
      "[*********************100%%**********************]  1 of 1 completed\n",
      "\n",
      "1 Failed download:\n",
      "['98907K202']: Exception('%ticker%: No timezone found, symbol may be delisted')\n",
      "c:\\Users\\ziggy\\anaconda3\\Lib\\site-packages\\yfinance\\utils.py:775: FutureWarning: The 'unit' keyword in TimedeltaIndex construction is deprecated and will be removed in a future version. Use pd.to_timedelta instead.\n",
      "  df.index += _pd.TimedeltaIndex(dst_error_hours, 'h')\n",
      "[*********************100%%**********************]  1 of 1 completed\n"
     ]
    },
    {
     "name": "stdout",
     "output_type": "stream",
     "text": [
      "Empty DataFrame\n",
      "Columns: [Open, High, Low, Close, Adj Close, Volume]\n",
      "Index: []\n",
      "             Open   High    Low  Close  Adj Close  Volume\n",
      "Date                                                     \n",
      "2020-11-16  13.49  13.52  13.45  13.51  12.816100   26500\n",
      "2020-11-17  13.47  13.57  13.47  13.48  12.787641   55100\n",
      "2020-11-18  13.51  13.56  13.50  13.53  12.835074   35000\n",
      "2020-11-19  13.57  13.58  13.52  13.54  12.844562   67800\n",
      "2020-11-20  13.62  13.62  13.55  13.58  12.882505   45800\n",
      "...           ...    ...    ...    ...        ...     ...\n",
      "2021-11-09  14.72  14.73  14.68  14.73  14.529037   13800\n",
      "2021-11-10  14.70  14.74  14.60  14.67  14.469857   21000\n",
      "2021-11-11  14.72  14.74  14.59  14.70  14.499448   16300\n",
      "2021-11-12  14.67  14.74  14.67  14.74  14.587029    7300\n",
      "2021-11-15  14.72  14.72  14.57  14.64  14.488068   16000\n",
      "\n",
      "[252 rows x 6 columns]\n"
     ]
    },
    {
     "name": "stderr",
     "output_type": "stream",
     "text": [
      "[*********************100%%**********************]  1 of 1 completed\n",
      "\n",
      "1 Failed download:\n",
      "['08772B203']: Exception('%ticker%: No timezone found, symbol may be delisted')\n"
     ]
    },
    {
     "name": "stdout",
     "output_type": "stream",
     "text": [
      "Empty DataFrame\n",
      "Columns: [Open, High, Low, Close, Adj Close, Volume]\n",
      "Index: []\n"
     ]
    },
    {
     "name": "stderr",
     "output_type": "stream",
     "text": [
      "[*********************100%%**********************]  1 of 1 completed\n",
      "\n",
      "1 Failed download:\n",
      "['12529D207']: Exception('%ticker%: No timezone found, symbol may be delisted')\n"
     ]
    },
    {
     "name": "stdout",
     "output_type": "stream",
     "text": [
      "Empty DataFrame\n",
      "Columns: [Open, High, Low, Close, Adj Close, Volume]\n",
      "Index: []\n"
     ]
    },
    {
     "name": "stderr",
     "output_type": "stream",
     "text": [
      "Could not get exchangeTimezoneName for ticker '' reason: list index out of range\n",
      "[*********************100%%**********************]  1 of 1 completed\n",
      "\n",
      "1 Failed download:\n",
      "['']: %ticker%E%ticker%x%ticker%c%ticker%e%ticker%p%ticker%t%ticker%i%ticker%o%ticker%n%ticker%(%ticker%'%ticker%:%ticker% %ticker%N%ticker%o%ticker% %ticker%t%ticker%i%ticker%m%ticker%e%ticker%z%ticker%o%ticker%n%ticker%e%ticker% %ticker%f%ticker%o%ticker%u%ticker%n%ticker%d%ticker%,%ticker% %ticker%s%ticker%y%ticker%m%ticker%b%ticker%o%ticker%l%ticker% %ticker%m%ticker%a%ticker%y%ticker% %ticker%b%ticker%e%ticker% %ticker%d%ticker%e%ticker%l%ticker%i%ticker%s%ticker%t%ticker%e%ticker%d%ticker%'%ticker%)%ticker%\n"
     ]
    },
    {
     "name": "stdout",
     "output_type": "stream",
     "text": [
      "Empty DataFrame\n",
      "Columns: [Open, High, Low, Close, Adj Close, Volume]\n",
      "Index: []\n"
     ]
    },
    {
     "name": "stderr",
     "output_type": "stream",
     "text": [
      "[*********************100%%**********************]  1 of 1 completed\n",
      "\n",
      "1 Failed download:\n",
      "['42226W208']: Exception('%ticker%: No timezone found, symbol may be delisted')\n"
     ]
    },
    {
     "name": "stdout",
     "output_type": "stream",
     "text": [
      "Empty DataFrame\n",
      "Columns: [Open, High, Low, Close, Adj Close, Volume]\n",
      "Index: []\n"
     ]
    },
    {
     "name": "stderr",
     "output_type": "stream",
     "text": [
      "[*********************100%%**********************]  1 of 1 completed\n",
      "\n",
      "1 Failed download:\n",
      "['665742201']: Exception('%ticker%: No timezone found, symbol may be delisted')\n"
     ]
    },
    {
     "name": "stdout",
     "output_type": "stream",
     "text": [
      "Empty DataFrame\n",
      "Columns: [Open, High, Low, Close, Adj Close, Volume]\n",
      "Index: []\n"
     ]
    },
    {
     "name": "stderr",
     "output_type": "stream",
     "text": [
      "[*********************100%%**********************]  1 of 1 completed\n",
      "\n",
      "1 Failed download:\n",
      "['63889L206']: Exception('%ticker%: No timezone found, symbol may be delisted')\n",
      "c:\\Users\\ziggy\\anaconda3\\Lib\\site-packages\\yfinance\\utils.py:775: FutureWarning: The 'unit' keyword in TimedeltaIndex construction is deprecated and will be removed in a future version. Use pd.to_timedelta instead.\n",
      "  df.index += _pd.TimedeltaIndex(dst_error_hours, 'h')\n",
      "[*********************100%%**********************]  1 of 1 completed\n"
     ]
    },
    {
     "name": "stdout",
     "output_type": "stream",
     "text": [
      "Empty DataFrame\n",
      "Columns: [Open, High, Low, Close, Adj Close, Volume]\n",
      "Index: []\n",
      "             Open   High    Low  Close  Adj Close  Volume\n",
      "Date                                                     \n",
      "2020-11-09  13.65  13.80  13.56  13.56  12.814204   48100\n",
      "2020-11-10  13.57  13.62  13.46  13.53  12.785854   53000\n",
      "2020-11-11  13.49  13.56  13.48  13.56  12.814204   24600\n",
      "2020-11-12  13.45  13.55  13.40  13.41  12.721236   48800\n",
      "2020-11-13  13.45  13.49  13.42  13.45  12.759183   63100\n",
      "...           ...    ...    ...    ...        ...     ...\n",
      "2021-11-02  14.24  14.33  14.24  14.31  14.114769   39800\n",
      "2021-11-03  14.32  14.35  14.24  14.28  14.085177   80500\n",
      "2021-11-04  14.35  14.38  14.26  14.38  14.183814   50400\n",
      "2021-11-05  14.46  14.55  14.44  14.48  14.282449   46400\n",
      "2021-11-08  14.56  14.73  14.50  14.69  14.489584   92300\n",
      "\n",
      "[252 rows x 6 columns]\n"
     ]
    },
    {
     "name": "stderr",
     "output_type": "stream",
     "text": [
      "[*********************100%%**********************]  1 of 1 completed\n",
      "\n",
      "1 Failed download:\n",
      "['87284T209']: Exception('%ticker%: No timezone found, symbol may be delisted')\n"
     ]
    },
    {
     "name": "stdout",
     "output_type": "stream",
     "text": [
      "Empty DataFrame\n",
      "Columns: [Open, High, Low, Close, Adj Close, Volume]\n",
      "Index: []\n"
     ]
    },
    {
     "name": "stderr",
     "output_type": "stream",
     "text": [
      "[*********************100%%**********************]  1 of 1 completed\n",
      "\n",
      "1 Failed download:\n",
      "['77584N200']: Exception('%ticker%: No timezone found, symbol may be delisted')\n"
     ]
    },
    {
     "name": "stdout",
     "output_type": "stream",
     "text": [
      "Empty DataFrame\n",
      "Columns: [Open, High, Low, Close, Adj Close, Volume]\n",
      "Index: []\n"
     ]
    },
    {
     "name": "stderr",
     "output_type": "stream",
     "text": [
      "[*********************100%%**********************]  1 of 1 completed\n",
      "\n",
      "1 Failed download:\n",
      "['64222H209']: Exception('%ticker%: No timezone found, symbol may be delisted')\n"
     ]
    },
    {
     "name": "stdout",
     "output_type": "stream",
     "text": [
      "Empty DataFrame\n",
      "Columns: [Open, High, Low, Close, Adj Close, Volume]\n",
      "Index: []\n"
     ]
    },
    {
     "name": "stderr",
     "output_type": "stream",
     "text": [
      "[*********************100%%**********************]  1 of 1 completed\n",
      "\n",
      "1 Failed download:\n",
      "['212873202']: Exception('%ticker%: No timezone found, symbol may be delisted')\n",
      "c:\\Users\\ziggy\\anaconda3\\Lib\\site-packages\\yfinance\\utils.py:775: FutureWarning: The 'unit' keyword in TimedeltaIndex construction is deprecated and will be removed in a future version. Use pd.to_timedelta instead.\n",
      "  df.index += _pd.TimedeltaIndex(dst_error_hours, 'h')\n",
      "[*********************100%%**********************]  1 of 1 completed\n"
     ]
    },
    {
     "name": "stdout",
     "output_type": "stream",
     "text": [
      "Empty DataFrame\n",
      "Columns: [Open, High, Low, Close, Adj Close, Volume]\n",
      "Index: []\n",
      "             Open   High    Low  Close  Adj Close  Volume\n",
      "Date                                                     \n",
      "2020-10-29  13.36  13.36  13.28  13.30  12.568506   39900\n",
      "2020-10-30  13.28  13.30  13.22  13.30  12.568506   53000\n",
      "2020-11-02  13.30  13.30  13.24  13.27  12.540155   66300\n",
      "2020-11-03  13.30  13.35  13.22  13.25  12.521253   82100\n",
      "2020-11-04  13.29  13.45  13.29  13.44  12.700805   32600\n",
      "...           ...    ...    ...    ...        ...     ...\n",
      "2021-10-22  14.37  14.47  14.29  14.43  14.233132   56400\n",
      "2021-10-25  14.44  14.44  14.22  14.25  14.055588   31200\n",
      "2021-10-26  14.23  14.37  14.11  14.20  14.006269   38500\n",
      "2021-10-27  14.22  14.28  14.14  14.22  14.025997   54200\n",
      "2021-10-28  14.25  14.25  14.17  14.22  14.025997   38900\n",
      "\n",
      "[252 rows x 6 columns]\n"
     ]
    },
    {
     "name": "stderr",
     "output_type": "stream",
     "text": [
      "[*********************100%%**********************]  1 of 1 completed\n",
      "\n",
      "1 Failed download:\n",
      "['G28553124']: Exception('%ticker%: No timezone found, symbol may be delisted')\n"
     ]
    },
    {
     "name": "stdout",
     "output_type": "stream",
     "text": [
      "Empty DataFrame\n",
      "Columns: [Open, High, Low, Close, Adj Close, Volume]\n",
      "Index: []\n"
     ]
    },
    {
     "name": "stderr",
     "output_type": "stream",
     "text": [
      "[*********************100%%**********************]  1 of 1 completed\n",
      "\n",
      "1 Failed download:\n",
      "['G1195N121']: Exception('%ticker%: No timezone found, symbol may be delisted')\n"
     ]
    },
    {
     "name": "stdout",
     "output_type": "stream",
     "text": [
      "Empty DataFrame\n",
      "Columns: [Open, High, Low, Close, Adj Close, Volume]\n",
      "Index: []\n"
     ]
    },
    {
     "name": "stderr",
     "output_type": "stream",
     "text": [
      "[*********************100%%**********************]  1 of 1 completed\n",
      "\n",
      "1 Failed download:\n",
      "['561204207']: Exception('%ticker%: No timezone found, symbol may be delisted')\n"
     ]
    },
    {
     "name": "stdout",
     "output_type": "stream",
     "text": [
      "Empty DataFrame\n",
      "Columns: [Open, High, Low, Close, Adj Close, Volume]\n",
      "Index: []\n"
     ]
    },
    {
     "name": "stderr",
     "output_type": "stream",
     "text": [
      "[*********************100%%**********************]  1 of 1 completed\n",
      "\n",
      "1 Failed download:\n",
      "['049284201']: Exception('%ticker%: No timezone found, symbol may be delisted')\n"
     ]
    },
    {
     "name": "stdout",
     "output_type": "stream",
     "text": [
      "Empty DataFrame\n",
      "Columns: [Open, High, Low, Close, Adj Close, Volume]\n",
      "Index: []\n"
     ]
    },
    {
     "name": "stderr",
     "output_type": "stream",
     "text": [
      "[*********************100%%**********************]  1 of 1 completed\n",
      "\n",
      "1 Failed download:\n",
      "['G1993M119']: Exception('%ticker%: No timezone found, symbol may be delisted')\n"
     ]
    },
    {
     "name": "stdout",
     "output_type": "stream",
     "text": [
      "Empty DataFrame\n",
      "Columns: [Open, High, Low, Close, Adj Close, Volume]\n",
      "Index: []\n"
     ]
    },
    {
     "name": "stderr",
     "output_type": "stream",
     "text": [
      "[*********************100%%**********************]  1 of 1 completed\n",
      "\n",
      "1 Failed download:\n",
      "['55068A209']: Exception('%ticker%: No timezone found, symbol may be delisted')\n"
     ]
    },
    {
     "name": "stdout",
     "output_type": "stream",
     "text": [
      "Empty DataFrame\n",
      "Columns: [Open, High, Low, Close, Adj Close, Volume]\n",
      "Index: []\n"
     ]
    },
    {
     "name": "stderr",
     "output_type": "stream",
     "text": [
      "[*********************100%%**********************]  1 of 1 completed\n",
      "\n",
      "1 Failed download:\n",
      "['G3141W114']: Exception('%ticker%: No timezone found, symbol may be delisted')\n",
      "c:\\Users\\ziggy\\anaconda3\\Lib\\site-packages\\yfinance\\utils.py:775: FutureWarning: The 'unit' keyword in TimedeltaIndex construction is deprecated and will be removed in a future version. Use pd.to_timedelta instead.\n",
      "  df.index += _pd.TimedeltaIndex(dst_error_hours, 'h')\n",
      "[*********************100%%**********************]  1 of 1 completed\n"
     ]
    },
    {
     "name": "stdout",
     "output_type": "stream",
     "text": [
      "Empty DataFrame\n",
      "Columns: [Open, High, Low, Close, Adj Close, Volume]\n",
      "Index: []\n",
      "             Open   High    Low  Close  Adj Close  Volume\n",
      "Date                                                     \n",
      "2020-10-22  13.67  13.73  13.56  13.69  12.937056   29500\n",
      "2020-10-23  13.62  13.68  13.53  13.54  12.795305   22600\n",
      "2020-10-26  13.52  13.57  13.45  13.47  12.729155   22300\n",
      "2020-10-27  13.46  13.58  13.40  13.50  12.757505   23300\n",
      "2020-10-28  13.38  13.50  13.32  13.35  12.615756   43700\n",
      "...           ...    ...    ...    ...        ...     ...\n",
      "2021-10-15  14.77  14.85  14.66  14.75  14.548765   20900\n",
      "2021-10-18  14.74  14.74  14.45  14.46  14.262722   76300\n",
      "2021-10-19  14.47  14.50  14.38  14.39  14.193679   39600\n",
      "2021-10-20  14.40  14.43  14.36  14.38  14.183814   19900\n",
      "2021-10-21  14.38  14.40  14.23  14.30  14.104905   54800\n",
      "\n",
      "[252 rows x 6 columns]\n"
     ]
    },
    {
     "name": "stderr",
     "output_type": "stream",
     "text": [
      "[*********************100%%**********************]  1 of 1 completed\n",
      "\n",
      "1 Failed download:\n",
      "['G03707125']: Exception('%ticker%: No timezone found, symbol may be delisted')\n"
     ]
    },
    {
     "name": "stdout",
     "output_type": "stream",
     "text": [
      "Empty DataFrame\n",
      "Columns: [Open, High, Low, Close, Adj Close, Volume]\n",
      "Index: []\n"
     ]
    },
    {
     "name": "stderr",
     "output_type": "stream",
     "text": [
      "[*********************100%%**********************]  1 of 1 completed\n",
      "\n",
      "1 Failed download:\n",
      "['G8739H122']: Exception('%ticker%: No timezone found, symbol may be delisted')\n"
     ]
    },
    {
     "name": "stdout",
     "output_type": "stream",
     "text": [
      "Empty DataFrame\n",
      "Columns: [Open, High, Low, Close, Adj Close, Volume]\n",
      "Index: []\n"
     ]
    },
    {
     "name": "stderr",
     "output_type": "stream",
     "text": [
      "[*********************100%%**********************]  1 of 1 completed\n",
      "\n",
      "1 Failed download:\n",
      "['98566K204']: Exception('%ticker%: No timezone found, symbol may be delisted')\n"
     ]
    },
    {
     "name": "stdout",
     "output_type": "stream",
     "text": [
      "Empty DataFrame\n",
      "Columns: [Open, High, Low, Close, Adj Close, Volume]\n",
      "Index: []\n"
     ]
    },
    {
     "name": "stderr",
     "output_type": "stream",
     "text": [
      "[*********************100%%**********************]  1 of 1 completed\n",
      "\n",
      "1 Failed download:\n",
      "['23344P200']: Exception('%ticker%: No timezone found, symbol may be delisted')\n",
      "c:\\Users\\ziggy\\anaconda3\\Lib\\site-packages\\yfinance\\utils.py:775: FutureWarning: The 'unit' keyword in TimedeltaIndex construction is deprecated and will be removed in a future version. Use pd.to_timedelta instead.\n",
      "  df.index += _pd.TimedeltaIndex(dst_error_hours, 'h')\n",
      "[*********************100%%**********************]  1 of 1 completed\n",
      "c:\\Users\\ziggy\\anaconda3\\Lib\\site-packages\\yfinance\\utils.py:775: FutureWarning: The 'unit' keyword in TimedeltaIndex construction is deprecated and will be removed in a future version. Use pd.to_timedelta instead.\n",
      "  df.index += _pd.TimedeltaIndex(dst_error_hours, 'h')\n",
      "[*********************100%%**********************]  1 of 1 completed\n"
     ]
    },
    {
     "name": "stdout",
     "output_type": "stream",
     "text": [
      "Empty DataFrame\n",
      "Columns: [Open, High, Low, Close, Adj Close, Volume]\n",
      "Index: []\n",
      "             Open   High    Low  Close  Adj Close  Volume\n",
      "Date                                                     \n",
      "2020-10-21  13.74  13.74  13.61  13.69  12.937056   24200\n",
      "2020-10-22  13.67  13.73  13.56  13.69  12.937056   29500\n",
      "2020-10-23  13.62  13.68  13.53  13.54  12.795305   22600\n",
      "2020-10-26  13.52  13.57  13.45  13.47  12.729155   22300\n",
      "2020-10-27  13.46  13.58  13.40  13.50  12.757505   23300\n",
      "...           ...    ...    ...    ...        ...     ...\n",
      "2021-10-14  14.73  14.79  14.70  14.72  14.519176   17700\n",
      "2021-10-15  14.77  14.85  14.66  14.75  14.548765   20900\n",
      "2021-10-18  14.74  14.74  14.45  14.46  14.262722   76300\n",
      "2021-10-19  14.47  14.50  14.38  14.39  14.193679   39600\n",
      "2021-10-20  14.40  14.43  14.36  14.38  14.183814   19900\n",
      "\n",
      "[252 rows x 6 columns]\n",
      "             Open   High    Low  Close  Adj Close  Volume\n",
      "Date                                                     \n",
      "2020-10-21  13.74  13.74  13.61  13.69  12.937056   24200\n",
      "2020-10-22  13.67  13.73  13.56  13.69  12.937056   29500\n",
      "2020-10-23  13.62  13.68  13.53  13.54  12.795305   22600\n",
      "2020-10-26  13.52  13.57  13.45  13.47  12.729155   22300\n",
      "2020-10-27  13.46  13.58  13.40  13.50  12.757505   23300\n",
      "...           ...    ...    ...    ...        ...     ...\n",
      "2021-10-14  14.73  14.79  14.70  14.72  14.519176   17700\n",
      "2021-10-15  14.77  14.85  14.66  14.75  14.548765   20900\n",
      "2021-10-18  14.74  14.74  14.45  14.46  14.262722   76300\n",
      "2021-10-19  14.47  14.50  14.38  14.39  14.193679   39600\n",
      "2021-10-20  14.40  14.43  14.36  14.38  14.183814   19900\n",
      "\n",
      "[252 rows x 6 columns]\n"
     ]
    },
    {
     "name": "stderr",
     "output_type": "stream",
     "text": [
      "[*********************100%%**********************]  1 of 1 completed\n",
      "\n",
      "1 Failed download:\n",
      "['762594208']: Exception('%ticker%: No timezone found, symbol may be delisted')\n"
     ]
    },
    {
     "name": "stdout",
     "output_type": "stream",
     "text": [
      "Empty DataFrame\n",
      "Columns: [Open, High, Low, Close, Adj Close, Volume]\n",
      "Index: []\n"
     ]
    },
    {
     "name": "stderr",
     "output_type": "stream",
     "text": [
      "[*********************100%%**********************]  1 of 1 completed\n",
      "\n",
      "1 Failed download:\n",
      "['38216X206']: Exception('%ticker%: No timezone found, symbol may be delisted')\n"
     ]
    },
    {
     "name": "stdout",
     "output_type": "stream",
     "text": [
      "Empty DataFrame\n",
      "Columns: [Open, High, Low, Close, Adj Close, Volume]\n",
      "Index: []\n"
     ]
    },
    {
     "name": "stderr",
     "output_type": "stream",
     "text": [
      "[*********************100%%**********************]  1 of 1 completed\n",
      "\n",
      "1 Failed download:\n",
      "['86846V207']: Exception('%ticker%: No timezone found, symbol may be delisted')\n",
      "c:\\Users\\ziggy\\anaconda3\\Lib\\site-packages\\yfinance\\utils.py:775: FutureWarning: The 'unit' keyword in TimedeltaIndex construction is deprecated and will be removed in a future version. Use pd.to_timedelta instead.\n",
      "  df.index += _pd.TimedeltaIndex(dst_error_hours, 'h')\n",
      "[*********************100%%**********************]  1 of 1 completed\n"
     ]
    },
    {
     "name": "stdout",
     "output_type": "stream",
     "text": [
      "Empty DataFrame\n",
      "Columns: [Open, High, Low, Close, Adj Close, Volume]\n",
      "Index: []\n",
      "             Open   High    Low  Close  Adj Close  Volume\n",
      "Date                                                     \n",
      "2020-10-20  13.70  13.85  13.60  13.85  13.088252   25600\n",
      "2020-10-21  13.74  13.74  13.61  13.69  12.937056   24200\n",
      "2020-10-22  13.67  13.73  13.56  13.69  12.937056   29500\n",
      "2020-10-23  13.62  13.68  13.53  13.54  12.795305   22600\n",
      "2020-10-26  13.52  13.57  13.45  13.47  12.729155   22300\n",
      "...           ...    ...    ...    ...        ...     ...\n",
      "2021-10-13  14.75  14.80  14.68  14.79  14.540381   21000\n",
      "2021-10-14  14.73  14.79  14.70  14.72  14.519176   17700\n",
      "2021-10-15  14.77  14.85  14.66  14.75  14.548765   20900\n",
      "2021-10-18  14.74  14.74  14.45  14.46  14.262722   76300\n",
      "2021-10-19  14.47  14.50  14.38  14.39  14.193679   39600\n",
      "\n",
      "[252 rows x 6 columns]\n"
     ]
    },
    {
     "name": "stderr",
     "output_type": "stream",
     "text": [
      "[*********************100%%**********************]  1 of 1 completed\n",
      "\n",
      "1 Failed download:\n",
      "['G44898115']: Exception('%ticker%: No timezone found, symbol may be delisted')\n"
     ]
    },
    {
     "name": "stdout",
     "output_type": "stream",
     "text": [
      "Empty DataFrame\n",
      "Columns: [Open, High, Low, Close, Adj Close, Volume]\n",
      "Index: []\n"
     ]
    },
    {
     "name": "stderr",
     "output_type": "stream",
     "text": [
      "[*********************100%%**********************]  1 of 1 completed\n",
      "\n",
      "1 Failed download:\n",
      "['52470X208']: Exception('%ticker%: No timezone found, symbol may be delisted')\n"
     ]
    },
    {
     "name": "stdout",
     "output_type": "stream",
     "text": [
      "Empty DataFrame\n",
      "Columns: [Open, High, Low, Close, Adj Close, Volume]\n",
      "Index: []\n"
     ]
    },
    {
     "name": "stderr",
     "output_type": "stream",
     "text": [
      "[*********************100%%**********************]  1 of 1 completed\n",
      "\n",
      "1 Failed download:\n",
      "['242797207']: Exception('%ticker%: No timezone found, symbol may be delisted')\n"
     ]
    },
    {
     "name": "stdout",
     "output_type": "stream",
     "text": [
      "Empty DataFrame\n",
      "Columns: [Open, High, Low, Close, Adj Close, Volume]\n",
      "Index: []\n"
     ]
    },
    {
     "name": "stderr",
     "output_type": "stream",
     "text": [
      "[*********************100%%**********************]  1 of 1 completed\n",
      "\n",
      "1 Failed download:\n",
      "['G46044122']: Exception('%ticker%: No timezone found, symbol may be delisted')\n",
      "c:\\Users\\ziggy\\anaconda3\\Lib\\site-packages\\yfinance\\utils.py:775: FutureWarning: The 'unit' keyword in TimedeltaIndex construction is deprecated and will be removed in a future version. Use pd.to_timedelta instead.\n",
      "  df.index += _pd.TimedeltaIndex(dst_error_hours, 'h')\n",
      "[*********************100%%**********************]  1 of 1 completed\n"
     ]
    },
    {
     "name": "stdout",
     "output_type": "stream",
     "text": [
      "Empty DataFrame\n",
      "Columns: [Open, High, Low, Close, Adj Close, Volume]\n",
      "Index: []\n",
      "             Open   High    Low  Close  Adj Close  Volume\n",
      "Date                                                     \n",
      "2020-10-19  13.61  13.74  13.60  13.74  12.984303   32900\n",
      "2020-10-20  13.70  13.85  13.60  13.85  13.088252   25600\n",
      "2020-10-21  13.74  13.74  13.61  13.69  12.937056   24200\n",
      "2020-10-22  13.67  13.73  13.56  13.69  12.937056   29500\n",
      "2020-10-23  13.62  13.68  13.53  13.54  12.795305   22600\n",
      "...           ...    ...    ...    ...        ...     ...\n",
      "2021-10-12  14.85  14.85  14.65  14.75  14.501057   31000\n",
      "2021-10-13  14.75  14.80  14.68  14.79  14.540381   21000\n",
      "2021-10-14  14.73  14.79  14.70  14.72  14.519176   17700\n",
      "2021-10-15  14.77  14.85  14.66  14.75  14.548765   20900\n",
      "2021-10-18  14.74  14.74  14.45  14.46  14.262722   76300\n",
      "\n",
      "[252 rows x 6 columns]\n"
     ]
    },
    {
     "name": "stderr",
     "output_type": "stream",
     "text": [
      "[*********************100%%**********************]  1 of 1 completed\n",
      "\n",
      "1 Failed download:\n",
      "['G1355U105']: Exception('%ticker%: No timezone found, symbol may be delisted')\n"
     ]
    },
    {
     "name": "stdout",
     "output_type": "stream",
     "text": [
      "Empty DataFrame\n",
      "Columns: [Open, High, Low, Close, Adj Close, Volume]\n",
      "Index: []\n"
     ]
    },
    {
     "name": "stderr",
     "output_type": "stream",
     "text": [
      "[*********************100%%**********************]  1 of 1 completed\n",
      "\n",
      "1 Failed download:\n",
      "['61980M206']: Exception('%ticker%: No timezone found, symbol may be delisted')\n"
     ]
    },
    {
     "name": "stdout",
     "output_type": "stream",
     "text": [
      "Empty DataFrame\n",
      "Columns: [Open, High, Low, Close, Adj Close, Volume]\n",
      "Index: []\n"
     ]
    },
    {
     "name": "stderr",
     "output_type": "stream",
     "text": [
      "[*********************100%%**********************]  1 of 1 completed\n",
      "\n",
      "1 Failed download:\n",
      "['84677L208']: Exception('%ticker%: No timezone found, symbol may be delisted')\n"
     ]
    },
    {
     "name": "stdout",
     "output_type": "stream",
     "text": [
      "Empty DataFrame\n",
      "Columns: [Open, High, Low, Close, Adj Close, Volume]\n",
      "Index: []\n"
     ]
    },
    {
     "name": "stderr",
     "output_type": "stream",
     "text": [
      "[*********************100%%**********************]  1 of 1 completed\n",
      "\n",
      "1 Failed download:\n",
      "['G9127T116']: Exception('%ticker%: No timezone found, symbol may be delisted')\n",
      "c:\\Users\\ziggy\\anaconda3\\Lib\\site-packages\\yfinance\\utils.py:775: FutureWarning: The 'unit' keyword in TimedeltaIndex construction is deprecated and will be removed in a future version. Use pd.to_timedelta instead.\n",
      "  df.index += _pd.TimedeltaIndex(dst_error_hours, 'h')\n",
      "[*********************100%%**********************]  1 of 1 completed\n"
     ]
    },
    {
     "name": "stdout",
     "output_type": "stream",
     "text": [
      "Empty DataFrame\n",
      "Columns: [Open, High, Low, Close, Adj Close, Volume]\n",
      "Index: []\n",
      "             Open   High    Low  Close  Adj Close  Volume\n",
      "Date                                                     \n",
      "2020-10-13  13.61  13.74  13.61  13.70  12.897363   23000\n",
      "2020-10-14  13.60  13.74  13.60  13.67  12.918155   13700\n",
      "2020-10-15  13.67  13.67  13.51  13.51  12.766953   34000\n",
      "2020-10-16  13.48  13.65  13.46  13.60  12.852003   18100\n",
      "2020-10-19  13.61  13.74  13.60  13.74  12.984303   32900\n",
      "...           ...    ...    ...    ...        ...     ...\n",
      "2021-10-06  14.64  14.64  14.44  14.57  14.324094   34500\n",
      "2021-10-07  14.62  14.75  14.59  14.70  14.451900   47400\n",
      "2021-10-08  14.69  14.72  14.63  14.71  14.461732   11500\n",
      "2021-10-11  14.74  14.88  14.69  14.88  14.628863   16800\n",
      "2021-10-12  14.85  14.85  14.65  14.75  14.501057   31000\n",
      "\n",
      "[252 rows x 6 columns]\n"
     ]
    },
    {
     "name": "stderr",
     "output_type": "stream",
     "text": [
      "[*********************100%%**********************]  1 of 1 completed\n",
      "\n",
      "1 Failed download:\n",
      "['716421201']: Exception('%ticker%: No timezone found, symbol may be delisted')\n"
     ]
    },
    {
     "name": "stdout",
     "output_type": "stream",
     "text": [
      "Empty DataFrame\n",
      "Columns: [Open, High, Low, Close, Adj Close, Volume]\n",
      "Index: []\n"
     ]
    },
    {
     "name": "stderr",
     "output_type": "stream",
     "text": [
      "[*********************100%%**********************]  1 of 1 completed\n",
      "\n",
      "1 Failed download:\n",
      "['51476H209']: Exception('%ticker%: No timezone found, symbol may be delisted')\n"
     ]
    },
    {
     "name": "stdout",
     "output_type": "stream",
     "text": [
      "Empty DataFrame\n",
      "Columns: [Open, High, Low, Close, Adj Close, Volume]\n",
      "Index: []\n"
     ]
    },
    {
     "name": "stderr",
     "output_type": "stream",
     "text": [
      "[*********************100%%**********************]  1 of 1 completed\n",
      "\n",
      "1 Failed download:\n",
      "['G8251L121']: Exception('%ticker%: No timezone found, symbol may be delisted')\n",
      "c:\\Users\\ziggy\\anaconda3\\Lib\\site-packages\\yfinance\\utils.py:775: FutureWarning: The 'unit' keyword in TimedeltaIndex construction is deprecated and will be removed in a future version. Use pd.to_timedelta instead.\n",
      "  df.index += _pd.TimedeltaIndex(dst_error_hours, 'h')\n",
      "[*********************100%%**********************]  1 of 1 completed\n"
     ]
    },
    {
     "name": "stdout",
     "output_type": "stream",
     "text": [
      "Empty DataFrame\n",
      "Columns: [Open, High, Low, Close, Adj Close, Volume]\n",
      "Index: []\n",
      "             Open   High    Low  Close  Adj Close  Volume\n",
      "Date                                                     \n",
      "2020-10-08  13.58  13.63  13.54  13.63  12.831465   55100\n",
      "2020-10-09  13.66  13.68  13.58  13.64  12.840880   18000\n",
      "2020-10-12  13.73  13.73  13.60  13.64  12.840880   20000\n",
      "2020-10-13  13.61  13.74  13.61  13.70  12.897363   23000\n",
      "2020-10-14  13.60  13.74  13.60  13.67  12.918155   13700\n",
      "...           ...    ...    ...    ...        ...     ...\n",
      "2021-10-01  14.85  14.90  14.71  14.80  14.550213   23700\n",
      "2021-10-04  14.84  14.84  14.52  14.52  14.274939   55400\n",
      "2021-10-05  14.60  14.70  14.56  14.60  14.353588   32400\n",
      "2021-10-06  14.64  14.64  14.44  14.57  14.324094   34500\n",
      "2021-10-07  14.62  14.75  14.59  14.70  14.451900   47400\n",
      "\n",
      "[252 rows x 6 columns]\n"
     ]
    },
    {
     "name": "stderr",
     "output_type": "stream",
     "text": [
      "[*********************100%%**********************]  1 of 1 completed\n",
      "\n",
      "1 Failed download:\n",
      "['G82514129']: Exception('%ticker%: No timezone found, symbol may be delisted')\n"
     ]
    },
    {
     "name": "stdout",
     "output_type": "stream",
     "text": [
      "Empty DataFrame\n",
      "Columns: [Open, High, Low, Close, Adj Close, Volume]\n",
      "Index: []\n"
     ]
    },
    {
     "name": "stderr",
     "output_type": "stream",
     "text": [
      "[*********************100%%**********************]  1 of 1 completed\n",
      "\n",
      "1 Failed download:\n",
      "['612657205']: Exception('%ticker%: No timezone found, symbol may be delisted')\n"
     ]
    },
    {
     "name": "stdout",
     "output_type": "stream",
     "text": [
      "Empty DataFrame\n",
      "Columns: [Open, High, Low, Close, Adj Close, Volume]\n",
      "Index: []\n"
     ]
    },
    {
     "name": "stderr",
     "output_type": "stream",
     "text": [
      "[*********************100%%**********************]  1 of 1 completed\n",
      "\n",
      "1 Failed download:\n",
      "['G3R39W128']: Exception('%ticker%: No timezone found, symbol may be delisted')\n",
      "c:\\Users\\ziggy\\anaconda3\\Lib\\site-packages\\yfinance\\utils.py:775: FutureWarning: The 'unit' keyword in TimedeltaIndex construction is deprecated and will be removed in a future version. Use pd.to_timedelta instead.\n",
      "  df.index += _pd.TimedeltaIndex(dst_error_hours, 'h')\n",
      "[*********************100%%**********************]  1 of 1 completed\n",
      "c:\\Users\\ziggy\\anaconda3\\Lib\\site-packages\\yfinance\\utils.py:775: FutureWarning: The 'unit' keyword in TimedeltaIndex construction is deprecated and will be removed in a future version. Use pd.to_timedelta instead.\n",
      "  df.index += _pd.TimedeltaIndex(dst_error_hours, 'h')\n",
      "[*********************100%%**********************]  1 of 1 completed\n"
     ]
    },
    {
     "name": "stdout",
     "output_type": "stream",
     "text": [
      "Empty DataFrame\n",
      "Columns: [Open, High, Low, Close, Adj Close, Volume]\n",
      "Index: []\n",
      "             Open   High    Low  Close  Adj Close  Volume\n",
      "Date                                                     \n",
      "2020-10-06  13.50  13.53  13.45  13.45  12.662011   28300\n",
      "2020-10-07  13.45  13.55  13.44  13.51  12.718494   54800\n",
      "2020-10-08  13.58  13.63  13.54  13.63  12.831465   55100\n",
      "2020-10-09  13.66  13.68  13.58  13.64  12.840880   18000\n",
      "2020-10-12  13.73  13.73  13.60  13.64  12.840880   20000\n",
      "...           ...    ...    ...    ...        ...     ...\n",
      "2021-09-29  14.83  14.83  14.77  14.79  14.540381   13400\n",
      "2021-09-30  14.85  14.85  14.69  14.72  14.471563   27900\n",
      "2021-10-01  14.85  14.90  14.71  14.80  14.550213   23700\n",
      "2021-10-04  14.84  14.84  14.52  14.52  14.274939   55400\n",
      "2021-10-05  14.60  14.70  14.56  14.60  14.353588   32400\n",
      "\n",
      "[252 rows x 6 columns]\n",
      "             Open   High    Low  Close  Adj Close  Volume\n",
      "Date                                                     \n",
      "2020-10-06  13.50  13.53  13.45  13.45  12.662011   28300\n",
      "2020-10-07  13.45  13.55  13.44  13.51  12.718494   54800\n",
      "2020-10-08  13.58  13.63  13.54  13.63  12.831465   55100\n",
      "2020-10-09  13.66  13.68  13.58  13.64  12.840880   18000\n",
      "2020-10-12  13.73  13.73  13.60  13.64  12.840880   20000\n",
      "...           ...    ...    ...    ...        ...     ...\n",
      "2021-09-29  14.83  14.83  14.77  14.79  14.540381   13400\n",
      "2021-09-30  14.85  14.85  14.69  14.72  14.471563   27900\n",
      "2021-10-01  14.85  14.90  14.71  14.80  14.550213   23700\n",
      "2021-10-04  14.84  14.84  14.52  14.52  14.274939   55400\n",
      "2021-10-05  14.60  14.70  14.56  14.60  14.353588   32400\n",
      "\n",
      "[252 rows x 6 columns]\n"
     ]
    },
    {
     "name": "stderr",
     "output_type": "stream",
     "text": [
      "[*********************100%%**********************]  1 of 1 completed\n",
      "\n",
      "1 Failed download:\n",
      "['G65305115']: Exception('%ticker%: No timezone found, symbol may be delisted')\n"
     ]
    },
    {
     "name": "stdout",
     "output_type": "stream",
     "text": [
      "Empty DataFrame\n",
      "Columns: [Open, High, Low, Close, Adj Close, Volume]\n",
      "Index: []\n"
     ]
    },
    {
     "name": "stderr",
     "output_type": "stream",
     "text": [
      "[*********************100%%**********************]  1 of 1 completed\n",
      "\n",
      "1 Failed download:\n",
      "['33765Y200']: Exception('%ticker%: No timezone found, symbol may be delisted')\n"
     ]
    },
    {
     "name": "stdout",
     "output_type": "stream",
     "text": [
      "Empty DataFrame\n",
      "Columns: [Open, High, Low, Close, Adj Close, Volume]\n",
      "Index: []\n"
     ]
    },
    {
     "name": "stderr",
     "output_type": "stream",
     "text": [
      "[*********************100%%**********************]  1 of 1 completed\n",
      "\n",
      "1 Failed download:\n",
      "['84918M205']: Exception('%ticker%: No timezone found, symbol may be delisted')\n"
     ]
    },
    {
     "name": "stdout",
     "output_type": "stream",
     "text": [
      "Empty DataFrame\n",
      "Columns: [Open, High, Low, Close, Adj Close, Volume]\n",
      "Index: []\n"
     ]
    },
    {
     "name": "stderr",
     "output_type": "stream",
     "text": [
      "[*********************100%%**********************]  1 of 1 completed\n",
      "\n",
      "1 Failed download:\n",
      "['G9444H126']: Exception('%ticker%: No timezone found, symbol may be delisted')\n",
      "c:\\Users\\ziggy\\anaconda3\\Lib\\site-packages\\yfinance\\utils.py:775: FutureWarning: The 'unit' keyword in TimedeltaIndex construction is deprecated and will be removed in a future version. Use pd.to_timedelta instead.\n",
      "  df.index += _pd.TimedeltaIndex(dst_error_hours, 'h')\n",
      "[*********************100%%**********************]  1 of 1 completed\n"
     ]
    },
    {
     "name": "stdout",
     "output_type": "stream",
     "text": [
      "Empty DataFrame\n",
      "Columns: [Open, High, Low, Close, Adj Close, Volume]\n",
      "Index: []\n",
      "             Open   High    Low  Close  Adj Close  Volume\n",
      "Date                                                     \n",
      "2020-10-01  13.75  13.75  13.64  13.65  12.850294   43200\n",
      "2020-10-02  13.68  13.71  13.43  13.50  12.709084   74600\n",
      "2020-10-05  13.42  13.48  13.42  13.45  12.662011   50900\n",
      "2020-10-06  13.50  13.53  13.45  13.45  12.662011   28300\n",
      "2020-10-07  13.45  13.55  13.44  13.51  12.718494   54800\n",
      "...           ...    ...    ...    ...        ...     ...\n",
      "2021-09-24  14.90  15.01  14.88  15.00  14.746838   40300\n",
      "2021-09-27  14.96  14.97  14.79  14.90  14.648525   27400\n",
      "2021-09-28  14.89  14.89  14.76  14.76  14.510888   18900\n",
      "2021-09-29  14.83  14.83  14.77  14.79  14.540381   13400\n",
      "2021-09-30  14.85  14.85  14.69  14.72  14.471563   27900\n",
      "\n",
      "[252 rows x 6 columns]\n"
     ]
    },
    {
     "name": "stderr",
     "output_type": "stream",
     "text": [
      "[*********************100%%**********************]  1 of 1 completed\n",
      "\n",
      "1 Failed download:\n",
      "['04906P200']: Exception('%ticker%: No timezone found, symbol may be delisted')\n"
     ]
    },
    {
     "name": "stdout",
     "output_type": "stream",
     "text": [
      "Empty DataFrame\n",
      "Columns: [Open, High, Low, Close, Adj Close, Volume]\n",
      "Index: []\n"
     ]
    },
    {
     "name": "stderr",
     "output_type": "stream",
     "text": [
      "[*********************100%%**********************]  1 of 1 completed\n",
      "\n",
      "1 Failed download:\n",
      "['G01046120']: Exception('%ticker%: No timezone found, symbol may be delisted')\n"
     ]
    },
    {
     "name": "stdout",
     "output_type": "stream",
     "text": [
      "Empty DataFrame\n",
      "Columns: [Open, High, Low, Close, Adj Close, Volume]\n",
      "Index: []\n"
     ]
    },
    {
     "name": "stderr",
     "output_type": "stream",
     "text": [
      "[*********************100%%**********************]  1 of 1 completed\n",
      "\n",
      "1 Failed download:\n",
      "['G0411R122']: Exception('%ticker%: No timezone found, symbol may be delisted')\n"
     ]
    },
    {
     "name": "stdout",
     "output_type": "stream",
     "text": [
      "Empty DataFrame\n",
      "Columns: [Open, High, Low, Close, Adj Close, Volume]\n",
      "Index: []\n"
     ]
    },
    {
     "name": "stderr",
     "output_type": "stream",
     "text": [
      "[*********************100%%**********************]  1 of 1 completed\n",
      "\n",
      "1 Failed download:\n",
      "['G0682V117']: Exception('%ticker%: No timezone found, symbol may be delisted')\n",
      "c:\\Users\\ziggy\\anaconda3\\Lib\\site-packages\\yfinance\\utils.py:775: FutureWarning: The 'unit' keyword in TimedeltaIndex construction is deprecated and will be removed in a future version. Use pd.to_timedelta instead.\n",
      "  df.index += _pd.TimedeltaIndex(dst_error_hours, 'h')\n",
      "[*********************100%%**********************]  1 of 1 completed\n"
     ]
    },
    {
     "name": "stdout",
     "output_type": "stream",
     "text": [
      "Empty DataFrame\n",
      "Columns: [Open, High, Low, Close, Adj Close, Volume]\n",
      "Index: []\n",
      "             Open   High    Low  Close  Adj Close  Volume\n",
      "Date                                                     \n",
      "2020-10-01  13.75  13.75  13.64  13.65  12.850294   43200\n",
      "2020-10-02  13.68  13.71  13.43  13.50  12.709084   74600\n",
      "2020-10-05  13.42  13.48  13.42  13.45  12.662011   50900\n",
      "2020-10-06  13.50  13.53  13.45  13.45  12.662011   28300\n",
      "2020-10-07  13.45  13.55  13.44  13.51  12.718494   54800\n",
      "...           ...    ...    ...    ...        ...     ...\n",
      "2021-09-24  14.90  15.01  14.88  15.00  14.746838   40300\n",
      "2021-09-27  14.96  14.97  14.79  14.90  14.648525   27400\n",
      "2021-09-28  14.89  14.89  14.76  14.76  14.510888   18900\n",
      "2021-09-29  14.83  14.83  14.77  14.79  14.540381   13400\n",
      "2021-09-30  14.85  14.85  14.69  14.72  14.471563   27900\n",
      "\n",
      "[252 rows x 6 columns]\n"
     ]
    },
    {
     "name": "stderr",
     "output_type": "stream",
     "text": [
      "[*********************100%%**********************]  1 of 1 completed\n",
      "\n",
      "1 Failed download:\n",
      "['449534205']: Exception('%ticker%: No timezone found, symbol may be delisted')\n"
     ]
    },
    {
     "name": "stdout",
     "output_type": "stream",
     "text": [
      "Empty DataFrame\n",
      "Columns: [Open, High, Low, Close, Adj Close, Volume]\n",
      "Index: []\n"
     ]
    },
    {
     "name": "stderr",
     "output_type": "stream",
     "text": [
      "[*********************100%%**********************]  1 of 1 completed\n",
      "\n",
      "1 Failed download:\n",
      "['756229209']: Exception('%ticker%: No timezone found, symbol may be delisted')\n",
      "c:\\Users\\ziggy\\anaconda3\\Lib\\site-packages\\yfinance\\utils.py:775: FutureWarning: The 'unit' keyword in TimedeltaIndex construction is deprecated and will be removed in a future version. Use pd.to_timedelta instead.\n",
      "  df.index += _pd.TimedeltaIndex(dst_error_hours, 'h')\n",
      "[*********************100%%**********************]  1 of 1 completed\n",
      "c:\\Users\\ziggy\\anaconda3\\Lib\\site-packages\\yfinance\\utils.py:775: FutureWarning: The 'unit' keyword in TimedeltaIndex construction is deprecated and will be removed in a future version. Use pd.to_timedelta instead.\n",
      "  df.index += _pd.TimedeltaIndex(dst_error_hours, 'h')\n",
      "[*********************100%%**********************]  1 of 1 completed\n"
     ]
    },
    {
     "name": "stdout",
     "output_type": "stream",
     "text": [
      "Empty DataFrame\n",
      "Columns: [Open, High, Low, Close, Adj Close, Volume]\n",
      "Index: []\n",
      "             Open   High    Low  Close  Adj Close  Volume\n",
      "Date                                                     \n",
      "2020-09-30  13.72  13.72  13.64  13.67  12.869122   27600\n",
      "2020-10-01  13.75  13.75  13.64  13.65  12.850294   43200\n",
      "2020-10-02  13.68  13.71  13.43  13.50  12.709084   74600\n",
      "2020-10-05  13.42  13.48  13.42  13.45  12.662011   50900\n",
      "2020-10-06  13.50  13.53  13.45  13.45  12.662011   28300\n",
      "...           ...    ...    ...    ...        ...     ...\n",
      "2021-09-23  14.87  14.92  14.77  14.92  14.668187   53900\n",
      "2021-09-24  14.90  15.01  14.88  15.00  14.746838   40300\n",
      "2021-09-27  14.96  14.97  14.79  14.90  14.648525   27400\n",
      "2021-09-28  14.89  14.89  14.76  14.76  14.510888   18900\n",
      "2021-09-29  14.83  14.83  14.77  14.79  14.540381   13400\n",
      "\n",
      "[252 rows x 6 columns]\n",
      "             Open   High    Low  Close  Adj Close  Volume\n",
      "Date                                                     \n",
      "2020-09-30  13.72  13.72  13.64  13.67  12.869122   27600\n",
      "2020-10-01  13.75  13.75  13.64  13.65  12.850294   43200\n",
      "2020-10-02  13.68  13.71  13.43  13.50  12.709084   74600\n",
      "2020-10-05  13.42  13.48  13.42  13.45  12.662011   50900\n",
      "2020-10-06  13.50  13.53  13.45  13.45  12.662011   28300\n",
      "...           ...    ...    ...    ...        ...     ...\n",
      "2021-09-23  14.87  14.92  14.77  14.92  14.668187   53900\n",
      "2021-09-24  14.90  15.01  14.88  15.00  14.746838   40300\n",
      "2021-09-27  14.96  14.97  14.79  14.90  14.648525   27400\n",
      "2021-09-28  14.89  14.89  14.76  14.76  14.510888   18900\n",
      "2021-09-29  14.83  14.83  14.77  14.79  14.540381   13400\n",
      "\n",
      "[252 rows x 6 columns]\n"
     ]
    },
    {
     "name": "stderr",
     "output_type": "stream",
     "text": [
      "[*********************100%%**********************]  1 of 1 completed\n",
      "\n",
      "1 Failed download:\n",
      "['30259V205']: Exception('%ticker%: No timezone found, symbol may be delisted')\n"
     ]
    },
    {
     "name": "stdout",
     "output_type": "stream",
     "text": [
      "Empty DataFrame\n",
      "Columns: [Open, High, Low, Close, Adj Close, Volume]\n",
      "Index: []\n"
     ]
    },
    {
     "name": "stderr",
     "output_type": "stream",
     "text": [
      "[*********************100%%**********************]  1 of 1 completed\n",
      "\n",
      "1 Failed download:\n",
      "['92538T203']: Exception('%ticker%: No timezone found, symbol may be delisted')\n"
     ]
    },
    {
     "name": "stdout",
     "output_type": "stream",
     "text": [
      "Empty DataFrame\n",
      "Columns: [Open, High, Low, Close, Adj Close, Volume]\n",
      "Index: []\n"
     ]
    },
    {
     "name": "stderr",
     "output_type": "stream",
     "text": [
      "[*********************100%%**********************]  1 of 1 completed\n",
      "\n",
      "1 Failed download:\n",
      "['18716C209']: Exception('%ticker%: No timezone found, symbol may be delisted')\n",
      "c:\\Users\\ziggy\\anaconda3\\Lib\\site-packages\\yfinance\\utils.py:775: FutureWarning: The 'unit' keyword in TimedeltaIndex construction is deprecated and will be removed in a future version. Use pd.to_timedelta instead.\n",
      "  df.index += _pd.TimedeltaIndex(dst_error_hours, 'h')\n",
      "[*********************100%%**********************]  1 of 1 completed\n"
     ]
    },
    {
     "name": "stdout",
     "output_type": "stream",
     "text": [
      "Empty DataFrame\n",
      "Columns: [Open, High, Low, Close, Adj Close, Volume]\n",
      "Index: []\n",
      "             Open   High    Low  Close  Adj Close  Volume\n",
      "Date                                                     \n",
      "2020-09-24  13.62  13.62  13.54  13.54  12.746740   24700\n",
      "2020-09-25  13.61  13.78  13.56  13.68  12.878538   67300\n",
      "2020-09-28  13.68  13.69  13.62  13.65  12.850294   22300\n",
      "2020-09-29  13.72  13.75  13.64  13.66  12.859705   37400\n",
      "2020-09-30  13.72  13.72  13.64  13.67  12.869122   27600\n",
      "...           ...    ...    ...    ...        ...     ...\n",
      "2021-09-17  14.97  14.97  14.87  14.90  14.648525   23200\n",
      "2021-09-20  14.86  14.86  14.81  14.82  14.569875   27900\n",
      "2021-09-21  14.80  14.89  14.74  14.75  14.501057   20600\n",
      "2021-09-22  14.85  14.85  14.75  14.77  14.520719   23200\n",
      "2021-09-23  14.87  14.92  14.77  14.92  14.668187   53900\n",
      "\n",
      "[252 rows x 6 columns]\n"
     ]
    },
    {
     "name": "stderr",
     "output_type": "stream",
     "text": [
      "[*********************100%%**********************]  1 of 1 completed\n",
      "\n",
      "1 Failed download:\n",
      "['31810N302']: Exception('%ticker%: No timezone found, symbol may be delisted')\n",
      "c:\\Users\\ziggy\\anaconda3\\Lib\\site-packages\\yfinance\\utils.py:775: FutureWarning: The 'unit' keyword in TimedeltaIndex construction is deprecated and will be removed in a future version. Use pd.to_timedelta instead.\n",
      "  df.index += _pd.TimedeltaIndex(dst_error_hours, 'h')\n"
     ]
    },
    {
     "name": "stdout",
     "output_type": "stream",
     "text": [
      "Empty DataFrame\n",
      "Columns: [Open, High, Low, Close, Adj Close, Volume]\n",
      "Index: []\n"
     ]
    },
    {
     "name": "stderr",
     "output_type": "stream",
     "text": [
      "[*********************100%%**********************]  1 of 1 completed\n",
      "c:\\Users\\ziggy\\anaconda3\\Lib\\site-packages\\yfinance\\utils.py:775: FutureWarning: The 'unit' keyword in TimedeltaIndex construction is deprecated and will be removed in a future version. Use pd.to_timedelta instead.\n",
      "  df.index += _pd.TimedeltaIndex(dst_error_hours, 'h')\n",
      "[*********************100%%**********************]  1 of 1 completed\n",
      "c:\\Users\\ziggy\\anaconda3\\Lib\\site-packages\\yfinance\\utils.py:775: FutureWarning: The 'unit' keyword in TimedeltaIndex construction is deprecated and will be removed in a future version. Use pd.to_timedelta instead.\n",
      "  df.index += _pd.TimedeltaIndex(dst_error_hours, 'h')\n",
      "[*********************100%%**********************]  1 of 1 completed\n",
      "c:\\Users\\ziggy\\anaconda3\\Lib\\site-packages\\yfinance\\utils.py:775: FutureWarning: The 'unit' keyword in TimedeltaIndex construction is deprecated and will be removed in a future version. Use pd.to_timedelta instead.\n",
      "  df.index += _pd.TimedeltaIndex(dst_error_hours, 'h')\n",
      "[*********************100%%**********************]  1 of 1 completed\n"
     ]
    },
    {
     "name": "stdout",
     "output_type": "stream",
     "text": [
      "             Open   High    Low  Close  Adj Close  Volume\n",
      "Date                                                     \n",
      "2020-09-23  13.62  13.62  13.57  13.58  12.784394   25400\n",
      "2020-09-24  13.62  13.62  13.54  13.54  12.746740   24700\n",
      "2020-09-25  13.61  13.78  13.56  13.68  12.878538   67300\n",
      "2020-09-28  13.68  13.69  13.62  13.65  12.850294   22300\n",
      "2020-09-29  13.72  13.75  13.64  13.66  12.859705   37400\n",
      "...           ...    ...    ...    ...        ...     ...\n",
      "2021-09-16  14.99  15.01  14.87  14.88  14.628863   66800\n",
      "2021-09-17  14.97  14.97  14.87  14.90  14.648525   23200\n",
      "2021-09-20  14.86  14.86  14.81  14.82  14.569875   27900\n",
      "2021-09-21  14.80  14.89  14.74  14.75  14.501057   20600\n",
      "2021-09-22  14.85  14.85  14.75  14.77  14.520719   23200\n",
      "\n",
      "[252 rows x 6 columns]\n",
      "             Open   High    Low  Close  Adj Close  Volume\n",
      "Date                                                     \n",
      "2020-09-23  13.62  13.62  13.57  13.58  12.784394   25400\n",
      "2020-09-24  13.62  13.62  13.54  13.54  12.746740   24700\n",
      "2020-09-25  13.61  13.78  13.56  13.68  12.878538   67300\n",
      "2020-09-28  13.68  13.69  13.62  13.65  12.850294   22300\n",
      "2020-09-29  13.72  13.75  13.64  13.66  12.859705   37400\n",
      "...           ...    ...    ...    ...        ...     ...\n",
      "2021-09-16  14.99  15.01  14.87  14.88  14.628863   66800\n",
      "2021-09-17  14.97  14.97  14.87  14.90  14.648525   23200\n",
      "2021-09-20  14.86  14.86  14.81  14.82  14.569875   27900\n",
      "2021-09-21  14.80  14.89  14.74  14.75  14.501057   20600\n",
      "2021-09-22  14.85  14.85  14.75  14.77  14.520719   23200\n",
      "\n",
      "[252 rows x 6 columns]\n",
      "             Open   High    Low  Close  Adj Close  Volume\n",
      "Date                                                     \n",
      "2020-09-22  13.68  13.68  13.49  13.57  12.774980   50700\n",
      "2020-09-23  13.62  13.62  13.57  13.58  12.784394   25400\n",
      "2020-09-24  13.62  13.62  13.54  13.54  12.746740   24700\n",
      "2020-09-25  13.61  13.78  13.56  13.68  12.878538   67300\n",
      "2020-09-28  13.68  13.69  13.62  13.65  12.850294   22300\n",
      "...           ...    ...    ...    ...        ...     ...\n",
      "2021-09-15  14.88  14.98  14.80  14.94  14.687849   54500\n",
      "2021-09-16  14.99  15.01  14.87  14.88  14.628863   66800\n",
      "2021-09-17  14.97  14.97  14.87  14.90  14.648525   23200\n",
      "2021-09-20  14.86  14.86  14.81  14.82  14.569875   27900\n",
      "2021-09-21  14.80  14.89  14.74  14.75  14.501057   20600\n",
      "\n",
      "[252 rows x 6 columns]\n",
      "             Open   High    Low  Close  Adj Close  Volume\n",
      "Date                                                     \n",
      "2020-09-22  13.68  13.68  13.49  13.57  12.774980   50700\n",
      "2020-09-23  13.62  13.62  13.57  13.58  12.784394   25400\n",
      "2020-09-24  13.62  13.62  13.54  13.54  12.746740   24700\n",
      "2020-09-25  13.61  13.78  13.56  13.68  12.878538   67300\n",
      "2020-09-28  13.68  13.69  13.62  13.65  12.850294   22300\n",
      "...           ...    ...    ...    ...        ...     ...\n",
      "2021-09-15  14.88  14.98  14.80  14.94  14.687849   54500\n",
      "2021-09-16  14.99  15.01  14.87  14.88  14.628863   66800\n",
      "2021-09-17  14.97  14.97  14.87  14.90  14.648525   23200\n",
      "2021-09-20  14.86  14.86  14.81  14.82  14.569875   27900\n",
      "2021-09-21  14.80  14.89  14.74  14.75  14.501057   20600\n",
      "\n",
      "[252 rows x 6 columns]\n"
     ]
    },
    {
     "name": "stderr",
     "output_type": "stream",
     "text": [
      "[*********************100%%**********************]  1 of 1 completed\n",
      "\n",
      "1 Failed download:\n",
      "['693486201']: Exception('%ticker%: No timezone found, symbol may be delisted')\n"
     ]
    },
    {
     "name": "stdout",
     "output_type": "stream",
     "text": [
      "Empty DataFrame\n",
      "Columns: [Open, High, Low, Close, Adj Close, Volume]\n",
      "Index: []\n"
     ]
    },
    {
     "name": "stderr",
     "output_type": "stream",
     "text": [
      "[*********************100%%**********************]  1 of 1 completed\n",
      "\n",
      "1 Failed download:\n",
      "['30606L207']: Exception('%ticker%: No timezone found, symbol may be delisted')\n"
     ]
    },
    {
     "name": "stdout",
     "output_type": "stream",
     "text": [
      "Empty DataFrame\n",
      "Columns: [Open, High, Low, Close, Adj Close, Volume]\n",
      "Index: []\n"
     ]
    },
    {
     "name": "stderr",
     "output_type": "stream",
     "text": [
      "[*********************100%%**********************]  1 of 1 completed\n",
      "\n",
      "1 Failed download:\n",
      "['661204206']: Exception('%ticker%: No timezone found, symbol may be delisted')\n"
     ]
    },
    {
     "name": "stdout",
     "output_type": "stream",
     "text": [
      "Empty DataFrame\n",
      "Columns: [Open, High, Low, Close, Adj Close, Volume]\n",
      "Index: []\n"
     ]
    },
    {
     "name": "stderr",
     "output_type": "stream",
     "text": [
      "[*********************100%%**********************]  1 of 1 completed\n",
      "\n",
      "1 Failed download:\n",
      "['020751202']: Exception('%ticker%: No timezone found, symbol may be delisted')\n"
     ]
    },
    {
     "name": "stdout",
     "output_type": "stream",
     "text": [
      "Empty DataFrame\n",
      "Columns: [Open, High, Low, Close, Adj Close, Volume]\n",
      "Index: []\n"
     ]
    },
    {
     "name": "stderr",
     "output_type": "stream",
     "text": [
      "[*********************100%%**********************]  1 of 1 completed\n",
      "\n",
      "1 Failed download:\n",
      "['G00748122']: Exception('%ticker%: No timezone found, symbol may be delisted')\n"
     ]
    },
    {
     "name": "stdout",
     "output_type": "stream",
     "text": [
      "Empty DataFrame\n",
      "Columns: [Open, High, Low, Close, Adj Close, Volume]\n",
      "Index: []\n"
     ]
    },
    {
     "name": "stderr",
     "output_type": "stream",
     "text": [
      "[*********************100%%**********************]  1 of 1 completed\n",
      "\n",
      "1 Failed download:\n",
      "['30158L209']: Exception('%ticker%: No timezone found, symbol may be delisted')\n",
      "c:\\Users\\ziggy\\anaconda3\\Lib\\site-packages\\yfinance\\utils.py:775: FutureWarning: The 'unit' keyword in TimedeltaIndex construction is deprecated and will be removed in a future version. Use pd.to_timedelta instead.\n",
      "  df.index += _pd.TimedeltaIndex(dst_error_hours, 'h')\n",
      "[*********************100%%**********************]  1 of 1 completed\n"
     ]
    },
    {
     "name": "stdout",
     "output_type": "stream",
     "text": [
      "Empty DataFrame\n",
      "Columns: [Open, High, Low, Close, Adj Close, Volume]\n",
      "Index: []\n",
      "             Open   High    Low  Close  Adj Close  Volume\n",
      "Date                                                     \n",
      "2020-09-16  13.78  13.84  13.65  13.69  12.887951   39000\n",
      "2020-09-17  13.69  13.76  13.66  13.67  12.869122   19600\n",
      "2020-09-18  13.73  13.74  13.66  13.67  12.869122    6100\n",
      "2020-09-21  13.72  13.72  13.58  13.61  12.812636   30800\n",
      "2020-09-22  13.68  13.68  13.49  13.57  12.774980   50700\n",
      "...           ...    ...    ...    ...        ...     ...\n",
      "2021-09-09  14.80  14.83  14.78  14.79  14.489190   83200\n",
      "2021-09-10  14.89  14.89  14.77  14.80  14.498987   63600\n",
      "2021-09-13  14.79  14.82  14.75  14.77  14.469597   59900\n",
      "2021-09-14  14.83  14.84  14.73  14.77  14.520719   44400\n",
      "2021-09-15  14.88  14.98  14.80  14.94  14.687849   54500\n",
      "\n",
      "[252 rows x 6 columns]\n"
     ]
    },
    {
     "name": "stderr",
     "output_type": "stream",
     "text": [
      "[*********************100%%**********************]  1 of 1 completed\n",
      "\n",
      "1 Failed download:\n",
      "['29465E205']: Exception('%ticker%: No timezone found, symbol may be delisted')\n"
     ]
    },
    {
     "name": "stdout",
     "output_type": "stream",
     "text": [
      "Empty DataFrame\n",
      "Columns: [Open, High, Low, Close, Adj Close, Volume]\n",
      "Index: []\n"
     ]
    },
    {
     "name": "stderr",
     "output_type": "stream",
     "text": [
      "[*********************100%%**********************]  1 of 1 completed\n",
      "\n",
      "1 Failed download:\n",
      "['G6715X129']: Exception('%ticker%: No timezone found, symbol may be delisted')\n"
     ]
    },
    {
     "name": "stdout",
     "output_type": "stream",
     "text": [
      "Empty DataFrame\n",
      "Columns: [Open, High, Low, Close, Adj Close, Volume]\n",
      "Index: []\n"
     ]
    },
    {
     "name": "stderr",
     "output_type": "stream",
     "text": [
      "[*********************100%%**********************]  1 of 1 completed\n",
      "\n",
      "1 Failed download:\n",
      "['799793203']: Exception('%ticker%: No timezone found, symbol may be delisted')\n"
     ]
    },
    {
     "name": "stdout",
     "output_type": "stream",
     "text": [
      "Empty DataFrame\n",
      "Columns: [Open, High, Low, Close, Adj Close, Volume]\n",
      "Index: []\n"
     ]
    },
    {
     "name": "stderr",
     "output_type": "stream",
     "text": [
      "[*********************100%%**********************]  1 of 1 completed\n",
      "\n",
      "1 Failed download:\n",
      "['83407F200']: Exception('%ticker%: No timezone found, symbol may be delisted')\n"
     ]
    },
    {
     "name": "stdout",
     "output_type": "stream",
     "text": [
      "Empty DataFrame\n",
      "Columns: [Open, High, Low, Close, Adj Close, Volume]\n",
      "Index: []\n"
     ]
    },
    {
     "name": "stderr",
     "output_type": "stream",
     "text": [
      "[*********************100%%**********************]  1 of 1 completed\n",
      "\n",
      "1 Failed download:\n",
      "['G1739V118']: Exception('%ticker%: No timezone found, symbol may be delisted')\n"
     ]
    },
    {
     "name": "stdout",
     "output_type": "stream",
     "text": [
      "Empty DataFrame\n",
      "Columns: [Open, High, Low, Close, Adj Close, Volume]\n",
      "Index: []\n"
     ]
    },
    {
     "name": "stderr",
     "output_type": "stream",
     "text": [
      "[*********************100%%**********************]  1 of 1 completed\n",
      "\n",
      "1 Failed download:\n",
      "['G7552B121']: Exception('%ticker%: No timezone found, symbol may be delisted')\n"
     ]
    },
    {
     "name": "stdout",
     "output_type": "stream",
     "text": [
      "Empty DataFrame\n",
      "Columns: [Open, High, Low, Close, Adj Close, Volume]\n",
      "Index: []\n"
     ]
    },
    {
     "name": "stderr",
     "output_type": "stream",
     "text": [
      "[*********************100%%**********************]  1 of 1 completed\n",
      "\n",
      "1 Failed download:\n",
      "['90117G204']: Exception('%ticker%: No timezone found, symbol may be delisted')\n"
     ]
    },
    {
     "name": "stdout",
     "output_type": "stream",
     "text": [
      "Empty DataFrame\n",
      "Columns: [Open, High, Low, Close, Adj Close, Volume]\n",
      "Index: []\n"
     ]
    },
    {
     "name": "stderr",
     "output_type": "stream",
     "text": [
      "[*********************100%%**********************]  1 of 1 completed\n",
      "\n",
      "1 Failed download:\n",
      "['G61074111']: Exception('%ticker%: No timezone found, symbol may be delisted')\n"
     ]
    },
    {
     "name": "stdout",
     "output_type": "stream",
     "text": [
      "Empty DataFrame\n",
      "Columns: [Open, High, Low, Close, Adj Close, Volume]\n",
      "Index: []\n"
     ]
    },
    {
     "name": "stderr",
     "output_type": "stream",
     "text": [
      "[*********************100%%**********************]  1 of 1 completed\n",
      "\n",
      "1 Failed download:\n",
      "['85521J208']: Exception('%ticker%: No timezone found, symbol may be delisted')\n",
      "c:\\Users\\ziggy\\anaconda3\\Lib\\site-packages\\yfinance\\utils.py:775: FutureWarning: The 'unit' keyword in TimedeltaIndex construction is deprecated and will be removed in a future version. Use pd.to_timedelta instead.\n",
      "  df.index += _pd.TimedeltaIndex(dst_error_hours, 'h')\n",
      "[*********************100%%**********************]  1 of 1 completed\n"
     ]
    },
    {
     "name": "stdout",
     "output_type": "stream",
     "text": [
      "Empty DataFrame\n",
      "Columns: [Open, High, Low, Close, Adj Close, Volume]\n",
      "Index: []\n",
      "             Open   High    Low  Close  Adj Close  Volume\n",
      "Date                                                     \n",
      "2020-09-10  13.80  14.04  13.74  13.77  12.914276   60700\n",
      "2020-09-11  13.87  13.92  13.75  13.76  12.904898   33300\n",
      "2020-09-14  13.76  13.85  13.75  13.83  13.019749   28900\n",
      "2020-09-15  13.83  13.84  13.80  13.84  13.029163   18500\n",
      "2020-09-16  13.78  13.84  13.65  13.69  12.887951   39000\n",
      "...           ...    ...    ...    ...        ...     ...\n",
      "2021-09-02  15.20  15.20  15.11  15.13  14.822275   35100\n",
      "2021-09-03  15.21  15.21  15.01  15.06  14.753698   26000\n",
      "2021-09-07  15.05  15.05  14.79  14.83  14.528377   56200\n",
      "2021-09-08  14.84  14.85  14.78  14.80  14.498987   66300\n",
      "2021-09-09  14.80  14.83  14.78  14.79  14.489190   83200\n",
      "\n",
      "[252 rows x 6 columns]\n"
     ]
    },
    {
     "name": "stderr",
     "output_type": "stream",
     "text": [
      "[*********************100%%**********************]  1 of 1 completed\n",
      "\n",
      "1 Failed download:\n",
      "['639358209']: Exception('%ticker%: No timezone found, symbol may be delisted')\n"
     ]
    },
    {
     "name": "stdout",
     "output_type": "stream",
     "text": [
      "Empty DataFrame\n",
      "Columns: [Open, High, Low, Close, Adj Close, Volume]\n",
      "Index: []\n"
     ]
    },
    {
     "name": "stderr",
     "output_type": "stream",
     "text": [
      "[*********************100%%**********************]  1 of 1 completed\n",
      "\n",
      "1 Failed download:\n",
      "['G23726121']: Exception('%ticker%: No timezone found, symbol may be delisted')\n"
     ]
    },
    {
     "name": "stdout",
     "output_type": "stream",
     "text": [
      "Empty DataFrame\n",
      "Columns: [Open, High, Low, Close, Adj Close, Volume]\n",
      "Index: []\n"
     ]
    },
    {
     "name": "stderr",
     "output_type": "stream",
     "text": [
      "[*********************100%%**********************]  1 of 1 completed\n",
      "\n",
      "1 Failed download:\n",
      "['456357201']: Exception('%ticker%: No timezone found, symbol may be delisted')\n",
      "c:\\Users\\ziggy\\anaconda3\\Lib\\site-packages\\yfinance\\utils.py:775: FutureWarning: The 'unit' keyword in TimedeltaIndex construction is deprecated and will be removed in a future version. Use pd.to_timedelta instead.\n",
      "  df.index += _pd.TimedeltaIndex(dst_error_hours, 'h')\n",
      "[*********************100%%**********************]  1 of 1 completed\n"
     ]
    },
    {
     "name": "stdout",
     "output_type": "stream",
     "text": [
      "Empty DataFrame\n",
      "Columns: [Open, High, Low, Close, Adj Close, Volume]\n",
      "Index: []\n",
      "             Open   High    Low  Close  Adj Close  Volume\n",
      "Date                                                     \n",
      "2020-09-03  13.88  14.16  13.85  14.01  13.139359   67600\n",
      "2020-09-04  13.87  14.00  13.73  13.74  12.886140   49700\n",
      "2020-09-08  13.65  13.77  13.61  13.73  12.876760   77700\n",
      "2020-09-09  13.69  13.97  13.69  13.80  12.942409   29900\n",
      "2020-09-10  13.80  14.04  13.74  13.77  12.914276   60700\n",
      "...           ...    ...    ...    ...        ...     ...\n",
      "2021-08-27  15.25  15.27  15.18  15.22  14.910444   48800\n",
      "2021-08-30  15.25  15.25  15.21  15.23  14.920240   22100\n",
      "2021-08-31  15.25  15.25  15.16  15.22  14.910444   41000\n",
      "2021-09-01  15.25  15.25  15.15  15.16  14.851665   32600\n",
      "2021-09-02  15.20  15.20  15.11  15.13  14.822275   35100\n",
      "\n",
      "[252 rows x 6 columns]\n"
     ]
    },
    {
     "name": "stderr",
     "output_type": "stream",
     "text": [
      "[*********************100%%**********************]  1 of 1 completed\n",
      "\n",
      "1 Failed download:\n",
      "['42984L204']: Exception('%ticker%: No timezone found, symbol may be delisted')\n"
     ]
    },
    {
     "name": "stdout",
     "output_type": "stream",
     "text": [
      "Empty DataFrame\n",
      "Columns: [Open, High, Low, Close, Adj Close, Volume]\n",
      "Index: []\n"
     ]
    },
    {
     "name": "stderr",
     "output_type": "stream",
     "text": [
      "[*********************100%%**********************]  1 of 1 completed\n",
      "\n",
      "1 Failed download:\n",
      "['87403Q201']: Exception('%ticker%: No timezone found, symbol may be delisted')\n"
     ]
    },
    {
     "name": "stdout",
     "output_type": "stream",
     "text": [
      "Empty DataFrame\n",
      "Columns: [Open, High, Low, Close, Adj Close, Volume]\n",
      "Index: []\n"
     ]
    },
    {
     "name": "stderr",
     "output_type": "stream",
     "text": [
      "[*********************100%%**********************]  1 of 1 completed\n",
      "\n",
      "1 Failed download:\n",
      "['457821304']: Exception('%ticker%: No timezone found, symbol may be delisted')\n"
     ]
    },
    {
     "name": "stdout",
     "output_type": "stream",
     "text": [
      "Empty DataFrame\n",
      "Columns: [Open, High, Low, Close, Adj Close, Volume]\n",
      "Index: []\n"
     ]
    },
    {
     "name": "stderr",
     "output_type": "stream",
     "text": [
      "[*********************100%%**********************]  1 of 1 completed\n",
      "\n",
      "1 Failed download:\n",
      "['18978W208']: Exception('%ticker%: No timezone found, symbol may be delisted')\n"
     ]
    },
    {
     "name": "stdout",
     "output_type": "stream",
     "text": [
      "Empty DataFrame\n",
      "Columns: [Open, High, Low, Close, Adj Close, Volume]\n",
      "Index: []\n"
     ]
    },
    {
     "name": "stderr",
     "output_type": "stream",
     "text": [
      "[*********************100%%**********************]  1 of 1 completed\n",
      "\n",
      "1 Failed download:\n",
      "['15725Q203']: Exception('%ticker%: No timezone found, symbol may be delisted')\n"
     ]
    },
    {
     "name": "stdout",
     "output_type": "stream",
     "text": [
      "Empty DataFrame\n",
      "Columns: [Open, High, Low, Close, Adj Close, Volume]\n",
      "Index: []\n"
     ]
    },
    {
     "name": "stderr",
     "output_type": "stream",
     "text": [
      "[*********************100%%**********************]  1 of 1 completed\n",
      "\n",
      "1 Failed download:\n",
      "['G1702T132']: Exception('%ticker%: No timezone found, symbol may be delisted')\n",
      "c:\\Users\\ziggy\\anaconda3\\Lib\\site-packages\\yfinance\\utils.py:775: FutureWarning: The 'unit' keyword in TimedeltaIndex construction is deprecated and will be removed in a future version. Use pd.to_timedelta instead.\n",
      "  df.index += _pd.TimedeltaIndex(dst_error_hours, 'h')\n",
      "[*********************100%%**********************]  1 of 1 completed\n",
      "c:\\Users\\ziggy\\anaconda3\\Lib\\site-packages\\yfinance\\utils.py:775: FutureWarning: The 'unit' keyword in TimedeltaIndex construction is deprecated and will be removed in a future version. Use pd.to_timedelta instead.\n",
      "  df.index += _pd.TimedeltaIndex(dst_error_hours, 'h')\n",
      "[*********************100%%**********************]  1 of 1 completed\n"
     ]
    },
    {
     "name": "stdout",
     "output_type": "stream",
     "text": [
      "Empty DataFrame\n",
      "Columns: [Open, High, Low, Close, Adj Close, Volume]\n",
      "Index: []\n",
      "             Open   High    Low  Close  Adj Close  Volume\n",
      "Date                                                     \n",
      "2020-08-25  13.86  13.99  13.86  13.98  13.111222   28300\n",
      "2020-08-26  13.96  14.02  13.94  14.02  13.148741   35100\n",
      "2020-08-27  14.00  14.00  13.91  13.96  13.092469   32100\n",
      "2020-08-28  14.02  14.05  13.96  14.01  13.139359   26900\n",
      "2020-08-31  14.02  14.02  13.64  13.65  12.801732   81100\n",
      "...           ...    ...    ...    ...        ...     ...\n",
      "2021-08-18  15.40  15.40  15.35  15.40  15.086782   25700\n",
      "2021-08-19  15.47  15.47  15.31  15.38  15.067190   49500\n",
      "2021-08-20  15.32  15.41  15.06  15.27  14.959429   36900\n",
      "2021-08-23  15.27  15.33  15.25  15.31  14.998614   32000\n",
      "2021-08-24  15.38  15.38  15.33  15.35  15.037801   18400\n",
      "\n",
      "[252 rows x 6 columns]\n",
      "             Open   High    Low  Close  Adj Close  Volume\n",
      "Date                                                     \n",
      "2020-08-25  13.86  13.99  13.86  13.98  13.111222   28300\n",
      "2020-08-26  13.96  14.02  13.94  14.02  13.148741   35100\n",
      "2020-08-27  14.00  14.00  13.91  13.96  13.092469   32100\n",
      "2020-08-28  14.02  14.05  13.96  14.01  13.139359   26900\n",
      "2020-08-31  14.02  14.02  13.64  13.65  12.801732   81100\n",
      "...           ...    ...    ...    ...        ...     ...\n",
      "2021-08-18  15.40  15.40  15.35  15.40  15.086782   25700\n",
      "2021-08-19  15.47  15.47  15.31  15.38  15.067190   49500\n",
      "2021-08-20  15.32  15.41  15.06  15.27  14.959429   36900\n",
      "2021-08-23  15.27  15.33  15.25  15.31  14.998614   32000\n",
      "2021-08-24  15.38  15.38  15.33  15.35  15.037801   18400\n",
      "\n",
      "[252 rows x 6 columns]\n"
     ]
    },
    {
     "name": "stderr",
     "output_type": "stream",
     "text": [
      "c:\\Users\\ziggy\\anaconda3\\Lib\\site-packages\\yfinance\\utils.py:775: FutureWarning: The 'unit' keyword in TimedeltaIndex construction is deprecated and will be removed in a future version. Use pd.to_timedelta instead.\n",
      "  df.index += _pd.TimedeltaIndex(dst_error_hours, 'h')\n",
      "[*********************100%%**********************]  1 of 1 completed\n"
     ]
    },
    {
     "name": "stdout",
     "output_type": "stream",
     "text": [
      "             Open   High    Low  Close  Adj Close  Volume\n",
      "Date                                                     \n",
      "2020-08-20  14.01  14.03  13.87  13.87  13.008060   18400\n",
      "2020-08-21  13.94  14.06  13.86  13.92  13.054952   55400\n",
      "2020-08-24  13.99  13.99  13.90  13.96  13.092469   21800\n",
      "2020-08-25  13.86  13.99  13.86  13.98  13.111222   28300\n",
      "2020-08-26  13.96  14.02  13.94  14.02  13.148741   35100\n",
      "...           ...    ...    ...    ...        ...     ...\n",
      "2021-08-13  15.33  15.33  15.22  15.25  14.939835   48000\n",
      "2021-08-16  15.30  15.39  15.23  15.35  15.037801   48300\n",
      "2021-08-17  15.35  15.39  15.35  15.39  15.076987   41100\n",
      "2021-08-18  15.40  15.40  15.35  15.40  15.086782   25700\n",
      "2021-08-19  15.47  15.47  15.31  15.38  15.067190   49500\n",
      "\n",
      "[252 rows x 6 columns]\n"
     ]
    },
    {
     "name": "stderr",
     "output_type": "stream",
     "text": [
      "[*********************100%%**********************]  1 of 1 completed\n",
      "\n",
      "1 Failed download:\n",
      "['311875207']: Exception('%ticker%: No timezone found, symbol may be delisted')\n"
     ]
    },
    {
     "name": "stdout",
     "output_type": "stream",
     "text": [
      "Empty DataFrame\n",
      "Columns: [Open, High, Low, Close, Adj Close, Volume]\n",
      "Index: []\n"
     ]
    },
    {
     "name": "stderr",
     "output_type": "stream",
     "text": [
      "[*********************100%%**********************]  1 of 1 completed\n",
      "\n",
      "1 Failed download:\n",
      "['349885202']: Exception('%ticker%: No timezone found, symbol may be delisted')\n"
     ]
    },
    {
     "name": "stdout",
     "output_type": "stream",
     "text": [
      "Empty DataFrame\n",
      "Columns: [Open, High, Low, Close, Adj Close, Volume]\n",
      "Index: []\n"
     ]
    },
    {
     "name": "stderr",
     "output_type": "stream",
     "text": [
      "[*********************100%%**********************]  1 of 1 completed\n",
      "\n",
      "1 Failed download:\n",
      "['344328208']: Exception('%ticker%: No timezone found, symbol may be delisted')\n"
     ]
    },
    {
     "name": "stdout",
     "output_type": "stream",
     "text": [
      "Empty DataFrame\n",
      "Columns: [Open, High, Low, Close, Adj Close, Volume]\n",
      "Index: []\n"
     ]
    },
    {
     "name": "stderr",
     "output_type": "stream",
     "text": [
      "[*********************100%%**********************]  1 of 1 completed\n",
      "\n",
      "1 Failed download:\n",
      "['66516T203']: Exception('%ticker%: No timezone found, symbol may be delisted')\n",
      "c:\\Users\\ziggy\\anaconda3\\Lib\\site-packages\\yfinance\\utils.py:775: FutureWarning: The 'unit' keyword in TimedeltaIndex construction is deprecated and will be removed in a future version. Use pd.to_timedelta instead.\n",
      "  df.index += _pd.TimedeltaIndex(dst_error_hours, 'h')\n",
      "[*********************100%%**********************]  1 of 1 completed\n"
     ]
    },
    {
     "name": "stdout",
     "output_type": "stream",
     "text": [
      "Empty DataFrame\n",
      "Columns: [Open, High, Low, Close, Adj Close, Volume]\n",
      "Index: []\n",
      "             Open   High    Low  Close  Adj Close  Volume\n",
      "Date                                                     \n",
      "2020-08-17  14.06  14.30  14.05  14.11  13.233145   87700\n",
      "2020-08-18  14.12  14.16  13.92  13.97  13.101848  124900\n",
      "2020-08-19  14.02  14.12  13.91  13.92  13.054952   48700\n",
      "2020-08-20  14.01  14.03  13.87  13.87  13.008060   18400\n",
      "2020-08-21  13.94  14.06  13.86  13.92  13.054952   55400\n",
      "...           ...    ...    ...    ...        ...     ...\n",
      "2021-08-10  15.41  15.41  15.25  15.30  14.938074   43300\n",
      "2021-08-11  15.45  15.45  15.24  15.36  14.996655   49400\n",
      "2021-08-12  15.42  15.42  15.17  15.17  14.861462   19800\n",
      "2021-08-13  15.33  15.33  15.22  15.25  14.939835   48000\n",
      "2021-08-16  15.30  15.39  15.23  15.35  15.037801   48300\n",
      "\n",
      "[252 rows x 6 columns]\n"
     ]
    },
    {
     "name": "stderr",
     "output_type": "stream",
     "text": [
      "[*********************100%%**********************]  1 of 1 completed\n",
      "\n",
      "1 Failed download:\n",
      "['855185203']: Exception('%ticker%: No timezone found, symbol may be delisted')\n"
     ]
    },
    {
     "name": "stdout",
     "output_type": "stream",
     "text": [
      "Empty DataFrame\n",
      "Columns: [Open, High, Low, Close, Adj Close, Volume]\n",
      "Index: []\n"
     ]
    },
    {
     "name": "stderr",
     "output_type": "stream",
     "text": [
      "[*********************100%%**********************]  1 of 1 completed\n",
      "\n",
      "1 Failed download:\n",
      "['233277201']: Exception('%ticker%: No timezone found, symbol may be delisted')\n",
      "c:\\Users\\ziggy\\anaconda3\\Lib\\site-packages\\yfinance\\utils.py:775: FutureWarning: The 'unit' keyword in TimedeltaIndex construction is deprecated and will be removed in a future version. Use pd.to_timedelta instead.\n",
      "  df.index += _pd.TimedeltaIndex(dst_error_hours, 'h')\n",
      "[*********************100%%**********************]  1 of 1 completed\n"
     ]
    },
    {
     "name": "stdout",
     "output_type": "stream",
     "text": [
      "Empty DataFrame\n",
      "Columns: [Open, High, Low, Close, Adj Close, Volume]\n",
      "Index: []\n",
      "             Open   High    Low  Close  Adj Close  Volume\n",
      "Date                                                     \n",
      "2020-08-13  14.17  14.23  14.05  14.10  13.223767   24600\n",
      "2020-08-14  14.13  14.13  14.05  14.06  13.186253   29300\n",
      "2020-08-17  14.06  14.30  14.05  14.11  13.233145   87700\n",
      "2020-08-18  14.12  14.16  13.92  13.97  13.101848  124900\n",
      "2020-08-19  14.02  14.12  13.91  13.92  13.054952   48700\n",
      "...           ...    ...    ...    ...        ...     ...\n",
      "2021-08-06  15.39  15.41  15.31  15.37  15.006418   18300\n",
      "2021-08-09  15.39  15.40  15.11  15.40  15.035707   76400\n",
      "2021-08-10  15.41  15.41  15.25  15.30  14.938074   43300\n",
      "2021-08-11  15.45  15.45  15.24  15.36  14.996655   49400\n",
      "2021-08-12  15.42  15.42  15.17  15.17  14.861462   19800\n",
      "\n",
      "[252 rows x 6 columns]\n"
     ]
    },
    {
     "name": "stderr",
     "output_type": "stream",
     "text": [
      "[*********************100%%**********************]  1 of 1 completed\n",
      "\n",
      "1 Failed download:\n",
      "['53625R203']: Exception('%ticker%: No timezone found, symbol may be delisted')\n",
      "c:\\Users\\ziggy\\anaconda3\\Lib\\site-packages\\yfinance\\utils.py:775: FutureWarning: The 'unit' keyword in TimedeltaIndex construction is deprecated and will be removed in a future version. Use pd.to_timedelta instead.\n",
      "  df.index += _pd.TimedeltaIndex(dst_error_hours, 'h')\n",
      "[*********************100%%**********************]  1 of 1 completed\n"
     ]
    },
    {
     "name": "stdout",
     "output_type": "stream",
     "text": [
      "Empty DataFrame\n",
      "Columns: [Open, High, Low, Close, Adj Close, Volume]\n",
      "Index: []\n",
      "             Open   High    Low  Close  Adj Close  Volume\n",
      "Date                                                     \n",
      "2020-08-12  14.28  14.29  14.18  14.19  13.259405   13800\n",
      "2020-08-13  14.17  14.23  14.05  14.10  13.223767   24600\n",
      "2020-08-14  14.13  14.13  14.05  14.06  13.186253   29300\n",
      "2020-08-17  14.06  14.30  14.05  14.11  13.233145   87700\n",
      "2020-08-18  14.12  14.16  13.92  13.97  13.101848  124900\n",
      "...           ...    ...    ...    ...        ...     ...\n",
      "2021-08-05  15.40  15.43  15.35  15.39  15.025945   22800\n",
      "2021-08-06  15.39  15.41  15.31  15.37  15.006418   18300\n",
      "2021-08-09  15.39  15.40  15.11  15.40  15.035707   76400\n",
      "2021-08-10  15.41  15.41  15.25  15.30  14.938074   43300\n",
      "2021-08-11  15.45  15.45  15.24  15.36  14.996655   49400\n",
      "\n",
      "[252 rows x 6 columns]\n"
     ]
    },
    {
     "name": "stderr",
     "output_type": "stream",
     "text": [
      "[*********************100%%**********************]  1 of 1 completed\n",
      "\n",
      "1 Failed download:\n",
      "['G7417R121']: Exception('%ticker%: No timezone found, symbol may be delisted')\n"
     ]
    },
    {
     "name": "stdout",
     "output_type": "stream",
     "text": [
      "Empty DataFrame\n",
      "Columns: [Open, High, Low, Close, Adj Close, Volume]\n",
      "Index: []\n"
     ]
    },
    {
     "name": "stderr",
     "output_type": "stream",
     "text": [
      "[*********************100%%**********************]  1 of 1 completed\n",
      "\n",
      "1 Failed download:\n",
      "['349642207']: Exception('%ticker%: No timezone found, symbol may be delisted')\n"
     ]
    },
    {
     "name": "stdout",
     "output_type": "stream",
     "text": [
      "Empty DataFrame\n",
      "Columns: [Open, High, Low, Close, Adj Close, Volume]\n",
      "Index: []\n"
     ]
    },
    {
     "name": "stderr",
     "output_type": "stream",
     "text": [
      "[*********************100%%**********************]  1 of 1 completed\n",
      "\n",
      "1 Failed download:\n",
      "['92840T206']: Exception('%ticker%: No timezone found, symbol may be delisted')\n"
     ]
    },
    {
     "name": "stdout",
     "output_type": "stream",
     "text": [
      "Empty DataFrame\n",
      "Columns: [Open, High, Low, Close, Adj Close, Volume]\n",
      "Index: []\n"
     ]
    },
    {
     "name": "stderr",
     "output_type": "stream",
     "text": [
      "[*********************100%%**********************]  1 of 1 completed\n",
      "\n",
      "1 Failed download:\n",
      "['103085205']: Exception('%ticker%: No timezone found, symbol may be delisted')\n"
     ]
    },
    {
     "name": "stdout",
     "output_type": "stream",
     "text": [
      "Empty DataFrame\n",
      "Columns: [Open, High, Low, Close, Adj Close, Volume]\n",
      "Index: []\n"
     ]
    },
    {
     "name": "stderr",
     "output_type": "stream",
     "text": [
      "[*********************100%%**********************]  1 of 1 completed\n",
      "\n",
      "1 Failed download:\n",
      "['435063201']: Exception('%ticker%: No timezone found, symbol may be delisted')\n"
     ]
    },
    {
     "name": "stdout",
     "output_type": "stream",
     "text": [
      "Empty DataFrame\n",
      "Columns: [Open, High, Low, Close, Adj Close, Volume]\n",
      "Index: []\n"
     ]
    },
    {
     "name": "stderr",
     "output_type": "stream",
     "text": [
      "[*********************100%%**********************]  1 of 1 completed\n",
      "\n",
      "1 Failed download:\n",
      "['G9879L121']: Exception('%ticker%: No timezone found, symbol may be delisted')\n",
      "c:\\Users\\ziggy\\anaconda3\\Lib\\site-packages\\yfinance\\utils.py:775: FutureWarning: The 'unit' keyword in TimedeltaIndex construction is deprecated and will be removed in a future version. Use pd.to_timedelta instead.\n",
      "  df.index += _pd.TimedeltaIndex(dst_error_hours, 'h')\n",
      "[*********************100%%**********************]  1 of 1 completed\n",
      "c:\\Users\\ziggy\\anaconda3\\Lib\\site-packages\\yfinance\\utils.py:775: FutureWarning: The 'unit' keyword in TimedeltaIndex construction is deprecated and will be removed in a future version. Use pd.to_timedelta instead.\n",
      "  df.index += _pd.TimedeltaIndex(dst_error_hours, 'h')\n",
      "[*********************100%%**********************]  1 of 1 completed\n"
     ]
    },
    {
     "name": "stdout",
     "output_type": "stream",
     "text": [
      "Empty DataFrame\n",
      "Columns: [Open, High, Low, Close, Adj Close, Volume]\n",
      "Index: []\n",
      "             Open   High    Low  Close  Adj Close  Volume\n",
      "Date                                                     \n",
      "2020-08-06  14.10  14.17  14.10  14.11  13.184649   21600\n",
      "2020-08-07  14.14  14.17  14.12  14.12  13.193997   14100\n",
      "2020-08-10  14.17  14.17  14.13  14.13  13.203341   45600\n",
      "2020-08-11  14.17  14.39  14.14  14.24  13.306127   51200\n",
      "2020-08-12  14.28  14.29  14.18  14.19  13.259405   13800\n",
      "...           ...    ...    ...    ...        ...     ...\n",
      "2021-07-30  15.27  15.33  15.23  15.28  14.918547   59000\n",
      "2021-08-02  15.53  15.53  15.24  15.44  15.074761   53200\n",
      "2021-08-03  15.45  15.49  15.38  15.44  15.074761   29700\n",
      "2021-08-04  15.46  15.46  15.31  15.32  14.957601   22000\n",
      "2021-08-05  15.40  15.43  15.35  15.39  15.025945   22800\n",
      "\n",
      "[252 rows x 6 columns]\n",
      "             Open   High    Low  Close  Adj Close  Volume\n",
      "Date                                                     \n",
      "2020-08-06  14.10  14.17  14.10  14.11  13.184649   21600\n",
      "2020-08-07  14.14  14.17  14.12  14.12  13.193997   14100\n",
      "2020-08-10  14.17  14.17  14.13  14.13  13.203341   45600\n",
      "2020-08-11  14.17  14.39  14.14  14.24  13.306127   51200\n",
      "2020-08-12  14.28  14.29  14.18  14.19  13.259405   13800\n",
      "...           ...    ...    ...    ...        ...     ...\n",
      "2021-07-30  15.27  15.33  15.23  15.28  14.918547   59000\n",
      "2021-08-02  15.53  15.53  15.24  15.44  15.074761   53200\n",
      "2021-08-03  15.45  15.49  15.38  15.44  15.074761   29700\n",
      "2021-08-04  15.46  15.46  15.31  15.32  14.957601   22000\n",
      "2021-08-05  15.40  15.43  15.35  15.39  15.025945   22800\n",
      "\n",
      "[252 rows x 6 columns]\n"
     ]
    },
    {
     "name": "stderr",
     "output_type": "stream",
     "text": [
      "c:\\Users\\ziggy\\anaconda3\\Lib\\site-packages\\yfinance\\utils.py:775: FutureWarning: The 'unit' keyword in TimedeltaIndex construction is deprecated and will be removed in a future version. Use pd.to_timedelta instead.\n",
      "  df.index += _pd.TimedeltaIndex(dst_error_hours, 'h')\n",
      "[*********************100%%**********************]  1 of 1 completed\n"
     ]
    },
    {
     "name": "stdout",
     "output_type": "stream",
     "text": [
      "             Open   High    Low  Close  Adj Close  Volume\n",
      "Date                                                     \n",
      "2020-08-05  14.12  14.13  14.10  14.11  13.184649   30700\n",
      "2020-08-06  14.10  14.17  14.10  14.11  13.184649   21600\n",
      "2020-08-07  14.14  14.17  14.12  14.12  13.193997   14100\n",
      "2020-08-10  14.17  14.17  14.13  14.13  13.203341   45600\n",
      "2020-08-11  14.17  14.39  14.14  14.24  13.306127   51200\n",
      "...           ...    ...    ...    ...        ...     ...\n",
      "2021-07-29  15.15  15.25  15.15  15.21  14.850204   31500\n",
      "2021-07-30  15.27  15.33  15.23  15.28  14.918547   59000\n",
      "2021-08-02  15.53  15.53  15.24  15.44  15.074761   53200\n",
      "2021-08-03  15.45  15.49  15.38  15.44  15.074761   29700\n",
      "2021-08-04  15.46  15.46  15.31  15.32  14.957601   22000\n",
      "\n",
      "[252 rows x 6 columns]\n"
     ]
    },
    {
     "name": "stderr",
     "output_type": "stream",
     "text": [
      "[*********************100%%**********************]  1 of 1 completed\n",
      "\n",
      "1 Failed download:\n",
      "['382864205']: Exception('%ticker%: No timezone found, symbol may be delisted')\n"
     ]
    },
    {
     "name": "stdout",
     "output_type": "stream",
     "text": [
      "Empty DataFrame\n",
      "Columns: [Open, High, Low, Close, Adj Close, Volume]\n",
      "Index: []\n"
     ]
    },
    {
     "name": "stderr",
     "output_type": "stream",
     "text": [
      "[*********************100%%**********************]  1 of 1 completed\n",
      "\n",
      "1 Failed download:\n",
      "['362019200']: Exception('%ticker%: No timezone found, symbol may be delisted')\n"
     ]
    },
    {
     "name": "stdout",
     "output_type": "stream",
     "text": [
      "Empty DataFrame\n",
      "Columns: [Open, High, Low, Close, Adj Close, Volume]\n",
      "Index: []\n"
     ]
    },
    {
     "name": "stderr",
     "output_type": "stream",
     "text": [
      "[*********************100%%**********************]  1 of 1 completed\n",
      "\n",
      "1 Failed download:\n",
      "['G3166T129']: Exception('%ticker%: No timezone found, symbol may be delisted')\n"
     ]
    },
    {
     "name": "stdout",
     "output_type": "stream",
     "text": [
      "Empty DataFrame\n",
      "Columns: [Open, High, Low, Close, Adj Close, Volume]\n",
      "Index: []\n"
     ]
    },
    {
     "name": "stderr",
     "output_type": "stream",
     "text": [
      "[*********************100%%**********************]  1 of 1 completed\n",
      "\n",
      "1 Failed download:\n",
      "['651448201']: Exception('%ticker%: No timezone found, symbol may be delisted')\n"
     ]
    },
    {
     "name": "stdout",
     "output_type": "stream",
     "text": [
      "Empty DataFrame\n",
      "Columns: [Open, High, Low, Close, Adj Close, Volume]\n",
      "Index: []\n"
     ]
    },
    {
     "name": "stderr",
     "output_type": "stream",
     "text": [
      "[*********************100%%**********************]  1 of 1 completed\n",
      "\n",
      "1 Failed download:\n",
      "['26873Y203']: Exception('%ticker%: No timezone found, symbol may be delisted')\n"
     ]
    },
    {
     "name": "stdout",
     "output_type": "stream",
     "text": [
      "Empty DataFrame\n",
      "Columns: [Open, High, Low, Close, Adj Close, Volume]\n",
      "Index: []\n"
     ]
    },
    {
     "name": "stderr",
     "output_type": "stream",
     "text": [
      "[*********************100%%**********************]  1 of 1 completed\n",
      "\n",
      "1 Failed download:\n",
      "['171439201']: Exception('%ticker%: No timezone found, symbol may be delisted')\n",
      "c:\\Users\\ziggy\\anaconda3\\Lib\\site-packages\\yfinance\\utils.py:775: FutureWarning: The 'unit' keyword in TimedeltaIndex construction is deprecated and will be removed in a future version. Use pd.to_timedelta instead.\n",
      "  df.index += _pd.TimedeltaIndex(dst_error_hours, 'h')\n",
      "[*********************100%%**********************]  1 of 1 completed\n",
      "c:\\Users\\ziggy\\anaconda3\\Lib\\site-packages\\yfinance\\utils.py:775: FutureWarning: The 'unit' keyword in TimedeltaIndex construction is deprecated and will be removed in a future version. Use pd.to_timedelta instead.\n",
      "  df.index += _pd.TimedeltaIndex(dst_error_hours, 'h')\n",
      "[*********************100%%**********************]  1 of 1 completed\n"
     ]
    },
    {
     "name": "stdout",
     "output_type": "stream",
     "text": [
      "Empty DataFrame\n",
      "Columns: [Open, High, Low, Close, Adj Close, Volume]\n",
      "Index: []\n",
      "             Open   High    Low  Close  Adj Close  Volume\n",
      "Date                                                     \n",
      "2020-07-28  13.91  13.93  13.88  13.90  12.988424   28500\n",
      "2020-07-29  13.97  14.07  13.95  14.00  13.081864   42700\n",
      "2020-07-30  14.02  14.12  13.99  14.08  13.156618   16200\n",
      "2020-07-31  14.14  14.18  14.11  14.15  13.222029   36200\n",
      "2020-08-03  14.21  14.21  14.09  14.13  13.203341   67100\n",
      "...           ...    ...    ...    ...        ...     ...\n",
      "2021-07-21  15.05  15.11  14.92  14.94  14.586588   18700\n",
      "2021-07-22  15.00  15.07  14.77  14.90  14.547536   34700\n",
      "2021-07-23  15.02  15.04  14.86  14.88  14.528008   36100\n",
      "2021-07-26  14.87  14.93  14.80  14.84  14.488956   27800\n",
      "2021-07-27  14.89  15.02  14.84  15.00  14.645168   44800\n",
      "\n",
      "[252 rows x 6 columns]\n",
      "             Open   High    Low  Close  Adj Close  Volume\n",
      "Date                                                     \n",
      "2020-07-28  13.91  13.93  13.88  13.90  12.988424   28500\n",
      "2020-07-29  13.97  14.07  13.95  14.00  13.081864   42700\n",
      "2020-07-30  14.02  14.12  13.99  14.08  13.156618   16200\n",
      "2020-07-31  14.14  14.18  14.11  14.15  13.222029   36200\n",
      "2020-08-03  14.21  14.21  14.09  14.13  13.203341   67100\n",
      "...           ...    ...    ...    ...        ...     ...\n",
      "2021-07-21  15.05  15.11  14.92  14.94  14.586588   18700\n",
      "2021-07-22  15.00  15.07  14.77  14.90  14.547536   34700\n",
      "2021-07-23  15.02  15.04  14.86  14.88  14.528008   36100\n",
      "2021-07-26  14.87  14.93  14.80  14.84  14.488956   27800\n",
      "2021-07-27  14.89  15.02  14.84  15.00  14.645168   44800\n",
      "\n",
      "[252 rows x 6 columns]\n"
     ]
    },
    {
     "name": "stderr",
     "output_type": "stream",
     "text": [
      "[*********************100%%**********************]  1 of 1 completed\n",
      "\n",
      "1 Failed download:\n",
      "['274681204']: Exception('%ticker%: No timezone found, symbol may be delisted')\n"
     ]
    },
    {
     "name": "stdout",
     "output_type": "stream",
     "text": [
      "Empty DataFrame\n",
      "Columns: [Open, High, Low, Close, Adj Close, Volume]\n",
      "Index: []\n"
     ]
    },
    {
     "name": "stderr",
     "output_type": "stream",
     "text": [
      "[*********************100%%**********************]  1 of 1 completed\n",
      "\n",
      "1 Failed download:\n",
      "['71531R208']: Exception('%ticker%: No timezone found, symbol may be delisted')\n"
     ]
    },
    {
     "name": "stdout",
     "output_type": "stream",
     "text": [
      "Empty DataFrame\n",
      "Columns: [Open, High, Low, Close, Adj Close, Volume]\n",
      "Index: []\n"
     ]
    },
    {
     "name": "stderr",
     "output_type": "stream",
     "text": [
      "[*********************100%%**********************]  1 of 1 completed\n",
      "\n",
      "1 Failed download:\n",
      "['74348Q207']: Exception('%ticker%: No timezone found, symbol may be delisted')\n"
     ]
    },
    {
     "name": "stdout",
     "output_type": "stream",
     "text": [
      "Empty DataFrame\n",
      "Columns: [Open, High, Low, Close, Adj Close, Volume]\n",
      "Index: []\n"
     ]
    },
    {
     "name": "stderr",
     "output_type": "stream",
     "text": [
      "[*********************100%%**********************]  1 of 1 completed\n",
      "\n",
      "1 Failed download:\n",
      "['G4086B115']: Exception('%ticker%: No timezone found, symbol may be delisted')\n"
     ]
    },
    {
     "name": "stdout",
     "output_type": "stream",
     "text": [
      "Empty DataFrame\n",
      "Columns: [Open, High, Low, Close, Adj Close, Volume]\n",
      "Index: []\n"
     ]
    },
    {
     "name": "stderr",
     "output_type": "stream",
     "text": [
      "[*********************100%%**********************]  1 of 1 completed\n",
      "\n",
      "1 Failed download:\n",
      "['244413209']: Exception('%ticker%: No timezone found, symbol may be delisted')\n",
      "c:\\Users\\ziggy\\anaconda3\\Lib\\site-packages\\yfinance\\utils.py:775: FutureWarning: The 'unit' keyword in TimedeltaIndex construction is deprecated and will be removed in a future version. Use pd.to_timedelta instead.\n",
      "  df.index += _pd.TimedeltaIndex(dst_error_hours, 'h')\n",
      "[*********************100%%**********************]  1 of 1 completed\n",
      "c:\\Users\\ziggy\\anaconda3\\Lib\\site-packages\\yfinance\\utils.py:775: FutureWarning: The 'unit' keyword in TimedeltaIndex construction is deprecated and will be removed in a future version. Use pd.to_timedelta instead.\n",
      "  df.index += _pd.TimedeltaIndex(dst_error_hours, 'h')\n",
      "[*********************100%%**********************]  1 of 1 completed\n"
     ]
    },
    {
     "name": "stdout",
     "output_type": "stream",
     "text": [
      "Empty DataFrame\n",
      "Columns: [Open, High, Low, Close, Adj Close, Volume]\n",
      "Index: []\n",
      "             Open   High    Low  Close  Adj Close  Volume\n",
      "Date                                                     \n",
      "2020-07-17  13.48  13.63  13.48  13.63  12.736129   33100\n",
      "2020-07-20  13.69  13.71  13.59  13.71  12.810883   37600\n",
      "2020-07-21  13.73  13.73  13.63  13.68  12.782851   30100\n",
      "2020-07-22  13.66  13.72  13.66  13.70  12.801538   29100\n",
      "2020-07-23  13.70  13.76  13.69  13.76  12.857607   26500\n",
      "...           ...    ...    ...    ...        ...     ...\n",
      "2021-07-12  15.48  15.49  15.31  15.33  14.915990    8700\n",
      "2021-07-13  15.69  15.69  15.15  15.15  14.740851   72600\n",
      "2021-07-14  15.13  15.20  15.04  15.04  14.684223   24500\n",
      "2021-07-15  15.24  15.24  14.94  14.99  14.635407   51300\n",
      "2021-07-16  15.00  15.05  14.94  14.97  14.615879   31100\n",
      "\n",
      "[252 rows x 6 columns]\n",
      "             Open   High    Low  Close  Adj Close  Volume\n",
      "Date                                                     \n",
      "2020-07-17  13.48  13.63  13.48  13.63  12.736129   33100\n",
      "2020-07-20  13.69  13.71  13.59  13.71  12.810883   37600\n",
      "2020-07-21  13.73  13.73  13.63  13.68  12.782851   30100\n",
      "2020-07-22  13.66  13.72  13.66  13.70  12.801538   29100\n",
      "2020-07-23  13.70  13.76  13.69  13.76  12.857607   26500\n",
      "...           ...    ...    ...    ...        ...     ...\n",
      "2021-07-12  15.48  15.49  15.31  15.33  14.915990    8700\n",
      "2021-07-13  15.69  15.69  15.15  15.15  14.740851   72600\n",
      "2021-07-14  15.13  15.20  15.04  15.04  14.684223   24500\n",
      "2021-07-15  15.24  15.24  14.94  14.99  14.635407   51300\n",
      "2021-07-16  15.00  15.05  14.94  14.97  14.615879   31100\n",
      "\n",
      "[252 rows x 6 columns]\n"
     ]
    },
    {
     "name": "stderr",
     "output_type": "stream",
     "text": [
      "[*********************100%%**********************]  1 of 1 completed\n",
      "\n",
      "1 Failed download:\n",
      "['04316G204']: Exception('%ticker%: No timezone found, symbol may be delisted')\n"
     ]
    },
    {
     "name": "stdout",
     "output_type": "stream",
     "text": [
      "Empty DataFrame\n",
      "Columns: [Open, High, Low, Close, Adj Close, Volume]\n",
      "Index: []\n"
     ]
    },
    {
     "name": "stderr",
     "output_type": "stream",
     "text": [
      "[*********************100%%**********************]  1 of 1 completed\n",
      "\n",
      "1 Failed download:\n",
      "['69375F207']: Exception('%ticker%: No timezone found, symbol may be delisted')\n"
     ]
    },
    {
     "name": "stdout",
     "output_type": "stream",
     "text": [
      "Empty DataFrame\n",
      "Columns: [Open, High, Low, Close, Adj Close, Volume]\n",
      "Index: []\n"
     ]
    },
    {
     "name": "stderr",
     "output_type": "stream",
     "text": [
      "[*********************100%%**********************]  1 of 1 completed\n",
      "\n",
      "1 Failed download:\n",
      "['G32219118']: Exception('%ticker%: No timezone found, symbol may be delisted')\n",
      "c:\\Users\\ziggy\\anaconda3\\Lib\\site-packages\\yfinance\\utils.py:775: FutureWarning: The 'unit' keyword in TimedeltaIndex construction is deprecated and will be removed in a future version. Use pd.to_timedelta instead.\n",
      "  df.index += _pd.TimedeltaIndex(dst_error_hours, 'h')\n",
      "[*********************100%%**********************]  1 of 1 completed\n"
     ]
    },
    {
     "name": "stdout",
     "output_type": "stream",
     "text": [
      "Empty DataFrame\n",
      "Columns: [Open, High, Low, Close, Adj Close, Volume]\n",
      "Index: []\n",
      "             Open   High    Low  Close  Adj Close  Volume\n",
      "Date                                                     \n",
      "2020-07-10  13.59  13.63  13.59  13.63  12.687396   16600\n",
      "2020-07-13  13.63  13.63  13.59  13.59  12.650165   53000\n",
      "2020-07-14  13.60  13.62  13.53  13.53  12.642689   33600\n",
      "2020-07-15  13.48  13.55  13.48  13.53  12.642689   31500\n",
      "2020-07-16  13.49  13.56  13.49  13.52  12.633347   29900\n",
      "...           ...    ...    ...    ...        ...     ...\n",
      "2021-07-02  15.21  15.24  15.04  15.10  14.692204   37700\n",
      "2021-07-06  15.07  15.14  15.07  15.13  14.721394    8200\n",
      "2021-07-07  15.11  15.20  15.04  15.11  14.701930   58800\n",
      "2021-07-08  15.11  15.21  15.11  15.20  14.789501   17600\n",
      "2021-07-09  15.25  15.34  15.25  15.25  14.838153   23500\n",
      "\n",
      "[252 rows x 6 columns]\n"
     ]
    },
    {
     "name": "stderr",
     "output_type": "stream",
     "text": [
      "[*********************100%%**********************]  1 of 1 completed\n",
      "\n",
      "1 Failed download:\n",
      "['14070Y200']: Exception('%ticker%: No timezone found, symbol may be delisted')\n"
     ]
    },
    {
     "name": "stdout",
     "output_type": "stream",
     "text": [
      "Empty DataFrame\n",
      "Columns: [Open, High, Low, Close, Adj Close, Volume]\n",
      "Index: []\n"
     ]
    },
    {
     "name": "stderr",
     "output_type": "stream",
     "text": [
      "[*********************100%%**********************]  1 of 1 completed\n",
      "\n",
      "1 Failed download:\n",
      "['36258Q204']: Exception('%ticker%: No timezone found, symbol may be delisted')\n"
     ]
    },
    {
     "name": "stdout",
     "output_type": "stream",
     "text": [
      "Empty DataFrame\n",
      "Columns: [Open, High, Low, Close, Adj Close, Volume]\n",
      "Index: []\n"
     ]
    },
    {
     "name": "stderr",
     "output_type": "stream",
     "text": [
      "[*********************100%%**********************]  1 of 1 completed\n",
      "\n",
      "1 Failed download:\n",
      "['698102209']: Exception('%ticker%: No timezone found, symbol may be delisted')\n"
     ]
    },
    {
     "name": "stdout",
     "output_type": "stream",
     "text": [
      "Empty DataFrame\n",
      "Columns: [Open, High, Low, Close, Adj Close, Volume]\n",
      "Index: []\n"
     ]
    },
    {
     "name": "stderr",
     "output_type": "stream",
     "text": [
      "[*********************100%%**********************]  1 of 1 completed\n",
      "\n",
      "1 Failed download:\n",
      "['36118H204']: Exception('%ticker%: No timezone found, symbol may be delisted')\n"
     ]
    },
    {
     "name": "stdout",
     "output_type": "stream",
     "text": [
      "Empty DataFrame\n",
      "Columns: [Open, High, Low, Close, Adj Close, Volume]\n",
      "Index: []\n"
     ]
    },
    {
     "name": "stderr",
     "output_type": "stream",
     "text": [
      "[*********************100%%**********************]  1 of 1 completed\n",
      "\n",
      "1 Failed download:\n",
      "['490073202']: Exception('%ticker%: No timezone found, symbol may be delisted')\n"
     ]
    },
    {
     "name": "stdout",
     "output_type": "stream",
     "text": [
      "Empty DataFrame\n",
      "Columns: [Open, High, Low, Close, Adj Close, Volume]\n",
      "Index: []\n"
     ]
    },
    {
     "name": "stderr",
     "output_type": "stream",
     "text": [
      "[*********************100%%**********************]  1 of 1 completed\n",
      "\n",
      "1 Failed download:\n",
      "['G1643W103']: Exception('%ticker%: No timezone found, symbol may be delisted')\n"
     ]
    },
    {
     "name": "stdout",
     "output_type": "stream",
     "text": [
      "Empty DataFrame\n",
      "Columns: [Open, High, Low, Close, Adj Close, Volume]\n",
      "Index: []\n"
     ]
    },
    {
     "name": "stderr",
     "output_type": "stream",
     "text": [
      "[*********************100%%**********************]  1 of 1 completed\n",
      "\n",
      "1 Failed download:\n",
      "['G9027T125']: Exception('%ticker%: No timezone found, symbol may be delisted')\n"
     ]
    },
    {
     "name": "stdout",
     "output_type": "stream",
     "text": [
      "Empty DataFrame\n",
      "Columns: [Open, High, Low, Close, Adj Close, Volume]\n",
      "Index: []\n"
     ]
    },
    {
     "name": "stderr",
     "output_type": "stream",
     "text": [
      "[*********************100%%**********************]  1 of 1 completed\n",
      "\n",
      "1 Failed download:\n",
      "['443761200']: Exception('%ticker%: No timezone found, symbol may be delisted')\n"
     ]
    },
    {
     "name": "stdout",
     "output_type": "stream",
     "text": [
      "Empty DataFrame\n",
      "Columns: [Open, High, Low, Close, Adj Close, Volume]\n",
      "Index: []\n"
     ]
    },
    {
     "name": "stderr",
     "output_type": "stream",
     "text": [
      "[*********************100%%**********************]  1 of 1 completed\n",
      "\n",
      "1 Failed download:\n",
      "['62401M205']: Exception('%ticker%: No timezone found, symbol may be delisted')\n",
      "c:\\Users\\ziggy\\anaconda3\\Lib\\site-packages\\yfinance\\utils.py:775: FutureWarning: The 'unit' keyword in TimedeltaIndex construction is deprecated and will be removed in a future version. Use pd.to_timedelta instead.\n",
      "  df.index += _pd.TimedeltaIndex(dst_error_hours, 'h')\n",
      "[*********************100%%**********************]  1 of 1 completed\n"
     ]
    },
    {
     "name": "stdout",
     "output_type": "stream",
     "text": [
      "Empty DataFrame\n",
      "Columns: [Open, High, Low, Close, Adj Close, Volume]\n",
      "Index: []\n",
      "             Open   High    Low  Close  Adj Close  Volume\n",
      "Date                                                     \n",
      "2020-06-04  13.51  13.51  13.39  13.47  12.489589   26900\n",
      "2020-06-05  13.50  13.55  13.42  13.46  12.480315   31600\n",
      "2020-06-08  13.53  13.55  13.51  13.55  12.563764   38600\n",
      "2020-06-09  13.49  13.63  13.48  13.58  12.591581   42000\n",
      "2020-06-10  13.52  13.58  13.51  13.53  12.545220   19700\n",
      "...           ...    ...    ...    ...        ...     ...\n",
      "2021-05-27  14.78  14.80  14.66  14.73  14.282042   42600\n",
      "2021-05-28  14.82  14.95  14.65  14.79  14.340216   66000\n",
      "2021-06-01  14.82  14.90  14.78  14.85  14.398392   41800\n",
      "2021-06-02  14.89  14.89  14.86  14.89  14.437176   41300\n",
      "2021-06-03  14.94  14.94  14.88  14.91  14.456569   22200\n",
      "\n",
      "[252 rows x 6 columns]\n"
     ]
    },
    {
     "name": "stderr",
     "output_type": "stream",
     "text": [
      "[*********************100%%**********************]  1 of 1 completed\n",
      "\n",
      "1 Failed download:\n",
      "['34431F203']: Exception('%ticker%: No timezone found, symbol may be delisted')\n"
     ]
    },
    {
     "name": "stdout",
     "output_type": "stream",
     "text": [
      "Empty DataFrame\n",
      "Columns: [Open, High, Low, Close, Adj Close, Volume]\n",
      "Index: []\n"
     ]
    },
    {
     "name": "stderr",
     "output_type": "stream",
     "text": [
      "[*********************100%%**********************]  1 of 1 completed\n",
      "\n",
      "1 Failed download:\n",
      "['543195200']: Exception('%ticker%: No timezone found, symbol may be delisted')\n"
     ]
    },
    {
     "name": "stdout",
     "output_type": "stream",
     "text": [
      "Empty DataFrame\n",
      "Columns: [Open, High, Low, Close, Adj Close, Volume]\n",
      "Index: []\n"
     ]
    },
    {
     "name": "stderr",
     "output_type": "stream",
     "text": [
      "[*********************100%%**********************]  1 of 1 completed\n",
      "\n",
      "1 Failed download:\n",
      "['05600U205']: Exception('%ticker%: No timezone found, symbol may be delisted')\n"
     ]
    },
    {
     "name": "stdout",
     "output_type": "stream",
     "text": [
      "Empty DataFrame\n",
      "Columns: [Open, High, Low, Close, Adj Close, Volume]\n",
      "Index: []\n"
     ]
    },
    {
     "name": "stderr",
     "output_type": "stream",
     "text": [
      "[*********************100%%**********************]  1 of 1 completed\n",
      "\n",
      "1 Failed download:\n",
      "['67012U207']: Exception('%ticker%: No timezone found, symbol may be delisted')\n",
      "c:\\Users\\ziggy\\anaconda3\\Lib\\site-packages\\yfinance\\utils.py:775: FutureWarning: The 'unit' keyword in TimedeltaIndex construction is deprecated and will be removed in a future version. Use pd.to_timedelta instead.\n",
      "  df.index += _pd.TimedeltaIndex(dst_error_hours, 'h')\n",
      "[*********************100%%**********************]  1 of 1 completed\n"
     ]
    },
    {
     "name": "stdout",
     "output_type": "stream",
     "text": [
      "Empty DataFrame\n",
      "Columns: [Open, High, Low, Close, Adj Close, Volume]\n",
      "Index: []\n",
      "             Open   High    Low  Close  Adj Close  Volume\n",
      "Date                                                     \n",
      "2020-05-18  12.78  12.84  12.73  12.77  11.840539   35300\n",
      "2020-05-19  12.73  12.77  12.73  12.73  11.803449   37600\n",
      "2020-05-20  12.74  12.87  12.74  12.87  11.933259   56300\n",
      "2020-05-21  12.94  12.98  12.85  12.91  11.970345   31000\n",
      "2020-05-22  12.95  13.05  12.94  13.05  12.100158   21700\n",
      "...           ...    ...    ...    ...        ...     ...\n",
      "2021-05-11  14.72  14.73  14.61  14.61  14.114890   17400\n",
      "2021-05-12  14.67  14.67  14.48  14.50  14.008616   47700\n",
      "2021-05-13  14.54  14.55  14.41  14.46  14.020253   28000\n",
      "2021-05-14  14.53  14.60  14.48  14.54  14.097819   33900\n",
      "2021-05-17  14.61  14.61  14.38  14.42  13.981469   41500\n",
      "\n",
      "[252 rows x 6 columns]\n"
     ]
    },
    {
     "name": "stderr",
     "output_type": "stream",
     "text": [
      "[*********************100%%**********************]  1 of 1 completed\n",
      "\n",
      "1 Failed download:\n",
      "['37519D206']: Exception('%ticker%: No timezone found, symbol may be delisted')\n"
     ]
    },
    {
     "name": "stdout",
     "output_type": "stream",
     "text": [
      "Empty DataFrame\n",
      "Columns: [Open, High, Low, Close, Adj Close, Volume]\n",
      "Index: []\n"
     ]
    },
    {
     "name": "stderr",
     "output_type": "stream",
     "text": [
      "[*********************100%%**********************]  1 of 1 completed\n",
      "\n",
      "1 Failed download:\n",
      "['53804F202']: Exception('%ticker%: No timezone found, symbol may be delisted')\n",
      "c:\\Users\\ziggy\\anaconda3\\Lib\\site-packages\\yfinance\\utils.py:775: FutureWarning: The 'unit' keyword in TimedeltaIndex construction is deprecated and will be removed in a future version. Use pd.to_timedelta instead.\n",
      "  df.index += _pd.TimedeltaIndex(dst_error_hours, 'h')\n",
      "[*********************100%%**********************]  1 of 1 completed\n"
     ]
    },
    {
     "name": "stdout",
     "output_type": "stream",
     "text": [
      "Empty DataFrame\n",
      "Columns: [Open, High, Low, Close, Adj Close, Volume]\n",
      "Index: []\n",
      "             Open   High    Low  Close  Adj Close  Volume\n",
      "Date                                                     \n",
      "2020-05-08  13.15  13.17  13.05  13.17  12.162542   45400\n",
      "2020-05-11  13.17  13.17  13.01  13.09  12.088661   41400\n",
      "2020-05-12  13.13  13.13  13.02  13.04  12.042484   54000\n",
      "2020-05-13  13.11  13.11  12.93  12.99  11.996310   47400\n",
      "2020-05-14  13.03  13.03  12.71  12.75  11.821991   88500\n",
      "...           ...    ...    ...    ...        ...     ...\n",
      "2021-05-03  14.43  14.48  14.36  14.42  13.931329   42500\n",
      "2021-05-04  14.42  14.58  14.35  14.47  13.979635   79100\n",
      "2021-05-05  14.56  14.60  14.42  14.59  14.095567   79600\n",
      "2021-05-06  14.65  14.65  14.55  14.64  14.143872   27000\n",
      "2021-05-07  14.66  14.70  14.65  14.68  14.182518   36700\n",
      "\n",
      "[252 rows x 6 columns]\n"
     ]
    },
    {
     "name": "stderr",
     "output_type": "stream",
     "text": [
      "[*********************100%%**********************]  1 of 1 completed\n",
      "\n",
      "1 Failed download:\n",
      "['778675207']: Exception('%ticker%: No timezone found, symbol may be delisted')\n"
     ]
    },
    {
     "name": "stdout",
     "output_type": "stream",
     "text": [
      "Empty DataFrame\n",
      "Columns: [Open, High, Low, Close, Adj Close, Volume]\n",
      "Index: []\n"
     ]
    },
    {
     "name": "stderr",
     "output_type": "stream",
     "text": [
      "[*********************100%%**********************]  1 of 1 completed\n",
      "\n",
      "1 Failed download:\n",
      "['19424L200']: Exception('%ticker%: No timezone found, symbol may be delisted')\n"
     ]
    },
    {
     "name": "stdout",
     "output_type": "stream",
     "text": [
      "Empty DataFrame\n",
      "Columns: [Open, High, Low, Close, Adj Close, Volume]\n",
      "Index: []\n"
     ]
    },
    {
     "name": "stderr",
     "output_type": "stream",
     "text": [
      "[*********************100%%**********************]  1 of 1 completed\n",
      "\n",
      "1 Failed download:\n",
      "['34962V205']: Exception('%ticker%: No timezone found, symbol may be delisted')\n",
      "c:\\Users\\ziggy\\anaconda3\\Lib\\site-packages\\yfinance\\utils.py:775: FutureWarning: The 'unit' keyword in TimedeltaIndex construction is deprecated and will be removed in a future version. Use pd.to_timedelta instead.\n",
      "  df.index += _pd.TimedeltaIndex(dst_error_hours, 'h')\n",
      "[*********************100%%**********************]  1 of 1 completed\n",
      "c:\\Users\\ziggy\\anaconda3\\Lib\\site-packages\\yfinance\\utils.py:775: FutureWarning: The 'unit' keyword in TimedeltaIndex construction is deprecated and will be removed in a future version. Use pd.to_timedelta instead.\n",
      "  df.index += _pd.TimedeltaIndex(dst_error_hours, 'h')\n",
      "[*********************100%%**********************]  1 of 1 completed"
     ]
    },
    {
     "name": "stdout",
     "output_type": "stream",
     "text": [
      "Empty DataFrame\n",
      "Columns: [Open, High, Low, Close, Adj Close, Volume]\n",
      "Index: []\n",
      "             Open   High    Low  Close  Adj Close  Volume\n",
      "Date                                                     \n",
      "2020-04-30  12.74  12.74  12.54  12.61  11.645381   25700\n",
      "2020-05-01  12.60  12.76  12.59  12.73  11.756197   76800\n",
      "2020-05-04  12.70  12.75  12.65  12.74  11.765430   46400\n",
      "2020-05-05  12.79  13.00  12.74  12.96  11.968605   71600\n",
      "2020-05-06  12.97  13.15  12.97  13.03  12.033249   51600\n",
      "...           ...    ...    ...    ...        ...     ...\n",
      "2021-04-23  14.34  14.54  14.33  14.42  13.931329   54300\n",
      "2021-04-26  14.44  14.53  14.38  14.40  13.912005   43400\n",
      "2021-04-27  14.41  14.50  14.36  14.48  13.989295   47400\n",
      "2021-04-28  14.45  14.54  14.41  14.48  13.989295   32000\n",
      "2021-04-29  14.45  14.52  14.27  14.35  13.863702   65100\n",
      "\n",
      "[252 rows x 6 columns]\n"
     ]
    },
    {
     "name": "stderr",
     "output_type": "stream",
     "text": [
      "\n"
     ]
    },
    {
     "name": "stdout",
     "output_type": "stream",
     "text": [
      "             Open   High    Low  Close  Adj Close  Volume\n",
      "Date                                                     \n",
      "2020-04-28  12.42  12.50  12.36  12.38  11.432971   99900\n",
      "2020-04-29  12.51  12.78  12.43  12.67  11.700788  107000\n",
      "2020-04-30  12.74  12.74  12.54  12.61  11.645381   25700\n",
      "2020-05-01  12.60  12.76  12.59  12.73  11.756197   76800\n",
      "2020-05-04  12.70  12.75  12.65  12.74  11.765430   46400\n",
      "...           ...    ...    ...    ...        ...     ...\n",
      "2021-04-21  14.40  14.45  14.36  14.38  13.892684   40200\n",
      "2021-04-22  14.40  14.40  14.33  14.35  13.863702   57800\n",
      "2021-04-23  14.34  14.54  14.33  14.42  13.931329   54300\n",
      "2021-04-26  14.44  14.53  14.38  14.40  13.912005   43400\n",
      "2021-04-27  14.41  14.50  14.36  14.48  13.989295   47400\n",
      "\n",
      "[252 rows x 6 columns]\n"
     ]
    },
    {
     "name": "stderr",
     "output_type": "stream",
     "text": [
      "[*********************100%%**********************]  1 of 1 completed\n",
      "\n",
      "1 Failed download:\n",
      "['15957T206']: Exception('%ticker%: No timezone found, symbol may be delisted')\n",
      "c:\\Users\\ziggy\\anaconda3\\Lib\\site-packages\\yfinance\\utils.py:775: FutureWarning: The 'unit' keyword in TimedeltaIndex construction is deprecated and will be removed in a future version. Use pd.to_timedelta instead.\n",
      "  df.index += _pd.TimedeltaIndex(dst_error_hours, 'h')\n",
      "[*********************100%%**********************]  1 of 1 completed\n"
     ]
    },
    {
     "name": "stdout",
     "output_type": "stream",
     "text": [
      "Empty DataFrame\n",
      "Columns: [Open, High, Low, Close, Adj Close, Volume]\n",
      "Index: []\n",
      "             Open   High    Low  Close  Adj Close  Volume\n",
      "Date                                                     \n",
      "2020-04-24  12.80  12.80  12.53  12.71  11.737728   99100\n",
      "2020-04-27  12.60  12.69  12.31  12.40  11.451441  134800\n",
      "2020-04-28  12.42  12.50  12.36  12.38  11.432971   99900\n",
      "2020-04-29  12.51  12.78  12.43  12.67  11.700788  107000\n",
      "2020-04-30  12.74  12.74  12.54  12.61  11.645381   25700\n",
      "...           ...    ...    ...    ...        ...     ...\n",
      "2021-04-19  14.47  14.47  14.35  14.36  13.873359   33600\n",
      "2021-04-20  14.40  14.43  14.39  14.40  13.912005   29100\n",
      "2021-04-21  14.40  14.45  14.36  14.38  13.892684   40200\n",
      "2021-04-22  14.40  14.40  14.33  14.35  13.863702   57800\n",
      "2021-04-23  14.34  14.54  14.33  14.42  13.931329   54300\n",
      "\n",
      "[252 rows x 6 columns]\n"
     ]
    },
    {
     "name": "stderr",
     "output_type": "stream",
     "text": [
      "[*********************100%%**********************]  1 of 1 completed\n",
      "\n",
      "1 Failed download:\n",
      "['23343Q209']: Exception('%ticker%: No timezone found, symbol may be delisted')\n"
     ]
    },
    {
     "name": "stdout",
     "output_type": "stream",
     "text": [
      "Empty DataFrame\n",
      "Columns: [Open, High, Low, Close, Adj Close, Volume]\n",
      "Index: []\n"
     ]
    },
    {
     "name": "stderr",
     "output_type": "stream",
     "text": [
      "[*********************100%%**********************]  1 of 1 completed\n",
      "\n",
      "1 Failed download:\n",
      "['53228P208']: Exception('%ticker%: No timezone found, symbol may be delisted')\n"
     ]
    },
    {
     "name": "stdout",
     "output_type": "stream",
     "text": [
      "Empty DataFrame\n",
      "Columns: [Open, High, Low, Close, Adj Close, Volume]\n",
      "Index: []\n"
     ]
    },
    {
     "name": "stderr",
     "output_type": "stream",
     "text": [
      "[*********************100%%**********************]  1 of 1 completed\n",
      "\n",
      "1 Failed download:\n",
      "['34407Y202']: Exception('%ticker%: No timezone found, symbol may be delisted')\n",
      "c:\\Users\\ziggy\\anaconda3\\Lib\\site-packages\\yfinance\\utils.py:775: FutureWarning: The 'unit' keyword in TimedeltaIndex construction is deprecated and will be removed in a future version. Use pd.to_timedelta instead.\n",
      "  df.index += _pd.TimedeltaIndex(dst_error_hours, 'h')\n",
      "[*********************100%%**********************]  1 of 1 completed\n"
     ]
    },
    {
     "name": "stdout",
     "output_type": "stream",
     "text": [
      "Empty DataFrame\n",
      "Columns: [Open, High, Low, Close, Adj Close, Volume]\n",
      "Index: []\n",
      "             Open   High    Low  Close  Adj Close  Volume\n",
      "Date                                                     \n",
      "2020-02-24  14.60  14.62  14.56  14.60  13.386231   66400\n",
      "2020-02-25  14.59  14.62  14.55  14.55  13.340391   53800\n",
      "2020-02-26  14.62  14.63  14.50  14.50  13.294546   90200\n",
      "2020-02-27  14.50  14.54  14.45  14.47  13.267038   75800\n",
      "2020-02-28  14.49  14.58  14.33  14.43  13.230365   55900\n",
      "...           ...    ...    ...    ...        ...     ...\n",
      "2021-02-17  14.33  14.33  14.22  14.23  13.648017   38100\n",
      "2021-02-18  14.26  14.26  14.13  14.13  13.552108   38800\n",
      "2021-02-19  14.16  14.16  14.03  14.06  13.484970   29100\n",
      "2021-02-22  14.10  14.10  13.97  14.08  13.504151   71600\n",
      "2021-02-23  14.05  14.05  13.91  14.05  13.475378   42900\n",
      "\n",
      "[253 rows x 6 columns]\n"
     ]
    },
    {
     "name": "stderr",
     "output_type": "stream",
     "text": [
      "[*********************100%%**********************]  1 of 1 completed\n",
      "\n",
      "1 Failed download:\n",
      "['233253202']: Exception('%ticker%: No timezone found, symbol may be delisted')\n"
     ]
    },
    {
     "name": "stdout",
     "output_type": "stream",
     "text": [
      "Empty DataFrame\n",
      "Columns: [Open, High, Low, Close, Adj Close, Volume]\n",
      "Index: []\n"
     ]
    },
    {
     "name": "stderr",
     "output_type": "stream",
     "text": [
      "c:\\Users\\ziggy\\anaconda3\\Lib\\site-packages\\yfinance\\utils.py:775: FutureWarning: The 'unit' keyword in TimedeltaIndex construction is deprecated and will be removed in a future version. Use pd.to_timedelta instead.\n",
      "  df.index += _pd.TimedeltaIndex(dst_error_hours, 'h')\n",
      "[*********************100%%**********************]  1 of 1 completed\n"
     ]
    },
    {
     "name": "stdout",
     "output_type": "stream",
     "text": [
      "             Open   High    Low  Close  Adj Close  Volume\n",
      "Date                                                     \n",
      "2020-02-19  14.60  14.60  14.59  14.60  13.386231   15500\n",
      "2020-02-20  14.62  14.63  14.58  14.61  13.395398   26700\n",
      "2020-02-21  14.60  14.61  14.54  14.55  13.340391   40900\n",
      "2020-02-24  14.60  14.62  14.56  14.60  13.386231   66400\n",
      "2020-02-25  14.59  14.62  14.55  14.55  13.340391   53800\n",
      "...           ...    ...    ...    ...        ...     ...\n",
      "2021-02-11  14.51  14.53  14.43  14.43  13.839838   12600\n",
      "2021-02-12  14.43  14.50  14.40  14.40  13.811064   40300\n",
      "2021-02-16  14.40  14.45  14.24  14.28  13.695971   43800\n",
      "2021-02-17  14.33  14.33  14.22  14.23  13.648017   38100\n",
      "2021-02-18  14.26  14.26  14.13  14.13  13.552108   38800\n",
      "\n",
      "[253 rows x 6 columns]\n"
     ]
    },
    {
     "name": "stderr",
     "output_type": "stream",
     "text": [
      "[*********************100%%**********************]  1 of 1 completed\n",
      "\n",
      "1 Failed download:\n",
      "['17144C203']: Exception('%ticker%: No timezone found, symbol may be delisted')\n",
      "c:\\Users\\ziggy\\anaconda3\\Lib\\site-packages\\yfinance\\utils.py:775: FutureWarning: The 'unit' keyword in TimedeltaIndex construction is deprecated and will be removed in a future version. Use pd.to_timedelta instead.\n",
      "  df.index += _pd.TimedeltaIndex(dst_error_hours, 'h')\n",
      "[*********************100%%**********************]  1 of 1 completed\n"
     ]
    },
    {
     "name": "stdout",
     "output_type": "stream",
     "text": [
      "Empty DataFrame\n",
      "Columns: [Open, High, Low, Close, Adj Close, Volume]\n",
      "Index: []\n",
      "             Open   High    Low  Close  Adj Close  Volume\n",
      "Date                                                     \n",
      "2020-02-18  14.57  14.60  14.56  14.59  13.377065   36400\n",
      "2020-02-19  14.60  14.60  14.59  14.60  13.386231   15500\n",
      "2020-02-20  14.62  14.63  14.58  14.61  13.395398   26700\n",
      "2020-02-21  14.60  14.61  14.54  14.55  13.340391   40900\n",
      "2020-02-24  14.60  14.62  14.56  14.60  13.386231   66400\n",
      "...           ...    ...    ...    ...        ...     ...\n",
      "2021-02-10  14.58  14.61  14.50  14.53  13.885876   20300\n",
      "2021-02-11  14.51  14.53  14.43  14.43  13.839838   12600\n",
      "2021-02-12  14.43  14.50  14.40  14.40  13.811064   40300\n",
      "2021-02-16  14.40  14.45  14.24  14.28  13.695971   43800\n",
      "2021-02-17  14.33  14.33  14.22  14.23  13.648017   38100\n",
      "\n",
      "[253 rows x 6 columns]\n"
     ]
    },
    {
     "name": "stderr",
     "output_type": "stream",
     "text": [
      "[*********************100%%**********************]  1 of 1 completed\n",
      "\n",
      "1 Failed download:\n",
      "['395392202']: Exception('%ticker%: No timezone found, symbol may be delisted')\n"
     ]
    },
    {
     "name": "stdout",
     "output_type": "stream",
     "text": [
      "Empty DataFrame\n",
      "Columns: [Open, High, Low, Close, Adj Close, Volume]\n",
      "Index: []\n"
     ]
    },
    {
     "name": "stderr",
     "output_type": "stream",
     "text": [
      "[*********************100%%**********************]  1 of 1 completed\n",
      "\n",
      "1 Failed download:\n",
      "['G21513125']: Exception('%ticker%: No timezone found, symbol may be delisted')\n"
     ]
    },
    {
     "name": "stdout",
     "output_type": "stream",
     "text": [
      "Empty DataFrame\n",
      "Columns: [Open, High, Low, Close, Adj Close, Volume]\n",
      "Index: []\n"
     ]
    },
    {
     "name": "stderr",
     "output_type": "stream",
     "text": [
      "[*********************100%%**********************]  1 of 1 completed\n",
      "\n",
      "1 Failed download:\n",
      "['46064A202']: Exception('%ticker%: No timezone found, symbol may be delisted')\n"
     ]
    },
    {
     "name": "stdout",
     "output_type": "stream",
     "text": [
      "Empty DataFrame\n",
      "Columns: [Open, High, Low, Close, Adj Close, Volume]\n",
      "Index: []\n"
     ]
    },
    {
     "name": "stderr",
     "output_type": "stream",
     "text": [
      "[*********************100%%**********************]  1 of 1 completed\n",
      "\n",
      "1 Failed download:\n",
      "['382865202']: Exception('%ticker%: No timezone found, symbol may be delisted')\n"
     ]
    },
    {
     "name": "stdout",
     "output_type": "stream",
     "text": [
      "Empty DataFrame\n",
      "Columns: [Open, High, Low, Close, Adj Close, Volume]\n",
      "Index: []\n"
     ]
    },
    {
     "name": "stderr",
     "output_type": "stream",
     "text": [
      "[*********************100%%**********************]  1 of 1 completed\n",
      "\n",
      "1 Failed download:\n",
      "['G79448109']: Exception('%ticker%: No timezone found, symbol may be delisted')\n"
     ]
    },
    {
     "name": "stdout",
     "output_type": "stream",
     "text": [
      "Empty DataFrame\n",
      "Columns: [Open, High, Low, Close, Adj Close, Volume]\n",
      "Index: []\n"
     ]
    },
    {
     "name": "stderr",
     "output_type": "stream",
     "text": [
      "[*********************100%%**********************]  1 of 1 completed\n",
      "\n",
      "1 Failed download:\n",
      "['12559C202']: Exception('%ticker%: No timezone found, symbol may be delisted')\n"
     ]
    },
    {
     "name": "stdout",
     "output_type": "stream",
     "text": [
      "Empty DataFrame\n",
      "Columns: [Open, High, Low, Close, Adj Close, Volume]\n",
      "Index: []\n"
     ]
    },
    {
     "name": "stderr",
     "output_type": "stream",
     "text": [
      "[*********************100%%**********************]  1 of 1 completed\n",
      "\n",
      "1 Failed download:\n",
      "['42227L201']: Exception('%ticker%: No timezone found, symbol may be delisted')\n"
     ]
    },
    {
     "name": "stdout",
     "output_type": "stream",
     "text": [
      "Empty DataFrame\n",
      "Columns: [Open, High, Low, Close, Adj Close, Volume]\n",
      "Index: []\n"
     ]
    },
    {
     "name": "stderr",
     "output_type": "stream",
     "text": [
      "[*********************100%%**********************]  1 of 1 completed\n",
      "\n",
      "1 Failed download:\n",
      "['G5510C124']: Exception('%ticker%: No timezone found, symbol may be delisted')\n",
      "c:\\Users\\ziggy\\anaconda3\\Lib\\site-packages\\yfinance\\utils.py:775: FutureWarning: The 'unit' keyword in TimedeltaIndex construction is deprecated and will be removed in a future version. Use pd.to_timedelta instead.\n",
      "  df.index += _pd.TimedeltaIndex(dst_error_hours, 'h')\n",
      "[*********************100%%**********************]  1 of 1 completed\n"
     ]
    },
    {
     "name": "stdout",
     "output_type": "stream",
     "text": [
      "Empty DataFrame\n",
      "Columns: [Open, High, Low, Close, Adj Close, Volume]\n",
      "Index: []\n",
      "             Open   High    Low  Close  Adj Close  Volume\n",
      "Date                                                     \n",
      "2019-11-29  14.10  14.19  14.10  14.19  12.880535   35300\n",
      "2019-12-02  14.16  14.20  14.09  14.19  12.880535   32800\n",
      "2019-12-03  14.21  14.24  14.17  14.23  12.916844   43700\n",
      "2019-12-04  14.23  14.23  14.16  14.18  12.871460   31300\n",
      "2019-12-05  14.20  14.25  14.20  14.25  12.934999   33900\n",
      "...           ...    ...    ...    ...        ...     ...\n",
      "2020-11-20  13.62  13.62  13.55  13.58  12.882505   45800\n",
      "2020-11-23  13.58  13.62  13.55  13.62  12.920451   67000\n",
      "2020-11-24  13.69  13.70  13.61  13.65  12.948910   37300\n",
      "2020-11-25  13.79  13.83  13.69  13.78  13.072233   86000\n",
      "2020-11-27  13.83  13.85  13.82  13.85  13.138636   23400\n",
      "\n",
      "[252 rows x 6 columns]\n"
     ]
    },
    {
     "name": "stderr",
     "output_type": "stream",
     "text": [
      "[*********************100%%**********************]  1 of 1 completed\n",
      "\n",
      "1 Failed download:\n",
      "['74349F200']: Exception('%ticker%: No timezone found, symbol may be delisted')\n"
     ]
    },
    {
     "name": "stdout",
     "output_type": "stream",
     "text": [
      "Empty DataFrame\n",
      "Columns: [Open, High, Low, Close, Adj Close, Volume]\n",
      "Index: []\n"
     ]
    },
    {
     "name": "stderr",
     "output_type": "stream",
     "text": [
      "[*********************100%%**********************]  1 of 1 completed\n",
      "\n",
      "1 Failed download:\n",
      "['12558Y205']: Exception('%ticker%: No timezone found, symbol may be delisted')\n"
     ]
    },
    {
     "name": "stdout",
     "output_type": "stream",
     "text": [
      "Empty DataFrame\n",
      "Columns: [Open, High, Low, Close, Adj Close, Volume]\n",
      "Index: []\n"
     ]
    },
    {
     "name": "stderr",
     "output_type": "stream",
     "text": [
      "[*********************100%%**********************]  1 of 1 completed\n",
      "\n",
      "1 Failed download:\n",
      "['03212A204']: Exception('%ticker%: No timezone found, symbol may be delisted')\n"
     ]
    },
    {
     "name": "stdout",
     "output_type": "stream",
     "text": [
      "Empty DataFrame\n",
      "Columns: [Open, High, Low, Close, Adj Close, Volume]\n",
      "Index: []\n"
     ]
    },
    {
     "name": "stderr",
     "output_type": "stream",
     "text": [
      "[*********************100%%**********************]  1 of 1 completed\n",
      "\n",
      "1 Failed download:\n",
      "['83406B200']: Exception('%ticker%: No timezone found, symbol may be delisted')\n"
     ]
    },
    {
     "name": "stdout",
     "output_type": "stream",
     "text": [
      "Empty DataFrame\n",
      "Columns: [Open, High, Low, Close, Adj Close, Volume]\n",
      "Index: []\n"
     ]
    },
    {
     "name": "stderr",
     "output_type": "stream",
     "text": [
      "[*********************100%%**********************]  1 of 1 completed\n",
      "\n",
      "1 Failed download:\n",
      "['39678G202']: Exception('%ticker%: No timezone found, symbol may be delisted')\n"
     ]
    },
    {
     "name": "stdout",
     "output_type": "stream",
     "text": [
      "Empty DataFrame\n",
      "Columns: [Open, High, Low, Close, Adj Close, Volume]\n",
      "Index: []\n"
     ]
    },
    {
     "name": "stderr",
     "output_type": "stream",
     "text": [
      "[*********************100%%**********************]  1 of 1 completed\n",
      "\n",
      "1 Failed download:\n",
      "['85236Q208']: Exception('%ticker%: No timezone found, symbol may be delisted')\n"
     ]
    },
    {
     "name": "stdout",
     "output_type": "stream",
     "text": [
      "Empty DataFrame\n",
      "Columns: [Open, High, Low, Close, Adj Close, Volume]\n",
      "Index: []\n"
     ]
    },
    {
     "name": "stderr",
     "output_type": "stream",
     "text": [
      "[*********************100%%**********************]  1 of 1 completed\n",
      "\n",
      "1 Failed download:\n",
      "['48205G205']: Exception('%ticker%: No timezone found, symbol may be delisted')\n"
     ]
    },
    {
     "name": "stdout",
     "output_type": "stream",
     "text": [
      "Empty DataFrame\n",
      "Columns: [Open, High, Low, Close, Adj Close, Volume]\n",
      "Index: []\n"
     ]
    },
    {
     "name": "stderr",
     "output_type": "stream",
     "text": [
      "[*********************100%%**********************]  1 of 1 completed\n",
      "\n",
      "1 Failed download:\n",
      "['50201G205']: Exception('%ticker%: No timezone found, symbol may be delisted')\n"
     ]
    },
    {
     "name": "stdout",
     "output_type": "stream",
     "text": [
      "Empty DataFrame\n",
      "Columns: [Open, High, Low, Close, Adj Close, Volume]\n",
      "Index: []\n"
     ]
    },
    {
     "name": "stderr",
     "output_type": "stream",
     "text": [
      "[*********************100%%**********************]  1 of 1 completed\n",
      "\n",
      "1 Failed download:\n",
      "['58953M205']: Exception('%ticker%: No timezone found, symbol may be delisted')\n"
     ]
    },
    {
     "name": "stdout",
     "output_type": "stream",
     "text": [
      "Empty DataFrame\n",
      "Columns: [Open, High, Low, Close, Adj Close, Volume]\n",
      "Index: []\n"
     ]
    },
    {
     "name": "stderr",
     "output_type": "stream",
     "text": [
      "[*********************100%%**********************]  1 of 1 completed\n",
      "\n",
      "1 Failed download:\n",
      "['68839R401']: Exception('%ticker%: No timezone found, symbol may be delisted')\n"
     ]
    },
    {
     "name": "stdout",
     "output_type": "stream",
     "text": [
      "Empty DataFrame\n",
      "Columns: [Open, High, Low, Close, Adj Close, Volume]\n",
      "Index: []\n"
     ]
    },
    {
     "name": "stderr",
     "output_type": "stream",
     "text": [
      "[*********************100%%**********************]  1 of 1 completed\n",
      "\n",
      "1 Failed download:\n",
      "['318085206']: Exception('%ticker%: No timezone found, symbol may be delisted')\n",
      "c:\\Users\\ziggy\\anaconda3\\Lib\\site-packages\\yfinance\\utils.py:775: FutureWarning: The 'unit' keyword in TimedeltaIndex construction is deprecated and will be removed in a future version. Use pd.to_timedelta instead.\n",
      "  df.index += _pd.TimedeltaIndex(dst_error_hours, 'h')\n",
      "[*********************100%%**********************]  1 of 1 completed\n",
      "c:\\Users\\ziggy\\anaconda3\\Lib\\site-packages\\yfinance\\utils.py:775: FutureWarning: The 'unit' keyword in TimedeltaIndex construction is deprecated and will be removed in a future version. Use pd.to_timedelta instead.\n",
      "  df.index += _pd.TimedeltaIndex(dst_error_hours, 'h')\n",
      "[*********************100%%**********************]  1 of 1 completed\n"
     ]
    },
    {
     "name": "stdout",
     "output_type": "stream",
     "text": [
      "Empty DataFrame\n",
      "Columns: [Open, High, Low, Close, Adj Close, Volume]\n",
      "Index: []\n",
      "             Open   High    Low  Close  Adj Close  Volume\n",
      "Date                                                     \n",
      "2019-10-22  14.08  14.09  14.01  14.06  12.718809   25900\n",
      "2019-10-23  14.10  14.10  14.01  14.06  12.718809   40700\n",
      "2019-10-24  14.10  14.10  13.98  14.05  12.709762   23900\n",
      "2019-10-25  14.09  14.09  13.97  13.98  12.646436   33200\n",
      "2019-10-28  13.96  13.97  13.85  13.94  12.610251   28400\n",
      "...           ...    ...    ...    ...        ...     ...\n",
      "2020-10-15  13.67  13.67  13.51  13.51  12.766953   34000\n",
      "2020-10-16  13.48  13.65  13.46  13.60  12.852003   18100\n",
      "2020-10-19  13.61  13.74  13.60  13.74  12.984303   32900\n",
      "2020-10-20  13.70  13.85  13.60  13.85  13.088252   25600\n",
      "2020-10-21  13.74  13.74  13.61  13.69  12.937056   24200\n",
      "\n",
      "[253 rows x 6 columns]\n",
      "             Open   High    Low  Close  Adj Close  Volume\n",
      "Date                                                     \n",
      "2019-10-22  14.08  14.09  14.01  14.06  12.718809   25900\n",
      "2019-10-23  14.10  14.10  14.01  14.06  12.718809   40700\n",
      "2019-10-24  14.10  14.10  13.98  14.05  12.709762   23900\n",
      "2019-10-25  14.09  14.09  13.97  13.98  12.646436   33200\n",
      "2019-10-28  13.96  13.97  13.85  13.94  12.610251   28400\n",
      "...           ...    ...    ...    ...        ...     ...\n",
      "2020-10-15  13.67  13.67  13.51  13.51  12.766953   34000\n",
      "2020-10-16  13.48  13.65  13.46  13.60  12.852003   18100\n",
      "2020-10-19  13.61  13.74  13.60  13.74  12.984303   32900\n",
      "2020-10-20  13.70  13.85  13.60  13.85  13.088252   25600\n",
      "2020-10-21  13.74  13.74  13.61  13.69  12.937056   24200\n",
      "\n",
      "[253 rows x 6 columns]\n"
     ]
    },
    {
     "name": "stderr",
     "output_type": "stream",
     "text": [
      "[*********************100%%**********************]  1 of 1 completed\n",
      "\n",
      "1 Failed download:\n",
      "['03768F201']: Exception('%ticker%: No timezone found, symbol may be delisted')\n"
     ]
    },
    {
     "name": "stdout",
     "output_type": "stream",
     "text": [
      "Empty DataFrame\n",
      "Columns: [Open, High, Low, Close, Adj Close, Volume]\n",
      "Index: []\n"
     ]
    },
    {
     "name": "stderr",
     "output_type": "stream",
     "text": [
      "[*********************100%%**********************]  1 of 1 completed\n",
      "\n",
      "1 Failed download:\n",
      "['30217C208']: Exception('%ticker%: No timezone found, symbol may be delisted')\n"
     ]
    },
    {
     "name": "stdout",
     "output_type": "stream",
     "text": [
      "Empty DataFrame\n",
      "Columns: [Open, High, Low, Close, Adj Close, Volume]\n",
      "Index: []\n"
     ]
    },
    {
     "name": "stderr",
     "output_type": "stream",
     "text": [
      "[*********************100%%**********************]  1 of 1 completed\n",
      "\n",
      "1 Failed download:\n",
      "['64822P205']: Exception('%ticker%: No timezone found, symbol may be delisted')\n",
      "c:\\Users\\ziggy\\anaconda3\\Lib\\site-packages\\yfinance\\utils.py:775: FutureWarning: The 'unit' keyword in TimedeltaIndex construction is deprecated and will be removed in a future version. Use pd.to_timedelta instead.\n",
      "  df.index += _pd.TimedeltaIndex(dst_error_hours, 'h')\n",
      "[*********************100%%**********************]  1 of 1 completed\n",
      "c:\\Users\\ziggy\\anaconda3\\Lib\\site-packages\\yfinance\\utils.py:775: FutureWarning: The 'unit' keyword in TimedeltaIndex construction is deprecated and will be removed in a future version. Use pd.to_timedelta instead.\n",
      "  df.index += _pd.TimedeltaIndex(dst_error_hours, 'h')\n",
      "[*********************100%%**********************]  1 of 1 completed"
     ]
    },
    {
     "name": "stdout",
     "output_type": "stream",
     "text": [
      "Empty DataFrame\n",
      "Columns: [Open, High, Low, Close, Adj Close, Volume]\n",
      "Index: []\n",
      "             Open   High    Low  Close  Adj Close  Volume\n",
      "Date                                                     \n",
      "2019-08-13  14.18  14.22  14.16  14.21  12.724517   47100\n",
      "2019-08-14  14.24  14.24  14.12  14.21  12.767644   49700\n",
      "2019-08-15  14.24  14.25  14.18  14.21  12.767644   40800\n",
      "2019-08-16  14.22  14.23  14.14  14.15  12.713733   15600\n",
      "2019-08-19  14.17  14.25  14.14  14.17  12.731702   79400\n",
      "...           ...    ...    ...    ...        ...     ...\n",
      "2020-08-06  14.10  14.17  14.10  14.11  13.184649   21600\n",
      "2020-08-07  14.14  14.17  14.12  14.12  13.193997   14100\n",
      "2020-08-10  14.17  14.17  14.13  14.13  13.203341   45600\n",
      "2020-08-11  14.17  14.39  14.14  14.24  13.306127   51200\n",
      "2020-08-12  14.28  14.29  14.18  14.19  13.259405   13800\n",
      "\n",
      "[253 rows x 6 columns]\n"
     ]
    },
    {
     "name": "stderr",
     "output_type": "stream",
     "text": [
      "\n"
     ]
    },
    {
     "name": "stdout",
     "output_type": "stream",
     "text": [
      "             Open   High    Low  Close  Adj Close  Volume\n",
      "Date                                                     \n",
      "2019-08-12  14.23  14.23  14.14  14.18  12.697652   65300\n",
      "2019-08-13  14.18  14.22  14.16  14.21  12.724517   47100\n",
      "2019-08-14  14.24  14.24  14.12  14.21  12.767644   49700\n",
      "2019-08-15  14.24  14.25  14.18  14.21  12.767644   40800\n",
      "2019-08-16  14.22  14.23  14.14  14.15  12.713733   15600\n",
      "...           ...    ...    ...    ...        ...     ...\n",
      "2020-08-05  14.12  14.13  14.10  14.11  13.184649   30700\n",
      "2020-08-06  14.10  14.17  14.10  14.11  13.184649   21600\n",
      "2020-08-07  14.14  14.17  14.12  14.12  13.193997   14100\n",
      "2020-08-10  14.17  14.17  14.13  14.13  13.203341   45600\n",
      "2020-08-11  14.17  14.39  14.14  14.24  13.306127   51200\n",
      "\n",
      "[253 rows x 6 columns]\n"
     ]
    },
    {
     "name": "stderr",
     "output_type": "stream",
     "text": [
      "[*********************100%%**********************]  1 of 1 completed\n",
      "\n",
      "1 Failed download:\n",
      "['68632T208']: Exception('%ticker%: No timezone found, symbol may be delisted')\n",
      "c:\\Users\\ziggy\\anaconda3\\Lib\\site-packages\\yfinance\\utils.py:775: FutureWarning: The 'unit' keyword in TimedeltaIndex construction is deprecated and will be removed in a future version. Use pd.to_timedelta instead.\n",
      "  df.index += _pd.TimedeltaIndex(dst_error_hours, 'h')\n",
      "[*********************100%%**********************]  1 of 1 completed\n"
     ]
    },
    {
     "name": "stdout",
     "output_type": "stream",
     "text": [
      "Empty DataFrame\n",
      "Columns: [Open, High, Low, Close, Adj Close, Volume]\n",
      "Index: []\n",
      "             Open   High    Low  Close  Adj Close  Volume\n",
      "Date                                                     \n",
      "2019-08-02  14.17  14.18  14.13  14.13  12.652882   31600\n",
      "2019-08-05  14.18  14.20  14.10  14.15  12.670788   40700\n",
      "2019-08-06  14.16  14.16  14.11  14.14  12.661835   52700\n",
      "2019-08-07  14.17  14.25  14.16  14.19  12.706607   45100\n",
      "2019-08-08  14.20  14.20  14.04  14.06  12.590197   60400\n",
      "...           ...    ...    ...    ...        ...     ...\n",
      "2020-07-27  13.81  13.90  13.81  13.84  12.932360   12600\n",
      "2020-07-28  13.91  13.93  13.88  13.90  12.988424   28500\n",
      "2020-07-29  13.97  14.07  13.95  14.00  13.081864   42700\n",
      "2020-07-30  14.02  14.12  13.99  14.08  13.156618   16200\n",
      "2020-07-31  14.14  14.18  14.11  14.15  13.222029   36200\n",
      "\n",
      "[252 rows x 6 columns]\n"
     ]
    },
    {
     "name": "stderr",
     "output_type": "stream",
     "text": [
      "[*********************100%%**********************]  1 of 1 completed\n",
      "\n",
      "1 Failed download:\n",
      "['87105M201']: Exception('%ticker%: No timezone found, symbol may be delisted')\n",
      "c:\\Users\\ziggy\\anaconda3\\Lib\\site-packages\\yfinance\\utils.py:775: FutureWarning: The 'unit' keyword in TimedeltaIndex construction is deprecated and will be removed in a future version. Use pd.to_timedelta instead.\n",
      "  df.index += _pd.TimedeltaIndex(dst_error_hours, 'h')\n",
      "[*********************100%%**********************]  1 of 1 completed\n"
     ]
    },
    {
     "name": "stdout",
     "output_type": "stream",
     "text": [
      "Empty DataFrame\n",
      "Columns: [Open, High, Low, Close, Adj Close, Volume]\n",
      "Index: []\n",
      "             Open   High    Low  Close  Adj Close  Volume\n",
      "Date                                                     \n",
      "2019-07-29  14.03  14.11  14.03  14.11  12.634970   31100\n",
      "2019-07-30  14.11  14.13  14.07  14.09  12.617060   25400\n",
      "2019-07-31  14.12  14.14  14.00  14.12  12.643926  116400\n",
      "2019-08-01  14.14  14.17  14.12  14.17  12.688697  321800\n",
      "2019-08-02  14.17  14.18  14.13  14.13  12.652882   31600\n",
      "...           ...    ...    ...    ...        ...     ...\n",
      "2020-07-22  13.66  13.72  13.66  13.70  12.801538   29100\n",
      "2020-07-23  13.70  13.76  13.69  13.76  12.857607   26500\n",
      "2020-07-24  13.83  13.83  13.75  13.82  12.913671   18000\n",
      "2020-07-27  13.81  13.90  13.81  13.84  12.932360   12600\n",
      "2020-07-28  13.91  13.93  13.88  13.90  12.988424   28500\n",
      "\n",
      "[253 rows x 6 columns]\n"
     ]
    },
    {
     "name": "stderr",
     "output_type": "stream",
     "text": [
      "c:\\Users\\ziggy\\anaconda3\\Lib\\site-packages\\yfinance\\utils.py:775: FutureWarning: The 'unit' keyword in TimedeltaIndex construction is deprecated and will be removed in a future version. Use pd.to_timedelta instead.\n",
      "  df.index += _pd.TimedeltaIndex(dst_error_hours, 'h')\n",
      "[*********************100%%**********************]  1 of 1 completed\n",
      "c:\\Users\\ziggy\\anaconda3\\Lib\\site-packages\\yfinance\\utils.py:775: FutureWarning: The 'unit' keyword in TimedeltaIndex construction is deprecated and will be removed in a future version. Use pd.to_timedelta instead.\n",
      "  df.index += _pd.TimedeltaIndex(dst_error_hours, 'h')\n",
      "[*********************100%%**********************]  1 of 1 completed\n"
     ]
    },
    {
     "name": "stdout",
     "output_type": "stream",
     "text": [
      "             Open   High    Low  Close  Adj Close  Volume\n",
      "Date                                                     \n",
      "2019-07-22  14.00  14.00  13.93  13.97  12.509606   22300\n",
      "2019-07-23  13.99  13.99  13.93  13.97  12.509606   14700\n",
      "2019-07-24  14.03  14.03  13.99  14.03  12.563332   42500\n",
      "2019-07-25  14.05  14.06  14.04  14.05  12.581240   30700\n",
      "2019-07-26  14.08  14.08  13.96  14.07  12.599153   60100\n",
      "...           ...    ...    ...    ...        ...     ...\n",
      "2020-07-15  13.48  13.55  13.48  13.53  12.642689   31500\n",
      "2020-07-16  13.49  13.56  13.49  13.52  12.633347   29900\n",
      "2020-07-17  13.48  13.63  13.48  13.63  12.736129   33100\n",
      "2020-07-20  13.69  13.71  13.59  13.71  12.810883   37600\n",
      "2020-07-21  13.73  13.73  13.63  13.68  12.782851   30100\n",
      "\n",
      "[253 rows x 6 columns]\n",
      "             Open   High    Low  Close  Adj Close  Volume\n",
      "Date                                                     \n",
      "2019-07-22  14.00  14.00  13.93  13.97  12.509606   22300\n",
      "2019-07-23  13.99  13.99  13.93  13.97  12.509606   14700\n",
      "2019-07-24  14.03  14.03  13.99  14.03  12.563332   42500\n",
      "2019-07-25  14.05  14.06  14.04  14.05  12.581240   30700\n",
      "2019-07-26  14.08  14.08  13.96  14.07  12.599153   60100\n",
      "...           ...    ...    ...    ...        ...     ...\n",
      "2020-07-15  13.48  13.55  13.48  13.53  12.642689   31500\n",
      "2020-07-16  13.49  13.56  13.49  13.52  12.633347   29900\n",
      "2020-07-17  13.48  13.63  13.48  13.63  12.736129   33100\n",
      "2020-07-20  13.69  13.71  13.59  13.71  12.810883   37600\n",
      "2020-07-21  13.73  13.73  13.63  13.68  12.782851   30100\n",
      "\n",
      "[253 rows x 6 columns]\n"
     ]
    },
    {
     "name": "stderr",
     "output_type": "stream",
     "text": [
      "[*********************100%%**********************]  1 of 1 completed\n",
      "\n",
      "1 Failed download:\n",
      "['212896203']: Exception('%ticker%: No timezone found, symbol may be delisted')\n"
     ]
    },
    {
     "name": "stdout",
     "output_type": "stream",
     "text": [
      "Empty DataFrame\n",
      "Columns: [Open, High, Low, Close, Adj Close, Volume]\n",
      "Index: []\n"
     ]
    },
    {
     "name": "stderr",
     "output_type": "stream",
     "text": [
      "[*********************100%%**********************]  1 of 1 completed\n",
      "\n",
      "1 Failed download:\n",
      "['72582K209']: Exception('%ticker%: No timezone found, symbol may be delisted')\n"
     ]
    },
    {
     "name": "stdout",
     "output_type": "stream",
     "text": [
      "Empty DataFrame\n",
      "Columns: [Open, High, Low, Close, Adj Close, Volume]\n",
      "Index: []\n"
     ]
    },
    {
     "name": "stderr",
     "output_type": "stream",
     "text": [
      "[*********************100%%**********************]  1 of 1 completed\n",
      "\n",
      "1 Failed download:\n",
      "['90070A202']: Exception('%ticker%: No timezone found, symbol may be delisted')\n"
     ]
    },
    {
     "name": "stdout",
     "output_type": "stream",
     "text": [
      "Empty DataFrame\n",
      "Columns: [Open, High, Low, Close, Adj Close, Volume]\n",
      "Index: []\n"
     ]
    },
    {
     "name": "stderr",
     "output_type": "stream",
     "text": [
      "[*********************100%%**********************]  1 of 1 completed\n",
      "\n",
      "1 Failed download:\n",
      "['17143G205']: Exception('%ticker%: No timezone found, symbol may be delisted')\n"
     ]
    },
    {
     "name": "stdout",
     "output_type": "stream",
     "text": [
      "Empty DataFrame\n",
      "Columns: [Open, High, Low, Close, Adj Close, Volume]\n",
      "Index: []\n"
     ]
    },
    {
     "name": "stderr",
     "output_type": "stream",
     "text": [
      "[*********************100%%**********************]  1 of 1 completed\n",
      "\n",
      "1 Failed download:\n",
      "['838884203']: Exception('%ticker%: No timezone found, symbol may be delisted')\n"
     ]
    },
    {
     "name": "stdout",
     "output_type": "stream",
     "text": [
      "Empty DataFrame\n",
      "Columns: [Open, High, Low, Close, Adj Close, Volume]\n",
      "Index: []\n"
     ]
    },
    {
     "name": "stderr",
     "output_type": "stream",
     "text": [
      "[*********************100%%**********************]  1 of 1 completed\n",
      "\n",
      "1 Failed download:\n",
      "['42087L200']: Exception('%ticker%: No timezone found, symbol may be delisted')\n"
     ]
    },
    {
     "name": "stdout",
     "output_type": "stream",
     "text": [
      "Empty DataFrame\n",
      "Columns: [Open, High, Low, Close, Adj Close, Volume]\n",
      "Index: []\n"
     ]
    },
    {
     "name": "stderr",
     "output_type": "stream",
     "text": [
      "[*********************100%%**********************]  1 of 1 completed\n",
      "\n",
      "1 Failed download:\n",
      "['375036209']: Exception('%ticker%: No timezone found, symbol may be delisted')\n"
     ]
    },
    {
     "name": "stdout",
     "output_type": "stream",
     "text": [
      "Empty DataFrame\n",
      "Columns: [Open, High, Low, Close, Adj Close, Volume]\n",
      "Index: []\n"
     ]
    },
    {
     "name": "stderr",
     "output_type": "stream",
     "text": [
      "[*********************100%%**********************]  1 of 1 completed\n",
      "\n",
      "1 Failed download:\n",
      "['74317H204']: Exception('%ticker%: No timezone found, symbol may be delisted')\n"
     ]
    },
    {
     "name": "stdout",
     "output_type": "stream",
     "text": [
      "Empty DataFrame\n",
      "Columns: [Open, High, Low, Close, Adj Close, Volume]\n",
      "Index: []\n"
     ]
    },
    {
     "name": "stderr",
     "output_type": "stream",
     "text": [
      "[*********************100%%**********************]  1 of 1 completed\n",
      "\n",
      "1 Failed download:\n",
      "['36251A206']: Exception('%ticker%: No timezone found, symbol may be delisted')\n",
      "c:\\Users\\ziggy\\anaconda3\\Lib\\site-packages\\yfinance\\utils.py:775: FutureWarning: The 'unit' keyword in TimedeltaIndex construction is deprecated and will be removed in a future version. Use pd.to_timedelta instead.\n",
      "  df.index += _pd.TimedeltaIndex(dst_error_hours, 'h')\n",
      "[*********************100%%**********************]  1 of 1 completed\n"
     ]
    },
    {
     "name": "stdout",
     "output_type": "stream",
     "text": [
      "Empty DataFrame\n",
      "Columns: [Open, High, Low, Close, Adj Close, Volume]\n",
      "Index: []\n",
      "             Open   High    Low  Close  Adj Close  Volume\n",
      "Date                                                     \n",
      "2019-05-16  13.74  13.75  13.63  13.70  12.183123   27100\n",
      "2019-05-17  13.70  13.73  13.64  13.65  12.138659   30200\n",
      "2019-05-20  13.70  13.75  13.65  13.70  12.183123   45100\n",
      "2019-05-21  13.70  13.71  13.67  13.69  12.174230   16300\n",
      "2019-05-22  13.69  13.72  13.59  13.63  12.120874   40300\n",
      "...           ...    ...    ...    ...        ...     ...\n",
      "2020-05-11  13.17  13.17  13.01  13.09  12.088661   41400\n",
      "2020-05-12  13.13  13.13  13.02  13.04  12.042484   54000\n",
      "2020-05-13  13.11  13.11  12.93  12.99  11.996310   47400\n",
      "2020-05-14  13.03  13.03  12.71  12.75  11.821991   88500\n",
      "2020-05-15  12.80  12.80  12.67  12.78  11.849810   31400\n",
      "\n",
      "[253 rows x 6 columns]\n"
     ]
    },
    {
     "name": "stderr",
     "output_type": "stream",
     "text": [
      "[*********************100%%**********************]  1 of 1 completed\n",
      "\n",
      "1 Failed download:\n",
      "['25258L208']: Exception('%ticker%: No timezone found, symbol may be delisted')\n"
     ]
    },
    {
     "name": "stdout",
     "output_type": "stream",
     "text": [
      "Empty DataFrame\n",
      "Columns: [Open, High, Low, Close, Adj Close, Volume]\n",
      "Index: []\n"
     ]
    },
    {
     "name": "stderr",
     "output_type": "stream",
     "text": [
      "[*********************100%%**********************]  1 of 1 completed\n",
      "\n",
      "1 Failed download:\n",
      "['45258J201']: Exception('%ticker%: No timezone found, symbol may be delisted')\n"
     ]
    },
    {
     "name": "stdout",
     "output_type": "stream",
     "text": [
      "Empty DataFrame\n",
      "Columns: [Open, High, Low, Close, Adj Close, Volume]\n",
      "Index: []\n"
     ]
    },
    {
     "name": "stderr",
     "output_type": "stream",
     "text": [
      "[*********************100%%**********************]  1 of 1 completed\n",
      "\n",
      "1 Failed download:\n",
      "['51476X204']: Exception('%ticker%: No timezone found, symbol may be delisted')\n",
      "c:\\Users\\ziggy\\anaconda3\\Lib\\site-packages\\yfinance\\utils.py:775: FutureWarning: The 'unit' keyword in TimedeltaIndex construction is deprecated and will be removed in a future version. Use pd.to_timedelta instead.\n",
      "  df.index += _pd.TimedeltaIndex(dst_error_hours, 'h')\n",
      "[*********************100%%**********************]  1 of 1 completed\n"
     ]
    },
    {
     "name": "stdout",
     "output_type": "stream",
     "text": [
      "Empty DataFrame\n",
      "Columns: [Open, High, Low, Close, Adj Close, Volume]\n",
      "Index: []\n",
      "             Open   High    Low  Close  Adj Close  Volume\n",
      "Date                                                     \n",
      "2019-04-30  13.31  13.38  13.31  13.38  11.856925   39700\n",
      "2019-05-01  13.40  13.50  13.35  13.49  11.954405   43600\n",
      "2019-05-02  13.50  13.56  13.41  13.56  12.016434   45700\n",
      "2019-05-03  13.58  13.58  13.52  13.56  12.016434   35500\n",
      "2019-05-06  13.60  13.62  13.54  13.58  12.034159   59000\n",
      "...           ...    ...    ...    ...        ...     ...\n",
      "2020-04-23  12.87  12.87  12.67  12.76  11.783903   92100\n",
      "2020-04-24  12.80  12.80  12.53  12.71  11.737728   99100\n",
      "2020-04-27  12.60  12.69  12.31  12.40  11.451441  134800\n",
      "2020-04-28  12.42  12.50  12.36  12.38  11.432971   99900\n",
      "2020-04-29  12.51  12.78  12.43  12.67  11.700788  107000\n",
      "\n",
      "[253 rows x 6 columns]\n"
     ]
    },
    {
     "name": "stderr",
     "output_type": "stream",
     "text": [
      "[*********************100%%**********************]  1 of 1 completed\n",
      "\n",
      "1 Failed download:\n",
      "['05586Y205']: Exception('%ticker%: No timezone found, symbol may be delisted')\n",
      "c:\\Users\\ziggy\\anaconda3\\Lib\\site-packages\\yfinance\\utils.py:775: FutureWarning: The 'unit' keyword in TimedeltaIndex construction is deprecated and will be removed in a future version. Use pd.to_timedelta instead.\n",
      "  df.index += _pd.TimedeltaIndex(dst_error_hours, 'h')\n",
      "[*********************100%%**********************]  1 of 1 completed\n",
      "c:\\Users\\ziggy\\anaconda3\\Lib\\site-packages\\yfinance\\utils.py:775: FutureWarning: The 'unit' keyword in TimedeltaIndex construction is deprecated and will be removed in a future version. Use pd.to_timedelta instead.\n",
      "  df.index += _pd.TimedeltaIndex(dst_error_hours, 'h')\n"
     ]
    },
    {
     "name": "stdout",
     "output_type": "stream",
     "text": [
      "Empty DataFrame\n",
      "Columns: [Open, High, Low, Close, Adj Close, Volume]\n",
      "Index: []\n",
      "             Open   High    Low  Close  Adj Close  Volume\n",
      "Date                                                     \n",
      "2019-04-08  13.45  13.50  13.38  13.50  11.920852   37300\n",
      "2019-04-09  13.50  13.51  13.44  13.48  11.903193   27700\n",
      "2019-04-10  13.51  13.54  13.50  13.51  11.929686   35200\n",
      "2019-04-11  13.53  13.54  13.45  13.54  11.956174   25100\n",
      "2019-04-12  13.45  13.54  13.44  13.46  11.927817   19900\n",
      "...           ...    ...    ...    ...        ...     ...\n",
      "2020-04-01  13.01  13.02  12.59  12.80  11.776929  125600\n",
      "2020-04-02  12.76  12.76  12.41  12.46  11.464103   39800\n",
      "2020-04-03  12.25  12.49  12.25  12.35  11.362894   59200\n",
      "2020-04-06  12.43  12.67  12.43  12.50  11.500905   61200\n",
      "2020-04-07  12.64  12.79  12.63  12.74  11.721722   42100\n",
      "\n",
      "[253 rows x 6 columns]\n"
     ]
    },
    {
     "name": "stderr",
     "output_type": "stream",
     "text": [
      "[*********************100%%**********************]  1 of 1 completed\n"
     ]
    },
    {
     "name": "stdout",
     "output_type": "stream",
     "text": [
      "             Open   High    Low  Close  Adj Close  Volume\n",
      "Date                                                     \n",
      "2019-04-01  13.42  13.51  13.40  13.51  11.929686   66300\n",
      "2019-04-02  13.53  13.53  13.46  13.48  11.903193   48700\n",
      "2019-04-03  13.48  13.48  13.37  13.38  11.814894   32800\n",
      "2019-04-04  13.39  13.45  13.35  13.35  11.788399   37300\n",
      "2019-04-05  13.37  13.45  13.30  13.40  11.832554   19500\n",
      "...           ...    ...    ...    ...        ...     ...\n",
      "2020-03-25  11.68  12.38  11.67  12.33  11.344492  164700\n",
      "2020-03-26  12.30  12.91  12.30  12.80  11.776929  167700\n",
      "2020-03-27  12.73  12.92  12.58  12.70  11.684920   96300\n",
      "2020-03-30  12.83  13.00  12.74  13.00  11.960944  105800\n",
      "2020-03-31  13.03  13.15  13.01  13.13  12.080549  102100\n",
      "\n",
      "[253 rows x 6 columns]\n"
     ]
    },
    {
     "name": "stderr",
     "output_type": "stream",
     "text": [
      "[*********************100%%**********************]  1 of 1 completed\n",
      "\n",
      "1 Failed download:\n",
      "['457867307']: Exception('%ticker%: No timezone found, symbol may be delisted')\n"
     ]
    },
    {
     "name": "stdout",
     "output_type": "stream",
     "text": [
      "Empty DataFrame\n",
      "Columns: [Open, High, Low, Close, Adj Close, Volume]\n",
      "Index: []\n"
     ]
    },
    {
     "name": "stderr",
     "output_type": "stream",
     "text": [
      "[*********************100%%**********************]  1 of 1 completed\n",
      "\n",
      "1 Failed download:\n",
      "['89628U207']: Exception('%ticker%: No timezone found, symbol may be delisted')\n"
     ]
    },
    {
     "name": "stdout",
     "output_type": "stream",
     "text": [
      "Empty DataFrame\n",
      "Columns: [Open, High, Low, Close, Adj Close, Volume]\n",
      "Index: []\n"
     ]
    },
    {
     "name": "stderr",
     "output_type": "stream",
     "text": [
      "[*********************100%%**********************]  1 of 1 completed\n",
      "\n",
      "1 Failed download:\n",
      "['22564L204']: Exception('%ticker%: No timezone found, symbol may be delisted')\n"
     ]
    },
    {
     "name": "stdout",
     "output_type": "stream",
     "text": [
      "Empty DataFrame\n",
      "Columns: [Open, High, Low, Close, Adj Close, Volume]\n",
      "Index: []\n"
     ]
    },
    {
     "name": "stderr",
     "output_type": "stream",
     "text": [
      "[*********************100%%**********************]  1 of 1 completed\n",
      "\n",
      "1 Failed download:\n",
      "['90069K203']: Exception('%ticker%: No timezone found, symbol may be delisted')\n"
     ]
    },
    {
     "name": "stdout",
     "output_type": "stream",
     "text": [
      "Empty DataFrame\n",
      "Columns: [Open, High, Low, Close, Adj Close, Volume]\n",
      "Index: []\n"
     ]
    },
    {
     "name": "stderr",
     "output_type": "stream",
     "text": [
      "[*********************100%%**********************]  1 of 1 completed\n",
      "\n",
      "1 Failed download:\n",
      "['42589C203']: Exception('%ticker%: No timezone found, symbol may be delisted')\n"
     ]
    },
    {
     "name": "stdout",
     "output_type": "stream",
     "text": [
      "Empty DataFrame\n",
      "Columns: [Open, High, Low, Close, Adj Close, Volume]\n",
      "Index: []\n"
     ]
    },
    {
     "name": "stderr",
     "output_type": "stream",
     "text": [
      "[*********************100%%**********************]  1 of 1 completed\n",
      "\n",
      "1 Failed download:\n",
      "['25280H209']: Exception('%ticker%: No timezone found, symbol may be delisted')\n"
     ]
    },
    {
     "name": "stdout",
     "output_type": "stream",
     "text": [
      "Empty DataFrame\n",
      "Columns: [Open, High, Low, Close, Adj Close, Volume]\n",
      "Index: []\n"
     ]
    },
    {
     "name": "stderr",
     "output_type": "stream",
     "text": [
      "[*********************100%%**********************]  1 of 1 completed\n",
      "\n",
      "1 Failed download:\n",
      "['89154L209']: Exception('%ticker%: No timezone found, symbol may be delisted')\n"
     ]
    },
    {
     "name": "stdout",
     "output_type": "stream",
     "text": [
      "Empty DataFrame\n",
      "Columns: [Open, High, Low, Close, Adj Close, Volume]\n",
      "Index: []\n"
     ]
    },
    {
     "name": "stderr",
     "output_type": "stream",
     "text": [
      "[*********************100%%**********************]  1 of 1 completed\n",
      "\n",
      "1 Failed download:\n",
      "['004285201']: Exception('%ticker%: No timezone found, symbol may be delisted')\n"
     ]
    },
    {
     "name": "stdout",
     "output_type": "stream",
     "text": [
      "Empty DataFrame\n",
      "Columns: [Open, High, Low, Close, Adj Close, Volume]\n",
      "Index: []\n"
     ]
    },
    {
     "name": "stderr",
     "output_type": "stream",
     "text": [
      "[*********************100%%**********************]  1 of 1 completed\n",
      "\n",
      "1 Failed download:\n",
      "['749641205']: Exception('%ticker%: No timezone found, symbol may be delisted')\n"
     ]
    },
    {
     "name": "stdout",
     "output_type": "stream",
     "text": [
      "Empty DataFrame\n",
      "Columns: [Open, High, Low, Close, Adj Close, Volume]\n",
      "Index: []\n"
     ]
    },
    {
     "name": "stderr",
     "output_type": "stream",
     "text": [
      "[*********************100%%**********************]  1 of 1 completed\n",
      "\n",
      "1 Failed download:\n",
      "['609754205']: Exception('%ticker%: No timezone found, symbol may be delisted')\n",
      "c:\\Users\\ziggy\\anaconda3\\Lib\\site-packages\\yfinance\\utils.py:775: FutureWarning: The 'unit' keyword in TimedeltaIndex construction is deprecated and will be removed in a future version. Use pd.to_timedelta instead.\n",
      "  df.index += _pd.TimedeltaIndex(dst_error_hours, 'h')\n",
      "[*********************100%%**********************]  1 of 1 completed\n"
     ]
    },
    {
     "name": "stdout",
     "output_type": "stream",
     "text": [
      "Empty DataFrame\n",
      "Columns: [Open, High, Low, Close, Adj Close, Volume]\n",
      "Index: []\n",
      "             Open   High    Low  Close  Adj Close  Volume\n",
      "Date                                                     \n",
      "2019-02-08  12.86  12.90  12.83  12.88  11.289690  108200\n",
      "2019-02-11  12.88  12.94  12.87  12.94  11.342278   57600\n",
      "2019-02-12  12.88  13.00  12.88  12.91  11.315985   59200\n",
      "2019-02-13  12.91  12.93  12.83  12.84  11.254626   42900\n",
      "2019-02-14  12.83  12.90  12.78  12.90  11.349648   37500\n",
      "...           ...    ...    ...    ...        ...     ...\n",
      "2020-02-03  14.51  14.52  14.50  14.51  13.260063   33000\n",
      "2020-02-04  14.50  14.50  14.45  14.46  13.214373   35200\n",
      "2020-02-05  14.50  14.51  14.45  14.51  13.260063   60700\n",
      "2020-02-06  14.50  14.54  14.48  14.52  13.269205   39700\n",
      "2020-02-07  14.54  14.55  14.54  14.55  13.296621   17600\n",
      "\n",
      "[252 rows x 6 columns]\n"
     ]
    },
    {
     "name": "stderr",
     "output_type": "stream",
     "text": [
      "[*********************100%%**********************]  1 of 1 completed\n",
      "\n",
      "1 Failed download:\n",
      "['382872208']: Exception('%ticker%: No timezone found, symbol may be delisted')\n"
     ]
    },
    {
     "name": "stdout",
     "output_type": "stream",
     "text": [
      "Empty DataFrame\n",
      "Columns: [Open, High, Low, Close, Adj Close, Volume]\n",
      "Index: []\n"
     ]
    },
    {
     "name": "stderr",
     "output_type": "stream",
     "text": [
      "[*********************100%%**********************]  1 of 1 completed\n",
      "\n",
      "1 Failed download:\n",
      "['72583A200']: Exception('%ticker%: No timezone found, symbol may be delisted')\n",
      "c:\\Users\\ziggy\\anaconda3\\Lib\\site-packages\\yfinance\\utils.py:775: FutureWarning: The 'unit' keyword in TimedeltaIndex construction is deprecated and will be removed in a future version. Use pd.to_timedelta instead.\n",
      "  df.index += _pd.TimedeltaIndex(dst_error_hours, 'h')\n",
      "[*********************100%%**********************]  1 of 1 completed\n"
     ]
    },
    {
     "name": "stdout",
     "output_type": "stream",
     "text": [
      "Empty DataFrame\n",
      "Columns: [Open, High, Low, Close, Adj Close, Volume]\n",
      "Index: []\n",
      "             Open   High    Low  Close  Adj Close  Volume\n",
      "Date                                                     \n",
      "2019-01-31  12.74  12.79  12.73  12.77  11.193272   28400\n",
      "2019-02-01  12.74  12.79  12.72  12.73  11.158207   74900\n",
      "2019-02-04  12.75  12.83  12.74  12.83  11.245864   48500\n",
      "2019-02-05  12.83  12.84  12.81  12.84  11.254626   59200\n",
      "2019-02-06  12.85  12.85  12.81  12.85  11.263395   35800\n",
      "...           ...    ...    ...    ...        ...     ...\n",
      "2020-01-24  14.42  14.44  14.35  14.41  13.168681   46400\n",
      "2020-01-27  14.49  14.49  14.44  14.48  13.232650   55300\n",
      "2020-01-28  14.49  14.49  14.45  14.46  13.214373   32600\n",
      "2020-01-29  14.50  14.51  14.46  14.51  13.260063   36300\n",
      "2020-01-30  14.52  14.52  14.50  14.51  13.260063   26800\n",
      "\n",
      "[252 rows x 6 columns]\n"
     ]
    },
    {
     "name": "stderr",
     "output_type": "stream",
     "text": [
      "[*********************100%%**********************]  1 of 1 completed\n",
      "\n",
      "1 Failed download:\n",
      "['09090D202']: Exception('%ticker%: No timezone found, symbol may be delisted')\n"
     ]
    },
    {
     "name": "stdout",
     "output_type": "stream",
     "text": [
      "Empty DataFrame\n",
      "Columns: [Open, High, Low, Close, Adj Close, Volume]\n",
      "Index: []\n"
     ]
    },
    {
     "name": "stderr",
     "output_type": "stream",
     "text": [
      "[*********************100%%**********************]  1 of 1 completed\n",
      "\n",
      "1 Failed download:\n",
      "['12528N206']: Exception('%ticker%: No timezone found, symbol may be delisted')\n"
     ]
    },
    {
     "name": "stdout",
     "output_type": "stream",
     "text": [
      "Empty DataFrame\n",
      "Columns: [Open, High, Low, Close, Adj Close, Volume]\n",
      "Index: []\n"
     ]
    },
    {
     "name": "stderr",
     "output_type": "stream",
     "text": [
      "[*********************100%%**********************]  1 of 1 completed\n",
      "\n",
      "1 Failed download:\n",
      "['80821R208']: Exception('%ticker%: No timezone found, symbol may be delisted')\n"
     ]
    },
    {
     "name": "stdout",
     "output_type": "stream",
     "text": [
      "Empty DataFrame\n",
      "Columns: [Open, High, Low, Close, Adj Close, Volume]\n",
      "Index: []\n"
     ]
    },
    {
     "name": "stderr",
     "output_type": "stream",
     "text": [
      "[*********************100%%**********************]  1 of 1 completed\n",
      "\n",
      "1 Failed download:\n",
      "['31811A309']: Exception('%ticker%: No timezone found, symbol may be delisted')\n"
     ]
    },
    {
     "name": "stdout",
     "output_type": "stream",
     "text": [
      "Empty DataFrame\n",
      "Columns: [Open, High, Low, Close, Adj Close, Volume]\n",
      "Index: []\n"
     ]
    },
    {
     "name": "stderr",
     "output_type": "stream",
     "text": [
      "[*********************100%%**********************]  1 of 1 completed\n",
      "\n",
      "1 Failed download:\n",
      "['00165R200']: Exception('%ticker%: No timezone found, symbol may be delisted')\n"
     ]
    },
    {
     "name": "stdout",
     "output_type": "stream",
     "text": [
      "Empty DataFrame\n",
      "Columns: [Open, High, Low, Close, Adj Close, Volume]\n",
      "Index: []\n"
     ]
    },
    {
     "name": "stderr",
     "output_type": "stream",
     "text": [
      "[*********************100%%**********************]  1 of 1 completed\n",
      "\n",
      "1 Failed download:\n",
      "['10319T200']: Exception('%ticker%: No timezone found, symbol may be delisted')\n",
      "c:\\Users\\ziggy\\anaconda3\\Lib\\site-packages\\yfinance\\utils.py:775: FutureWarning: The 'unit' keyword in TimedeltaIndex construction is deprecated and will be removed in a future version. Use pd.to_timedelta instead.\n",
      "  df.index += _pd.TimedeltaIndex(dst_error_hours, 'h')\n",
      "[*********************100%%**********************]  1 of 1 completed\n"
     ]
    },
    {
     "name": "stdout",
     "output_type": "stream",
     "text": [
      "Empty DataFrame\n",
      "Columns: [Open, High, Low, Close, Adj Close, Volume]\n",
      "Index: []\n",
      "             Open   High    Low  Close  Adj Close  Volume\n",
      "Date                                                     \n",
      "2018-10-26  12.10  12.18  12.10  12.15  10.526903   64900\n",
      "2018-10-29  12.13  12.24  12.10  12.15  10.526903   79300\n",
      "2018-10-30  12.12  12.23  12.03  12.10  10.483585   89200\n",
      "2018-10-31  12.05  12.18  12.03  12.10  10.483585   63200\n",
      "2018-11-01  12.11  12.14  12.05  12.13  10.509576  100600\n",
      "...           ...    ...    ...    ...        ...     ...\n",
      "2019-10-21  14.06  14.10  14.01  14.05  12.709762   53300\n",
      "2019-10-22  14.08  14.09  14.01  14.06  12.718809   25900\n",
      "2019-10-23  14.10  14.10  14.01  14.06  12.718809   40700\n",
      "2019-10-24  14.10  14.10  13.98  14.05  12.709762   23900\n",
      "2019-10-25  14.09  14.09  13.97  13.98  12.646436   33200\n",
      "\n",
      "[251 rows x 6 columns]\n"
     ]
    },
    {
     "name": "stderr",
     "output_type": "stream",
     "text": [
      "[*********************100%%**********************]  1 of 1 completed\n",
      "\n",
      "1 Failed download:\n",
      "['384278206']: Exception('%ticker%: No timezone found, symbol may be delisted')\n"
     ]
    },
    {
     "name": "stdout",
     "output_type": "stream",
     "text": [
      "Empty DataFrame\n",
      "Columns: [Open, High, Low, Close, Adj Close, Volume]\n",
      "Index: []\n"
     ]
    },
    {
     "name": "stderr",
     "output_type": "stream",
     "text": [
      "[*********************100%%**********************]  1 of 1 completed\n",
      "\n",
      "1 Failed download:\n",
      "['23318M209']: Exception('%ticker%: No timezone found, symbol may be delisted')\n"
     ]
    },
    {
     "name": "stdout",
     "output_type": "stream",
     "text": [
      "Empty DataFrame\n",
      "Columns: [Open, High, Low, Close, Adj Close, Volume]\n",
      "Index: []\n"
     ]
    },
    {
     "name": "stderr",
     "output_type": "stream",
     "text": [
      "[*********************100%%**********************]  1 of 1 completed\n",
      "\n",
      "1 Failed download:\n",
      "['28139A201']: Exception('%ticker%: No timezone found, symbol may be delisted')\n",
      "c:\\Users\\ziggy\\anaconda3\\Lib\\site-packages\\yfinance\\utils.py:775: FutureWarning: The 'unit' keyword in TimedeltaIndex construction is deprecated and will be removed in a future version. Use pd.to_timedelta instead.\n",
      "  df.index += _pd.TimedeltaIndex(dst_error_hours, 'h')\n",
      "[*********************100%%**********************]  1 of 1 completed\n",
      "c:\\Users\\ziggy\\anaconda3\\Lib\\site-packages\\yfinance\\utils.py:775: FutureWarning: The 'unit' keyword in TimedeltaIndex construction is deprecated and will be removed in a future version. Use pd.to_timedelta instead.\n",
      "  df.index += _pd.TimedeltaIndex(dst_error_hours, 'h')\n",
      "[*********************100%%**********************]  1 of 1 completed\n"
     ]
    },
    {
     "name": "stdout",
     "output_type": "stream",
     "text": [
      "Empty DataFrame\n",
      "Columns: [Open, High, Low, Close, Adj Close, Volume]\n",
      "Index: []\n",
      "             Open   High    Low  Close  Adj Close  Volume\n",
      "Date                                                     \n",
      "2018-10-10  12.12  12.15  12.06  12.13  10.468125   58900\n",
      "2018-10-11  12.13  12.22  12.11  12.17  10.502645  116100\n",
      "2018-10-12  12.12  12.15  12.02  12.02  10.414270  104900\n",
      "2018-10-15  12.07  12.07  12.03  12.07  10.457590   40900\n",
      "2018-10-16  12.08  12.20  12.05  12.20  10.570225   47900\n",
      "...           ...    ...    ...    ...        ...     ...\n",
      "2019-10-03  14.27  14.32  14.25  14.25  12.847383   46600\n",
      "2019-10-04  14.30  14.30  14.22  14.23  12.829353   25100\n",
      "2019-10-07  14.23  14.36  14.20  14.23  12.829353   92700\n",
      "2019-10-08  14.27  14.28  14.15  14.18  12.784274   44100\n",
      "2019-10-09  14.21  14.27  14.21  14.27  12.865413   17100\n",
      "\n",
      "[251 rows x 6 columns]\n",
      "             Open   High    Low  Close  Adj Close  Volume\n",
      "Date                                                     \n",
      "2018-10-10  12.12  12.15  12.06  12.13  10.468125   58900\n",
      "2018-10-11  12.13  12.22  12.11  12.17  10.502645  116100\n",
      "2018-10-12  12.12  12.15  12.02  12.02  10.414270  104900\n",
      "2018-10-15  12.07  12.07  12.03  12.07  10.457590   40900\n",
      "2018-10-16  12.08  12.20  12.05  12.20  10.570225   47900\n",
      "...           ...    ...    ...    ...        ...     ...\n",
      "2019-10-03  14.27  14.32  14.25  14.25  12.847383   46600\n",
      "2019-10-04  14.30  14.30  14.22  14.23  12.829353   25100\n",
      "2019-10-07  14.23  14.36  14.20  14.23  12.829353   92700\n",
      "2019-10-08  14.27  14.28  14.15  14.18  12.784274   44100\n",
      "2019-10-09  14.21  14.27  14.21  14.27  12.865413   17100\n",
      "\n",
      "[251 rows x 6 columns]\n"
     ]
    },
    {
     "name": "stderr",
     "output_type": "stream",
     "text": [
      "[*********************100%%**********************]  1 of 1 completed\n",
      "\n",
      "1 Failed download:\n",
      "['16166A202']: Exception('%ticker%: No timezone found, symbol may be delisted')\n"
     ]
    },
    {
     "name": "stdout",
     "output_type": "stream",
     "text": [
      "Empty DataFrame\n",
      "Columns: [Open, High, Low, Close, Adj Close, Volume]\n",
      "Index: []\n"
     ]
    },
    {
     "name": "stderr",
     "output_type": "stream",
     "text": [
      "[*********************100%%**********************]  1 of 1 completed\n",
      "\n",
      "1 Failed download:\n",
      "['38286G208']: Exception('%ticker%: No timezone found, symbol may be delisted')\n"
     ]
    },
    {
     "name": "stdout",
     "output_type": "stream",
     "text": [
      "Empty DataFrame\n",
      "Columns: [Open, High, Low, Close, Adj Close, Volume]\n",
      "Index: []\n"
     ]
    },
    {
     "name": "stderr",
     "output_type": "stream",
     "text": [
      "[*********************100%%**********************]  1 of 1 completed\n",
      "\n",
      "1 Failed download:\n",
      "['17142R202']: Exception('%ticker%: No timezone found, symbol may be delisted')\n",
      "c:\\Users\\ziggy\\anaconda3\\Lib\\site-packages\\yfinance\\utils.py:775: FutureWarning: The 'unit' keyword in TimedeltaIndex construction is deprecated and will be removed in a future version. Use pd.to_timedelta instead.\n",
      "  df.index += _pd.TimedeltaIndex(dst_error_hours, 'h')\n",
      "[*********************100%%**********************]  1 of 1 completed\n"
     ]
    },
    {
     "name": "stdout",
     "output_type": "stream",
     "text": [
      "Empty DataFrame\n",
      "Columns: [Open, High, Low, Close, Adj Close, Volume]\n",
      "Index: []\n",
      "             Open   High    Low  Close  Adj Close  Volume\n",
      "Date                                                     \n",
      "2018-08-31  12.59  12.60  12.56  12.59  10.823382   41100\n",
      "2018-09-04  12.60  12.60  12.52  12.56  10.797591   42100\n",
      "2018-09-05  12.56  12.58  12.56  12.57  10.806190   35400\n",
      "2018-09-06  12.59  12.61  12.53  12.57  10.806190   50400\n",
      "2018-09-07  12.53  12.56  12.51  12.55  10.788993   63800\n",
      "...           ...    ...    ...    ...        ...     ...\n",
      "2019-08-26  14.13  14.18  14.10  14.15  12.713733   35600\n",
      "2019-08-27  14.18  14.21  14.08  14.18  12.740690   47600\n",
      "2019-08-28  14.20  14.24  14.17  14.21  12.767644   80800\n",
      "2019-08-29  14.24  14.26  14.19  14.22  12.776630   34500\n",
      "2019-08-30  14.26  14.27  14.22  14.25  12.803585   12000\n",
      "\n",
      "[251 rows x 6 columns]\n"
     ]
    },
    {
     "name": "stderr",
     "output_type": "stream",
     "text": [
      "[*********************100%%**********************]  1 of 1 completed\n",
      "\n",
      "1 Failed download:\n",
      "['58518F208']: Exception('%ticker%: No timezone found, symbol may be delisted')\n",
      "c:\\Users\\ziggy\\anaconda3\\Lib\\site-packages\\yfinance\\utils.py:775: FutureWarning: The 'unit' keyword in TimedeltaIndex construction is deprecated and will be removed in a future version. Use pd.to_timedelta instead.\n",
      "  df.index += _pd.TimedeltaIndex(dst_error_hours, 'h')\n",
      "[*********************100%%**********************]  1 of 1 completed\n",
      "c:\\Users\\ziggy\\anaconda3\\Lib\\site-packages\\yfinance\\utils.py:775: FutureWarning: The 'unit' keyword in TimedeltaIndex construction is deprecated and will be removed in a future version. Use pd.to_timedelta instead.\n",
      "  df.index += _pd.TimedeltaIndex(dst_error_hours, 'h')\n",
      "[*********************100%%**********************]  1 of 1 completed\n"
     ]
    },
    {
     "name": "stdout",
     "output_type": "stream",
     "text": [
      "Empty DataFrame\n",
      "Columns: [Open, High, Low, Close, Adj Close, Volume]\n",
      "Index: []\n",
      "             Open   High    Low  Close  Adj Close  Volume\n",
      "Date                                                     \n",
      "2018-08-23  12.54  12.55  12.51  12.54  10.780396   71300\n",
      "2018-08-24  12.53  12.56  12.52  12.53  10.771802  133400\n",
      "2018-08-27  12.52  12.57  12.52  12.57  10.806190   34600\n",
      "2018-08-28  12.55  12.57  12.54  12.55  10.788993   38100\n",
      "2018-08-29  12.54  12.58  12.53  12.54  10.780396   41100\n",
      "...           ...    ...    ...    ...        ...     ...\n",
      "2019-08-16  14.22  14.23  14.14  14.15  12.713733   15600\n",
      "2019-08-19  14.17  14.25  14.14  14.17  12.731702   79400\n",
      "2019-08-20  14.22  14.25  14.16  14.20  12.758658   45500\n",
      "2019-08-21  14.18  14.28  14.18  14.22  12.776630   31500\n",
      "2019-08-22  14.22  14.28  14.17  14.18  12.740690   27400\n",
      "\n",
      "[251 rows x 6 columns]\n",
      "             Open   High    Low  Close  Adj Close  Volume\n",
      "Date                                                     \n",
      "2018-08-20  12.52  12.54  12.51  12.51  10.754605   50100\n",
      "2018-08-21  12.50  12.56  12.50  12.55  10.788993   58600\n",
      "2018-08-22  12.54  12.55  12.51  12.53  10.771802   90500\n",
      "2018-08-23  12.54  12.55  12.51  12.54  10.780396   71300\n",
      "2018-08-24  12.53  12.56  12.52  12.53  10.771802  133400\n",
      "...           ...    ...    ...    ...        ...     ...\n",
      "2019-08-13  14.18  14.22  14.16  14.21  12.724517   47100\n",
      "2019-08-14  14.24  14.24  14.12  14.21  12.767644   49700\n",
      "2019-08-15  14.24  14.25  14.18  14.21  12.767644   40800\n",
      "2019-08-16  14.22  14.23  14.14  14.15  12.713733   15600\n",
      "2019-08-19  14.17  14.25  14.14  14.17  12.731702   79400\n",
      "\n",
      "[251 rows x 6 columns]\n"
     ]
    },
    {
     "name": "stderr",
     "output_type": "stream",
     "text": [
      "c:\\Users\\ziggy\\anaconda3\\Lib\\site-packages\\yfinance\\utils.py:775: FutureWarning: The 'unit' keyword in TimedeltaIndex construction is deprecated and will be removed in a future version. Use pd.to_timedelta instead.\n",
      "  df.index += _pd.TimedeltaIndex(dst_error_hours, 'h')\n",
      "[*********************100%%**********************]  1 of 1 completed\n"
     ]
    },
    {
     "name": "stdout",
     "output_type": "stream",
     "text": [
      "             Open   High    Low  Close  Adj Close  Volume\n",
      "Date                                                     \n",
      "2018-08-14  12.52  12.52  12.50  12.50  10.746012   18100\n",
      "2018-08-15  12.51  12.54  12.50  12.50  10.746012   25200\n",
      "2018-08-16  12.51  12.51  12.48  12.49  10.737415   68700\n",
      "2018-08-17  12.49  12.53  12.47  12.52  10.763204   87100\n",
      "2018-08-20  12.52  12.54  12.51  12.51  10.754605   50100\n",
      "...           ...    ...    ...    ...        ...     ...\n",
      "2019-08-07  14.17  14.25  14.16  14.19  12.706607   45100\n",
      "2019-08-08  14.20  14.20  14.04  14.06  12.590197   60400\n",
      "2019-08-09  14.07  14.20  14.04  14.05  12.581240   66500\n",
      "2019-08-12  14.23  14.23  14.14  14.18  12.697652   65300\n",
      "2019-08-13  14.18  14.22  14.16  14.21  12.724517   47100\n",
      "\n",
      "[251 rows x 6 columns]\n"
     ]
    },
    {
     "name": "stderr",
     "output_type": "stream",
     "text": [
      "[*********************100%%**********************]  1 of 1 completed\n",
      "\n",
      "1 Failed download:\n",
      "['34986F202']: Exception('%ticker%: No timezone found, symbol may be delisted')\n",
      "c:\\Users\\ziggy\\anaconda3\\Lib\\site-packages\\yfinance\\utils.py:775: FutureWarning: The 'unit' keyword in TimedeltaIndex construction is deprecated and will be removed in a future version. Use pd.to_timedelta instead.\n",
      "  df.index += _pd.TimedeltaIndex(dst_error_hours, 'h')\n",
      "[*********************100%%**********************]  1 of 1 completed\n",
      "c:\\Users\\ziggy\\anaconda3\\Lib\\site-packages\\yfinance\\utils.py:775: FutureWarning: The 'unit' keyword in TimedeltaIndex construction is deprecated and will be removed in a future version. Use pd.to_timedelta instead.\n",
      "  df.index += _pd.TimedeltaIndex(dst_error_hours, 'h')\n",
      "[*********************100%%**********************]  1 of 1 completed"
     ]
    },
    {
     "name": "stdout",
     "output_type": "stream",
     "text": [
      "Empty DataFrame\n",
      "Columns: [Open, High, Low, Close, Adj Close, Volume]\n",
      "Index: []\n",
      "             Open   High    Low  Close  Adj Close  Volume\n",
      "Date                                                     \n",
      "2018-08-06  12.51  12.53  12.50  12.52  10.721940   54200\n",
      "2018-08-07  12.52  12.53  12.52  12.52  10.721940   27300\n",
      "2018-08-08  12.53  12.58  12.53  12.53  10.730505   53900\n",
      "2018-08-09  12.54  12.56  12.50  12.50  10.704813  169500\n",
      "2018-08-10  12.50  12.55  12.50  12.53  10.730505   58500\n",
      "...           ...    ...    ...    ...        ...     ...\n",
      "2019-07-30  14.11  14.13  14.07  14.09  12.617060   25400\n",
      "2019-07-31  14.12  14.14  14.00  14.12  12.643926  116400\n",
      "2019-08-01  14.14  14.17  14.12  14.17  12.688697  321800\n",
      "2019-08-02  14.17  14.18  14.13  14.13  12.652882   31600\n",
      "2019-08-05  14.18  14.20  14.10  14.15  12.670788   40700\n",
      "\n",
      "[251 rows x 6 columns]\n"
     ]
    },
    {
     "name": "stderr",
     "output_type": "stream",
     "text": [
      "\n"
     ]
    },
    {
     "name": "stdout",
     "output_type": "stream",
     "text": [
      "             Open   High    Low  Close  Adj Close  Volume\n",
      "Date                                                     \n",
      "2018-07-27  12.49  12.52  12.49  12.50  10.704813   95100\n",
      "2018-07-30  12.50  12.51  12.47  12.51  10.713373   49800\n",
      "2018-07-31  12.50  12.53  12.50  12.50  10.704813   42300\n",
      "2018-08-01  12.51  12.51  12.48  12.48  10.687684   49600\n",
      "2018-08-02  12.48  12.51  12.47  12.51  10.713373   64400\n",
      "...           ...    ...    ...    ...        ...     ...\n",
      "2019-07-22  14.00  14.00  13.93  13.97  12.509606   22300\n",
      "2019-07-23  13.99  13.99  13.93  13.97  12.509606   14700\n",
      "2019-07-24  14.03  14.03  13.99  14.03  12.563332   42500\n",
      "2019-07-25  14.05  14.06  14.04  14.05  12.581240   30700\n",
      "2019-07-26  14.08  14.08  13.96  14.07  12.599153   60100\n",
      "\n",
      "[251 rows x 6 columns]\n"
     ]
    },
    {
     "name": "stderr",
     "output_type": "stream",
     "text": [
      "[*********************100%%**********************]  1 of 1 completed\n",
      "\n",
      "1 Failed download:\n",
      "['01749N301']: Exception('%ticker%: No timezone found, symbol may be delisted')\n",
      "c:\\Users\\ziggy\\anaconda3\\Lib\\site-packages\\yfinance\\utils.py:775: FutureWarning: The 'unit' keyword in TimedeltaIndex construction is deprecated and will be removed in a future version. Use pd.to_timedelta instead.\n",
      "  df.index += _pd.TimedeltaIndex(dst_error_hours, 'h')\n",
      "[*********************100%%**********************]  1 of 1 completed\n"
     ]
    },
    {
     "name": "stdout",
     "output_type": "stream",
     "text": [
      "Empty DataFrame\n",
      "Columns: [Open, High, Low, Close, Adj Close, Volume]\n",
      "Index: []\n",
      "             Open   High    Low  Close  Adj Close  Volume\n",
      "Date                                                     \n",
      "2018-07-03  12.61  12.65  12.61  12.61  10.757874   44000\n",
      "2018-07-05  12.61  12.62  12.58  12.59  10.740809   30200\n",
      "2018-07-06  12.58  12.62  12.58  12.59  10.740809   32700\n",
      "2018-07-09  12.59  12.60  12.54  12.54  10.698157   39700\n",
      "2018-07-10  12.58  12.62  12.54  12.60  10.749345   39200\n",
      "...           ...    ...    ...    ...        ...     ...\n",
      "2019-06-26  13.91  13.95  13.90  13.93  12.430986   44000\n",
      "2019-06-27  13.95  13.98  13.95  13.98  12.475608   57600\n",
      "2019-06-28  13.98  13.98  13.86  13.86  12.368521   51600\n",
      "2019-07-01  13.96  13.99  13.90  13.93  12.430986   26800\n",
      "2019-07-02  13.90  13.91  13.87  13.87  12.377445   33500\n",
      "\n",
      "[251 rows x 6 columns]\n"
     ]
    },
    {
     "name": "stderr",
     "output_type": "stream",
     "text": [
      "c:\\Users\\ziggy\\anaconda3\\Lib\\site-packages\\yfinance\\utils.py:775: FutureWarning: The 'unit' keyword in TimedeltaIndex construction is deprecated and will be removed in a future version. Use pd.to_timedelta instead.\n",
      "  df.index += _pd.TimedeltaIndex(dst_error_hours, 'h')\n",
      "[*********************100%%**********************]  1 of 1 completed\n"
     ]
    },
    {
     "name": "stdout",
     "output_type": "stream",
     "text": [
      "             Open   High    Low  Close  Adj Close  Volume\n",
      "Date                                                     \n",
      "2018-07-02  12.66  12.66  12.61  12.64  10.783466   37700\n",
      "2018-07-03  12.61  12.65  12.61  12.61  10.757874   44000\n",
      "2018-07-05  12.61  12.62  12.58  12.59  10.740809   30200\n",
      "2018-07-06  12.58  12.62  12.58  12.59  10.740809   32700\n",
      "2018-07-09  12.59  12.60  12.54  12.54  10.698157   39700\n",
      "...           ...    ...    ...    ...        ...     ...\n",
      "2019-06-25  13.87  13.92  13.87  13.92  12.422066   26000\n",
      "2019-06-26  13.91  13.95  13.90  13.93  12.430986   44000\n",
      "2019-06-27  13.95  13.98  13.95  13.98  12.475608   57600\n",
      "2019-06-28  13.98  13.98  13.86  13.86  12.368521   51600\n",
      "2019-07-01  13.96  13.99  13.90  13.93  12.430986   26800\n",
      "\n",
      "[251 rows x 6 columns]\n"
     ]
    },
    {
     "name": "stderr",
     "output_type": "stream",
     "text": [
      "[*********************100%%**********************]  1 of 1 completed\n",
      "\n",
      "1 Failed download:\n",
      "['50200K207']: Exception('%ticker%: No timezone found, symbol may be delisted')\n",
      "c:\\Users\\ziggy\\anaconda3\\Lib\\site-packages\\yfinance\\utils.py:775: FutureWarning: The 'unit' keyword in TimedeltaIndex construction is deprecated and will be removed in a future version. Use pd.to_timedelta instead.\n",
      "  df.index += _pd.TimedeltaIndex(dst_error_hours, 'h')\n",
      "[*********************100%%**********************]  1 of 1 completed\n",
      "c:\\Users\\ziggy\\anaconda3\\Lib\\site-packages\\yfinance\\utils.py:775: FutureWarning: The 'unit' keyword in TimedeltaIndex construction is deprecated and will be removed in a future version. Use pd.to_timedelta instead.\n",
      "  df.index += _pd.TimedeltaIndex(dst_error_hours, 'h')\n",
      "[*********************100%%**********************]  1 of 1 completed"
     ]
    },
    {
     "name": "stdout",
     "output_type": "stream",
     "text": [
      "Empty DataFrame\n",
      "Columns: [Open, High, Low, Close, Adj Close, Volume]\n",
      "Index: []\n",
      "             Open   High    Low  Close  Adj Close  Volume\n",
      "Date                                                     \n",
      "2018-06-22  12.52  12.55  12.48  12.53  10.689627   75800\n",
      "2018-06-25  12.50  12.53  12.48  12.50  10.664030   57200\n",
      "2018-06-26  12.50  12.58  12.49  12.55  10.706690   67200\n",
      "2018-06-27  12.60  12.62  12.54  12.54  10.698157   48400\n",
      "2018-06-28  12.54  12.58  12.54  12.56  10.715219   15100\n",
      "...           ...    ...    ...    ...        ...     ...\n",
      "2019-06-17  13.85  13.85  13.80  13.84  12.350676   66800\n",
      "2019-06-18  13.82  13.90  13.81  13.90  12.404219   51200\n",
      "2019-06-19  13.88  13.91  13.86  13.87  12.377445   28300\n",
      "2019-06-20  13.91  13.92  13.84  13.89  12.395293   87900\n",
      "2019-06-21  13.89  13.89  13.85  13.88  12.386371    9900\n",
      "\n",
      "[251 rows x 6 columns]\n"
     ]
    },
    {
     "name": "stderr",
     "output_type": "stream",
     "text": [
      "\n",
      "c:\\Users\\ziggy\\anaconda3\\Lib\\site-packages\\yfinance\\utils.py:775: FutureWarning: The 'unit' keyword in TimedeltaIndex construction is deprecated and will be removed in a future version. Use pd.to_timedelta instead.\n",
      "  df.index += _pd.TimedeltaIndex(dst_error_hours, 'h')\n",
      "[*********************100%%**********************]  1 of 1 completed\n"
     ]
    },
    {
     "name": "stdout",
     "output_type": "stream",
     "text": [
      "             Open   High    Low  Close  Adj Close  Volume\n",
      "Date                                                     \n",
      "2018-06-18  12.48  12.51  12.48  12.49  10.655500   26600\n",
      "2018-06-19  12.50  12.51  12.47  12.50  10.664030   77300\n",
      "2018-06-20  12.49  12.53  12.48  12.49  10.655500  128200\n",
      "2018-06-21  12.50  12.52  12.49  12.49  10.655500  139700\n",
      "2018-06-22  12.52  12.55  12.48  12.53  10.689627   75800\n",
      "...           ...    ...    ...    ...        ...     ...\n",
      "2019-06-11  13.68  13.75  13.68  13.73  12.209798   46700\n",
      "2019-06-12  13.73  13.78  13.73  13.77  12.245369   30400\n",
      "2019-06-13  13.75  13.81  13.68  13.81  12.323904   32000\n",
      "2019-06-14  13.82  13.82  13.79  13.82  12.332828   47700\n",
      "2019-06-17  13.85  13.85  13.80  13.84  12.350676   66800\n",
      "\n",
      "[251 rows x 6 columns]\n",
      "             Open   High    Low  Close  Adj Close  Volume\n",
      "Date                                                     \n",
      "2018-06-14  12.53  12.54  12.50  12.50  10.664030   39700\n",
      "2018-06-15  12.50  12.53  12.48  12.48  10.646970   32400\n",
      "2018-06-18  12.48  12.51  12.48  12.49  10.655500   26600\n",
      "2018-06-19  12.50  12.51  12.47  12.50  10.664030   77300\n",
      "2018-06-20  12.49  12.53  12.48  12.49  10.655500  128200\n",
      "...           ...    ...    ...    ...        ...     ...\n",
      "2019-06-07  13.64  13.65  13.63  13.63  12.120874   22500\n",
      "2019-06-10  13.65  13.68  13.63  13.68  12.165338   33600\n",
      "2019-06-11  13.68  13.75  13.68  13.73  12.209798   46700\n",
      "2019-06-12  13.73  13.78  13.73  13.77  12.245369   30400\n",
      "2019-06-13  13.75  13.81  13.68  13.81  12.323904   32000\n",
      "\n",
      "[251 rows x 6 columns]\n"
     ]
    },
    {
     "name": "stderr",
     "output_type": "stream",
     "text": [
      "[*********************100%%**********************]  1 of 1 completed\n",
      "\n",
      "1 Failed download:\n",
      "['92537N207']: Exception('%ticker%: No timezone found, symbol may be delisted')\n"
     ]
    },
    {
     "name": "stdout",
     "output_type": "stream",
     "text": [
      "Empty DataFrame\n",
      "Columns: [Open, High, Low, Close, Adj Close, Volume]\n",
      "Index: []\n"
     ]
    },
    {
     "name": "stderr",
     "output_type": "stream",
     "text": [
      "[*********************100%%**********************]  1 of 1 completed\n",
      "\n",
      "1 Failed download:\n",
      "['89615T205']: Exception('%ticker%: No timezone found, symbol may be delisted')\n",
      "c:\\Users\\ziggy\\anaconda3\\Lib\\site-packages\\yfinance\\utils.py:775: FutureWarning: The 'unit' keyword in TimedeltaIndex construction is deprecated and will be removed in a future version. Use pd.to_timedelta instead.\n",
      "  df.index += _pd.TimedeltaIndex(dst_error_hours, 'h')\n",
      "[*********************100%%**********************]  1 of 1 completed\n"
     ]
    },
    {
     "name": "stdout",
     "output_type": "stream",
     "text": [
      "Empty DataFrame\n",
      "Columns: [Open, High, Low, Close, Adj Close, Volume]\n",
      "Index: []\n",
      "             Open   High    Low  Close  Adj Close  Volume\n",
      "Date                                                     \n",
      "2018-05-18  12.46  12.49  12.44  12.44  10.572316  135100\n",
      "2018-05-21  12.42  12.47  12.40  12.43  10.563819   67800\n",
      "2018-05-22  12.42  12.46  12.42  12.42  10.555319   31900\n",
      "2018-05-23  12.44  12.47  12.43  12.47  10.597815   57100\n",
      "2018-05-24  12.46  12.53  12.46  12.52  10.640306   74700\n",
      "...           ...    ...    ...    ...        ...     ...\n",
      "2019-05-13  13.70  13.72  13.66  13.72  12.158220   24700\n",
      "2019-05-14  13.69  13.72  13.66  13.72  12.200906   61900\n",
      "2019-05-15  13.73  13.74  13.69  13.69  12.174230   28600\n",
      "2019-05-16  13.74  13.75  13.63  13.70  12.183123   27100\n",
      "2019-05-17  13.70  13.73  13.64  13.65  12.138659   30200\n",
      "\n",
      "[251 rows x 6 columns]\n"
     ]
    },
    {
     "name": "stderr",
     "output_type": "stream",
     "text": [
      "[*********************100%%**********************]  1 of 1 completed\n",
      "\n",
      "1 Failed download:\n",
      "['89653L205']: Exception('%ticker%: No timezone found, symbol may be delisted')\n"
     ]
    },
    {
     "name": "stdout",
     "output_type": "stream",
     "text": [
      "Empty DataFrame\n",
      "Columns: [Open, High, Low, Close, Adj Close, Volume]\n",
      "Index: []\n"
     ]
    },
    {
     "name": "stderr",
     "output_type": "stream",
     "text": [
      "[*********************100%%**********************]  1 of 1 completed\n",
      "\n",
      "1 Failed download:\n",
      "['74621Q205']: Exception('%ticker%: No timezone found, symbol may be delisted')\n"
     ]
    },
    {
     "name": "stdout",
     "output_type": "stream",
     "text": [
      "Empty DataFrame\n",
      "Columns: [Open, High, Low, Close, Adj Close, Volume]\n",
      "Index: []\n"
     ]
    },
    {
     "name": "stderr",
     "output_type": "stream",
     "text": [
      "[*********************100%%**********************]  1 of 1 completed\n",
      "\n",
      "1 Failed download:\n",
      "['88633A206']: Exception('%ticker%: No timezone found, symbol may be delisted')\n"
     ]
    },
    {
     "name": "stdout",
     "output_type": "stream",
     "text": [
      "Empty DataFrame\n",
      "Columns: [Open, High, Low, Close, Adj Close, Volume]\n",
      "Index: []\n"
     ]
    },
    {
     "name": "stderr",
     "output_type": "stream",
     "text": [
      "[*********************100%%**********************]  1 of 1 completed\n",
      "\n",
      "1 Failed download:\n",
      "['68373P209']: Exception('%ticker%: No timezone found, symbol may be delisted')\n",
      "c:\\Users\\ziggy\\anaconda3\\Lib\\site-packages\\yfinance\\utils.py:775: FutureWarning: The 'unit' keyword in TimedeltaIndex construction is deprecated and will be removed in a future version. Use pd.to_timedelta instead.\n",
      "  df.index += _pd.TimedeltaIndex(dst_error_hours, 'h')\n",
      "[*********************100%%**********************]  1 of 1 completed\n"
     ]
    },
    {
     "name": "stdout",
     "output_type": "stream",
     "text": [
      "Empty DataFrame\n",
      "Columns: [Open, High, Low, Close, Adj Close, Volume]\n",
      "Index: []\n",
      "             Open   High    Low  Close  Adj Close  Volume\n",
      "Date                                                     \n",
      "2018-03-02  12.97  12.97  12.85  12.92  10.856380  120500\n",
      "2018-03-05  12.95  12.99  12.90  12.93  10.864784   66100\n",
      "2018-03-06  12.89  12.95  12.89  12.95  10.881585   45800\n",
      "2018-03-07  12.90  12.94  12.90  12.93  10.864784   37600\n",
      "2018-03-08  12.92  12.93  12.87  12.88  10.822768   60300\n",
      "...           ...    ...    ...    ...        ...     ...\n",
      "2019-02-25  12.89  12.89  12.81  12.84  11.296860   34000\n",
      "2019-02-26  12.87  12.90  12.84  12.90  11.349648   33400\n",
      "2019-02-27  12.90  12.95  12.89  12.95  11.393640   44100\n",
      "2019-02-28  12.93  12.93  12.86  12.87  11.323255   52800\n",
      "2019-03-01  12.90  12.90  12.87  12.89  11.340849   33000\n",
      "\n",
      "[251 rows x 6 columns]\n"
     ]
    },
    {
     "name": "stderr",
     "output_type": "stream",
     "text": [
      "[*********************100%%**********************]  1 of 1 completed\n",
      "\n",
      "1 Failed download:\n",
      "['23291E208']: Exception('%ticker%: No timezone found, symbol may be delisted')\n",
      "c:\\Users\\ziggy\\anaconda3\\Lib\\site-packages\\yfinance\\utils.py:775: FutureWarning: The 'unit' keyword in TimedeltaIndex construction is deprecated and will be removed in a future version. Use pd.to_timedelta instead.\n",
      "  df.index += _pd.TimedeltaIndex(dst_error_hours, 'h')\n",
      "[*********************100%%**********************]  1 of 1 completed\n"
     ]
    },
    {
     "name": "stdout",
     "output_type": "stream",
     "text": [
      "Empty DataFrame\n",
      "Columns: [Open, High, Low, Close, Adj Close, Volume]\n",
      "Index: []\n",
      "             Open   High    Low  Close  Adj Close  Volume\n",
      "Date                                                     \n",
      "2018-02-15  13.10  13.13  13.09  13.12  11.024434   58700\n",
      "2018-02-16  13.13  13.14  13.07  13.07  10.982416   23700\n",
      "2018-02-20  13.07  13.10  12.99  13.03  10.948805   56900\n",
      "2018-02-21  13.04  13.05  12.96  13.00  10.923600   25400\n",
      "2018-02-22  12.93  12.98  12.91  12.95  10.881585   86700\n",
      "...           ...    ...    ...    ...        ...     ...\n",
      "2019-02-08  12.86  12.90  12.83  12.88  11.289690  108200\n",
      "2019-02-11  12.88  12.94  12.87  12.94  11.342278   57600\n",
      "2019-02-12  12.88  13.00  12.88  12.91  11.315985   59200\n",
      "2019-02-13  12.91  12.93  12.83  12.84  11.254626   42900\n",
      "2019-02-14  12.83  12.90  12.78  12.90  11.349648   37500\n",
      "\n",
      "[251 rows x 6 columns]\n"
     ]
    },
    {
     "name": "stderr",
     "output_type": "stream",
     "text": [
      "[*********************100%%**********************]  1 of 1 completed\n",
      "\n",
      "1 Failed download:\n",
      "['62477L206']: Exception('%ticker%: No timezone found, symbol may be delisted')\n"
     ]
    },
    {
     "name": "stdout",
     "output_type": "stream",
     "text": [
      "Empty DataFrame\n",
      "Columns: [Open, High, Low, Close, Adj Close, Volume]\n",
      "Index: []\n"
     ]
    },
    {
     "name": "stderr",
     "output_type": "stream",
     "text": [
      "[*********************100%%**********************]  1 of 1 completed\n",
      "\n",
      "1 Failed download:\n",
      "['382788206']: Exception('%ticker%: No timezone found, symbol may be delisted')\n"
     ]
    },
    {
     "name": "stdout",
     "output_type": "stream",
     "text": [
      "Empty DataFrame\n",
      "Columns: [Open, High, Low, Close, Adj Close, Volume]\n",
      "Index: []\n"
     ]
    },
    {
     "name": "stderr",
     "output_type": "stream",
     "text": [
      "[*********************100%%**********************]  1 of 1 completed\n",
      "\n",
      "1 Failed download:\n",
      "['55378W206']: Exception('%ticker%: No timezone found, symbol may be delisted')\n",
      "c:\\Users\\ziggy\\anaconda3\\Lib\\site-packages\\yfinance\\utils.py:775: FutureWarning: The 'unit' keyword in TimedeltaIndex construction is deprecated and will be removed in a future version. Use pd.to_timedelta instead.\n",
      "  df.index += _pd.TimedeltaIndex(dst_error_hours, 'h')\n",
      "[*********************100%%**********************]  1 of 1 completed\n"
     ]
    },
    {
     "name": "stdout",
     "output_type": "stream",
     "text": [
      "Empty DataFrame\n",
      "Columns: [Open, High, Low, Close, Adj Close, Volume]\n",
      "Index: []\n",
      "             Open   High    Low  Close  Adj Close  Volume\n",
      "Date                                                     \n",
      "2018-01-22  13.56  13.60  13.56  13.57  11.356015   33400\n",
      "2018-01-23  13.59  13.63  13.58  13.59  11.372753   61600\n",
      "2018-01-24  13.59  13.59  13.55  13.56  11.347647   30800\n",
      "2018-01-25  13.53  13.53  13.47  13.51  11.305808  105400\n",
      "2018-01-26  13.46  13.47  13.40  13.46  11.263963  102000\n",
      "...           ...    ...    ...    ...        ...     ...\n",
      "2019-01-14  12.57  12.61  12.57  12.57  11.017968   13400\n",
      "2019-01-15  12.54  12.58  12.54  12.56  11.009200   32300\n",
      "2019-01-16  12.62  12.62  12.50  12.61  11.053025   39700\n",
      "2019-01-17  12.62  12.64  12.59  12.60  11.044259   19500\n",
      "2019-01-18  12.55  12.64  12.55  12.59  11.035496   47200\n",
      "\n",
      "[251 rows x 6 columns]\n"
     ]
    },
    {
     "name": "stderr",
     "output_type": "stream",
     "text": [
      "[*********************100%%**********************]  1 of 1 completed\n",
      "\n",
      "1 Failed download:\n",
      "['727653206']: Exception('%ticker%: No timezone found, symbol may be delisted')\n"
     ]
    },
    {
     "name": "stdout",
     "output_type": "stream",
     "text": [
      "Empty DataFrame\n",
      "Columns: [Open, High, Low, Close, Adj Close, Volume]\n",
      "Index: []\n"
     ]
    },
    {
     "name": "stderr",
     "output_type": "stream",
     "text": [
      "[*********************100%%**********************]  1 of 1 completed\n",
      "\n",
      "1 Failed download:\n",
      "['629076209']: Exception('%ticker%: No timezone found, symbol may be delisted')\n"
     ]
    },
    {
     "name": "stdout",
     "output_type": "stream",
     "text": [
      "Empty DataFrame\n",
      "Columns: [Open, High, Low, Close, Adj Close, Volume]\n",
      "Index: []\n"
     ]
    },
    {
     "name": "stderr",
     "output_type": "stream",
     "text": [
      "[*********************100%%**********************]  1 of 1 completed\n",
      "\n",
      "1 Failed download:\n",
      "['37518N205']: Exception('%ticker%: No timezone found, symbol may be delisted')\n"
     ]
    },
    {
     "name": "stdout",
     "output_type": "stream",
     "text": [
      "Empty DataFrame\n",
      "Columns: [Open, High, Low, Close, Adj Close, Volume]\n",
      "Index: []\n"
     ]
    },
    {
     "name": "stderr",
     "output_type": "stream",
     "text": [
      "[*********************100%%**********************]  1 of 1 completed\n",
      "\n",
      "1 Failed download:\n",
      "['52539T206']: Exception('%ticker%: No timezone found, symbol may be delisted')\n",
      "c:\\Users\\ziggy\\anaconda3\\Lib\\site-packages\\yfinance\\utils.py:775: FutureWarning: The 'unit' keyword in TimedeltaIndex construction is deprecated and will be removed in a future version. Use pd.to_timedelta instead.\n",
      "  df.index += _pd.TimedeltaIndex(dst_error_hours, 'h')\n",
      "[*********************100%%**********************]  1 of 1 completed\n"
     ]
    },
    {
     "name": "stdout",
     "output_type": "stream",
     "text": [
      "Empty DataFrame\n",
      "Columns: [Open, High, Low, Close, Adj Close, Volume]\n",
      "Index: []\n",
      "             Open   High    Low  Close  Adj Close  Volume\n",
      "Date                                                     \n",
      "2017-12-05  13.89  13.93  13.79  13.93  11.566291  106500\n",
      "2017-12-06  13.93  13.98  13.93  13.94  11.574596   62300\n",
      "2017-12-07  13.96  13.97  13.93  13.95  11.582901   49400\n",
      "2017-12-08  13.91  13.95  13.89  13.95  11.582901   47800\n",
      "2017-12-11  13.92  13.93  13.88  13.88  11.524776   35200\n",
      "...           ...    ...    ...    ...        ...     ...\n",
      "2018-11-28  12.16  12.24  12.14  12.19  10.602971  104600\n",
      "2018-11-29  12.21  12.29  12.20  12.22  10.629066   92500\n",
      "2018-11-30  12.24  12.31  12.24  12.30  10.698649  112300\n",
      "2018-12-03  12.27  12.34  12.27  12.31  10.707350   74300\n",
      "2018-12-04  12.31  12.39  12.31  12.36  10.750839  103100\n",
      "\n",
      "[252 rows x 6 columns]\n"
     ]
    },
    {
     "name": "stderr",
     "output_type": "stream",
     "text": [
      "[*********************100%%**********************]  1 of 1 completed\n",
      "\n",
      "1 Failed download:\n",
      "['089482202']: Exception('%ticker%: No timezone found, symbol may be delisted')\n"
     ]
    },
    {
     "name": "stdout",
     "output_type": "stream",
     "text": [
      "Empty DataFrame\n",
      "Columns: [Open, High, Low, Close, Adj Close, Volume]\n",
      "Index: []\n"
     ]
    },
    {
     "name": "stderr",
     "output_type": "stream",
     "text": [
      "[*********************100%%**********************]  1 of 1 completed\n",
      "\n",
      "1 Failed download:\n",
      "['524643202']: Exception('%ticker%: No timezone found, symbol may be delisted')\n"
     ]
    },
    {
     "name": "stdout",
     "output_type": "stream",
     "text": [
      "Empty DataFrame\n",
      "Columns: [Open, High, Low, Close, Adj Close, Volume]\n",
      "Index: []\n"
     ]
    },
    {
     "name": "stderr",
     "output_type": "stream",
     "text": [
      "[*********************100%%**********************]  1 of 1 completed\n",
      "\n",
      "1 Failed download:\n",
      "['81728P204']: Exception('%ticker%: No timezone found, symbol may be delisted')\n",
      "c:\\Users\\ziggy\\anaconda3\\Lib\\site-packages\\yfinance\\utils.py:775: FutureWarning: The 'unit' keyword in TimedeltaIndex construction is deprecated and will be removed in a future version. Use pd.to_timedelta instead.\n",
      "  df.index += _pd.TimedeltaIndex(dst_error_hours, 'h')\n",
      "[*********************100%%**********************]  1 of 1 completed\n"
     ]
    },
    {
     "name": "stdout",
     "output_type": "stream",
     "text": [
      "Empty DataFrame\n",
      "Columns: [Open, High, Low, Close, Adj Close, Volume]\n",
      "Index: []\n",
      "             Open   High    Low  Close  Adj Close  Volume\n",
      "Date                                                     \n",
      "2017-10-30  13.90  13.95  13.89  13.95  11.530019   25600\n",
      "2017-10-31  13.92  13.96  13.86  13.86  11.455628   64700\n",
      "2017-11-01  13.90  13.91  13.85  13.86  11.455628   57500\n",
      "2017-11-02  13.85  13.89  13.82  13.88  11.472159   73900\n",
      "2017-11-03  13.85  13.86  13.78  13.85  11.447364   60600\n",
      "...           ...    ...    ...    ...        ...     ...\n",
      "2018-10-23  12.09  12.14  12.08  12.09  10.474920   83900\n",
      "2018-10-24  12.09  12.13  12.08  12.11  10.492250  132600\n",
      "2018-10-25  12.10  12.15  12.09  12.15  10.526903   53400\n",
      "2018-10-26  12.10  12.18  12.10  12.15  10.526903   64900\n",
      "2018-10-29  12.13  12.24  12.10  12.15  10.526903   79300\n",
      "\n",
      "[252 rows x 6 columns]\n"
     ]
    },
    {
     "name": "stderr",
     "output_type": "stream",
     "text": [
      "[*********************100%%**********************]  1 of 1 completed\n",
      "\n",
      "1 Failed download:\n",
      "['420870206']: Exception('%ticker%: No timezone found, symbol may be delisted')\n"
     ]
    },
    {
     "name": "stdout",
     "output_type": "stream",
     "text": [
      "Empty DataFrame\n",
      "Columns: [Open, High, Low, Close, Adj Close, Volume]\n",
      "Index: []\n"
     ]
    },
    {
     "name": "stderr",
     "output_type": "stream",
     "text": [
      "[*********************100%%**********************]  1 of 1 completed\n",
      "\n",
      "1 Failed download:\n",
      "['61946M209']: Exception('%ticker%: No timezone found, symbol may be delisted')\n"
     ]
    },
    {
     "name": "stdout",
     "output_type": "stream",
     "text": [
      "Empty DataFrame\n",
      "Columns: [Open, High, Low, Close, Adj Close, Volume]\n",
      "Index: []\n"
     ]
    },
    {
     "name": "stderr",
     "output_type": "stream",
     "text": [
      "[*********************100%%**********************]  1 of 1 completed\n",
      "\n",
      "1 Failed download:\n",
      "['09216T206']: Exception('%ticker%: No timezone found, symbol may be delisted')\n"
     ]
    },
    {
     "name": "stdout",
     "output_type": "stream",
     "text": [
      "Empty DataFrame\n",
      "Columns: [Open, High, Low, Close, Adj Close, Volume]\n",
      "Index: []\n"
     ]
    },
    {
     "name": "stderr",
     "output_type": "stream",
     "text": [
      "[*********************100%%**********************]  1 of 1 completed\n",
      "\n",
      "1 Failed download:\n",
      "['92766K205']: Exception('%ticker%: No timezone found, symbol may be delisted')\n"
     ]
    },
    {
     "name": "stdout",
     "output_type": "stream",
     "text": [
      "Empty DataFrame\n",
      "Columns: [Open, High, Low, Close, Adj Close, Volume]\n",
      "Index: []\n"
     ]
    },
    {
     "name": "stderr",
     "output_type": "stream",
     "text": [
      "[*********************100%%**********************]  1 of 1 completed\n",
      "\n",
      "1 Failed download:\n",
      "['26146L202']: Exception('%ticker%: No timezone found, symbol may be delisted')\n"
     ]
    },
    {
     "name": "stdout",
     "output_type": "stream",
     "text": [
      "Empty DataFrame\n",
      "Columns: [Open, High, Low, Close, Adj Close, Volume]\n",
      "Index: []\n"
     ]
    },
    {
     "name": "stderr",
     "output_type": "stream",
     "text": [
      "[*********************100%%**********************]  1 of 1 completed\n",
      "\n",
      "1 Failed download:\n",
      "['45074Q207']: Exception('%ticker%: No timezone found, symbol may be delisted')\n",
      "c:\\Users\\ziggy\\anaconda3\\Lib\\site-packages\\yfinance\\utils.py:775: FutureWarning: The 'unit' keyword in TimedeltaIndex construction is deprecated and will be removed in a future version. Use pd.to_timedelta instead.\n",
      "  df.index += _pd.TimedeltaIndex(dst_error_hours, 'h')\n",
      "[*********************100%%**********************]  1 of 1 completed\n"
     ]
    },
    {
     "name": "stdout",
     "output_type": "stream",
     "text": [
      "Empty DataFrame\n",
      "Columns: [Open, High, Low, Close, Adj Close, Volume]\n",
      "Index: []\n",
      "             Open   High    Low  Close  Adj Close  Volume\n",
      "Date                                                     \n",
      "2017-08-21  14.26  14.30  14.19  14.24  11.674376   94700\n",
      "2017-08-22  14.27  14.27  14.22  14.27  11.698974   47800\n",
      "2017-08-23  14.27  14.28  14.20  14.23  11.666177   74300\n",
      "2017-08-24  14.24  14.27  14.18  14.19  11.633383   33600\n",
      "2017-08-25  14.18  14.23  14.18  14.21  11.649782   20700\n",
      "...           ...    ...    ...    ...        ...     ...\n",
      "2018-08-14  12.52  12.52  12.50  12.50  10.746012   18100\n",
      "2018-08-15  12.51  12.54  12.50  12.50  10.746012   25200\n",
      "2018-08-16  12.51  12.51  12.48  12.49  10.737415   68700\n",
      "2018-08-17  12.49  12.53  12.47  12.52  10.763204   87100\n",
      "2018-08-20  12.52  12.54  12.51  12.51  10.754605   50100\n",
      "\n",
      "[252 rows x 6 columns]\n"
     ]
    },
    {
     "name": "stderr",
     "output_type": "stream",
     "text": [
      "[*********************100%%**********************]  1 of 1 completed\n",
      "\n",
      "1 Failed download:\n",
      "['048206205']: Exception('%ticker%: No timezone found, symbol may be delisted')\n"
     ]
    },
    {
     "name": "stdout",
     "output_type": "stream",
     "text": [
      "Empty DataFrame\n",
      "Columns: [Open, High, Low, Close, Adj Close, Volume]\n",
      "Index: []\n"
     ]
    },
    {
     "name": "stderr",
     "output_type": "stream",
     "text": [
      "[*********************100%%**********************]  1 of 1 completed\n",
      "\n",
      "1 Failed download:\n",
      "['45579J203']: Exception('%ticker%: No timezone found, symbol may be delisted')\n"
     ]
    },
    {
     "name": "stdout",
     "output_type": "stream",
     "text": [
      "Empty DataFrame\n",
      "Columns: [Open, High, Low, Close, Adj Close, Volume]\n",
      "Index: []\n"
     ]
    },
    {
     "name": "stderr",
     "output_type": "stream",
     "text": [
      "[*********************100%%**********************]  1 of 1 completed\n",
      "\n",
      "1 Failed download:\n",
      "['70957E204']: Exception('%ticker%: No timezone found, symbol may be delisted')\n"
     ]
    },
    {
     "name": "stdout",
     "output_type": "stream",
     "text": [
      "Empty DataFrame\n",
      "Columns: [Open, High, Low, Close, Adj Close, Volume]\n",
      "Index: []\n"
     ]
    },
    {
     "name": "stderr",
     "output_type": "stream",
     "text": [
      "[*********************100%%**********************]  1 of 1 completed\n",
      "\n",
      "1 Failed download:\n",
      "['688397207']: Exception('%ticker%: No timezone found, symbol may be delisted')\n"
     ]
    },
    {
     "name": "stdout",
     "output_type": "stream",
     "text": [
      "Empty DataFrame\n",
      "Columns: [Open, High, Low, Close, Adj Close, Volume]\n",
      "Index: []\n"
     ]
    },
    {
     "name": "stderr",
     "output_type": "stream",
     "text": [
      "[*********************100%%**********************]  1 of 1 completed\n",
      "\n",
      "1 Failed download:\n",
      "['31421V206']: Exception('%ticker%: No timezone found, symbol may be delisted')\n",
      "c:\\Users\\ziggy\\anaconda3\\Lib\\site-packages\\yfinance\\utils.py:775: FutureWarning: The 'unit' keyword in TimedeltaIndex construction is deprecated and will be removed in a future version. Use pd.to_timedelta instead.\n",
      "  df.index += _pd.TimedeltaIndex(dst_error_hours, 'h')\n",
      "[*********************100%%**********************]  1 of 1 completed\n"
     ]
    },
    {
     "name": "stdout",
     "output_type": "stream",
     "text": [
      "Empty DataFrame\n",
      "Columns: [Open, High, Low, Close, Adj Close, Volume]\n",
      "Index: []\n",
      "             Open   High    Low  Close  Adj Close  Volume\n",
      "Date                                                     \n",
      "2017-06-30  14.05  14.17  14.03  14.13  11.487020   81400\n",
      "2017-07-03  14.17  14.24  14.14  14.24  11.576441   26700\n",
      "2017-07-05  14.16  14.24  14.15  14.24  11.576441   31800\n",
      "2017-07-06  14.19  14.20  14.09  14.16  11.511405   78200\n",
      "2017-07-07  14.16  14.20  14.16  14.16  11.511405   30300\n",
      "...           ...    ...    ...    ...        ...     ...\n",
      "2018-06-25  12.50  12.53  12.48  12.50  10.664030   57200\n",
      "2018-06-26  12.50  12.58  12.49  12.55  10.706690   67200\n",
      "2018-06-27  12.60  12.62  12.54  12.54  10.698157   48400\n",
      "2018-06-28  12.54  12.58  12.54  12.56  10.715219   15100\n",
      "2018-06-29  12.57  12.61  12.56  12.59  10.740809   62900\n",
      "\n",
      "[252 rows x 6 columns]\n"
     ]
    },
    {
     "name": "stderr",
     "output_type": "stream",
     "text": [
      "c:\\Users\\ziggy\\anaconda3\\Lib\\site-packages\\yfinance\\utils.py:775: FutureWarning: The 'unit' keyword in TimedeltaIndex construction is deprecated and will be removed in a future version. Use pd.to_timedelta instead.\n",
      "  df.index += _pd.TimedeltaIndex(dst_error_hours, 'h')\n",
      "[*********************100%%**********************]  1 of 1 completed\n"
     ]
    },
    {
     "name": "stdout",
     "output_type": "stream",
     "text": [
      "             Open   High    Low  Close  Adj Close  Volume\n",
      "Date                                                     \n",
      "2017-06-23  14.10  14.14  14.08  14.14  11.495145   15500\n",
      "2017-06-26  14.15  14.20  14.12  14.17  11.519534   32800\n",
      "2017-06-27  14.15  14.17  14.10  14.15  11.503278   36300\n",
      "2017-06-28  14.15  14.16  14.09  14.13  11.487020   64900\n",
      "2017-06-29  14.11  14.13  14.01  14.05  11.421983   23500\n",
      "...           ...    ...    ...    ...        ...     ...\n",
      "2018-06-18  12.48  12.51  12.48  12.49  10.655500   26600\n",
      "2018-06-19  12.50  12.51  12.47  12.50  10.664030   77300\n",
      "2018-06-20  12.49  12.53  12.48  12.49  10.655500  128200\n",
      "2018-06-21  12.50  12.52  12.49  12.49  10.655500  139700\n",
      "2018-06-22  12.52  12.55  12.48  12.53  10.689627   75800\n",
      "\n",
      "[252 rows x 6 columns]\n"
     ]
    },
    {
     "name": "stderr",
     "output_type": "stream",
     "text": [
      "[*********************100%%**********************]  1 of 1 completed\n",
      "\n",
      "1 Failed download:\n",
      "['11374E203']: Exception('%ticker%: No timezone found, symbol may be delisted')\n"
     ]
    },
    {
     "name": "stdout",
     "output_type": "stream",
     "text": [
      "Empty DataFrame\n",
      "Columns: [Open, High, Low, Close, Adj Close, Volume]\n",
      "Index: []\n"
     ]
    },
    {
     "name": "stderr",
     "output_type": "stream",
     "text": [
      "[*********************100%%**********************]  1 of 1 completed\n",
      "\n",
      "1 Failed download:\n",
      "['42588L204']: Exception('%ticker%: No timezone found, symbol may be delisted')\n"
     ]
    },
    {
     "name": "stdout",
     "output_type": "stream",
     "text": [
      "Empty DataFrame\n",
      "Columns: [Open, High, Low, Close, Adj Close, Volume]\n",
      "Index: []\n"
     ]
    },
    {
     "name": "stderr",
     "output_type": "stream",
     "text": [
      "[*********************100%%**********************]  1 of 1 completed\n",
      "\n",
      "1 Failed download:\n",
      "['48242A203']: Exception('%ticker%: No timezone found, symbol may be delisted')\n"
     ]
    },
    {
     "name": "stdout",
     "output_type": "stream",
     "text": [
      "Empty DataFrame\n",
      "Columns: [Open, High, Low, Close, Adj Close, Volume]\n",
      "Index: []\n"
     ]
    },
    {
     "name": "stderr",
     "output_type": "stream",
     "text": [
      "[*********************100%%**********************]  1 of 1 completed\n",
      "\n",
      "1 Failed download:\n",
      "['60765P202']: Exception('%ticker%: No timezone found, symbol may be delisted')\n",
      "c:\\Users\\ziggy\\anaconda3\\Lib\\site-packages\\yfinance\\utils.py:775: FutureWarning: The 'unit' keyword in TimedeltaIndex construction is deprecated and will be removed in a future version. Use pd.to_timedelta instead.\n",
      "  df.index += _pd.TimedeltaIndex(dst_error_hours, 'h')\n",
      "[*********************100%%**********************]  1 of 1 completed\n"
     ]
    },
    {
     "name": "stdout",
     "output_type": "stream",
     "text": [
      "Empty DataFrame\n",
      "Columns: [Open, High, Low, Close, Adj Close, Volume]\n",
      "Index: []\n",
      "             Open   High    Low  Close  Adj Close  Volume\n",
      "Date                                                     \n",
      "2017-05-12  13.73  13.83  13.73  13.83  11.194705   71300\n",
      "2017-05-15  13.85  13.87  13.81  13.86  11.218988   44600\n",
      "2017-05-16  13.86  13.87  13.83  13.84  11.202799   24100\n",
      "2017-05-17  13.86  13.88  13.85  13.87  11.227080   50400\n",
      "2017-05-18  13.87  13.90  13.74  13.78  11.154234   60400\n",
      "...           ...    ...    ...    ...        ...     ...\n",
      "2018-05-07  12.56  12.62  12.54  12.60  10.667468   59100\n",
      "2018-05-08  12.57  12.57  12.54  12.56  10.633607   48300\n",
      "2018-05-09  12.50  12.56  12.50  12.53  10.608207   58700\n",
      "2018-05-10  12.53  12.56  12.51  12.53  10.608207   62500\n",
      "2018-05-11  12.56  12.62  12.54  12.59  10.659006   79400\n",
      "\n",
      "[252 rows x 6 columns]\n"
     ]
    },
    {
     "name": "stderr",
     "output_type": "stream",
     "text": [
      "[*********************100%%**********************]  1 of 1 completed\n",
      "\n",
      "1 Failed download:\n",
      "['872656202']: Exception('%ticker%: No timezone found, symbol may be delisted')\n"
     ]
    },
    {
     "name": "stdout",
     "output_type": "stream",
     "text": [
      "Empty DataFrame\n",
      "Columns: [Open, High, Low, Close, Adj Close, Volume]\n",
      "Index: []\n"
     ]
    },
    {
     "name": "stderr",
     "output_type": "stream",
     "text": [
      "[*********************100%%**********************]  1 of 1 completed\n",
      "\n",
      "1 Failed download:\n",
      "['92211L204']: Exception('%ticker%: No timezone found, symbol may be delisted')\n"
     ]
    },
    {
     "name": "stdout",
     "output_type": "stream",
     "text": [
      "Empty DataFrame\n",
      "Columns: [Open, High, Low, Close, Adj Close, Volume]\n",
      "Index: []\n"
     ]
    },
    {
     "name": "stderr",
     "output_type": "stream",
     "text": [
      "[*********************100%%**********************]  1 of 1 completed\n",
      "\n",
      "1 Failed download:\n",
      "['34985B202']: Exception('%ticker%: No timezone found, symbol may be delisted')\n"
     ]
    },
    {
     "name": "stdout",
     "output_type": "stream",
     "text": [
      "Empty DataFrame\n",
      "Columns: [Open, High, Low, Close, Adj Close, Volume]\n",
      "Index: []\n"
     ]
    },
    {
     "name": "stderr",
     "output_type": "stream",
     "text": [
      "[*********************100%%**********************]  1 of 1 completed\n",
      "\n",
      "1 Failed download:\n",
      "['48661U201']: Exception('%ticker%: No timezone found, symbol may be delisted')\n"
     ]
    },
    {
     "name": "stdout",
     "output_type": "stream",
     "text": [
      "Empty DataFrame\n",
      "Columns: [Open, High, Low, Close, Adj Close, Volume]\n",
      "Index: []\n"
     ]
    },
    {
     "name": "stderr",
     "output_type": "stream",
     "text": [
      "[*********************100%%**********************]  1 of 1 completed\n",
      "\n",
      "1 Failed download:\n",
      "['82812A202']: Exception('%ticker%: No timezone found, symbol may be delisted')\n"
     ]
    },
    {
     "name": "stdout",
     "output_type": "stream",
     "text": [
      "Empty DataFrame\n",
      "Columns: [Open, High, Low, Close, Adj Close, Volume]\n",
      "Index: []\n"
     ]
    },
    {
     "name": "stderr",
     "output_type": "stream",
     "text": [
      "[*********************100%%**********************]  1 of 1 completed\n",
      "\n",
      "1 Failed download:\n",
      "['57682V205']: Exception('%ticker%: No timezone found, symbol may be delisted')\n"
     ]
    },
    {
     "name": "stdout",
     "output_type": "stream",
     "text": [
      "Empty DataFrame\n",
      "Columns: [Open, High, Low, Close, Adj Close, Volume]\n",
      "Index: []\n"
     ]
    },
    {
     "name": "stderr",
     "output_type": "stream",
     "text": [
      "[*********************100%%**********************]  1 of 1 completed\n",
      "\n",
      "1 Failed download:\n",
      "['31810G208']: Exception('%ticker%: No timezone found, symbol may be delisted')\n"
     ]
    },
    {
     "name": "stdout",
     "output_type": "stream",
     "text": [
      "Empty DataFrame\n",
      "Columns: [Open, High, Low, Close, Adj Close, Volume]\n",
      "Index: []\n"
     ]
    },
    {
     "name": "stderr",
     "output_type": "stream",
     "text": [
      "[*********************100%%**********************]  1 of 1 completed\n",
      "\n",
      "1 Failed download:\n",
      "['382867208']: Exception('%ticker%: No timezone found, symbol may be delisted')\n",
      "c:\\Users\\ziggy\\anaconda3\\Lib\\site-packages\\yfinance\\utils.py:775: FutureWarning: The 'unit' keyword in TimedeltaIndex construction is deprecated and will be removed in a future version. Use pd.to_timedelta instead.\n",
      "  df.index += _pd.TimedeltaIndex(dst_error_hours, 'h')\n",
      "[*********************100%%**********************]  1 of 1 completed\n",
      "c:\\Users\\ziggy\\anaconda3\\Lib\\site-packages\\yfinance\\utils.py:775: FutureWarning: The 'unit' keyword in TimedeltaIndex construction is deprecated and will be removed in a future version. Use pd.to_timedelta instead.\n",
      "  df.index += _pd.TimedeltaIndex(dst_error_hours, 'h')\n",
      "[*********************100%%**********************]  1 of 1 completed"
     ]
    },
    {
     "name": "stdout",
     "output_type": "stream",
     "text": [
      "Empty DataFrame\n",
      "Columns: [Open, High, Low, Close, Adj Close, Volume]\n",
      "Index: []\n",
      "             Open   High    Low  Close  Adj Close  Volume\n",
      "Date                                                     \n",
      "2016-11-23  13.36  13.41  13.29  13.37  10.538027   61900\n",
      "2016-11-25  13.26  13.35  13.26  13.30  10.482858   66000\n",
      "2016-11-28  13.39  13.53  13.35  13.53  10.664136  175100\n",
      "2016-11-29  13.53  13.61  13.48  13.56  10.687785  167400\n",
      "2016-11-30  13.50  13.54  13.38  13.46  10.608965   71400\n",
      "...           ...    ...    ...    ...        ...     ...\n",
      "2017-11-16  14.05  14.11  14.03  14.10  11.702444   34400\n",
      "2017-11-17  14.09  14.11  14.04  14.09  11.694145   18600\n",
      "2017-11-20  14.10  14.10  14.00  14.02  11.636044   35000\n",
      "2017-11-21  13.98  14.04  13.98  14.04  11.652645   48500\n",
      "2017-11-22  13.99  14.00  13.95  13.95  11.582901   40000\n",
      "\n",
      "[252 rows x 6 columns]\n"
     ]
    },
    {
     "name": "stderr",
     "output_type": "stream",
     "text": [
      "\n"
     ]
    },
    {
     "name": "stdout",
     "output_type": "stream",
     "text": [
      "             Open   High    Low  Close  Adj Close  Volume\n",
      "Date                                                     \n",
      "2016-11-01  14.20  14.21  14.13  14.20  11.143211   54800\n",
      "2016-11-02  14.18  14.25  14.15  14.15  11.103976   46700\n",
      "2016-11-03  14.13  14.18  14.12  14.12  11.080433   86400\n",
      "2016-11-04  14.11  14.16  14.04  14.07  11.041189   38100\n",
      "2016-11-07  14.09  14.10  14.04  14.06  11.033349   60100\n",
      "...           ...    ...    ...    ...        ...     ...\n",
      "2017-10-25  14.02  14.04  13.96  13.97  11.546546   51800\n",
      "2017-10-26  13.95  13.96  13.91  13.91  11.496958   44800\n",
      "2017-10-27  13.92  13.93  13.86  13.89  11.480427   96200\n",
      "2017-10-30  13.90  13.95  13.89  13.95  11.530019   25600\n",
      "2017-10-31  13.92  13.96  13.86  13.86  11.455628   64700\n",
      "\n",
      "[252 rows x 6 columns]\n"
     ]
    },
    {
     "name": "stderr",
     "output_type": "stream",
     "text": [
      "[*********************100%%**********************]  1 of 1 completed\n",
      "\n",
      "1 Failed download:\n",
      "['G07247110']: Exception('%ticker%: No timezone found, symbol may be delisted')\n"
     ]
    },
    {
     "name": "stdout",
     "output_type": "stream",
     "text": [
      "Empty DataFrame\n",
      "Columns: [Open, High, Low, Close, Adj Close, Volume]\n",
      "Index: []\n"
     ]
    },
    {
     "name": "stderr",
     "output_type": "stream",
     "text": [
      "[*********************100%%**********************]  1 of 1 completed\n",
      "\n",
      "1 Failed download:\n",
      "['78516C205']: Exception('%ticker%: No timezone found, symbol may be delisted')\n"
     ]
    },
    {
     "name": "stdout",
     "output_type": "stream",
     "text": [
      "Empty DataFrame\n",
      "Columns: [Open, High, Low, Close, Adj Close, Volume]\n",
      "Index: []\n"
     ]
    },
    {
     "name": "stderr",
     "output_type": "stream",
     "text": [
      "[*********************100%%**********************]  1 of 1 completed\n",
      "\n",
      "1 Failed download:\n",
      "['74275G206']: Exception('%ticker%: No timezone found, symbol may be delisted')\n",
      "c:\\Users\\ziggy\\anaconda3\\Lib\\site-packages\\yfinance\\utils.py:775: FutureWarning: The 'unit' keyword in TimedeltaIndex construction is deprecated and will be removed in a future version. Use pd.to_timedelta instead.\n",
      "  df.index += _pd.TimedeltaIndex(dst_error_hours, 'h')\n",
      "[*********************100%%**********************]  1 of 1 completed\n"
     ]
    },
    {
     "name": "stdout",
     "output_type": "stream",
     "text": [
      "Empty DataFrame\n",
      "Columns: [Open, High, Low, Close, Adj Close, Volume]\n",
      "Index: []\n",
      "             Open   High    Low  Close  Adj Close  Volume\n",
      "Date                                                     \n",
      "2016-08-24  15.54  15.58  15.40  15.46  12.033934   58000\n",
      "2016-08-25  15.41  15.45  15.33  15.34  11.940523   40700\n",
      "2016-08-26  15.35  15.40  15.16  15.16  11.800412   83100\n",
      "2016-08-29  15.23  15.28  15.15  15.23  11.854903   56800\n",
      "2016-08-30  15.26  15.27  15.17  15.24  11.862684   49600\n",
      "...           ...    ...    ...    ...        ...     ...\n",
      "2017-08-17  14.15  14.20  14.15  14.16  11.608788   22700\n",
      "2017-08-18  14.20  14.24  14.16  14.24  11.674376   30300\n",
      "2017-08-21  14.26  14.30  14.19  14.24  11.674376   94700\n",
      "2017-08-22  14.27  14.27  14.22  14.27  11.698974   47800\n",
      "2017-08-23  14.27  14.28  14.20  14.23  11.666177   74300\n",
      "\n",
      "[252 rows x 6 columns]\n"
     ]
    },
    {
     "name": "stderr",
     "output_type": "stream",
     "text": [
      "[*********************100%%**********************]  1 of 1 completed\n",
      "\n",
      "1 Failed download:\n",
      "['212894208']: Exception('%ticker%: No timezone found, symbol may be delisted')\n"
     ]
    },
    {
     "name": "stdout",
     "output_type": "stream",
     "text": [
      "Empty DataFrame\n",
      "Columns: [Open, High, Low, Close, Adj Close, Volume]\n",
      "Index: []\n"
     ]
    },
    {
     "name": "stderr",
     "output_type": "stream",
     "text": [
      "[*********************100%%**********************]  1 of 1 completed\n",
      "\n",
      "1 Failed download:\n",
      "['55378T203']: Exception('%ticker%: No timezone found, symbol may be delisted')\n"
     ]
    },
    {
     "name": "stdout",
     "output_type": "stream",
     "text": [
      "Empty DataFrame\n",
      "Columns: [Open, High, Low, Close, Adj Close, Volume]\n",
      "Index: []\n"
     ]
    },
    {
     "name": "stderr",
     "output_type": "stream",
     "text": [
      "[*********************100%%**********************]  1 of 1 completed\n",
      "\n",
      "1 Failed download:\n",
      "['51476W206']: Exception('%ticker%: No timezone found, symbol may be delisted')\n",
      "c:\\Users\\ziggy\\anaconda3\\Lib\\site-packages\\yfinance\\utils.py:775: FutureWarning: The 'unit' keyword in TimedeltaIndex construction is deprecated and will be removed in a future version. Use pd.to_timedelta instead.\n",
      "  df.index += _pd.TimedeltaIndex(dst_error_hours, 'h')\n",
      "[*********************100%%**********************]  1 of 1 completed\n"
     ]
    },
    {
     "name": "stdout",
     "output_type": "stream",
     "text": [
      "Empty DataFrame\n",
      "Columns: [Open, High, Low, Close, Adj Close, Volume]\n",
      "Index: []\n",
      "             Open   High    Low  Close  Adj Close  Volume\n",
      "Date                                                     \n",
      "2016-05-25  15.01  15.08  15.00  15.07  11.583668   30500\n",
      "2016-05-26  15.16  15.20  15.05  15.20  11.683594   35900\n",
      "2016-05-27  15.23  15.23  15.05  15.09  11.599041   47800\n",
      "2016-05-31  14.98  15.02  14.89  15.02  11.545234   84400\n",
      "2016-06-01  15.07  15.24  15.01  15.21  11.691278   62800\n",
      "...           ...    ...    ...    ...        ...     ...\n",
      "2017-05-18  13.87  13.90  13.74  13.78  11.154234   60400\n",
      "2017-05-19  13.81  13.81  13.76  13.81  11.178517   44400\n",
      "2017-05-22  13.83  13.87  13.82  13.85  11.210897   78500\n",
      "2017-05-23  13.89  13.89  13.82  13.88  11.235179   45300\n",
      "2017-05-24  13.91  13.92  13.87  13.89  11.243274   82700\n",
      "\n",
      "[252 rows x 6 columns]\n"
     ]
    },
    {
     "name": "stderr",
     "output_type": "stream",
     "text": [
      "[*********************100%%**********************]  1 of 1 completed\n",
      "\n",
      "1 Failed download:\n",
      "['777385204']: Exception('%ticker%: No timezone found, symbol may be delisted')\n"
     ]
    },
    {
     "name": "stdout",
     "output_type": "stream",
     "text": [
      "Empty DataFrame\n",
      "Columns: [Open, High, Low, Close, Adj Close, Volume]\n",
      "Index: []\n"
     ]
    },
    {
     "name": "stderr",
     "output_type": "stream",
     "text": [
      "[*********************100%%**********************]  1 of 1 completed\n",
      "\n",
      "1 Failed download:\n",
      "['47632B201']: Exception('%ticker%: No timezone found, symbol may be delisted')\n"
     ]
    },
    {
     "name": "stdout",
     "output_type": "stream",
     "text": [
      "Empty DataFrame\n",
      "Columns: [Open, High, Low, Close, Adj Close, Volume]\n",
      "Index: []\n"
     ]
    },
    {
     "name": "stderr",
     "output_type": "stream",
     "text": [
      "[*********************100%%**********************]  1 of 1 completed\n",
      "\n",
      "1 Failed download:\n",
      "['82811P200']: Exception('%ticker%: No timezone found, symbol may be delisted')\n",
      "[*********************100%%**********************]  1 of 1 completed\n",
      "\n",
      "1 Failed download:\n",
      "['NAN']: ValueError('Naive time - no tzinfo set')\n"
     ]
    },
    {
     "name": "stdout",
     "output_type": "stream",
     "text": [
      "Empty DataFrame\n",
      "Columns: [Open, High, Low, Close, Adj Close, Volume]\n",
      "Index: []\n",
      "Empty DataFrame\n",
      "Columns: [Open, High, Low, Close, Adj Close, Volume]\n",
      "Index: []\n"
     ]
    },
    {
     "data": {
      "text/plain": [
       "[Empty DataFrame\n",
       " Columns: [Open, High, Low, Close, Adj Close, Volume]\n",
       " Index: [],\n",
       " Empty DataFrame\n",
       " Columns: [Open, High, Low, Close, Adj Close, Volume]\n",
       " Index: [],\n",
       " Empty DataFrame\n",
       " Columns: [Open, High, Low, Close, Adj Close, Volume]\n",
       " Index: [],\n",
       " Empty DataFrame\n",
       " Columns: [Open, High, Low, Close, Adj Close, Volume]\n",
       " Index: [],\n",
       " Empty DataFrame\n",
       " Columns: [Open, High, Low, Close, Adj Close, Volume]\n",
       " Index: [],\n",
       " Empty DataFrame\n",
       " Columns: [Open, High, Low, Close, Adj Close, Volume]\n",
       " Index: [],\n",
       " Empty DataFrame\n",
       " Columns: [Open, High, Low, Close, Adj Close, Volume]\n",
       " Index: [],\n",
       " Empty DataFrame\n",
       " Columns: [Open, High, Low, Close, Adj Close, Volume]\n",
       " Index: [],\n",
       " Empty DataFrame\n",
       " Columns: [Open, High, Low, Close, Adj Close, Volume]\n",
       " Index: [],\n",
       " Empty DataFrame\n",
       " Columns: [Open, High, Low, Close, Adj Close, Volume]\n",
       " Index: [],\n",
       " Empty DataFrame\n",
       " Columns: [Open, High, Low, Close, Adj Close, Volume]\n",
       " Index: [],\n",
       " Empty DataFrame\n",
       " Columns: [Open, High, Low, Close, Adj Close, Volume]\n",
       " Index: [],\n",
       " Empty DataFrame\n",
       " Columns: [Open, High, Low, Close, Adj Close, Volume]\n",
       " Index: [],\n",
       " Empty DataFrame\n",
       " Columns: [Open, High, Low, Close, Adj Close, Volume]\n",
       " Index: [],\n",
       " Empty DataFrame\n",
       " Columns: [Open, High, Low, Close, Adj Close, Volume]\n",
       " Index: [],\n",
       " Empty DataFrame\n",
       " Columns: [Open, High, Low, Close, Adj Close, Volume]\n",
       " Index: [],\n",
       " Empty DataFrame\n",
       " Columns: [Open, High, Low, Close, Adj Close, Volume]\n",
       " Index: [],\n",
       " Empty DataFrame\n",
       " Columns: [Open, High, Low, Close, Adj Close, Volume]\n",
       " Index: [],\n",
       " Empty DataFrame\n",
       " Columns: [Open, High, Low, Close, Adj Close, Volume]\n",
       " Index: [],\n",
       "              Open   High    Low  Close  Adj Close  Volume\n",
       " Date                                                     \n",
       " 2021-12-13  14.71  14.75  14.47  14.55  12.949329   43000\n",
       " 2021-12-14  14.50  14.70  14.39  14.39  12.850208   33600\n",
       " 2021-12-15  14.49  14.57  14.42  14.57  13.010946   39200\n",
       " 2021-12-16  14.62  14.62  14.44  14.54  12.984156   14800\n",
       " 2021-12-17  14.54  14.61  14.54  14.61  13.046664   24600\n",
       " ...           ...    ...    ...    ...        ...     ...\n",
       " 2022-12-06  10.86  10.92  10.79  10.83  10.115234  216700\n",
       " 2022-12-07  10.84  10.92  10.84  10.86  10.143254  106300\n",
       " 2022-12-08  10.92  10.92  10.78  10.87  10.152596  146500\n",
       " 2022-12-09  10.87  10.88  10.77  10.81  10.096556   82700\n",
       " 2022-12-12  10.85  10.99  10.80  10.87  10.152596  107900\n",
       " \n",
       " [252 rows x 6 columns],\n",
       " Empty DataFrame\n",
       " Columns: [Open, High, Low, Close, Adj Close, Volume]\n",
       " Index: [],\n",
       " Empty DataFrame\n",
       " Columns: [Open, High, Low, Close, Adj Close, Volume]\n",
       " Index: [],\n",
       " Empty DataFrame\n",
       " Columns: [Open, High, Low, Close, Adj Close, Volume]\n",
       " Index: [],\n",
       " Empty DataFrame\n",
       " Columns: [Open, High, Low, Close, Adj Close, Volume]\n",
       " Index: [],\n",
       " Empty DataFrame\n",
       " Columns: [Open, High, Low, Close, Adj Close, Volume]\n",
       " Index: [],\n",
       " Empty DataFrame\n",
       " Columns: [Open, High, Low, Close, Adj Close, Volume]\n",
       " Index: [],\n",
       " Empty DataFrame\n",
       " Columns: [Open, High, Low, Close, Adj Close, Volume]\n",
       " Index: [],\n",
       " Empty DataFrame\n",
       " Columns: [Open, High, Low, Close, Adj Close, Volume]\n",
       " Index: [],\n",
       " Empty DataFrame\n",
       " Columns: [Open, High, Low, Close, Adj Close, Volume]\n",
       " Index: [],\n",
       " Empty DataFrame\n",
       " Columns: [Open, High, Low, Close, Adj Close, Volume]\n",
       " Index: [],\n",
       " Empty DataFrame\n",
       " Columns: [Open, High, Low, Close, Adj Close, Volume]\n",
       " Index: [],\n",
       " Empty DataFrame\n",
       " Columns: [Open, High, Low, Close, Adj Close, Volume]\n",
       " Index: [],\n",
       " Empty DataFrame\n",
       " Columns: [Open, High, Low, Close, Adj Close, Volume]\n",
       " Index: [],\n",
       " Empty DataFrame\n",
       " Columns: [Open, High, Low, Close, Adj Close, Volume]\n",
       " Index: [],\n",
       " Empty DataFrame\n",
       " Columns: [Open, High, Low, Close, Adj Close, Volume]\n",
       " Index: [],\n",
       " Empty DataFrame\n",
       " Columns: [Open, High, Low, Close, Adj Close, Volume]\n",
       " Index: [],\n",
       " Empty DataFrame\n",
       " Columns: [Open, High, Low, Close, Adj Close, Volume]\n",
       " Index: [],\n",
       " Empty DataFrame\n",
       " Columns: [Open, High, Low, Close, Adj Close, Volume]\n",
       " Index: [],\n",
       " Empty DataFrame\n",
       " Columns: [Open, High, Low, Close, Adj Close, Volume]\n",
       " Index: [],\n",
       " Empty DataFrame\n",
       " Columns: [Open, High, Low, Close, Adj Close, Volume]\n",
       " Index: [],\n",
       " Empty DataFrame\n",
       " Columns: [Open, High, Low, Close, Adj Close, Volume]\n",
       " Index: [],\n",
       " Empty DataFrame\n",
       " Columns: [Open, High, Low, Close, Adj Close, Volume]\n",
       " Index: [],\n",
       " Empty DataFrame\n",
       " Columns: [Open, High, Low, Close, Adj Close, Volume]\n",
       " Index: [],\n",
       " Empty DataFrame\n",
       " Columns: [Open, High, Low, Close, Adj Close, Volume]\n",
       " Index: [],\n",
       " Empty DataFrame\n",
       " Columns: [Open, High, Low, Close, Adj Close, Volume]\n",
       " Index: [],\n",
       " Empty DataFrame\n",
       " Columns: [Open, High, Low, Close, Adj Close, Volume]\n",
       " Index: [],\n",
       " Empty DataFrame\n",
       " Columns: [Open, High, Low, Close, Adj Close, Volume]\n",
       " Index: [],\n",
       " Empty DataFrame\n",
       " Columns: [Open, High, Low, Close, Adj Close, Volume]\n",
       " Index: [],\n",
       " Empty DataFrame\n",
       " Columns: [Open, High, Low, Close, Adj Close, Volume]\n",
       " Index: [],\n",
       " Empty DataFrame\n",
       " Columns: [Open, High, Low, Close, Adj Close, Volume]\n",
       " Index: [],\n",
       " Empty DataFrame\n",
       " Columns: [Open, High, Low, Close, Adj Close, Volume]\n",
       " Index: [],\n",
       " Empty DataFrame\n",
       " Columns: [Open, High, Low, Close, Adj Close, Volume]\n",
       " Index: [],\n",
       " Empty DataFrame\n",
       " Columns: [Open, High, Low, Close, Adj Close, Volume]\n",
       " Index: [],\n",
       " Empty DataFrame\n",
       " Columns: [Open, High, Low, Close, Adj Close, Volume]\n",
       " Index: [],\n",
       " Empty DataFrame\n",
       " Columns: [Open, High, Low, Close, Adj Close, Volume]\n",
       " Index: [],\n",
       " Empty DataFrame\n",
       " Columns: [Open, High, Low, Close, Adj Close, Volume]\n",
       " Index: [],\n",
       " Empty DataFrame\n",
       " Columns: [Open, High, Low, Close, Adj Close, Volume]\n",
       " Index: [],\n",
       " Empty DataFrame\n",
       " Columns: [Open, High, Low, Close, Adj Close, Volume]\n",
       " Index: [],\n",
       " Empty DataFrame\n",
       " Columns: [Open, High, Low, Close, Adj Close, Volume]\n",
       " Index: [],\n",
       " Empty DataFrame\n",
       " Columns: [Open, High, Low, Close, Adj Close, Volume]\n",
       " Index: [],\n",
       " Empty DataFrame\n",
       " Columns: [Open, High, Low, Close, Adj Close, Volume]\n",
       " Index: [],\n",
       " Empty DataFrame\n",
       " Columns: [Open, High, Low, Close, Adj Close, Volume]\n",
       " Index: [],\n",
       " Empty DataFrame\n",
       " Columns: [Open, High, Low, Close, Adj Close, Volume]\n",
       " Index: [],\n",
       " Empty DataFrame\n",
       " Columns: [Open, High, Low, Close, Adj Close, Volume]\n",
       " Index: [],\n",
       " Empty DataFrame\n",
       " Columns: [Open, High, Low, Close, Adj Close, Volume]\n",
       " Index: [],\n",
       " Empty DataFrame\n",
       " Columns: [Open, High, Low, Close, Adj Close, Volume]\n",
       " Index: [],\n",
       " Empty DataFrame\n",
       " Columns: [Open, High, Low, Close, Adj Close, Volume]\n",
       " Index: [],\n",
       " Empty DataFrame\n",
       " Columns: [Open, High, Low, Close, Adj Close, Volume]\n",
       " Index: [],\n",
       " Empty DataFrame\n",
       " Columns: [Open, High, Low, Close, Adj Close, Volume]\n",
       " Index: [],\n",
       " Empty DataFrame\n",
       " Columns: [Open, High, Low, Close, Adj Close, Volume]\n",
       " Index: [],\n",
       " Empty DataFrame\n",
       " Columns: [Open, High, Low, Close, Adj Close, Volume]\n",
       " Index: [],\n",
       " Empty DataFrame\n",
       " Columns: [Open, High, Low, Close, Adj Close, Volume]\n",
       " Index: [],\n",
       " Empty DataFrame\n",
       " Columns: [Open, High, Low, Close, Adj Close, Volume]\n",
       " Index: [],\n",
       " Empty DataFrame\n",
       " Columns: [Open, High, Low, Close, Adj Close, Volume]\n",
       " Index: [],\n",
       " Empty DataFrame\n",
       " Columns: [Open, High, Low, Close, Adj Close, Volume]\n",
       " Index: [],\n",
       " Empty DataFrame\n",
       " Columns: [Open, High, Low, Close, Adj Close, Volume]\n",
       " Index: [],\n",
       " Empty DataFrame\n",
       " Columns: [Open, High, Low, Close, Adj Close, Volume]\n",
       " Index: [],\n",
       " Empty DataFrame\n",
       " Columns: [Open, High, Low, Close, Adj Close, Volume]\n",
       " Index: [],\n",
       " Empty DataFrame\n",
       " Columns: [Open, High, Low, Close, Adj Close, Volume]\n",
       " Index: [],\n",
       " Empty DataFrame\n",
       " Columns: [Open, High, Low, Close, Adj Close, Volume]\n",
       " Index: [],\n",
       " Empty DataFrame\n",
       " Columns: [Open, High, Low, Close, Adj Close, Volume]\n",
       " Index: [],\n",
       " Empty DataFrame\n",
       " Columns: [Open, High, Low, Close, Adj Close, Volume]\n",
       " Index: [],\n",
       " Empty DataFrame\n",
       " Columns: [Open, High, Low, Close, Adj Close, Volume]\n",
       " Index: [],\n",
       " Empty DataFrame\n",
       " Columns: [Open, High, Low, Close, Adj Close, Volume]\n",
       " Index: [],\n",
       " Empty DataFrame\n",
       " Columns: [Open, High, Low, Close, Adj Close, Volume]\n",
       " Index: [],\n",
       " Empty DataFrame\n",
       " Columns: [Open, High, Low, Close, Adj Close, Volume]\n",
       " Index: [],\n",
       " Empty DataFrame\n",
       " Columns: [Open, High, Low, Close, Adj Close, Volume]\n",
       " Index: [],\n",
       " Empty DataFrame\n",
       " Columns: [Open, High, Low, Close, Adj Close, Volume]\n",
       " Index: [],\n",
       " Empty DataFrame\n",
       " Columns: [Open, High, Low, Close, Adj Close, Volume]\n",
       " Index: [],\n",
       " Empty DataFrame\n",
       " Columns: [Open, High, Low, Close, Adj Close, Volume]\n",
       " Index: [],\n",
       " Empty DataFrame\n",
       " Columns: [Open, High, Low, Close, Adj Close, Volume]\n",
       " Index: [],\n",
       " Empty DataFrame\n",
       " Columns: [Open, High, Low, Close, Adj Close, Volume]\n",
       " Index: [],\n",
       " Empty DataFrame\n",
       " Columns: [Open, High, Low, Close, Adj Close, Volume]\n",
       " Index: [],\n",
       " Empty DataFrame\n",
       " Columns: [Open, High, Low, Close, Adj Close, Volume]\n",
       " Index: [],\n",
       " Empty DataFrame\n",
       " Columns: [Open, High, Low, Close, Adj Close, Volume]\n",
       " Index: [],\n",
       " Empty DataFrame\n",
       " Columns: [Open, High, Low, Close, Adj Close, Volume]\n",
       " Index: [],\n",
       " Empty DataFrame\n",
       " Columns: [Open, High, Low, Close, Adj Close, Volume]\n",
       " Index: [],\n",
       " Empty DataFrame\n",
       " Columns: [Open, High, Low, Close, Adj Close, Volume]\n",
       " Index: [],\n",
       " Empty DataFrame\n",
       " Columns: [Open, High, Low, Close, Adj Close, Volume]\n",
       " Index: [],\n",
       " Empty DataFrame\n",
       " Columns: [Open, High, Low, Close, Adj Close, Volume]\n",
       " Index: [],\n",
       " Empty DataFrame\n",
       " Columns: [Open, High, Low, Close, Adj Close, Volume]\n",
       " Index: [],\n",
       " Empty DataFrame\n",
       " Columns: [Open, High, Low, Close, Adj Close, Volume]\n",
       " Index: [],\n",
       " Empty DataFrame\n",
       " Columns: [Open, High, Low, Close, Adj Close, Volume]\n",
       " Index: [],\n",
       " Empty DataFrame\n",
       " Columns: [Open, High, Low, Close, Adj Close, Volume]\n",
       " Index: [],\n",
       " Empty DataFrame\n",
       " Columns: [Open, High, Low, Close, Adj Close, Volume]\n",
       " Index: [],\n",
       " Empty DataFrame\n",
       " Columns: [Open, High, Low, Close, Adj Close, Volume]\n",
       " Index: [],\n",
       " Empty DataFrame\n",
       " Columns: [Open, High, Low, Close, Adj Close, Volume]\n",
       " Index: [],\n",
       " Empty DataFrame\n",
       " Columns: [Open, High, Low, Close, Adj Close, Volume]\n",
       " Index: [],\n",
       " Empty DataFrame\n",
       " Columns: [Open, High, Low, Close, Adj Close, Volume]\n",
       " Index: [],\n",
       " Empty DataFrame\n",
       " Columns: [Open, High, Low, Close, Adj Close, Volume]\n",
       " Index: [],\n",
       " Empty DataFrame\n",
       " Columns: [Open, High, Low, Close, Adj Close, Volume]\n",
       " Index: [],\n",
       " Empty DataFrame\n",
       " Columns: [Open, High, Low, Close, Adj Close, Volume]\n",
       " Index: [],\n",
       " Empty DataFrame\n",
       " Columns: [Open, High, Low, Close, Adj Close, Volume]\n",
       " Index: [],\n",
       " Empty DataFrame\n",
       " Columns: [Open, High, Low, Close, Adj Close, Volume]\n",
       " Index: [],\n",
       " Empty DataFrame\n",
       " Columns: [Open, High, Low, Close, Adj Close, Volume]\n",
       " Index: [],\n",
       " Empty DataFrame\n",
       " Columns: [Open, High, Low, Close, Adj Close, Volume]\n",
       " Index: [],\n",
       " Empty DataFrame\n",
       " Columns: [Open, High, Low, Close, Adj Close, Volume]\n",
       " Index: [],\n",
       " Empty DataFrame\n",
       " Columns: [Open, High, Low, Close, Adj Close, Volume]\n",
       " Index: [],\n",
       " Empty DataFrame\n",
       " Columns: [Open, High, Low, Close, Adj Close, Volume]\n",
       " Index: [],\n",
       " Empty DataFrame\n",
       " Columns: [Open, High, Low, Close, Adj Close, Volume]\n",
       " Index: [],\n",
       " Empty DataFrame\n",
       " Columns: [Open, High, Low, Close, Adj Close, Volume]\n",
       " Index: [],\n",
       " Empty DataFrame\n",
       " Columns: [Open, High, Low, Close, Adj Close, Volume]\n",
       " Index: [],\n",
       " Empty DataFrame\n",
       " Columns: [Open, High, Low, Close, Adj Close, Volume]\n",
       " Index: [],\n",
       " Empty DataFrame\n",
       " Columns: [Open, High, Low, Close, Adj Close, Volume]\n",
       " Index: [],\n",
       " Empty DataFrame\n",
       " Columns: [Open, High, Low, Close, Adj Close, Volume]\n",
       " Index: [],\n",
       " Empty DataFrame\n",
       " Columns: [Open, High, Low, Close, Adj Close, Volume]\n",
       " Index: [],\n",
       " Empty DataFrame\n",
       " Columns: [Open, High, Low, Close, Adj Close, Volume]\n",
       " Index: [],\n",
       " Empty DataFrame\n",
       " Columns: [Open, High, Low, Close, Adj Close, Volume]\n",
       " Index: [],\n",
       " Empty DataFrame\n",
       " Columns: [Open, High, Low, Close, Adj Close, Volume]\n",
       " Index: [],\n",
       " Empty DataFrame\n",
       " Columns: [Open, High, Low, Close, Adj Close, Volume]\n",
       " Index: [],\n",
       " Empty DataFrame\n",
       " Columns: [Open, High, Low, Close, Adj Close, Volume]\n",
       " Index: [],\n",
       " Empty DataFrame\n",
       " Columns: [Open, High, Low, Close, Adj Close, Volume]\n",
       " Index: [],\n",
       " Empty DataFrame\n",
       " Columns: [Open, High, Low, Close, Adj Close, Volume]\n",
       " Index: [],\n",
       " Empty DataFrame\n",
       " Columns: [Open, High, Low, Close, Adj Close, Volume]\n",
       " Index: [],\n",
       " Empty DataFrame\n",
       " Columns: [Open, High, Low, Close, Adj Close, Volume]\n",
       " Index: [],\n",
       " Empty DataFrame\n",
       " Columns: [Open, High, Low, Close, Adj Close, Volume]\n",
       " Index: [],\n",
       " Empty DataFrame\n",
       " Columns: [Open, High, Low, Close, Adj Close, Volume]\n",
       " Index: [],\n",
       " Empty DataFrame\n",
       " Columns: [Open, High, Low, Close, Adj Close, Volume]\n",
       " Index: [],\n",
       " Empty DataFrame\n",
       " Columns: [Open, High, Low, Close, Adj Close, Volume]\n",
       " Index: [],\n",
       " Empty DataFrame\n",
       " Columns: [Open, High, Low, Close, Adj Close, Volume]\n",
       " Index: [],\n",
       " Empty DataFrame\n",
       " Columns: [Open, High, Low, Close, Adj Close, Volume]\n",
       " Index: [],\n",
       " Empty DataFrame\n",
       " Columns: [Open, High, Low, Close, Adj Close, Volume]\n",
       " Index: [],\n",
       " Empty DataFrame\n",
       " Columns: [Open, High, Low, Close, Adj Close, Volume]\n",
       " Index: [],\n",
       " Empty DataFrame\n",
       " Columns: [Open, High, Low, Close, Adj Close, Volume]\n",
       " Index: [],\n",
       " Empty DataFrame\n",
       " Columns: [Open, High, Low, Close, Adj Close, Volume]\n",
       " Index: [],\n",
       " Empty DataFrame\n",
       " Columns: [Open, High, Low, Close, Adj Close, Volume]\n",
       " Index: [],\n",
       " Empty DataFrame\n",
       " Columns: [Open, High, Low, Close, Adj Close, Volume]\n",
       " Index: [],\n",
       " Empty DataFrame\n",
       " Columns: [Open, High, Low, Close, Adj Close, Volume]\n",
       " Index: [],\n",
       " Empty DataFrame\n",
       " Columns: [Open, High, Low, Close, Adj Close, Volume]\n",
       " Index: [],\n",
       " Empty DataFrame\n",
       " Columns: [Open, High, Low, Close, Adj Close, Volume]\n",
       " Index: [],\n",
       " Empty DataFrame\n",
       " Columns: [Open, High, Low, Close, Adj Close, Volume]\n",
       " Index: [],\n",
       " Empty DataFrame\n",
       " Columns: [Open, High, Low, Close, Adj Close, Volume]\n",
       " Index: [],\n",
       " Empty DataFrame\n",
       " Columns: [Open, High, Low, Close, Adj Close, Volume]\n",
       " Index: [],\n",
       " Empty DataFrame\n",
       " Columns: [Open, High, Low, Close, Adj Close, Volume]\n",
       " Index: [],\n",
       " Empty DataFrame\n",
       " Columns: [Open, High, Low, Close, Adj Close, Volume]\n",
       " Index: [],\n",
       " Empty DataFrame\n",
       " Columns: [Open, High, Low, Close, Adj Close, Volume]\n",
       " Index: [],\n",
       " Empty DataFrame\n",
       " Columns: [Open, High, Low, Close, Adj Close, Volume]\n",
       " Index: [],\n",
       " Empty DataFrame\n",
       " Columns: [Open, High, Low, Close, Adj Close, Volume]\n",
       " Index: [],\n",
       " Empty DataFrame\n",
       " Columns: [Open, High, Low, Close, Adj Close, Volume]\n",
       " Index: [],\n",
       " Empty DataFrame\n",
       " Columns: [Open, High, Low, Close, Adj Close, Volume]\n",
       " Index: [],\n",
       " Empty DataFrame\n",
       " Columns: [Open, High, Low, Close, Adj Close, Volume]\n",
       " Index: [],\n",
       " Empty DataFrame\n",
       " Columns: [Open, High, Low, Close, Adj Close, Volume]\n",
       " Index: [],\n",
       " Empty DataFrame\n",
       " Columns: [Open, High, Low, Close, Adj Close, Volume]\n",
       " Index: [],\n",
       " Empty DataFrame\n",
       " Columns: [Open, High, Low, Close, Adj Close, Volume]\n",
       " Index: [],\n",
       " Empty DataFrame\n",
       " Columns: [Open, High, Low, Close, Adj Close, Volume]\n",
       " Index: [],\n",
       " Empty DataFrame\n",
       " Columns: [Open, High, Low, Close, Adj Close, Volume]\n",
       " Index: [],\n",
       " Empty DataFrame\n",
       " Columns: [Open, High, Low, Close, Adj Close, Volume]\n",
       " Index: [],\n",
       " Empty DataFrame\n",
       " Columns: [Open, High, Low, Close, Adj Close, Volume]\n",
       " Index: [],\n",
       " Empty DataFrame\n",
       " Columns: [Open, High, Low, Close, Adj Close, Volume]\n",
       " Index: [],\n",
       " Empty DataFrame\n",
       " Columns: [Open, High, Low, Close, Adj Close, Volume]\n",
       " Index: [],\n",
       " Empty DataFrame\n",
       " Columns: [Open, High, Low, Close, Adj Close, Volume]\n",
       " Index: [],\n",
       " Empty DataFrame\n",
       " Columns: [Open, High, Low, Close, Adj Close, Volume]\n",
       " Index: [],\n",
       " Empty DataFrame\n",
       " Columns: [Open, High, Low, Close, Adj Close, Volume]\n",
       " Index: [],\n",
       " Empty DataFrame\n",
       " Columns: [Open, High, Low, Close, Adj Close, Volume]\n",
       " Index: [],\n",
       " Empty DataFrame\n",
       " Columns: [Open, High, Low, Close, Adj Close, Volume]\n",
       " Index: [],\n",
       " Empty DataFrame\n",
       " Columns: [Open, High, Low, Close, Adj Close, Volume]\n",
       " Index: [],\n",
       " Empty DataFrame\n",
       " Columns: [Open, High, Low, Close, Adj Close, Volume]\n",
       " Index: [],\n",
       " Empty DataFrame\n",
       " Columns: [Open, High, Low, Close, Adj Close, Volume]\n",
       " Index: [],\n",
       " Empty DataFrame\n",
       " Columns: [Open, High, Low, Close, Adj Close, Volume]\n",
       " Index: [],\n",
       " Empty DataFrame\n",
       " Columns: [Open, High, Low, Close, Adj Close, Volume]\n",
       " Index: [],\n",
       " Empty DataFrame\n",
       " Columns: [Open, High, Low, Close, Adj Close, Volume]\n",
       " Index: [],\n",
       " Empty DataFrame\n",
       " Columns: [Open, High, Low, Close, Adj Close, Volume]\n",
       " Index: [],\n",
       " Empty DataFrame\n",
       " Columns: [Open, High, Low, Close, Adj Close, Volume]\n",
       " Index: [],\n",
       " Empty DataFrame\n",
       " Columns: [Open, High, Low, Close, Adj Close, Volume]\n",
       " Index: [],\n",
       " Empty DataFrame\n",
       " Columns: [Open, High, Low, Close, Adj Close, Volume]\n",
       " Index: [],\n",
       " Empty DataFrame\n",
       " Columns: [Open, High, Low, Close, Adj Close, Volume]\n",
       " Index: [],\n",
       " Empty DataFrame\n",
       " Columns: [Open, High, Low, Close, Adj Close, Volume]\n",
       " Index: [],\n",
       " Empty DataFrame\n",
       " Columns: [Open, High, Low, Close, Adj Close, Volume]\n",
       " Index: [],\n",
       " Empty DataFrame\n",
       " Columns: [Open, High, Low, Close, Adj Close, Volume]\n",
       " Index: [],\n",
       " Empty DataFrame\n",
       " Columns: [Open, High, Low, Close, Adj Close, Volume]\n",
       " Index: [],\n",
       " Empty DataFrame\n",
       " Columns: [Open, High, Low, Close, Adj Close, Volume]\n",
       " Index: [],\n",
       " Empty DataFrame\n",
       " Columns: [Open, High, Low, Close, Adj Close, Volume]\n",
       " Index: [],\n",
       " Empty DataFrame\n",
       " Columns: [Open, High, Low, Close, Adj Close, Volume]\n",
       " Index: [],\n",
       " Empty DataFrame\n",
       " Columns: [Open, High, Low, Close, Adj Close, Volume]\n",
       " Index: [],\n",
       " Empty DataFrame\n",
       " Columns: [Open, High, Low, Close, Adj Close, Volume]\n",
       " Index: [],\n",
       " Empty DataFrame\n",
       " Columns: [Open, High, Low, Close, Adj Close, Volume]\n",
       " Index: [],\n",
       " Empty DataFrame\n",
       " Columns: [Open, High, Low, Close, Adj Close, Volume]\n",
       " Index: [],\n",
       " Empty DataFrame\n",
       " Columns: [Open, High, Low, Close, Adj Close, Volume]\n",
       " Index: [],\n",
       " Empty DataFrame\n",
       " Columns: [Open, High, Low, Close, Adj Close, Volume]\n",
       " Index: [],\n",
       " Empty DataFrame\n",
       " Columns: [Open, High, Low, Close, Adj Close, Volume]\n",
       " Index: [],\n",
       " Empty DataFrame\n",
       " Columns: [Open, High, Low, Close, Adj Close, Volume]\n",
       " Index: [],\n",
       " Empty DataFrame\n",
       " Columns: [Open, High, Low, Close, Adj Close, Volume]\n",
       " Index: [],\n",
       " Empty DataFrame\n",
       " Columns: [Open, High, Low, Close, Adj Close, Volume]\n",
       " Index: [],\n",
       " Empty DataFrame\n",
       " Columns: [Open, High, Low, Close, Adj Close, Volume]\n",
       " Index: [],\n",
       " Empty DataFrame\n",
       " Columns: [Open, High, Low, Close, Adj Close, Volume]\n",
       " Index: [],\n",
       " Empty DataFrame\n",
       " Columns: [Open, High, Low, Close, Adj Close, Volume]\n",
       " Index: [],\n",
       " Empty DataFrame\n",
       " Columns: [Open, High, Low, Close, Adj Close, Volume]\n",
       " Index: [],\n",
       " Empty DataFrame\n",
       " Columns: [Open, High, Low, Close, Adj Close, Volume]\n",
       " Index: [],\n",
       " Empty DataFrame\n",
       " Columns: [Open, High, Low, Close, Adj Close, Volume]\n",
       " Index: [],\n",
       " Empty DataFrame\n",
       " Columns: [Open, High, Low, Close, Adj Close, Volume]\n",
       " Index: [],\n",
       " Empty DataFrame\n",
       " Columns: [Open, High, Low, Close, Adj Close, Volume]\n",
       " Index: [],\n",
       " Empty DataFrame\n",
       " Columns: [Open, High, Low, Close, Adj Close, Volume]\n",
       " Index: [],\n",
       " Empty DataFrame\n",
       " Columns: [Open, High, Low, Close, Adj Close, Volume]\n",
       " Index: [],\n",
       " Empty DataFrame\n",
       " Columns: [Open, High, Low, Close, Adj Close, Volume]\n",
       " Index: [],\n",
       " Empty DataFrame\n",
       " Columns: [Open, High, Low, Close, Adj Close, Volume]\n",
       " Index: [],\n",
       " Empty DataFrame\n",
       " Columns: [Open, High, Low, Close, Adj Close, Volume]\n",
       " Index: [],\n",
       " Empty DataFrame\n",
       " Columns: [Open, High, Low, Close, Adj Close, Volume]\n",
       " Index: [],\n",
       " Empty DataFrame\n",
       " Columns: [Open, High, Low, Close, Adj Close, Volume]\n",
       " Index: [],\n",
       " Empty DataFrame\n",
       " Columns: [Open, High, Low, Close, Adj Close, Volume]\n",
       " Index: [],\n",
       " Empty DataFrame\n",
       " Columns: [Open, High, Low, Close, Adj Close, Volume]\n",
       " Index: [],\n",
       " Empty DataFrame\n",
       " Columns: [Open, High, Low, Close, Adj Close, Volume]\n",
       " Index: [],\n",
       " Empty DataFrame\n",
       " Columns: [Open, High, Low, Close, Adj Close, Volume]\n",
       " Index: [],\n",
       " Empty DataFrame\n",
       " Columns: [Open, High, Low, Close, Adj Close, Volume]\n",
       " Index: [],\n",
       " Empty DataFrame\n",
       " Columns: [Open, High, Low, Close, Adj Close, Volume]\n",
       " Index: [],\n",
       " Empty DataFrame\n",
       " Columns: [Open, High, Low, Close, Adj Close, Volume]\n",
       " Index: [],\n",
       " Empty DataFrame\n",
       " Columns: [Open, High, Low, Close, Adj Close, Volume]\n",
       " Index: [],\n",
       " Empty DataFrame\n",
       " Columns: [Open, High, Low, Close, Adj Close, Volume]\n",
       " Index: [],\n",
       " Empty DataFrame\n",
       " Columns: [Open, High, Low, Close, Adj Close, Volume]\n",
       " Index: [],\n",
       " Empty DataFrame\n",
       " Columns: [Open, High, Low, Close, Adj Close, Volume]\n",
       " Index: [],\n",
       " Empty DataFrame\n",
       " Columns: [Open, High, Low, Close, Adj Close, Volume]\n",
       " Index: [],\n",
       " Empty DataFrame\n",
       " Columns: [Open, High, Low, Close, Adj Close, Volume]\n",
       " Index: [],\n",
       "              Open   High    Low  Close  Adj Close  Volume\n",
       " Date                                                     \n",
       " 2021-07-27  14.89  15.02  14.84  15.00  14.645168   44800\n",
       " 2021-07-28  15.06  15.14  14.96  15.14  14.781857   35000\n",
       " 2021-07-29  15.15  15.25  15.15  15.21  14.850204   31500\n",
       " 2021-07-30  15.27  15.33  15.23  15.28  14.918547   59000\n",
       " 2021-08-02  15.53  15.53  15.24  15.44  15.074761   53200\n",
       " ...           ...    ...    ...    ...        ...     ...\n",
       " 2022-07-20  11.67  11.75  11.64  11.66  11.660000   43900\n",
       " 2022-07-21  11.68  11.75  11.67  11.74  11.740000   67900\n",
       " 2022-07-22  11.74  11.79  11.73  11.74  11.740000   76100\n",
       " 2022-07-25  11.74  11.80  11.69  11.80  11.800000   66800\n",
       " 2022-07-26  11.82  11.82  11.74  11.76  11.760000   57000\n",
       " \n",
       " [252 rows x 6 columns],\n",
       " Empty DataFrame\n",
       " Columns: [Open, High, Low, Close, Adj Close, Volume]\n",
       " Index: [],\n",
       " Empty DataFrame\n",
       " Columns: [Open, High, Low, Close, Adj Close, Volume]\n",
       " Index: [],\n",
       " Empty DataFrame\n",
       " Columns: [Open, High, Low, Close, Adj Close, Volume]\n",
       " Index: [],\n",
       " Empty DataFrame\n",
       " Columns: [Open, High, Low, Close, Adj Close, Volume]\n",
       " Index: [],\n",
       " Empty DataFrame\n",
       " Columns: [Open, High, Low, Close, Adj Close, Volume]\n",
       " Index: [],\n",
       " Empty DataFrame\n",
       " Columns: [Open, High, Low, Close, Adj Close, Volume]\n",
       " Index: [],\n",
       " Empty DataFrame\n",
       " Columns: [Open, High, Low, Close, Adj Close, Volume]\n",
       " Index: [],\n",
       " Empty DataFrame\n",
       " Columns: [Open, High, Low, Close, Adj Close, Volume]\n",
       " Index: [],\n",
       " Empty DataFrame\n",
       " Columns: [Open, High, Low, Close, Adj Close, Volume]\n",
       " Index: [],\n",
       " Empty DataFrame\n",
       " Columns: [Open, High, Low, Close, Adj Close, Volume]\n",
       " Index: [],\n",
       " Empty DataFrame\n",
       " Columns: [Open, High, Low, Close, Adj Close, Volume]\n",
       " Index: [],\n",
       " Empty DataFrame\n",
       " Columns: [Open, High, Low, Close, Adj Close, Volume]\n",
       " Index: [],\n",
       " Empty DataFrame\n",
       " Columns: [Open, High, Low, Close, Adj Close, Volume]\n",
       " Index: [],\n",
       " Empty DataFrame\n",
       " Columns: [Open, High, Low, Close, Adj Close, Volume]\n",
       " Index: [],\n",
       "              Open   High    Low  Close  Adj Close  Volume\n",
       " Date                                                     \n",
       " 2021-07-12  15.48  15.49  15.31  15.33  14.915990    8700\n",
       " 2021-07-13  15.69  15.69  15.15  15.15  14.740851   72600\n",
       " 2021-07-14  15.13  15.20  15.04  15.04  14.684223   24500\n",
       " 2021-07-15  15.24  15.24  14.94  14.99  14.635407   51300\n",
       " 2021-07-16  15.00  15.05  14.94  14.97  14.615879   31100\n",
       " ...           ...    ...    ...    ...        ...     ...\n",
       " 2022-07-05  11.82  11.96  11.76  11.96  11.960000   88900\n",
       " 2022-07-06  12.02  12.06  11.98  12.06  12.060000   67200\n",
       " 2022-07-07  12.09  12.09  11.79  11.80  11.800000   67200\n",
       " 2022-07-08  11.88  11.98  11.73  11.96  11.960000  135200\n",
       " 2022-07-11  12.05  12.05  11.85  11.97  11.970000   69400\n",
       " \n",
       " [252 rows x 6 columns],\n",
       " Empty DataFrame\n",
       " Columns: [Open, High, Low, Close, Adj Close, Volume]\n",
       " Index: [],\n",
       " Empty DataFrame\n",
       " Columns: [Open, High, Low, Close, Adj Close, Volume]\n",
       " Index: [],\n",
       "              Open   High    Low  Close  Adj Close  Volume\n",
       " Date                                                     \n",
       " 2021-07-07  15.11  15.20  15.04  15.11  14.701930   58800\n",
       " 2021-07-08  15.11  15.21  15.11  15.20  14.789501   17600\n",
       " 2021-07-09  15.25  15.34  15.25  15.25  14.838153   23500\n",
       " 2021-07-12  15.48  15.49  15.31  15.33  14.915990    8700\n",
       " 2021-07-13  15.69  15.69  15.15  15.15  14.740851   72600\n",
       " ...           ...    ...    ...    ...        ...     ...\n",
       " 2022-06-29  11.72  11.75  11.68  11.74  11.740000   68700\n",
       " 2022-06-30  11.73  11.75  11.70  11.73  11.730000   70800\n",
       " 2022-07-01  11.75  11.85  11.74  11.78  11.780000   53600\n",
       " 2022-07-05  11.82  11.96  11.76  11.96  11.960000   88900\n",
       " 2022-07-06  12.02  12.06  11.98  12.06  12.060000   67200\n",
       " \n",
       " [252 rows x 6 columns],\n",
       " Empty DataFrame\n",
       " Columns: [Open, High, Low, Close, Adj Close, Volume]\n",
       " Index: [],\n",
       " Empty DataFrame\n",
       " Columns: [Open, High, Low, Close, Adj Close, Volume]\n",
       " Index: [],\n",
       " Empty DataFrame\n",
       " Columns: [Open, High, Low, Close, Adj Close, Volume]\n",
       " Index: [],\n",
       "              Open   High    Low  Close  Adj Close  Volume\n",
       " Date                                                     \n",
       " 2021-06-30  15.09  15.15  14.91  15.06  14.653282   25300\n",
       " 2021-07-01  15.15  15.17  15.10  15.14  14.731121   39500\n",
       " 2021-07-02  15.21  15.24  15.04  15.10  14.692204   37700\n",
       " 2021-07-06  15.07  15.14  15.07  15.13  14.721394    8200\n",
       " 2021-07-07  15.11  15.20  15.04  15.11  14.701930   58800\n",
       " ...           ...    ...    ...    ...        ...     ...\n",
       " 2022-06-23  11.42  11.70  11.40  11.59  11.590000   71300\n",
       " 2022-06-24  11.74  11.74  11.54  11.66  11.660000   41400\n",
       " 2022-06-27  11.74  11.75  11.65  11.65  11.650000   45200\n",
       " 2022-06-28  11.69  11.72  11.62  11.65  11.650000   67800\n",
       " 2022-06-29  11.72  11.75  11.68  11.74  11.740000   68700\n",
       " \n",
       " [252 rows x 6 columns],\n",
       "              Open   High    Low  Close  Adj Close  Volume\n",
       " Date                                                     \n",
       " 2021-06-30  15.09  15.15  14.91  15.06  14.653282   25300\n",
       " 2021-07-01  15.15  15.17  15.10  15.14  14.731121   39500\n",
       " 2021-07-02  15.21  15.24  15.04  15.10  14.692204   37700\n",
       " 2021-07-06  15.07  15.14  15.07  15.13  14.721394    8200\n",
       " 2021-07-07  15.11  15.20  15.04  15.11  14.701930   58800\n",
       " ...           ...    ...    ...    ...        ...     ...\n",
       " 2022-06-23  11.42  11.70  11.40  11.59  11.590000   71300\n",
       " 2022-06-24  11.74  11.74  11.54  11.66  11.660000   41400\n",
       " 2022-06-27  11.74  11.75  11.65  11.65  11.650000   45200\n",
       " 2022-06-28  11.69  11.72  11.62  11.65  11.650000   67800\n",
       " 2022-06-29  11.72  11.75  11.68  11.74  11.740000   68700\n",
       " \n",
       " [252 rows x 6 columns],\n",
       "              Open   High    Low  Close  Adj Close  Volume\n",
       " Date                                                     \n",
       " 2021-06-30  15.09  15.15  14.91  15.06  14.653282   25300\n",
       " 2021-07-01  15.15  15.17  15.10  15.14  14.731121   39500\n",
       " 2021-07-02  15.21  15.24  15.04  15.10  14.692204   37700\n",
       " 2021-07-06  15.07  15.14  15.07  15.13  14.721394    8200\n",
       " 2021-07-07  15.11  15.20  15.04  15.11  14.701930   58800\n",
       " ...           ...    ...    ...    ...        ...     ...\n",
       " 2022-06-23  11.42  11.70  11.40  11.59  11.590000   71300\n",
       " 2022-06-24  11.74  11.74  11.54  11.66  11.660000   41400\n",
       " 2022-06-27  11.74  11.75  11.65  11.65  11.650000   45200\n",
       " 2022-06-28  11.69  11.72  11.62  11.65  11.650000   67800\n",
       " 2022-06-29  11.72  11.75  11.68  11.74  11.740000   68700\n",
       " \n",
       " [252 rows x 6 columns],\n",
       "              Open   High    Low  Close  Adj Close  Volume\n",
       " Date                                                     \n",
       " 2021-06-30  15.09  15.15  14.91  15.06  14.653282   25300\n",
       " 2021-07-01  15.15  15.17  15.10  15.14  14.731121   39500\n",
       " 2021-07-02  15.21  15.24  15.04  15.10  14.692204   37700\n",
       " 2021-07-06  15.07  15.14  15.07  15.13  14.721394    8200\n",
       " 2021-07-07  15.11  15.20  15.04  15.11  14.701930   58800\n",
       " ...           ...    ...    ...    ...        ...     ...\n",
       " 2022-06-23  11.42  11.70  11.40  11.59  11.590000   71300\n",
       " 2022-06-24  11.74  11.74  11.54  11.66  11.660000   41400\n",
       " 2022-06-27  11.74  11.75  11.65  11.65  11.650000   45200\n",
       " 2022-06-28  11.69  11.72  11.62  11.65  11.650000   67800\n",
       " 2022-06-29  11.72  11.75  11.68  11.74  11.740000   68700\n",
       " \n",
       " [252 rows x 6 columns],\n",
       " Empty DataFrame\n",
       " Columns: [Open, High, Low, Close, Adj Close, Volume]\n",
       " Index: [],\n",
       " Empty DataFrame\n",
       " Columns: [Open, High, Low, Close, Adj Close, Volume]\n",
       " Index: [],\n",
       " Empty DataFrame\n",
       " Columns: [Open, High, Low, Close, Adj Close, Volume]\n",
       " Index: [],\n",
       " Empty DataFrame\n",
       " Columns: [Open, High, Low, Close, Adj Close, Volume]\n",
       " Index: [],\n",
       " Empty DataFrame\n",
       " Columns: [Open, High, Low, Close, Adj Close, Volume]\n",
       " Index: [],\n",
       " Empty DataFrame\n",
       " Columns: [Open, High, Low, Close, Adj Close, Volume]\n",
       " Index: [],\n",
       "              Open   High    Low  Close  Adj Close  Volume\n",
       " Date                                                     \n",
       " 2021-06-28  15.11  15.11  14.95  15.07  14.663012   41800\n",
       " 2021-06-29  15.16  15.18  15.05  15.09  14.682472   31900\n",
       " 2021-06-30  15.09  15.15  14.91  15.06  14.653282   25300\n",
       " 2021-07-01  15.15  15.17  15.10  15.14  14.731121   39500\n",
       " 2021-07-02  15.21  15.24  15.04  15.10  14.692204   37700\n",
       " ...           ...    ...    ...    ...        ...     ...\n",
       " 2022-06-21  11.27  11.29  11.22  11.25  11.250000   33200\n",
       " 2022-06-22  11.42  11.54  11.24  11.38  11.380000  118400\n",
       " 2022-06-23  11.42  11.70  11.40  11.59  11.590000   71300\n",
       " 2022-06-24  11.74  11.74  11.54  11.66  11.660000   41400\n",
       " 2022-06-27  11.74  11.75  11.65  11.65  11.650000   45200\n",
       " \n",
       " [252 rows x 6 columns],\n",
       " Empty DataFrame\n",
       " Columns: [Open, High, Low, Close, Adj Close, Volume]\n",
       " Index: [],\n",
       " Empty DataFrame\n",
       " Columns: [Open, High, Low, Close, Adj Close, Volume]\n",
       " Index: [],\n",
       " Empty DataFrame\n",
       " Columns: [Open, High, Low, Close, Adj Close, Volume]\n",
       " Index: [],\n",
       " Empty DataFrame\n",
       " Columns: [Open, High, Low, Close, Adj Close, Volume]\n",
       " Index: [],\n",
       " Empty DataFrame\n",
       " Columns: [Open, High, Low, Close, Adj Close, Volume]\n",
       " Index: [],\n",
       " Empty DataFrame\n",
       " Columns: [Open, High, Low, Close, Adj Close, Volume]\n",
       " Index: [],\n",
       " Empty DataFrame\n",
       " Columns: [Open, High, Low, Close, Adj Close, Volume]\n",
       " Index: [],\n",
       " Empty DataFrame\n",
       " Columns: [Open, High, Low, Close, Adj Close, Volume]\n",
       " Index: [],\n",
       " Empty DataFrame\n",
       " Columns: [Open, High, Low, Close, Adj Close, Volume]\n",
       " Index: [],\n",
       " Empty DataFrame\n",
       " Columns: [Open, High, Low, Close, Adj Close, Volume]\n",
       " Index: [],\n",
       " Empty DataFrame\n",
       " Columns: [Open, High, Low, Close, Adj Close, Volume]\n",
       " Index: [],\n",
       " Empty DataFrame\n",
       " Columns: [Open, High, Low, Close, Adj Close, Volume]\n",
       " Index: [],\n",
       " Empty DataFrame\n",
       " Columns: [Open, High, Low, Close, Adj Close, Volume]\n",
       " Index: [],\n",
       "              Open   High    Low  Close  Adj Close  Volume\n",
       " Date                                                     \n",
       " 2021-06-09  15.08  15.08  14.89  15.08  14.621398   51000\n",
       " 2021-06-10  15.08  15.08  14.99  15.02  14.563222   22000\n",
       " 2021-06-11  15.02  15.07  14.83  14.86  14.408088   44600\n",
       " 2021-06-14  14.87  14.96  14.83  14.96  14.555984   48800\n",
       " 2021-06-15  14.96  15.23  14.90  14.99  14.585175   42800\n",
       " ...           ...    ...    ...    ...        ...     ...\n",
       " 2022-06-02  12.06  12.10  11.93  12.02  12.020000   92700\n",
       " 2022-06-03  12.00  12.04  11.94  12.01  12.010000   67300\n",
       " 2022-06-06  11.96  12.00  11.89  11.90  11.900000   26500\n",
       " 2022-06-07  11.91  12.02  11.90  11.90  11.900000   39400\n",
       " 2022-06-08  11.88  11.98  11.87  11.96  11.960000   84900\n",
       " \n",
       " [253 rows x 6 columns],\n",
       " Empty DataFrame\n",
       " Columns: [Open, High, Low, Close, Adj Close, Volume]\n",
       " Index: [],\n",
       " Empty DataFrame\n",
       " Columns: [Open, High, Low, Close, Adj Close, Volume]\n",
       " Index: [],\n",
       " Empty DataFrame\n",
       " Columns: [Open, High, Low, Close, Adj Close, Volume]\n",
       " Index: [],\n",
       " Empty DataFrame\n",
       " Columns: [Open, High, Low, Close, Adj Close, Volume]\n",
       " Index: [],\n",
       " Empty DataFrame\n",
       " Columns: [Open, High, Low, Close, Adj Close, Volume]\n",
       " Index: [],\n",
       " Empty DataFrame\n",
       " Columns: [Open, High, Low, Close, Adj Close, Volume]\n",
       " Index: [],\n",
       " Empty DataFrame\n",
       " Columns: [Open, High, Low, Close, Adj Close, Volume]\n",
       " Index: [],\n",
       " Empty DataFrame\n",
       " Columns: [Open, High, Low, Close, Adj Close, Volume]\n",
       " Index: [],\n",
       "              Open   High    Low  Close  Adj Close  Volume\n",
       " Date                                                     \n",
       " 2021-05-25  14.64  14.67  14.62  14.67  14.223865   31800\n",
       " 2021-05-26  14.70  14.82  14.60  14.78  14.330521   42500\n",
       " 2021-05-27  14.78  14.80  14.66  14.73  14.282042   42600\n",
       " 2021-05-28  14.82  14.95  14.65  14.79  14.340216   66000\n",
       " 2021-06-01  14.82  14.90  14.78  14.85  14.398392   41800\n",
       " ...           ...    ...    ...    ...        ...     ...\n",
       " 2022-05-18  11.39  11.44  11.31  11.32  11.320000   40000\n",
       " 2022-05-19  11.36  11.39  11.25  11.28  11.280000   64400\n",
       " 2022-05-20  11.28  11.44  11.28  11.35  11.350000   39100\n",
       " 2022-05-23  11.35  11.43  11.35  11.38  11.380000   17800\n",
       " 2022-05-24  11.43  11.52  11.41  11.51  11.510000   67100\n",
       " \n",
       " [253 rows x 6 columns],\n",
       "              Open   High    Low  Close  Adj Close  Volume\n",
       " Date                                                     \n",
       " 2021-05-24  14.64  14.64  14.52  14.56  14.117212   35200\n",
       " 2021-05-25  14.64  14.67  14.62  14.67  14.223865   31800\n",
       " 2021-05-26  14.70  14.82  14.60  14.78  14.330521   42500\n",
       " 2021-05-27  14.78  14.80  14.66  14.73  14.282042   42600\n",
       " 2021-05-28  14.82  14.95  14.65  14.79  14.340216   66000\n",
       " ...           ...    ...    ...    ...        ...     ...\n",
       " 2022-05-17  11.35  11.47  11.35  11.45  11.450000  119600\n",
       " 2022-05-18  11.39  11.44  11.31  11.32  11.320000   40000\n",
       " 2022-05-19  11.36  11.39  11.25  11.28  11.280000   64400\n",
       " 2022-05-20  11.28  11.44  11.28  11.35  11.350000   39100\n",
       " 2022-05-23  11.35  11.43  11.35  11.38  11.380000   17800\n",
       " \n",
       " [253 rows x 6 columns],\n",
       " Empty DataFrame\n",
       " Columns: [Open, High, Low, Close, Adj Close, Volume]\n",
       " Index: [],\n",
       " Empty DataFrame\n",
       " Columns: [Open, High, Low, Close, Adj Close, Volume]\n",
       " Index: [],\n",
       " Empty DataFrame\n",
       " Columns: [Open, High, Low, Close, Adj Close, Volume]\n",
       " Index: [],\n",
       " Empty DataFrame\n",
       " Columns: [Open, High, Low, Close, Adj Close, Volume]\n",
       " Index: [],\n",
       " Empty DataFrame\n",
       " Columns: [Open, High, Low, Close, Adj Close, Volume]\n",
       " Index: [],\n",
       " Empty DataFrame\n",
       " Columns: [Open, High, Low, Close, Adj Close, Volume]\n",
       " Index: [],\n",
       " Empty DataFrame\n",
       " Columns: [Open, High, Low, Close, Adj Close, Volume]\n",
       " Index: [],\n",
       " Empty DataFrame\n",
       " Columns: [Open, High, Low, Close, Adj Close, Volume]\n",
       " Index: [],\n",
       " Empty DataFrame\n",
       " Columns: [Open, High, Low, Close, Adj Close, Volume]\n",
       " Index: [],\n",
       " Empty DataFrame\n",
       " Columns: [Open, High, Low, Close, Adj Close, Volume]\n",
       " Index: [],\n",
       " Empty DataFrame\n",
       " Columns: [Open, High, Low, Close, Adj Close, Volume]\n",
       " Index: [],\n",
       " Empty DataFrame\n",
       " Columns: [Open, High, Low, Close, Adj Close, Volume]\n",
       " Index: [],\n",
       " Empty DataFrame\n",
       " Columns: [Open, High, Low, Close, Adj Close, Volume]\n",
       " Index: [],\n",
       " Empty DataFrame\n",
       " Columns: [Open, High, Low, Close, Adj Close, Volume]\n",
       " Index: [],\n",
       "              Open   High    Low  Close  Adj Close  Volume\n",
       " Date                                                     \n",
       " 2021-04-29  14.45  14.52  14.27  14.35  13.863702   65100\n",
       " 2021-04-30  14.30  14.40  14.30  14.35  13.863702   32300\n",
       " 2021-05-03  14.43  14.48  14.36  14.42  13.931329   42500\n",
       " 2021-05-04  14.42  14.58  14.35  14.47  13.979635   79100\n",
       " 2021-05-05  14.56  14.60  14.42  14.59  14.095567   79600\n",
       " ...           ...    ...    ...    ...        ...     ...\n",
       " 2022-04-22  11.62  11.68  11.58  11.65  11.650000  104800\n",
       " 2022-04-25  11.59  11.72  11.58  11.72  11.720000   74300\n",
       " 2022-04-26  11.68  11.80  11.64  11.74  11.740000  127200\n",
       " 2022-04-27  11.68  11.76  11.65  11.69  11.690000   52900\n",
       " 2022-04-28  11.63  11.85  11.62  11.72  11.720000   75200\n",
       " \n",
       " [253 rows x 6 columns],\n",
       " Empty DataFrame\n",
       " Columns: [Open, High, Low, Close, Adj Close, Volume]\n",
       " Index: [],\n",
       " Empty DataFrame\n",
       " Columns: [Open, High, Low, Close, Adj Close, Volume]\n",
       " Index: [],\n",
       "              Open   High    Low  Close  Adj Close  Volume\n",
       " Date                                                     \n",
       " 2021-04-13  14.49  14.50  14.47  14.50  13.958378   32200\n",
       " 2021-04-14  14.50  14.50  14.39  14.48  13.989295   23100\n",
       " 2021-04-15  14.50  14.51  14.43  14.50  14.008616   18100\n",
       " 2021-04-16  14.52  14.57  14.43  14.44  13.950650   36100\n",
       " 2021-04-19  14.47  14.47  14.35  14.36  13.873359   33600\n",
       " ...           ...    ...    ...    ...        ...     ...\n",
       " 2022-04-06  12.36  12.45  12.29  12.34  12.340000   45600\n",
       " 2022-04-07  12.28  12.38  12.16  12.16  12.160000   43500\n",
       " 2022-04-08  12.15  12.19  12.10  12.10  12.100000   52900\n",
       " 2022-04-11  12.10  12.10  11.88  11.88  11.880000   94700\n",
       " 2022-04-12  11.92  12.00  11.90  11.92  11.920000   59400\n",
       " \n",
       " [254 rows x 6 columns],\n",
       "              Open   High    Low  Close  Adj Close  Volume\n",
       " Date                                                     \n",
       " 2021-04-13  14.49  14.50  14.47  14.50  13.958378   32200\n",
       " 2021-04-14  14.50  14.50  14.39  14.48  13.989295   23100\n",
       " 2021-04-15  14.50  14.51  14.43  14.50  14.008616   18100\n",
       " 2021-04-16  14.52  14.57  14.43  14.44  13.950650   36100\n",
       " 2021-04-19  14.47  14.47  14.35  14.36  13.873359   33600\n",
       " ...           ...    ...    ...    ...        ...     ...\n",
       " 2022-04-06  12.36  12.45  12.29  12.34  12.340000   45600\n",
       " 2022-04-07  12.28  12.38  12.16  12.16  12.160000   43500\n",
       " 2022-04-08  12.15  12.19  12.10  12.10  12.100000   52900\n",
       " 2022-04-11  12.10  12.10  11.88  11.88  11.880000   94700\n",
       " 2022-04-12  11.92  12.00  11.90  11.92  11.920000   59400\n",
       " \n",
       " [254 rows x 6 columns],\n",
       " Empty DataFrame\n",
       " Columns: [Open, High, Low, Close, Adj Close, Volume]\n",
       " Index: [],\n",
       " Empty DataFrame\n",
       " Columns: [Open, High, Low, Close, Adj Close, Volume]\n",
       " Index: [],\n",
       "              Open   High    Low  Close  Adj Close  Volume\n",
       " Date                                                     \n",
       " 2021-04-08  14.45  14.48  14.43  14.47  13.929501   43800\n",
       " 2021-04-09  14.49  14.49  14.35  14.38  13.842861   35500\n",
       " 2021-04-12  14.37  14.49  14.37  14.47  13.929501   15800\n",
       " 2021-04-13  14.49  14.50  14.47  14.50  13.958378   32200\n",
       " 2021-04-14  14.50  14.50  14.39  14.48  13.989295   23100\n",
       " ...           ...    ...    ...    ...        ...     ...\n",
       " 2022-04-01  12.58  12.64  12.53  12.62  12.620000   34900\n",
       " 2022-04-04  12.60  12.69  12.58  12.64  12.640000   58600\n",
       " 2022-04-05  12.62  12.68  12.48  12.49  12.490000   36300\n",
       " 2022-04-06  12.36  12.45  12.29  12.34  12.340000   45600\n",
       " 2022-04-07  12.28  12.38  12.16  12.16  12.160000   43500\n",
       " \n",
       " [254 rows x 6 columns],\n",
       " Empty DataFrame\n",
       " Columns: [Open, High, Low, Close, Adj Close, Volume]\n",
       " Index: [],\n",
       " Empty DataFrame\n",
       " Columns: [Open, High, Low, Close, Adj Close, Volume]\n",
       " Index: [],\n",
       " Empty DataFrame\n",
       " Columns: [Open, High, Low, Close, Adj Close, Volume]\n",
       " Index: [],\n",
       "              Open   High    Low  Close  Adj Close  Volume\n",
       " Date                                                     \n",
       " 2021-04-06  14.41  14.45  14.38  14.39  13.852488   12800\n",
       " 2021-04-07  14.44  14.44  14.36  14.38  13.842861   10200\n",
       " 2021-04-08  14.45  14.48  14.43  14.47  13.929501   43800\n",
       " 2021-04-09  14.49  14.49  14.35  14.38  13.842861   35500\n",
       " 2021-04-12  14.37  14.49  14.37  14.47  13.929501   15800\n",
       " ...           ...    ...    ...    ...        ...     ...\n",
       " 2022-03-30  12.32  12.42  12.32  12.37  12.370000   30200\n",
       " 2022-03-31  12.41  12.60  12.41  12.57  12.570000   80500\n",
       " 2022-04-01  12.58  12.64  12.53  12.62  12.620000   34900\n",
       " 2022-04-04  12.60  12.69  12.58  12.64  12.640000   58600\n",
       " 2022-04-05  12.62  12.68  12.48  12.49  12.490000   36300\n",
       " \n",
       " [254 rows x 6 columns],\n",
       " Empty DataFrame\n",
       " Columns: [Open, High, Low, Close, Adj Close, Volume]\n",
       " Index: [],\n",
       " Empty DataFrame\n",
       " Columns: [Open, High, Low, Close, Adj Close, Volume]\n",
       " Index: [],\n",
       "              Open   High    Low  Close  Adj Close  Volume\n",
       " Date                                                     \n",
       " 2021-03-29  14.15  14.19  14.10  14.11  13.582947   37800\n",
       " 2021-03-30  14.10  14.25  14.10  14.22  13.688837   71600\n",
       " 2021-03-31  14.19  14.29  14.18  14.25  13.717716   18700\n",
       " 2021-04-01  14.39  14.39  14.27  14.30  13.765849   57300\n",
       " 2021-04-05  14.30  14.49  14.30  14.38  13.842861   51100\n",
       " ...           ...    ...    ...    ...        ...     ...\n",
       " 2022-03-22  12.42  12.42  12.35  12.38  12.380000   51200\n",
       " 2022-03-23  12.36  12.51  12.36  12.50  12.500000   82600\n",
       " 2022-03-24  12.49  12.50  12.40  12.47  12.470000   64400\n",
       " 2022-03-25  12.48  12.48  12.30  12.34  12.340000   78200\n",
       " 2022-03-28  12.30  12.40  12.18  12.20  12.200000   90400\n",
       " \n",
       " [253 rows x 6 columns],\n",
       " Empty DataFrame\n",
       " Columns: [Open, High, Low, Close, Adj Close, Volume]\n",
       " Index: [],\n",
       " Empty DataFrame\n",
       " Columns: [Open, High, Low, Close, Adj Close, Volume]\n",
       " Index: [],\n",
       " Empty DataFrame\n",
       " Columns: [Open, High, Low, Close, Adj Close, Volume]\n",
       " Index: [],\n",
       " Empty DataFrame\n",
       " Columns: [Open, High, Low, Close, Adj Close, Volume]\n",
       " Index: [],\n",
       "              Open   High    Low  Close  Adj Close  Volume\n",
       " Date                                                     \n",
       " 2021-03-23  14.03  14.04  13.92  13.92  13.400043   43800\n",
       " 2021-03-24  13.96  14.12  13.96  14.00  13.477057   28400\n",
       " 2021-03-25  14.12  14.14  14.05  14.13  13.602201   21500\n",
       " 2021-03-26  14.13  14.16  14.10  14.10  13.573320   14500\n",
       " 2021-03-29  14.15  14.19  14.10  14.11  13.582947   37800\n",
       " ...           ...    ...    ...    ...        ...     ...\n",
       " 2022-03-16  12.57  12.61  12.41  12.45  12.450000   65800\n",
       " 2022-03-17  12.45  12.52  12.38  12.43  12.430000   88400\n",
       " 2022-03-18  12.43  12.52  12.43  12.48  12.480000  125500\n",
       " 2022-03-21  12.45  12.45  12.32  12.39  12.390000   74300\n",
       " 2022-03-22  12.42  12.42  12.35  12.38  12.380000   51200\n",
       " \n",
       " [253 rows x 6 columns],\n",
       " Empty DataFrame\n",
       " Columns: [Open, High, Low, Close, Adj Close, Volume]\n",
       " Index: [],\n",
       "              Open   High    Low  Close  Adj Close  Volume\n",
       " Date                                                     \n",
       " 2021-03-23  14.03  14.04  13.92  13.92  13.400043   43800\n",
       " 2021-03-24  13.96  14.12  13.96  14.00  13.477057   28400\n",
       " 2021-03-25  14.12  14.14  14.05  14.13  13.602201   21500\n",
       " 2021-03-26  14.13  14.16  14.10  14.10  13.573320   14500\n",
       " 2021-03-29  14.15  14.19  14.10  14.11  13.582947   37800\n",
       " ...           ...    ...    ...    ...        ...     ...\n",
       " 2022-03-16  12.57  12.61  12.41  12.45  12.450000   65800\n",
       " 2022-03-17  12.45  12.52  12.38  12.43  12.430000   88400\n",
       " 2022-03-18  12.43  12.52  12.43  12.48  12.480000  125500\n",
       " 2022-03-21  12.45  12.45  12.32  12.39  12.390000   74300\n",
       " 2022-03-22  12.42  12.42  12.35  12.38  12.380000   51200\n",
       " \n",
       " [253 rows x 6 columns],\n",
       " Empty DataFrame\n",
       " Columns: [Open, High, Low, Close, Adj Close, Volume]\n",
       " Index: [],\n",
       " Empty DataFrame\n",
       " Columns: [Open, High, Low, Close, Adj Close, Volume]\n",
       " Index: [],\n",
       " Empty DataFrame\n",
       " Columns: [Open, High, Low, Close, Adj Close, Volume]\n",
       " Index: [],\n",
       " Empty DataFrame\n",
       " Columns: [Open, High, Low, Close, Adj Close, Volume]\n",
       " Index: [],\n",
       " Empty DataFrame\n",
       " Columns: [Open, High, Low, Close, Adj Close, Volume]\n",
       " Index: [],\n",
       " Empty DataFrame\n",
       " Columns: [Open, High, Low, Close, Adj Close, Volume]\n",
       " Index: [],\n",
       " Empty DataFrame\n",
       " Columns: [Open, High, Low, Close, Adj Close, Volume]\n",
       " Index: [],\n",
       " Empty DataFrame\n",
       " Columns: [Open, High, Low, Close, Adj Close, Volume]\n",
       " Index: [],\n",
       " Empty DataFrame\n",
       " Columns: [Open, High, Low, Close, Adj Close, Volume]\n",
       " Index: [],\n",
       "              Open   High    Low  Close  Adj Close  Volume\n",
       " Date                                                     \n",
       " 2021-03-22  13.99  14.07  13.99  14.06  13.534815   34100\n",
       " 2021-03-23  14.03  14.04  13.92  13.92  13.400043   43800\n",
       " 2021-03-24  13.96  14.12  13.96  14.00  13.477057   28400\n",
       " 2021-03-25  14.12  14.14  14.05  14.13  13.602201   21500\n",
       " 2021-03-26  14.13  14.16  14.10  14.10  13.573320   14500\n",
       " ...           ...    ...    ...    ...        ...     ...\n",
       " 2022-03-15  12.51  12.64  12.44  12.47  12.470000   64200\n",
       " 2022-03-16  12.57  12.61  12.41  12.45  12.450000   65800\n",
       " 2022-03-17  12.45  12.52  12.38  12.43  12.430000   88400\n",
       " 2022-03-18  12.43  12.52  12.43  12.48  12.480000  125500\n",
       " 2022-03-21  12.45  12.45  12.32  12.39  12.390000   74300\n",
       " \n",
       " [253 rows x 6 columns],\n",
       " Empty DataFrame\n",
       " Columns: [Open, High, Low, Close, Adj Close, Volume]\n",
       " Index: [],\n",
       " Empty DataFrame\n",
       " Columns: [Open, High, Low, Close, Adj Close, Volume]\n",
       " Index: [],\n",
       " Empty DataFrame\n",
       " Columns: [Open, High, Low, Close, Adj Close, Volume]\n",
       " Index: [],\n",
       " Empty DataFrame\n",
       " Columns: [Open, High, Low, Close, Adj Close, Volume]\n",
       " Index: [],\n",
       " Empty DataFrame\n",
       " Columns: [Open, High, Low, Close, Adj Close, Volume]\n",
       " Index: [],\n",
       " Empty DataFrame\n",
       " Columns: [Open, High, Low, Close, Adj Close, Volume]\n",
       " Index: [],\n",
       " Empty DataFrame\n",
       " Columns: [Open, High, Low, Close, Adj Close, Volume]\n",
       " Index: [],\n",
       " Empty DataFrame\n",
       " Columns: [Open, High, Low, Close, Adj Close, Volume]\n",
       " Index: [],\n",
       " Empty DataFrame\n",
       " Columns: [Open, High, Low, Close, Adj Close, Volume]\n",
       " Index: [],\n",
       " Empty DataFrame\n",
       " Columns: [Open, High, Low, Close, Adj Close, Volume]\n",
       " Index: [],\n",
       " Empty DataFrame\n",
       " Columns: [Open, High, Low, Close, Adj Close, Volume]\n",
       " Index: [],\n",
       " Empty DataFrame\n",
       " Columns: [Open, High, Low, Close, Adj Close, Volume]\n",
       " Index: [],\n",
       " Empty DataFrame\n",
       " Columns: [Open, High, Low, Close, Adj Close, Volume]\n",
       " Index: [],\n",
       "              Open   High    Low  Close  Adj Close  Volume\n",
       " Date                                                     \n",
       " 2021-03-17  14.03  14.05  13.92  14.02  13.496310   30500\n",
       " 2021-03-18  13.98  14.03  13.84  13.98  13.457803   52600\n",
       " 2021-03-19  13.98  14.10  13.89  14.10  13.573320   53500\n",
       " 2021-03-22  13.99  14.07  13.99  14.06  13.534815   34100\n",
       " 2021-03-23  14.03  14.04  13.92  13.92  13.400043   43800\n",
       " ...           ...    ...    ...    ...        ...     ...\n",
       " 2022-03-10  12.84  12.93  12.77  12.81  12.810000   42100\n",
       " 2022-03-11  12.74  12.77  12.63  12.64  12.640000   47500\n",
       " 2022-03-14  12.60  12.61  12.42  12.51  12.510000   85900\n",
       " 2022-03-15  12.51  12.64  12.44  12.47  12.470000   64200\n",
       " 2022-03-16  12.57  12.61  12.41  12.45  12.450000   65800\n",
       " \n",
       " [253 rows x 6 columns],\n",
       " Empty DataFrame\n",
       " Columns: [Open, High, Low, Close, Adj Close, Volume]\n",
       " Index: [],\n",
       " Empty DataFrame\n",
       " Columns: [Open, High, Low, Close, Adj Close, Volume]\n",
       " Index: [],\n",
       " Empty DataFrame\n",
       " Columns: [Open, High, Low, Close, Adj Close, Volume]\n",
       " Index: [],\n",
       " Empty DataFrame\n",
       " Columns: [Open, High, Low, Close, Adj Close, Volume]\n",
       " Index: [],\n",
       " Empty DataFrame\n",
       " Columns: [Open, High, Low, Close, Adj Close, Volume]\n",
       " Index: [],\n",
       " Empty DataFrame\n",
       " Columns: [Open, High, Low, Close, Adj Close, Volume]\n",
       " Index: [],\n",
       " Empty DataFrame\n",
       " Columns: [Open, High, Low, Close, Adj Close, Volume]\n",
       " Index: [],\n",
       " Empty DataFrame\n",
       " Columns: [Open, High, Low, Close, Adj Close, Volume]\n",
       " Index: [],\n",
       " Empty DataFrame\n",
       " Columns: [Open, High, Low, Close, Adj Close, Volume]\n",
       " Index: [],\n",
       " Empty DataFrame\n",
       " Columns: [Open, High, Low, Close, Adj Close, Volume]\n",
       " Index: [],\n",
       " Empty DataFrame\n",
       " Columns: [Open, High, Low, Close, Adj Close, Volume]\n",
       " Index: [],\n",
       " Empty DataFrame\n",
       " Columns: [Open, High, Low, Close, Adj Close, Volume]\n",
       " Index: [],\n",
       " Empty DataFrame\n",
       " Columns: [Open, High, Low, Close, Adj Close, Volume]\n",
       " Index: [],\n",
       " Empty DataFrame\n",
       " Columns: [Open, High, Low, Close, Adj Close, Volume]\n",
       " Index: [],\n",
       " Empty DataFrame\n",
       " Columns: [Open, High, Low, Close, Adj Close, Volume]\n",
       " Index: [],\n",
       " Empty DataFrame\n",
       " Columns: [Open, High, Low, Close, Adj Close, Volume]\n",
       " Index: [],\n",
       " Empty DataFrame\n",
       " Columns: [Open, High, Low, Close, Adj Close, Volume]\n",
       " Index: [],\n",
       " Empty DataFrame\n",
       " Columns: [Open, High, Low, Close, Adj Close, Volume]\n",
       " Index: [],\n",
       " Empty DataFrame\n",
       " Columns: [Open, High, Low, Close, Adj Close, Volume]\n",
       " Index: [],\n",
       " Empty DataFrame\n",
       " Columns: [Open, High, Low, Close, Adj Close, Volume]\n",
       " Index: [],\n",
       " Empty DataFrame\n",
       " Columns: [Open, High, Low, Close, Adj Close, Volume]\n",
       " Index: [],\n",
       " Empty DataFrame\n",
       " Columns: [Open, High, Low, Close, Adj Close, Volume]\n",
       " Index: [],\n",
       " Empty DataFrame\n",
       " Columns: [Open, High, Low, Close, Adj Close, Volume]\n",
       " Index: [],\n",
       " Empty DataFrame\n",
       " Columns: [Open, High, Low, Close, Adj Close, Volume]\n",
       " Index: [],\n",
       " Empty DataFrame\n",
       " Columns: [Open, High, Low, Close, Adj Close, Volume]\n",
       " Index: [],\n",
       " Empty DataFrame\n",
       " Columns: [Open, High, Low, Close, Adj Close, Volume]\n",
       " Index: [],\n",
       " Empty DataFrame\n",
       " Columns: [Open, High, Low, Close, Adj Close, Volume]\n",
       " Index: [],\n",
       " Empty DataFrame\n",
       " Columns: [Open, High, Low, Close, Adj Close, Volume]\n",
       " Index: [],\n",
       "              Open   High    Low  Close  Adj Close  Volume\n",
       " Date                                                     \n",
       " 2021-03-09  14.01  14.02  13.97  14.01  13.437014   17900\n",
       " 2021-03-10  14.02  14.08  13.94  14.05  13.475378   41100\n",
       " 2021-03-11  14.04  14.14  14.04  14.12  13.542517   22800\n",
       " 2021-03-12  14.06  14.06  13.93  13.98  13.457803   36200\n",
       " 2021-03-15  13.99  14.08  13.99  14.02  13.496310   29700\n",
       " ...           ...    ...    ...    ...        ...     ...\n",
       " 2022-03-02  13.39  13.39  13.20  13.20  13.200000   65800\n",
       " 2022-03-03  13.25  13.27  13.14  13.16  13.160000   29100\n",
       " 2022-03-04  13.16  13.16  13.07  13.15  13.150000   38000\n",
       " 2022-03-07  13.14  13.15  12.94  12.97  12.970000   55300\n",
       " 2022-03-08  12.94  12.97  12.78  12.89  12.890000   51200\n",
       " \n",
       " [253 rows x 6 columns],\n",
       " Empty DataFrame\n",
       " Columns: [Open, High, Low, Close, Adj Close, Volume]\n",
       " Index: [],\n",
       " Empty DataFrame\n",
       " Columns: [Open, High, Low, Close, Adj Close, Volume]\n",
       " Index: [],\n",
       " Empty DataFrame\n",
       " Columns: [Open, High, Low, Close, Adj Close, Volume]\n",
       " Index: [],\n",
       " Empty DataFrame\n",
       " Columns: [Open, High, Low, Close, Adj Close, Volume]\n",
       " Index: [],\n",
       " Empty DataFrame\n",
       " Columns: [Open, High, Low, Close, Adj Close, Volume]\n",
       " Index: [],\n",
       "              Open   High    Low  Close  Adj Close  Volume\n",
       " Date                                                     \n",
       " 2021-03-08  13.93  13.98  13.93  13.96  13.389058   16000\n",
       " 2021-03-09  14.01  14.02  13.97  14.01  13.437014   17900\n",
       " 2021-03-10  14.02  14.08  13.94  14.05  13.475378   41100\n",
       " 2021-03-11  14.04  14.14  14.04  14.12  13.542517   22800\n",
       " 2021-03-12  14.06  14.06  13.93  13.98  13.457803   36200\n",
       " ...           ...    ...    ...    ...        ...     ...\n",
       " 2022-03-01  13.29  13.48  13.29  13.46  13.460000   41300\n",
       " 2022-03-02  13.39  13.39  13.20  13.20  13.200000   65800\n",
       " 2022-03-03  13.25  13.27  13.14  13.16  13.160000   29100\n",
       " 2022-03-04  13.16  13.16  13.07  13.15  13.150000   38000\n",
       " 2022-03-07  13.14  13.15  12.94  12.97  12.970000   55300\n",
       " \n",
       " [253 rows x 6 columns],\n",
       "              Open   High    Low  Close  Adj Close  Volume\n",
       " Date                                                     \n",
       " 2021-03-08  13.93  13.98  13.93  13.96  13.389058   16000\n",
       " 2021-03-09  14.01  14.02  13.97  14.01  13.437014   17900\n",
       " 2021-03-10  14.02  14.08  13.94  14.05  13.475378   41100\n",
       " 2021-03-11  14.04  14.14  14.04  14.12  13.542517   22800\n",
       " 2021-03-12  14.06  14.06  13.93  13.98  13.457803   36200\n",
       " ...           ...    ...    ...    ...        ...     ...\n",
       " 2022-03-01  13.29  13.48  13.29  13.46  13.460000   41300\n",
       " 2022-03-02  13.39  13.39  13.20  13.20  13.200000   65800\n",
       " 2022-03-03  13.25  13.27  13.14  13.16  13.160000   29100\n",
       " 2022-03-04  13.16  13.16  13.07  13.15  13.150000   38000\n",
       " 2022-03-07  13.14  13.15  12.94  12.97  12.970000   55300\n",
       " \n",
       " [253 rows x 6 columns],\n",
       " Empty DataFrame\n",
       " Columns: [Open, High, Low, Close, Adj Close, Volume]\n",
       " Index: [],\n",
       " Empty DataFrame\n",
       " Columns: [Open, High, Low, Close, Adj Close, Volume]\n",
       " Index: [],\n",
       " Empty DataFrame\n",
       " Columns: [Open, High, Low, Close, Adj Close, Volume]\n",
       " Index: [],\n",
       " Empty DataFrame\n",
       " Columns: [Open, High, Low, Close, Adj Close, Volume]\n",
       " Index: [],\n",
       " Empty DataFrame\n",
       " Columns: [Open, High, Low, Close, Adj Close, Volume]\n",
       " Index: [],\n",
       " Empty DataFrame\n",
       " Columns: [Open, High, Low, Close, Adj Close, Volume]\n",
       " Index: [],\n",
       "              Open   High    Low  Close  Adj Close  Volume\n",
       " Date                                                     \n",
       " 2021-03-04  13.98  14.02  13.90  13.90  13.331514   25800\n",
       " 2021-03-05  13.89  13.94  13.83  13.93  13.360287   66600\n",
       " 2021-03-08  13.93  13.98  13.93  13.96  13.389058   16000\n",
       " 2021-03-09  14.01  14.02  13.97  14.01  13.437014   17900\n",
       " 2021-03-10  14.02  14.08  13.94  14.05  13.475378   41100\n",
       " ...           ...    ...    ...    ...        ...     ...\n",
       " 2022-02-25  13.00  13.04  12.96  13.01  13.010000   49600\n",
       " 2022-02-28  13.10  13.21  13.06  13.21  13.210000   27700\n",
       " 2022-03-01  13.29  13.48  13.29  13.46  13.460000   41300\n",
       " 2022-03-02  13.39  13.39  13.20  13.20  13.200000   65800\n",
       " 2022-03-03  13.25  13.27  13.14  13.16  13.160000   29100\n",
       " \n",
       " [253 rows x 6 columns],\n",
       " Empty DataFrame\n",
       " Columns: [Open, High, Low, Close, Adj Close, Volume]\n",
       " Index: [],\n",
       " Empty DataFrame\n",
       " Columns: [Open, High, Low, Close, Adj Close, Volume]\n",
       " Index: [],\n",
       " Empty DataFrame\n",
       " Columns: [Open, High, Low, Close, Adj Close, Volume]\n",
       " Index: [],\n",
       " Empty DataFrame\n",
       " Columns: [Open, High, Low, Close, Adj Close, Volume]\n",
       " Index: [],\n",
       " Empty DataFrame\n",
       " Columns: [Open, High, Low, Close, Adj Close, Volume]\n",
       " Index: [],\n",
       " Empty DataFrame\n",
       " Columns: [Open, High, Low, Close, Adj Close, Volume]\n",
       " Index: [],\n",
       " Empty DataFrame\n",
       " Columns: [Open, High, Low, Close, Adj Close, Volume]\n",
       " Index: [],\n",
       " Empty DataFrame\n",
       " Columns: [Open, High, Low, Close, Adj Close, Volume]\n",
       " Index: [],\n",
       " Empty DataFrame\n",
       " Columns: [Open, High, Low, Close, Adj Close, Volume]\n",
       " Index: [],\n",
       " Empty DataFrame\n",
       " Columns: [Open, High, Low, Close, Adj Close, Volume]\n",
       " Index: [],\n",
       " Empty DataFrame\n",
       " Columns: [Open, High, Low, Close, Adj Close, Volume]\n",
       " Index: [],\n",
       " Empty DataFrame\n",
       " Columns: [Open, High, Low, Close, Adj Close, Volume]\n",
       " Index: [],\n",
       "              Open   High    Low  Close  Adj Close  Volume\n",
       " Date                                                     \n",
       " 2021-03-03  14.08  14.10  13.90  13.93  13.360287  177300\n",
       " 2021-03-04  13.98  14.02  13.90  13.90  13.331514   25800\n",
       " 2021-03-05  13.89  13.94  13.83  13.93  13.360287   66600\n",
       " 2021-03-08  13.93  13.98  13.93  13.96  13.389058   16000\n",
       " 2021-03-09  14.01  14.02  13.97  14.01  13.437014   17900\n",
       " ...           ...    ...    ...    ...        ...     ...\n",
       " 2022-02-24  13.07  13.18  12.94  13.00  13.000000   67500\n",
       " 2022-02-25  13.00  13.04  12.96  13.01  13.010000   49600\n",
       " 2022-02-28  13.10  13.21  13.06  13.21  13.210000   27700\n",
       " 2022-03-01  13.29  13.48  13.29  13.46  13.460000   41300\n",
       " 2022-03-02  13.39  13.39  13.20  13.20  13.200000   65800\n",
       " \n",
       " [253 rows x 6 columns],\n",
       " Empty DataFrame\n",
       " Columns: [Open, High, Low, Close, Adj Close, Volume]\n",
       " Index: [],\n",
       " Empty DataFrame\n",
       " Columns: [Open, High, Low, Close, Adj Close, Volume]\n",
       " Index: [],\n",
       " Empty DataFrame\n",
       " Columns: [Open, High, Low, Close, Adj Close, Volume]\n",
       " Index: [],\n",
       " Empty DataFrame\n",
       " Columns: [Open, High, Low, Close, Adj Close, Volume]\n",
       " Index: [],\n",
       " Empty DataFrame\n",
       " Columns: [Open, High, Low, Close, Adj Close, Volume]\n",
       " Index: [],\n",
       " Empty DataFrame\n",
       " Columns: [Open, High, Low, Close, Adj Close, Volume]\n",
       " Index: [],\n",
       " Empty DataFrame\n",
       " Columns: [Open, High, Low, Close, Adj Close, Volume]\n",
       " Index: [],\n",
       " Empty DataFrame\n",
       " Columns: [Open, High, Low, Close, Adj Close, Volume]\n",
       " Index: [],\n",
       " Empty DataFrame\n",
       " Columns: [Open, High, Low, Close, Adj Close, Volume]\n",
       " Index: [],\n",
       " Empty DataFrame\n",
       " Columns: [Open, High, Low, Close, Adj Close, Volume]\n",
       " Index: [],\n",
       " Empty DataFrame\n",
       " Columns: [Open, High, Low, Close, Adj Close, Volume]\n",
       " Index: [],\n",
       " Empty DataFrame\n",
       " Columns: [Open, High, Low, Close, Adj Close, Volume]\n",
       " Index: [],\n",
       " Empty DataFrame\n",
       " Columns: [Open, High, Low, Close, Adj Close, Volume]\n",
       " Index: [],\n",
       " Empty DataFrame\n",
       " Columns: [Open, High, Low, Close, Adj Close, Volume]\n",
       " Index: [],\n",
       " Empty DataFrame\n",
       " Columns: [Open, High, Low, Close, Adj Close, Volume]\n",
       " Index: [],\n",
       " Empty DataFrame\n",
       " Columns: [Open, High, Low, Close, Adj Close, Volume]\n",
       " Index: [],\n",
       " Empty DataFrame\n",
       " Columns: [Open, High, Low, Close, Adj Close, Volume]\n",
       " Index: [],\n",
       " Empty DataFrame\n",
       " Columns: [Open, High, Low, Close, Adj Close, Volume]\n",
       " Index: [],\n",
       " Empty DataFrame\n",
       " Columns: [Open, High, Low, Close, Adj Close, Volume]\n",
       " Index: [],\n",
       " Empty DataFrame\n",
       " Columns: [Open, High, Low, Close, Adj Close, Volume]\n",
       " Index: [],\n",
       " Empty DataFrame\n",
       " Columns: [Open, High, Low, Close, Adj Close, Volume]\n",
       " Index: [],\n",
       " Empty DataFrame\n",
       " Columns: [Open, High, Low, Close, Adj Close, Volume]\n",
       " Index: [],\n",
       " Empty DataFrame\n",
       " Columns: [Open, High, Low, Close, Adj Close, Volume]\n",
       " Index: [],\n",
       " Empty DataFrame\n",
       " Columns: [Open, High, Low, Close, Adj Close, Volume]\n",
       " Index: [],\n",
       " Empty DataFrame\n",
       " Columns: [Open, High, Low, Close, Adj Close, Volume]\n",
       " Index: [],\n",
       " Empty DataFrame\n",
       " Columns: [Open, High, Low, Close, Adj Close, Volume]\n",
       " Index: [],\n",
       " Empty DataFrame\n",
       " Columns: [Open, High, Low, Close, Adj Close, Volume]\n",
       " Index: [],\n",
       " Empty DataFrame\n",
       " Columns: [Open, High, Low, Close, Adj Close, Volume]\n",
       " Index: [],\n",
       " Empty DataFrame\n",
       " Columns: [Open, High, Low, Close, Adj Close, Volume]\n",
       " Index: [],\n",
       "              Open   High    Low  Close  Adj Close  Volume\n",
       " Date                                                     \n",
       " 2021-02-25  13.97  14.04  13.77  13.88  13.312330   74400\n",
       " 2021-02-26  13.92  13.92  13.82  13.92  13.350695   54600\n",
       " 2021-03-01  13.97  14.17  13.95  14.05  13.475378   67800\n",
       " 2021-03-02  14.08  14.09  14.00  14.00  13.427423  229300\n",
       " 2021-03-03  14.08  14.10  13.90  13.93  13.360287  177300\n",
       " ...           ...    ...    ...    ...        ...     ...\n",
       " 2022-02-17  13.04  13.17  13.04  13.12  13.120000   68100\n",
       " 2022-02-18  13.08  13.22  13.08  13.19  13.190000   46500\n",
       " 2022-02-22  13.19  13.21  13.10  13.12  13.120000   74300\n",
       " 2022-02-23  13.13  13.24  13.02  13.04  13.040000   74300\n",
       " 2022-02-24  13.07  13.18  12.94  13.00  13.000000   67500\n",
       " \n",
       " [253 rows x 6 columns],\n",
       " Empty DataFrame\n",
       " Columns: [Open, High, Low, Close, Adj Close, Volume]\n",
       " Index: [],\n",
       " Empty DataFrame\n",
       " Columns: [Open, High, Low, Close, Adj Close, Volume]\n",
       " Index: [],\n",
       " Empty DataFrame\n",
       " Columns: [Open, High, Low, Close, Adj Close, Volume]\n",
       " Index: [],\n",
       " Empty DataFrame\n",
       " Columns: [Open, High, Low, Close, Adj Close, Volume]\n",
       " Index: [],\n",
       " Empty DataFrame\n",
       " Columns: [Open, High, Low, Close, Adj Close, Volume]\n",
       " Index: [],\n",
       " Empty DataFrame\n",
       " Columns: [Open, High, Low, Close, Adj Close, Volume]\n",
       " Index: [],\n",
       " Empty DataFrame\n",
       " Columns: [Open, High, Low, Close, Adj Close, Volume]\n",
       " Index: [],\n",
       " Empty DataFrame\n",
       " Columns: [Open, High, Low, Close, Adj Close, Volume]\n",
       " Index: [],\n",
       " Empty DataFrame\n",
       " Columns: [Open, High, Low, Close, Adj Close, Volume]\n",
       " Index: [],\n",
       " Empty DataFrame\n",
       " Columns: [Open, High, Low, Close, Adj Close, Volume]\n",
       " Index: [],\n",
       " Empty DataFrame\n",
       " Columns: [Open, High, Low, Close, Adj Close, Volume]\n",
       " Index: [],\n",
       " Empty DataFrame\n",
       " Columns: [Open, High, Low, Close, Adj Close, Volume]\n",
       " Index: [],\n",
       " Empty DataFrame\n",
       " Columns: [Open, High, Low, Close, Adj Close, Volume]\n",
       " Index: [],\n",
       " Empty DataFrame\n",
       " Columns: [Open, High, Low, Close, Adj Close, Volume]\n",
       " Index: [],\n",
       " Empty DataFrame\n",
       " Columns: [Open, High, Low, Close, Adj Close, Volume]\n",
       " Index: [],\n",
       " Empty DataFrame\n",
       " Columns: [Open, High, Low, Close, Adj Close, Volume]\n",
       " Index: [],\n",
       " Empty DataFrame\n",
       " Columns: [Open, High, Low, Close, Adj Close, Volume]\n",
       " Index: [],\n",
       " Empty DataFrame\n",
       " Columns: [Open, High, Low, Close, Adj Close, Volume]\n",
       " Index: [],\n",
       " Empty DataFrame\n",
       " Columns: [Open, High, Low, Close, Adj Close, Volume]\n",
       " Index: [],\n",
       " Empty DataFrame\n",
       " Columns: [Open, High, Low, Close, Adj Close, Volume]\n",
       " Index: [],\n",
       " Empty DataFrame\n",
       " Columns: [Open, High, Low, Close, Adj Close, Volume]\n",
       " Index: [],\n",
       " Empty DataFrame\n",
       " Columns: [Open, High, Low, Close, Adj Close, Volume]\n",
       " Index: [],\n",
       " Empty DataFrame\n",
       " Columns: [Open, High, Low, Close, Adj Close, Volume]\n",
       " Index: [],\n",
       " Empty DataFrame\n",
       " Columns: [Open, High, Low, Close, Adj Close, Volume]\n",
       " Index: [],\n",
       " Empty DataFrame\n",
       " Columns: [Open, High, Low, Close, Adj Close, Volume]\n",
       " Index: [],\n",
       " Empty DataFrame\n",
       " Columns: [Open, High, Low, Close, Adj Close, Volume]\n",
       " Index: [],\n",
       " Empty DataFrame\n",
       " Columns: [Open, High, Low, Close, Adj Close, Volume]\n",
       " Index: [],\n",
       " Empty DataFrame\n",
       " Columns: [Open, High, Low, Close, Adj Close, Volume]\n",
       " Index: [],\n",
       " Empty DataFrame\n",
       " Columns: [Open, High, Low, Close, Adj Close, Volume]\n",
       " Index: [],\n",
       " Empty DataFrame\n",
       " Columns: [Open, High, Low, Close, Adj Close, Volume]\n",
       " Index: [],\n",
       "              Open   High    Low  Close  Adj Close  Volume\n",
       " Date                                                     \n",
       " 2021-02-16  14.40  14.45  14.24  14.28  13.695971   43800\n",
       " 2021-02-17  14.33  14.33  14.22  14.23  13.648017   38100\n",
       " 2021-02-18  14.26  14.26  14.13  14.13  13.552108   38800\n",
       " 2021-02-19  14.16  14.16  14.03  14.06  13.484970   29100\n",
       " 2021-02-22  14.10  14.10  13.97  14.08  13.504151   71600\n",
       " ...           ...    ...    ...    ...        ...     ...\n",
       " 2022-02-09  13.35  13.37  13.30  13.33  13.280762   54100\n",
       " 2022-02-10  13.32  13.35  13.24  13.25  13.201056   44800\n",
       " 2022-02-11  13.24  13.24  13.06  13.13  13.081500   74200\n",
       " 2022-02-14  13.06  13.10  13.00  13.04  13.040000   86500\n",
       " 2022-02-15  13.11  13.11  12.98  13.04  13.040000   54300\n",
       " \n",
       " [254 rows x 6 columns],\n",
       " Empty DataFrame\n",
       " Columns: [Open, High, Low, Close, Adj Close, Volume]\n",
       " Index: [],\n",
       " Empty DataFrame\n",
       " Columns: [Open, High, Low, Close, Adj Close, Volume]\n",
       " Index: [],\n",
       " Empty DataFrame\n",
       " Columns: [Open, High, Low, Close, Adj Close, Volume]\n",
       " Index: [],\n",
       "              Open   High    Low  Close  Adj Close  Volume\n",
       " Date                                                     \n",
       " 2021-02-16  14.40  14.45  14.24  14.28  13.695971   43800\n",
       " 2021-02-17  14.33  14.33  14.22  14.23  13.648017   38100\n",
       " 2021-02-18  14.26  14.26  14.13  14.13  13.552108   38800\n",
       " 2021-02-19  14.16  14.16  14.03  14.06  13.484970   29100\n",
       " 2021-02-22  14.10  14.10  13.97  14.08  13.504151   71600\n",
       " ...           ...    ...    ...    ...        ...     ...\n",
       " 2022-02-09  13.35  13.37  13.30  13.33  13.280762   54100\n",
       " 2022-02-10  13.32  13.35  13.24  13.25  13.201056   44800\n",
       " 2022-02-11  13.24  13.24  13.06  13.13  13.081500   74200\n",
       " 2022-02-14  13.06  13.10  13.00  13.04  13.040000   86500\n",
       " 2022-02-15  13.11  13.11  12.98  13.04  13.040000   54300\n",
       " \n",
       " [254 rows x 6 columns],\n",
       " Empty DataFrame\n",
       " Columns: [Open, High, Low, Close, Adj Close, Volume]\n",
       " Index: [],\n",
       " Empty DataFrame\n",
       " Columns: [Open, High, Low, Close, Adj Close, Volume]\n",
       " Index: [],\n",
       " Empty DataFrame\n",
       " Columns: [Open, High, Low, Close, Adj Close, Volume]\n",
       " Index: [],\n",
       " Empty DataFrame\n",
       " Columns: [Open, High, Low, Close, Adj Close, Volume]\n",
       " Index: [],\n",
       " Empty DataFrame\n",
       " Columns: [Open, High, Low, Close, Adj Close, Volume]\n",
       " Index: [],\n",
       " Empty DataFrame\n",
       " Columns: [Open, High, Low, Close, Adj Close, Volume]\n",
       " Index: [],\n",
       " Empty DataFrame\n",
       " Columns: [Open, High, Low, Close, Adj Close, Volume]\n",
       " Index: [],\n",
       " Empty DataFrame\n",
       " Columns: [Open, High, Low, Close, Adj Close, Volume]\n",
       " Index: [],\n",
       " Empty DataFrame\n",
       " Columns: [Open, High, Low, Close, Adj Close, Volume]\n",
       " Index: [],\n",
       " Empty DataFrame\n",
       " Columns: [Open, High, Low, Close, Adj Close, Volume]\n",
       " Index: [],\n",
       " Empty DataFrame\n",
       " Columns: [Open, High, Low, Close, Adj Close, Volume]\n",
       " Index: [],\n",
       " Empty DataFrame\n",
       " Columns: [Open, High, Low, Close, Adj Close, Volume]\n",
       " Index: [],\n",
       " Empty DataFrame\n",
       " Columns: [Open, High, Low, Close, Adj Close, Volume]\n",
       " Index: [],\n",
       " Empty DataFrame\n",
       " Columns: [Open, High, Low, Close, Adj Close, Volume]\n",
       " Index: [],\n",
       " Empty DataFrame\n",
       " Columns: [Open, High, Low, Close, Adj Close, Volume]\n",
       " Index: [],\n",
       " Empty DataFrame\n",
       " Columns: [Open, High, Low, Close, Adj Close, Volume]\n",
       " Index: [],\n",
       " Empty DataFrame\n",
       " Columns: [Open, High, Low, Close, Adj Close, Volume]\n",
       " Index: [],\n",
       " Empty DataFrame\n",
       " Columns: [Open, High, Low, Close, Adj Close, Volume]\n",
       " Index: [],\n",
       " Empty DataFrame\n",
       " Columns: [Open, High, Low, Close, Adj Close, Volume]\n",
       " Index: [],\n",
       " Empty DataFrame\n",
       " Columns: [Open, High, Low, Close, Adj Close, Volume]\n",
       " Index: [],\n",
       " Empty DataFrame\n",
       " Columns: [Open, High, Low, Close, Adj Close, Volume]\n",
       " Index: [],\n",
       " Empty DataFrame\n",
       " Columns: [Open, High, Low, Close, Adj Close, Volume]\n",
       " Index: [],\n",
       " Empty DataFrame\n",
       " Columns: [Open, High, Low, Close, Adj Close, Volume]\n",
       " Index: [],\n",
       " Empty DataFrame\n",
       " Columns: [Open, High, Low, Close, Adj Close, Volume]\n",
       " Index: [],\n",
       " Empty DataFrame\n",
       " Columns: [Open, High, Low, Close, Adj Close, Volume]\n",
       " Index: [],\n",
       " Empty DataFrame\n",
       " Columns: [Open, High, Low, Close, Adj Close, Volume]\n",
       " Index: [],\n",
       " Empty DataFrame\n",
       " Columns: [Open, High, Low, Close, Adj Close, Volume]\n",
       " Index: [],\n",
       " Empty DataFrame\n",
       " Columns: [Open, High, Low, Close, Adj Close, Volume]\n",
       " Index: [],\n",
       " Empty DataFrame\n",
       " Columns: [Open, High, Low, Close, Adj Close, Volume]\n",
       " Index: [],\n",
       " Empty DataFrame\n",
       " Columns: [Open, High, Low, Close, Adj Close, Volume]\n",
       " Index: [],\n",
       " Empty DataFrame\n",
       " Columns: [Open, High, Low, Close, Adj Close, Volume]\n",
       " Index: [],\n",
       " Empty DataFrame\n",
       " Columns: [Open, High, Low, Close, Adj Close, Volume]\n",
       " Index: [],\n",
       " Empty DataFrame\n",
       " Columns: [Open, High, Low, Close, Adj Close, Volume]\n",
       " Index: [],\n",
       "              Open   High    Low  Close  Adj Close  Volume\n",
       " Date                                                     \n",
       " 2021-02-04  14.58  14.59  14.51  14.53  13.885876   27400\n",
       " 2021-02-05  14.46  14.55  14.46  14.53  13.885876   42700\n",
       " 2021-02-08  14.51  14.59  14.51  14.55  13.904986   63500\n",
       " 2021-02-09  14.59  14.62  14.51  14.54  13.895432   26800\n",
       " 2021-02-10  14.58  14.61  14.50  14.53  13.885876   20300\n",
       " ...           ...    ...    ...    ...        ...     ...\n",
       " 2022-01-28  13.42  13.55  13.37  13.40  13.350502   49500\n",
       " 2022-01-31  13.40  13.43  13.34  13.40  13.350502   42000\n",
       " 2022-02-01  13.45  13.54  13.38  13.51  13.460096   35400\n",
       " 2022-02-02  13.55  13.80  13.55  13.57  13.519875   41900\n",
       " 2022-02-03  13.57  13.64  13.44  13.48  13.430207   22200\n",
       " \n",
       " [253 rows x 6 columns],\n",
       " Empty DataFrame\n",
       " Columns: [Open, High, Low, Close, Adj Close, Volume]\n",
       " Index: [],\n",
       " Empty DataFrame\n",
       " Columns: [Open, High, Low, Close, Adj Close, Volume]\n",
       " Index: [],\n",
       " Empty DataFrame\n",
       " Columns: [Open, High, Low, Close, Adj Close, Volume]\n",
       " Index: [],\n",
       " Empty DataFrame\n",
       " Columns: [Open, High, Low, Close, Adj Close, Volume]\n",
       " Index: [],\n",
       " Empty DataFrame\n",
       " Columns: [Open, High, Low, Close, Adj Close, Volume]\n",
       " Index: [],\n",
       " Empty DataFrame\n",
       " Columns: [Open, High, Low, Close, Adj Close, Volume]\n",
       " Index: [],\n",
       " Empty DataFrame\n",
       " Columns: [Open, High, Low, Close, Adj Close, Volume]\n",
       " Index: [],\n",
       " Empty DataFrame\n",
       " Columns: [Open, High, Low, Close, Adj Close, Volume]\n",
       " Index: [],\n",
       " Empty DataFrame\n",
       " Columns: [Open, High, Low, Close, Adj Close, Volume]\n",
       " Index: [],\n",
       " Empty DataFrame\n",
       " Columns: [Open, High, Low, Close, Adj Close, Volume]\n",
       " Index: [],\n",
       " Empty DataFrame\n",
       " Columns: [Open, High, Low, Close, Adj Close, Volume]\n",
       " Index: [],\n",
       " Empty DataFrame\n",
       " Columns: [Open, High, Low, Close, Adj Close, Volume]\n",
       " Index: [],\n",
       " Empty DataFrame\n",
       " Columns: [Open, High, Low, Close, Adj Close, Volume]\n",
       " Index: [],\n",
       " Empty DataFrame\n",
       " Columns: [Open, High, Low, Close, Adj Close, Volume]\n",
       " Index: [],\n",
       " Empty DataFrame\n",
       " Columns: [Open, High, Low, Close, Adj Close, Volume]\n",
       " Index: [],\n",
       " Empty DataFrame\n",
       " Columns: [Open, High, Low, Close, Adj Close, Volume]\n",
       " Index: [],\n",
       " Empty DataFrame\n",
       " Columns: [Open, High, Low, Close, Adj Close, Volume]\n",
       " Index: [],\n",
       " Empty DataFrame\n",
       " Columns: [Open, High, Low, Close, Adj Close, Volume]\n",
       " Index: [],\n",
       " Empty DataFrame\n",
       " Columns: [Open, High, Low, Close, Adj Close, Volume]\n",
       " Index: [],\n",
       " Empty DataFrame\n",
       " Columns: [Open, High, Low, Close, Adj Close, Volume]\n",
       " Index: [],\n",
       " Empty DataFrame\n",
       " Columns: [Open, High, Low, Close, Adj Close, Volume]\n",
       " Index: [],\n",
       " Empty DataFrame\n",
       " Columns: [Open, High, Low, Close, Adj Close, Volume]\n",
       " Index: [],\n",
       " Empty DataFrame\n",
       " Columns: [Open, High, Low, Close, Adj Close, Volume]\n",
       " Index: [],\n",
       " Empty DataFrame\n",
       " Columns: [Open, High, Low, Close, Adj Close, Volume]\n",
       " Index: [],\n",
       " Empty DataFrame\n",
       " Columns: [Open, High, Low, Close, Adj Close, Volume]\n",
       " Index: [],\n",
       " Empty DataFrame\n",
       " Columns: [Open, High, Low, Close, Adj Close, Volume]\n",
       " Index: [],\n",
       " Empty DataFrame\n",
       " Columns: [Open, High, Low, Close, Adj Close, Volume]\n",
       " Index: [],\n",
       " Empty DataFrame\n",
       " Columns: [Open, High, Low, Close, Adj Close, Volume]\n",
       " Index: [],\n",
       " Empty DataFrame\n",
       " Columns: [Open, High, Low, Close, Adj Close, Volume]\n",
       " Index: [],\n",
       " Empty DataFrame\n",
       " Columns: [Open, High, Low, Close, Adj Close, Volume]\n",
       " Index: [],\n",
       " Empty DataFrame\n",
       " Columns: [Open, High, Low, Close, Adj Close, Volume]\n",
       " Index: [],\n",
       " Empty DataFrame\n",
       " Columns: [Open, High, Low, Close, Adj Close, Volume]\n",
       " Index: [],\n",
       " Empty DataFrame\n",
       " Columns: [Open, High, Low, Close, Adj Close, Volume]\n",
       " Index: [],\n",
       " Empty DataFrame\n",
       " Columns: [Open, High, Low, Close, Adj Close, Volume]\n",
       " Index: [],\n",
       " Empty DataFrame\n",
       " Columns: [Open, High, Low, Close, Adj Close, Volume]\n",
       " Index: [],\n",
       " Empty DataFrame\n",
       " Columns: [Open, High, Low, Close, Adj Close, Volume]\n",
       " Index: [],\n",
       "              Open   High    Low  Close  Adj Close  Volume\n",
       " Date                                                     \n",
       " 2021-01-26  14.39  14.42  14.18  14.35  13.713855   31600\n",
       " 2021-01-27  14.42  14.81  14.35  14.41  13.771195   68800\n",
       " 2021-01-28  14.41  14.55  14.41  14.49  13.847648   22700\n",
       " 2021-01-29  14.55  14.55  14.42  14.50  13.857203   42700\n",
       " 2021-02-01  14.55  14.60  14.50  14.54  13.895432   16800\n",
       " ...           ...    ...    ...    ...        ...     ...\n",
       " 2022-01-19  13.68  13.77  13.43  13.60  13.549765  113400\n",
       " 2022-01-20  13.65  13.75  13.55  13.56  13.509912   57400\n",
       " 2022-01-21  13.48  13.58  13.47  13.48  13.430207   51200\n",
       " 2022-01-24  13.52  13.64  13.34  13.44  13.390355   80000\n",
       " 2022-01-25  13.50  13.74  13.41  13.67  13.619506  100600\n",
       " \n",
       " [253 rows x 6 columns],\n",
       " Empty DataFrame\n",
       " Columns: [Open, High, Low, Close, Adj Close, Volume]\n",
       " Index: [],\n",
       "              Open   High    Low  Close  Adj Close  Volume\n",
       " Date                                                     \n",
       " 2021-01-25  14.48  14.48  14.38  14.43  13.790308   56300\n",
       " 2021-01-26  14.39  14.42  14.18  14.35  13.713855   31600\n",
       " 2021-01-27  14.42  14.81  14.35  14.41  13.771195   68800\n",
       " 2021-01-28  14.41  14.55  14.41  14.49  13.847648   22700\n",
       " 2021-01-29  14.55  14.55  14.42  14.50  13.857203   42700\n",
       " ...           ...    ...    ...    ...        ...     ...\n",
       " 2022-01-18  14.09  14.20  13.62  13.65  13.599579  148500\n",
       " 2022-01-19  13.68  13.77  13.43  13.60  13.549765  113400\n",
       " 2022-01-20  13.65  13.75  13.55  13.56  13.509912   57400\n",
       " 2022-01-21  13.48  13.58  13.47  13.48  13.430207   51200\n",
       " 2022-01-24  13.52  13.64  13.34  13.44  13.390355   80000\n",
       " \n",
       " [253 rows x 6 columns],\n",
       " Empty DataFrame\n",
       " Columns: [Open, High, Low, Close, Adj Close, Volume]\n",
       " Index: [],\n",
       " Empty DataFrame\n",
       " Columns: [Open, High, Low, Close, Adj Close, Volume]\n",
       " Index: [],\n",
       " Empty DataFrame\n",
       " Columns: [Open, High, Low, Close, Adj Close, Volume]\n",
       " Index: [],\n",
       " Empty DataFrame\n",
       " Columns: [Open, High, Low, Close, Adj Close, Volume]\n",
       " Index: [],\n",
       " Empty DataFrame\n",
       " Columns: [Open, High, Low, Close, Adj Close, Volume]\n",
       " Index: [],\n",
       " Empty DataFrame\n",
       " Columns: [Open, High, Low, Close, Adj Close, Volume]\n",
       " Index: [],\n",
       " Empty DataFrame\n",
       " Columns: [Open, High, Low, Close, Adj Close, Volume]\n",
       " Index: [],\n",
       " Empty DataFrame\n",
       " Columns: [Open, High, Low, Close, Adj Close, Volume]\n",
       " Index: [],\n",
       " Empty DataFrame\n",
       " Columns: [Open, High, Low, Close, Adj Close, Volume]\n",
       " Index: [],\n",
       " Empty DataFrame\n",
       " Columns: [Open, High, Low, Close, Adj Close, Volume]\n",
       " Index: [],\n",
       " Empty DataFrame\n",
       " Columns: [Open, High, Low, Close, Adj Close, Volume]\n",
       " Index: [],\n",
       " Empty DataFrame\n",
       " Columns: [Open, High, Low, Close, Adj Close, Volume]\n",
       " Index: [],\n",
       " Empty DataFrame\n",
       " Columns: [Open, High, Low, Close, Adj Close, Volume]\n",
       " Index: [],\n",
       " Empty DataFrame\n",
       " Columns: [Open, High, Low, Close, Adj Close, Volume]\n",
       " Index: [],\n",
       " Empty DataFrame\n",
       " Columns: [Open, High, Low, Close, Adj Close, Volume]\n",
       " Index: [],\n",
       " Empty DataFrame\n",
       " Columns: [Open, High, Low, Close, Adj Close, Volume]\n",
       " Index: [],\n",
       " Empty DataFrame\n",
       " Columns: [Open, High, Low, Close, Adj Close, Volume]\n",
       " Index: [],\n",
       " Empty DataFrame\n",
       " Columns: [Open, High, Low, Close, Adj Close, Volume]\n",
       " Index: [],\n",
       " Empty DataFrame\n",
       " Columns: [Open, High, Low, Close, Adj Close, Volume]\n",
       " Index: [],\n",
       " Empty DataFrame\n",
       " Columns: [Open, High, Low, Close, Adj Close, Volume]\n",
       " Index: [],\n",
       " Empty DataFrame\n",
       " Columns: [Open, High, Low, Close, Adj Close, Volume]\n",
       " Index: [],\n",
       " Empty DataFrame\n",
       " Columns: [Open, High, Low, Close, Adj Close, Volume]\n",
       " Index: [],\n",
       " Empty DataFrame\n",
       " Columns: [Open, High, Low, Close, Adj Close, Volume]\n",
       " Index: [],\n",
       " Empty DataFrame\n",
       " Columns: [Open, High, Low, Close, Adj Close, Volume]\n",
       " Index: [],\n",
       " Empty DataFrame\n",
       " Columns: [Open, High, Low, Close, Adj Close, Volume]\n",
       " Index: [],\n",
       " Empty DataFrame\n",
       " Columns: [Open, High, Low, Close, Adj Close, Volume]\n",
       " Index: [],\n",
       "              Open   High    Low  Close  Adj Close  Volume\n",
       " Date                                                     \n",
       " 2021-01-14  14.09  14.09  13.99  14.03  13.408038   13200\n",
       " 2021-01-15  14.11  14.11  14.05  14.06  13.436711   18700\n",
       " 2021-01-19  14.08  14.16  14.04  14.05  13.427154   35700\n",
       " 2021-01-20  14.07  14.21  14.07  14.21  13.580060   47200\n",
       " 2021-01-21  14.28  14.30  14.19  14.26  13.627843   45700\n",
       " ...           ...    ...    ...    ...        ...     ...\n",
       " 2022-01-07  14.45  14.45  14.37  14.39  14.288290    9900\n",
       " 2022-01-10  14.35  14.41  14.30  14.35  14.248572   18800\n",
       " 2022-01-11  14.50  14.50  14.30  14.34  14.238643   40500\n",
       " 2022-01-12  14.33  14.42  14.27  14.32  14.218783   36200\n",
       " 2022-01-13  14.32  14.35  14.13  14.15  14.097733   36300\n",
       " \n",
       " [253 rows x 6 columns],\n",
       " Empty DataFrame\n",
       " Columns: [Open, High, Low, Close, Adj Close, Volume]\n",
       " Index: [],\n",
       " Empty DataFrame\n",
       " Columns: [Open, High, Low, Close, Adj Close, Volume]\n",
       " Index: [],\n",
       " Empty DataFrame\n",
       " Columns: [Open, High, Low, Close, Adj Close, Volume]\n",
       " Index: [],\n",
       " Empty DataFrame\n",
       " Columns: [Open, High, Low, Close, Adj Close, Volume]\n",
       " Index: [],\n",
       " Empty DataFrame\n",
       " Columns: [Open, High, Low, Close, Adj Close, Volume]\n",
       " Index: [],\n",
       " Empty DataFrame\n",
       " Columns: [Open, High, Low, Close, Adj Close, Volume]\n",
       " Index: [],\n",
       " Empty DataFrame\n",
       " Columns: [Open, High, Low, Close, Adj Close, Volume]\n",
       " Index: [],\n",
       " Empty DataFrame\n",
       " Columns: [Open, High, Low, Close, Adj Close, Volume]\n",
       " Index: [],\n",
       " Empty DataFrame\n",
       " Columns: [Open, High, Low, Close, Adj Close, Volume]\n",
       " Index: [],\n",
       " Empty DataFrame\n",
       " Columns: [Open, High, Low, Close, Adj Close, Volume]\n",
       " Index: [],\n",
       " Empty DataFrame\n",
       " Columns: [Open, High, Low, Close, Adj Close, Volume]\n",
       " Index: [],\n",
       " Empty DataFrame\n",
       " Columns: [Open, High, Low, Close, Adj Close, Volume]\n",
       " Index: [],\n",
       " Empty DataFrame\n",
       " Columns: [Open, High, Low, Close, Adj Close, Volume]\n",
       " Index: [],\n",
       " Empty DataFrame\n",
       " Columns: [Open, High, Low, Close, Adj Close, Volume]\n",
       " Index: [],\n",
       " Empty DataFrame\n",
       " Columns: [Open, High, Low, Close, Adj Close, Volume]\n",
       " Index: [],\n",
       " Empty DataFrame\n",
       " Columns: [Open, High, Low, Close, Adj Close, Volume]\n",
       " Index: [],\n",
       " Empty DataFrame\n",
       " Columns: [Open, High, Low, Close, Adj Close, Volume]\n",
       " Index: [],\n",
       " Empty DataFrame\n",
       " Columns: [Open, High, Low, Close, Adj Close, Volume]\n",
       " Index: [],\n",
       " Empty DataFrame\n",
       " Columns: [Open, High, Low, Close, Adj Close, Volume]\n",
       " Index: [],\n",
       " Empty DataFrame\n",
       " Columns: [Open, High, Low, Close, Adj Close, Volume]\n",
       " Index: [],\n",
       " Empty DataFrame\n",
       " Columns: [Open, High, Low, Close, Adj Close, Volume]\n",
       " Index: [],\n",
       " Empty DataFrame\n",
       " Columns: [Open, High, Low, Close, Adj Close, Volume]\n",
       " Index: [],\n",
       " Empty DataFrame\n",
       " Columns: [Open, High, Low, Close, Adj Close, Volume]\n",
       " Index: [],\n",
       "              Open   High    Low  Close  Adj Close  Volume\n",
       " Date                                                     \n",
       " 2021-01-07  14.26  14.27  14.05  14.09  13.415543   54000\n",
       " 2021-01-08  14.21  14.21  14.08  14.09  13.415543   22700\n",
       " 2021-01-11  14.03  14.10  14.03  14.05  13.377459   30200\n",
       " 2021-01-12  14.13  14.13  14.03  14.03  13.358416   14200\n",
       " 2021-01-13  14.04  14.08  14.03  14.05  13.377459   18900\n",
       " ...           ...    ...    ...    ...        ...     ...\n",
       " 2021-12-31  14.98  14.98  14.72  14.79  14.685462   32400\n",
       " 2022-01-03  14.74  14.97  14.60  14.62  14.516664   35500\n",
       " 2022-01-04  14.60  14.63  14.53  14.56  14.457088   21500\n",
       " 2022-01-05  14.59  14.59  14.43  14.44  14.337935   62000\n",
       " 2022-01-06  14.48  14.58  14.39  14.39  14.288290   55300\n",
       " \n",
       " [253 rows x 6 columns],\n",
       " Empty DataFrame\n",
       " Columns: [Open, High, Low, Close, Adj Close, Volume]\n",
       " Index: [],\n",
       " Empty DataFrame\n",
       " Columns: [Open, High, Low, Close, Adj Close, Volume]\n",
       " Index: [],\n",
       " Empty DataFrame\n",
       " Columns: [Open, High, Low, Close, Adj Close, Volume]\n",
       " Index: [],\n",
       " Empty DataFrame\n",
       " Columns: [Open, High, Low, Close, Adj Close, Volume]\n",
       " Index: [],\n",
       " Empty DataFrame\n",
       " Columns: [Open, High, Low, Close, Adj Close, Volume]\n",
       " Index: [],\n",
       " Empty DataFrame\n",
       " Columns: [Open, High, Low, Close, Adj Close, Volume]\n",
       " Index: [],\n",
       " Empty DataFrame\n",
       " Columns: [Open, High, Low, Close, Adj Close, Volume]\n",
       " Index: [],\n",
       " Empty DataFrame\n",
       " Columns: [Open, High, Low, Close, Adj Close, Volume]\n",
       " Index: [],\n",
       " Empty DataFrame\n",
       " Columns: [Open, High, Low, Close, Adj Close, Volume]\n",
       " Index: [],\n",
       " Empty DataFrame\n",
       " Columns: [Open, High, Low, Close, Adj Close, Volume]\n",
       " Index: [],\n",
       " Empty DataFrame\n",
       " Columns: [Open, High, Low, Close, Adj Close, Volume]\n",
       " Index: [],\n",
       " Empty DataFrame\n",
       " Columns: [Open, High, Low, Close, Adj Close, Volume]\n",
       " Index: [],\n",
       "              Open   High    Low  Close  Adj Close  Volume\n",
       " Date                                                     \n",
       " 2021-01-06  14.26  14.28  14.10  14.19  13.510756   26300\n",
       " 2021-01-07  14.26  14.27  14.05  14.09  13.415543   54000\n",
       " 2021-01-08  14.21  14.21  14.08  14.09  13.415543   22700\n",
       " 2021-01-11  14.03  14.10  14.03  14.05  13.377459   30200\n",
       " 2021-01-12  14.13  14.13  14.03  14.03  13.358416   14200\n",
       " ...           ...    ...    ...    ...        ...     ...\n",
       " 2021-12-30  14.88  14.94  14.88  14.90  14.794684   24300\n",
       " 2021-12-31  14.98  14.98  14.72  14.79  14.685462   32400\n",
       " 2022-01-03  14.74  14.97  14.60  14.62  14.516664   35500\n",
       " 2022-01-04  14.60  14.63  14.53  14.56  14.457088   21500\n",
       " 2022-01-05  14.59  14.59  14.43  14.44  14.337935   62000\n",
       " \n",
       " [253 rows x 6 columns],\n",
       " Empty DataFrame\n",
       " Columns: [Open, High, Low, Close, Adj Close, Volume]\n",
       " Index: [],\n",
       " Empty DataFrame\n",
       " Columns: [Open, High, Low, Close, Adj Close, Volume]\n",
       " Index: [],\n",
       " Empty DataFrame\n",
       " Columns: [Open, High, Low, Close, Adj Close, Volume]\n",
       " Index: [],\n",
       " Empty DataFrame\n",
       " Columns: [Open, High, Low, Close, Adj Close, Volume]\n",
       " Index: [],\n",
       " Empty DataFrame\n",
       " Columns: [Open, High, Low, Close, Adj Close, Volume]\n",
       " Index: [],\n",
       " Empty DataFrame\n",
       " Columns: [Open, High, Low, Close, Adj Close, Volume]\n",
       " Index: [],\n",
       " Empty DataFrame\n",
       " Columns: [Open, High, Low, Close, Adj Close, Volume]\n",
       " Index: [],\n",
       " Empty DataFrame\n",
       " Columns: [Open, High, Low, Close, Adj Close, Volume]\n",
       " Index: [],\n",
       " Empty DataFrame\n",
       " Columns: [Open, High, Low, Close, Adj Close, Volume]\n",
       " Index: [],\n",
       " Empty DataFrame\n",
       " Columns: [Open, High, Low, Close, Adj Close, Volume]\n",
       " Index: [],\n",
       " Empty DataFrame\n",
       " Columns: [Open, High, Low, Close, Adj Close, Volume]\n",
       " Index: [],\n",
       " Empty DataFrame\n",
       " Columns: [Open, High, Low, Close, Adj Close, Volume]\n",
       " Index: [],\n",
       " Empty DataFrame\n",
       " Columns: [Open, High, Low, Close, Adj Close, Volume]\n",
       " Index: [],\n",
       " Empty DataFrame\n",
       " Columns: [Open, High, Low, Close, Adj Close, Volume]\n",
       " Index: [],\n",
       " Empty DataFrame\n",
       " Columns: [Open, High, Low, Close, Adj Close, Volume]\n",
       " Index: [],\n",
       " Empty DataFrame\n",
       " Columns: [Open, High, Low, Close, Adj Close, Volume]\n",
       " Index: [],\n",
       " Empty DataFrame\n",
       " Columns: [Open, High, Low, Close, Adj Close, Volume]\n",
       " Index: [],\n",
       " Empty DataFrame\n",
       " Columns: [Open, High, Low, Close, Adj Close, Volume]\n",
       " Index: [],\n",
       " Empty DataFrame\n",
       " Columns: [Open, High, Low, Close, Adj Close, Volume]\n",
       " Index: [],\n",
       " Empty DataFrame\n",
       " Columns: [Open, High, Low, Close, Adj Close, Volume]\n",
       " Index: [],\n",
       " Empty DataFrame\n",
       " Columns: [Open, High, Low, Close, Adj Close, Volume]\n",
       " Index: [],\n",
       " Empty DataFrame\n",
       " Columns: [Open, High, Low, Close, Adj Close, Volume]\n",
       " Index: [],\n",
       " Empty DataFrame\n",
       " Columns: [Open, High, Low, Close, Adj Close, Volume]\n",
       " Index: [],\n",
       " Empty DataFrame\n",
       " Columns: [Open, High, Low, Close, Adj Close, Volume]\n",
       " Index: [],\n",
       " Empty DataFrame\n",
       " Columns: [Open, High, Low, Close, Adj Close, Volume]\n",
       " Index: [],\n",
       " Empty DataFrame\n",
       " Columns: [Open, High, Low, Close, Adj Close, Volume]\n",
       " Index: [],\n",
       " Empty DataFrame\n",
       " Columns: [Open, High, Low, Close, Adj Close, Volume]\n",
       " Index: [],\n",
       " Empty DataFrame\n",
       " Columns: [Open, High, Low, Close, Adj Close, Volume]\n",
       " Index: [],\n",
       " Empty DataFrame\n",
       " Columns: [Open, High, Low, Close, Adj Close, Volume]\n",
       " Index: [],\n",
       " Empty DataFrame\n",
       " Columns: [Open, High, Low, Close, Adj Close, Volume]\n",
       " Index: [],\n",
       " Empty DataFrame\n",
       " Columns: [Open, High, Low, Close, Adj Close, Volume]\n",
       " Index: [],\n",
       " Empty DataFrame\n",
       " Columns: [Open, High, Low, Close, Adj Close, Volume]\n",
       " Index: [],\n",
       " Empty DataFrame\n",
       " Columns: [Open, High, Low, Close, Adj Close, Volume]\n",
       " Index: [],\n",
       " Empty DataFrame\n",
       " Columns: [Open, High, Low, Close, Adj Close, Volume]\n",
       " Index: [],\n",
       " Empty DataFrame\n",
       " Columns: [Open, High, Low, Close, Adj Close, Volume]\n",
       " Index: [],\n",
       " Empty DataFrame\n",
       " Columns: [Open, High, Low, Close, Adj Close, Volume]\n",
       " Index: [],\n",
       " Empty DataFrame\n",
       " Columns: [Open, High, Low, Close, Adj Close, Volume]\n",
       " Index: [],\n",
       " Empty DataFrame\n",
       " Columns: [Open, High, Low, Close, Adj Close, Volume]\n",
       " Index: [],\n",
       " Empty DataFrame\n",
       " Columns: [Open, High, Low, Close, Adj Close, Volume]\n",
       " Index: [],\n",
       " Empty DataFrame\n",
       " Columns: [Open, High, Low, Close, Adj Close, Volume]\n",
       " Index: [],\n",
       " Empty DataFrame\n",
       " Columns: [Open, High, Low, Close, Adj Close, Volume]\n",
       " Index: [],\n",
       " Empty DataFrame\n",
       " Columns: [Open, High, Low, Close, Adj Close, Volume]\n",
       " Index: [],\n",
       " Empty DataFrame\n",
       " Columns: [Open, High, Low, Close, Adj Close, Volume]\n",
       " Index: [],\n",
       " Empty DataFrame\n",
       " Columns: [Open, High, Low, Close, Adj Close, Volume]\n",
       " Index: [],\n",
       " Empty DataFrame\n",
       " Columns: [Open, High, Low, Close, Adj Close, Volume]\n",
       " Index: [],\n",
       " Empty DataFrame\n",
       " Columns: [Open, High, Low, Close, Adj Close, Volume]\n",
       " Index: [],\n",
       " Empty DataFrame\n",
       " Columns: [Open, High, Low, Close, Adj Close, Volume]\n",
       " Index: [],\n",
       " Empty DataFrame\n",
       " Columns: [Open, High, Low, Close, Adj Close, Volume]\n",
       " Index: [],\n",
       " Empty DataFrame\n",
       " Columns: [Open, High, Low, Close, Adj Close, Volume]\n",
       " Index: [],\n",
       " Empty DataFrame\n",
       " Columns: [Open, High, Low, Close, Adj Close, Volume]\n",
       " Index: [],\n",
       " Empty DataFrame\n",
       " Columns: [Open, High, Low, Close, Adj Close, Volume]\n",
       " Index: [],\n",
       " Empty DataFrame\n",
       " Columns: [Open, High, Low, Close, Adj Close, Volume]\n",
       " Index: [],\n",
       " Empty DataFrame\n",
       " Columns: [Open, High, Low, Close, Adj Close, Volume]\n",
       " Index: [],\n",
       " Empty DataFrame\n",
       " Columns: [Open, High, Low, Close, Adj Close, Volume]\n",
       " Index: [],\n",
       " Empty DataFrame\n",
       " Columns: [Open, High, Low, Close, Adj Close, Volume]\n",
       " Index: [],\n",
       " Empty DataFrame\n",
       " Columns: [Open, High, Low, Close, Adj Close, Volume]\n",
       " Index: [],\n",
       " Empty DataFrame\n",
       " Columns: [Open, High, Low, Close, Adj Close, Volume]\n",
       " Index: [],\n",
       " Empty DataFrame\n",
       " Columns: [Open, High, Low, Close, Adj Close, Volume]\n",
       " Index: [],\n",
       "              Open   High    Low  Close  Adj Close  Volume\n",
       " Date                                                     \n",
       " 2020-11-23  13.58  13.62  13.55  13.62  12.920451   67000\n",
       " 2020-11-24  13.69  13.70  13.61  13.65  12.948910   37300\n",
       " 2020-11-25  13.79  13.83  13.69  13.78  13.072233   86000\n",
       " 2020-11-27  13.83  13.85  13.82  13.85  13.138636   23400\n",
       " 2020-11-30  13.85  13.96  13.79  13.93  13.214529  100400\n",
       " ...           ...    ...    ...    ...        ...     ...\n",
       " 2021-11-16  14.68  14.68  14.43  14.49  14.339624   40300\n",
       " 2021-11-17  14.57  14.70  14.50  14.70  14.547444   27600\n",
       " 2021-11-18  14.67  14.72  14.66  14.69  14.537548   19400\n",
       " 2021-11-19  14.59  14.64  14.54  14.56  14.408897   24400\n",
       " 2021-11-22  14.64  14.70  14.53  14.59  14.438586   20700\n",
       " \n",
       " [252 rows x 6 columns],\n",
       "              Open   High    Low  Close  Adj Close  Volume\n",
       " Date                                                     \n",
       " 2020-11-23  13.58  13.62  13.55  13.62  12.920451   67000\n",
       " 2020-11-24  13.69  13.70  13.61  13.65  12.948910   37300\n",
       " 2020-11-25  13.79  13.83  13.69  13.78  13.072233   86000\n",
       " 2020-11-27  13.83  13.85  13.82  13.85  13.138636   23400\n",
       " 2020-11-30  13.85  13.96  13.79  13.93  13.214529  100400\n",
       " ...           ...    ...    ...    ...        ...     ...\n",
       " 2021-11-16  14.68  14.68  14.43  14.49  14.339624   40300\n",
       " 2021-11-17  14.57  14.70  14.50  14.70  14.547444   27600\n",
       " 2021-11-18  14.67  14.72  14.66  14.69  14.537548   19400\n",
       " 2021-11-19  14.59  14.64  14.54  14.56  14.408897   24400\n",
       " 2021-11-22  14.64  14.70  14.53  14.59  14.438586   20700\n",
       " \n",
       " [252 rows x 6 columns],\n",
       " Empty DataFrame\n",
       " Columns: [Open, High, Low, Close, Adj Close, Volume]\n",
       " Index: [],\n",
       " Empty DataFrame\n",
       " Columns: [Open, High, Low, Close, Adj Close, Volume]\n",
       " Index: [],\n",
       "              Open   High    Low  Close  Adj Close  Volume\n",
       " Date                                                     \n",
       " 2020-11-20  13.62  13.62  13.55  13.58  12.882505   45800\n",
       " 2020-11-23  13.58  13.62  13.55  13.62  12.920451   67000\n",
       " 2020-11-24  13.69  13.70  13.61  13.65  12.948910   37300\n",
       " 2020-11-25  13.79  13.83  13.69  13.78  13.072233   86000\n",
       " 2020-11-27  13.83  13.85  13.82  13.85  13.138636   23400\n",
       " ...           ...    ...    ...    ...        ...     ...\n",
       " 2021-11-15  14.72  14.72  14.57  14.64  14.488068   16000\n",
       " 2021-11-16  14.68  14.68  14.43  14.49  14.339624   40300\n",
       " 2021-11-17  14.57  14.70  14.50  14.70  14.547444   27600\n",
       " 2021-11-18  14.67  14.72  14.66  14.69  14.537548   19400\n",
       " 2021-11-19  14.59  14.64  14.54  14.56  14.408897   24400\n",
       " \n",
       " [252 rows x 6 columns],\n",
       " Empty DataFrame\n",
       " Columns: [Open, High, Low, Close, Adj Close, Volume]\n",
       " Index: [],\n",
       " Empty DataFrame\n",
       " Columns: [Open, High, Low, Close, Adj Close, Volume]\n",
       " Index: [],\n",
       " Empty DataFrame\n",
       " Columns: [Open, High, Low, Close, Adj Close, Volume]\n",
       " Index: [],\n",
       " Empty DataFrame\n",
       " Columns: [Open, High, Low, Close, Adj Close, Volume]\n",
       " Index: [],\n",
       "              Open   High    Low  Close  Adj Close  Volume\n",
       " Date                                                     \n",
       " 2020-11-18  13.51  13.56  13.50  13.53  12.835074   35000\n",
       " 2020-11-19  13.57  13.58  13.52  13.54  12.844562   67800\n",
       " 2020-11-20  13.62  13.62  13.55  13.58  12.882505   45800\n",
       " 2020-11-23  13.58  13.62  13.55  13.62  12.920451   67000\n",
       " 2020-11-24  13.69  13.70  13.61  13.65  12.948910   37300\n",
       " ...           ...    ...    ...    ...        ...     ...\n",
       " 2021-11-11  14.72  14.74  14.59  14.70  14.499448   16300\n",
       " 2021-11-12  14.67  14.74  14.67  14.74  14.587029    7300\n",
       " 2021-11-15  14.72  14.72  14.57  14.64  14.488068   16000\n",
       " 2021-11-16  14.68  14.68  14.43  14.49  14.339624   40300\n",
       " 2021-11-17  14.57  14.70  14.50  14.70  14.547444   27600\n",
       " \n",
       " [252 rows x 6 columns],\n",
       " Empty DataFrame\n",
       " Columns: [Open, High, Low, Close, Adj Close, Volume]\n",
       " Index: [],\n",
       " Empty DataFrame\n",
       " Columns: [Open, High, Low, Close, Adj Close, Volume]\n",
       " Index: [],\n",
       "              Open   High    Low  Close  Adj Close  Volume\n",
       " Date                                                     \n",
       " 2020-11-18  13.51  13.56  13.50  13.53  12.835074   35000\n",
       " 2020-11-19  13.57  13.58  13.52  13.54  12.844562   67800\n",
       " 2020-11-20  13.62  13.62  13.55  13.58  12.882505   45800\n",
       " 2020-11-23  13.58  13.62  13.55  13.62  12.920451   67000\n",
       " 2020-11-24  13.69  13.70  13.61  13.65  12.948910   37300\n",
       " ...           ...    ...    ...    ...        ...     ...\n",
       " 2021-11-11  14.72  14.74  14.59  14.70  14.499448   16300\n",
       " 2021-11-12  14.67  14.74  14.67  14.74  14.587029    7300\n",
       " 2021-11-15  14.72  14.72  14.57  14.64  14.488068   16000\n",
       " 2021-11-16  14.68  14.68  14.43  14.49  14.339624   40300\n",
       " 2021-11-17  14.57  14.70  14.50  14.70  14.547444   27600\n",
       " \n",
       " [252 rows x 6 columns],\n",
       "              Open   High    Low  Close  Adj Close  Volume\n",
       " Date                                                     \n",
       " 2020-11-18  13.51  13.56  13.50  13.53  12.835074   35000\n",
       " 2020-11-19  13.57  13.58  13.52  13.54  12.844562   67800\n",
       " 2020-11-20  13.62  13.62  13.55  13.58  12.882505   45800\n",
       " 2020-11-23  13.58  13.62  13.55  13.62  12.920451   67000\n",
       " 2020-11-24  13.69  13.70  13.61  13.65  12.948910   37300\n",
       " ...           ...    ...    ...    ...        ...     ...\n",
       " 2021-11-11  14.72  14.74  14.59  14.70  14.499448   16300\n",
       " 2021-11-12  14.67  14.74  14.67  14.74  14.587029    7300\n",
       " 2021-11-15  14.72  14.72  14.57  14.64  14.488068   16000\n",
       " 2021-11-16  14.68  14.68  14.43  14.49  14.339624   40300\n",
       " 2021-11-17  14.57  14.70  14.50  14.70  14.547444   27600\n",
       " \n",
       " [252 rows x 6 columns],\n",
       " Empty DataFrame\n",
       " Columns: [Open, High, Low, Close, Adj Close, Volume]\n",
       " Index: [],\n",
       " Empty DataFrame\n",
       " Columns: [Open, High, Low, Close, Adj Close, Volume]\n",
       " Index: [],\n",
       " Empty DataFrame\n",
       " Columns: [Open, High, Low, Close, Adj Close, Volume]\n",
       " Index: [],\n",
       " Empty DataFrame\n",
       " Columns: [Open, High, Low, Close, Adj Close, Volume]\n",
       " Index: [],\n",
       "              Open   High    Low  Close  Adj Close  Volume\n",
       " Date                                                     \n",
       " 2020-11-16  13.49  13.52  13.45  13.51  12.816100   26500\n",
       " 2020-11-17  13.47  13.57  13.47  13.48  12.787641   55100\n",
       " 2020-11-18  13.51  13.56  13.50  13.53  12.835074   35000\n",
       " 2020-11-19  13.57  13.58  13.52  13.54  12.844562   67800\n",
       " 2020-11-20  13.62  13.62  13.55  13.58  12.882505   45800\n",
       " ...           ...    ...    ...    ...        ...     ...\n",
       " 2021-11-09  14.72  14.73  14.68  14.73  14.529037   13800\n",
       " 2021-11-10  14.70  14.74  14.60  14.67  14.469857   21000\n",
       " 2021-11-11  14.72  14.74  14.59  14.70  14.499448   16300\n",
       " 2021-11-12  14.67  14.74  14.67  14.74  14.587029    7300\n",
       " 2021-11-15  14.72  14.72  14.57  14.64  14.488068   16000\n",
       " \n",
       " [252 rows x 6 columns],\n",
       " Empty DataFrame\n",
       " Columns: [Open, High, Low, Close, Adj Close, Volume]\n",
       " Index: [],\n",
       " Empty DataFrame\n",
       " Columns: [Open, High, Low, Close, Adj Close, Volume]\n",
       " Index: [],\n",
       " Empty DataFrame\n",
       " Columns: [Open, High, Low, Close, Adj Close, Volume]\n",
       " Index: [],\n",
       " Empty DataFrame\n",
       " Columns: [Open, High, Low, Close, Adj Close, Volume]\n",
       " Index: [],\n",
       " Empty DataFrame\n",
       " Columns: [Open, High, Low, Close, Adj Close, Volume]\n",
       " Index: [],\n",
       " Empty DataFrame\n",
       " Columns: [Open, High, Low, Close, Adj Close, Volume]\n",
       " Index: [],\n",
       "              Open   High    Low  Close  Adj Close  Volume\n",
       " Date                                                     \n",
       " 2020-11-09  13.65  13.80  13.56  13.56  12.814204   48100\n",
       " 2020-11-10  13.57  13.62  13.46  13.53  12.785854   53000\n",
       " 2020-11-11  13.49  13.56  13.48  13.56  12.814204   24600\n",
       " 2020-11-12  13.45  13.55  13.40  13.41  12.721236   48800\n",
       " 2020-11-13  13.45  13.49  13.42  13.45  12.759183   63100\n",
       " ...           ...    ...    ...    ...        ...     ...\n",
       " 2021-11-02  14.24  14.33  14.24  14.31  14.114769   39800\n",
       " 2021-11-03  14.32  14.35  14.24  14.28  14.085177   80500\n",
       " 2021-11-04  14.35  14.38  14.26  14.38  14.183814   50400\n",
       " 2021-11-05  14.46  14.55  14.44  14.48  14.282449   46400\n",
       " 2021-11-08  14.56  14.73  14.50  14.69  14.489584   92300\n",
       " \n",
       " [252 rows x 6 columns],\n",
       " Empty DataFrame\n",
       " Columns: [Open, High, Low, Close, Adj Close, Volume]\n",
       " Index: [],\n",
       " Empty DataFrame\n",
       " Columns: [Open, High, Low, Close, Adj Close, Volume]\n",
       " Index: [],\n",
       " Empty DataFrame\n",
       " Columns: [Open, High, Low, Close, Adj Close, Volume]\n",
       " Index: [],\n",
       " Empty DataFrame\n",
       " Columns: [Open, High, Low, Close, Adj Close, Volume]\n",
       " Index: [],\n",
       "              Open   High    Low  Close  Adj Close  Volume\n",
       " Date                                                     \n",
       " 2020-10-29  13.36  13.36  13.28  13.30  12.568506   39900\n",
       " 2020-10-30  13.28  13.30  13.22  13.30  12.568506   53000\n",
       " 2020-11-02  13.30  13.30  13.24  13.27  12.540155   66300\n",
       " 2020-11-03  13.30  13.35  13.22  13.25  12.521253   82100\n",
       " 2020-11-04  13.29  13.45  13.29  13.44  12.700805   32600\n",
       " ...           ...    ...    ...    ...        ...     ...\n",
       " 2021-10-22  14.37  14.47  14.29  14.43  14.233132   56400\n",
       " 2021-10-25  14.44  14.44  14.22  14.25  14.055588   31200\n",
       " 2021-10-26  14.23  14.37  14.11  14.20  14.006269   38500\n",
       " 2021-10-27  14.22  14.28  14.14  14.22  14.025997   54200\n",
       " 2021-10-28  14.25  14.25  14.17  14.22  14.025997   38900\n",
       " \n",
       " [252 rows x 6 columns],\n",
       " Empty DataFrame\n",
       " Columns: [Open, High, Low, Close, Adj Close, Volume]\n",
       " Index: [],\n",
       " Empty DataFrame\n",
       " Columns: [Open, High, Low, Close, Adj Close, Volume]\n",
       " Index: [],\n",
       " Empty DataFrame\n",
       " Columns: [Open, High, Low, Close, Adj Close, Volume]\n",
       " Index: [],\n",
       " Empty DataFrame\n",
       " Columns: [Open, High, Low, Close, Adj Close, Volume]\n",
       " Index: [],\n",
       " Empty DataFrame\n",
       " Columns: [Open, High, Low, Close, Adj Close, Volume]\n",
       " Index: [],\n",
       " Empty DataFrame\n",
       " Columns: [Open, High, Low, Close, Adj Close, Volume]\n",
       " Index: [],\n",
       " Empty DataFrame\n",
       " Columns: [Open, High, Low, Close, Adj Close, Volume]\n",
       " Index: [],\n",
       "              Open   High    Low  Close  Adj Close  Volume\n",
       " Date                                                     \n",
       " 2020-10-22  13.67  13.73  13.56  13.69  12.937056   29500\n",
       " 2020-10-23  13.62  13.68  13.53  13.54  12.795305   22600\n",
       " 2020-10-26  13.52  13.57  13.45  13.47  12.729155   22300\n",
       " 2020-10-27  13.46  13.58  13.40  13.50  12.757505   23300\n",
       " 2020-10-28  13.38  13.50  13.32  13.35  12.615756   43700\n",
       " ...           ...    ...    ...    ...        ...     ...\n",
       " 2021-10-15  14.77  14.85  14.66  14.75  14.548765   20900\n",
       " 2021-10-18  14.74  14.74  14.45  14.46  14.262722   76300\n",
       " 2021-10-19  14.47  14.50  14.38  14.39  14.193679   39600\n",
       " 2021-10-20  14.40  14.43  14.36  14.38  14.183814   19900\n",
       " 2021-10-21  14.38  14.40  14.23  14.30  14.104905   54800\n",
       " \n",
       " [252 rows x 6 columns],\n",
       " Empty DataFrame\n",
       " Columns: [Open, High, Low, Close, Adj Close, Volume]\n",
       " Index: [],\n",
       " Empty DataFrame\n",
       " Columns: [Open, High, Low, Close, Adj Close, Volume]\n",
       " Index: [],\n",
       " Empty DataFrame\n",
       " Columns: [Open, High, Low, Close, Adj Close, Volume]\n",
       " Index: [],\n",
       " Empty DataFrame\n",
       " Columns: [Open, High, Low, Close, Adj Close, Volume]\n",
       " Index: [],\n",
       "              Open   High    Low  Close  Adj Close  Volume\n",
       " Date                                                     \n",
       " 2020-10-21  13.74  13.74  13.61  13.69  12.937056   24200\n",
       " 2020-10-22  13.67  13.73  13.56  13.69  12.937056   29500\n",
       " 2020-10-23  13.62  13.68  13.53  13.54  12.795305   22600\n",
       " 2020-10-26  13.52  13.57  13.45  13.47  12.729155   22300\n",
       " 2020-10-27  13.46  13.58  13.40  13.50  12.757505   23300\n",
       " ...           ...    ...    ...    ...        ...     ...\n",
       " 2021-10-14  14.73  14.79  14.70  14.72  14.519176   17700\n",
       " 2021-10-15  14.77  14.85  14.66  14.75  14.548765   20900\n",
       " 2021-10-18  14.74  14.74  14.45  14.46  14.262722   76300\n",
       " 2021-10-19  14.47  14.50  14.38  14.39  14.193679   39600\n",
       " 2021-10-20  14.40  14.43  14.36  14.38  14.183814   19900\n",
       " \n",
       " [252 rows x 6 columns],\n",
       "              Open   High    Low  Close  Adj Close  Volume\n",
       " Date                                                     \n",
       " 2020-10-21  13.74  13.74  13.61  13.69  12.937056   24200\n",
       " 2020-10-22  13.67  13.73  13.56  13.69  12.937056   29500\n",
       " 2020-10-23  13.62  13.68  13.53  13.54  12.795305   22600\n",
       " 2020-10-26  13.52  13.57  13.45  13.47  12.729155   22300\n",
       " 2020-10-27  13.46  13.58  13.40  13.50  12.757505   23300\n",
       " ...           ...    ...    ...    ...        ...     ...\n",
       " 2021-10-14  14.73  14.79  14.70  14.72  14.519176   17700\n",
       " 2021-10-15  14.77  14.85  14.66  14.75  14.548765   20900\n",
       " 2021-10-18  14.74  14.74  14.45  14.46  14.262722   76300\n",
       " 2021-10-19  14.47  14.50  14.38  14.39  14.193679   39600\n",
       " 2021-10-20  14.40  14.43  14.36  14.38  14.183814   19900\n",
       " \n",
       " [252 rows x 6 columns],\n",
       " Empty DataFrame\n",
       " Columns: [Open, High, Low, Close, Adj Close, Volume]\n",
       " Index: [],\n",
       " Empty DataFrame\n",
       " Columns: [Open, High, Low, Close, Adj Close, Volume]\n",
       " Index: [],\n",
       " Empty DataFrame\n",
       " Columns: [Open, High, Low, Close, Adj Close, Volume]\n",
       " Index: [],\n",
       "              Open   High    Low  Close  Adj Close  Volume\n",
       " Date                                                     \n",
       " 2020-10-20  13.70  13.85  13.60  13.85  13.088252   25600\n",
       " 2020-10-21  13.74  13.74  13.61  13.69  12.937056   24200\n",
       " 2020-10-22  13.67  13.73  13.56  13.69  12.937056   29500\n",
       " 2020-10-23  13.62  13.68  13.53  13.54  12.795305   22600\n",
       " 2020-10-26  13.52  13.57  13.45  13.47  12.729155   22300\n",
       " ...           ...    ...    ...    ...        ...     ...\n",
       " 2021-10-13  14.75  14.80  14.68  14.79  14.540381   21000\n",
       " 2021-10-14  14.73  14.79  14.70  14.72  14.519176   17700\n",
       " 2021-10-15  14.77  14.85  14.66  14.75  14.548765   20900\n",
       " 2021-10-18  14.74  14.74  14.45  14.46  14.262722   76300\n",
       " 2021-10-19  14.47  14.50  14.38  14.39  14.193679   39600\n",
       " \n",
       " [252 rows x 6 columns],\n",
       " Empty DataFrame\n",
       " Columns: [Open, High, Low, Close, Adj Close, Volume]\n",
       " Index: [],\n",
       " Empty DataFrame\n",
       " Columns: [Open, High, Low, Close, Adj Close, Volume]\n",
       " Index: [],\n",
       " Empty DataFrame\n",
       " Columns: [Open, High, Low, Close, Adj Close, Volume]\n",
       " Index: [],\n",
       " Empty DataFrame\n",
       " Columns: [Open, High, Low, Close, Adj Close, Volume]\n",
       " Index: [],\n",
       "              Open   High    Low  Close  Adj Close  Volume\n",
       " Date                                                     \n",
       " 2020-10-19  13.61  13.74  13.60  13.74  12.984303   32900\n",
       " 2020-10-20  13.70  13.85  13.60  13.85  13.088252   25600\n",
       " 2020-10-21  13.74  13.74  13.61  13.69  12.937056   24200\n",
       " 2020-10-22  13.67  13.73  13.56  13.69  12.937056   29500\n",
       " 2020-10-23  13.62  13.68  13.53  13.54  12.795305   22600\n",
       " ...           ...    ...    ...    ...        ...     ...\n",
       " 2021-10-12  14.85  14.85  14.65  14.75  14.501057   31000\n",
       " 2021-10-13  14.75  14.80  14.68  14.79  14.540381   21000\n",
       " 2021-10-14  14.73  14.79  14.70  14.72  14.519176   17700\n",
       " 2021-10-15  14.77  14.85  14.66  14.75  14.548765   20900\n",
       " 2021-10-18  14.74  14.74  14.45  14.46  14.262722   76300\n",
       " \n",
       " [252 rows x 6 columns],\n",
       " Empty DataFrame\n",
       " Columns: [Open, High, Low, Close, Adj Close, Volume]\n",
       " Index: [],\n",
       " Empty DataFrame\n",
       " Columns: [Open, High, Low, Close, Adj Close, Volume]\n",
       " Index: [],\n",
       " Empty DataFrame\n",
       " Columns: [Open, High, Low, Close, Adj Close, Volume]\n",
       " Index: [],\n",
       " Empty DataFrame\n",
       " Columns: [Open, High, Low, Close, Adj Close, Volume]\n",
       " Index: [],\n",
       "              Open   High    Low  Close  Adj Close  Volume\n",
       " Date                                                     \n",
       " 2020-10-13  13.61  13.74  13.61  13.70  12.897363   23000\n",
       " 2020-10-14  13.60  13.74  13.60  13.67  12.918155   13700\n",
       " 2020-10-15  13.67  13.67  13.51  13.51  12.766953   34000\n",
       " 2020-10-16  13.48  13.65  13.46  13.60  12.852003   18100\n",
       " 2020-10-19  13.61  13.74  13.60  13.74  12.984303   32900\n",
       " ...           ...    ...    ...    ...        ...     ...\n",
       " 2021-10-06  14.64  14.64  14.44  14.57  14.324094   34500\n",
       " 2021-10-07  14.62  14.75  14.59  14.70  14.451900   47400\n",
       " 2021-10-08  14.69  14.72  14.63  14.71  14.461732   11500\n",
       " 2021-10-11  14.74  14.88  14.69  14.88  14.628863   16800\n",
       " 2021-10-12  14.85  14.85  14.65  14.75  14.501057   31000\n",
       " \n",
       " [252 rows x 6 columns],\n",
       " Empty DataFrame\n",
       " Columns: [Open, High, Low, Close, Adj Close, Volume]\n",
       " Index: [],\n",
       " Empty DataFrame\n",
       " Columns: [Open, High, Low, Close, Adj Close, Volume]\n",
       " Index: [],\n",
       " Empty DataFrame\n",
       " Columns: [Open, High, Low, Close, Adj Close, Volume]\n",
       " Index: [],\n",
       "              Open   High    Low  Close  Adj Close  Volume\n",
       " Date                                                     \n",
       " 2020-10-08  13.58  13.63  13.54  13.63  12.831465   55100\n",
       " 2020-10-09  13.66  13.68  13.58  13.64  12.840880   18000\n",
       " 2020-10-12  13.73  13.73  13.60  13.64  12.840880   20000\n",
       " 2020-10-13  13.61  13.74  13.61  13.70  12.897363   23000\n",
       " 2020-10-14  13.60  13.74  13.60  13.67  12.918155   13700\n",
       " ...           ...    ...    ...    ...        ...     ...\n",
       " 2021-10-01  14.85  14.90  14.71  14.80  14.550213   23700\n",
       " 2021-10-04  14.84  14.84  14.52  14.52  14.274939   55400\n",
       " 2021-10-05  14.60  14.70  14.56  14.60  14.353588   32400\n",
       " 2021-10-06  14.64  14.64  14.44  14.57  14.324094   34500\n",
       " 2021-10-07  14.62  14.75  14.59  14.70  14.451900   47400\n",
       " \n",
       " [252 rows x 6 columns],\n",
       " Empty DataFrame\n",
       " Columns: [Open, High, Low, Close, Adj Close, Volume]\n",
       " Index: [],\n",
       " Empty DataFrame\n",
       " Columns: [Open, High, Low, Close, Adj Close, Volume]\n",
       " Index: [],\n",
       " Empty DataFrame\n",
       " Columns: [Open, High, Low, Close, Adj Close, Volume]\n",
       " Index: [],\n",
       "              Open   High    Low  Close  Adj Close  Volume\n",
       " Date                                                     \n",
       " 2020-10-06  13.50  13.53  13.45  13.45  12.662011   28300\n",
       " 2020-10-07  13.45  13.55  13.44  13.51  12.718494   54800\n",
       " 2020-10-08  13.58  13.63  13.54  13.63  12.831465   55100\n",
       " 2020-10-09  13.66  13.68  13.58  13.64  12.840880   18000\n",
       " 2020-10-12  13.73  13.73  13.60  13.64  12.840880   20000\n",
       " ...           ...    ...    ...    ...        ...     ...\n",
       " 2021-09-29  14.83  14.83  14.77  14.79  14.540381   13400\n",
       " 2021-09-30  14.85  14.85  14.69  14.72  14.471563   27900\n",
       " 2021-10-01  14.85  14.90  14.71  14.80  14.550213   23700\n",
       " 2021-10-04  14.84  14.84  14.52  14.52  14.274939   55400\n",
       " 2021-10-05  14.60  14.70  14.56  14.60  14.353588   32400\n",
       " \n",
       " [252 rows x 6 columns],\n",
       "              Open   High    Low  Close  Adj Close  Volume\n",
       " Date                                                     \n",
       " 2020-10-06  13.50  13.53  13.45  13.45  12.662011   28300\n",
       " 2020-10-07  13.45  13.55  13.44  13.51  12.718494   54800\n",
       " 2020-10-08  13.58  13.63  13.54  13.63  12.831465   55100\n",
       " 2020-10-09  13.66  13.68  13.58  13.64  12.840880   18000\n",
       " 2020-10-12  13.73  13.73  13.60  13.64  12.840880   20000\n",
       " ...           ...    ...    ...    ...        ...     ...\n",
       " 2021-09-29  14.83  14.83  14.77  14.79  14.540381   13400\n",
       " 2021-09-30  14.85  14.85  14.69  14.72  14.471563   27900\n",
       " 2021-10-01  14.85  14.90  14.71  14.80  14.550213   23700\n",
       " 2021-10-04  14.84  14.84  14.52  14.52  14.274939   55400\n",
       " 2021-10-05  14.60  14.70  14.56  14.60  14.353588   32400\n",
       " \n",
       " [252 rows x 6 columns],\n",
       " Empty DataFrame\n",
       " Columns: [Open, High, Low, Close, Adj Close, Volume]\n",
       " Index: [],\n",
       " Empty DataFrame\n",
       " Columns: [Open, High, Low, Close, Adj Close, Volume]\n",
       " Index: [],\n",
       " Empty DataFrame\n",
       " Columns: [Open, High, Low, Close, Adj Close, Volume]\n",
       " Index: [],\n",
       " Empty DataFrame\n",
       " Columns: [Open, High, Low, Close, Adj Close, Volume]\n",
       " Index: [],\n",
       "              Open   High    Low  Close  Adj Close  Volume\n",
       " Date                                                     \n",
       " 2020-10-01  13.75  13.75  13.64  13.65  12.850294   43200\n",
       " 2020-10-02  13.68  13.71  13.43  13.50  12.709084   74600\n",
       " 2020-10-05  13.42  13.48  13.42  13.45  12.662011   50900\n",
       " 2020-10-06  13.50  13.53  13.45  13.45  12.662011   28300\n",
       " 2020-10-07  13.45  13.55  13.44  13.51  12.718494   54800\n",
       " ...           ...    ...    ...    ...        ...     ...\n",
       " 2021-09-24  14.90  15.01  14.88  15.00  14.746838   40300\n",
       " 2021-09-27  14.96  14.97  14.79  14.90  14.648525   27400\n",
       " 2021-09-28  14.89  14.89  14.76  14.76  14.510888   18900\n",
       " 2021-09-29  14.83  14.83  14.77  14.79  14.540381   13400\n",
       " 2021-09-30  14.85  14.85  14.69  14.72  14.471563   27900\n",
       " \n",
       " [252 rows x 6 columns],\n",
       " Empty DataFrame\n",
       " Columns: [Open, High, Low, Close, Adj Close, Volume]\n",
       " Index: [],\n",
       " Empty DataFrame\n",
       " Columns: [Open, High, Low, Close, Adj Close, Volume]\n",
       " Index: [],\n",
       " Empty DataFrame\n",
       " Columns: [Open, High, Low, Close, Adj Close, Volume]\n",
       " Index: [],\n",
       " Empty DataFrame\n",
       " Columns: [Open, High, Low, Close, Adj Close, Volume]\n",
       " Index: [],\n",
       "              Open   High    Low  Close  Adj Close  Volume\n",
       " Date                                                     \n",
       " 2020-10-01  13.75  13.75  13.64  13.65  12.850294   43200\n",
       " 2020-10-02  13.68  13.71  13.43  13.50  12.709084   74600\n",
       " 2020-10-05  13.42  13.48  13.42  13.45  12.662011   50900\n",
       " 2020-10-06  13.50  13.53  13.45  13.45  12.662011   28300\n",
       " 2020-10-07  13.45  13.55  13.44  13.51  12.718494   54800\n",
       " ...           ...    ...    ...    ...        ...     ...\n",
       " 2021-09-24  14.90  15.01  14.88  15.00  14.746838   40300\n",
       " 2021-09-27  14.96  14.97  14.79  14.90  14.648525   27400\n",
       " 2021-09-28  14.89  14.89  14.76  14.76  14.510888   18900\n",
       " 2021-09-29  14.83  14.83  14.77  14.79  14.540381   13400\n",
       " 2021-09-30  14.85  14.85  14.69  14.72  14.471563   27900\n",
       " \n",
       " [252 rows x 6 columns],\n",
       " Empty DataFrame\n",
       " Columns: [Open, High, Low, Close, Adj Close, Volume]\n",
       " Index: [],\n",
       " Empty DataFrame\n",
       " Columns: [Open, High, Low, Close, Adj Close, Volume]\n",
       " Index: [],\n",
       "              Open   High    Low  Close  Adj Close  Volume\n",
       " Date                                                     \n",
       " 2020-09-30  13.72  13.72  13.64  13.67  12.869122   27600\n",
       " 2020-10-01  13.75  13.75  13.64  13.65  12.850294   43200\n",
       " 2020-10-02  13.68  13.71  13.43  13.50  12.709084   74600\n",
       " 2020-10-05  13.42  13.48  13.42  13.45  12.662011   50900\n",
       " 2020-10-06  13.50  13.53  13.45  13.45  12.662011   28300\n",
       " ...           ...    ...    ...    ...        ...     ...\n",
       " 2021-09-23  14.87  14.92  14.77  14.92  14.668187   53900\n",
       " 2021-09-24  14.90  15.01  14.88  15.00  14.746838   40300\n",
       " 2021-09-27  14.96  14.97  14.79  14.90  14.648525   27400\n",
       " 2021-09-28  14.89  14.89  14.76  14.76  14.510888   18900\n",
       " 2021-09-29  14.83  14.83  14.77  14.79  14.540381   13400\n",
       " \n",
       " [252 rows x 6 columns],\n",
       "              Open   High    Low  Close  Adj Close  Volume\n",
       " Date                                                     \n",
       " 2020-09-30  13.72  13.72  13.64  13.67  12.869122   27600\n",
       " 2020-10-01  13.75  13.75  13.64  13.65  12.850294   43200\n",
       " 2020-10-02  13.68  13.71  13.43  13.50  12.709084   74600\n",
       " 2020-10-05  13.42  13.48  13.42  13.45  12.662011   50900\n",
       " 2020-10-06  13.50  13.53  13.45  13.45  12.662011   28300\n",
       " ...           ...    ...    ...    ...        ...     ...\n",
       " 2021-09-23  14.87  14.92  14.77  14.92  14.668187   53900\n",
       " 2021-09-24  14.90  15.01  14.88  15.00  14.746838   40300\n",
       " 2021-09-27  14.96  14.97  14.79  14.90  14.648525   27400\n",
       " 2021-09-28  14.89  14.89  14.76  14.76  14.510888   18900\n",
       " 2021-09-29  14.83  14.83  14.77  14.79  14.540381   13400\n",
       " \n",
       " [252 rows x 6 columns],\n",
       " Empty DataFrame\n",
       " Columns: [Open, High, Low, Close, Adj Close, Volume]\n",
       " Index: [],\n",
       " Empty DataFrame\n",
       " Columns: [Open, High, Low, Close, Adj Close, Volume]\n",
       " Index: [],\n",
       " Empty DataFrame\n",
       " Columns: [Open, High, Low, Close, Adj Close, Volume]\n",
       " Index: [],\n",
       "              Open   High    Low  Close  Adj Close  Volume\n",
       " Date                                                     \n",
       " 2020-09-24  13.62  13.62  13.54  13.54  12.746740   24700\n",
       " 2020-09-25  13.61  13.78  13.56  13.68  12.878538   67300\n",
       " 2020-09-28  13.68  13.69  13.62  13.65  12.850294   22300\n",
       " 2020-09-29  13.72  13.75  13.64  13.66  12.859705   37400\n",
       " 2020-09-30  13.72  13.72  13.64  13.67  12.869122   27600\n",
       " ...           ...    ...    ...    ...        ...     ...\n",
       " 2021-09-17  14.97  14.97  14.87  14.90  14.648525   23200\n",
       " 2021-09-20  14.86  14.86  14.81  14.82  14.569875   27900\n",
       " 2021-09-21  14.80  14.89  14.74  14.75  14.501057   20600\n",
       " 2021-09-22  14.85  14.85  14.75  14.77  14.520719   23200\n",
       " 2021-09-23  14.87  14.92  14.77  14.92  14.668187   53900\n",
       " \n",
       " [252 rows x 6 columns],\n",
       " Empty DataFrame\n",
       " Columns: [Open, High, Low, Close, Adj Close, Volume]\n",
       " Index: [],\n",
       "              Open   High    Low  Close  Adj Close  Volume\n",
       " Date                                                     \n",
       " 2020-09-23  13.62  13.62  13.57  13.58  12.784394   25400\n",
       " 2020-09-24  13.62  13.62  13.54  13.54  12.746740   24700\n",
       " 2020-09-25  13.61  13.78  13.56  13.68  12.878538   67300\n",
       " 2020-09-28  13.68  13.69  13.62  13.65  12.850294   22300\n",
       " 2020-09-29  13.72  13.75  13.64  13.66  12.859705   37400\n",
       " ...           ...    ...    ...    ...        ...     ...\n",
       " 2021-09-16  14.99  15.01  14.87  14.88  14.628863   66800\n",
       " 2021-09-17  14.97  14.97  14.87  14.90  14.648525   23200\n",
       " 2021-09-20  14.86  14.86  14.81  14.82  14.569875   27900\n",
       " 2021-09-21  14.80  14.89  14.74  14.75  14.501057   20600\n",
       " 2021-09-22  14.85  14.85  14.75  14.77  14.520719   23200\n",
       " \n",
       " [252 rows x 6 columns],\n",
       "              Open   High    Low  Close  Adj Close  Volume\n",
       " Date                                                     \n",
       " 2020-09-23  13.62  13.62  13.57  13.58  12.784394   25400\n",
       " 2020-09-24  13.62  13.62  13.54  13.54  12.746740   24700\n",
       " 2020-09-25  13.61  13.78  13.56  13.68  12.878538   67300\n",
       " 2020-09-28  13.68  13.69  13.62  13.65  12.850294   22300\n",
       " 2020-09-29  13.72  13.75  13.64  13.66  12.859705   37400\n",
       " ...           ...    ...    ...    ...        ...     ...\n",
       " 2021-09-16  14.99  15.01  14.87  14.88  14.628863   66800\n",
       " 2021-09-17  14.97  14.97  14.87  14.90  14.648525   23200\n",
       " 2021-09-20  14.86  14.86  14.81  14.82  14.569875   27900\n",
       " 2021-09-21  14.80  14.89  14.74  14.75  14.501057   20600\n",
       " 2021-09-22  14.85  14.85  14.75  14.77  14.520719   23200\n",
       " \n",
       " [252 rows x 6 columns],\n",
       "              Open   High    Low  Close  Adj Close  Volume\n",
       " Date                                                     \n",
       " 2020-09-22  13.68  13.68  13.49  13.57  12.774980   50700\n",
       " 2020-09-23  13.62  13.62  13.57  13.58  12.784394   25400\n",
       " 2020-09-24  13.62  13.62  13.54  13.54  12.746740   24700\n",
       " 2020-09-25  13.61  13.78  13.56  13.68  12.878538   67300\n",
       " 2020-09-28  13.68  13.69  13.62  13.65  12.850294   22300\n",
       " ...           ...    ...    ...    ...        ...     ...\n",
       " 2021-09-15  14.88  14.98  14.80  14.94  14.687849   54500\n",
       " 2021-09-16  14.99  15.01  14.87  14.88  14.628863   66800\n",
       " 2021-09-17  14.97  14.97  14.87  14.90  14.648525   23200\n",
       " 2021-09-20  14.86  14.86  14.81  14.82  14.569875   27900\n",
       " 2021-09-21  14.80  14.89  14.74  14.75  14.501057   20600\n",
       " \n",
       " [252 rows x 6 columns],\n",
       "              Open   High    Low  Close  Adj Close  Volume\n",
       " Date                                                     \n",
       " 2020-09-22  13.68  13.68  13.49  13.57  12.774980   50700\n",
       " 2020-09-23  13.62  13.62  13.57  13.58  12.784394   25400\n",
       " 2020-09-24  13.62  13.62  13.54  13.54  12.746740   24700\n",
       " 2020-09-25  13.61  13.78  13.56  13.68  12.878538   67300\n",
       " 2020-09-28  13.68  13.69  13.62  13.65  12.850294   22300\n",
       " ...           ...    ...    ...    ...        ...     ...\n",
       " 2021-09-15  14.88  14.98  14.80  14.94  14.687849   54500\n",
       " 2021-09-16  14.99  15.01  14.87  14.88  14.628863   66800\n",
       " 2021-09-17  14.97  14.97  14.87  14.90  14.648525   23200\n",
       " 2021-09-20  14.86  14.86  14.81  14.82  14.569875   27900\n",
       " 2021-09-21  14.80  14.89  14.74  14.75  14.501057   20600\n",
       " \n",
       " [252 rows x 6 columns],\n",
       " Empty DataFrame\n",
       " Columns: [Open, High, Low, Close, Adj Close, Volume]\n",
       " Index: [],\n",
       " Empty DataFrame\n",
       " Columns: [Open, High, Low, Close, Adj Close, Volume]\n",
       " Index: [],\n",
       " Empty DataFrame\n",
       " Columns: [Open, High, Low, Close, Adj Close, Volume]\n",
       " Index: [],\n",
       " Empty DataFrame\n",
       " Columns: [Open, High, Low, Close, Adj Close, Volume]\n",
       " Index: [],\n",
       " Empty DataFrame\n",
       " Columns: [Open, High, Low, Close, Adj Close, Volume]\n",
       " Index: [],\n",
       " Empty DataFrame\n",
       " Columns: [Open, High, Low, Close, Adj Close, Volume]\n",
       " Index: [],\n",
       "              Open   High    Low  Close  Adj Close  Volume\n",
       " Date                                                     \n",
       " 2020-09-16  13.78  13.84  13.65  13.69  12.887951   39000\n",
       " 2020-09-17  13.69  13.76  13.66  13.67  12.869122   19600\n",
       " 2020-09-18  13.73  13.74  13.66  13.67  12.869122    6100\n",
       " 2020-09-21  13.72  13.72  13.58  13.61  12.812636   30800\n",
       " 2020-09-22  13.68  13.68  13.49  13.57  12.774980   50700\n",
       " ...           ...    ...    ...    ...        ...     ...\n",
       " 2021-09-09  14.80  14.83  14.78  14.79  14.489190   83200\n",
       " 2021-09-10  14.89  14.89  14.77  14.80  14.498987   63600\n",
       " 2021-09-13  14.79  14.82  14.75  14.77  14.469597   59900\n",
       " 2021-09-14  14.83  14.84  14.73  14.77  14.520719   44400\n",
       " 2021-09-15  14.88  14.98  14.80  14.94  14.687849   54500\n",
       " \n",
       " [252 rows x 6 columns],\n",
       " Empty DataFrame\n",
       " Columns: [Open, High, Low, Close, Adj Close, Volume]\n",
       " Index: [],\n",
       " Empty DataFrame\n",
       " Columns: [Open, High, Low, Close, Adj Close, Volume]\n",
       " Index: [],\n",
       " Empty DataFrame\n",
       " Columns: [Open, High, Low, Close, Adj Close, Volume]\n",
       " Index: [],\n",
       " Empty DataFrame\n",
       " Columns: [Open, High, Low, Close, Adj Close, Volume]\n",
       " Index: [],\n",
       " Empty DataFrame\n",
       " Columns: [Open, High, Low, Close, Adj Close, Volume]\n",
       " Index: [],\n",
       " Empty DataFrame\n",
       " Columns: [Open, High, Low, Close, Adj Close, Volume]\n",
       " Index: [],\n",
       " Empty DataFrame\n",
       " Columns: [Open, High, Low, Close, Adj Close, Volume]\n",
       " Index: [],\n",
       " Empty DataFrame\n",
       " Columns: [Open, High, Low, Close, Adj Close, Volume]\n",
       " Index: [],\n",
       " Empty DataFrame\n",
       " Columns: [Open, High, Low, Close, Adj Close, Volume]\n",
       " Index: [],\n",
       "              Open   High    Low  Close  Adj Close  Volume\n",
       " Date                                                     \n",
       " 2020-09-10  13.80  14.04  13.74  13.77  12.914276   60700\n",
       " 2020-09-11  13.87  13.92  13.75  13.76  12.904898   33300\n",
       " 2020-09-14  13.76  13.85  13.75  13.83  13.019749   28900\n",
       " 2020-09-15  13.83  13.84  13.80  13.84  13.029163   18500\n",
       " 2020-09-16  13.78  13.84  13.65  13.69  12.887951   39000\n",
       " ...           ...    ...    ...    ...        ...     ...\n",
       " 2021-09-02  15.20  15.20  15.11  15.13  14.822275   35100\n",
       " 2021-09-03  15.21  15.21  15.01  15.06  14.753698   26000\n",
       " 2021-09-07  15.05  15.05  14.79  14.83  14.528377   56200\n",
       " 2021-09-08  14.84  14.85  14.78  14.80  14.498987   66300\n",
       " 2021-09-09  14.80  14.83  14.78  14.79  14.489190   83200\n",
       " \n",
       " [252 rows x 6 columns],\n",
       " Empty DataFrame\n",
       " Columns: [Open, High, Low, Close, Adj Close, Volume]\n",
       " Index: [],\n",
       " Empty DataFrame\n",
       " Columns: [Open, High, Low, Close, Adj Close, Volume]\n",
       " Index: [],\n",
       " Empty DataFrame\n",
       " Columns: [Open, High, Low, Close, Adj Close, Volume]\n",
       " Index: [],\n",
       "              Open   High    Low  Close  Adj Close  Volume\n",
       " Date                                                     \n",
       " 2020-09-03  13.88  14.16  13.85  14.01  13.139359   67600\n",
       " 2020-09-04  13.87  14.00  13.73  13.74  12.886140   49700\n",
       " 2020-09-08  13.65  13.77  13.61  13.73  12.876760   77700\n",
       " 2020-09-09  13.69  13.97  13.69  13.80  12.942409   29900\n",
       " 2020-09-10  13.80  14.04  13.74  13.77  12.914276   60700\n",
       " ...           ...    ...    ...    ...        ...     ...\n",
       " 2021-08-27  15.25  15.27  15.18  15.22  14.910444   48800\n",
       " 2021-08-30  15.25  15.25  15.21  15.23  14.920240   22100\n",
       " 2021-08-31  15.25  15.25  15.16  15.22  14.910444   41000\n",
       " 2021-09-01  15.25  15.25  15.15  15.16  14.851665   32600\n",
       " 2021-09-02  15.20  15.20  15.11  15.13  14.822275   35100\n",
       " \n",
       " [252 rows x 6 columns],\n",
       " Empty DataFrame\n",
       " Columns: [Open, High, Low, Close, Adj Close, Volume]\n",
       " Index: [],\n",
       " Empty DataFrame\n",
       " Columns: [Open, High, Low, Close, Adj Close, Volume]\n",
       " Index: [],\n",
       " Empty DataFrame\n",
       " Columns: [Open, High, Low, Close, Adj Close, Volume]\n",
       " Index: [],\n",
       " Empty DataFrame\n",
       " Columns: [Open, High, Low, Close, Adj Close, Volume]\n",
       " Index: [],\n",
       " Empty DataFrame\n",
       " Columns: [Open, High, Low, Close, Adj Close, Volume]\n",
       " Index: [],\n",
       " Empty DataFrame\n",
       " Columns: [Open, High, Low, Close, Adj Close, Volume]\n",
       " Index: [],\n",
       "              Open   High    Low  Close  Adj Close  Volume\n",
       " Date                                                     \n",
       " 2020-08-25  13.86  13.99  13.86  13.98  13.111222   28300\n",
       " 2020-08-26  13.96  14.02  13.94  14.02  13.148741   35100\n",
       " 2020-08-27  14.00  14.00  13.91  13.96  13.092469   32100\n",
       " 2020-08-28  14.02  14.05  13.96  14.01  13.139359   26900\n",
       " 2020-08-31  14.02  14.02  13.64  13.65  12.801732   81100\n",
       " ...           ...    ...    ...    ...        ...     ...\n",
       " 2021-08-18  15.40  15.40  15.35  15.40  15.086782   25700\n",
       " 2021-08-19  15.47  15.47  15.31  15.38  15.067190   49500\n",
       " 2021-08-20  15.32  15.41  15.06  15.27  14.959429   36900\n",
       " 2021-08-23  15.27  15.33  15.25  15.31  14.998614   32000\n",
       " 2021-08-24  15.38  15.38  15.33  15.35  15.037801   18400\n",
       " \n",
       " [252 rows x 6 columns],\n",
       "              Open   High    Low  Close  Adj Close  Volume\n",
       " Date                                                     \n",
       " 2020-08-25  13.86  13.99  13.86  13.98  13.111222   28300\n",
       " 2020-08-26  13.96  14.02  13.94  14.02  13.148741   35100\n",
       " 2020-08-27  14.00  14.00  13.91  13.96  13.092469   32100\n",
       " 2020-08-28  14.02  14.05  13.96  14.01  13.139359   26900\n",
       " 2020-08-31  14.02  14.02  13.64  13.65  12.801732   81100\n",
       " ...           ...    ...    ...    ...        ...     ...\n",
       " 2021-08-18  15.40  15.40  15.35  15.40  15.086782   25700\n",
       " 2021-08-19  15.47  15.47  15.31  15.38  15.067190   49500\n",
       " 2021-08-20  15.32  15.41  15.06  15.27  14.959429   36900\n",
       " 2021-08-23  15.27  15.33  15.25  15.31  14.998614   32000\n",
       " 2021-08-24  15.38  15.38  15.33  15.35  15.037801   18400\n",
       " \n",
       " [252 rows x 6 columns],\n",
       "              Open   High    Low  Close  Adj Close  Volume\n",
       " Date                                                     \n",
       " 2020-08-20  14.01  14.03  13.87  13.87  13.008060   18400\n",
       " 2020-08-21  13.94  14.06  13.86  13.92  13.054952   55400\n",
       " 2020-08-24  13.99  13.99  13.90  13.96  13.092469   21800\n",
       " 2020-08-25  13.86  13.99  13.86  13.98  13.111222   28300\n",
       " 2020-08-26  13.96  14.02  13.94  14.02  13.148741   35100\n",
       " ...           ...    ...    ...    ...        ...     ...\n",
       " 2021-08-13  15.33  15.33  15.22  15.25  14.939835   48000\n",
       " 2021-08-16  15.30  15.39  15.23  15.35  15.037801   48300\n",
       " 2021-08-17  15.35  15.39  15.35  15.39  15.076987   41100\n",
       " 2021-08-18  15.40  15.40  15.35  15.40  15.086782   25700\n",
       " 2021-08-19  15.47  15.47  15.31  15.38  15.067190   49500\n",
       " \n",
       " [252 rows x 6 columns],\n",
       " Empty DataFrame\n",
       " Columns: [Open, High, Low, Close, Adj Close, Volume]\n",
       " Index: [],\n",
       " Empty DataFrame\n",
       " Columns: [Open, High, Low, Close, Adj Close, Volume]\n",
       " Index: [],\n",
       " Empty DataFrame\n",
       " Columns: [Open, High, Low, Close, Adj Close, Volume]\n",
       " Index: [],\n",
       " Empty DataFrame\n",
       " Columns: [Open, High, Low, Close, Adj Close, Volume]\n",
       " Index: [],\n",
       "              Open   High    Low  Close  Adj Close  Volume\n",
       " Date                                                     \n",
       " 2020-08-17  14.06  14.30  14.05  14.11  13.233145   87700\n",
       " 2020-08-18  14.12  14.16  13.92  13.97  13.101848  124900\n",
       " 2020-08-19  14.02  14.12  13.91  13.92  13.054952   48700\n",
       " 2020-08-20  14.01  14.03  13.87  13.87  13.008060   18400\n",
       " 2020-08-21  13.94  14.06  13.86  13.92  13.054952   55400\n",
       " ...           ...    ...    ...    ...        ...     ...\n",
       " 2021-08-10  15.41  15.41  15.25  15.30  14.938074   43300\n",
       " 2021-08-11  15.45  15.45  15.24  15.36  14.996655   49400\n",
       " 2021-08-12  15.42  15.42  15.17  15.17  14.861462   19800\n",
       " 2021-08-13  15.33  15.33  15.22  15.25  14.939835   48000\n",
       " 2021-08-16  15.30  15.39  15.23  15.35  15.037801   48300\n",
       " \n",
       " [252 rows x 6 columns],\n",
       " Empty DataFrame\n",
       " Columns: [Open, High, Low, Close, Adj Close, Volume]\n",
       " Index: [],\n",
       " Empty DataFrame\n",
       " Columns: [Open, High, Low, Close, Adj Close, Volume]\n",
       " Index: [],\n",
       "              Open   High    Low  Close  Adj Close  Volume\n",
       " Date                                                     \n",
       " 2020-08-13  14.17  14.23  14.05  14.10  13.223767   24600\n",
       " 2020-08-14  14.13  14.13  14.05  14.06  13.186253   29300\n",
       " 2020-08-17  14.06  14.30  14.05  14.11  13.233145   87700\n",
       " 2020-08-18  14.12  14.16  13.92  13.97  13.101848  124900\n",
       " 2020-08-19  14.02  14.12  13.91  13.92  13.054952   48700\n",
       " ...           ...    ...    ...    ...        ...     ...\n",
       " 2021-08-06  15.39  15.41  15.31  15.37  15.006418   18300\n",
       " 2021-08-09  15.39  15.40  15.11  15.40  15.035707   76400\n",
       " 2021-08-10  15.41  15.41  15.25  15.30  14.938074   43300\n",
       " 2021-08-11  15.45  15.45  15.24  15.36  14.996655   49400\n",
       " 2021-08-12  15.42  15.42  15.17  15.17  14.861462   19800\n",
       " \n",
       " [252 rows x 6 columns],\n",
       " Empty DataFrame\n",
       " Columns: [Open, High, Low, Close, Adj Close, Volume]\n",
       " Index: [],\n",
       "              Open   High    Low  Close  Adj Close  Volume\n",
       " Date                                                     \n",
       " 2020-08-12  14.28  14.29  14.18  14.19  13.259405   13800\n",
       " 2020-08-13  14.17  14.23  14.05  14.10  13.223767   24600\n",
       " 2020-08-14  14.13  14.13  14.05  14.06  13.186253   29300\n",
       " 2020-08-17  14.06  14.30  14.05  14.11  13.233145   87700\n",
       " 2020-08-18  14.12  14.16  13.92  13.97  13.101848  124900\n",
       " ...           ...    ...    ...    ...        ...     ...\n",
       " 2021-08-05  15.40  15.43  15.35  15.39  15.025945   22800\n",
       " 2021-08-06  15.39  15.41  15.31  15.37  15.006418   18300\n",
       " 2021-08-09  15.39  15.40  15.11  15.40  15.035707   76400\n",
       " 2021-08-10  15.41  15.41  15.25  15.30  14.938074   43300\n",
       " 2021-08-11  15.45  15.45  15.24  15.36  14.996655   49400\n",
       " \n",
       " [252 rows x 6 columns],\n",
       " Empty DataFrame\n",
       " Columns: [Open, High, Low, Close, Adj Close, Volume]\n",
       " Index: [],\n",
       " Empty DataFrame\n",
       " Columns: [Open, High, Low, Close, Adj Close, Volume]\n",
       " Index: [],\n",
       " Empty DataFrame\n",
       " Columns: [Open, High, Low, Close, Adj Close, Volume]\n",
       " Index: [],\n",
       " Empty DataFrame\n",
       " Columns: [Open, High, Low, Close, Adj Close, Volume]\n",
       " Index: [],\n",
       " Empty DataFrame\n",
       " Columns: [Open, High, Low, Close, Adj Close, Volume]\n",
       " Index: [],\n",
       " Empty DataFrame\n",
       " Columns: [Open, High, Low, Close, Adj Close, Volume]\n",
       " Index: [],\n",
       "              Open   High    Low  Close  Adj Close  Volume\n",
       " Date                                                     \n",
       " 2020-08-06  14.10  14.17  14.10  14.11  13.184649   21600\n",
       " 2020-08-07  14.14  14.17  14.12  14.12  13.193997   14100\n",
       " 2020-08-10  14.17  14.17  14.13  14.13  13.203341   45600\n",
       " 2020-08-11  14.17  14.39  14.14  14.24  13.306127   51200\n",
       " 2020-08-12  14.28  14.29  14.18  14.19  13.259405   13800\n",
       " ...           ...    ...    ...    ...        ...     ...\n",
       " 2021-07-30  15.27  15.33  15.23  15.28  14.918547   59000\n",
       " 2021-08-02  15.53  15.53  15.24  15.44  15.074761   53200\n",
       " 2021-08-03  15.45  15.49  15.38  15.44  15.074761   29700\n",
       " 2021-08-04  15.46  15.46  15.31  15.32  14.957601   22000\n",
       " 2021-08-05  15.40  15.43  15.35  15.39  15.025945   22800\n",
       " \n",
       " [252 rows x 6 columns],\n",
       "              Open   High    Low  Close  Adj Close  Volume\n",
       " Date                                                     \n",
       " 2020-08-06  14.10  14.17  14.10  14.11  13.184649   21600\n",
       " 2020-08-07  14.14  14.17  14.12  14.12  13.193997   14100\n",
       " 2020-08-10  14.17  14.17  14.13  14.13  13.203341   45600\n",
       " 2020-08-11  14.17  14.39  14.14  14.24  13.306127   51200\n",
       " 2020-08-12  14.28  14.29  14.18  14.19  13.259405   13800\n",
       " ...           ...    ...    ...    ...        ...     ...\n",
       " 2021-07-30  15.27  15.33  15.23  15.28  14.918547   59000\n",
       " 2021-08-02  15.53  15.53  15.24  15.44  15.074761   53200\n",
       " 2021-08-03  15.45  15.49  15.38  15.44  15.074761   29700\n",
       " 2021-08-04  15.46  15.46  15.31  15.32  14.957601   22000\n",
       " 2021-08-05  15.40  15.43  15.35  15.39  15.025945   22800\n",
       " \n",
       " [252 rows x 6 columns],\n",
       "              Open   High    Low  Close  Adj Close  Volume\n",
       " Date                                                     \n",
       " 2020-08-05  14.12  14.13  14.10  14.11  13.184649   30700\n",
       " 2020-08-06  14.10  14.17  14.10  14.11  13.184649   21600\n",
       " 2020-08-07  14.14  14.17  14.12  14.12  13.193997   14100\n",
       " 2020-08-10  14.17  14.17  14.13  14.13  13.203341   45600\n",
       " 2020-08-11  14.17  14.39  14.14  14.24  13.306127   51200\n",
       " ...           ...    ...    ...    ...        ...     ...\n",
       " 2021-07-29  15.15  15.25  15.15  15.21  14.850204   31500\n",
       " 2021-07-30  15.27  15.33  15.23  15.28  14.918547   59000\n",
       " 2021-08-02  15.53  15.53  15.24  15.44  15.074761   53200\n",
       " 2021-08-03  15.45  15.49  15.38  15.44  15.074761   29700\n",
       " 2021-08-04  15.46  15.46  15.31  15.32  14.957601   22000\n",
       " \n",
       " [252 rows x 6 columns],\n",
       " Empty DataFrame\n",
       " Columns: [Open, High, Low, Close, Adj Close, Volume]\n",
       " Index: [],\n",
       " Empty DataFrame\n",
       " Columns: [Open, High, Low, Close, Adj Close, Volume]\n",
       " Index: [],\n",
       " Empty DataFrame\n",
       " Columns: [Open, High, Low, Close, Adj Close, Volume]\n",
       " Index: [],\n",
       " Empty DataFrame\n",
       " Columns: [Open, High, Low, Close, Adj Close, Volume]\n",
       " Index: [],\n",
       " Empty DataFrame\n",
       " Columns: [Open, High, Low, Close, Adj Close, Volume]\n",
       " Index: [],\n",
       " Empty DataFrame\n",
       " Columns: [Open, High, Low, Close, Adj Close, Volume]\n",
       " Index: [],\n",
       "              Open   High    Low  Close  Adj Close  Volume\n",
       " Date                                                     \n",
       " 2020-07-28  13.91  13.93  13.88  13.90  12.988424   28500\n",
       " 2020-07-29  13.97  14.07  13.95  14.00  13.081864   42700\n",
       " 2020-07-30  14.02  14.12  13.99  14.08  13.156618   16200\n",
       " 2020-07-31  14.14  14.18  14.11  14.15  13.222029   36200\n",
       " 2020-08-03  14.21  14.21  14.09  14.13  13.203341   67100\n",
       " ...           ...    ...    ...    ...        ...     ...\n",
       " 2021-07-21  15.05  15.11  14.92  14.94  14.586588   18700\n",
       " 2021-07-22  15.00  15.07  14.77  14.90  14.547536   34700\n",
       " 2021-07-23  15.02  15.04  14.86  14.88  14.528008   36100\n",
       " 2021-07-26  14.87  14.93  14.80  14.84  14.488956   27800\n",
       " 2021-07-27  14.89  15.02  14.84  15.00  14.645168   44800\n",
       " \n",
       " [252 rows x 6 columns],\n",
       "              Open   High    Low  Close  Adj Close  Volume\n",
       " Date                                                     \n",
       " 2020-07-28  13.91  13.93  13.88  13.90  12.988424   28500\n",
       " 2020-07-29  13.97  14.07  13.95  14.00  13.081864   42700\n",
       " 2020-07-30  14.02  14.12  13.99  14.08  13.156618   16200\n",
       " 2020-07-31  14.14  14.18  14.11  14.15  13.222029   36200\n",
       " 2020-08-03  14.21  14.21  14.09  14.13  13.203341   67100\n",
       " ...           ...    ...    ...    ...        ...     ...\n",
       " 2021-07-21  15.05  15.11  14.92  14.94  14.586588   18700\n",
       " 2021-07-22  15.00  15.07  14.77  14.90  14.547536   34700\n",
       " 2021-07-23  15.02  15.04  14.86  14.88  14.528008   36100\n",
       " 2021-07-26  14.87  14.93  14.80  14.84  14.488956   27800\n",
       " 2021-07-27  14.89  15.02  14.84  15.00  14.645168   44800\n",
       " \n",
       " [252 rows x 6 columns],\n",
       " Empty DataFrame\n",
       " Columns: [Open, High, Low, Close, Adj Close, Volume]\n",
       " Index: [],\n",
       " Empty DataFrame\n",
       " Columns: [Open, High, Low, Close, Adj Close, Volume]\n",
       " Index: [],\n",
       " Empty DataFrame\n",
       " Columns: [Open, High, Low, Close, Adj Close, Volume]\n",
       " Index: [],\n",
       " Empty DataFrame\n",
       " Columns: [Open, High, Low, Close, Adj Close, Volume]\n",
       " Index: [],\n",
       " Empty DataFrame\n",
       " Columns: [Open, High, Low, Close, Adj Close, Volume]\n",
       " Index: [],\n",
       "              Open   High    Low  Close  Adj Close  Volume\n",
       " Date                                                     \n",
       " 2020-07-17  13.48  13.63  13.48  13.63  12.736129   33100\n",
       " 2020-07-20  13.69  13.71  13.59  13.71  12.810883   37600\n",
       " 2020-07-21  13.73  13.73  13.63  13.68  12.782851   30100\n",
       " 2020-07-22  13.66  13.72  13.66  13.70  12.801538   29100\n",
       " 2020-07-23  13.70  13.76  13.69  13.76  12.857607   26500\n",
       " ...           ...    ...    ...    ...        ...     ...\n",
       " 2021-07-12  15.48  15.49  15.31  15.33  14.915990    8700\n",
       " 2021-07-13  15.69  15.69  15.15  15.15  14.740851   72600\n",
       " 2021-07-14  15.13  15.20  15.04  15.04  14.684223   24500\n",
       " 2021-07-15  15.24  15.24  14.94  14.99  14.635407   51300\n",
       " 2021-07-16  15.00  15.05  14.94  14.97  14.615879   31100\n",
       " \n",
       " [252 rows x 6 columns],\n",
       "              Open   High    Low  Close  Adj Close  Volume\n",
       " Date                                                     \n",
       " 2020-07-17  13.48  13.63  13.48  13.63  12.736129   33100\n",
       " 2020-07-20  13.69  13.71  13.59  13.71  12.810883   37600\n",
       " 2020-07-21  13.73  13.73  13.63  13.68  12.782851   30100\n",
       " 2020-07-22  13.66  13.72  13.66  13.70  12.801538   29100\n",
       " 2020-07-23  13.70  13.76  13.69  13.76  12.857607   26500\n",
       " ...           ...    ...    ...    ...        ...     ...\n",
       " 2021-07-12  15.48  15.49  15.31  15.33  14.915990    8700\n",
       " 2021-07-13  15.69  15.69  15.15  15.15  14.740851   72600\n",
       " 2021-07-14  15.13  15.20  15.04  15.04  14.684223   24500\n",
       " 2021-07-15  15.24  15.24  14.94  14.99  14.635407   51300\n",
       " 2021-07-16  15.00  15.05  14.94  14.97  14.615879   31100\n",
       " \n",
       " [252 rows x 6 columns],\n",
       " Empty DataFrame\n",
       " Columns: [Open, High, Low, Close, Adj Close, Volume]\n",
       " Index: [],\n",
       " Empty DataFrame\n",
       " Columns: [Open, High, Low, Close, Adj Close, Volume]\n",
       " Index: [],\n",
       " Empty DataFrame\n",
       " Columns: [Open, High, Low, Close, Adj Close, Volume]\n",
       " Index: [],\n",
       "              Open   High    Low  Close  Adj Close  Volume\n",
       " Date                                                     \n",
       " 2020-07-10  13.59  13.63  13.59  13.63  12.687396   16600\n",
       " 2020-07-13  13.63  13.63  13.59  13.59  12.650165   53000\n",
       " 2020-07-14  13.60  13.62  13.53  13.53  12.642689   33600\n",
       " 2020-07-15  13.48  13.55  13.48  13.53  12.642689   31500\n",
       " 2020-07-16  13.49  13.56  13.49  13.52  12.633347   29900\n",
       " ...           ...    ...    ...    ...        ...     ...\n",
       " 2021-07-02  15.21  15.24  15.04  15.10  14.692204   37700\n",
       " 2021-07-06  15.07  15.14  15.07  15.13  14.721394    8200\n",
       " 2021-07-07  15.11  15.20  15.04  15.11  14.701930   58800\n",
       " 2021-07-08  15.11  15.21  15.11  15.20  14.789501   17600\n",
       " 2021-07-09  15.25  15.34  15.25  15.25  14.838153   23500\n",
       " \n",
       " [252 rows x 6 columns],\n",
       " Empty DataFrame\n",
       " Columns: [Open, High, Low, Close, Adj Close, Volume]\n",
       " Index: [],\n",
       " Empty DataFrame\n",
       " Columns: [Open, High, Low, Close, Adj Close, Volume]\n",
       " Index: [],\n",
       " Empty DataFrame\n",
       " Columns: [Open, High, Low, Close, Adj Close, Volume]\n",
       " Index: [],\n",
       " Empty DataFrame\n",
       " Columns: [Open, High, Low, Close, Adj Close, Volume]\n",
       " Index: [],\n",
       " Empty DataFrame\n",
       " Columns: [Open, High, Low, Close, Adj Close, Volume]\n",
       " Index: [],\n",
       " Empty DataFrame\n",
       " Columns: [Open, High, Low, Close, Adj Close, Volume]\n",
       " Index: [],\n",
       " Empty DataFrame\n",
       " Columns: [Open, High, Low, Close, Adj Close, Volume]\n",
       " Index: [],\n",
       " Empty DataFrame\n",
       " Columns: [Open, High, Low, Close, Adj Close, Volume]\n",
       " Index: [],\n",
       " Empty DataFrame\n",
       " Columns: [Open, High, Low, Close, Adj Close, Volume]\n",
       " Index: [],\n",
       "              Open   High    Low  Close  Adj Close  Volume\n",
       " Date                                                     \n",
       " 2020-06-04  13.51  13.51  13.39  13.47  12.489589   26900\n",
       " 2020-06-05  13.50  13.55  13.42  13.46  12.480315   31600\n",
       " 2020-06-08  13.53  13.55  13.51  13.55  12.563764   38600\n",
       " 2020-06-09  13.49  13.63  13.48  13.58  12.591581   42000\n",
       " 2020-06-10  13.52  13.58  13.51  13.53  12.545220   19700\n",
       " ...           ...    ...    ...    ...        ...     ...\n",
       " 2021-05-27  14.78  14.80  14.66  14.73  14.282042   42600\n",
       " 2021-05-28  14.82  14.95  14.65  14.79  14.340216   66000\n",
       " 2021-06-01  14.82  14.90  14.78  14.85  14.398392   41800\n",
       " 2021-06-02  14.89  14.89  14.86  14.89  14.437176   41300\n",
       " 2021-06-03  14.94  14.94  14.88  14.91  14.456569   22200\n",
       " \n",
       " [252 rows x 6 columns],\n",
       " Empty DataFrame\n",
       " Columns: [Open, High, Low, Close, Adj Close, Volume]\n",
       " Index: [],\n",
       " Empty DataFrame\n",
       " Columns: [Open, High, Low, Close, Adj Close, Volume]\n",
       " Index: [],\n",
       " Empty DataFrame\n",
       " Columns: [Open, High, Low, Close, Adj Close, Volume]\n",
       " Index: [],\n",
       " Empty DataFrame\n",
       " Columns: [Open, High, Low, Close, Adj Close, Volume]\n",
       " Index: [],\n",
       "              Open   High    Low  Close  Adj Close  Volume\n",
       " Date                                                     \n",
       " 2020-05-18  12.78  12.84  12.73  12.77  11.840539   35300\n",
       " 2020-05-19  12.73  12.77  12.73  12.73  11.803449   37600\n",
       " 2020-05-20  12.74  12.87  12.74  12.87  11.933259   56300\n",
       " 2020-05-21  12.94  12.98  12.85  12.91  11.970345   31000\n",
       " 2020-05-22  12.95  13.05  12.94  13.05  12.100158   21700\n",
       " ...           ...    ...    ...    ...        ...     ...\n",
       " 2021-05-11  14.72  14.73  14.61  14.61  14.114890   17400\n",
       " 2021-05-12  14.67  14.67  14.48  14.50  14.008616   47700\n",
       " 2021-05-13  14.54  14.55  14.41  14.46  14.020253   28000\n",
       " 2021-05-14  14.53  14.60  14.48  14.54  14.097819   33900\n",
       " 2021-05-17  14.61  14.61  14.38  14.42  13.981469   41500\n",
       " \n",
       " [252 rows x 6 columns],\n",
       " Empty DataFrame\n",
       " Columns: [Open, High, Low, Close, Adj Close, Volume]\n",
       " Index: [],\n",
       " Empty DataFrame\n",
       " Columns: [Open, High, Low, Close, Adj Close, Volume]\n",
       " Index: [],\n",
       "              Open   High    Low  Close  Adj Close  Volume\n",
       " Date                                                     \n",
       " 2020-05-08  13.15  13.17  13.05  13.17  12.162542   45400\n",
       " 2020-05-11  13.17  13.17  13.01  13.09  12.088661   41400\n",
       " 2020-05-12  13.13  13.13  13.02  13.04  12.042484   54000\n",
       " 2020-05-13  13.11  13.11  12.93  12.99  11.996310   47400\n",
       " 2020-05-14  13.03  13.03  12.71  12.75  11.821991   88500\n",
       " ...           ...    ...    ...    ...        ...     ...\n",
       " 2021-05-03  14.43  14.48  14.36  14.42  13.931329   42500\n",
       " 2021-05-04  14.42  14.58  14.35  14.47  13.979635   79100\n",
       " 2021-05-05  14.56  14.60  14.42  14.59  14.095567   79600\n",
       " 2021-05-06  14.65  14.65  14.55  14.64  14.143872   27000\n",
       " 2021-05-07  14.66  14.70  14.65  14.68  14.182518   36700\n",
       " \n",
       " [252 rows x 6 columns],\n",
       " Empty DataFrame\n",
       " Columns: [Open, High, Low, Close, Adj Close, Volume]\n",
       " Index: [],\n",
       " Empty DataFrame\n",
       " Columns: [Open, High, Low, Close, Adj Close, Volume]\n",
       " Index: [],\n",
       " Empty DataFrame\n",
       " Columns: [Open, High, Low, Close, Adj Close, Volume]\n",
       " Index: [],\n",
       "              Open   High    Low  Close  Adj Close  Volume\n",
       " Date                                                     \n",
       " 2020-04-30  12.74  12.74  12.54  12.61  11.645381   25700\n",
       " 2020-05-01  12.60  12.76  12.59  12.73  11.756197   76800\n",
       " 2020-05-04  12.70  12.75  12.65  12.74  11.765430   46400\n",
       " 2020-05-05  12.79  13.00  12.74  12.96  11.968605   71600\n",
       " 2020-05-06  12.97  13.15  12.97  13.03  12.033249   51600\n",
       " ...           ...    ...    ...    ...        ...     ...\n",
       " 2021-04-23  14.34  14.54  14.33  14.42  13.931329   54300\n",
       " 2021-04-26  14.44  14.53  14.38  14.40  13.912005   43400\n",
       " 2021-04-27  14.41  14.50  14.36  14.48  13.989295   47400\n",
       " 2021-04-28  14.45  14.54  14.41  14.48  13.989295   32000\n",
       " 2021-04-29  14.45  14.52  14.27  14.35  13.863702   65100\n",
       " \n",
       " [252 rows x 6 columns],\n",
       "              Open   High    Low  Close  Adj Close  Volume\n",
       " Date                                                     \n",
       " 2020-04-28  12.42  12.50  12.36  12.38  11.432971   99900\n",
       " 2020-04-29  12.51  12.78  12.43  12.67  11.700788  107000\n",
       " 2020-04-30  12.74  12.74  12.54  12.61  11.645381   25700\n",
       " 2020-05-01  12.60  12.76  12.59  12.73  11.756197   76800\n",
       " 2020-05-04  12.70  12.75  12.65  12.74  11.765430   46400\n",
       " ...           ...    ...    ...    ...        ...     ...\n",
       " 2021-04-21  14.40  14.45  14.36  14.38  13.892684   40200\n",
       " 2021-04-22  14.40  14.40  14.33  14.35  13.863702   57800\n",
       " 2021-04-23  14.34  14.54  14.33  14.42  13.931329   54300\n",
       " 2021-04-26  14.44  14.53  14.38  14.40  13.912005   43400\n",
       " 2021-04-27  14.41  14.50  14.36  14.48  13.989295   47400\n",
       " \n",
       " [252 rows x 6 columns],\n",
       " Empty DataFrame\n",
       " Columns: [Open, High, Low, Close, Adj Close, Volume]\n",
       " Index: [],\n",
       "              Open   High    Low  Close  Adj Close  Volume\n",
       " Date                                                     \n",
       " 2020-04-24  12.80  12.80  12.53  12.71  11.737728   99100\n",
       " 2020-04-27  12.60  12.69  12.31  12.40  11.451441  134800\n",
       " 2020-04-28  12.42  12.50  12.36  12.38  11.432971   99900\n",
       " 2020-04-29  12.51  12.78  12.43  12.67  11.700788  107000\n",
       " 2020-04-30  12.74  12.74  12.54  12.61  11.645381   25700\n",
       " ...           ...    ...    ...    ...        ...     ...\n",
       " 2021-04-19  14.47  14.47  14.35  14.36  13.873359   33600\n",
       " 2021-04-20  14.40  14.43  14.39  14.40  13.912005   29100\n",
       " 2021-04-21  14.40  14.45  14.36  14.38  13.892684   40200\n",
       " 2021-04-22  14.40  14.40  14.33  14.35  13.863702   57800\n",
       " 2021-04-23  14.34  14.54  14.33  14.42  13.931329   54300\n",
       " \n",
       " [252 rows x 6 columns],\n",
       " Empty DataFrame\n",
       " Columns: [Open, High, Low, Close, Adj Close, Volume]\n",
       " Index: [],\n",
       " Empty DataFrame\n",
       " Columns: [Open, High, Low, Close, Adj Close, Volume]\n",
       " Index: [],\n",
       " Empty DataFrame\n",
       " Columns: [Open, High, Low, Close, Adj Close, Volume]\n",
       " Index: [],\n",
       "              Open   High    Low  Close  Adj Close  Volume\n",
       " Date                                                     \n",
       " 2020-02-24  14.60  14.62  14.56  14.60  13.386231   66400\n",
       " 2020-02-25  14.59  14.62  14.55  14.55  13.340391   53800\n",
       " 2020-02-26  14.62  14.63  14.50  14.50  13.294546   90200\n",
       " 2020-02-27  14.50  14.54  14.45  14.47  13.267038   75800\n",
       " 2020-02-28  14.49  14.58  14.33  14.43  13.230365   55900\n",
       " ...           ...    ...    ...    ...        ...     ...\n",
       " 2021-02-17  14.33  14.33  14.22  14.23  13.648017   38100\n",
       " 2021-02-18  14.26  14.26  14.13  14.13  13.552108   38800\n",
       " 2021-02-19  14.16  14.16  14.03  14.06  13.484970   29100\n",
       " 2021-02-22  14.10  14.10  13.97  14.08  13.504151   71600\n",
       " 2021-02-23  14.05  14.05  13.91  14.05  13.475378   42900\n",
       " \n",
       " [253 rows x 6 columns],\n",
       " Empty DataFrame\n",
       " Columns: [Open, High, Low, Close, Adj Close, Volume]\n",
       " Index: [],\n",
       "              Open   High    Low  Close  Adj Close  Volume\n",
       " Date                                                     \n",
       " 2020-02-19  14.60  14.60  14.59  14.60  13.386231   15500\n",
       " 2020-02-20  14.62  14.63  14.58  14.61  13.395398   26700\n",
       " 2020-02-21  14.60  14.61  14.54  14.55  13.340391   40900\n",
       " 2020-02-24  14.60  14.62  14.56  14.60  13.386231   66400\n",
       " 2020-02-25  14.59  14.62  14.55  14.55  13.340391   53800\n",
       " ...           ...    ...    ...    ...        ...     ...\n",
       " 2021-02-11  14.51  14.53  14.43  14.43  13.839838   12600\n",
       " 2021-02-12  14.43  14.50  14.40  14.40  13.811064   40300\n",
       " 2021-02-16  14.40  14.45  14.24  14.28  13.695971   43800\n",
       " 2021-02-17  14.33  14.33  14.22  14.23  13.648017   38100\n",
       " 2021-02-18  14.26  14.26  14.13  14.13  13.552108   38800\n",
       " \n",
       " [253 rows x 6 columns],\n",
       " Empty DataFrame\n",
       " Columns: [Open, High, Low, Close, Adj Close, Volume]\n",
       " Index: [],\n",
       "              Open   High    Low  Close  Adj Close  Volume\n",
       " Date                                                     \n",
       " 2020-02-18  14.57  14.60  14.56  14.59  13.377065   36400\n",
       " 2020-02-19  14.60  14.60  14.59  14.60  13.386231   15500\n",
       " 2020-02-20  14.62  14.63  14.58  14.61  13.395398   26700\n",
       " 2020-02-21  14.60  14.61  14.54  14.55  13.340391   40900\n",
       " 2020-02-24  14.60  14.62  14.56  14.60  13.386231   66400\n",
       " ...           ...    ...    ...    ...        ...     ...\n",
       " 2021-02-10  14.58  14.61  14.50  14.53  13.885876   20300\n",
       " 2021-02-11  14.51  14.53  14.43  14.43  13.839838   12600\n",
       " 2021-02-12  14.43  14.50  14.40  14.40  13.811064   40300\n",
       " 2021-02-16  14.40  14.45  14.24  14.28  13.695971   43800\n",
       " 2021-02-17  14.33  14.33  14.22  14.23  13.648017   38100\n",
       " \n",
       " [253 rows x 6 columns],\n",
       " Empty DataFrame\n",
       " Columns: [Open, High, Low, Close, Adj Close, Volume]\n",
       " Index: [],\n",
       " Empty DataFrame\n",
       " Columns: [Open, High, Low, Close, Adj Close, Volume]\n",
       " Index: [],\n",
       " Empty DataFrame\n",
       " Columns: [Open, High, Low, Close, Adj Close, Volume]\n",
       " Index: [],\n",
       " Empty DataFrame\n",
       " Columns: [Open, High, Low, Close, Adj Close, Volume]\n",
       " Index: [],\n",
       " Empty DataFrame\n",
       " Columns: [Open, High, Low, Close, Adj Close, Volume]\n",
       " Index: [],\n",
       " Empty DataFrame\n",
       " Columns: [Open, High, Low, Close, Adj Close, Volume]\n",
       " Index: [],\n",
       " Empty DataFrame\n",
       " Columns: [Open, High, Low, Close, Adj Close, Volume]\n",
       " Index: [],\n",
       " Empty DataFrame\n",
       " Columns: [Open, High, Low, Close, Adj Close, Volume]\n",
       " Index: [],\n",
       "              Open   High    Low  Close  Adj Close  Volume\n",
       " Date                                                     \n",
       " 2019-11-29  14.10  14.19  14.10  14.19  12.880535   35300\n",
       " 2019-12-02  14.16  14.20  14.09  14.19  12.880535   32800\n",
       " 2019-12-03  14.21  14.24  14.17  14.23  12.916844   43700\n",
       " 2019-12-04  14.23  14.23  14.16  14.18  12.871460   31300\n",
       " 2019-12-05  14.20  14.25  14.20  14.25  12.934999   33900\n",
       " ...           ...    ...    ...    ...        ...     ...\n",
       " 2020-11-20  13.62  13.62  13.55  13.58  12.882505   45800\n",
       " 2020-11-23  13.58  13.62  13.55  13.62  12.920451   67000\n",
       " 2020-11-24  13.69  13.70  13.61  13.65  12.948910   37300\n",
       " 2020-11-25  13.79  13.83  13.69  13.78  13.072233   86000\n",
       " 2020-11-27  13.83  13.85  13.82  13.85  13.138636   23400\n",
       " \n",
       " [252 rows x 6 columns],\n",
       " Empty DataFrame\n",
       " Columns: [Open, High, Low, Close, Adj Close, Volume]\n",
       " Index: [],\n",
       " Empty DataFrame\n",
       " Columns: [Open, High, Low, Close, Adj Close, Volume]\n",
       " Index: [],\n",
       " Empty DataFrame\n",
       " Columns: [Open, High, Low, Close, Adj Close, Volume]\n",
       " Index: [],\n",
       " Empty DataFrame\n",
       " Columns: [Open, High, Low, Close, Adj Close, Volume]\n",
       " Index: [],\n",
       " Empty DataFrame\n",
       " Columns: [Open, High, Low, Close, Adj Close, Volume]\n",
       " Index: [],\n",
       " Empty DataFrame\n",
       " Columns: [Open, High, Low, Close, Adj Close, Volume]\n",
       " Index: [],\n",
       " Empty DataFrame\n",
       " Columns: [Open, High, Low, Close, Adj Close, Volume]\n",
       " Index: [],\n",
       " Empty DataFrame\n",
       " Columns: [Open, High, Low, Close, Adj Close, Volume]\n",
       " Index: [],\n",
       " Empty DataFrame\n",
       " Columns: [Open, High, Low, Close, Adj Close, Volume]\n",
       " Index: [],\n",
       " Empty DataFrame\n",
       " Columns: [Open, High, Low, Close, Adj Close, Volume]\n",
       " Index: [],\n",
       " Empty DataFrame\n",
       " Columns: [Open, High, Low, Close, Adj Close, Volume]\n",
       " Index: [],\n",
       "              Open   High    Low  Close  Adj Close  Volume\n",
       " Date                                                     \n",
       " 2019-10-22  14.08  14.09  14.01  14.06  12.718809   25900\n",
       " 2019-10-23  14.10  14.10  14.01  14.06  12.718809   40700\n",
       " 2019-10-24  14.10  14.10  13.98  14.05  12.709762   23900\n",
       " 2019-10-25  14.09  14.09  13.97  13.98  12.646436   33200\n",
       " 2019-10-28  13.96  13.97  13.85  13.94  12.610251   28400\n",
       " ...           ...    ...    ...    ...        ...     ...\n",
       " 2020-10-15  13.67  13.67  13.51  13.51  12.766953   34000\n",
       " 2020-10-16  13.48  13.65  13.46  13.60  12.852003   18100\n",
       " 2020-10-19  13.61  13.74  13.60  13.74  12.984303   32900\n",
       " 2020-10-20  13.70  13.85  13.60  13.85  13.088252   25600\n",
       " 2020-10-21  13.74  13.74  13.61  13.69  12.937056   24200\n",
       " \n",
       " [253 rows x 6 columns],\n",
       "              Open   High    Low  Close  Adj Close  Volume\n",
       " Date                                                     \n",
       " 2019-10-22  14.08  14.09  14.01  14.06  12.718809   25900\n",
       " 2019-10-23  14.10  14.10  14.01  14.06  12.718809   40700\n",
       " 2019-10-24  14.10  14.10  13.98  14.05  12.709762   23900\n",
       " 2019-10-25  14.09  14.09  13.97  13.98  12.646436   33200\n",
       " 2019-10-28  13.96  13.97  13.85  13.94  12.610251   28400\n",
       " ...           ...    ...    ...    ...        ...     ...\n",
       " 2020-10-15  13.67  13.67  13.51  13.51  12.766953   34000\n",
       " 2020-10-16  13.48  13.65  13.46  13.60  12.852003   18100\n",
       " 2020-10-19  13.61  13.74  13.60  13.74  12.984303   32900\n",
       " 2020-10-20  13.70  13.85  13.60  13.85  13.088252   25600\n",
       " 2020-10-21  13.74  13.74  13.61  13.69  12.937056   24200\n",
       " \n",
       " [253 rows x 6 columns],\n",
       " Empty DataFrame\n",
       " Columns: [Open, High, Low, Close, Adj Close, Volume]\n",
       " Index: [],\n",
       " Empty DataFrame\n",
       " Columns: [Open, High, Low, Close, Adj Close, Volume]\n",
       " Index: [],\n",
       " Empty DataFrame\n",
       " Columns: [Open, High, Low, Close, Adj Close, Volume]\n",
       " Index: [],\n",
       "              Open   High    Low  Close  Adj Close  Volume\n",
       " Date                                                     \n",
       " 2019-08-13  14.18  14.22  14.16  14.21  12.724517   47100\n",
       " 2019-08-14  14.24  14.24  14.12  14.21  12.767644   49700\n",
       " 2019-08-15  14.24  14.25  14.18  14.21  12.767644   40800\n",
       " 2019-08-16  14.22  14.23  14.14  14.15  12.713733   15600\n",
       " 2019-08-19  14.17  14.25  14.14  14.17  12.731702   79400\n",
       " ...           ...    ...    ...    ...        ...     ...\n",
       " 2020-08-06  14.10  14.17  14.10  14.11  13.184649   21600\n",
       " 2020-08-07  14.14  14.17  14.12  14.12  13.193997   14100\n",
       " 2020-08-10  14.17  14.17  14.13  14.13  13.203341   45600\n",
       " 2020-08-11  14.17  14.39  14.14  14.24  13.306127   51200\n",
       " 2020-08-12  14.28  14.29  14.18  14.19  13.259405   13800\n",
       " \n",
       " [253 rows x 6 columns],\n",
       "              Open   High    Low  Close  Adj Close  Volume\n",
       " Date                                                     \n",
       " 2019-08-12  14.23  14.23  14.14  14.18  12.697652   65300\n",
       " 2019-08-13  14.18  14.22  14.16  14.21  12.724517   47100\n",
       " 2019-08-14  14.24  14.24  14.12  14.21  12.767644   49700\n",
       " 2019-08-15  14.24  14.25  14.18  14.21  12.767644   40800\n",
       " 2019-08-16  14.22  14.23  14.14  14.15  12.713733   15600\n",
       " ...           ...    ...    ...    ...        ...     ...\n",
       " 2020-08-05  14.12  14.13  14.10  14.11  13.184649   30700\n",
       " 2020-08-06  14.10  14.17  14.10  14.11  13.184649   21600\n",
       " 2020-08-07  14.14  14.17  14.12  14.12  13.193997   14100\n",
       " 2020-08-10  14.17  14.17  14.13  14.13  13.203341   45600\n",
       " 2020-08-11  14.17  14.39  14.14  14.24  13.306127   51200\n",
       " \n",
       " [253 rows x 6 columns],\n",
       " Empty DataFrame\n",
       " Columns: [Open, High, Low, Close, Adj Close, Volume]\n",
       " Index: [],\n",
       "              Open   High    Low  Close  Adj Close  Volume\n",
       " Date                                                     \n",
       " 2019-08-02  14.17  14.18  14.13  14.13  12.652882   31600\n",
       " 2019-08-05  14.18  14.20  14.10  14.15  12.670788   40700\n",
       " 2019-08-06  14.16  14.16  14.11  14.14  12.661835   52700\n",
       " 2019-08-07  14.17  14.25  14.16  14.19  12.706607   45100\n",
       " 2019-08-08  14.20  14.20  14.04  14.06  12.590197   60400\n",
       " ...           ...    ...    ...    ...        ...     ...\n",
       " 2020-07-27  13.81  13.90  13.81  13.84  12.932360   12600\n",
       " 2020-07-28  13.91  13.93  13.88  13.90  12.988424   28500\n",
       " 2020-07-29  13.97  14.07  13.95  14.00  13.081864   42700\n",
       " 2020-07-30  14.02  14.12  13.99  14.08  13.156618   16200\n",
       " 2020-07-31  14.14  14.18  14.11  14.15  13.222029   36200\n",
       " \n",
       " [252 rows x 6 columns],\n",
       " Empty DataFrame\n",
       " Columns: [Open, High, Low, Close, Adj Close, Volume]\n",
       " Index: [],\n",
       "              Open   High    Low  Close  Adj Close  Volume\n",
       " Date                                                     \n",
       " 2019-07-29  14.03  14.11  14.03  14.11  12.634970   31100\n",
       " 2019-07-30  14.11  14.13  14.07  14.09  12.617060   25400\n",
       " 2019-07-31  14.12  14.14  14.00  14.12  12.643926  116400\n",
       " 2019-08-01  14.14  14.17  14.12  14.17  12.688697  321800\n",
       " 2019-08-02  14.17  14.18  14.13  14.13  12.652882   31600\n",
       " ...           ...    ...    ...    ...        ...     ...\n",
       " 2020-07-22  13.66  13.72  13.66  13.70  12.801538   29100\n",
       " 2020-07-23  13.70  13.76  13.69  13.76  12.857607   26500\n",
       " 2020-07-24  13.83  13.83  13.75  13.82  12.913671   18000\n",
       " 2020-07-27  13.81  13.90  13.81  13.84  12.932360   12600\n",
       " 2020-07-28  13.91  13.93  13.88  13.90  12.988424   28500\n",
       " \n",
       " [253 rows x 6 columns],\n",
       "              Open   High    Low  Close  Adj Close  Volume\n",
       " Date                                                     \n",
       " 2019-07-22  14.00  14.00  13.93  13.97  12.509606   22300\n",
       " 2019-07-23  13.99  13.99  13.93  13.97  12.509606   14700\n",
       " 2019-07-24  14.03  14.03  13.99  14.03  12.563332   42500\n",
       " 2019-07-25  14.05  14.06  14.04  14.05  12.581240   30700\n",
       " 2019-07-26  14.08  14.08  13.96  14.07  12.599153   60100\n",
       " ...           ...    ...    ...    ...        ...     ...\n",
       " 2020-07-15  13.48  13.55  13.48  13.53  12.642689   31500\n",
       " 2020-07-16  13.49  13.56  13.49  13.52  12.633347   29900\n",
       " 2020-07-17  13.48  13.63  13.48  13.63  12.736129   33100\n",
       " 2020-07-20  13.69  13.71  13.59  13.71  12.810883   37600\n",
       " 2020-07-21  13.73  13.73  13.63  13.68  12.782851   30100\n",
       " \n",
       " [253 rows x 6 columns],\n",
       "              Open   High    Low  Close  Adj Close  Volume\n",
       " Date                                                     \n",
       " 2019-07-22  14.00  14.00  13.93  13.97  12.509606   22300\n",
       " 2019-07-23  13.99  13.99  13.93  13.97  12.509606   14700\n",
       " 2019-07-24  14.03  14.03  13.99  14.03  12.563332   42500\n",
       " 2019-07-25  14.05  14.06  14.04  14.05  12.581240   30700\n",
       " 2019-07-26  14.08  14.08  13.96  14.07  12.599153   60100\n",
       " ...           ...    ...    ...    ...        ...     ...\n",
       " 2020-07-15  13.48  13.55  13.48  13.53  12.642689   31500\n",
       " 2020-07-16  13.49  13.56  13.49  13.52  12.633347   29900\n",
       " 2020-07-17  13.48  13.63  13.48  13.63  12.736129   33100\n",
       " 2020-07-20  13.69  13.71  13.59  13.71  12.810883   37600\n",
       " 2020-07-21  13.73  13.73  13.63  13.68  12.782851   30100\n",
       " \n",
       " [253 rows x 6 columns],\n",
       " Empty DataFrame\n",
       " Columns: [Open, High, Low, Close, Adj Close, Volume]\n",
       " Index: [],\n",
       " Empty DataFrame\n",
       " Columns: [Open, High, Low, Close, Adj Close, Volume]\n",
       " Index: [],\n",
       " Empty DataFrame\n",
       " Columns: [Open, High, Low, Close, Adj Close, Volume]\n",
       " Index: [],\n",
       " Empty DataFrame\n",
       " Columns: [Open, High, Low, Close, Adj Close, Volume]\n",
       " Index: [],\n",
       " Empty DataFrame\n",
       " Columns: [Open, High, Low, Close, Adj Close, Volume]\n",
       " Index: [],\n",
       " Empty DataFrame\n",
       " Columns: [Open, High, Low, Close, Adj Close, Volume]\n",
       " Index: [],\n",
       " Empty DataFrame\n",
       " Columns: [Open, High, Low, Close, Adj Close, Volume]\n",
       " Index: [],\n",
       " Empty DataFrame\n",
       " Columns: [Open, High, Low, Close, Adj Close, Volume]\n",
       " Index: [],\n",
       " Empty DataFrame\n",
       " Columns: [Open, High, Low, Close, Adj Close, Volume]\n",
       " Index: [],\n",
       "              Open   High    Low  Close  Adj Close  Volume\n",
       " Date                                                     \n",
       " 2019-05-16  13.74  13.75  13.63  13.70  12.183123   27100\n",
       " 2019-05-17  13.70  13.73  13.64  13.65  12.138659   30200\n",
       " 2019-05-20  13.70  13.75  13.65  13.70  12.183123   45100\n",
       " 2019-05-21  13.70  13.71  13.67  13.69  12.174230   16300\n",
       " 2019-05-22  13.69  13.72  13.59  13.63  12.120874   40300\n",
       " ...           ...    ...    ...    ...        ...     ...\n",
       " 2020-05-11  13.17  13.17  13.01  13.09  12.088661   41400\n",
       " 2020-05-12  13.13  13.13  13.02  13.04  12.042484   54000\n",
       " 2020-05-13  13.11  13.11  12.93  12.99  11.996310   47400\n",
       " 2020-05-14  13.03  13.03  12.71  12.75  11.821991   88500\n",
       " 2020-05-15  12.80  12.80  12.67  12.78  11.849810   31400\n",
       " \n",
       " [253 rows x 6 columns],\n",
       " Empty DataFrame\n",
       " Columns: [Open, High, Low, Close, Adj Close, Volume]\n",
       " Index: [],\n",
       " Empty DataFrame\n",
       " Columns: [Open, High, Low, Close, Adj Close, Volume]\n",
       " Index: [],\n",
       " Empty DataFrame\n",
       " Columns: [Open, High, Low, Close, Adj Close, Volume]\n",
       " Index: [],\n",
       "              Open   High    Low  Close  Adj Close  Volume\n",
       " Date                                                     \n",
       " 2019-04-30  13.31  13.38  13.31  13.38  11.856925   39700\n",
       " 2019-05-01  13.40  13.50  13.35  13.49  11.954405   43600\n",
       " 2019-05-02  13.50  13.56  13.41  13.56  12.016434   45700\n",
       " 2019-05-03  13.58  13.58  13.52  13.56  12.016434   35500\n",
       " 2019-05-06  13.60  13.62  13.54  13.58  12.034159   59000\n",
       " ...           ...    ...    ...    ...        ...     ...\n",
       " 2020-04-23  12.87  12.87  12.67  12.76  11.783903   92100\n",
       " 2020-04-24  12.80  12.80  12.53  12.71  11.737728   99100\n",
       " 2020-04-27  12.60  12.69  12.31  12.40  11.451441  134800\n",
       " 2020-04-28  12.42  12.50  12.36  12.38  11.432971   99900\n",
       " 2020-04-29  12.51  12.78  12.43  12.67  11.700788  107000\n",
       " \n",
       " [253 rows x 6 columns],\n",
       " Empty DataFrame\n",
       " Columns: [Open, High, Low, Close, Adj Close, Volume]\n",
       " Index: [],\n",
       "              Open   High    Low  Close  Adj Close  Volume\n",
       " Date                                                     \n",
       " 2019-04-08  13.45  13.50  13.38  13.50  11.920852   37300\n",
       " 2019-04-09  13.50  13.51  13.44  13.48  11.903193   27700\n",
       " 2019-04-10  13.51  13.54  13.50  13.51  11.929686   35200\n",
       " 2019-04-11  13.53  13.54  13.45  13.54  11.956174   25100\n",
       " 2019-04-12  13.45  13.54  13.44  13.46  11.927817   19900\n",
       " ...           ...    ...    ...    ...        ...     ...\n",
       " 2020-04-01  13.01  13.02  12.59  12.80  11.776929  125600\n",
       " 2020-04-02  12.76  12.76  12.41  12.46  11.464103   39800\n",
       " 2020-04-03  12.25  12.49  12.25  12.35  11.362894   59200\n",
       " 2020-04-06  12.43  12.67  12.43  12.50  11.500905   61200\n",
       " 2020-04-07  12.64  12.79  12.63  12.74  11.721722   42100\n",
       " \n",
       " [253 rows x 6 columns],\n",
       "              Open   High    Low  Close  Adj Close  Volume\n",
       " Date                                                     \n",
       " 2019-04-01  13.42  13.51  13.40  13.51  11.929686   66300\n",
       " 2019-04-02  13.53  13.53  13.46  13.48  11.903193   48700\n",
       " 2019-04-03  13.48  13.48  13.37  13.38  11.814894   32800\n",
       " 2019-04-04  13.39  13.45  13.35  13.35  11.788399   37300\n",
       " 2019-04-05  13.37  13.45  13.30  13.40  11.832554   19500\n",
       " ...           ...    ...    ...    ...        ...     ...\n",
       " 2020-03-25  11.68  12.38  11.67  12.33  11.344492  164700\n",
       " 2020-03-26  12.30  12.91  12.30  12.80  11.776929  167700\n",
       " 2020-03-27  12.73  12.92  12.58  12.70  11.684920   96300\n",
       " 2020-03-30  12.83  13.00  12.74  13.00  11.960944  105800\n",
       " 2020-03-31  13.03  13.15  13.01  13.13  12.080549  102100\n",
       " \n",
       " [253 rows x 6 columns],\n",
       " Empty DataFrame\n",
       " Columns: [Open, High, Low, Close, Adj Close, Volume]\n",
       " Index: [],\n",
       " Empty DataFrame\n",
       " Columns: [Open, High, Low, Close, Adj Close, Volume]\n",
       " Index: [],\n",
       " Empty DataFrame\n",
       " Columns: [Open, High, Low, Close, Adj Close, Volume]\n",
       " Index: [],\n",
       " Empty DataFrame\n",
       " Columns: [Open, High, Low, Close, Adj Close, Volume]\n",
       " Index: [],\n",
       " Empty DataFrame\n",
       " Columns: [Open, High, Low, Close, Adj Close, Volume]\n",
       " Index: [],\n",
       " Empty DataFrame\n",
       " Columns: [Open, High, Low, Close, Adj Close, Volume]\n",
       " Index: [],\n",
       " Empty DataFrame\n",
       " Columns: [Open, High, Low, Close, Adj Close, Volume]\n",
       " Index: [],\n",
       " Empty DataFrame\n",
       " Columns: [Open, High, Low, Close, Adj Close, Volume]\n",
       " Index: [],\n",
       " Empty DataFrame\n",
       " Columns: [Open, High, Low, Close, Adj Close, Volume]\n",
       " Index: [],\n",
       " Empty DataFrame\n",
       " Columns: [Open, High, Low, Close, Adj Close, Volume]\n",
       " Index: [],\n",
       "              Open   High    Low  Close  Adj Close  Volume\n",
       " Date                                                     \n",
       " 2019-02-08  12.86  12.90  12.83  12.88  11.289690  108200\n",
       " 2019-02-11  12.88  12.94  12.87  12.94  11.342278   57600\n",
       " 2019-02-12  12.88  13.00  12.88  12.91  11.315985   59200\n",
       " 2019-02-13  12.91  12.93  12.83  12.84  11.254626   42900\n",
       " 2019-02-14  12.83  12.90  12.78  12.90  11.349648   37500\n",
       " ...           ...    ...    ...    ...        ...     ...\n",
       " 2020-02-03  14.51  14.52  14.50  14.51  13.260063   33000\n",
       " 2020-02-04  14.50  14.50  14.45  14.46  13.214373   35200\n",
       " 2020-02-05  14.50  14.51  14.45  14.51  13.260063   60700\n",
       " 2020-02-06  14.50  14.54  14.48  14.52  13.269205   39700\n",
       " 2020-02-07  14.54  14.55  14.54  14.55  13.296621   17600\n",
       " \n",
       " [252 rows x 6 columns],\n",
       " Empty DataFrame\n",
       " Columns: [Open, High, Low, Close, Adj Close, Volume]\n",
       " Index: [],\n",
       " Empty DataFrame\n",
       " Columns: [Open, High, Low, Close, Adj Close, Volume]\n",
       " Index: [],\n",
       "              Open   High    Low  Close  Adj Close  Volume\n",
       " Date                                                     \n",
       " 2019-01-31  12.74  12.79  12.73  12.77  11.193272   28400\n",
       " 2019-02-01  12.74  12.79  12.72  12.73  11.158207   74900\n",
       " 2019-02-04  12.75  12.83  12.74  12.83  11.245864   48500\n",
       " 2019-02-05  12.83  12.84  12.81  12.84  11.254626   59200\n",
       " 2019-02-06  12.85  12.85  12.81  12.85  11.263395   35800\n",
       " ...           ...    ...    ...    ...        ...     ...\n",
       " 2020-01-24  14.42  14.44  14.35  14.41  13.168681   46400\n",
       " 2020-01-27  14.49  14.49  14.44  14.48  13.232650   55300\n",
       " 2020-01-28  14.49  14.49  14.45  14.46  13.214373   32600\n",
       " 2020-01-29  14.50  14.51  14.46  14.51  13.260063   36300\n",
       " 2020-01-30  14.52  14.52  14.50  14.51  13.260063   26800\n",
       " \n",
       " [252 rows x 6 columns],\n",
       " Empty DataFrame\n",
       " Columns: [Open, High, Low, Close, Adj Close, Volume]\n",
       " Index: [],\n",
       " Empty DataFrame\n",
       " Columns: [Open, High, Low, Close, Adj Close, Volume]\n",
       " Index: [],\n",
       " Empty DataFrame\n",
       " Columns: [Open, High, Low, Close, Adj Close, Volume]\n",
       " Index: [],\n",
       " Empty DataFrame\n",
       " Columns: [Open, High, Low, Close, Adj Close, Volume]\n",
       " Index: [],\n",
       " Empty DataFrame\n",
       " Columns: [Open, High, Low, Close, Adj Close, Volume]\n",
       " Index: [],\n",
       " Empty DataFrame\n",
       " Columns: [Open, High, Low, Close, Adj Close, Volume]\n",
       " Index: [],\n",
       "              Open   High    Low  Close  Adj Close  Volume\n",
       " Date                                                     \n",
       " 2018-10-26  12.10  12.18  12.10  12.15  10.526903   64900\n",
       " 2018-10-29  12.13  12.24  12.10  12.15  10.526903   79300\n",
       " 2018-10-30  12.12  12.23  12.03  12.10  10.483585   89200\n",
       " 2018-10-31  12.05  12.18  12.03  12.10  10.483585   63200\n",
       " 2018-11-01  12.11  12.14  12.05  12.13  10.509576  100600\n",
       " ...           ...    ...    ...    ...        ...     ...\n",
       " 2019-10-21  14.06  14.10  14.01  14.05  12.709762   53300\n",
       " 2019-10-22  14.08  14.09  14.01  14.06  12.718809   25900\n",
       " 2019-10-23  14.10  14.10  14.01  14.06  12.718809   40700\n",
       " 2019-10-24  14.10  14.10  13.98  14.05  12.709762   23900\n",
       " 2019-10-25  14.09  14.09  13.97  13.98  12.646436   33200\n",
       " \n",
       " [251 rows x 6 columns],\n",
       " Empty DataFrame\n",
       " Columns: [Open, High, Low, Close, Adj Close, Volume]\n",
       " Index: [],\n",
       " Empty DataFrame\n",
       " Columns: [Open, High, Low, Close, Adj Close, Volume]\n",
       " Index: [],\n",
       " Empty DataFrame\n",
       " Columns: [Open, High, Low, Close, Adj Close, Volume]\n",
       " Index: [],\n",
       "              Open   High    Low  Close  Adj Close  Volume\n",
       " Date                                                     \n",
       " 2018-10-10  12.12  12.15  12.06  12.13  10.468125   58900\n",
       " 2018-10-11  12.13  12.22  12.11  12.17  10.502645  116100\n",
       " 2018-10-12  12.12  12.15  12.02  12.02  10.414270  104900\n",
       " 2018-10-15  12.07  12.07  12.03  12.07  10.457590   40900\n",
       " 2018-10-16  12.08  12.20  12.05  12.20  10.570225   47900\n",
       " ...           ...    ...    ...    ...        ...     ...\n",
       " 2019-10-03  14.27  14.32  14.25  14.25  12.847383   46600\n",
       " 2019-10-04  14.30  14.30  14.22  14.23  12.829353   25100\n",
       " 2019-10-07  14.23  14.36  14.20  14.23  12.829353   92700\n",
       " 2019-10-08  14.27  14.28  14.15  14.18  12.784274   44100\n",
       " 2019-10-09  14.21  14.27  14.21  14.27  12.865413   17100\n",
       " \n",
       " [251 rows x 6 columns],\n",
       "              Open   High    Low  Close  Adj Close  Volume\n",
       " Date                                                     \n",
       " 2018-10-10  12.12  12.15  12.06  12.13  10.468125   58900\n",
       " 2018-10-11  12.13  12.22  12.11  12.17  10.502645  116100\n",
       " 2018-10-12  12.12  12.15  12.02  12.02  10.414270  104900\n",
       " 2018-10-15  12.07  12.07  12.03  12.07  10.457590   40900\n",
       " 2018-10-16  12.08  12.20  12.05  12.20  10.570225   47900\n",
       " ...           ...    ...    ...    ...        ...     ...\n",
       " 2019-10-03  14.27  14.32  14.25  14.25  12.847383   46600\n",
       " 2019-10-04  14.30  14.30  14.22  14.23  12.829353   25100\n",
       " 2019-10-07  14.23  14.36  14.20  14.23  12.829353   92700\n",
       " 2019-10-08  14.27  14.28  14.15  14.18  12.784274   44100\n",
       " 2019-10-09  14.21  14.27  14.21  14.27  12.865413   17100\n",
       " \n",
       " [251 rows x 6 columns],\n",
       " Empty DataFrame\n",
       " Columns: [Open, High, Low, Close, Adj Close, Volume]\n",
       " Index: [],\n",
       " Empty DataFrame\n",
       " Columns: [Open, High, Low, Close, Adj Close, Volume]\n",
       " Index: [],\n",
       " Empty DataFrame\n",
       " Columns: [Open, High, Low, Close, Adj Close, Volume]\n",
       " Index: [],\n",
       "              Open   High    Low  Close  Adj Close  Volume\n",
       " Date                                                     \n",
       " 2018-08-31  12.59  12.60  12.56  12.59  10.823382   41100\n",
       " 2018-09-04  12.60  12.60  12.52  12.56  10.797591   42100\n",
       " 2018-09-05  12.56  12.58  12.56  12.57  10.806190   35400\n",
       " 2018-09-06  12.59  12.61  12.53  12.57  10.806190   50400\n",
       " 2018-09-07  12.53  12.56  12.51  12.55  10.788993   63800\n",
       " ...           ...    ...    ...    ...        ...     ...\n",
       " 2019-08-26  14.13  14.18  14.10  14.15  12.713733   35600\n",
       " 2019-08-27  14.18  14.21  14.08  14.18  12.740690   47600\n",
       " 2019-08-28  14.20  14.24  14.17  14.21  12.767644   80800\n",
       " 2019-08-29  14.24  14.26  14.19  14.22  12.776630   34500\n",
       " 2019-08-30  14.26  14.27  14.22  14.25  12.803585   12000\n",
       " \n",
       " [251 rows x 6 columns],\n",
       " Empty DataFrame\n",
       " Columns: [Open, High, Low, Close, Adj Close, Volume]\n",
       " Index: [],\n",
       "              Open   High    Low  Close  Adj Close  Volume\n",
       " Date                                                     \n",
       " 2018-08-23  12.54  12.55  12.51  12.54  10.780396   71300\n",
       " 2018-08-24  12.53  12.56  12.52  12.53  10.771802  133400\n",
       " 2018-08-27  12.52  12.57  12.52  12.57  10.806190   34600\n",
       " 2018-08-28  12.55  12.57  12.54  12.55  10.788993   38100\n",
       " 2018-08-29  12.54  12.58  12.53  12.54  10.780396   41100\n",
       " ...           ...    ...    ...    ...        ...     ...\n",
       " 2019-08-16  14.22  14.23  14.14  14.15  12.713733   15600\n",
       " 2019-08-19  14.17  14.25  14.14  14.17  12.731702   79400\n",
       " 2019-08-20  14.22  14.25  14.16  14.20  12.758658   45500\n",
       " 2019-08-21  14.18  14.28  14.18  14.22  12.776630   31500\n",
       " 2019-08-22  14.22  14.28  14.17  14.18  12.740690   27400\n",
       " \n",
       " [251 rows x 6 columns],\n",
       "              Open   High    Low  Close  Adj Close  Volume\n",
       " Date                                                     \n",
       " 2018-08-20  12.52  12.54  12.51  12.51  10.754605   50100\n",
       " 2018-08-21  12.50  12.56  12.50  12.55  10.788993   58600\n",
       " 2018-08-22  12.54  12.55  12.51  12.53  10.771802   90500\n",
       " 2018-08-23  12.54  12.55  12.51  12.54  10.780396   71300\n",
       " 2018-08-24  12.53  12.56  12.52  12.53  10.771802  133400\n",
       " ...           ...    ...    ...    ...        ...     ...\n",
       " 2019-08-13  14.18  14.22  14.16  14.21  12.724517   47100\n",
       " 2019-08-14  14.24  14.24  14.12  14.21  12.767644   49700\n",
       " 2019-08-15  14.24  14.25  14.18  14.21  12.767644   40800\n",
       " 2019-08-16  14.22  14.23  14.14  14.15  12.713733   15600\n",
       " 2019-08-19  14.17  14.25  14.14  14.17  12.731702   79400\n",
       " \n",
       " [251 rows x 6 columns],\n",
       "              Open   High    Low  Close  Adj Close  Volume\n",
       " Date                                                     \n",
       " 2018-08-14  12.52  12.52  12.50  12.50  10.746012   18100\n",
       " 2018-08-15  12.51  12.54  12.50  12.50  10.746012   25200\n",
       " 2018-08-16  12.51  12.51  12.48  12.49  10.737415   68700\n",
       " 2018-08-17  12.49  12.53  12.47  12.52  10.763204   87100\n",
       " 2018-08-20  12.52  12.54  12.51  12.51  10.754605   50100\n",
       " ...           ...    ...    ...    ...        ...     ...\n",
       " 2019-08-07  14.17  14.25  14.16  14.19  12.706607   45100\n",
       " 2019-08-08  14.20  14.20  14.04  14.06  12.590197   60400\n",
       " 2019-08-09  14.07  14.20  14.04  14.05  12.581240   66500\n",
       " 2019-08-12  14.23  14.23  14.14  14.18  12.697652   65300\n",
       " 2019-08-13  14.18  14.22  14.16  14.21  12.724517   47100\n",
       " \n",
       " [251 rows x 6 columns],\n",
       " Empty DataFrame\n",
       " Columns: [Open, High, Low, Close, Adj Close, Volume]\n",
       " Index: [],\n",
       "              Open   High    Low  Close  Adj Close  Volume\n",
       " Date                                                     \n",
       " 2018-08-06  12.51  12.53  12.50  12.52  10.721940   54200\n",
       " 2018-08-07  12.52  12.53  12.52  12.52  10.721940   27300\n",
       " 2018-08-08  12.53  12.58  12.53  12.53  10.730505   53900\n",
       " 2018-08-09  12.54  12.56  12.50  12.50  10.704813  169500\n",
       " 2018-08-10  12.50  12.55  12.50  12.53  10.730505   58500\n",
       " ...           ...    ...    ...    ...        ...     ...\n",
       " 2019-07-30  14.11  14.13  14.07  14.09  12.617060   25400\n",
       " 2019-07-31  14.12  14.14  14.00  14.12  12.643926  116400\n",
       " 2019-08-01  14.14  14.17  14.12  14.17  12.688697  321800\n",
       " 2019-08-02  14.17  14.18  14.13  14.13  12.652882   31600\n",
       " 2019-08-05  14.18  14.20  14.10  14.15  12.670788   40700\n",
       " \n",
       " [251 rows x 6 columns],\n",
       "              Open   High    Low  Close  Adj Close  Volume\n",
       " Date                                                     \n",
       " 2018-07-27  12.49  12.52  12.49  12.50  10.704813   95100\n",
       " 2018-07-30  12.50  12.51  12.47  12.51  10.713373   49800\n",
       " 2018-07-31  12.50  12.53  12.50  12.50  10.704813   42300\n",
       " 2018-08-01  12.51  12.51  12.48  12.48  10.687684   49600\n",
       " 2018-08-02  12.48  12.51  12.47  12.51  10.713373   64400\n",
       " ...           ...    ...    ...    ...        ...     ...\n",
       " 2019-07-22  14.00  14.00  13.93  13.97  12.509606   22300\n",
       " 2019-07-23  13.99  13.99  13.93  13.97  12.509606   14700\n",
       " 2019-07-24  14.03  14.03  13.99  14.03  12.563332   42500\n",
       " 2019-07-25  14.05  14.06  14.04  14.05  12.581240   30700\n",
       " 2019-07-26  14.08  14.08  13.96  14.07  12.599153   60100\n",
       " \n",
       " [251 rows x 6 columns],\n",
       " Empty DataFrame\n",
       " Columns: [Open, High, Low, Close, Adj Close, Volume]\n",
       " Index: [],\n",
       "              Open   High    Low  Close  Adj Close  Volume\n",
       " Date                                                     \n",
       " 2018-07-03  12.61  12.65  12.61  12.61  10.757874   44000\n",
       " 2018-07-05  12.61  12.62  12.58  12.59  10.740809   30200\n",
       " 2018-07-06  12.58  12.62  12.58  12.59  10.740809   32700\n",
       " 2018-07-09  12.59  12.60  12.54  12.54  10.698157   39700\n",
       " 2018-07-10  12.58  12.62  12.54  12.60  10.749345   39200\n",
       " ...           ...    ...    ...    ...        ...     ...\n",
       " 2019-06-26  13.91  13.95  13.90  13.93  12.430986   44000\n",
       " 2019-06-27  13.95  13.98  13.95  13.98  12.475608   57600\n",
       " 2019-06-28  13.98  13.98  13.86  13.86  12.368521   51600\n",
       " 2019-07-01  13.96  13.99  13.90  13.93  12.430986   26800\n",
       " 2019-07-02  13.90  13.91  13.87  13.87  12.377445   33500\n",
       " \n",
       " [251 rows x 6 columns],\n",
       "              Open   High    Low  Close  Adj Close  Volume\n",
       " Date                                                     \n",
       " 2018-07-02  12.66  12.66  12.61  12.64  10.783466   37700\n",
       " 2018-07-03  12.61  12.65  12.61  12.61  10.757874   44000\n",
       " 2018-07-05  12.61  12.62  12.58  12.59  10.740809   30200\n",
       " 2018-07-06  12.58  12.62  12.58  12.59  10.740809   32700\n",
       " 2018-07-09  12.59  12.60  12.54  12.54  10.698157   39700\n",
       " ...           ...    ...    ...    ...        ...     ...\n",
       " 2019-06-25  13.87  13.92  13.87  13.92  12.422066   26000\n",
       " 2019-06-26  13.91  13.95  13.90  13.93  12.430986   44000\n",
       " 2019-06-27  13.95  13.98  13.95  13.98  12.475608   57600\n",
       " 2019-06-28  13.98  13.98  13.86  13.86  12.368521   51600\n",
       " 2019-07-01  13.96  13.99  13.90  13.93  12.430986   26800\n",
       " \n",
       " [251 rows x 6 columns],\n",
       " Empty DataFrame\n",
       " Columns: [Open, High, Low, Close, Adj Close, Volume]\n",
       " Index: [],\n",
       "              Open   High    Low  Close  Adj Close  Volume\n",
       " Date                                                     \n",
       " 2018-06-22  12.52  12.55  12.48  12.53  10.689627   75800\n",
       " 2018-06-25  12.50  12.53  12.48  12.50  10.664030   57200\n",
       " 2018-06-26  12.50  12.58  12.49  12.55  10.706690   67200\n",
       " 2018-06-27  12.60  12.62  12.54  12.54  10.698157   48400\n",
       " 2018-06-28  12.54  12.58  12.54  12.56  10.715219   15100\n",
       " ...           ...    ...    ...    ...        ...     ...\n",
       " 2019-06-17  13.85  13.85  13.80  13.84  12.350676   66800\n",
       " 2019-06-18  13.82  13.90  13.81  13.90  12.404219   51200\n",
       " 2019-06-19  13.88  13.91  13.86  13.87  12.377445   28300\n",
       " 2019-06-20  13.91  13.92  13.84  13.89  12.395293   87900\n",
       " 2019-06-21  13.89  13.89  13.85  13.88  12.386371    9900\n",
       " \n",
       " [251 rows x 6 columns],\n",
       "              Open   High    Low  Close  Adj Close  Volume\n",
       " Date                                                     \n",
       " 2018-06-18  12.48  12.51  12.48  12.49  10.655500   26600\n",
       " 2018-06-19  12.50  12.51  12.47  12.50  10.664030   77300\n",
       " 2018-06-20  12.49  12.53  12.48  12.49  10.655500  128200\n",
       " 2018-06-21  12.50  12.52  12.49  12.49  10.655500  139700\n",
       " 2018-06-22  12.52  12.55  12.48  12.53  10.689627   75800\n",
       " ...           ...    ...    ...    ...        ...     ...\n",
       " 2019-06-11  13.68  13.75  13.68  13.73  12.209798   46700\n",
       " 2019-06-12  13.73  13.78  13.73  13.77  12.245369   30400\n",
       " 2019-06-13  13.75  13.81  13.68  13.81  12.323904   32000\n",
       " 2019-06-14  13.82  13.82  13.79  13.82  12.332828   47700\n",
       " 2019-06-17  13.85  13.85  13.80  13.84  12.350676   66800\n",
       " \n",
       " [251 rows x 6 columns],\n",
       "              Open   High    Low  Close  Adj Close  Volume\n",
       " Date                                                     \n",
       " 2018-06-14  12.53  12.54  12.50  12.50  10.664030   39700\n",
       " 2018-06-15  12.50  12.53  12.48  12.48  10.646970   32400\n",
       " 2018-06-18  12.48  12.51  12.48  12.49  10.655500   26600\n",
       " 2018-06-19  12.50  12.51  12.47  12.50  10.664030   77300\n",
       " 2018-06-20  12.49  12.53  12.48  12.49  10.655500  128200\n",
       " ...           ...    ...    ...    ...        ...     ...\n",
       " 2019-06-07  13.64  13.65  13.63  13.63  12.120874   22500\n",
       " 2019-06-10  13.65  13.68  13.63  13.68  12.165338   33600\n",
       " 2019-06-11  13.68  13.75  13.68  13.73  12.209798   46700\n",
       " 2019-06-12  13.73  13.78  13.73  13.77  12.245369   30400\n",
       " 2019-06-13  13.75  13.81  13.68  13.81  12.323904   32000\n",
       " \n",
       " [251 rows x 6 columns],\n",
       " Empty DataFrame\n",
       " Columns: [Open, High, Low, Close, Adj Close, Volume]\n",
       " Index: [],\n",
       " Empty DataFrame\n",
       " Columns: [Open, High, Low, Close, Adj Close, Volume]\n",
       " Index: [],\n",
       "              Open   High    Low  Close  Adj Close  Volume\n",
       " Date                                                     \n",
       " 2018-05-18  12.46  12.49  12.44  12.44  10.572316  135100\n",
       " 2018-05-21  12.42  12.47  12.40  12.43  10.563819   67800\n",
       " 2018-05-22  12.42  12.46  12.42  12.42  10.555319   31900\n",
       " 2018-05-23  12.44  12.47  12.43  12.47  10.597815   57100\n",
       " 2018-05-24  12.46  12.53  12.46  12.52  10.640306   74700\n",
       " ...           ...    ...    ...    ...        ...     ...\n",
       " 2019-05-13  13.70  13.72  13.66  13.72  12.158220   24700\n",
       " 2019-05-14  13.69  13.72  13.66  13.72  12.200906   61900\n",
       " 2019-05-15  13.73  13.74  13.69  13.69  12.174230   28600\n",
       " 2019-05-16  13.74  13.75  13.63  13.70  12.183123   27100\n",
       " 2019-05-17  13.70  13.73  13.64  13.65  12.138659   30200\n",
       " \n",
       " [251 rows x 6 columns],\n",
       " Empty DataFrame\n",
       " Columns: [Open, High, Low, Close, Adj Close, Volume]\n",
       " Index: [],\n",
       " Empty DataFrame\n",
       " Columns: [Open, High, Low, Close, Adj Close, Volume]\n",
       " Index: [],\n",
       " Empty DataFrame\n",
       " Columns: [Open, High, Low, Close, Adj Close, Volume]\n",
       " Index: [],\n",
       " Empty DataFrame\n",
       " Columns: [Open, High, Low, Close, Adj Close, Volume]\n",
       " Index: [],\n",
       "              Open   High    Low  Close  Adj Close  Volume\n",
       " Date                                                     \n",
       " 2018-03-02  12.97  12.97  12.85  12.92  10.856380  120500\n",
       " 2018-03-05  12.95  12.99  12.90  12.93  10.864784   66100\n",
       " 2018-03-06  12.89  12.95  12.89  12.95  10.881585   45800\n",
       " 2018-03-07  12.90  12.94  12.90  12.93  10.864784   37600\n",
       " 2018-03-08  12.92  12.93  12.87  12.88  10.822768   60300\n",
       " ...           ...    ...    ...    ...        ...     ...\n",
       " 2019-02-25  12.89  12.89  12.81  12.84  11.296860   34000\n",
       " 2019-02-26  12.87  12.90  12.84  12.90  11.349648   33400\n",
       " 2019-02-27  12.90  12.95  12.89  12.95  11.393640   44100\n",
       " 2019-02-28  12.93  12.93  12.86  12.87  11.323255   52800\n",
       " 2019-03-01  12.90  12.90  12.87  12.89  11.340849   33000\n",
       " \n",
       " [251 rows x 6 columns],\n",
       " Empty DataFrame\n",
       " Columns: [Open, High, Low, Close, Adj Close, Volume]\n",
       " Index: [],\n",
       "              Open   High    Low  Close  Adj Close  Volume\n",
       " Date                                                     \n",
       " 2018-02-15  13.10  13.13  13.09  13.12  11.024434   58700\n",
       " 2018-02-16  13.13  13.14  13.07  13.07  10.982416   23700\n",
       " 2018-02-20  13.07  13.10  12.99  13.03  10.948805   56900\n",
       " 2018-02-21  13.04  13.05  12.96  13.00  10.923600   25400\n",
       " 2018-02-22  12.93  12.98  12.91  12.95  10.881585   86700\n",
       " ...           ...    ...    ...    ...        ...     ...\n",
       " 2019-02-08  12.86  12.90  12.83  12.88  11.289690  108200\n",
       " 2019-02-11  12.88  12.94  12.87  12.94  11.342278   57600\n",
       " 2019-02-12  12.88  13.00  12.88  12.91  11.315985   59200\n",
       " 2019-02-13  12.91  12.93  12.83  12.84  11.254626   42900\n",
       " 2019-02-14  12.83  12.90  12.78  12.90  11.349648   37500\n",
       " \n",
       " [251 rows x 6 columns],\n",
       " Empty DataFrame\n",
       " Columns: [Open, High, Low, Close, Adj Close, Volume]\n",
       " Index: [],\n",
       " Empty DataFrame\n",
       " Columns: [Open, High, Low, Close, Adj Close, Volume]\n",
       " Index: [],\n",
       " Empty DataFrame\n",
       " Columns: [Open, High, Low, Close, Adj Close, Volume]\n",
       " Index: [],\n",
       "              Open   High    Low  Close  Adj Close  Volume\n",
       " Date                                                     \n",
       " 2018-01-22  13.56  13.60  13.56  13.57  11.356015   33400\n",
       " 2018-01-23  13.59  13.63  13.58  13.59  11.372753   61600\n",
       " 2018-01-24  13.59  13.59  13.55  13.56  11.347647   30800\n",
       " 2018-01-25  13.53  13.53  13.47  13.51  11.305808  105400\n",
       " 2018-01-26  13.46  13.47  13.40  13.46  11.263963  102000\n",
       " ...           ...    ...    ...    ...        ...     ...\n",
       " 2019-01-14  12.57  12.61  12.57  12.57  11.017968   13400\n",
       " 2019-01-15  12.54  12.58  12.54  12.56  11.009200   32300\n",
       " 2019-01-16  12.62  12.62  12.50  12.61  11.053025   39700\n",
       " 2019-01-17  12.62  12.64  12.59  12.60  11.044259   19500\n",
       " 2019-01-18  12.55  12.64  12.55  12.59  11.035496   47200\n",
       " \n",
       " [251 rows x 6 columns],\n",
       " Empty DataFrame\n",
       " Columns: [Open, High, Low, Close, Adj Close, Volume]\n",
       " Index: [],\n",
       " Empty DataFrame\n",
       " Columns: [Open, High, Low, Close, Adj Close, Volume]\n",
       " Index: [],\n",
       " Empty DataFrame\n",
       " Columns: [Open, High, Low, Close, Adj Close, Volume]\n",
       " Index: [],\n",
       " Empty DataFrame\n",
       " Columns: [Open, High, Low, Close, Adj Close, Volume]\n",
       " Index: [],\n",
       "              Open   High    Low  Close  Adj Close  Volume\n",
       " Date                                                     \n",
       " 2017-12-05  13.89  13.93  13.79  13.93  11.566291  106500\n",
       " 2017-12-06  13.93  13.98  13.93  13.94  11.574596   62300\n",
       " 2017-12-07  13.96  13.97  13.93  13.95  11.582901   49400\n",
       " 2017-12-08  13.91  13.95  13.89  13.95  11.582901   47800\n",
       " 2017-12-11  13.92  13.93  13.88  13.88  11.524776   35200\n",
       " ...           ...    ...    ...    ...        ...     ...\n",
       " 2018-11-28  12.16  12.24  12.14  12.19  10.602971  104600\n",
       " 2018-11-29  12.21  12.29  12.20  12.22  10.629066   92500\n",
       " 2018-11-30  12.24  12.31  12.24  12.30  10.698649  112300\n",
       " 2018-12-03  12.27  12.34  12.27  12.31  10.707350   74300\n",
       " 2018-12-04  12.31  12.39  12.31  12.36  10.750839  103100\n",
       " \n",
       " [252 rows x 6 columns],\n",
       " Empty DataFrame\n",
       " Columns: [Open, High, Low, Close, Adj Close, Volume]\n",
       " Index: [],\n",
       " Empty DataFrame\n",
       " Columns: [Open, High, Low, Close, Adj Close, Volume]\n",
       " Index: [],\n",
       " Empty DataFrame\n",
       " Columns: [Open, High, Low, Close, Adj Close, Volume]\n",
       " Index: [],\n",
       "              Open   High    Low  Close  Adj Close  Volume\n",
       " Date                                                     \n",
       " 2017-10-30  13.90  13.95  13.89  13.95  11.530019   25600\n",
       " 2017-10-31  13.92  13.96  13.86  13.86  11.455628   64700\n",
       " 2017-11-01  13.90  13.91  13.85  13.86  11.455628   57500\n",
       " 2017-11-02  13.85  13.89  13.82  13.88  11.472159   73900\n",
       " 2017-11-03  13.85  13.86  13.78  13.85  11.447364   60600\n",
       " ...           ...    ...    ...    ...        ...     ...\n",
       " 2018-10-23  12.09  12.14  12.08  12.09  10.474920   83900\n",
       " 2018-10-24  12.09  12.13  12.08  12.11  10.492250  132600\n",
       " 2018-10-25  12.10  12.15  12.09  12.15  10.526903   53400\n",
       " 2018-10-26  12.10  12.18  12.10  12.15  10.526903   64900\n",
       " 2018-10-29  12.13  12.24  12.10  12.15  10.526903   79300\n",
       " \n",
       " [252 rows x 6 columns],\n",
       " Empty DataFrame\n",
       " Columns: [Open, High, Low, Close, Adj Close, Volume]\n",
       " Index: [],\n",
       " Empty DataFrame\n",
       " Columns: [Open, High, Low, Close, Adj Close, Volume]\n",
       " Index: [],\n",
       " Empty DataFrame\n",
       " Columns: [Open, High, Low, Close, Adj Close, Volume]\n",
       " Index: [],\n",
       " Empty DataFrame\n",
       " Columns: [Open, High, Low, Close, Adj Close, Volume]\n",
       " Index: [],\n",
       " Empty DataFrame\n",
       " Columns: [Open, High, Low, Close, Adj Close, Volume]\n",
       " Index: [],\n",
       " Empty DataFrame\n",
       " Columns: [Open, High, Low, Close, Adj Close, Volume]\n",
       " Index: [],\n",
       "              Open   High    Low  Close  Adj Close  Volume\n",
       " Date                                                     \n",
       " 2017-08-21  14.26  14.30  14.19  14.24  11.674376   94700\n",
       " 2017-08-22  14.27  14.27  14.22  14.27  11.698974   47800\n",
       " 2017-08-23  14.27  14.28  14.20  14.23  11.666177   74300\n",
       " 2017-08-24  14.24  14.27  14.18  14.19  11.633383   33600\n",
       " 2017-08-25  14.18  14.23  14.18  14.21  11.649782   20700\n",
       " ...           ...    ...    ...    ...        ...     ...\n",
       " 2018-08-14  12.52  12.52  12.50  12.50  10.746012   18100\n",
       " 2018-08-15  12.51  12.54  12.50  12.50  10.746012   25200\n",
       " 2018-08-16  12.51  12.51  12.48  12.49  10.737415   68700\n",
       " 2018-08-17  12.49  12.53  12.47  12.52  10.763204   87100\n",
       " 2018-08-20  12.52  12.54  12.51  12.51  10.754605   50100\n",
       " \n",
       " [252 rows x 6 columns],\n",
       " Empty DataFrame\n",
       " Columns: [Open, High, Low, Close, Adj Close, Volume]\n",
       " Index: [],\n",
       " Empty DataFrame\n",
       " Columns: [Open, High, Low, Close, Adj Close, Volume]\n",
       " Index: [],\n",
       " Empty DataFrame\n",
       " Columns: [Open, High, Low, Close, Adj Close, Volume]\n",
       " Index: [],\n",
       " Empty DataFrame\n",
       " Columns: [Open, High, Low, Close, Adj Close, Volume]\n",
       " Index: [],\n",
       " Empty DataFrame\n",
       " Columns: [Open, High, Low, Close, Adj Close, Volume]\n",
       " Index: [],\n",
       "              Open   High    Low  Close  Adj Close  Volume\n",
       " Date                                                     \n",
       " 2017-06-30  14.05  14.17  14.03  14.13  11.487020   81400\n",
       " 2017-07-03  14.17  14.24  14.14  14.24  11.576441   26700\n",
       " 2017-07-05  14.16  14.24  14.15  14.24  11.576441   31800\n",
       " 2017-07-06  14.19  14.20  14.09  14.16  11.511405   78200\n",
       " 2017-07-07  14.16  14.20  14.16  14.16  11.511405   30300\n",
       " ...           ...    ...    ...    ...        ...     ...\n",
       " 2018-06-25  12.50  12.53  12.48  12.50  10.664030   57200\n",
       " 2018-06-26  12.50  12.58  12.49  12.55  10.706690   67200\n",
       " 2018-06-27  12.60  12.62  12.54  12.54  10.698157   48400\n",
       " 2018-06-28  12.54  12.58  12.54  12.56  10.715219   15100\n",
       " 2018-06-29  12.57  12.61  12.56  12.59  10.740809   62900\n",
       " \n",
       " [252 rows x 6 columns],\n",
       "              Open   High    Low  Close  Adj Close  Volume\n",
       " Date                                                     \n",
       " 2017-06-23  14.10  14.14  14.08  14.14  11.495145   15500\n",
       " 2017-06-26  14.15  14.20  14.12  14.17  11.519534   32800\n",
       " 2017-06-27  14.15  14.17  14.10  14.15  11.503278   36300\n",
       " 2017-06-28  14.15  14.16  14.09  14.13  11.487020   64900\n",
       " 2017-06-29  14.11  14.13  14.01  14.05  11.421983   23500\n",
       " ...           ...    ...    ...    ...        ...     ...\n",
       " 2018-06-18  12.48  12.51  12.48  12.49  10.655500   26600\n",
       " 2018-06-19  12.50  12.51  12.47  12.50  10.664030   77300\n",
       " 2018-06-20  12.49  12.53  12.48  12.49  10.655500  128200\n",
       " 2018-06-21  12.50  12.52  12.49  12.49  10.655500  139700\n",
       " 2018-06-22  12.52  12.55  12.48  12.53  10.689627   75800\n",
       " \n",
       " [252 rows x 6 columns],\n",
       " Empty DataFrame\n",
       " Columns: [Open, High, Low, Close, Adj Close, Volume]\n",
       " Index: [],\n",
       " Empty DataFrame\n",
       " Columns: [Open, High, Low, Close, Adj Close, Volume]\n",
       " Index: [],\n",
       " Empty DataFrame\n",
       " Columns: [Open, High, Low, Close, Adj Close, Volume]\n",
       " Index: [],\n",
       " Empty DataFrame\n",
       " Columns: [Open, High, Low, Close, Adj Close, Volume]\n",
       " Index: [],\n",
       "              Open   High    Low  Close  Adj Close  Volume\n",
       " Date                                                     \n",
       " 2017-05-12  13.73  13.83  13.73  13.83  11.194705   71300\n",
       " 2017-05-15  13.85  13.87  13.81  13.86  11.218988   44600\n",
       " 2017-05-16  13.86  13.87  13.83  13.84  11.202799   24100\n",
       " 2017-05-17  13.86  13.88  13.85  13.87  11.227080   50400\n",
       " 2017-05-18  13.87  13.90  13.74  13.78  11.154234   60400\n",
       " ...           ...    ...    ...    ...        ...     ...\n",
       " 2018-05-07  12.56  12.62  12.54  12.60  10.667468   59100\n",
       " 2018-05-08  12.57  12.57  12.54  12.56  10.633607   48300\n",
       " 2018-05-09  12.50  12.56  12.50  12.53  10.608207   58700\n",
       " 2018-05-10  12.53  12.56  12.51  12.53  10.608207   62500\n",
       " 2018-05-11  12.56  12.62  12.54  12.59  10.659006   79400\n",
       " \n",
       " [252 rows x 6 columns],\n",
       " Empty DataFrame\n",
       " Columns: [Open, High, Low, Close, Adj Close, Volume]\n",
       " Index: [],\n",
       " Empty DataFrame\n",
       " Columns: [Open, High, Low, Close, Adj Close, Volume]\n",
       " Index: [],\n",
       " Empty DataFrame\n",
       " Columns: [Open, High, Low, Close, Adj Close, Volume]\n",
       " Index: [],\n",
       " Empty DataFrame\n",
       " Columns: [Open, High, Low, Close, Adj Close, Volume]\n",
       " Index: [],\n",
       " Empty DataFrame\n",
       " Columns: [Open, High, Low, Close, Adj Close, Volume]\n",
       " Index: [],\n",
       " Empty DataFrame\n",
       " Columns: [Open, High, Low, Close, Adj Close, Volume]\n",
       " Index: [],\n",
       " Empty DataFrame\n",
       " Columns: [Open, High, Low, Close, Adj Close, Volume]\n",
       " Index: [],\n",
       " Empty DataFrame\n",
       " Columns: [Open, High, Low, Close, Adj Close, Volume]\n",
       " Index: [],\n",
       " ...]"
      ]
     },
     "execution_count": 59,
     "metadata": {},
     "output_type": "execute_result"
    }
   ],
   "source": [
    "import yfinance as yf\n",
    "df4 = pd.read_csv('inputs/SPACs2016-2021.csv')\n",
    "df4['Date of IPO'] = pd.to_datetime(df4['Date of IPO'], format='%m/%d/%Y')\n",
    "df4['End'] = df4['Date of IPO'] + pd.DateOffset(years=1)\n",
    "df4['CUSIP'] = df4['CUSIP'].astype(str)\n",
    "df4\n",
    "\n",
    "SPAC_rets = []\n",
    "for index, row in df4.iterrows():\n",
    "    cusip = row['CUSIP']\n",
    "    start = row['Date of IPO']\n",
    "    end   = row['End']\n",
    "    data  = yf.download(cusip, start=start, end=end)\n",
    "    SPAC_rets.append(data)\n",
    "    print(data)\n",
    "    \n",
    "SPAC_rets"
   ]
  },
  {
   "cell_type": "code",
   "execution_count": 72,
   "metadata": {},
   "outputs": [
    {
     "ename": "ValueError",
     "evalue": "setting an array element with a sequence. The requested array has an inhomogeneous shape after 1 dimensions. The detected shape was (132,) + inhomogeneous part.",
     "output_type": "error",
     "traceback": [
      "\u001b[1;31m---------------------------------------------------------------------------\u001b[0m",
      "\u001b[1;31mValueError\u001b[0m                                Traceback (most recent call last)",
      "Cell \u001b[1;32mIn[72], line 3\u001b[0m\n\u001b[0;32m      1\u001b[0m non_empty_dfs \u001b[38;5;241m=\u001b[39m [df \u001b[38;5;28;01mfor\u001b[39;00m df \u001b[38;5;129;01min\u001b[39;00m SPAC_rets \u001b[38;5;28;01mif\u001b[39;00m \u001b[38;5;129;01mnot\u001b[39;00m df\u001b[38;5;241m.\u001b[39mempty]\n\u001b[0;32m      2\u001b[0m non_empty_dfs\n\u001b[1;32m----> 3\u001b[0m df \u001b[38;5;241m=\u001b[39m pd\u001b[38;5;241m.\u001b[39mDataFrame(non_empty_dfs)\n\u001b[0;32m      4\u001b[0m df\u001b[38;5;241m.\u001b[39mto_csv(\u001b[38;5;124m'\u001b[39m\u001b[38;5;124minputs/test_spac_rets.csv\u001b[39m\u001b[38;5;124m'\u001b[39m)\n",
      "File \u001b[1;32mc:\\Users\\ziggy\\anaconda3\\Lib\\site-packages\\pandas\\core\\frame.py:867\u001b[0m, in \u001b[0;36mDataFrame.__init__\u001b[1;34m(self, data, index, columns, dtype, copy)\u001b[0m\n\u001b[0;32m    859\u001b[0m         mgr \u001b[38;5;241m=\u001b[39m arrays_to_mgr(\n\u001b[0;32m    860\u001b[0m             arrays,\n\u001b[0;32m    861\u001b[0m             columns,\n\u001b[1;32m   (...)\u001b[0m\n\u001b[0;32m    864\u001b[0m             typ\u001b[38;5;241m=\u001b[39mmanager,\n\u001b[0;32m    865\u001b[0m         )\n\u001b[0;32m    866\u001b[0m     \u001b[38;5;28;01melse\u001b[39;00m:\n\u001b[1;32m--> 867\u001b[0m         mgr \u001b[38;5;241m=\u001b[39m ndarray_to_mgr(\n\u001b[0;32m    868\u001b[0m             data,\n\u001b[0;32m    869\u001b[0m             index,\n\u001b[0;32m    870\u001b[0m             columns,\n\u001b[0;32m    871\u001b[0m             dtype\u001b[38;5;241m=\u001b[39mdtype,\n\u001b[0;32m    872\u001b[0m             copy\u001b[38;5;241m=\u001b[39mcopy,\n\u001b[0;32m    873\u001b[0m             typ\u001b[38;5;241m=\u001b[39mmanager,\n\u001b[0;32m    874\u001b[0m         )\n\u001b[0;32m    875\u001b[0m \u001b[38;5;28;01melse\u001b[39;00m:\n\u001b[0;32m    876\u001b[0m     mgr \u001b[38;5;241m=\u001b[39m dict_to_mgr(\n\u001b[0;32m    877\u001b[0m         {},\n\u001b[0;32m    878\u001b[0m         index,\n\u001b[1;32m   (...)\u001b[0m\n\u001b[0;32m    881\u001b[0m         typ\u001b[38;5;241m=\u001b[39mmanager,\n\u001b[0;32m    882\u001b[0m     )\n",
      "File \u001b[1;32mc:\\Users\\ziggy\\anaconda3\\Lib\\site-packages\\pandas\\core\\internals\\construction.py:319\u001b[0m, in \u001b[0;36mndarray_to_mgr\u001b[1;34m(values, index, columns, dtype, copy, typ)\u001b[0m\n\u001b[0;32m    314\u001b[0m     values \u001b[38;5;241m=\u001b[39m _ensure_2d(values)\n\u001b[0;32m    316\u001b[0m \u001b[38;5;28;01melse\u001b[39;00m:\n\u001b[0;32m    317\u001b[0m     \u001b[38;5;66;03m# by definition an array here\u001b[39;00m\n\u001b[0;32m    318\u001b[0m     \u001b[38;5;66;03m# the dtypes will be coerced to a single dtype\u001b[39;00m\n\u001b[1;32m--> 319\u001b[0m     values \u001b[38;5;241m=\u001b[39m _prep_ndarraylike(values, copy\u001b[38;5;241m=\u001b[39mcopy_on_sanitize)\n\u001b[0;32m    321\u001b[0m \u001b[38;5;28;01mif\u001b[39;00m dtype \u001b[38;5;129;01mis\u001b[39;00m \u001b[38;5;129;01mnot\u001b[39;00m \u001b[38;5;28;01mNone\u001b[39;00m \u001b[38;5;129;01mand\u001b[39;00m values\u001b[38;5;241m.\u001b[39mdtype \u001b[38;5;241m!=\u001b[39m dtype:\n\u001b[0;32m    322\u001b[0m     \u001b[38;5;66;03m# GH#40110 see similar check inside sanitize_array\u001b[39;00m\n\u001b[0;32m    323\u001b[0m     values \u001b[38;5;241m=\u001b[39m sanitize_array(\n\u001b[0;32m    324\u001b[0m         values,\n\u001b[0;32m    325\u001b[0m         \u001b[38;5;28;01mNone\u001b[39;00m,\n\u001b[1;32m   (...)\u001b[0m\n\u001b[0;32m    328\u001b[0m         allow_2d\u001b[38;5;241m=\u001b[39m\u001b[38;5;28;01mTrue\u001b[39;00m,\n\u001b[0;32m    329\u001b[0m     )\n",
      "File \u001b[1;32mc:\\Users\\ziggy\\anaconda3\\Lib\\site-packages\\pandas\\core\\internals\\construction.py:575\u001b[0m, in \u001b[0;36m_prep_ndarraylike\u001b[1;34m(values, copy)\u001b[0m\n\u001b[0;32m    569\u001b[0m \u001b[38;5;66;03m# we could have a 1-dim or 2-dim list here\u001b[39;00m\n\u001b[0;32m    570\u001b[0m \u001b[38;5;66;03m# this is equiv of np.asarray, but does object conversion\u001b[39;00m\n\u001b[0;32m    571\u001b[0m \u001b[38;5;66;03m# and platform dtype preservation\u001b[39;00m\n\u001b[0;32m    572\u001b[0m \u001b[38;5;66;03m# does not convert e.g. [1, \"a\", True] to [\"1\", \"a\", \"True\"] like\u001b[39;00m\n\u001b[0;32m    573\u001b[0m \u001b[38;5;66;03m#  np.asarray would\u001b[39;00m\n\u001b[0;32m    574\u001b[0m \u001b[38;5;28;01mif\u001b[39;00m is_list_like(values[\u001b[38;5;241m0\u001b[39m]):\n\u001b[1;32m--> 575\u001b[0m     values \u001b[38;5;241m=\u001b[39m np\u001b[38;5;241m.\u001b[39marray([convert(v) \u001b[38;5;28;01mfor\u001b[39;00m v \u001b[38;5;129;01min\u001b[39;00m values])\n\u001b[0;32m    576\u001b[0m \u001b[38;5;28;01melif\u001b[39;00m \u001b[38;5;28misinstance\u001b[39m(values[\u001b[38;5;241m0\u001b[39m], np\u001b[38;5;241m.\u001b[39mndarray) \u001b[38;5;129;01mand\u001b[39;00m values[\u001b[38;5;241m0\u001b[39m]\u001b[38;5;241m.\u001b[39mndim \u001b[38;5;241m==\u001b[39m \u001b[38;5;241m0\u001b[39m:\n\u001b[0;32m    577\u001b[0m     \u001b[38;5;66;03m# GH#21861 see test_constructor_list_of_lists\u001b[39;00m\n\u001b[0;32m    578\u001b[0m     values \u001b[38;5;241m=\u001b[39m np\u001b[38;5;241m.\u001b[39marray([convert(v) \u001b[38;5;28;01mfor\u001b[39;00m v \u001b[38;5;129;01min\u001b[39;00m values])\n",
      "\u001b[1;31mValueError\u001b[0m: setting an array element with a sequence. The requested array has an inhomogeneous shape after 1 dimensions. The detected shape was (132,) + inhomogeneous part."
     ]
    }
   ],
   "source": [
    "non_empty_dfs = [df for df in SPAC_rets if not df.empty]\n",
    "non_empty_dfs\n",
    "df = pd.DataFrame(non_empty_dfs)\n",
    "df.to_csv('inputs/test_spac_rets.csv')"
   ]
  }
 ],
 "metadata": {
  "kernelspec": {
   "display_name": "base",
   "language": "python",
   "name": "python3"
  },
  "language_info": {
   "codemirror_mode": {
    "name": "ipython",
    "version": 3
   },
   "file_extension": ".py",
   "mimetype": "text/x-python",
   "name": "python",
   "nbconvert_exporter": "python",
   "pygments_lexer": "ipython3",
   "version": "3.11.5"
  }
 },
 "nbformat": 4,
 "nbformat_minor": 2
}
