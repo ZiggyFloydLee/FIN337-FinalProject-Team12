{
 "cells": [
  {
   "cell_type": "code",
   "execution_count": null,
   "metadata": {},
   "outputs": [],
   "source": [
    "import pandas as pd\n",
    "# !pip install wrds\n",
    "import wrds\n",
    "import os\n",
    "import zipfile\n",
    "from sklearn.model_selection import train_test_split\n",
    "from sklearn.preprocessing import StandardScaler\n",
    "from sklearn.neighbors import KNeighborsClassifier\n",
    "from sklearn.metrics import classification_report, accuracy_score\n",
    "# !pip install fuzzywuzzy\n",
    "from fuzzywuzzy import fuzz, process"
   ]
  },
  {
   "cell_type": "code",
   "execution_count": null,
   "metadata": {},
   "outputs": [],
   "source": [
    "ipo_data = pd.read_csv('inputs/IPO-age(9).csv')\n",
    "spac_data = pd.read_csv('inputs/SPACs2016-2021.csv')"
   ]
  },
  {
   "cell_type": "code",
   "execution_count": null,
   "metadata": {},
   "outputs": [],
   "source": [
    "ipo_unique_cusips = ipo_data['CUSIP'].is_unique\n",
    "spac_unique_cusips = spac_data['CUSIP'].is_unique\n",
    "\n",
    "\n",
    "print(\"Unique CUSIP in IPO dataset:\", ipo_unique_cusips)\n",
    "print(\"Unique CUSIP in SPAC dataset:\", spac_unique_cusips)"
   ]
  },
  {
   "cell_type": "code",
   "execution_count": null,
   "metadata": {},
   "outputs": [],
   "source": [
    "ipo_data_clean = ipo_data.drop_duplicates(subset='CUSIP', keep='last')\n",
    "spac_data_clean = spac_data.drop_duplicates(subset='CUSIP', keep='last')"
   ]
  },
  {
   "cell_type": "code",
   "execution_count": null,
   "metadata": {},
   "outputs": [],
   "source": [
    "merged_clean_data = pd.merge(ipo_data_clean, spac_data_clean, on=['CUSIP'], how='left', suffixes=('_IPO', '_SPAC'))\n",
    "merged_clean_data['IS_SPAC'] = merged_clean_data['SPAC IPO '].notna()"
   ]
  },
  {
   "cell_type": "code",
   "execution_count": null,
   "metadata": {},
   "outputs": [],
   "source": [
    "spacs_only = merged_clean_data[merged_clean_data['IS_SPAC']]\n",
    "ipos_not_spacs = merged_clean_data[~merged_clean_data['IS_SPAC']]\n",
    "\n",
    "# Display some entries from each dataset\n",
    "print(\"SPACs Identified:\")\n",
    "print(spacs_only.head())\n",
    "\n",
    "print(\"\\nIPOs Not SPACs:\")\n",
    "print(ipos_not_spacs.head())\n",
    "\n",
    "spacs_only.to_csv('inputs/spacs_identified.csv', index=False)\n",
    "ipos_not_spacs.to_csv('inputs/ipos_not_spacs.csv', index=False)"
   ]
  },
  {
   "cell_type": "code",
   "execution_count": null,
   "metadata": {},
   "outputs": [],
   "source": [
    "spacs_identified = pd.read_csv('inputs/spacs_identified.csv')\n",
    "ipos_identified = pd.read_csv('inputs/ipos_not_spacs.csv')"
   ]
  },
  {
   "cell_type": "code",
   "execution_count": null,
   "metadata": {},
   "outputs": [],
   "source": [
    "combined_ipo_spacs = pd.concat([spacs_identified, ipos_not_spacs])\n",
    "combined_ipo_spacs = combined_ipo_spacs.drop_duplicates(subset='CUSIP')\n",
    "combined_ipo_spacs.to_csv('inputs/combined_ipo_spacs.csv')"
   ]
  },
  {
   "cell_type": "code",
   "execution_count": null,
   "metadata": {},
   "outputs": [],
   "source": [
    "selected_columns = combined_ipo_spacs[['IPO name', 'ticker', 'Date of IPO', 'IS_SPAC']]\n",
    "selected_columns.to_csv('inputs/filtered_data.csv')"
   ]
  },
  {
   "cell_type": "code",
   "execution_count": null,
   "metadata": {},
   "outputs": [],
   "source": [
    "ccm_youngfirms = \"inputs/ccm_youngfirms_2000_2018.dta/ccm_youngfirms_2000_2018.dta\"\n",
    "\n",
    "if not os.path.exists(ccm_youngfirms):\n",
    "    zip_path = \"inputs/ccm_youngfirms_2000_2018.zip\"\n",
    "\n",
    "    with zipfile.ZipFile(zip_path,'r') as zip_ref:\n",
    "        zip_ref.extractall(\"inputs/ccm_youngfirms_2000_2018.dta\")"
   ]
  },
  {
   "cell_type": "code",
   "execution_count": null,
   "metadata": {},
   "outputs": [],
   "source": [
    "ccm_data = pd.read_stata(ccm_youngfirms)"
   ]
  },
  {
   "cell_type": "code",
   "execution_count": null,
   "metadata": {},
   "outputs": [],
   "source": [
    "relevant_vars = ['adrr', 'curuscn', 'scf', 'src', 'apdedate', 'fdate', 'pdate', 'acominc',\n",
    "                 'acox', 'at', 'am', 'ao', 'aoloch', 'aox', 'ap', 'at', 'caps', 'capx', 'cb',\n",
    "                 'ch', 'che', 'clg', 'cogs', 'csho', 'cusip', 'cshrt', 'cstk', 'dd', 'dlc',\n",
    "                 'dn', 'do', 'datadate', 'dt', 'ebit', 'ebitda', 'epspi', 'fca', 'ffo', 'gdwl',\n",
    "                 'gp', 'ib', 'intan', 'invt', 'lt', 'lct', 'ni', 'niadj', 'np', 'pi', 'ppegt',\n",
    "                 'pnrsho', 'ppent', 're', 'revt', 'sale', 'seq', 'tdc', 'teq', 'tstk', 'txt',\n",
    "                 'wcap', 'naicsh', 'mkvalt', 'acchg', 'accrt', 'amc', 'ano', 'arce', 'cshi',\n",
    "                 'depc', 'derhedgl']"
   ]
  },
  {
   "cell_type": "code",
   "execution_count": null,
   "metadata": {},
   "outputs": [],
   "source": [
    "ccm_data_filtered =ccm_data[relevant_vars]\n",
    "threshold = 0.9 * len(ccm_data_filtered)\n",
    "ccm_data_filtered = ccm_data_filtered.dropna(thresh=threshold, axis=1)"
   ]
  },
  {
   "cell_type": "code",
   "execution_count": null,
   "metadata": {},
   "outputs": [],
   "source": [
    "combined_data = pd.read_csv('inputs/filtered_data.csv')\n",
    "combined_data.rename(columns={'CUSIP' : 'cusip'}, inplace=True)"
   ]
  },
  {
   "cell_type": "code",
   "execution_count": null,
   "metadata": {},
   "outputs": [],
   "source": [
    "ccm_ipo_spac_merge = pd.merge(combined_data, ccm_data_filtered, on='cusip', how='left')"
   ]
  }
 ],
 "metadata": {
  "kernelspec": {
   "display_name": "base",
   "language": "python",
   "name": "python3"
  },
  "language_info": {
   "codemirror_mode": {
    "name": "ipython",
    "version": 3
   },
   "file_extension": ".py",
   "mimetype": "text/x-python",
   "name": "python",
   "nbconvert_exporter": "python",
   "pygments_lexer": "ipython3",
   "version": "3.11.5"
  }
 },
 "nbformat": 4,
 "nbformat_minor": 2
}
