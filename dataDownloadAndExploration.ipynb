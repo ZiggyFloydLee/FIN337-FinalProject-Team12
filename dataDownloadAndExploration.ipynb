{
 "cells": [
  {
   "cell_type": "markdown",
   "metadata": {},
   "source": [
    "# Data Download and Exploration Notebook\n",
    "## Team 12 Final Project"
   ]
  },
  {
   "cell_type": "markdown",
   "metadata": {},
   "source": [
    "Step 0: Importing Packages"
   ]
  },
  {
   "cell_type": "code",
   "execution_count": 2,
   "metadata": {},
   "outputs": [],
   "source": [
    "import pandas as pd\n",
    "# !pip install wrds\n",
    "import wrds"
   ]
  },
  {
   "cell_type": "markdown",
   "metadata": {},
   "source": [
    "This is a link explaining [the wrds package](https://pypi.org/project/wrds/)"
   ]
  },
  {
   "cell_type": "code",
   "execution_count": null,
   "metadata": {},
   "outputs": [],
   "source": [
    "# db = wrds.Connection()\n",
    "# db.list_libraries()"
   ]
  },
  {
   "cell_type": "markdown",
   "metadata": {},
   "source": [
    "Donwloading CSVs"
   ]
  },
  {
   "cell_type": "code",
   "execution_count": 3,
   "metadata": {},
   "outputs": [],
   "source": [
    "ipo_age_df = pd.read_csv('inputs/IPO-age(9).csv')\n",
    "SPACs_df = pd.read_csv('inputs/SPACs2016-2021.csv')\n",
    "# ipo_age_df\n",
    "# SPACs_df"
   ]
  },
  {
   "cell_type": "markdown",
   "metadata": {},
   "source": [
    "Data Exploration"
   ]
  },
  {
   "cell_type": "code",
   "execution_count": 4,
   "metadata": {},
   "outputs": [
    {
     "name": "stdout",
     "output_type": "stream",
     "text": [
      "<class 'pandas.core.frame.DataFrame'>\n",
      "RangeIndex: 15447 entries, 0 to 15446\n",
      "Data columns (total 14 columns):\n",
      " #   Column             Non-Null Count  Dtype  \n",
      "---  ------             --------------  -----  \n",
      " 0   offer date         15447 non-null  int64  \n",
      " 1   IPO name           15447 non-null  object \n",
      " 2   ticker             15035 non-null  object \n",
      " 3   CUSIP              15317 non-null  object \n",
      " 4   Rollup             15447 non-null  object \n",
      " 5   VC                 15447 non-null  object \n",
      " 6   Dual               15447 non-null  object \n",
      " 7   Internet           15447 non-null  object \n",
      " 8   Post-issue shares  15447 non-null  object \n",
      " 9   CRSP perm          15447 non-null  object \n",
      " 10  Founding           15447 non-null  int64  \n",
      " 11  Unnamed: 11        0 non-null      float64\n",
      " 12  Unnamed: 12        17 non-null     object \n",
      " 13  Unnamed: 13        3 non-null      object \n",
      "dtypes: float64(1), int64(2), object(11)\n",
      "memory usage: 1.7+ MB\n"
     ]
    },
    {
     "data": {
      "text/plain": [
       "offer date            6076\n",
       "IPO name             15412\n",
       "ticker               13746\n",
       "CUSIP                15301\n",
       "Rollup                   3\n",
       "VC                       5\n",
       "Dual                     5\n",
       "Internet                 4\n",
       "Post-issue shares     1981\n",
       "CRSP perm            14837\n",
       "Founding               173\n",
       "Unnamed: 11              0\n",
       "Unnamed: 12             17\n",
       "Unnamed: 13              3\n",
       "dtype: int64"
      ]
     },
     "execution_count": 4,
     "metadata": {},
     "output_type": "execute_result"
    }
   ],
   "source": [
    "ipo_age_df.describe()\n",
    "ipo_age_df.info()\n",
    "ipo_age_df.nunique()"
   ]
  },
  {
   "cell_type": "code",
   "execution_count": 5,
   "metadata": {},
   "outputs": [
    {
     "name": "stdout",
     "output_type": "stream",
     "text": [
      "<class 'pandas.core.frame.DataFrame'>\n",
      "RangeIndex: 1014 entries, 0 to 1013\n",
      "Data columns (total 3 columns):\n",
      " #   Column       Non-Null Count  Dtype \n",
      "---  ------       --------------  ----- \n",
      " 0   SPAC IPO     1013 non-null   object\n",
      " 1   Date of IPO  1013 non-null   object\n",
      " 2   CUSIP        881 non-null    object\n",
      "dtypes: object(3)\n",
      "memory usage: 23.9+ KB\n"
     ]
    },
    {
     "data": {
      "text/plain": [
       "SPAC IPO       1013\n",
       "Date of IPO     423\n",
       "CUSIP           875\n",
       "dtype: int64"
      ]
     },
     "execution_count": 5,
     "metadata": {},
     "output_type": "execute_result"
    }
   ],
   "source": [
    "SPACs_df.describe()\n",
    "SPACs_df.info()\n",
    "SPACs_df.nunique() # 6 repeating CUSIPS? 881 total values, 875 unique?"
   ]
  },
  {
   "cell_type": "code",
   "execution_count": null,
   "metadata": {},
   "outputs": [],
   "source": []
  }
 ],
 "metadata": {
  "kernelspec": {
   "display_name": "Python 3 (ipykernel)",
   "language": "python",
   "name": "python3"
  },
  "language_info": {
   "codemirror_mode": {
    "name": "ipython",
    "version": 3
   },
   "file_extension": ".py",
   "mimetype": "text/x-python",
   "name": "python",
   "nbconvert_exporter": "python",
   "pygments_lexer": "ipython3",
   "version": "3.11.5"
  }
 },
 "nbformat": 4,
 "nbformat_minor": 4
}
