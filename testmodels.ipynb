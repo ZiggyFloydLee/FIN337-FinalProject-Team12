{
 "cells": [
  {
   "cell_type": "code",
   "execution_count": 1,
   "id": "f75b162b-39e0-4173-a790-a4d113748d4e",
   "metadata": {
    "tags": []
   },
   "outputs": [],
   "source": [
    "import pandas as pd"
   ]
  },
  {
   "cell_type": "code",
   "execution_count": 2,
   "id": "04e23bf2-6cc6-426c-86af-e7c0d67a6497",
   "metadata": {
    "tags": []
   },
   "outputs": [
    {
     "data": {
      "text/html": [
       "<div>\n",
       "<style scoped>\n",
       "    .dataframe tbody tr th:only-of-type {\n",
       "        vertical-align: middle;\n",
       "    }\n",
       "\n",
       "    .dataframe tbody tr th {\n",
       "        vertical-align: top;\n",
       "    }\n",
       "\n",
       "    .dataframe thead th {\n",
       "        text-align: right;\n",
       "    }\n",
       "</style>\n",
       "<table border=\"1\" class=\"dataframe\">\n",
       "  <thead>\n",
       "    <tr style=\"text-align: right;\">\n",
       "      <th></th>\n",
       "      <th>Comapny Name</th>\n",
       "      <th>Date of IPO</th>\n",
       "      <th>Cusip</th>\n",
       "      <th>ccm_cusip</th>\n",
       "      <th>Unnamed: 4</th>\n",
       "    </tr>\n",
       "  </thead>\n",
       "  <tbody>\n",
       "    <tr>\n",
       "      <th>0</th>\n",
       "      <td>FinTech Acquisition Corp. III</td>\n",
       "      <td>11/20/2018</td>\n",
       "      <td>31811A309</td>\n",
       "      <td>31809H100</td>\n",
       "      <td>NaN</td>\n",
       "    </tr>\n",
       "    <tr>\n",
       "      <th>1</th>\n",
       "      <td>AMCI Acquisition Corp.</td>\n",
       "      <td>11/20/2018</td>\n",
       "      <td>00165R200</td>\n",
       "      <td>00165R101</td>\n",
       "      <td>NaN</td>\n",
       "    </tr>\n",
       "    <tr>\n",
       "      <th>2</th>\n",
       "      <td>Alberton Acquisition Corp.</td>\n",
       "      <td>10/26/2018</td>\n",
       "      <td>NaN</td>\n",
       "      <td>G35006108</td>\n",
       "      <td>NaN</td>\n",
       "    </tr>\n",
       "    <tr>\n",
       "      <th>3</th>\n",
       "      <td>Graf Industrial Corp.</td>\n",
       "      <td>10/18/2018</td>\n",
       "      <td>384278206</td>\n",
       "      <td>384278107</td>\n",
       "      <td>NaN</td>\n",
       "    </tr>\n",
       "    <tr>\n",
       "      <th>4</th>\n",
       "      <td>EdtechX Holdings Acquisition Corp.</td>\n",
       "      <td>10/10/2018</td>\n",
       "      <td>28139A201</td>\n",
       "      <td>28138X103</td>\n",
       "      <td>NaN</td>\n",
       "    </tr>\n",
       "  </tbody>\n",
       "</table>\n",
       "</div>"
      ],
      "text/plain": [
       "                         Comapny Name Date of IPO      Cusip  ccm_cusip  \\\n",
       "0       FinTech Acquisition Corp. III  11/20/2018  31811A309  31809H100   \n",
       "1              AMCI Acquisition Corp.  11/20/2018  00165R200  00165R101   \n",
       "2          Alberton Acquisition Corp.  10/26/2018        NaN  G35006108   \n",
       "3               Graf Industrial Corp.  10/18/2018  384278206  384278107   \n",
       "4  EdtechX Holdings Acquisition Corp.  10/10/2018  28139A201  28138X103   \n",
       "\n",
       "  Unnamed: 4  \n",
       "0        NaN  \n",
       "1        NaN  \n",
       "2        NaN  \n",
       "3        NaN  \n",
       "4        NaN  "
      ]
     },
     "execution_count": 2,
     "metadata": {},
     "output_type": "execute_result"
    }
   ],
   "source": [
    "merged_df = pd.read_csv('inputs/CCM_Cusip.csv', low_memory=False)\n",
    "\n",
    "merged_df.head()"
   ]
  },
  {
   "cell_type": "code",
   "execution_count": 3,
   "id": "d2f07d1a-3dc1-4c9c-b910-8c7bdbff04aa",
   "metadata": {
    "tags": []
   },
   "outputs": [
    {
     "data": {
      "text/plain": [
       "\"adrr: Adjusted Dividend Rate Ratio\\ncuruscn: Current USCIN (Ultimate Parent Company Identification Number)\\nismod: Indicator for Share Modification\\nscf: Statement of Cash Flows\\nsrc: Source of Data\\napdedate: Date of Annual Report Preparation\\nfdate: Fiscal Year-End Date\\npdate: Publication Date of Financial Data\\nacchg: Accounting Changes\\naccrt: Accounting Restatement Rate\\nacdo: Account Deletions and Omissions\\naco: Accounting Changes - Other\\nacodo: Account Deletions and Omissions - Other\\nacominc: Accumulated Other Comprehensive Income (Loss)\\nacox: Accrued Other Expenses\\nacqao: Acquired Assets and Operations\\nacqcshi: Acquired Cash and Cash Equivalents\\nacqgdwl: Acquired Goodwill\\nacqic: Acquired Intangibles\\nacqintan: Acquired Intangible Assets\\nacqinvt: Acquired Investments\\nacqlntal: Acquired Long-Term Assets\\nacqniintc: Acquired Non-Interest Income\\nacqppe: Acquired Property, Plant, and Equipment\\nacqsc: Acquired Short-Term Assets\\nact: Current Assets\\nafudcc: After-Tax Unusual Deferred Charges\\nafudci: After-Tax Unusual Deferred Credits\\naldo: Allowance for Loan and Lease Losses\\nam: Amortization\\namc: Amortization of Capitalized Software Costs\\nano: After-Tax Nonrecurring Charges\\nao: Assets - Other\\naocidergl: Accrued Other Comprehensive Income - Derivatives Gain/Loss\\naociother: Accrued Other Comprehensive Income - Other\\naocipen: Accrued Other Comprehensive Income - Pension\\naocisecgl: Accrued Other Comprehensive Income - Securities Gain/Loss\\naodo: Assets - Other, Discontinued Operations\\naol2: Assets Level 2\\naoloch: Assets - Other, Current\\naox: Assets - Other, Noncurrent\\nap: Accounts Payable\\napalch: Accounts Payable - Allocated\\naqa: Assets Acquired\\naqc: Assets Acquired under Capital Leases\\naqd: Assets Acquired and Divested\\naqeps: Assets Acquired for EPS\\naqi: Assets Acquired and Investments\\naqp: Assets Acquired under Purchase Agreements\\naqpl1: Assets Acquired for 10Q Prior Year\\naqs: Assets Acquired under Operating Leases\\narce: After-Tax Restructuring Charges and Effects\\narced: After-Tax Restructuring Charges and Effects - Discontinued Operations\\narceeps: After-Tax Restructuring Charges and Effects - Earnings Per Share\\nat: Total Assets\\naul3: Assets Level 3\\nbast: Build America Bonds - State\\nbastr: Build America Bonds - U.S. Treasury\\nbillexce: Billings in Excess of Cost and Earnings\\nbkvlps: Book Value per Share\\ncaps: Cash and Short-Term Investments\\ncapsft: Cash and Short-Term Investments - Footnote\\ncapx: Capital Expenditure\\ncapxv: Capital Expenditure - Voting\\ncb: Cash Balances\\ncbi: Contractual Based Investments\\ncdvc: Cash Dividends\\nceiexbill: Cumulative Effect of Incentive Expense from Billable Excess\\nceq: Common/Ordinary Equity\\nceql: Common/Ordinary Equity - Liquidating Value\\nceqt: Common/Ordinary Equity - Total\\nch: Cash\\nche: Cash - Ending\\nchech: Cash - Equivalent Changes\\nci: Cash Increase\\ncibegni: Cash Increase - Beginning\\ncicurr: Current Cash Increase\\ncidergl: Cumulative Unrealized Derivatives Gain/Loss\\ncimii: Cash Interest Paid - Operating Activities\\nciother: Cash Interest Paid - Other\\ncipen: Cash Interest Paid - Investing Activities\\ncisecgl: Cumulative Unrealized Securities Gain/Loss\\ncitotal: Cash Interest Paid - Total\\ncld2: Cumulative Preferred Dividends - Class 2\\ncld3: Cumulative Preferred Dividends - Class 3\\ncld4: Cumulative Preferred Dividends - Class 4\\ncld5: Cumulative Preferred Dividends - Class 5\\nclg: Current Liabilities - General\\ncmp: Comprehensive Income\\ncogs: Cost of Goods Sold\\ncshfd: Cash Flow from Discontinued Operations\\ncshi: Cash Increase (Decrease)\\ncsho: Common Shares Outstanding\\ncshpri: Common Shares Primary\\ncshr: Cash Restriction\\ncshrt: Cash Ratio\\ncstk: Common Stock\\ncstkcv: Common Stock - Carrying Value\\ncstke: Common Stock Equivalents\\ndbi: Deferred Business Income\\ndc: Deferred Charges\\ndclo: Deferred Charges - Long-Term\\ndcom: Deferred Compensation\\ndcpstk: Deferred Common Stock\\ndcs: Deferred Compensation - Stock\\ndcvsr: Deferred Compensation - Stock Restricted\\ndcvsub: Deferred Compensation - Stock Subsidiary\\ndcvt: Deferred Convertible Securities\\ndd: Depreciation and Depletion\\ndd1: Depreciation - Depletion and Amortization\\ndd2: Depreciation - Depletion and Amortization - Income Statement\\ndd3: Depreciation - Depletion and Amortization - Balance Sheet\\ndd4: Depreciation - Depletion and Amortization - Cash Flow\\ndd5: Depreciation - Depletion and Amort\\nderac: Deferred Accrued Expenses\\nderalt: Deferred Alternative Minimum Tax Liability\\nderhedgl: Deferred Hedge Gains/Losses\\nderlc: Deferred Long-Term Charges\\nderllt: Deferred Long-Term Liabilities\\ndfs: Deferred Federal Income Tax Surcharge\\ndiladj: Diluted Adjusted Shares Outstanding\\ndilavx: Dilution Adjustment for VX\\ndlc: Debt, Long-Term Current\\ndlcch: Debt, Long-Term Current - Change\\ndltis: Debt, Long-Term Issued\\ndlto: Debt, Long-Term Other\\ndltp: Debt, Long-Term Participating\\ndltr: Debt, Long-Term Redeemable\\ndltt: Debt, Long-Term Total\\ndm: Deferred Credits - Miscellaneous\\ndn: Deferred Incomes\\ndo: Deferred Operations\\ndonr: Deferred Other Nonrecurring Charges\\ndp: Depreciation and Amortization\\ndpacre: Depreciation, Amortization, and Current Rents\\ndpact: Depreciation, Amortization, and Current Taxes\\ndpc: Deferred Policy Acquisition Costs\\ndpret: Deferred Policyholder Reserves and Employee Benefits\\ndpvieb: Deferred Policyholder Benefits, Value of Investment Earnings\\ndrc: Deferred Rent Credits\\ndrlt: Deferred Rent Long-Term\\nds: Deferred Savings\\ndt: Deferred Taxes\\ndtea: Deferred Taxes - Environmental Adjustments\\ndted: Deferred Taxes - Environmental Depletion\\ndteeps: Deferred Taxes - Environmental Earnings Per Share\\ndtep: Deferred Taxes - Environmental Percentage\\ndudd: Deferred Unearned Discounts\\ndv: Deferred Value\\ndvc: Deferred Value Charge\\ndvintf: Deferred Variable Interest Income\\ndvp: Deferred Variable Policy Charges\\ndvpa: Deferred Variable Policy Acquisition Costs\\ndvt: Deferred Variable Transaction Costs\\ndxd2: Deferred Tax - Deferred Domestic Income Taxes\\ndxd3: Deferred Tax - Deferred Dividends Received Deduction\\ndxd4: Deferred Tax - Deferred Depletion\\ndxd5: Deferred Tax - Deferred Depletion, Income Statement\\nebit: Earnings Before Interest and Taxes\\nebitda: Earnings Before Interest, Taxes, Depreciation, and Amortization\\nemp: Employee\\nepsfi: Earnings Per Share - Fully Diluted Including Extraordinary Items\\nepsfx: Earnings Per Share - Fully Diluted Excluding Extraordinary Items\\nepspi: Earnings Per Share - Fully Diluted Including Extraordinary Items\\nepspx: Earnings Per Share - Basic Excluding Extraordinary Items\\nesopct: Employee Stock Ownership Plan Contributions\\nesopdlt: Employee Stock Ownership Plan Debt, Long-Term\\nesopnr: Employee Stock Ownership Plan - Nonredeemable\\nesopr: Employee Stock Ownership Plan - Redeemable\\nesopt: Employee Stock Ownership Plan - Total\\nesub: Employee Stock Unit - Beneficial Conversion\\nesubc: Employee Stock Unit - Beneficial Conversion\\nexre: Extraordinary Items\\nfatb: Fixed Assets Turnover - Book Value\\nfatc: Fixed Assets Turnover - Gross Book Value\\nfate: Fixed Assets Turnover - Efficiency\\nfatl: Fixed Assets Turnover - Lease\\nfatn: Fixed Assets Turnover - Net\\nfato: Fixed Assets Turnover - Operating\\nfatp: Fixed Assets Turnover - Property\\nfca: Free Cash Flow\\nffo: Funds from Operations\\nfiao: Financing Activities, Other\\nfinaco: Financing Activities, Continuing Operations\\nfincf: Financing Activities, Net Cash Flow\\nfinnp: Financing Activities, Nonrecurring\\nfinrev: Financing Activities, Recurring\\nfinxint: Financing Activities, Extraordinary Interest\\nfinxopr: Financing Activities, Extraordinary Operating\\nfopo: Foreign Operations\\nfopox: Foreign Operations - Extraordinary\\nfopt: Foreign Operations - Temporary\\nfsrco: FASB 142 - Restructuring Charge\\nfsrct: FASB 142 - Restructuring Charge, Total\\nfuseo: FASB 142 - Extraordinary Charge\\nfuset: FASB 142 - Extraordinary Charge, Total\\ngdwl: Goodwill\\ngdwlam: Goodwill Amortization\\ngdwlia: Goodwill Impairment Adjustment\\ngdwlid: Goodwill - Discontinued Operations\\ngdwlieps: Goodwill Impairment EPS\\ngdwlip: Goodwill Impairment - Pre-Tax\\ngla: Gross Lease Assets\\nglcea: Gross Lease Cash Expenditure Adjustments\\nglced: Gross Lease Cash Expenditure Differential\\nglceeps: Gross Lease Cash Expenditure EPS\\nglcep: Gross Lease Cash Expenditure Percentage\\ngld: Gross Lease Discount\\ngleps: Gross Lease Earnings Per Share\\ngliv: Gross Lease Investment\\nglp: Gross Lease Percentage\\ngp: Gross Profit\\nhedgegl: Hedge Gains/Losses\\nib: Income Before Extraordinary Items and Discontinued Operations\\nibadj: Income Before Extraordinary Items and Discontinued Operations - Adjusted\\nibc: Income Before Cumulative Effect\\nibcom: Income Before Cumulative Effect of Accounting Changes\\nibmii: Income Before Minority Interest and Income\\nicapt: Interest Capitalization\\nidit: Increase in Deferred Income Taxes\\nintan: Intangible Assets\\nintano: Intangible Assets - Other Noncurrent\\nintc: Interest Capitalized\\nintpn: Interest Paid - Net\\ninvch: Inventory Change\\ninvfg: Inventory Finished Goods\\ninvo: Inventory, Opening\\ninvrm: Inventory Raw Materials\\ninvt: Inventory, Total\\ninvwip: Inventory Work In Progress\\nipti: Income Pretax, Total\\nirent: Implied Rent Expense\\nitcb: Income Tax Current Benefit\\nitcc: Income Tax Current Continuity\\nitci: Income Tax Current Income\\nivaco: Investing Activities, Continuing Operations\\nivaeq: Investing Activities, Extraordinary\\nivao: Investing Activities, Other\\nivch: Investment Changes\\nivi: Investment Income\\nivncf: Investing Activities, Net Cash Flow\\nivst: Investment Securities\\nivstch: Investment Securities - Change\\nlco: Liabilities - Current, Other\\nlcox: Liabilities - Current, Other - Excluding Unearned Revenue\\nlcoxdr: Liabilities - Current, Other - Including Unearned Revenue\\nlct: Liabilities - Current, Total\\nlifr: Liability/Asset, Netting\\nlifrp: Liability/Asset, Netting, Post-Regulation\\nlno: Liabilities Net of Operations\\nlo: Liabilities - Other\\nlol2: Liabilities Other, Long-Term\\nloxdr: Liabilities Other, Excluding Deferred Revenue\\nlqpl1: Liabilities and Equity - Level 1\\nlse: Liabilities and Shareholders' Equity\\nlt: Liabilities, Total\\nlul3: Liabilities - Level 3\\nmib: Minority Interest Before Minority Interest of Subsidiary\\nmibn: Minority Interest - Nonredeemable\\nmibt: Minority Interest - Temporary\\nmii: Miscellaneous Income (Expense)\\nmrc1 to mrc5: Miscellaneous Regulatory Charges, Levels 1 to 5\\nmrct: Miscellaneous Regulatory Charges, Total\\nmrcta: Miscellaneous Regulatory Charges - Total After Tax\\nmsa: Municipal Securities and Loans Available for Sale\\nnco: Net Charge-Offs\\nni: Net Income\\nniadj: Net Income - Adjusted\\nnieci: Net Income from Continuing Operations\\nniintpfc: Net Interest Income from Parent Company\\nniintpfp: Net Interest Income from Parent Company, Preferred\\nniit: Net Income from Total Operations\\nnim: Net Interest Margin\\nnipfc: Net Interest Paid - Financing Cash Flow\\nnipfp: Net Interest Paid - Financing Cash Flow, Operating\\nnopi: Net Operating Profit After Taxes\\nnopio: Net Operating Profit After Taxes, Operating\\nnp: Net Profit\\nnrtxt: Nonrecurring Income Taxes\\nnrtxtd: Nonrecurring Income Taxes - Discontinued Operations\\nnrtxteps: Nonrecurring Income Taxes - Earnings Per Share\\noancf: Operating Activities, Net Cash Flow\\nob: Other Benefits\\noiadp: Operating Income After Depreciation\\noibdp: Operating Income Before Depreciation\\nopeps: Operating Earnings Per Share\\noprepsx: Operating Revenue Per Share Excluding Extraordinary Items\\noptca: Option Cost of Goods Sold Adjustment\\noptdr: Option Deferred Revenue Adjustment\\noptex: Option Expense\\noptexd: Option Expense - Discontinued Operations\\noptfvgr: Option Fair Value of Goods Received\\noptgr: Option Gross Revenue\\noptlife: Option Life\\noptosby: Option Outstanding Shares at Year End\\noptosey: Option Outstanding Shares at Year Beginning\\noptprcby: Option Price at Year End\\noptprcca: Option Price at Year Beginning\\noptprcex: Option Price Exercised\\noptprcey: Option Price Exercisable\\noptprcgr: Option Price Growth Rate\\noptprcwa: Option Price Weighted Average\\noptrfr: Option Revenue, Federal\\noptvol: Option Volume\\npdvc: Parent Dividend in Common Stock\\npi: Pretax Income\\npidom: Pretax Income, Domestic\\npifo: Pretax Income, Foreign\\npll: Loss and Loss Adjustment Expense\\npnca: Pretax Net Operating Income of Consolidated Subsidiary\\npncad: Pretax Net Operating Income of Consolidated Subsidiary - Discontinued Operations\\npncaeps: Pretax Net Operating Income of Consolidated Subsidiary - Earnings Per Share\\npncia: Pretax Net Operating Income of Consolidated Subsidiary - As Reported\\npncid: Pretax Net Operating Income of Consolidated Subsidiary - Discontinued Operations\\npncieps: Pretax Net Operating Income of Consolidated Subsidiary - Earnings Per Share\\npncip: Pretax Net Operating Income of Consolidated Subsidiary - Pre-Tax\\npncwia: Pretax Net Operating Income of Consolidated Subsidiary - As Reported\\npncwid: Pretax Net Operating Income of Consolidated Subsidiary - Discontinued Operations\\npncwieps: Pretax Net Operating Income of Consolidated Subsidiary - Earnings Per Share\\npncwip: Pretax Net Operating Income of Consolidated Subsidiary - Pre-Tax\\npnrsho: Preferred Stock - Number of Shares\\nppegt: Property, Plant, and Equipment - Gross\\nppenc: Property, Plant, and Equipment - Net, Construction in Progress\\nppent: Property, Plant, and Equipment - Net\\nppevbb: Property, Plant, and Equipment - Valuation Allowance for Available-for-Sale Securities Before Tax\\nppeveb: Property, Plant, and Equipment - Valuation Allowance for Available-for-Sale Securities After Tax\\nppevo: Property, Plant, and Equipment - Valuation Allowance for Available-for-Sale Securities, Other\\nppevr: Property, Plant, and Equipment - Valuation Allowance for Available-for-Sale Securities, Reserve\\nprca: Preferred Stock - Carrying Amount\\nprcad: Preferred Stock - Carrying Amount, Discontinued Operations\\nprcaeps: Preferred Stock - Carrying Amount, Earnings Per Share\\nprsho: Preferred Stock - Number of Shares Outstanding\\nprstkc: Preferred Stock - Conversion Ratio\\nprstkcc: Preferred Stock - Conversion Ratio Common Class\\nprstkpc: Preferred Stock - Conversion Price\\npstk: Preferred/Preference Stock (Capital) - Total\\npstkc: Preference Stock (Capital) - Total, Common Class\\npstkl: Preference Stock (Capital) - Liquidating Value\\npstkn: Preference Stock (Capital) - Nonredeemable\\npstkr: Preference Stock (Capital) - Redeemable\\npstkrv: Preference Stock (Capital) - Redeemable Value\\nrca: Rent and Royalties, Capitalized\\nrcd: Raw Charge-Offs\\nrceps: Rent and Royalties, Capitalized - Earnings Per Share\\nrcp: Raw Charge-Offs Provision\\nrdip: Research and Development Expense\\nrdipa: Research and Development Expense - Amortization\\nrdipd: Research and Development Expense - Discontinued Operations\\nrdipeps: Research and Development Expense - Earnings Per Share\\nre: Retained Earnings\\nrea: Retained Earnings Adjustments\\nreajo: Retained Earnings Adjustments, Other\\nrecch: Realized Exchange Rate Changes\\nrecco: Realized Exchange Rate Changes - Other\\nrecd: Realized Exchange Rate Changes - Discontinued Operations\\nrect: Realized Exchange Rate Changes - Total\\nrecta: Realized Exchange Rate Changes - Total After Tax\\nrectr: Realized Exchange Rate Changes - Total, After Tax, Recurring\\nrecub: Realized Exchange Rate Changes - Unusual Benefits\\nret: Retained Earnings - Total\\nreuna: Retained Earnings Unadjusted\\nreunr: Retained Earnings Unrestricted\\nrevt: Revenue, Total\\nrll: Reserve for Loan and Lease Losses\\nrra: Retained Risk Amount\\nrrd: Rate of Return on Debt\\nrreps: Reserve for Realized Exchange Rate Changes - Earnings Per Share\\nrrp: Rate of Return on Plan Assets\\nrstche: Restricted Cash and Cash Equivalents\\nrstchelt: Restricted Cash and Cash Equivalents - Temporary\\nsale: Sales/Turnover/Revenue\\nsalepfc: Sales - Production Financing, Cumulative Effect\\nsalepfp: Sales - Production Financing, Prior Period\\nscstkc: Stock Compensation - Cost Method\\nseq: Shareholders' Equity\\nseqo: Shareholders' Equity - Other\\nseta: Selling, General, and Administrative - Total\\nsetd: Selling, General, and Administrative - Discontinued Operations\\nseteps: Selling, General, and Administrative - Earnings Per Share\\nsetp: Selling, General, and Administrative - Total, Percentage\\nsiv: Shareholders' Investment Value\\nspce: Stock Purchase Common Equity\\nspced: Stock Purchase Common Equity - Depletion\\nspceeps: Stock Purchase Common Equity - Earnings Per Share\\nspi: Stock Purchase Income\\nspid: Stock Purchase Income - Discontinued Operations\\nspieps: Stock Purchase Income - Earnings Per Share\\nspioa: Stock Purchase Income - Operating Activities\\nspiop: Stock Purchase Income - Operating\\nsppe: Stock Purchase Preferred Equity\\nsppiv: Stock Purchase Preferred Income Value\\nspstkc: Stock Purchase Common Stock\\nsret: Sales Returns and Allowances\\nsstk: Stock Splits\\nstkco: Stockholders' Equity - Convertible\\nstkcpa: Stockholders' Equity - Common Equity Portion\\ntdc: Total Debt Current\\nteq: Total Equity\\ntfva: Total Fair Value Assets\\ntfvce: Total Fair Value Changes\\ntfvl: Total Fair Value Liabilities\\ntie: Taxable Income - Total Income\\ntii: Taxable Income - Interest Income\\ntlcf: Total Liabilities and Capital Funds\\ntsafc: Total Shareholders' Funds\\ntstk: Total Stockholders\\ntstkc: Total Stockholders - Common Class\\ntstkn: Total Stockholders - Nonredeemable\\ntstkp: Total Stockholders - Redeemable\\ntxach: Tax, Current - Cash\\ntxbco: Tax Benefit - Common Stock Issuance\\ntxbcof: Tax Benefit - Common Stock Issuance from Foreign Taxation\\ntxc: Tax, Current\\ntxdb: Tax, Deferred - Balance\\ntxdba: Tax, Deferred - Balance Adjustments\\ntxdbca: Tax, Deferred - Balance Current Adjustments\\ntxdbcl: Tax, Deferred - Balance Long Term Adjustments\\ntxdc: Tax, Deferred - Credits\\ntxdfed: Tax Deferred Federal\\ntxdfo: Tax Deferred Foreign\\ntxdi: Tax Deferred Income\\ntxditc: Tax Deferred Income Tax Credits\\ntxds: Tax Deferred State\\ntxfed: Tax, Deferred Federal\\ntxfo: Tax, Deferred Foreign\\ntxndb: Tax, Net Deferred Balance\\ntxndba: Tax, Net Deferred Balance Adjustments\\ntxndbl: Tax, Net Deferred Balance Long Term\\ntxndbr: Tax, Net Deferred Balance Recurring\\ntxo: Tax, Other\\ntxp: Tax Provision\\ntxpd: Tax, Provision Deferred\\ntxr: Tax, Refund\\ntxs: Tax, Special\\ntxt: Tax Rate\\ntxtubadjust: Taxable Income - Uncertain Tax Position Adjustment\\ntxtubbegin: Taxable Income - Uncertain Tax Position Beginning Balance\\ntxtubend: Taxable Income - Uncertain Tax Position Ending Balance\\ntxtubmax: Taxable Income - Uncertain Tax Position Maximum\\ntxtubmin: Taxable Income - Uncertain Tax Position Minimum\\ntxtubposdec: Taxable Income - Uncertain Tax Position Positive Decrease\\ntxtubposinc: Taxable Income - Uncertain Tax Position Positive Increase\\ntxtubpospdec: Taxable Income - Uncertain Tax Position Positive Periodic Decrease\\ntxtubpospinc: Taxable Income - Uncertain Tax Position Positive Periodic Increase\\ntxtubsettle: Taxable Income - Uncertain Tax Position Settlements\\ntxtubsoflimit: Taxable Income - Uncertain Tax Position Soft Limit\\ntxtubtxtr: Taxable Income - Uncertain Tax Position Tax Rate\\ntxtubxintbs: Taxable Income - Uncertain Tax Position Interest Basis\\ntxtubxintis: Taxable Income - Uncertain Tax Position Interest Income Statement\\ntxw: Tax, Withheld\\nuaoloch: Unrealized AO LIFO Charge\\nuaox: Unrealized AO LIFO Charge (Income)\\nuapt: Unrealized AO LIFO Charge (Expense)\\nucaps: Unusual Compensation Adjustments\\nuccons: Unusual Compensation Charges\\nuceq: Unrealized Currency Exchange Gains (Losses)\\nucustad: Unusual Compensation Adjustments\\nudcopres: Undistributed Capital in Presubsidiary\\nudd: Undistributed Dividends - Domestic\\nudfcc: Undistributed Foreign Currency Conversion Charges\\nudmb: Undistributed Dividends - Minority Interests\\nudolt: Undistributed Operating Lease Transactions\\nudpco: Undistributed Parent Company's Profits\\nudpfa: Undistributed Prior Period Adjustments\\nudvp: Undistributed Value Placed\\nufretsd: Unusual Financing Repayment - Settlement Date\\nugi: Unusual Gains (Losses) - Income\\nuinvt: Undistributed Investment\\nulcm: Unrealized Holding Gains (Losses) Current Market\\nulco: Unrealized Holding Gains (Losses) Other Than Trading, After-Tax\\nuniami: Unrealized Investment Gains (Losses) - After Tax\\nunopinc: Unusual Operating Income\\nuois: Unusual Operating Income Statement\\nuopi: Unusual Operating Profit (Loss)\\nuopres: Unusual Operating Profit (Loss) - Reported\\nupdvp: Unrealized Prepaid Dividends\\nupmcstk: Unpaid Minimum Capital Stock\\nupmpf: Unpaid Minimum Preferred Stock\\nupmpfs: Unpaid Minimum Preferred Stock - Foreign\\nupmsubp: Unpaid Minimum Subordinated Preferred Stock\\nupstk: Unpaid Minimum Stock\\nupstkc: Unpaid Minimum Stock - Common Class\\nupstksf: Unpaid Minimum Stock - Foreign\\nurect: Unrealized Currency Translation Adjustment, Cumulative Translation Adjustment\\nurectr: Unrealized Currency Translation Adjustment, Current Period\\nurevub: Unrealized Revenue Units\\nuspi: Unrealized Selling, General, and Administrative Expense\\nustdnc: Unrealized Securities Gains (Losses), Tax-Deferred\\nusubdvp: Unpaid Subscribed Dividends on Preferred Stock\\nusubpstk: Unpaid Subscribed Preferred Stock\\nutfdoc: Unrealized Foreign Exchange Translation, Derivative Other Comprehensive Income\\nutfosc: Unrealized Foreign Exchange Translation, Other Comprehensive Income\\nutme: Unrealized Gains (Losses) from Trading Securities\\nutxfed: Unrealized Tax Deferred Expenses\\nuxinst: Unrealized Exchange Rate Adjustments\\nuxintd: Unrealized Exchange Rate Adjustments - Derivative\\nwcap: Working Capital\\nwcapc: Working Capital Change\\nwcapch: Working Capital Change - Increase (Decrease)\\nwda: Withdrawals\\nwdd: Weighted Diluted Shares Outstanding\\nwdeps: Weighted Diluted EPS Excluding Extraordinary Items\\nwdp: Weighted Diluted Shares Outstanding Plus Treasury Stock, Net\\nxacc: Extraordinary Items and Accounting Changes\\nxad: Extraordinary Dividends\\nxi: Extraordinary Income/Charges\\nxido: Extraordinary Income/Charges - Discontinued Operations\\nxidoc: Extraordinary Income/Charges - Discontinued Operations, Cumulative Effect\\nxinst: Extraordinary Income/Charges - Insurance\\nxint: Extraordinary Interest\\nxintd: Extraordinary Interest - Derivative\\nxintopt: Extraordinary Interest - Option\\nxlr: Extraordinary Losses and Gains - Realized\\nxnbi: Extraordinary Nonrecurring Income/Charges\\nxnins: Extraordinary Nonrecurring Insurance Income/Charges\\nxopr: Extraordinary Operating Profit (Loss)\\nxoptd: Extraordinary Options Expense, Discontinued Operations\\nxopteps: Extraordinary Options Expense Per Share, Discontinued Operations\\nxpp: Extraordinary Property Plant and Equipment\\nxpr: Extraordinary Prior-Year Adjustments\\nxrd: Extraordinary Write-Off of Deferred Tax Assets\\nxrdp: Extraordinary Write-Off of Deferred Tax Assets - Provision\\nxrent: Extraordinary Rental Expense\\nxsga: Extraordinary Selling, General and Administrative Expenses\\nxstfo: Extraordinary Securities Trading Gains (Losses)\\nxuw: Extraordinary Utility Writedowns\\nnaicsh: NAICS Industry Code\\nsich: Standard Industrial Classification (SIC) Code\\ncshtr_c: Common Shares Traded, Cumulative\\ndvpsp_c: Dividends Per Share - Common Stock, Cumulative\\ndvpsx_c: Dividends Per Share - Excluding Extraordinary Items, Cumulative\\nprcc_c: Price - Close - Cumulative\\nprch_c: Price - High - Cumulative\\nprcl_c: Price - Low - Cumulative\\nadjex_c: Adjusted Exercise Price, Cumulative\\ncshtr_f: Common Shares Traded - Foreign\\ndvpsp_f: Dividends Per Share - Preferred/Preference Stock, Cumulative\\ndvpsx_f: Dividends Per Share - Excluding Extraordinary Items, Cumulative - Foreign\\nmkvalt: Market Value - Total\\nprcc_f: Price - Close - Foreign\\nprch_f: Price - High - Foreign\\nprcl_f: Price - Low - Foreign\\nadjex_f: Adjusted Exercise Price - Foreign\\nrank: Data Point Ranking\""
      ]
     },
     "execution_count": 3,
     "metadata": {},
     "output_type": "execute_result"
    }
   ],
   "source": [
    "description_path = 'varDescriptionCHATGPT.txt'\n",
    "with open(description_path, 'r') as file:\n",
    "    variable_descriptions = file.read()\n",
    "    \n",
    "variable_descriptions[:] "
   ]
  },
  {
   "cell_type": "code",
   "execution_count": 4,
   "id": "25d7f9c6-3548-46cf-b3b0-8420a141df7e",
   "metadata": {
    "tags": []
   },
   "outputs": [
    {
     "data": {
      "text/plain": [
       "{}"
      ]
     },
     "execution_count": 4,
     "metadata": {},
     "output_type": "execute_result"
    }
   ],
   "source": [
    "industry_columns = ['sich', 'naicsh']\n",
    "industry_data = {col: merged_df[col].unique() for col in industry_columns if col in merged_df.columns}\n",
    "industry_data"
   ]
  },
  {
   "cell_type": "code",
   "execution_count": 5,
   "id": "9a696dcb-9ce0-4e25-86ef-439e919ba14c",
   "metadata": {
    "tags": []
   },
   "outputs": [
    {
     "ename": "KeyError",
     "evalue": "'sich'",
     "output_type": "error",
     "traceback": [
      "\u001b[1;31m---------------------------------------------------------------------------\u001b[0m",
      "\u001b[1;31mKeyError\u001b[0m                                  Traceback (most recent call last)",
      "File \u001b[1;32m~\\anaconda3\\Lib\\site-packages\\pandas\\core\\indexes\\base.py:3791\u001b[0m, in \u001b[0;36mIndex.get_loc\u001b[1;34m(self, key)\u001b[0m\n\u001b[0;32m   3790\u001b[0m \u001b[38;5;28;01mtry\u001b[39;00m:\n\u001b[1;32m-> 3791\u001b[0m     \u001b[38;5;28;01mreturn\u001b[39;00m \u001b[38;5;28mself\u001b[39m\u001b[38;5;241m.\u001b[39m_engine\u001b[38;5;241m.\u001b[39mget_loc(casted_key)\n\u001b[0;32m   3792\u001b[0m \u001b[38;5;28;01mexcept\u001b[39;00m \u001b[38;5;167;01mKeyError\u001b[39;00m \u001b[38;5;28;01mas\u001b[39;00m err:\n",
      "File \u001b[1;32mindex.pyx:152\u001b[0m, in \u001b[0;36mpandas._libs.index.IndexEngine.get_loc\u001b[1;34m()\u001b[0m\n",
      "File \u001b[1;32mindex.pyx:181\u001b[0m, in \u001b[0;36mpandas._libs.index.IndexEngine.get_loc\u001b[1;34m()\u001b[0m\n",
      "File \u001b[1;32mpandas\\_libs\\hashtable_class_helper.pxi:7080\u001b[0m, in \u001b[0;36mpandas._libs.hashtable.PyObjectHashTable.get_item\u001b[1;34m()\u001b[0m\n",
      "File \u001b[1;32mpandas\\_libs\\hashtable_class_helper.pxi:7088\u001b[0m, in \u001b[0;36mpandas._libs.hashtable.PyObjectHashTable.get_item\u001b[1;34m()\u001b[0m\n",
      "\u001b[1;31mKeyError\u001b[0m: 'sich'",
      "\nThe above exception was the direct cause of the following exception:\n",
      "\u001b[1;31mKeyError\u001b[0m                                  Traceback (most recent call last)",
      "Cell \u001b[1;32mIn[5], line 3\u001b[0m\n\u001b[0;32m      1\u001b[0m spac_ipo_sic_codes \u001b[38;5;241m=\u001b[39m [\u001b[38;5;241m6199\u001b[39m, \u001b[38;5;241m6726\u001b[39m, \u001b[38;5;241m6794\u001b[39m, \u001b[38;5;241m6799\u001b[39m]\n\u001b[1;32m----> 3\u001b[0m spac_ipo_firms \u001b[38;5;241m=\u001b[39m merged_df[merged_df[\u001b[38;5;124m'\u001b[39m\u001b[38;5;124msich\u001b[39m\u001b[38;5;124m'\u001b[39m]\u001b[38;5;241m.\u001b[39misin(spac_ipo_sic_codes)]\n\u001b[0;32m      5\u001b[0m spac_ipo_firms_sample \u001b[38;5;241m=\u001b[39m spac_ipo_firms\u001b[38;5;241m.\u001b[39mhead()\n\u001b[0;32m      6\u001b[0m spac_ipo_count \u001b[38;5;241m=\u001b[39m spac_ipo_firms[\u001b[38;5;124m'\u001b[39m\u001b[38;5;124msich\u001b[39m\u001b[38;5;124m'\u001b[39m]\u001b[38;5;241m.\u001b[39mvalue_counts()\n",
      "File \u001b[1;32m~\\anaconda3\\Lib\\site-packages\\pandas\\core\\frame.py:3893\u001b[0m, in \u001b[0;36mDataFrame.__getitem__\u001b[1;34m(self, key)\u001b[0m\n\u001b[0;32m   3891\u001b[0m \u001b[38;5;28;01mif\u001b[39;00m \u001b[38;5;28mself\u001b[39m\u001b[38;5;241m.\u001b[39mcolumns\u001b[38;5;241m.\u001b[39mnlevels \u001b[38;5;241m>\u001b[39m \u001b[38;5;241m1\u001b[39m:\n\u001b[0;32m   3892\u001b[0m     \u001b[38;5;28;01mreturn\u001b[39;00m \u001b[38;5;28mself\u001b[39m\u001b[38;5;241m.\u001b[39m_getitem_multilevel(key)\n\u001b[1;32m-> 3893\u001b[0m indexer \u001b[38;5;241m=\u001b[39m \u001b[38;5;28mself\u001b[39m\u001b[38;5;241m.\u001b[39mcolumns\u001b[38;5;241m.\u001b[39mget_loc(key)\n\u001b[0;32m   3894\u001b[0m \u001b[38;5;28;01mif\u001b[39;00m is_integer(indexer):\n\u001b[0;32m   3895\u001b[0m     indexer \u001b[38;5;241m=\u001b[39m [indexer]\n",
      "File \u001b[1;32m~\\anaconda3\\Lib\\site-packages\\pandas\\core\\indexes\\base.py:3798\u001b[0m, in \u001b[0;36mIndex.get_loc\u001b[1;34m(self, key)\u001b[0m\n\u001b[0;32m   3793\u001b[0m     \u001b[38;5;28;01mif\u001b[39;00m \u001b[38;5;28misinstance\u001b[39m(casted_key, \u001b[38;5;28mslice\u001b[39m) \u001b[38;5;129;01mor\u001b[39;00m (\n\u001b[0;32m   3794\u001b[0m         \u001b[38;5;28misinstance\u001b[39m(casted_key, abc\u001b[38;5;241m.\u001b[39mIterable)\n\u001b[0;32m   3795\u001b[0m         \u001b[38;5;129;01mand\u001b[39;00m \u001b[38;5;28many\u001b[39m(\u001b[38;5;28misinstance\u001b[39m(x, \u001b[38;5;28mslice\u001b[39m) \u001b[38;5;28;01mfor\u001b[39;00m x \u001b[38;5;129;01min\u001b[39;00m casted_key)\n\u001b[0;32m   3796\u001b[0m     ):\n\u001b[0;32m   3797\u001b[0m         \u001b[38;5;28;01mraise\u001b[39;00m InvalidIndexError(key)\n\u001b[1;32m-> 3798\u001b[0m     \u001b[38;5;28;01mraise\u001b[39;00m \u001b[38;5;167;01mKeyError\u001b[39;00m(key) \u001b[38;5;28;01mfrom\u001b[39;00m \u001b[38;5;21;01merr\u001b[39;00m\n\u001b[0;32m   3799\u001b[0m \u001b[38;5;28;01mexcept\u001b[39;00m \u001b[38;5;167;01mTypeError\u001b[39;00m:\n\u001b[0;32m   3800\u001b[0m     \u001b[38;5;66;03m# If we have a listlike key, _check_indexing_error will raise\u001b[39;00m\n\u001b[0;32m   3801\u001b[0m     \u001b[38;5;66;03m#  InvalidIndexError. Otherwise we fall through and re-raise\u001b[39;00m\n\u001b[0;32m   3802\u001b[0m     \u001b[38;5;66;03m#  the TypeError.\u001b[39;00m\n\u001b[0;32m   3803\u001b[0m     \u001b[38;5;28mself\u001b[39m\u001b[38;5;241m.\u001b[39m_check_indexing_error(key)\n",
      "\u001b[1;31mKeyError\u001b[0m: 'sich'"
     ]
    }
   ],
   "source": [
    "spac_ipo_sic_codes = [6199, 6726, 6794, 6799]\n",
    "\n",
    "spac_ipo_firms = merged_df[merged_df['sich'].isin(spac_ipo_sic_codes)]\n",
    "\n",
    "spac_ipo_firms_sample = spac_ipo_firms.head()\n",
    "spac_ipo_count = spac_ipo_firms['sich'].value_counts()\n",
    "spac_ipo_firms_sample, spac_ipo_count"
   ]
  },
  {
   "cell_type": "code",
   "execution_count": 6,
   "id": "0d04be85-e773-41e2-88f9-1d5519dd67b1",
   "metadata": {
    "tags": []
   },
   "outputs": [
    {
     "ename": "NameError",
     "evalue": "name 'spac_ipo_firms' is not defined",
     "output_type": "error",
     "traceback": [
      "\u001b[1;31m---------------------------------------------------------------------------\u001b[0m",
      "\u001b[1;31mNameError\u001b[0m                                 Traceback (most recent call last)",
      "Cell \u001b[1;32mIn[6], line 5\u001b[0m\n\u001b[0;32m      1\u001b[0m \u001b[38;5;66;03m#Accuracy: \u001b[39;00m\n\u001b[0;32m      3\u001b[0m total_firms \u001b[38;5;241m=\u001b[39m \u001b[38;5;28mlen\u001b[39m(merged_df)\n\u001b[1;32m----> 5\u001b[0m correctly_classified_firms \u001b[38;5;241m=\u001b[39m \u001b[38;5;28mlen\u001b[39m(spac_ipo_firms)\n\u001b[0;32m      7\u001b[0m proportion_correctly_classified \u001b[38;5;241m=\u001b[39m (correctly_classified_firms \u001b[38;5;241m/\u001b[39m total_firms) \u001b[38;5;241m*\u001b[39m \u001b[38;5;241m100\u001b[39m\n\u001b[0;32m      9\u001b[0m total_firms, correctly_classified_firms, proportion_correctly_classified\n",
      "\u001b[1;31mNameError\u001b[0m: name 'spac_ipo_firms' is not defined"
     ]
    }
   ],
   "source": [
    "#Accuracy: \n",
    "\n",
    "total_firms = len(merged_df)\n",
    "\n",
    "correctly_classified_firms = len(spac_ipo_firms)\n",
    "\n",
    "proportion_correctly_classified = (correctly_classified_firms / total_firms) * 100\n",
    "\n",
    "total_firms, correctly_classified_firms, proportion_correctly_classified"
   ]
  },
  {
   "cell_type": "code",
   "execution_count": 7,
   "id": "6e1a160c-1d33-4870-abaa-25035ae661e5",
   "metadata": {
    "tags": []
   },
   "outputs": [
    {
     "ename": "KeyError",
     "evalue": "\"None of [Index(['sich'], dtype='object')] are in the [columns]\"",
     "output_type": "error",
     "traceback": [
      "\u001b[1;31m---------------------------------------------------------------------------\u001b[0m",
      "\u001b[1;31mKeyError\u001b[0m                                  Traceback (most recent call last)",
      "Cell \u001b[1;32mIn[7], line 8\u001b[0m\n\u001b[0;32m      5\u001b[0m \u001b[38;5;28;01mfrom\u001b[39;00m \u001b[38;5;21;01msklearn\u001b[39;00m\u001b[38;5;21;01m.\u001b[39;00m\u001b[38;5;21;01mpreprocessing\u001b[39;00m \u001b[38;5;28;01mimport\u001b[39;00m OneHotEncoder\n\u001b[0;32m      7\u001b[0m encoder \u001b[38;5;241m=\u001b[39m OneHotEncoder(sparse\u001b[38;5;241m=\u001b[39m\u001b[38;5;28;01mFalse\u001b[39;00m)\n\u001b[1;32m----> 8\u001b[0m encoded_features \u001b[38;5;241m=\u001b[39m encoder\u001b[38;5;241m.\u001b[39mfit_transform(merged_df[[\u001b[38;5;124m'\u001b[39m\u001b[38;5;124msich\u001b[39m\u001b[38;5;124m'\u001b[39m]]\u001b[38;5;241m.\u001b[39mfillna(\u001b[38;5;241m0\u001b[39m))  \n\u001b[0;32m     10\u001b[0m merged_df[\u001b[38;5;124m'\u001b[39m\u001b[38;5;124mis_spac_or_ipo\u001b[39m\u001b[38;5;124m'\u001b[39m] \u001b[38;5;241m=\u001b[39m merged_df[\u001b[38;5;124m'\u001b[39m\u001b[38;5;124msich\u001b[39m\u001b[38;5;124m'\u001b[39m]\u001b[38;5;241m.\u001b[39mapply(\u001b[38;5;28;01mlambda\u001b[39;00m x: \u001b[38;5;241m1\u001b[39m \u001b[38;5;28;01mif\u001b[39;00m x \u001b[38;5;129;01min\u001b[39;00m spac_ipo_sic_codes \u001b[38;5;28;01melse\u001b[39;00m \u001b[38;5;241m0\u001b[39m)\n\u001b[0;32m     12\u001b[0m encoded_features \u001b[38;5;241m=\u001b[39m encoder\u001b[38;5;241m.\u001b[39mfit_transform(merged_df[[\u001b[38;5;124m'\u001b[39m\u001b[38;5;124msich\u001b[39m\u001b[38;5;124m'\u001b[39m]]\u001b[38;5;241m.\u001b[39mfillna(\u001b[38;5;241m0\u001b[39m))  \n",
      "File \u001b[1;32m~\\anaconda3\\Lib\\site-packages\\pandas\\core\\frame.py:3899\u001b[0m, in \u001b[0;36mDataFrame.__getitem__\u001b[1;34m(self, key)\u001b[0m\n\u001b[0;32m   3897\u001b[0m     \u001b[38;5;28;01mif\u001b[39;00m is_iterator(key):\n\u001b[0;32m   3898\u001b[0m         key \u001b[38;5;241m=\u001b[39m \u001b[38;5;28mlist\u001b[39m(key)\n\u001b[1;32m-> 3899\u001b[0m     indexer \u001b[38;5;241m=\u001b[39m \u001b[38;5;28mself\u001b[39m\u001b[38;5;241m.\u001b[39mcolumns\u001b[38;5;241m.\u001b[39m_get_indexer_strict(key, \u001b[38;5;124m\"\u001b[39m\u001b[38;5;124mcolumns\u001b[39m\u001b[38;5;124m\"\u001b[39m)[\u001b[38;5;241m1\u001b[39m]\n\u001b[0;32m   3901\u001b[0m \u001b[38;5;66;03m# take() does not accept boolean indexers\u001b[39;00m\n\u001b[0;32m   3902\u001b[0m \u001b[38;5;28;01mif\u001b[39;00m \u001b[38;5;28mgetattr\u001b[39m(indexer, \u001b[38;5;124m\"\u001b[39m\u001b[38;5;124mdtype\u001b[39m\u001b[38;5;124m\"\u001b[39m, \u001b[38;5;28;01mNone\u001b[39;00m) \u001b[38;5;241m==\u001b[39m \u001b[38;5;28mbool\u001b[39m:\n",
      "File \u001b[1;32m~\\anaconda3\\Lib\\site-packages\\pandas\\core\\indexes\\base.py:6115\u001b[0m, in \u001b[0;36mIndex._get_indexer_strict\u001b[1;34m(self, key, axis_name)\u001b[0m\n\u001b[0;32m   6112\u001b[0m \u001b[38;5;28;01melse\u001b[39;00m:\n\u001b[0;32m   6113\u001b[0m     keyarr, indexer, new_indexer \u001b[38;5;241m=\u001b[39m \u001b[38;5;28mself\u001b[39m\u001b[38;5;241m.\u001b[39m_reindex_non_unique(keyarr)\n\u001b[1;32m-> 6115\u001b[0m \u001b[38;5;28mself\u001b[39m\u001b[38;5;241m.\u001b[39m_raise_if_missing(keyarr, indexer, axis_name)\n\u001b[0;32m   6117\u001b[0m keyarr \u001b[38;5;241m=\u001b[39m \u001b[38;5;28mself\u001b[39m\u001b[38;5;241m.\u001b[39mtake(indexer)\n\u001b[0;32m   6118\u001b[0m \u001b[38;5;28;01mif\u001b[39;00m \u001b[38;5;28misinstance\u001b[39m(key, Index):\n\u001b[0;32m   6119\u001b[0m     \u001b[38;5;66;03m# GH 42790 - Preserve name from an Index\u001b[39;00m\n",
      "File \u001b[1;32m~\\anaconda3\\Lib\\site-packages\\pandas\\core\\indexes\\base.py:6176\u001b[0m, in \u001b[0;36mIndex._raise_if_missing\u001b[1;34m(self, key, indexer, axis_name)\u001b[0m\n\u001b[0;32m   6174\u001b[0m     \u001b[38;5;28;01mif\u001b[39;00m use_interval_msg:\n\u001b[0;32m   6175\u001b[0m         key \u001b[38;5;241m=\u001b[39m \u001b[38;5;28mlist\u001b[39m(key)\n\u001b[1;32m-> 6176\u001b[0m     \u001b[38;5;28;01mraise\u001b[39;00m \u001b[38;5;167;01mKeyError\u001b[39;00m(\u001b[38;5;124mf\u001b[39m\u001b[38;5;124m\"\u001b[39m\u001b[38;5;124mNone of [\u001b[39m\u001b[38;5;132;01m{\u001b[39;00mkey\u001b[38;5;132;01m}\u001b[39;00m\u001b[38;5;124m] are in the [\u001b[39m\u001b[38;5;132;01m{\u001b[39;00maxis_name\u001b[38;5;132;01m}\u001b[39;00m\u001b[38;5;124m]\u001b[39m\u001b[38;5;124m\"\u001b[39m)\n\u001b[0;32m   6178\u001b[0m not_found \u001b[38;5;241m=\u001b[39m \u001b[38;5;28mlist\u001b[39m(ensure_index(key)[missing_mask\u001b[38;5;241m.\u001b[39mnonzero()[\u001b[38;5;241m0\u001b[39m]]\u001b[38;5;241m.\u001b[39munique())\n\u001b[0;32m   6179\u001b[0m \u001b[38;5;28;01mraise\u001b[39;00m \u001b[38;5;167;01mKeyError\u001b[39;00m(\u001b[38;5;124mf\u001b[39m\u001b[38;5;124m\"\u001b[39m\u001b[38;5;132;01m{\u001b[39;00mnot_found\u001b[38;5;132;01m}\u001b[39;00m\u001b[38;5;124m not in index\u001b[39m\u001b[38;5;124m\"\u001b[39m)\n",
      "\u001b[1;31mKeyError\u001b[0m: \"None of [Index(['sich'], dtype='object')] are in the [columns]\""
     ]
    }
   ],
   "source": [
    "from sklearn.model_selection import train_test_split\n",
    "from sklearn.linear_model import LogisticRegression\n",
    "from sklearn.metrics import classification_report\n",
    "from sklearn.preprocessing import OneHotEncoder\n",
    "from sklearn.preprocessing import OneHotEncoder\n",
    "\n",
    "encoder = OneHotEncoder(sparse=False)\n",
    "encoded_features = encoder.fit_transform(merged_df[['sich']].fillna(0))  \n",
    "\n",
    "merged_df['is_spac_or_ipo'] = merged_df['sich'].apply(lambda x: 1 if x in spac_ipo_sic_codes else 0)\n",
    "\n",
    "encoded_features = encoder.fit_transform(merged_df[['sich']].fillna(0))  \n",
    "\n",
    "X_train, X_test, y_train, y_test = train_test_split(encoded_features, merged_df['is_spac_or_ipo'], test_size=0.3, random_state=42)\n",
    "\n",
    "model = LogisticRegression(max_iter=1000)  \n",
    "model.fit(X_train, y_train)\n",
    "\n",
    "y_pred = model.predict(X_test)\n",
    "\n",
    "classification_report_result = classification_report(y_test, y_pred, output_dict=True)\n",
    "classification_report_result"
   ]
  }
 ],
 "metadata": {
  "kernelspec": {
   "display_name": "Python 3 (ipykernel)",
   "language": "python",
   "name": "python3"
  },
  "language_info": {
   "codemirror_mode": {
    "name": "ipython",
    "version": 3
   },
   "file_extension": ".py",
   "mimetype": "text/x-python",
   "name": "python",
   "nbconvert_exporter": "python",
   "pygments_lexer": "ipython3",
   "version": "3.11.5"
  }
 },
 "nbformat": 4,
 "nbformat_minor": 5
}
