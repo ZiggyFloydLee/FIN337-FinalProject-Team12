{
 "cells": [
  {
   "cell_type": "code",
   "execution_count": 1,
   "id": "f75b162b-39e0-4173-a790-a4d113748d4e",
   "metadata": {
    "tags": []
   },
   "outputs": [],
   "source": [
    "import pandas as pd"
   ]
  },
  {
   "cell_type": "code",
   "execution_count": 2,
   "id": "04e23bf2-6cc6-426c-86af-e7c0d67a6497",
   "metadata": {
    "tags": []
   },
   "outputs": [
    {
     "data": {
      "text/html": [
       "<div>\n",
       "<style scoped>\n",
       "    .dataframe tbody tr th:only-of-type {\n",
       "        vertical-align: middle;\n",
       "    }\n",
       "\n",
       "    .dataframe tbody tr th {\n",
       "        vertical-align: top;\n",
       "    }\n",
       "\n",
       "    .dataframe thead th {\n",
       "        text-align: right;\n",
       "    }\n",
       "</style>\n",
       "<table border=\"1\" class=\"dataframe\">\n",
       "  <thead>\n",
       "    <tr style=\"text-align: right;\">\n",
       "      <th></th>\n",
       "      <th>lpermno</th>\n",
       "      <th>lpermco</th>\n",
       "      <th>gvkey</th>\n",
       "      <th>datadate</th>\n",
       "      <th>fyear</th>\n",
       "      <th>indfmt</th>\n",
       "      <th>consol</th>\n",
       "      <th>popsrc</th>\n",
       "      <th>datafmt</th>\n",
       "      <th>tic</th>\n",
       "      <th>...</th>\n",
       "      <th>au</th>\n",
       "      <th>auop</th>\n",
       "      <th>auopic</th>\n",
       "      <th>ceoso</th>\n",
       "      <th>cfoso</th>\n",
       "      <th>Seq. No.</th>\n",
       "      <th>Code.1</th>\n",
       "      <th>Industry</th>\n",
       "      <th>Unnamed: 3</th>\n",
       "      <th>Unnamed: 4</th>\n",
       "    </tr>\n",
       "  </thead>\n",
       "  <tbody>\n",
       "    <tr>\n",
       "      <th>0</th>\n",
       "      <td>85073.0</td>\n",
       "      <td>32010.0</td>\n",
       "      <td>2731</td>\n",
       "      <td>2000-12-31</td>\n",
       "      <td>2000</td>\n",
       "      <td>INDL</td>\n",
       "      <td>C</td>\n",
       "      <td>D</td>\n",
       "      <td>STD</td>\n",
       "      <td>PVN</td>\n",
       "      <td>...</td>\n",
       "      <td>NaN</td>\n",
       "      <td>NaN</td>\n",
       "      <td>NaN</td>\n",
       "      <td>NaN</td>\n",
       "      <td>NaN</td>\n",
       "      <td>NaN</td>\n",
       "      <td>NaN</td>\n",
       "      <td>NaN</td>\n",
       "      <td>NaN</td>\n",
       "      <td>NaN</td>\n",
       "    </tr>\n",
       "    <tr>\n",
       "      <th>1</th>\n",
       "      <td>85073.0</td>\n",
       "      <td>32010.0</td>\n",
       "      <td>2731</td>\n",
       "      <td>2001-12-31</td>\n",
       "      <td>2001</td>\n",
       "      <td>INDL</td>\n",
       "      <td>C</td>\n",
       "      <td>D</td>\n",
       "      <td>STD</td>\n",
       "      <td>PVN</td>\n",
       "      <td>...</td>\n",
       "      <td>NaN</td>\n",
       "      <td>NaN</td>\n",
       "      <td>NaN</td>\n",
       "      <td>NaN</td>\n",
       "      <td>NaN</td>\n",
       "      <td>1.0</td>\n",
       "      <td>11</td>\n",
       "      <td>Agriculture, Forestry, Fishing and Hunting</td>\n",
       "      <td>NaN</td>\n",
       "      <td>NaN</td>\n",
       "    </tr>\n",
       "    <tr>\n",
       "      <th>2</th>\n",
       "      <td>85073.0</td>\n",
       "      <td>32010.0</td>\n",
       "      <td>2731</td>\n",
       "      <td>2002-12-31</td>\n",
       "      <td>2002</td>\n",
       "      <td>INDL</td>\n",
       "      <td>C</td>\n",
       "      <td>D</td>\n",
       "      <td>STD</td>\n",
       "      <td>PVN</td>\n",
       "      <td>...</td>\n",
       "      <td>NaN</td>\n",
       "      <td>NaN</td>\n",
       "      <td>NaN</td>\n",
       "      <td>NaN</td>\n",
       "      <td>NaN</td>\n",
       "      <td>2.0</td>\n",
       "      <td>111</td>\n",
       "      <td>Crop Production</td>\n",
       "      <td>NaN</td>\n",
       "      <td>NaN</td>\n",
       "    </tr>\n",
       "    <tr>\n",
       "      <th>3</th>\n",
       "      <td>85073.0</td>\n",
       "      <td>32010.0</td>\n",
       "      <td>2731</td>\n",
       "      <td>2003-12-31</td>\n",
       "      <td>2003</td>\n",
       "      <td>INDL</td>\n",
       "      <td>C</td>\n",
       "      <td>D</td>\n",
       "      <td>STD</td>\n",
       "      <td>PVN</td>\n",
       "      <td>...</td>\n",
       "      <td>NaN</td>\n",
       "      <td>NaN</td>\n",
       "      <td>NaN</td>\n",
       "      <td>Y</td>\n",
       "      <td>Y</td>\n",
       "      <td>3.0</td>\n",
       "      <td>1111</td>\n",
       "      <td>Oilseed and Grain Farming</td>\n",
       "      <td>NaN</td>\n",
       "      <td>NaN</td>\n",
       "    </tr>\n",
       "    <tr>\n",
       "      <th>4</th>\n",
       "      <td>14055.0</td>\n",
       "      <td>54485.0</td>\n",
       "      <td>3169</td>\n",
       "      <td>2013-12-31</td>\n",
       "      <td>2013</td>\n",
       "      <td>INDL</td>\n",
       "      <td>C</td>\n",
       "      <td>D</td>\n",
       "      <td>STD</td>\n",
       "      <td>OMED.2</td>\n",
       "      <td>...</td>\n",
       "      <td>4.0</td>\n",
       "      <td>1.0</td>\n",
       "      <td>0.0</td>\n",
       "      <td>Y</td>\n",
       "      <td>Y</td>\n",
       "      <td>4.0</td>\n",
       "      <td>11111</td>\n",
       "      <td>Soybean Farming</td>\n",
       "      <td>NaN</td>\n",
       "      <td>NaN</td>\n",
       "    </tr>\n",
       "  </tbody>\n",
       "</table>\n",
       "<p>5 rows × 429 columns</p>\n",
       "</div>"
      ],
      "text/plain": [
       "   lpermno  lpermco  gvkey    datadate  fyear indfmt consol popsrc datafmt  \\\n",
       "0  85073.0  32010.0   2731  2000-12-31   2000   INDL      C      D     STD   \n",
       "1  85073.0  32010.0   2731  2001-12-31   2001   INDL      C      D     STD   \n",
       "2  85073.0  32010.0   2731  2002-12-31   2002   INDL      C      D     STD   \n",
       "3  85073.0  32010.0   2731  2003-12-31   2003   INDL      C      D     STD   \n",
       "4  14055.0  54485.0   3169  2013-12-31   2013   INDL      C      D     STD   \n",
       "\n",
       "      tic  ...   au auop auopic ceoso cfoso  Seq. No.  Code.1  \\\n",
       "0     PVN  ...  NaN  NaN    NaN   NaN   NaN       NaN     NaN   \n",
       "1     PVN  ...  NaN  NaN    NaN   NaN   NaN       1.0      11   \n",
       "2     PVN  ...  NaN  NaN    NaN   NaN   NaN       2.0     111   \n",
       "3     PVN  ...  NaN  NaN    NaN     Y     Y       3.0    1111   \n",
       "4  OMED.2  ...  4.0  1.0    0.0     Y     Y       4.0   11111   \n",
       "\n",
       "                                     Industry Unnamed: 3 Unnamed: 4  \n",
       "0                                         NaN        NaN        NaN  \n",
       "1  Agriculture, Forestry, Fishing and Hunting        NaN        NaN  \n",
       "2                             Crop Production        NaN        NaN  \n",
       "3                   Oilseed and Grain Farming        NaN        NaN  \n",
       "4                             Soybean Farming        NaN        NaN  \n",
       "\n",
       "[5 rows x 429 columns]"
      ]
     },
     "execution_count": 2,
     "metadata": {},
     "output_type": "execute_result"
    }
   ],
   "source": [
    "merged_df = pd.read_csv('inputs/practice_file.csv', low_memory=False)\n",
    "\n",
    "merged_df.head()"
   ]
  },
  {
   "cell_type": "code",
   "execution_count": 3,
   "id": "d2f07d1a-3dc1-4c9c-b910-8c7bdbff04aa",
   "metadata": {
    "tags": []
   },
   "outputs": [
    {
     "data": {
      "text/plain": [
       "\"adrr: Adjusted Dividend Rate Ratio\\ncuruscn: Current USCIN (Ultimate Parent Company Identification Number)\\nismod: Indicator for Share Modification\\nscf: Statement of Cash Flows\\nsrc: Source of Data\\napdedate: Date of Annual Report Preparation\\nfdate: Fiscal Year-End Date\\npdate: Publication Date of Financial Data\\nacchg: Accounting Changes\\naccrt: Accounting Restatement Rate\\nacdo: Account Deletions and Omissions\\naco: Accounting Changes - Other\\nacodo: Account Deletions and Omissions - Other\\nacominc: Accumulated Other Comprehensive Income (Loss)\\nacox: Accrued Other Expenses\\nacqao: Acquired Assets and Operations\\nacqcshi: Acquired Cash and Cash Equivalents\\nacqgdwl: Acquired Goodwill\\nacqic: Acquired Intangibles\\nacqintan: Acquired Intangible Assets\\nacqinvt: Acquired Investments\\nacqlntal: Acquired Long-Term Assets\\nacqniintc: Acquired Non-Interest Income\\nacqppe: Acquired Property, Plant, and Equipment\\nacqsc: Acquired Short-Term Assets\\nact: Current Assets\\nafudcc: After-Tax Unusual Deferred Charges\\nafudci: After-Tax Unusual Deferred Credits\\naldo: Allowance for Loan and Lease Losses\\nam: Amortization\\namc: Amortization of Capitalized Software Costs\\nano: After-Tax Nonrecurring Charges\\nao: Assets - Other\\naocidergl: Accrued Other Comprehensive Income - Derivatives Gain/Loss\\naociother: Accrued Other Comprehensive Income - Other\\naocipen: Accrued Other Comprehensive Income - Pension\\naocisecgl: Accrued Other Comprehensive Income - Securities Gain/Loss\\naodo: Assets - Other, Discontinued Operations\\naol2: Assets Level 2\\naoloch: Assets - Other, Current\\naox: Assets - Other, Noncurrent\\nap: Accounts Payable\\napalch: Accounts Payable - Allocated\\naqa: Assets Acquired\\naqc: Assets Acquired under Capital Leases\\naqd: Assets Acquired and Divested\\naqeps: Assets Acquired for EPS\\naqi: Assets Acquired and Investments\\naqp: Assets Acquired under Purchase Agreements\\naqpl1: Assets Acquired for 10Q Prior Year\\naqs: Assets Acquired under Operating Leases\\narce: After-Tax Restructuring Charges and Effects\\narced: After-Tax Restructuring Charges and Effects - Discontinued Operations\\narceeps: After-Tax Restructuring Charges and Effects - Earnings Per Share\\nat: Total Assets\\naul3: Assets Level 3\\nbast: Build America Bonds - State\\nbastr: Build America Bonds - U.S. Treasury\\nbillexce: Billings in Excess of Cost and Earnings\\nbkvlps: Book Value per Share\\ncaps: Cash and Short-Term Investments\\ncapsft: Cash and Short-Term Investments - Footnote\\ncapx: Capital Expenditure\\ncapxv: Capital Expenditure - Voting\\ncb: Cash Balances\\ncbi: Contractual Based Investments\\ncdvc: Cash Dividends\\nceiexbill: Cumulative Effect of Incentive Expense from Billable Excess\\nceq: Common/Ordinary Equity\\nceql: Common/Ordinary Equity - Liquidating Value\\nceqt: Common/Ordinary Equity - Total\\nch: Cash\\nche: Cash - Ending\\nchech: Cash - Equivalent Changes\\nci: Cash Increase\\ncibegni: Cash Increase - Beginning\\ncicurr: Current Cash Increase\\ncidergl: Cumulative Unrealized Derivatives Gain/Loss\\ncimii: Cash Interest Paid - Operating Activities\\nciother: Cash Interest Paid - Other\\ncipen: Cash Interest Paid - Investing Activities\\ncisecgl: Cumulative Unrealized Securities Gain/Loss\\ncitotal: Cash Interest Paid - Total\\ncld2: Cumulative Preferred Dividends - Class 2\\ncld3: Cumulative Preferred Dividends - Class 3\\ncld4: Cumulative Preferred Dividends - Class 4\\ncld5: Cumulative Preferred Dividends - Class 5\\nclg: Current Liabilities - General\\ncmp: Comprehensive Income\\ncogs: Cost of Goods Sold\\ncshfd: Cash Flow from Discontinued Operations\\ncshi: Cash Increase (Decrease)\\ncsho: Common Shares Outstanding\\ncshpri: Common Shares Primary\\ncshr: Cash Restriction\\ncshrt: Cash Ratio\\ncstk: Common Stock\\ncstkcv: Common Stock - Carrying Value\\ncstke: Common Stock Equivalents\\ndbi: Deferred Business Income\\ndc: Deferred Charges\\ndclo: Deferred Charges - Long-Term\\ndcom: Deferred Compensation\\ndcpstk: Deferred Common Stock\\ndcs: Deferred Compensation - Stock\\ndcvsr: Deferred Compensation - Stock Restricted\\ndcvsub: Deferred Compensation - Stock Subsidiary\\ndcvt: Deferred Convertible Securities\\ndd: Depreciation and Depletion\\ndd1: Depreciation - Depletion and Amortization\\ndd2: Depreciation - Depletion and Amortization - Income Statement\\ndd3: Depreciation - Depletion and Amortization - Balance Sheet\\ndd4: Depreciation - Depletion and Amortization - Cash Flow\\ndd5: Depreciation - Depletion and Amort\\nderac: Deferred Accrued Expenses\\nderalt: Deferred Alternative Minimum Tax Liability\\nderhedgl: Deferred Hedge Gains/Losses\\nderlc: Deferred Long-Term Charges\\nderllt: Deferred Long-Term Liabilities\\ndfs: Deferred Federal Income Tax Surcharge\\ndiladj: Diluted Adjusted Shares Outstanding\\ndilavx: Dilution Adjustment for VX\\ndlc: Debt, Long-Term Current\\ndlcch: Debt, Long-Term Current - Change\\ndltis: Debt, Long-Term Issued\\ndlto: Debt, Long-Term Other\\ndltp: Debt, Long-Term Participating\\ndltr: Debt, Long-Term Redeemable\\ndltt: Debt, Long-Term Total\\ndm: Deferred Credits - Miscellaneous\\ndn: Deferred Incomes\\ndo: Deferred Operations\\ndonr: Deferred Other Nonrecurring Charges\\ndp: Depreciation and Amortization\\ndpacre: Depreciation, Amortization, and Current Rents\\ndpact: Depreciation, Amortization, and Current Taxes\\ndpc: Deferred Policy Acquisition Costs\\ndpret: Deferred Policyholder Reserves and Employee Benefits\\ndpvieb: Deferred Policyholder Benefits, Value of Investment Earnings\\ndrc: Deferred Rent Credits\\ndrlt: Deferred Rent Long-Term\\nds: Deferred Savings\\ndt: Deferred Taxes\\ndtea: Deferred Taxes - Environmental Adjustments\\ndted: Deferred Taxes - Environmental Depletion\\ndteeps: Deferred Taxes - Environmental Earnings Per Share\\ndtep: Deferred Taxes - Environmental Percentage\\ndudd: Deferred Unearned Discounts\\ndv: Deferred Value\\ndvc: Deferred Value Charge\\ndvintf: Deferred Variable Interest Income\\ndvp: Deferred Variable Policy Charges\\ndvpa: Deferred Variable Policy Acquisition Costs\\ndvt: Deferred Variable Transaction Costs\\ndxd2: Deferred Tax - Deferred Domestic Income Taxes\\ndxd3: Deferred Tax - Deferred Dividends Received Deduction\\ndxd4: Deferred Tax - Deferred Depletion\\ndxd5: Deferred Tax - Deferred Depletion, Income Statement\\nebit: Earnings Before Interest and Taxes\\nebitda: Earnings Before Interest, Taxes, Depreciation, and Amortization\\nemp: Employee\\nepsfi: Earnings Per Share - Fully Diluted Including Extraordinary Items\\nepsfx: Earnings Per Share - Fully Diluted Excluding Extraordinary Items\\nepspi: Earnings Per Share - Fully Diluted Including Extraordinary Items\\nepspx: Earnings Per Share - Basic Excluding Extraordinary Items\\nesopct: Employee Stock Ownership Plan Contributions\\nesopdlt: Employee Stock Ownership Plan Debt, Long-Term\\nesopnr: Employee Stock Ownership Plan - Nonredeemable\\nesopr: Employee Stock Ownership Plan - Redeemable\\nesopt: Employee Stock Ownership Plan - Total\\nesub: Employee Stock Unit - Beneficial Conversion\\nesubc: Employee Stock Unit - Beneficial Conversion\\nexre: Extraordinary Items\\nfatb: Fixed Assets Turnover - Book Value\\nfatc: Fixed Assets Turnover - Gross Book Value\\nfate: Fixed Assets Turnover - Efficiency\\nfatl: Fixed Assets Turnover - Lease\\nfatn: Fixed Assets Turnover - Net\\nfato: Fixed Assets Turnover - Operating\\nfatp: Fixed Assets Turnover - Property\\nfca: Free Cash Flow\\nffo: Funds from Operations\\nfiao: Financing Activities, Other\\nfinaco: Financing Activities, Continuing Operations\\nfincf: Financing Activities, Net Cash Flow\\nfinnp: Financing Activities, Nonrecurring\\nfinrev: Financing Activities, Recurring\\nfinxint: Financing Activities, Extraordinary Interest\\nfinxopr: Financing Activities, Extraordinary Operating\\nfopo: Foreign Operations\\nfopox: Foreign Operations - Extraordinary\\nfopt: Foreign Operations - Temporary\\nfsrco: FASB 142 - Restructuring Charge\\nfsrct: FASB 142 - Restructuring Charge, Total\\nfuseo: FASB 142 - Extraordinary Charge\\nfuset: FASB 142 - Extraordinary Charge, Total\\ngdwl: Goodwill\\ngdwlam: Goodwill Amortization\\ngdwlia: Goodwill Impairment Adjustment\\ngdwlid: Goodwill - Discontinued Operations\\ngdwlieps: Goodwill Impairment EPS\\ngdwlip: Goodwill Impairment - Pre-Tax\\ngla: Gross Lease Assets\\nglcea: Gross Lease Cash Expenditure Adjustments\\nglced: Gross Lease Cash Expenditure Differential\\nglceeps: Gross Lease Cash Expenditure EPS\\nglcep: Gross Lease Cash Expenditure Percentage\\ngld: Gross Lease Discount\\ngleps: Gross Lease Earnings Per Share\\ngliv: Gross Lease Investment\\nglp: Gross Lease Percentage\\ngp: Gross Profit\\nhedgegl: Hedge Gains/Losses\\nib: Income Before Extraordinary Items and Discontinued Operations\\nibadj: Income Before Extraordinary Items and Discontinued Operations - Adjusted\\nibc: Income Before Cumulative Effect\\nibcom: Income Before Cumulative Effect of Accounting Changes\\nibmii: Income Before Minority Interest and Income\\nicapt: Interest Capitalization\\nidit: Increase in Deferred Income Taxes\\nintan: Intangible Assets\\nintano: Intangible Assets - Other Noncurrent\\nintc: Interest Capitalized\\nintpn: Interest Paid - Net\\ninvch: Inventory Change\\ninvfg: Inventory Finished Goods\\ninvo: Inventory, Opening\\ninvrm: Inventory Raw Materials\\ninvt: Inventory, Total\\ninvwip: Inventory Work In Progress\\nipti: Income Pretax, Total\\nirent: Implied Rent Expense\\nitcb: Income Tax Current Benefit\\nitcc: Income Tax Current Continuity\\nitci: Income Tax Current Income\\nivaco: Investing Activities, Continuing Operations\\nivaeq: Investing Activities, Extraordinary\\nivao: Investing Activities, Other\\nivch: Investment Changes\\nivi: Investment Income\\nivncf: Investing Activities, Net Cash Flow\\nivst: Investment Securities\\nivstch: Investment Securities - Change\\nlco: Liabilities - Current, Other\\nlcox: Liabilities - Current, Other - Excluding Unearned Revenue\\nlcoxdr: Liabilities - Current, Other - Including Unearned Revenue\\nlct: Liabilities - Current, Total\\nlifr: Liability/Asset, Netting\\nlifrp: Liability/Asset, Netting, Post-Regulation\\nlno: Liabilities Net of Operations\\nlo: Liabilities - Other\\nlol2: Liabilities Other, Long-Term\\nloxdr: Liabilities Other, Excluding Deferred Revenue\\nlqpl1: Liabilities and Equity - Level 1\\nlse: Liabilities and Shareholders' Equity\\nlt: Liabilities, Total\\nlul3: Liabilities - Level 3\\nmib: Minority Interest Before Minority Interest of Subsidiary\\nmibn: Minority Interest - Nonredeemable\\nmibt: Minority Interest - Temporary\\nmii: Miscellaneous Income (Expense)\\nmrc1 to mrc5: Miscellaneous Regulatory Charges, Levels 1 to 5\\nmrct: Miscellaneous Regulatory Charges, Total\\nmrcta: Miscellaneous Regulatory Charges - Total After Tax\\nmsa: Municipal Securities and Loans Available for Sale\\nnco: Net Charge-Offs\\nni: Net Income\\nniadj: Net Income - Adjusted\\nnieci: Net Income from Continuing Operations\\nniintpfc: Net Interest Income from Parent Company\\nniintpfp: Net Interest Income from Parent Company, Preferred\\nniit: Net Income from Total Operations\\nnim: Net Interest Margin\\nnipfc: Net Interest Paid - Financing Cash Flow\\nnipfp: Net Interest Paid - Financing Cash Flow, Operating\\nnopi: Net Operating Profit After Taxes\\nnopio: Net Operating Profit After Taxes, Operating\\nnp: Net Profit\\nnrtxt: Nonrecurring Income Taxes\\nnrtxtd: Nonrecurring Income Taxes - Discontinued Operations\\nnrtxteps: Nonrecurring Income Taxes - Earnings Per Share\\noancf: Operating Activities, Net Cash Flow\\nob: Other Benefits\\noiadp: Operating Income After Depreciation\\noibdp: Operating Income Before Depreciation\\nopeps: Operating Earnings Per Share\\noprepsx: Operating Revenue Per Share Excluding Extraordinary Items\\noptca: Option Cost of Goods Sold Adjustment\\noptdr: Option Deferred Revenue Adjustment\\noptex: Option Expense\\noptexd: Option Expense - Discontinued Operations\\noptfvgr: Option Fair Value of Goods Received\\noptgr: Option Gross Revenue\\noptlife: Option Life\\noptosby: Option Outstanding Shares at Year End\\noptosey: Option Outstanding Shares at Year Beginning\\noptprcby: Option Price at Year End\\noptprcca: Option Price at Year Beginning\\noptprcex: Option Price Exercised\\noptprcey: Option Price Exercisable\\noptprcgr: Option Price Growth Rate\\noptprcwa: Option Price Weighted Average\\noptrfr: Option Revenue, Federal\\noptvol: Option Volume\\npdvc: Parent Dividend in Common Stock\\npi: Pretax Income\\npidom: Pretax Income, Domestic\\npifo: Pretax Income, Foreign\\npll: Loss and Loss Adjustment Expense\\npnca: Pretax Net Operating Income of Consolidated Subsidiary\\npncad: Pretax Net Operating Income of Consolidated Subsidiary - Discontinued Operations\\npncaeps: Pretax Net Operating Income of Consolidated Subsidiary - Earnings Per Share\\npncia: Pretax Net Operating Income of Consolidated Subsidiary - As Reported\\npncid: Pretax Net Operating Income of Consolidated Subsidiary - Discontinued Operations\\npncieps: Pretax Net Operating Income of Consolidated Subsidiary - Earnings Per Share\\npncip: Pretax Net Operating Income of Consolidated Subsidiary - Pre-Tax\\npncwia: Pretax Net Operating Income of Consolidated Subsidiary - As Reported\\npncwid: Pretax Net Operating Income of Consolidated Subsidiary - Discontinued Operations\\npncwieps: Pretax Net Operating Income of Consolidated Subsidiary - Earnings Per Share\\npncwip: Pretax Net Operating Income of Consolidated Subsidiary - Pre-Tax\\npnrsho: Preferred Stock - Number of Shares\\nppegt: Property, Plant, and Equipment - Gross\\nppenc: Property, Plant, and Equipment - Net, Construction in Progress\\nppent: Property, Plant, and Equipment - Net\\nppevbb: Property, Plant, and Equipment - Valuation Allowance for Available-for-Sale Securities Before Tax\\nppeveb: Property, Plant, and Equipment - Valuation Allowance for Available-for-Sale Securities After Tax\\nppevo: Property, Plant, and Equipment - Valuation Allowance for Available-for-Sale Securities, Other\\nppevr: Property, Plant, and Equipment - Valuation Allowance for Available-for-Sale Securities, Reserve\\nprca: Preferred Stock - Carrying Amount\\nprcad: Preferred Stock - Carrying Amount, Discontinued Operations\\nprcaeps: Preferred Stock - Carrying Amount, Earnings Per Share\\nprsho: Preferred Stock - Number of Shares Outstanding\\nprstkc: Preferred Stock - Conversion Ratio\\nprstkcc: Preferred Stock - Conversion Ratio Common Class\\nprstkpc: Preferred Stock - Conversion Price\\npstk: Preferred/Preference Stock (Capital) - Total\\npstkc: Preference Stock (Capital) - Total, Common Class\\npstkl: Preference Stock (Capital) - Liquidating Value\\npstkn: Preference Stock (Capital) - Nonredeemable\\npstkr: Preference Stock (Capital) - Redeemable\\npstkrv: Preference Stock (Capital) - Redeemable Value\\nrca: Rent and Royalties, Capitalized\\nrcd: Raw Charge-Offs\\nrceps: Rent and Royalties, Capitalized - Earnings Per Share\\nrcp: Raw Charge-Offs Provision\\nrdip: Research and Development Expense\\nrdipa: Research and Development Expense - Amortization\\nrdipd: Research and Development Expense - Discontinued Operations\\nrdipeps: Research and Development Expense - Earnings Per Share\\nre: Retained Earnings\\nrea: Retained Earnings Adjustments\\nreajo: Retained Earnings Adjustments, Other\\nrecch: Realized Exchange Rate Changes\\nrecco: Realized Exchange Rate Changes - Other\\nrecd: Realized Exchange Rate Changes - Discontinued Operations\\nrect: Realized Exchange Rate Changes - Total\\nrecta: Realized Exchange Rate Changes - Total After Tax\\nrectr: Realized Exchange Rate Changes - Total, After Tax, Recurring\\nrecub: Realized Exchange Rate Changes - Unusual Benefits\\nret: Retained Earnings - Total\\nreuna: Retained Earnings Unadjusted\\nreunr: Retained Earnings Unrestricted\\nrevt: Revenue, Total\\nrll: Reserve for Loan and Lease Losses\\nrra: Retained Risk Amount\\nrrd: Rate of Return on Debt\\nrreps: Reserve for Realized Exchange Rate Changes - Earnings Per Share\\nrrp: Rate of Return on Plan Assets\\nrstche: Restricted Cash and Cash Equivalents\\nrstchelt: Restricted Cash and Cash Equivalents - Temporary\\nsale: Sales/Turnover/Revenue\\nsalepfc: Sales - Production Financing, Cumulative Effect\\nsalepfp: Sales - Production Financing, Prior Period\\nscstkc: Stock Compensation - Cost Method\\nseq: Shareholders' Equity\\nseqo: Shareholders' Equity - Other\\nseta: Selling, General, and Administrative - Total\\nsetd: Selling, General, and Administrative - Discontinued Operations\\nseteps: Selling, General, and Administrative - Earnings Per Share\\nsetp: Selling, General, and Administrative - Total, Percentage\\nsiv: Shareholders' Investment Value\\nspce: Stock Purchase Common Equity\\nspced: Stock Purchase Common Equity - Depletion\\nspceeps: Stock Purchase Common Equity - Earnings Per Share\\nspi: Stock Purchase Income\\nspid: Stock Purchase Income - Discontinued Operations\\nspieps: Stock Purchase Income - Earnings Per Share\\nspioa: Stock Purchase Income - Operating Activities\\nspiop: Stock Purchase Income - Operating\\nsppe: Stock Purchase Preferred Equity\\nsppiv: Stock Purchase Preferred Income Value\\nspstkc: Stock Purchase Common Stock\\nsret: Sales Returns and Allowances\\nsstk: Stock Splits\\nstkco: Stockholders' Equity - Convertible\\nstkcpa: Stockholders' Equity - Common Equity Portion\\ntdc: Total Debt Current\\nteq: Total Equity\\ntfva: Total Fair Value Assets\\ntfvce: Total Fair Value Changes\\ntfvl: Total Fair Value Liabilities\\ntie: Taxable Income - Total Income\\ntii: Taxable Income - Interest Income\\ntlcf: Total Liabilities and Capital Funds\\ntsafc: Total Shareholders' Funds\\ntstk: Total Stockholders\\ntstkc: Total Stockholders - Common Class\\ntstkn: Total Stockholders - Nonredeemable\\ntstkp: Total Stockholders - Redeemable\\ntxach: Tax, Current - Cash\\ntxbco: Tax Benefit - Common Stock Issuance\\ntxbcof: Tax Benefit - Common Stock Issuance from Foreign Taxation\\ntxc: Tax, Current\\ntxdb: Tax, Deferred - Balance\\ntxdba: Tax, Deferred - Balance Adjustments\\ntxdbca: Tax, Deferred - Balance Current Adjustments\\ntxdbcl: Tax, Deferred - Balance Long Term Adjustments\\ntxdc: Tax, Deferred - Credits\\ntxdfed: Tax Deferred Federal\\ntxdfo: Tax Deferred Foreign\\ntxdi: Tax Deferred Income\\ntxditc: Tax Deferred Income Tax Credits\\ntxds: Tax Deferred State\\ntxfed: Tax, Deferred Federal\\ntxfo: Tax, Deferred Foreign\\ntxndb: Tax, Net Deferred Balance\\ntxndba: Tax, Net Deferred Balance Adjustments\\ntxndbl: Tax, Net Deferred Balance Long Term\\ntxndbr: Tax, Net Deferred Balance Recurring\\ntxo: Tax, Other\\ntxp: Tax Provision\\ntxpd: Tax, Provision Deferred\\ntxr: Tax, Refund\\ntxs: Tax, Special\\ntxt: Tax Rate\\ntxtubadjust: Taxable Income - Uncertain Tax Position Adjustment\\ntxtubbegin: Taxable Income - Uncertain Tax Position Beginning Balance\\ntxtubend: Taxable Income - Uncertain Tax Position Ending Balance\\ntxtubmax: Taxable Income - Uncertain Tax Position Maximum\\ntxtubmin: Taxable Income - Uncertain Tax Position Minimum\\ntxtubposdec: Taxable Income - Uncertain Tax Position Positive Decrease\\ntxtubposinc: Taxable Income - Uncertain Tax Position Positive Increase\\ntxtubpospdec: Taxable Income - Uncertain Tax Position Positive Periodic Decrease\\ntxtubpospinc: Taxable Income - Uncertain Tax Position Positive Periodic Increase\\ntxtubsettle: Taxable Income - Uncertain Tax Position Settlements\\ntxtubsoflimit: Taxable Income - Uncertain Tax Position Soft Limit\\ntxtubtxtr: Taxable Income - Uncertain Tax Position Tax Rate\\ntxtubxintbs: Taxable Income - Uncertain Tax Position Interest Basis\\ntxtubxintis: Taxable Income - Uncertain Tax Position Interest Income Statement\\ntxw: Tax, Withheld\\nuaoloch: Unrealized AO LIFO Charge\\nuaox: Unrealized AO LIFO Charge (Income)\\nuapt: Unrealized AO LIFO Charge (Expense)\\nucaps: Unusual Compensation Adjustments\\nuccons: Unusual Compensation Charges\\nuceq: Unrealized Currency Exchange Gains (Losses)\\nucustad: Unusual Compensation Adjustments\\nudcopres: Undistributed Capital in Presubsidiary\\nudd: Undistributed Dividends - Domestic\\nudfcc: Undistributed Foreign Currency Conversion Charges\\nudmb: Undistributed Dividends - Minority Interests\\nudolt: Undistributed Operating Lease Transactions\\nudpco: Undistributed Parent Company's Profits\\nudpfa: Undistributed Prior Period Adjustments\\nudvp: Undistributed Value Placed\\nufretsd: Unusual Financing Repayment - Settlement Date\\nugi: Unusual Gains (Losses) - Income\\nuinvt: Undistributed Investment\\nulcm: Unrealized Holding Gains (Losses) Current Market\\nulco: Unrealized Holding Gains (Losses) Other Than Trading, After-Tax\\nuniami: Unrealized Investment Gains (Losses) - After Tax\\nunopinc: Unusual Operating Income\\nuois: Unusual Operating Income Statement\\nuopi: Unusual Operating Profit (Loss)\\nuopres: Unusual Operating Profit (Loss) - Reported\\nupdvp: Unrealized Prepaid Dividends\\nupmcstk: Unpaid Minimum Capital Stock\\nupmpf: Unpaid Minimum Preferred Stock\\nupmpfs: Unpaid Minimum Preferred Stock - Foreign\\nupmsubp: Unpaid Minimum Subordinated Preferred Stock\\nupstk: Unpaid Minimum Stock\\nupstkc: Unpaid Minimum Stock - Common Class\\nupstksf: Unpaid Minimum Stock - Foreign\\nurect: Unrealized Currency Translation Adjustment, Cumulative Translation Adjustment\\nurectr: Unrealized Currency Translation Adjustment, Current Period\\nurevub: Unrealized Revenue Units\\nuspi: Unrealized Selling, General, and Administrative Expense\\nustdnc: Unrealized Securities Gains (Losses), Tax-Deferred\\nusubdvp: Unpaid Subscribed Dividends on Preferred Stock\\nusubpstk: Unpaid Subscribed Preferred Stock\\nutfdoc: Unrealized Foreign Exchange Translation, Derivative Other Comprehensive Income\\nutfosc: Unrealized Foreign Exchange Translation, Other Comprehensive Income\\nutme: Unrealized Gains (Losses) from Trading Securities\\nutxfed: Unrealized Tax Deferred Expenses\\nuxinst: Unrealized Exchange Rate Adjustments\\nuxintd: Unrealized Exchange Rate Adjustments - Derivative\\nwcap: Working Capital\\nwcapc: Working Capital Change\\nwcapch: Working Capital Change - Increase (Decrease)\\nwda: Withdrawals\\nwdd: Weighted Diluted Shares Outstanding\\nwdeps: Weighted Diluted EPS Excluding Extraordinary Items\\nwdp: Weighted Diluted Shares Outstanding Plus Treasury Stock, Net\\nxacc: Extraordinary Items and Accounting Changes\\nxad: Extraordinary Dividends\\nxi: Extraordinary Income/Charges\\nxido: Extraordinary Income/Charges - Discontinued Operations\\nxidoc: Extraordinary Income/Charges - Discontinued Operations, Cumulative Effect\\nxinst: Extraordinary Income/Charges - Insurance\\nxint: Extraordinary Interest\\nxintd: Extraordinary Interest - Derivative\\nxintopt: Extraordinary Interest - Option\\nxlr: Extraordinary Losses and Gains - Realized\\nxnbi: Extraordinary Nonrecurring Income/Charges\\nxnins: Extraordinary Nonrecurring Insurance Income/Charges\\nxopr: Extraordinary Operating Profit (Loss)\\nxoptd: Extraordinary Options Expense, Discontinued Operations\\nxopteps: Extraordinary Options Expense Per Share, Discontinued Operations\\nxpp: Extraordinary Property Plant and Equipment\\nxpr: Extraordinary Prior-Year Adjustments\\nxrd: Extraordinary Write-Off of Deferred Tax Assets\\nxrdp: Extraordinary Write-Off of Deferred Tax Assets - Provision\\nxrent: Extraordinary Rental Expense\\nxsga: Extraordinary Selling, General and Administrative Expenses\\nxstfo: Extraordinary Securities Trading Gains (Losses)\\nxuw: Extraordinary Utility Writedowns\\nnaicsh: NAICS Industry Code\\nsich: Standard Industrial Classification (SIC) Code\\ncshtr_c: Common Shares Traded, Cumulative\\ndvpsp_c: Dividends Per Share - Common Stock, Cumulative\\ndvpsx_c: Dividends Per Share - Excluding Extraordinary Items, Cumulative\\nprcc_c: Price - Close - Cumulative\\nprch_c: Price - High - Cumulative\\nprcl_c: Price - Low - Cumulative\\nadjex_c: Adjusted Exercise Price, Cumulative\\ncshtr_f: Common Shares Traded - Foreign\\ndvpsp_f: Dividends Per Share - Preferred/Preference Stock, Cumulative\\ndvpsx_f: Dividends Per Share - Excluding Extraordinary Items, Cumulative - Foreign\\nmkvalt: Market Value - Total\\nprcc_f: Price - Close - Foreign\\nprch_f: Price - High - Foreign\\nprcl_f: Price - Low - Foreign\\nadjex_f: Adjusted Exercise Price - Foreign\\nrank: Data Point Ranking\""
      ]
     },
     "execution_count": 3,
     "metadata": {},
     "output_type": "execute_result"
    }
   ],
   "source": [
    "description_path = 'varDescriptionCHATGPT.txt'\n",
    "with open(description_path, 'r') as file:\n",
    "    variable_descriptions = file.read()\n",
    "    \n",
    "variable_descriptions[:] "
   ]
  },
  {
   "cell_type": "code",
   "execution_count": 4,
   "id": "25d7f9c6-3548-46cf-b3b0-8420a141df7e",
   "metadata": {
    "tags": []
   },
   "outputs": [
    {
     "data": {
      "text/plain": [
       "{'sich': array([6021., 6020., 2836., 7370., 6794., 7374., 9995.,   nan, 2835.,\n",
       "        6798., 7372., 6500., 6351., 5400., 2990., 4899., 2844., 4610.,\n",
       "        8711., 1400., 7373., 5171., 5172., 5700., 2000., 7990., 6199.,\n",
       "        2300., 1311., 2020., 5961., 6035., 3490., 2834., 2040., 8060.,\n",
       "        7380., 6282., 5960., 5411., 2911., 3620., 3312., 3674., 7311.,\n",
       "        6311., 6211., 6331., 6172., 5940., 4950., 1381., 6797., 4922.,\n",
       "        3576., 5031., 4953., 1531., 3841., 2731., 6411., 4832., 3550.,\n",
       "        6099., 4812., 1040., 6162., 4941., 3812., 4412., 2090., 2800.,\n",
       "        4400., 2084., 6512., 4833., 5500., 3845., 8731., 5000., 2840.,\n",
       "        6022., 1389., 6159., 3334., 3350., 3272., 3910., 3663., 2711.,\n",
       "        5812., 3621., 2086., 1382., 1600., 2870., 7310., 3670., 6141.,\n",
       "        5140., 3751., 6799., 7997.,  800., 2085., 8090., 7900., 3530.,\n",
       "        6531., 2833., 3572., 5122., 3541., 5600., 4991., 7385., 3555.,\n",
       "        2750., 3690., 3510., 6510., 2860., 6036., 4813., 7011., 5051.,\n",
       "        3640., 3730., 3270., 7359., 1700., 2721., 3651., 5110., 8071.,\n",
       "        8200., 7363., 7340., 3080., 3533., 4700., 3825., 5084., 2890.,\n",
       "        1000., 2820., 6792., 5160., 3861., 8744., 1044., 8011., 6324.,\n",
       "        3842., 3679., 5912., 4512., 7389., 5040., 3714., 5661., 7510.,\n",
       "        6519., 2851., 5211., 4210., 3577., 5080., 5030., 3480., 4213.,\n",
       "        8741., 7812., 2070., 8051., 3713., 4841., 6200., 3826., 2400.,\n",
       "        1220., 3559., 5010., 3669., 5331., 3823., 3561., 7323., 2670.,\n",
       "        2810., 2821., 2050., 3711., 3089., 3590., 3571., 8062., 5399.,\n",
       "        3580., 3829., 1540., 7350., 3330., 6795., 3579., 7948., 2531.,\n",
       "        3721., 2430., 6532., 3949., 2060., 3661., 3728., 4955., 2891.,\n",
       "        2030., 3844., 6513., 7361., 5090., 3944., 3452., 8742.,  100.,\n",
       "        2080., 2320., 5944., 3560., 5810., 3827., 3630., 5621., 3743.,\n",
       "        4911., 3411., 8093., 5047., 6552., 3531., 3990., 3578., 3942.,\n",
       "        3672., 5065., 8721., 2330., 3060., 4923., 3290., 7371., 5990.,\n",
       "        4581., 7381., 7500., 7830., 2510.,  700., 2451., 3420., 1520.,\n",
       "        5082., 3433., 5045., 2452., 5190., 3851., 4522., 2082., 5093.,\n",
       "        6153., 5651., 2761., 2621., 8300., 7377., 4731., 8700., 3100.,\n",
       "        5900., 8351., 5094., 2540., 3564., 4220., 8000., 3357., 3652.,\n",
       "        2200., 4011., 2741., 4513., 3440., 8734., 3911., 5013., 3540.,\n",
       "        3695., 7330., 7200., 3931., 1623., 3569., 3011., 3523., 7320.,\n",
       "        2522., 3460., 2421., 8082.,  200., 5735., 3724., 3562., 7819.,\n",
       "        6726., 9997., 5180., 3341., 3390., 3444., 2340., 5945., 6111.,\n",
       "        3843., 1731., 3231., 5072., 5130., 3790., 5311., 6321., 3612.,\n",
       "        5531., 2100., 5070., 2631., 4931., 1090., 6029., 2650., 3873.,\n",
       "        3634., 8111., 5712., 5731., 6163., 3600., 3822., 5141., 6361.,\n",
       "        3260., 4822., 5063., 2111., 5099., 3140., 8600., 3821., 7331.,\n",
       "        2790., 3585., 7841., 2390., 2673., 7996., 3570., 8050., 1221.,\n",
       "        3443., 2092., 5734., 3310., 3524., 3050., 3317., 2033., 2011.,\n",
       "        2015., 3537., 2780., 4100., 3021., 8900., 3320., 5200., 3281.,\n",
       "        3211., 3442., 2250., 7384., 3081., 3678., 3613., 2842., 3250.,\n",
       "        3824., 7822., 9998., 3086., 3241.,  900., 4888., 3760.])}"
      ]
     },
     "execution_count": 4,
     "metadata": {},
     "output_type": "execute_result"
    }
   ],
   "source": [
    "industry_columns = ['sich', 'naicsh']\n",
    "industry_data = {col: merged_df[col].unique() for col in industry_columns if col in merged_df.columns}\n",
    "industry_data"
   ]
  },
  {
   "cell_type": "code",
   "execution_count": 5,
   "id": "9a696dcb-9ce0-4e25-86ef-439e919ba14c",
   "metadata": {
    "tags": []
   },
   "outputs": [
    {
     "data": {
      "text/plain": [
       "(     lpermno  lpermco  gvkey    datadate  fyear indfmt consol popsrc datafmt  \\\n",
       " 12   14813.0  54961.0   4384  2014-12-31   2014   INDL      C      D     STD   \n",
       " 13   14813.0  54961.0   4384  2015-12-31   2015   INDL      C      D     STD   \n",
       " 14   14813.0  54961.0   4384  2016-12-31   2016   INDL      C      D     STD   \n",
       " 15   14813.0  54961.0   4384  2017-12-31   2017   INDL      C      D     STD   \n",
       " 131  12017.0  53444.0  12987  2014-12-31   2014   INDL      C      D     STD   \n",
       " \n",
       "       tic  ...    au auop auopic ceoso cfoso  Seq. No.  Code.1  \\\n",
       " 12   MARA  ...   9.0  1.0    0.0     Y     Y      12.0   11115   \n",
       " 13   MARA  ...   9.0  1.0    0.0     Y     Y      13.0  111150   \n",
       " 14   MARA  ...  11.0  1.0    0.0     Y     Y      14.0   11116   \n",
       " 15   MARA  ...   9.0  1.0    0.0     Y     Y      15.0  111160   \n",
       " 131  XWEL  ...   6.0  4.0    1.0     Y     Y     131.0  115310   \n",
       " \n",
       "                             Industry Unnamed: 3 Unnamed: 4  \n",
       " 12                      Corn Farming        NaN        NaN  \n",
       " 13                     Corn Farming         NaN        NaN  \n",
       " 14                      Rice Farming        NaN        NaN  \n",
       " 15                      Rice Farming        NaN        NaN  \n",
       " 131  Support Activities for Forestry        NaN        NaN  \n",
       " \n",
       " [5 rows x 429 columns],\n",
       " sich\n",
       " 6799.0    110\n",
       " 6794.0     65\n",
       " 6199.0     15\n",
       " 6726.0      9\n",
       " Name: count, dtype: int64)"
      ]
     },
     "execution_count": 5,
     "metadata": {},
     "output_type": "execute_result"
    }
   ],
   "source": [
    "spac_ipo_sic_codes = [6199, 6726, 6794, 6799]\n",
    "\n",
    "spac_ipo_firms = merged_df[merged_df['sich'].isin(spac_ipo_sic_codes)]\n",
    "\n",
    "spac_ipo_firms_sample = spac_ipo_firms.head()\n",
    "spac_ipo_count = spac_ipo_firms['sich'].value_counts()\n",
    "spac_ipo_firms_sample, spac_ipo_count"
   ]
  },
  {
   "cell_type": "code",
   "execution_count": 6,
   "id": "0d04be85-e773-41e2-88f9-1d5519dd67b1",
   "metadata": {
    "tags": []
   },
   "outputs": [
    {
     "data": {
      "text/plain": [
       "(27788, 199, 0.7161364617820641)"
      ]
     },
     "execution_count": 6,
     "metadata": {},
     "output_type": "execute_result"
    }
   ],
   "source": [
    "#Accuracy: \n",
    "\n",
    "total_firms = len(merged_df)\n",
    "\n",
    "correctly_classified_firms = len(spac_ipo_firms)\n",
    "\n",
    "proportion_correctly_classified = (correctly_classified_firms / total_firms) * 100\n",
    "\n",
    "total_firms, correctly_classified_firms, proportion_correctly_classified"
   ]
  }
 ],
 "metadata": {
  "kernelspec": {
   "display_name": "Python 3 (ipykernel)",
   "language": "python",
   "name": "python3"
  },
  "language_info": {
   "codemirror_mode": {
    "name": "ipython",
    "version": 3
   },
   "file_extension": ".py",
   "mimetype": "text/x-python",
   "name": "python",
   "nbconvert_exporter": "python",
   "pygments_lexer": "ipython3",
   "version": "3.11.5"
  }
 },
 "nbformat": 4,
 "nbformat_minor": 5
}
