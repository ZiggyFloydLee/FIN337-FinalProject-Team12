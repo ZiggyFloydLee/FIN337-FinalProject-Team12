{
 "cells": [
  {
   "cell_type": "code",
   "execution_count": 1,
   "metadata": {},
   "outputs": [
    {
     "name": "stderr",
     "output_type": "stream",
     "text": [
      "c:\\Users\\ziggy\\anaconda3\\Lib\\site-packages\\pandas\\core\\arrays\\masked.py:60: UserWarning: Pandas requires version '1.3.6' or newer of 'bottleneck' (version '1.3.5' currently installed).\n",
      "  from pandas.core import (\n"
     ]
    }
   ],
   "source": [
    "import pandas as pd\n",
    "import os\n",
    "import zipfile"
   ]
  },
  {
   "cell_type": "markdown",
   "metadata": {},
   "source": [
    "Donwloading Data"
   ]
  },
  {
   "cell_type": "code",
   "execution_count": 2,
   "metadata": {},
   "outputs": [
    {
     "name": "stderr",
     "output_type": "stream",
     "text": [
      "C:\\Users\\ziggy\\AppData\\Local\\Temp\\ipykernel_27776\\2664457269.py:3: DtypeWarning: Columns (29,33) have mixed types. Specify dtype option on import or set low_memory=False.\n",
      "  ccm_df = pd.read_csv('inputs/all_ccm_data.csv')\n"
     ]
    }
   ],
   "source": [
    "ipo_age_df = pd.read_csv('inputs/IPO-age(9).csv')\n",
    "SPACs_df = pd.read_csv('inputs/SPACs2016-2021.csv')\n",
    "ccm_df = pd.read_csv('inputs/all_ccm_data.csv')"
   ]
  },
  {
   "cell_type": "markdown",
   "metadata": {},
   "source": [
    "Narrowing Horizon to 2000-2018"
   ]
  },
  {
   "cell_type": "code",
   "execution_count": 3,
   "metadata": {},
   "outputs": [],
   "source": [
    "ipo_age_df = ipo_age_df[ipo_age_df['offer date'] > 20000000]\n",
    "ipo_age_df = ipo_age_df[ipo_age_df['offer date'] < 20190000]\n",
    "ipo_age_df = ipo_age_df.iloc[:, :-3]\n",
    "# ipo_age_df"
   ]
  },
  {
   "cell_type": "code",
   "execution_count": 7,
   "metadata": {},
   "outputs": [
    {
     "data": {
      "text/plain": [
       "0        640475109\n",
       "1        758865109\n",
       "2        42222H106\n",
       "3        302255104\n",
       "4        302255104\n",
       "           ...    \n",
       "10284    12528N206\n",
       "10285    88557W101\n",
       "10286    52472M101\n",
       "10287     15957A10\n",
       "10288    G6096M106\n",
       "Name: CUSIP, Length: 10289, dtype: object"
      ]
     },
     "execution_count": 7,
     "metadata": {},
     "output_type": "execute_result"
    }
   ],
   "source": [
    "ipoAndCCM = pd.merge(left=ipo_age_df, right=ccm_df, how='left', left_on='CUSIP', right_on='cusip')\n",
    "ipoAndCCM.to_csv('inputs/correctmerge.csv')\n",
    "ipoAndCCM['CUSIP']"
   ]
  },
  {
   "cell_type": "code",
   "execution_count": null,
   "metadata": {},
   "outputs": [
    {
     "data": {
      "text/html": [
       "<div>\n",
       "<style scoped>\n",
       "    .dataframe tbody tr th:only-of-type {\n",
       "        vertical-align: middle;\n",
       "    }\n",
       "\n",
       "    .dataframe tbody tr th {\n",
       "        vertical-align: top;\n",
       "    }\n",
       "\n",
       "    .dataframe thead th {\n",
       "        text-align: right;\n",
       "    }\n",
       "</style>\n",
       "<table border=\"1\" class=\"dataframe\">\n",
       "  <thead>\n",
       "    <tr style=\"text-align: right;\">\n",
       "      <th></th>\n",
       "      <th>SPAC IPO</th>\n",
       "      <th>Date of IPO</th>\n",
       "      <th>CUSIP</th>\n",
       "      <th>IS_SPAC</th>\n",
       "    </tr>\n",
       "  </thead>\n",
       "  <tbody>\n",
       "    <tr>\n",
       "      <th>920</th>\n",
       "      <td>Chardan Healthcare Acquisition Corp.</td>\n",
       "      <td>2018-12-18</td>\n",
       "      <td>09090D202</td>\n",
       "      <td>1</td>\n",
       "    </tr>\n",
       "    <tr>\n",
       "      <th>921</th>\n",
       "      <td>CF Finance Acquisition Corp.</td>\n",
       "      <td>2018-12-17</td>\n",
       "      <td>12528N206</td>\n",
       "      <td>1</td>\n",
       "    </tr>\n",
       "    <tr>\n",
       "      <th>922</th>\n",
       "      <td>Schultze Special Purpose Acquisition Corp.</td>\n",
       "      <td>2018-12-13</td>\n",
       "      <td>80821R208</td>\n",
       "      <td>1</td>\n",
       "    </tr>\n",
       "    <tr>\n",
       "      <th>923</th>\n",
       "      <td>FinTech Acquisition Corp. III</td>\n",
       "      <td>2018-11-20</td>\n",
       "      <td>31811A309</td>\n",
       "      <td>1</td>\n",
       "    </tr>\n",
       "    <tr>\n",
       "      <th>924</th>\n",
       "      <td>AMCI Acquisition Corp.</td>\n",
       "      <td>2018-11-20</td>\n",
       "      <td>00165R200</td>\n",
       "      <td>1</td>\n",
       "    </tr>\n",
       "    <tr>\n",
       "      <th>...</th>\n",
       "      <td>...</td>\n",
       "      <td>...</td>\n",
       "      <td>...</td>\n",
       "      <td>...</td>\n",
       "    </tr>\n",
       "    <tr>\n",
       "      <th>1008</th>\n",
       "      <td>Landcadia Holdings, Inc.</td>\n",
       "      <td>2016-06-01</td>\n",
       "      <td>51476W206</td>\n",
       "      <td>1</td>\n",
       "    </tr>\n",
       "    <tr>\n",
       "      <th>1009</th>\n",
       "      <td>CF Corp.</td>\n",
       "      <td>2016-05-25</td>\n",
       "      <td>NaN</td>\n",
       "      <td>1</td>\n",
       "    </tr>\n",
       "    <tr>\n",
       "      <th>1010</th>\n",
       "      <td>KLR Energy Acquisition Corp.</td>\n",
       "      <td>2016-03-16</td>\n",
       "      <td>777385204</td>\n",
       "      <td>1</td>\n",
       "    </tr>\n",
       "    <tr>\n",
       "      <th>1011</th>\n",
       "      <td>Jensyn Acquisition Corp.</td>\n",
       "      <td>2016-03-07</td>\n",
       "      <td>47632B201</td>\n",
       "      <td>1</td>\n",
       "    </tr>\n",
       "    <tr>\n",
       "      <th>1012</th>\n",
       "      <td>Silver Run Acquisition Corp.</td>\n",
       "      <td>2016-02-29</td>\n",
       "      <td>82811P200</td>\n",
       "      <td>1</td>\n",
       "    </tr>\n",
       "  </tbody>\n",
       "</table>\n",
       "<p>93 rows × 4 columns</p>\n",
       "</div>"
      ],
      "text/plain": [
       "                                       SPAC IPO  Date of IPO      CUSIP  \\\n",
       "920         Chardan Healthcare Acquisition Corp.  2018-12-18  09090D202   \n",
       "921                 CF Finance Acquisition Corp.  2018-12-17  12528N206   \n",
       "922   Schultze Special Purpose Acquisition Corp.  2018-12-13  80821R208   \n",
       "923                FinTech Acquisition Corp. III  2018-11-20  31811A309   \n",
       "924                       AMCI Acquisition Corp.  2018-11-20  00165R200   \n",
       "...                                          ...         ...        ...   \n",
       "1008                    Landcadia Holdings, Inc.  2016-06-01  51476W206   \n",
       "1009                                    CF Corp.  2016-05-25        NaN   \n",
       "1010                KLR Energy Acquisition Corp.  2016-03-16  777385204   \n",
       "1011                    Jensyn Acquisition Corp.  2016-03-07  47632B201   \n",
       "1012                Silver Run Acquisition Corp.  2016-02-29  82811P200   \n",
       "\n",
       "      IS_SPAC  \n",
       "920         1  \n",
       "921         1  \n",
       "922         1  \n",
       "923         1  \n",
       "924         1  \n",
       "...       ...  \n",
       "1008        1  \n",
       "1009        1  \n",
       "1010        1  \n",
       "1011        1  \n",
       "1012        1  \n",
       "\n",
       "[93 rows x 4 columns]"
      ]
     },
     "execution_count": 22,
     "metadata": {},
     "output_type": "execute_result"
    }
   ],
   "source": [
    "SPACs_df['Date of IPO'] = pd.to_datetime(SPACs_df['Date of IPO'])\n",
    "start_date = '2000-01-01'\n",
    "end_date = '2019-01-01'\n",
    "SPACs_df = SPACs_df[(SPACs_df['Date of IPO'] >= start_date) & (SPACs_df['Date of IPO'] <= end_date)]\n",
    "SPACs_df['IS_SPAC'] = 1\n",
    "# SPACs_df"
   ]
  },
  {
   "cell_type": "code",
   "execution_count": null,
   "metadata": {},
   "outputs": [
    {
     "name": "stderr",
     "output_type": "stream",
     "text": [
      "C:\\Users\\ziggy\\AppData\\Local\\Temp\\ipykernel_7036\\1148126979.py:1: DtypeWarning: Columns (5,7,8,10,25,27,32,41,45) have mixed types. Specify dtype option on import or set low_memory=False.\n",
      "  ipoAndCCM = pd.read_csv('inputs/correctmerge.csv')\n"
     ]
    }
   ],
   "source": [
    "ipoAndCCM = pd.read_csv('inputs/correctmerge.csv')\n",
    "cleaned_spacs = pd.read_csv('inputs/CCM_Cusip.csv')"
   ]
  },
  {
   "cell_type": "code",
   "execution_count": null,
   "metadata": {},
   "outputs": [],
   "source": [
    "cleaned_spacs['IS_SPAC'] = 1\n",
    "ziggymerge = pd.merge(left= ipoAndCCM, right= cleaned_spacs, how='left', left_on='cusip', right_on='ccm_cusip')\n",
    "ziggymerge.to_csv('inputs/finalforrealmerge.csv')"
   ]
  }
 ],
 "metadata": {
  "kernelspec": {
   "display_name": "base",
   "language": "python",
   "name": "python3"
  },
  "language_info": {
   "codemirror_mode": {
    "name": "ipython",
    "version": 3
   },
   "file_extension": ".py",
   "mimetype": "text/x-python",
   "name": "python",
   "nbconvert_exporter": "python",
   "pygments_lexer": "ipython3",
   "version": "3.11.5"
  }
 },
 "nbformat": 4,
 "nbformat_minor": 2
}
